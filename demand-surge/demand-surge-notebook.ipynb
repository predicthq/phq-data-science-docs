{
 "cells": [
  {
   "cell_type": "markdown",
   "id": "hungarian-stockholm",
   "metadata": {},
   "source": [
    "<a href=\"https://colab.research.google.com/github/predicthq/phq-data-science-docs/blob/master/demand-surge/demand-surge-notebook.ipynb\" target=\"_blank\"><img src=\"https://colab.research.google.com/assets/colab-badge.svg\" alt=\"Open In Colab\"/></a>"
   ]
  },
  {
   "cell_type": "markdown",
   "id": "unique-significance",
   "metadata": {},
   "source": [
    "# Demand surges\n",
    "Demand surges reflect an unusual increase in daily event impact for a location and date range. In this notebook, we use the [Features API](https://docs.predicthq.com/datascience/features-api/) to scan and identify potential surge or outlier dates by looking at the total daily attendance of [Attended Events](https://docs.predicthq.com/categoryinfo/attended-events/). Surge dates are defined as dates where the total daily attendance value is more than 3 standard deviations away from the mean (for a location and date range). If one or more surge dates are identified, the total daily attendance and examples of top events are returned per date. Running the notebook is simple and only requires a location, date range and Access Token."
   ]
  },
  {
   "cell_type": "markdown",
   "id": "dressed-advice",
   "metadata": {},
   "source": [
    "# Sections\n",
    "* [Setup](#setup)\n",
    "* [Getting started](#getting-started)\n",
    "* [Map of location](#map-of-location)\n",
    "* [Features API](#features-api)\n",
    "* [Outlier days](#outlier-days)\n",
    "* [Events API](#events-api)"
   ]
  },
  {
   "cell_type": "markdown",
   "id": "marked-reach",
   "metadata": {},
   "source": [
    "# Setup <a class=\"anchor\" id=\"setup\"></a>\n",
    "If using Google Colab uncomment the following code block."
   ]
  },
  {
   "cell_type": "code",
   "execution_count": 1,
   "id": "adopted-italian",
   "metadata": {
    "collapsed": false,
    "jupyter": {
     "outputs_hidden": false
    },
    "pycharm": {
     "name": "#%%\n"
    }
   },
   "outputs": [],
   "source": [
    "# %%capture\n",
    "# !git clone https://github.com/predicthq/phq-data-science-docs.git\n",
    "# %cd phq-data-science-docs/demand-surge\n",
    "# !pip install predicthq==1.9.0 timezonefinder==5.2.0 pyjanitor==0.21.2 tonyg-rfc3339==0.1 plotly-express==0.4.1 plotly==5.3.1 folium==0.12.1"
   ]
  },
  {
   "cell_type": "markdown",
   "id": "boolean-address",
   "metadata": {},
   "source": [
    "\n",
    "If running locally, configure the required dependencies in your Python environment by using the [requirements.txt](https://github.com/predicthq/phq-data-science-docs/blob/master/demand-surge/requirements.txt) file which is shared alongside the notebook.\n",
    "\n",
    "These requirements can be installed by runing the command `pip install -r requirements.txt`\n"
   ]
  },
  {
   "cell_type": "code",
   "execution_count": 2,
   "id": "greek-nitrogen",
   "metadata": {
    "tags": []
   },
   "outputs": [],
   "source": [
    "import datetime\n",
    "import json\n",
    "from datetime import timedelta\n",
    "from itertools import chain\n",
    "\n",
    "import folium\n",
    "import numpy as np\n",
    "import pandas as pd\n",
    "import plotly_express as px\n",
    "import pytz\n",
    "import requests\n",
    "import rfc3339\n",
    "from IPython.display import display\n",
    "from janitor import clean_names\n",
    "from predicthq import Client\n",
    "from timezonefinder import TimezoneFinder\n",
    "from tqdm.notebook import tqdm\n"
   ]
  },
  {
   "cell_type": "code",
   "execution_count": 3,
   "id": "retired-favorite",
   "metadata": {},
   "outputs": [],
   "source": [
    "pd.set_option(\"display.max_columns\", None)"
   ]
  },
  {
   "cell_type": "markdown",
   "id": "cleared-hamburg",
   "metadata": {},
   "source": [
    "# Getting started <a class=\"anchor\" id=\"getting-started\"></a>"
   ]
  },
  {
   "cell_type": "markdown",
   "id": "noble-process",
   "metadata": {},
   "source": [
    "## Access Token"
   ]
  },
  {
   "cell_type": "markdown",
   "id": "handled-hospital",
   "metadata": {
    "pycharm": {
     "name": "#%% md\n"
    }
   },
   "source": [
    "An Access Token is required to query the API.\n",
    "\n",
    "The following link will guide you through creating an account and an access token.\n",
    "\n",
    " - https://docs.predicthq.com/guides/quickstart/\n",
    "\n",
    "Please update `ACCESS_TOKEN` to query the Features API, Events API and Places API."
   ]
  },
  {
   "cell_type": "code",
   "execution_count": 4,
   "id": "stretch-delaware",
   "metadata": {},
   "outputs": [],
   "source": [
    "ACCESS_TOKEN = \"ACCESS_TOKEN\" # replace with own access token\n",
    "phq = Client(access_token=ACCESS_TOKEN)"
   ]
  },
  {
   "cell_type": "markdown",
   "id": "capital-scotland",
   "metadata": {},
   "source": [
    "## Finding `place_id` (optional)"
   ]
  },
  {
   "cell_type": "markdown",
   "id": "spread-rouge",
   "metadata": {},
   "source": [
    "The location can be specified using either `latitude`, `longitude` and `radius` or `place_id`. The following call to the Places API can help you find the correct `place_id` given a location name. More information (including links to `country_alpha2` codes) can be found in the [Places Technical Documentation](https://docs.predicthq.com/resources/places/). "
   ]
  },
  {
   "cell_type": "code",
   "execution_count": 5,
   "id": "graduate-uzbekistan",
   "metadata": {},
   "outputs": [
    {
     "name": "stdout",
     "output_type": "stream",
     "text": [
      "2643743 United Kingdom England London locality [-0.12574, 51.50853]\n",
      "2648110 United Kingdom England Greater London county [-0.16667, 51.5]\n",
      "2643741 United Kingdom England City of London locality [-0.09184, 51.51279]\n"
     ]
    }
   ],
   "source": [
    "for place in [p for p in phq.places.search(q=\"London\") if p.country_alpha2 == \"GB\"]:\n",
    "    print(\n",
    "        place.id,\n",
    "        place.country,\n",
    "        place.region,\n",
    "        place.name,\n",
    "        place.type,\n",
    "        place.location,\n",
    "    )"
   ]
  },
  {
   "cell_type": "markdown",
   "id": "fallen-chicken",
   "metadata": {},
   "source": [
    "## Parameters"
   ]
  },
  {
   "cell_type": "markdown",
   "id": "unlikely-riding",
   "metadata": {},
   "source": [
    "Please complete the following steps before running the notebook:\n",
    "1. Update the search date range parameters (the recommended search date range is 90 days; the recommended maximum is N days)\n",
    "2. Update the location parameters, setting `LOCATION_SETTING` to either `place_id` or `lat/lon`\n",
    "    1. If `LOCATION_SETTING` is `place_id`, update `place_id` \n",
    "    2. If `LOCATION_SETTING` is `lat/lon`, update `latitude`, `longitude`, `radius` and `radius_unit` "
   ]
  },
  {
   "cell_type": "code",
   "execution_count": 6,
   "id": "shaped-drinking",
   "metadata": {},
   "outputs": [],
   "source": [
    "# search date range parameters\n",
    "start = \"2021-05-12\"  # replace start\n",
    "n_days = 89  # replace number of days"
   ]
  },
  {
   "cell_type": "code",
   "execution_count": 7,
   "id": "center-omaha",
   "metadata": {},
   "outputs": [],
   "source": [
    "# location parameters\n",
    "LOCATION_SETTING = \"place_id\"  # set to \"lat/lon\" or \"place_id\"\n",
    "\n",
    "# if LOCATION_SETTING is lat/lon, update latitude, longitude, radius and radius_unit (otherwise set as None)\n",
    "# radius should be an integer; supported radius units: \"km\", \"mi\", \"m\"\n",
    "# example: 51.50853, -0.12574, 20, \"km\"\n",
    "latitude = None\n",
    "longitude = None\n",
    "radius = None\n",
    "radius_unit = None\n",
    "\n",
    "# if LOCATION_SETTING is place_id, update place_id (otherwise set as None)\n",
    "place_id = 2643743\n",
    "\n",
    "if LOCATION_SETTING == \"place_id\":\n",
    "    location = phq.places.search(id=2643743).results[0].location\n",
    "    latitude = location[1]\n",
    "    longitude = location[0]"
   ]
  },
  {
   "cell_type": "markdown",
   "id": "welsh-reggae",
   "metadata": {},
   "source": [
    "# Map of location <a class=\"anchor\" id=\"map-of-location\"></a>"
   ]
  },
  {
   "cell_type": "code",
   "execution_count": 8,
   "id": "ahead-python",
   "metadata": {},
   "outputs": [
    {
     "data": {
      "text/html": [
       "<iframe src=\"about:blank\" width=\"1300\" height=\"450\"style=\"border:none !important;\" data-html=%3C%21DOCTYPE%20html%3E%0A%3Chead%3E%20%20%20%20%0A%20%20%20%20%3Cmeta%20http-equiv%3D%22content-type%22%20content%3D%22text/html%3B%20charset%3DUTF-8%22%20/%3E%0A%20%20%20%20%0A%20%20%20%20%20%20%20%20%3Cscript%3E%0A%20%20%20%20%20%20%20%20%20%20%20%20L_NO_TOUCH%20%3D%20false%3B%0A%20%20%20%20%20%20%20%20%20%20%20%20L_DISABLE_3D%20%3D%20false%3B%0A%20%20%20%20%20%20%20%20%3C/script%3E%0A%20%20%20%20%0A%20%20%20%20%3Cstyle%3Ehtml%2C%20body%20%7Bwidth%3A%20100%25%3Bheight%3A%20100%25%3Bmargin%3A%200%3Bpadding%3A%200%3B%7D%3C/style%3E%0A%20%20%20%20%3Cstyle%3E%23map%20%7Bposition%3Aabsolute%3Btop%3A0%3Bbottom%3A0%3Bright%3A0%3Bleft%3A0%3B%7D%3C/style%3E%0A%20%20%20%20%3Cscript%20src%3D%22https%3A//cdn.jsdelivr.net/npm/leaflet%401.6.0/dist/leaflet.js%22%3E%3C/script%3E%0A%20%20%20%20%3Cscript%20src%3D%22https%3A//code.jquery.com/jquery-1.12.4.min.js%22%3E%3C/script%3E%0A%20%20%20%20%3Cscript%20src%3D%22https%3A//maxcdn.bootstrapcdn.com/bootstrap/3.2.0/js/bootstrap.min.js%22%3E%3C/script%3E%0A%20%20%20%20%3Cscript%20src%3D%22https%3A//cdnjs.cloudflare.com/ajax/libs/Leaflet.awesome-markers/2.0.2/leaflet.awesome-markers.js%22%3E%3C/script%3E%0A%20%20%20%20%3Clink%20rel%3D%22stylesheet%22%20href%3D%22https%3A//cdn.jsdelivr.net/npm/leaflet%401.6.0/dist/leaflet.css%22/%3E%0A%20%20%20%20%3Clink%20rel%3D%22stylesheet%22%20href%3D%22https%3A//maxcdn.bootstrapcdn.com/bootstrap/3.2.0/css/bootstrap.min.css%22/%3E%0A%20%20%20%20%3Clink%20rel%3D%22stylesheet%22%20href%3D%22https%3A//maxcdn.bootstrapcdn.com/bootstrap/3.2.0/css/bootstrap-theme.min.css%22/%3E%0A%20%20%20%20%3Clink%20rel%3D%22stylesheet%22%20href%3D%22https%3A//maxcdn.bootstrapcdn.com/font-awesome/4.6.3/css/font-awesome.min.css%22/%3E%0A%20%20%20%20%3Clink%20rel%3D%22stylesheet%22%20href%3D%22https%3A//cdnjs.cloudflare.com/ajax/libs/Leaflet.awesome-markers/2.0.2/leaflet.awesome-markers.css%22/%3E%0A%20%20%20%20%3Clink%20rel%3D%22stylesheet%22%20href%3D%22https%3A//cdn.jsdelivr.net/gh/python-visualization/folium/folium/templates/leaflet.awesome.rotate.min.css%22/%3E%0A%20%20%20%20%0A%20%20%20%20%20%20%20%20%20%20%20%20%3Cmeta%20name%3D%22viewport%22%20content%3D%22width%3Ddevice-width%2C%0A%20%20%20%20%20%20%20%20%20%20%20%20%20%20%20%20initial-scale%3D1.0%2C%20maximum-scale%3D1.0%2C%20user-scalable%3Dno%22%20/%3E%0A%20%20%20%20%20%20%20%20%20%20%20%20%3Cstyle%3E%0A%20%20%20%20%20%20%20%20%20%20%20%20%20%20%20%20%23map_13be1375e6c941829cb91f856e93a2bf%20%7B%0A%20%20%20%20%20%20%20%20%20%20%20%20%20%20%20%20%20%20%20%20position%3A%20relative%3B%0A%20%20%20%20%20%20%20%20%20%20%20%20%20%20%20%20%20%20%20%20width%3A%20100.0%25%3B%0A%20%20%20%20%20%20%20%20%20%20%20%20%20%20%20%20%20%20%20%20height%3A%20100.0%25%3B%0A%20%20%20%20%20%20%20%20%20%20%20%20%20%20%20%20%20%20%20%20left%3A%200.0%25%3B%0A%20%20%20%20%20%20%20%20%20%20%20%20%20%20%20%20%20%20%20%20top%3A%200.0%25%3B%0A%20%20%20%20%20%20%20%20%20%20%20%20%20%20%20%20%7D%0A%20%20%20%20%20%20%20%20%20%20%20%20%3C/style%3E%0A%20%20%20%20%20%20%20%20%0A%3C/head%3E%0A%3Cbody%3E%20%20%20%20%0A%20%20%20%20%0A%20%20%20%20%20%20%20%20%20%20%20%20%3Cdiv%20class%3D%22folium-map%22%20id%3D%22map_13be1375e6c941829cb91f856e93a2bf%22%20%3E%3C/div%3E%0A%20%20%20%20%20%20%20%20%0A%3C/body%3E%0A%3Cscript%3E%20%20%20%20%0A%20%20%20%20%0A%20%20%20%20%20%20%20%20%20%20%20%20var%20map_13be1375e6c941829cb91f856e93a2bf%20%3D%20L.map%28%0A%20%20%20%20%20%20%20%20%20%20%20%20%20%20%20%20%22map_13be1375e6c941829cb91f856e93a2bf%22%2C%0A%20%20%20%20%20%20%20%20%20%20%20%20%20%20%20%20%7B%0A%20%20%20%20%20%20%20%20%20%20%20%20%20%20%20%20%20%20%20%20center%3A%20%5B51.50853%2C%20-0.12574%5D%2C%0A%20%20%20%20%20%20%20%20%20%20%20%20%20%20%20%20%20%20%20%20crs%3A%20L.CRS.EPSG3857%2C%0A%20%20%20%20%20%20%20%20%20%20%20%20%20%20%20%20%20%20%20%20zoom%3A%209%2C%0A%20%20%20%20%20%20%20%20%20%20%20%20%20%20%20%20%20%20%20%20zoomControl%3A%20true%2C%0A%20%20%20%20%20%20%20%20%20%20%20%20%20%20%20%20%20%20%20%20preferCanvas%3A%20false%2C%0A%20%20%20%20%20%20%20%20%20%20%20%20%20%20%20%20%7D%0A%20%20%20%20%20%20%20%20%20%20%20%20%29%3B%0A%0A%20%20%20%20%20%20%20%20%20%20%20%20%0A%0A%20%20%20%20%20%20%20%20%0A%20%20%20%20%0A%20%20%20%20%20%20%20%20%20%20%20%20var%20tile_layer_363d0492b8fb411d9b58176e0812cef4%20%3D%20L.tileLayer%28%0A%20%20%20%20%20%20%20%20%20%20%20%20%20%20%20%20%22https%3A//%7Bs%7D.tile.openstreetmap.org/%7Bz%7D/%7Bx%7D/%7By%7D.png%22%2C%0A%20%20%20%20%20%20%20%20%20%20%20%20%20%20%20%20%7B%22attribution%22%3A%20%22Data%20by%20%5Cu0026copy%3B%20%5Cu003ca%20href%3D%5C%22http%3A//openstreetmap.org%5C%22%5Cu003eOpenStreetMap%5Cu003c/a%5Cu003e%2C%20under%20%5Cu003ca%20href%3D%5C%22http%3A//www.openstreetmap.org/copyright%5C%22%5Cu003eODbL%5Cu003c/a%5Cu003e.%22%2C%20%22detectRetina%22%3A%20false%2C%20%22maxNativeZoom%22%3A%2018%2C%20%22maxZoom%22%3A%2018%2C%20%22minZoom%22%3A%200%2C%20%22noWrap%22%3A%20false%2C%20%22opacity%22%3A%201%2C%20%22subdomains%22%3A%20%22abc%22%2C%20%22tms%22%3A%20false%7D%0A%20%20%20%20%20%20%20%20%20%20%20%20%29.addTo%28map_13be1375e6c941829cb91f856e93a2bf%29%3B%0A%20%20%20%20%20%20%20%20%0A%20%20%20%20%0A%20%20%20%20%20%20%20%20%20%20%20%20var%20marker_eafb3b1ac5304663a8b52da28bb71e87%20%3D%20L.marker%28%0A%20%20%20%20%20%20%20%20%20%20%20%20%20%20%20%20%5B51.50853%2C%20-0.12574%5D%2C%0A%20%20%20%20%20%20%20%20%20%20%20%20%20%20%20%20%7B%7D%0A%20%20%20%20%20%20%20%20%20%20%20%20%29.addTo%28map_13be1375e6c941829cb91f856e93a2bf%29%3B%0A%20%20%20%20%20%20%20%20%0A%3C/script%3E onload=\"this.contentDocument.open();this.contentDocument.write(    decodeURIComponent(this.getAttribute('data-html')));this.contentDocument.close();\" \"allowfullscreen\" \"webkitallowfullscreen\" \"mozallowfullscreen\"></iframe>"
      ],
      "text/plain": [
       "<branca.element.Figure at 0x12b837a90>"
      ]
     },
     "execution_count": 8,
     "metadata": {},
     "output_type": "execute_result"
    }
   ],
   "source": [
    "f = folium.Figure(width=1300, height=450)\n",
    "\n",
    "m = folium.Map(location=[latitude, longitude], zoom_start=9)\n",
    "\n",
    "folium.Marker(\n",
    "    [latitude, longitude],\n",
    ").add_to(m)\n",
    "\n",
    "if LOCATION_SETTING == \"lat/lon\":\n",
    "\n",
    "    if radius_unit == \"km\":\n",
    "        multiplier = 1000\n",
    "    elif radius_unit == \"m\":\n",
    "        multiplier = 1\n",
    "    elif radius_unit == \"mi\":\n",
    "        multiplier = 1609\n",
    "\n",
    "    folium.Circle(\n",
    "        radius=radius * multiplier,\n",
    "        location=[latitude, longitude],\n",
    "        popup=\"The Waterfront\",\n",
    "        color=\"black\",\n",
    "        fill=False,\n",
    "    ).add_to(m)\n",
    "\n",
    "f.add_child(m)\n",
    "\n",
    "f"
   ]
  },
  {
   "cell_type": "markdown",
   "id": "expensive-repair",
   "metadata": {},
   "source": [
    "# Features API <a class=\"anchor\" id=\"features-api\"></a>"
   ]
  },
  {
   "cell_type": "code",
   "execution_count": 9,
   "id": "metric-earthquake",
   "metadata": {},
   "outputs": [],
   "source": [
    "# Define helpers\n",
    "format_date = lambda x: x.strftime('%Y-%m-%d')\n",
    "parse_date = lambda x: rfc3339.parse_date(x)"
   ]
  },
  {
   "cell_type": "markdown",
   "id": "precious-sperm",
   "metadata": {},
   "source": [
    "## Features API stats"
   ]
  },
  {
   "cell_type": "code",
   "execution_count": 10,
   "id": "minimal-wings",
   "metadata": {},
   "outputs": [],
   "source": [
    "headers = {\n",
    "    \"Content-Type\": \"application/json\",\n",
    "    \"Accept\": \"application/json\",\n",
    "    \"Authorization\": f\"Bearer {ACCESS_TOKEN}\",\n",
    "}\n",
    "\n",
    "url = \"https://api.predicthq.com/v1/features\"\n",
    "\n",
    "if LOCATION_SETTING == \"place_id\":\n",
    "    location = {\"place_id\": [place_id]}\n",
    "elif LOCATION_SETTING == \"lat/lon\":\n",
    "    location = {\"geo\": {\"lat\": latitude, \"lon\": longitude, \"radius\": f\"{radius}{radius_unit}\"}}\n",
    "\n",
    "features_api_query_params = {\n",
    "    \"location\": location,\n",
    "    \"phq_attendance_sports\": {\"stats\": [\"sum\", \"count\"], \"phq_rank\": {\"gt\": 0}},\n",
    "    \"phq_attendance_conferences\": {\"stats\": [\"sum\", \"count\"], \"phq_rank\": {\"gt\": 0}},\n",
    "    \"phq_attendance_expos\": {\"stats\": [\"sum\", \"count\"], \"phq_rank\": {\"gt\": 0}},\n",
    "    \"phq_attendance_concerts\": {\"stats\": [\"sum\", \"count\"], \"phq_rank\": {\"gt\": 0}},\n",
    "    \"phq_attendance_festivals\": {\"stats\": [\"sum\", \"count\"], \"phq_rank\": {\"gt\": 0}},\n",
    "    \"phq_attendance_performing_arts\": {\n",
    "        \"stats\": [\"sum\", \"count\"],\n",
    "        \"phq_rank\": {\"gt\": 0},\n",
    "    },\n",
    "    \"phq_attendance_community\": {\"stats\": [\"sum\", \"count\"], \"phq_rank\": {\"gt\": 0}},\n",
    "}\n"
   ]
  },
  {
   "cell_type": "code",
   "execution_count": 11,
   "id": "clinical-olympus",
   "metadata": {},
   "outputs": [
    {
     "data": {
      "application/vnd.jupyter.widget-view+json": {
       "model_id": "16b87c863a6248dfae2bcc0563065fc0",
       "version_major": 2,
       "version_minor": 0
      },
      "text/plain": [
       "Calls to Features API:   0%|          | 0/1 [00:00<?, ?calls/s]"
      ]
     },
     "metadata": {},
     "output_type": "display_data"
    },
    {
     "name": "stdout",
     "output_type": "stream",
     "text": [
      "Dates of interest are from 2021-05-12 to 2021-08-09\n"
     ]
    }
   ],
   "source": [
    "# Chunk Features API calls into 90-day ranges\n",
    "query_date_ranges = []\n",
    "start_date = parse_date(start)\n",
    "end_date = start_date + timedelta(days=n_days)\n",
    "start_ref = start_date\n",
    "while start_ref + timedelta(days=90) < end_date:\n",
    "    query_date_ranges.append({\"start\": format_date(start_ref), \"end\": format_date(start_ref + timedelta(days=90))})\n",
    "    start_ref = start_ref + timedelta(days=91)\n",
    "query_date_ranges.append({\"start\": format_date(start_ref), \"end\": format_date(end_date)})\n",
    "\n",
    "df_chunks = []\n",
    "for date_range in tqdm(query_date_ranges, desc=\"Calls to Features API\", unit=\"calls\"):\n",
    "    payload = {\"active\": {\"gte\": date_range[\"start\"], \"lte\": date_range[\"end\"]}, **features_api_query_params}\n",
    "    response = requests.request(\"POST\", url, headers=headers, json=payload)\n",
    "\n",
    "    chunk_json = pd.DataFrame.from_dict(response.json()[\"results\"]).to_json(orient=\"records\")\n",
    "    df_chunk = pd.json_normalize(json.loads(chunk_json))\n",
    "    df_chunks.append(df_chunk)\n",
    "\n",
    "# Combine chunks into a single dataframe\n",
    "df = pd.concat(df_chunks)\n",
    "df = clean_names(df)\n",
    "df[\"date\"] = pd.to_datetime(df[\"date\"]).dt.date\n",
    "df = df.set_index(\"date\")\n",
    "\n",
    "df[\"phq_attendance_stats_sum\"] = df.filter(regex=\"sum\").sum(axis=1)\n",
    "df[\"phq_attendance_stats_count\"] = df.filter(regex=\"count\").sum(axis=1)\n",
    "\n",
    "print(\"Dates of interest are from {} to {}\".format(start_date, end_date))\n"
   ]
  },
  {
   "cell_type": "code",
   "execution_count": 12,
   "id": "reflected-austria",
   "metadata": {},
   "outputs": [
    {
     "data": {
      "text/html": [
       "<div>\n",
       "<style scoped>\n",
       "    .dataframe tbody tr th:only-of-type {\n",
       "        vertical-align: middle;\n",
       "    }\n",
       "\n",
       "    .dataframe tbody tr th {\n",
       "        vertical-align: top;\n",
       "    }\n",
       "\n",
       "    .dataframe thead th {\n",
       "        text-align: right;\n",
       "    }\n",
       "</style>\n",
       "<table border=\"1\" class=\"dataframe\">\n",
       "  <thead>\n",
       "    <tr style=\"text-align: right;\">\n",
       "      <th></th>\n",
       "      <th>phq_attendance_community_stats_count</th>\n",
       "      <th>phq_attendance_community_stats_sum</th>\n",
       "      <th>phq_attendance_concerts_stats_count</th>\n",
       "      <th>phq_attendance_concerts_stats_sum</th>\n",
       "      <th>phq_attendance_conferences_stats_count</th>\n",
       "      <th>phq_attendance_conferences_stats_sum</th>\n",
       "      <th>phq_attendance_expos_stats_count</th>\n",
       "      <th>phq_attendance_expos_stats_sum</th>\n",
       "      <th>phq_attendance_festivals_stats_count</th>\n",
       "      <th>phq_attendance_festivals_stats_sum</th>\n",
       "      <th>phq_attendance_performing_arts_stats_count</th>\n",
       "      <th>phq_attendance_performing_arts_stats_sum</th>\n",
       "      <th>phq_attendance_sports_stats_count</th>\n",
       "      <th>phq_attendance_sports_stats_sum</th>\n",
       "      <th>phq_attendance_stats_sum</th>\n",
       "      <th>phq_attendance_stats_count</th>\n",
       "    </tr>\n",
       "    <tr>\n",
       "      <th>date</th>\n",
       "      <th></th>\n",
       "      <th></th>\n",
       "      <th></th>\n",
       "      <th></th>\n",
       "      <th></th>\n",
       "      <th></th>\n",
       "      <th></th>\n",
       "      <th></th>\n",
       "      <th></th>\n",
       "      <th></th>\n",
       "      <th></th>\n",
       "      <th></th>\n",
       "      <th></th>\n",
       "      <th></th>\n",
       "      <th></th>\n",
       "      <th></th>\n",
       "    </tr>\n",
       "  </thead>\n",
       "  <tbody>\n",
       "    <tr>\n",
       "      <th>2021-05-12</th>\n",
       "      <td>1</td>\n",
       "      <td>6</td>\n",
       "      <td>0</td>\n",
       "      <td>0</td>\n",
       "      <td>1</td>\n",
       "      <td>100</td>\n",
       "      <td>0</td>\n",
       "      <td>0</td>\n",
       "      <td>0</td>\n",
       "      <td>0</td>\n",
       "      <td>0</td>\n",
       "      <td>0</td>\n",
       "      <td>1</td>\n",
       "      <td>316</td>\n",
       "      <td>422</td>\n",
       "      <td>3</td>\n",
       "    </tr>\n",
       "    <tr>\n",
       "      <th>2021-05-13</th>\n",
       "      <td>0</td>\n",
       "      <td>0</td>\n",
       "      <td>2</td>\n",
       "      <td>600</td>\n",
       "      <td>0</td>\n",
       "      <td>0</td>\n",
       "      <td>0</td>\n",
       "      <td>0</td>\n",
       "      <td>0</td>\n",
       "      <td>0</td>\n",
       "      <td>0</td>\n",
       "      <td>0</td>\n",
       "      <td>0</td>\n",
       "      <td>0</td>\n",
       "      <td>600</td>\n",
       "      <td>2</td>\n",
       "    </tr>\n",
       "    <tr>\n",
       "      <th>2021-05-14</th>\n",
       "      <td>1</td>\n",
       "      <td>123</td>\n",
       "      <td>4</td>\n",
       "      <td>1150</td>\n",
       "      <td>0</td>\n",
       "      <td>0</td>\n",
       "      <td>0</td>\n",
       "      <td>0</td>\n",
       "      <td>0</td>\n",
       "      <td>0</td>\n",
       "      <td>0</td>\n",
       "      <td>0</td>\n",
       "      <td>0</td>\n",
       "      <td>0</td>\n",
       "      <td>1273</td>\n",
       "      <td>5</td>\n",
       "    </tr>\n",
       "    <tr>\n",
       "      <th>2021-05-15</th>\n",
       "      <td>2</td>\n",
       "      <td>334</td>\n",
       "      <td>7</td>\n",
       "      <td>1750</td>\n",
       "      <td>0</td>\n",
       "      <td>0</td>\n",
       "      <td>0</td>\n",
       "      <td>0</td>\n",
       "      <td>0</td>\n",
       "      <td>0</td>\n",
       "      <td>0</td>\n",
       "      <td>0</td>\n",
       "      <td>3</td>\n",
       "      <td>21616</td>\n",
       "      <td>23700</td>\n",
       "      <td>12</td>\n",
       "    </tr>\n",
       "    <tr>\n",
       "      <th>2021-05-16</th>\n",
       "      <td>3</td>\n",
       "      <td>250</td>\n",
       "      <td>5</td>\n",
       "      <td>1325</td>\n",
       "      <td>0</td>\n",
       "      <td>0</td>\n",
       "      <td>0</td>\n",
       "      <td>0</td>\n",
       "      <td>1</td>\n",
       "      <td>47</td>\n",
       "      <td>0</td>\n",
       "      <td>0</td>\n",
       "      <td>4</td>\n",
       "      <td>1264</td>\n",
       "      <td>2886</td>\n",
       "      <td>13</td>\n",
       "    </tr>\n",
       "  </tbody>\n",
       "</table>\n",
       "</div>"
      ],
      "text/plain": [
       "            phq_attendance_community_stats_count  \\\n",
       "date                                               \n",
       "2021-05-12                                     1   \n",
       "2021-05-13                                     0   \n",
       "2021-05-14                                     1   \n",
       "2021-05-15                                     2   \n",
       "2021-05-16                                     3   \n",
       "\n",
       "            phq_attendance_community_stats_sum  \\\n",
       "date                                             \n",
       "2021-05-12                                   6   \n",
       "2021-05-13                                   0   \n",
       "2021-05-14                                 123   \n",
       "2021-05-15                                 334   \n",
       "2021-05-16                                 250   \n",
       "\n",
       "            phq_attendance_concerts_stats_count  \\\n",
       "date                                              \n",
       "2021-05-12                                    0   \n",
       "2021-05-13                                    2   \n",
       "2021-05-14                                    4   \n",
       "2021-05-15                                    7   \n",
       "2021-05-16                                    5   \n",
       "\n",
       "            phq_attendance_concerts_stats_sum  \\\n",
       "date                                            \n",
       "2021-05-12                                  0   \n",
       "2021-05-13                                600   \n",
       "2021-05-14                               1150   \n",
       "2021-05-15                               1750   \n",
       "2021-05-16                               1325   \n",
       "\n",
       "            phq_attendance_conferences_stats_count  \\\n",
       "date                                                 \n",
       "2021-05-12                                       1   \n",
       "2021-05-13                                       0   \n",
       "2021-05-14                                       0   \n",
       "2021-05-15                                       0   \n",
       "2021-05-16                                       0   \n",
       "\n",
       "            phq_attendance_conferences_stats_sum  \\\n",
       "date                                               \n",
       "2021-05-12                                   100   \n",
       "2021-05-13                                     0   \n",
       "2021-05-14                                     0   \n",
       "2021-05-15                                     0   \n",
       "2021-05-16                                     0   \n",
       "\n",
       "            phq_attendance_expos_stats_count  phq_attendance_expos_stats_sum  \\\n",
       "date                                                                           \n",
       "2021-05-12                                 0                               0   \n",
       "2021-05-13                                 0                               0   \n",
       "2021-05-14                                 0                               0   \n",
       "2021-05-15                                 0                               0   \n",
       "2021-05-16                                 0                               0   \n",
       "\n",
       "            phq_attendance_festivals_stats_count  \\\n",
       "date                                               \n",
       "2021-05-12                                     0   \n",
       "2021-05-13                                     0   \n",
       "2021-05-14                                     0   \n",
       "2021-05-15                                     0   \n",
       "2021-05-16                                     1   \n",
       "\n",
       "            phq_attendance_festivals_stats_sum  \\\n",
       "date                                             \n",
       "2021-05-12                                   0   \n",
       "2021-05-13                                   0   \n",
       "2021-05-14                                   0   \n",
       "2021-05-15                                   0   \n",
       "2021-05-16                                  47   \n",
       "\n",
       "            phq_attendance_performing_arts_stats_count  \\\n",
       "date                                                     \n",
       "2021-05-12                                           0   \n",
       "2021-05-13                                           0   \n",
       "2021-05-14                                           0   \n",
       "2021-05-15                                           0   \n",
       "2021-05-16                                           0   \n",
       "\n",
       "            phq_attendance_performing_arts_stats_sum  \\\n",
       "date                                                   \n",
       "2021-05-12                                         0   \n",
       "2021-05-13                                         0   \n",
       "2021-05-14                                         0   \n",
       "2021-05-15                                         0   \n",
       "2021-05-16                                         0   \n",
       "\n",
       "            phq_attendance_sports_stats_count  \\\n",
       "date                                            \n",
       "2021-05-12                                  1   \n",
       "2021-05-13                                  0   \n",
       "2021-05-14                                  0   \n",
       "2021-05-15                                  3   \n",
       "2021-05-16                                  4   \n",
       "\n",
       "            phq_attendance_sports_stats_sum  phq_attendance_stats_sum  \\\n",
       "date                                                                    \n",
       "2021-05-12                              316                       422   \n",
       "2021-05-13                                0                       600   \n",
       "2021-05-14                                0                      1273   \n",
       "2021-05-15                            21616                     23700   \n",
       "2021-05-16                             1264                      2886   \n",
       "\n",
       "            phq_attendance_stats_count  \n",
       "date                                    \n",
       "2021-05-12                           3  \n",
       "2021-05-13                           2  \n",
       "2021-05-14                           5  \n",
       "2021-05-15                          12  \n",
       "2021-05-16                          13  "
      ]
     },
     "execution_count": 12,
     "metadata": {},
     "output_type": "execute_result"
    }
   ],
   "source": [
    "df.head()"
   ]
  },
  {
   "cell_type": "markdown",
   "id": "stretch-assignment",
   "metadata": {},
   "source": [
    "# Outlier days <a class=\"anchor\" id=\"outlier-days\"></a>"
   ]
  },
  {
   "cell_type": "code",
   "execution_count": 13,
   "id": "productive-cargo",
   "metadata": {},
   "outputs": [],
   "source": [
    "def get_distn_stats(df, col=\"phq_attendance_stats_sum\"):\n",
    "\n",
    "    skew = df[col].skew()\n",
    "    kurt = df[col].kurt()\n",
    "    std = df[col].std()\n",
    "    m = df[col].mean()\n",
    "\n",
    "    return {\"skew\": skew, \"kurt\": kurt, \"std\": std, \"m\": m}"
   ]
  },
  {
   "cell_type": "code",
   "execution_count": 14,
   "id": "classified-brunswick",
   "metadata": {},
   "outputs": [],
   "source": [
    "def check_distn_tail(df, col=\"phq_attendance_stats_sum\"):\n",
    "    \"\"\"Check skewness and kurtosis of distribution based on sample\"\"\"\n",
    "\n",
    "    distn_stats = get_distn_stats(df, col)\n",
    "\n",
    "    return True if (distn_stats[\"skew\"] > 1 and distn_stats[\"kurt\"] > 0) else False"
   ]
  },
  {
   "cell_type": "code",
   "execution_count": 15,
   "id": "inside-premiere",
   "metadata": {},
   "outputs": [],
   "source": [
    "def identify_outlier_dates(df, col=\"phq_attendance_stats_sum\"):\n",
    "    \"\"\"Identify presence of outliers based on distribution\"\"\"\n",
    "\n",
    "    distn_stats = get_distn_stats(df, col)\n",
    "\n",
    "    outlier_dates_list = []\n",
    "\n",
    "    if check_distn_tail(df, col):\n",
    "\n",
    "        tmp = df.copy()\n",
    "        tmp[\"outlier\"] = np.where(\n",
    "            tmp[col] > (distn_stats[\"std\"] * 3 + distn_stats[\"m\"]),\n",
    "            True,\n",
    "            False,\n",
    "        )\n",
    "        tmp = tmp.loc[tmp[\"outlier\"] == True]\n",
    "        outlier_dates_list = tmp.index.to_list()\n",
    "\n",
    "    return outlier_dates_list"
   ]
  },
  {
   "cell_type": "markdown",
   "id": "treated-relations",
   "metadata": {},
   "source": [
    "## Detection"
   ]
  },
  {
   "cell_type": "code",
   "execution_count": 16,
   "id": "sapphire-usage",
   "metadata": {},
   "outputs": [
    {
     "name": "stdout",
     "output_type": "stream",
     "text": [
      "Outlier dates are: ['2021-08-07', '2021-08-08']\n"
     ]
    }
   ],
   "source": [
    "outlier_dates = identify_outlier_dates(df)\n",
    "\n",
    "print(\n",
    "    \"Outlier dates are: {}\".format(\n",
    "        [date.strftime(\"%Y-%m-%d\") for date in outlier_dates]\n",
    "    )\n",
    ")"
   ]
  },
  {
   "cell_type": "markdown",
   "id": "narrow-kruger",
   "metadata": {},
   "source": [
    "## Checkpoint"
   ]
  },
  {
   "cell_type": "code",
   "execution_count": 17,
   "id": "martial-gazette",
   "metadata": {},
   "outputs": [
    {
     "name": "stdout",
     "output_type": "stream",
     "text": [
      "At least one outlier day detected: please continue\n"
     ]
    }
   ],
   "source": [
    "if not outlier_dates:\n",
    "    print(\"No outlier days detected: further analyses not needed\")\n",
    "\n",
    "else:\n",
    "    print(\"At least one outlier day detected: please continue\")"
   ]
  },
  {
   "cell_type": "markdown",
   "id": "uniform-piano",
   "metadata": {
    "tags": []
   },
   "source": [
    "## Plot time series"
   ]
  },
  {
   "cell_type": "code",
   "execution_count": 18,
   "id": "distinguished-flavor",
   "metadata": {},
   "outputs": [
    {
     "data": {
      "application/vnd.plotly.v1+json": {
       "config": {
        "plotlyServerURL": "https://plot.ly"
       },
       "data": [
        {
         "hovertemplate": "category=phq_attendance_community_stats_sum<br>date=%{x}<br>daily attendance=%{y}<extra></extra>",
         "legendgroup": "phq_attendance_community_stats_sum",
         "line": {
          "color": "#636efa",
          "dash": "solid"
         },
         "marker": {
          "symbol": "circle"
         },
         "mode": "lines",
         "name": "phq_attendance_community_stats_sum",
         "orientation": "v",
         "showlegend": true,
         "type": "scatter",
         "x": [
          "2021-05-12",
          "2021-05-13",
          "2021-05-14",
          "2021-05-15",
          "2021-05-16",
          "2021-05-17",
          "2021-05-18",
          "2021-05-19",
          "2021-05-20",
          "2021-05-21",
          "2021-05-22",
          "2021-05-23",
          "2021-05-24",
          "2021-05-25",
          "2021-05-26",
          "2021-05-27",
          "2021-05-28",
          "2021-05-29",
          "2021-05-30",
          "2021-05-31",
          "2021-06-01",
          "2021-06-02",
          "2021-06-03",
          "2021-06-04",
          "2021-06-05",
          "2021-06-06",
          "2021-06-07",
          "2021-06-08",
          "2021-06-09",
          "2021-06-10",
          "2021-06-11",
          "2021-06-12",
          "2021-06-13",
          "2021-06-14",
          "2021-06-15",
          "2021-06-16",
          "2021-06-17",
          "2021-06-18",
          "2021-06-19",
          "2021-06-20",
          "2021-06-21",
          "2021-06-22",
          "2021-06-23",
          "2021-06-24",
          "2021-06-25",
          "2021-06-26",
          "2021-06-27",
          "2021-06-28",
          "2021-06-29",
          "2021-06-30",
          "2021-07-01",
          "2021-07-02",
          "2021-07-03",
          "2021-07-04",
          "2021-07-05",
          "2021-07-06",
          "2021-07-07",
          "2021-07-08",
          "2021-07-09",
          "2021-07-10",
          "2021-07-11",
          "2021-07-12",
          "2021-07-13",
          "2021-07-14",
          "2021-07-15",
          "2021-07-16",
          "2021-07-17",
          "2021-07-18",
          "2021-07-19",
          "2021-07-20",
          "2021-07-21",
          "2021-07-22",
          "2021-07-23",
          "2021-07-24",
          "2021-07-25",
          "2021-07-26",
          "2021-07-27",
          "2021-07-28",
          "2021-07-29",
          "2021-07-30",
          "2021-07-31",
          "2021-08-01",
          "2021-08-02",
          "2021-08-03",
          "2021-08-04",
          "2021-08-05",
          "2021-08-06",
          "2021-08-07",
          "2021-08-08",
          "2021-08-09"
         ],
         "xaxis": "x",
         "y": [
          6,
          0,
          123,
          334,
          250,
          368,
          243,
          593,
          713,
          2370,
          4228,
          1605,
          750,
          575,
          1695,
          1075,
          1550,
          1493,
          2162,
          350,
          425,
          325,
          1675,
          1300,
          1770,
          1650,
          750,
          225,
          1045,
          1275,
          2550,
          1091,
          2315,
          475,
          700,
          950,
          725,
          1911,
          3483,
          1050,
          775,
          2075,
          1000,
          775,
          1900,
          2249,
          1751,
          0,
          1350,
          575,
          1100,
          2350,
          1511,
          2039,
          296,
          768,
          44,
          177,
          2222,
          5634,
          2432,
          350,
          850,
          1350,
          670,
          2250,
          3550,
          2350,
          3280,
          2140,
          1032,
          1318,
          3608,
          9095,
          4589,
          50,
          1930,
          1162,
          970,
          4336,
          6055,
          2178,
          640,
          1960,
          618,
          1229,
          4147,
          5885,
          859,
          350
         ],
         "yaxis": "y"
        },
        {
         "hovertemplate": "category=phq_attendance_concerts_stats_sum<br>date=%{x}<br>daily attendance=%{y}<extra></extra>",
         "legendgroup": "phq_attendance_concerts_stats_sum",
         "line": {
          "color": "#EF553B",
          "dash": "solid"
         },
         "marker": {
          "symbol": "circle"
         },
         "mode": "lines",
         "name": "phq_attendance_concerts_stats_sum",
         "orientation": "v",
         "showlegend": true,
         "type": "scatter",
         "x": [
          "2021-05-12",
          "2021-05-13",
          "2021-05-14",
          "2021-05-15",
          "2021-05-16",
          "2021-05-17",
          "2021-05-18",
          "2021-05-19",
          "2021-05-20",
          "2021-05-21",
          "2021-05-22",
          "2021-05-23",
          "2021-05-24",
          "2021-05-25",
          "2021-05-26",
          "2021-05-27",
          "2021-05-28",
          "2021-05-29",
          "2021-05-30",
          "2021-05-31",
          "2021-06-01",
          "2021-06-02",
          "2021-06-03",
          "2021-06-04",
          "2021-06-05",
          "2021-06-06",
          "2021-06-07",
          "2021-06-08",
          "2021-06-09",
          "2021-06-10",
          "2021-06-11",
          "2021-06-12",
          "2021-06-13",
          "2021-06-14",
          "2021-06-15",
          "2021-06-16",
          "2021-06-17",
          "2021-06-18",
          "2021-06-19",
          "2021-06-20",
          "2021-06-21",
          "2021-06-22",
          "2021-06-23",
          "2021-06-24",
          "2021-06-25",
          "2021-06-26",
          "2021-06-27",
          "2021-06-28",
          "2021-06-29",
          "2021-06-30",
          "2021-07-01",
          "2021-07-02",
          "2021-07-03",
          "2021-07-04",
          "2021-07-05",
          "2021-07-06",
          "2021-07-07",
          "2021-07-08",
          "2021-07-09",
          "2021-07-10",
          "2021-07-11",
          "2021-07-12",
          "2021-07-13",
          "2021-07-14",
          "2021-07-15",
          "2021-07-16",
          "2021-07-17",
          "2021-07-18",
          "2021-07-19",
          "2021-07-20",
          "2021-07-21",
          "2021-07-22",
          "2021-07-23",
          "2021-07-24",
          "2021-07-25",
          "2021-07-26",
          "2021-07-27",
          "2021-07-28",
          "2021-07-29",
          "2021-07-30",
          "2021-07-31",
          "2021-08-01",
          "2021-08-02",
          "2021-08-03",
          "2021-08-04",
          "2021-08-05",
          "2021-08-06",
          "2021-08-07",
          "2021-08-08",
          "2021-08-09"
         ],
         "xaxis": "x",
         "y": [
          0,
          600,
          1150,
          1750,
          1325,
          360,
          6225,
          881,
          1540,
          8486,
          10657,
          7715,
          2149,
          2310,
          1960,
          5651,
          25163,
          25251,
          14151,
          8944,
          4996,
          4866,
          2660,
          6936,
          10817,
          7235,
          760,
          1860,
          2345,
          2875,
          4070,
          5881,
          2285,
          60,
          2039,
          500,
          1600,
          2474,
          5610,
          3949,
          1400,
          0,
          600,
          2950,
          3650,
          4150,
          4285,
          721,
          250,
          1100,
          1200,
          2550,
          1100,
          2035,
          1620,
          600,
          600,
          1990,
          5170,
          7485,
          2135,
          700,
          250,
          250,
          1900,
          2200,
          4970,
          4285,
          4776,
          4220,
          1064,
          4672,
          18959,
          18872,
          7224,
          2552,
          1832,
          1624,
          4612,
          16892,
          19123,
          11001,
          2880,
          232,
          1512,
          3408,
          10112,
          55711,
          49796,
          2552
         ],
         "yaxis": "y"
        },
        {
         "hovertemplate": "category=phq_attendance_conferences_stats_sum<br>date=%{x}<br>daily attendance=%{y}<extra></extra>",
         "legendgroup": "phq_attendance_conferences_stats_sum",
         "line": {
          "color": "#00cc96",
          "dash": "solid"
         },
         "marker": {
          "symbol": "circle"
         },
         "mode": "lines",
         "name": "phq_attendance_conferences_stats_sum",
         "orientation": "v",
         "showlegend": true,
         "type": "scatter",
         "x": [
          "2021-05-12",
          "2021-05-13",
          "2021-05-14",
          "2021-05-15",
          "2021-05-16",
          "2021-05-17",
          "2021-05-18",
          "2021-05-19",
          "2021-05-20",
          "2021-05-21",
          "2021-05-22",
          "2021-05-23",
          "2021-05-24",
          "2021-05-25",
          "2021-05-26",
          "2021-05-27",
          "2021-05-28",
          "2021-05-29",
          "2021-05-30",
          "2021-05-31",
          "2021-06-01",
          "2021-06-02",
          "2021-06-03",
          "2021-06-04",
          "2021-06-05",
          "2021-06-06",
          "2021-06-07",
          "2021-06-08",
          "2021-06-09",
          "2021-06-10",
          "2021-06-11",
          "2021-06-12",
          "2021-06-13",
          "2021-06-14",
          "2021-06-15",
          "2021-06-16",
          "2021-06-17",
          "2021-06-18",
          "2021-06-19",
          "2021-06-20",
          "2021-06-21",
          "2021-06-22",
          "2021-06-23",
          "2021-06-24",
          "2021-06-25",
          "2021-06-26",
          "2021-06-27",
          "2021-06-28",
          "2021-06-29",
          "2021-06-30",
          "2021-07-01",
          "2021-07-02",
          "2021-07-03",
          "2021-07-04",
          "2021-07-05",
          "2021-07-06",
          "2021-07-07",
          "2021-07-08",
          "2021-07-09",
          "2021-07-10",
          "2021-07-11",
          "2021-07-12",
          "2021-07-13",
          "2021-07-14",
          "2021-07-15",
          "2021-07-16",
          "2021-07-17",
          "2021-07-18",
          "2021-07-19",
          "2021-07-20",
          "2021-07-21",
          "2021-07-22",
          "2021-07-23",
          "2021-07-24",
          "2021-07-25",
          "2021-07-26",
          "2021-07-27",
          "2021-07-28",
          "2021-07-29",
          "2021-07-30",
          "2021-07-31",
          "2021-08-01",
          "2021-08-02",
          "2021-08-03",
          "2021-08-04",
          "2021-08-05",
          "2021-08-06",
          "2021-08-07",
          "2021-08-08",
          "2021-08-09"
         ],
         "xaxis": "x",
         "y": [
          100,
          0,
          0,
          0,
          0,
          500,
          3840,
          3851,
          2300,
          900,
          0,
          0,
          1000,
          0,
          500,
          511,
          1500,
          0,
          0,
          0,
          600,
          600,
          0,
          0,
          0,
          500,
          500,
          500,
          1600,
          2622,
          1870,
          500,
          500,
          100,
          450,
          150,
          100,
          100,
          0,
          0,
          800,
          1200,
          80,
          560,
          560,
          0,
          0,
          400,
          800,
          1528,
          1280,
          1280,
          400,
          240,
          0,
          0,
          14320,
          15370,
          15120,
          640,
          640,
          0,
          400,
          800,
          800,
          400,
          0,
          0,
          400,
          400,
          400,
          800,
          400,
          0,
          0,
          0,
          0,
          400,
          400,
          4800,
          5200,
          5200,
          400,
          400,
          400,
          400,
          400,
          400,
          400,
          400
         ],
         "yaxis": "y"
        },
        {
         "hovertemplate": "category=phq_attendance_expos_stats_sum<br>date=%{x}<br>daily attendance=%{y}<extra></extra>",
         "legendgroup": "phq_attendance_expos_stats_sum",
         "line": {
          "color": "#ab63fa",
          "dash": "solid"
         },
         "marker": {
          "symbol": "circle"
         },
         "mode": "lines",
         "name": "phq_attendance_expos_stats_sum",
         "orientation": "v",
         "showlegend": true,
         "type": "scatter",
         "x": [
          "2021-05-12",
          "2021-05-13",
          "2021-05-14",
          "2021-05-15",
          "2021-05-16",
          "2021-05-17",
          "2021-05-18",
          "2021-05-19",
          "2021-05-20",
          "2021-05-21",
          "2021-05-22",
          "2021-05-23",
          "2021-05-24",
          "2021-05-25",
          "2021-05-26",
          "2021-05-27",
          "2021-05-28",
          "2021-05-29",
          "2021-05-30",
          "2021-05-31",
          "2021-06-01",
          "2021-06-02",
          "2021-06-03",
          "2021-06-04",
          "2021-06-05",
          "2021-06-06",
          "2021-06-07",
          "2021-06-08",
          "2021-06-09",
          "2021-06-10",
          "2021-06-11",
          "2021-06-12",
          "2021-06-13",
          "2021-06-14",
          "2021-06-15",
          "2021-06-16",
          "2021-06-17",
          "2021-06-18",
          "2021-06-19",
          "2021-06-20",
          "2021-06-21",
          "2021-06-22",
          "2021-06-23",
          "2021-06-24",
          "2021-06-25",
          "2021-06-26",
          "2021-06-27",
          "2021-06-28",
          "2021-06-29",
          "2021-06-30",
          "2021-07-01",
          "2021-07-02",
          "2021-07-03",
          "2021-07-04",
          "2021-07-05",
          "2021-07-06",
          "2021-07-07",
          "2021-07-08",
          "2021-07-09",
          "2021-07-10",
          "2021-07-11",
          "2021-07-12",
          "2021-07-13",
          "2021-07-14",
          "2021-07-15",
          "2021-07-16",
          "2021-07-17",
          "2021-07-18",
          "2021-07-19",
          "2021-07-20",
          "2021-07-21",
          "2021-07-22",
          "2021-07-23",
          "2021-07-24",
          "2021-07-25",
          "2021-07-26",
          "2021-07-27",
          "2021-07-28",
          "2021-07-29",
          "2021-07-30",
          "2021-07-31",
          "2021-08-01",
          "2021-08-02",
          "2021-08-03",
          "2021-08-04",
          "2021-08-05",
          "2021-08-06",
          "2021-08-07",
          "2021-08-08",
          "2021-08-09"
         ],
         "xaxis": "x",
         "y": [
          0,
          0,
          0,
          0,
          0,
          0,
          999,
          1999,
          12999,
          500,
          0,
          0,
          0,
          0,
          0,
          0,
          0,
          0,
          0,
          0,
          0,
          0,
          0,
          0,
          0,
          0,
          0,
          0,
          500,
          500,
          0,
          0,
          0,
          0,
          3500,
          4000,
          500,
          0,
          0,
          0,
          0,
          55,
          55,
          55,
          899,
          899,
          399,
          55,
          55,
          55,
          272,
          327,
          1261,
          261,
          0,
          0,
          0,
          672,
          806,
          261,
          261,
          333,
          833,
          1012,
          179,
          547,
          547,
          547,
          0,
          0,
          0,
          0,
          0,
          0,
          0,
          0,
          3200,
          3200,
          0,
          0,
          0,
          0,
          0,
          0,
          0,
          0,
          0,
          0,
          0,
          0
         ],
         "yaxis": "y"
        },
        {
         "hovertemplate": "category=phq_attendance_festivals_stats_sum<br>date=%{x}<br>daily attendance=%{y}<extra></extra>",
         "legendgroup": "phq_attendance_festivals_stats_sum",
         "line": {
          "color": "#FFA15A",
          "dash": "solid"
         },
         "marker": {
          "symbol": "circle"
         },
         "mode": "lines",
         "name": "phq_attendance_festivals_stats_sum",
         "orientation": "v",
         "showlegend": true,
         "type": "scatter",
         "x": [
          "2021-05-12",
          "2021-05-13",
          "2021-05-14",
          "2021-05-15",
          "2021-05-16",
          "2021-05-17",
          "2021-05-18",
          "2021-05-19",
          "2021-05-20",
          "2021-05-21",
          "2021-05-22",
          "2021-05-23",
          "2021-05-24",
          "2021-05-25",
          "2021-05-26",
          "2021-05-27",
          "2021-05-28",
          "2021-05-29",
          "2021-05-30",
          "2021-05-31",
          "2021-06-01",
          "2021-06-02",
          "2021-06-03",
          "2021-06-04",
          "2021-06-05",
          "2021-06-06",
          "2021-06-07",
          "2021-06-08",
          "2021-06-09",
          "2021-06-10",
          "2021-06-11",
          "2021-06-12",
          "2021-06-13",
          "2021-06-14",
          "2021-06-15",
          "2021-06-16",
          "2021-06-17",
          "2021-06-18",
          "2021-06-19",
          "2021-06-20",
          "2021-06-21",
          "2021-06-22",
          "2021-06-23",
          "2021-06-24",
          "2021-06-25",
          "2021-06-26",
          "2021-06-27",
          "2021-06-28",
          "2021-06-29",
          "2021-06-30",
          "2021-07-01",
          "2021-07-02",
          "2021-07-03",
          "2021-07-04",
          "2021-07-05",
          "2021-07-06",
          "2021-07-07",
          "2021-07-08",
          "2021-07-09",
          "2021-07-10",
          "2021-07-11",
          "2021-07-12",
          "2021-07-13",
          "2021-07-14",
          "2021-07-15",
          "2021-07-16",
          "2021-07-17",
          "2021-07-18",
          "2021-07-19",
          "2021-07-20",
          "2021-07-21",
          "2021-07-22",
          "2021-07-23",
          "2021-07-24",
          "2021-07-25",
          "2021-07-26",
          "2021-07-27",
          "2021-07-28",
          "2021-07-29",
          "2021-07-30",
          "2021-07-31",
          "2021-08-01",
          "2021-08-02",
          "2021-08-03",
          "2021-08-04",
          "2021-08-05",
          "2021-08-06",
          "2021-08-07",
          "2021-08-08",
          "2021-08-09"
         ],
         "xaxis": "x",
         "y": [
          0,
          0,
          0,
          0,
          47,
          38,
          38,
          38,
          38,
          47,
          456,
          0,
          0,
          0,
          0,
          0,
          3000,
          0,
          3102,
          81,
          81,
          81,
          81,
          102,
          122,
          0,
          0,
          0,
          0,
          0,
          0,
          0,
          0,
          0,
          0,
          0,
          0,
          0,
          0,
          0,
          0,
          0,
          0,
          0,
          0,
          0,
          0,
          0,
          0,
          0,
          0,
          0,
          2120,
          100,
          0,
          571,
          4500,
          4500,
          5625,
          6914,
          5761,
          3929,
          3929,
          3929,
          3929,
          4911,
          5914,
          4911,
          0,
          0,
          0,
          284,
          2476,
          3662,
          1385,
          40,
          40,
          40,
          360,
          10171,
          13250,
          9161,
          4729,
          4729,
          4729,
          5049,
          8311,
          10170,
          74875,
          4729
         ],
         "yaxis": "y"
        },
        {
         "hovertemplate": "category=phq_attendance_performing_arts_stats_sum<br>date=%{x}<br>daily attendance=%{y}<extra></extra>",
         "legendgroup": "phq_attendance_performing_arts_stats_sum",
         "line": {
          "color": "#19d3f3",
          "dash": "solid"
         },
         "marker": {
          "symbol": "circle"
         },
         "mode": "lines",
         "name": "phq_attendance_performing_arts_stats_sum",
         "orientation": "v",
         "showlegend": true,
         "type": "scatter",
         "x": [
          "2021-05-12",
          "2021-05-13",
          "2021-05-14",
          "2021-05-15",
          "2021-05-16",
          "2021-05-17",
          "2021-05-18",
          "2021-05-19",
          "2021-05-20",
          "2021-05-21",
          "2021-05-22",
          "2021-05-23",
          "2021-05-24",
          "2021-05-25",
          "2021-05-26",
          "2021-05-27",
          "2021-05-28",
          "2021-05-29",
          "2021-05-30",
          "2021-05-31",
          "2021-06-01",
          "2021-06-02",
          "2021-06-03",
          "2021-06-04",
          "2021-06-05",
          "2021-06-06",
          "2021-06-07",
          "2021-06-08",
          "2021-06-09",
          "2021-06-10",
          "2021-06-11",
          "2021-06-12",
          "2021-06-13",
          "2021-06-14",
          "2021-06-15",
          "2021-06-16",
          "2021-06-17",
          "2021-06-18",
          "2021-06-19",
          "2021-06-20",
          "2021-06-21",
          "2021-06-22",
          "2021-06-23",
          "2021-06-24",
          "2021-06-25",
          "2021-06-26",
          "2021-06-27",
          "2021-06-28",
          "2021-06-29",
          "2021-06-30",
          "2021-07-01",
          "2021-07-02",
          "2021-07-03",
          "2021-07-04",
          "2021-07-05",
          "2021-07-06",
          "2021-07-07",
          "2021-07-08",
          "2021-07-09",
          "2021-07-10",
          "2021-07-11",
          "2021-07-12",
          "2021-07-13",
          "2021-07-14",
          "2021-07-15",
          "2021-07-16",
          "2021-07-17",
          "2021-07-18",
          "2021-07-19",
          "2021-07-20",
          "2021-07-21",
          "2021-07-22",
          "2021-07-23",
          "2021-07-24",
          "2021-07-25",
          "2021-07-26",
          "2021-07-27",
          "2021-07-28",
          "2021-07-29",
          "2021-07-30",
          "2021-07-31",
          "2021-08-01",
          "2021-08-02",
          "2021-08-03",
          "2021-08-04",
          "2021-08-05",
          "2021-08-06",
          "2021-08-07",
          "2021-08-08",
          "2021-08-09"
         ],
         "xaxis": "x",
         "y": [
          0,
          0,
          0,
          0,
          0,
          4251,
          4392,
          9262,
          7509,
          5930,
          15127,
          5990,
          2498,
          6308,
          12306,
          11742,
          9762,
          17132,
          7373,
          3731,
          6878,
          14554,
          13532,
          11387,
          18170,
          9199,
          3251,
          9036,
          11383,
          14136,
          10505,
          18611,
          8209,
          4475,
          7748,
          13220,
          10805,
          9922,
          19806,
          7322,
          6714,
          10083,
          16490,
          15117,
          12346,
          25271,
          7072,
          6694,
          9664,
          10543,
          8500,
          8189,
          14387,
          6042,
          1560,
          6773,
          8588,
          9588,
          9133,
          15226,
          5933,
          3152,
          6799,
          12293,
          10476,
          10351,
          16314,
          6498,
          1995,
          6422,
          13012,
          13400,
          11121,
          19428,
          12558,
          2974,
          9004,
          14794,
          17282,
          14499,
          24377,
          11269,
          5354,
          12534,
          18489,
          17651,
          14741,
          23531,
          14221,
          5598
         ],
         "yaxis": "y"
        },
        {
         "hovertemplate": "category=phq_attendance_sports_stats_sum<br>date=%{x}<br>daily attendance=%{y}<extra></extra>",
         "legendgroup": "phq_attendance_sports_stats_sum",
         "line": {
          "color": "#FF6692",
          "dash": "solid"
         },
         "marker": {
          "symbol": "circle"
         },
         "mode": "lines",
         "name": "phq_attendance_sports_stats_sum",
         "orientation": "v",
         "showlegend": true,
         "type": "scatter",
         "x": [
          "2021-05-12",
          "2021-05-13",
          "2021-05-14",
          "2021-05-15",
          "2021-05-16",
          "2021-05-17",
          "2021-05-18",
          "2021-05-19",
          "2021-05-20",
          "2021-05-21",
          "2021-05-22",
          "2021-05-23",
          "2021-05-24",
          "2021-05-25",
          "2021-05-26",
          "2021-05-27",
          "2021-05-28",
          "2021-05-29",
          "2021-05-30",
          "2021-05-31",
          "2021-06-01",
          "2021-06-02",
          "2021-06-03",
          "2021-06-04",
          "2021-06-05",
          "2021-06-06",
          "2021-06-07",
          "2021-06-08",
          "2021-06-09",
          "2021-06-10",
          "2021-06-11",
          "2021-06-12",
          "2021-06-13",
          "2021-06-14",
          "2021-06-15",
          "2021-06-16",
          "2021-06-17",
          "2021-06-18",
          "2021-06-19",
          "2021-06-20",
          "2021-06-21",
          "2021-06-22",
          "2021-06-23",
          "2021-06-24",
          "2021-06-25",
          "2021-06-26",
          "2021-06-27",
          "2021-06-28",
          "2021-06-29",
          "2021-06-30",
          "2021-07-01",
          "2021-07-02",
          "2021-07-03",
          "2021-07-04",
          "2021-07-05",
          "2021-07-06",
          "2021-07-07",
          "2021-07-08",
          "2021-07-09",
          "2021-07-10",
          "2021-07-11",
          "2021-07-12",
          "2021-07-13",
          "2021-07-14",
          "2021-07-15",
          "2021-07-16",
          "2021-07-17",
          "2021-07-18",
          "2021-07-19",
          "2021-07-20",
          "2021-07-21",
          "2021-07-22",
          "2021-07-23",
          "2021-07-24",
          "2021-07-25",
          "2021-07-26",
          "2021-07-27",
          "2021-07-28",
          "2021-07-29",
          "2021-07-30",
          "2021-07-31",
          "2021-08-01",
          "2021-08-02",
          "2021-08-03",
          "2021-08-04",
          "2021-08-05",
          "2021-08-06",
          "2021-08-07",
          "2021-08-08",
          "2021-08-09"
         ],
         "xaxis": "x",
         "y": [
          316,
          0,
          0,
          21616,
          1264,
          1031,
          7195,
          16500,
          2670,
          16778,
          23830,
          6498,
          3000,
          562,
          0,
          0,
          0,
          14370,
          11751,
          13083,
          0,
          1250,
          1250,
          3380,
          10557,
          1562,
          0,
          0,
          0,
          7500,
          0,
          1150,
          22787,
          6500,
          0,
          0,
          6500,
          22500,
          1150,
          1919,
          0,
          22500,
          10000,
          10000,
          10000,
          28910,
          929,
          7394,
          49367,
          7394,
          27394,
          11060,
          13273,
          19242,
          7394,
          67394,
          67394,
          7394,
          19242,
          21091,
          70171,
          0,
          6058,
          0,
          0,
          12168,
          34605,
          0,
          0,
          10329,
          20800,
          28800,
          0,
          14195,
          24000,
          0,
          10716,
          0,
          24000,
          20800,
          44721,
          91570,
          20800,
          30582,
          26189,
          20800,
          1198,
          147921,
          128517,
          0
         ],
         "yaxis": "y"
        },
        {
         "hovertemplate": "category=phq_attendance_stats_sum<br>date=%{x}<br>daily attendance=%{y}<extra></extra>",
         "legendgroup": "phq_attendance_stats_sum",
         "line": {
          "color": "#B6E880",
          "dash": "solid"
         },
         "marker": {
          "symbol": "circle"
         },
         "mode": "lines",
         "name": "phq_attendance_stats_sum",
         "orientation": "v",
         "showlegend": true,
         "type": "scatter",
         "x": [
          "2021-05-12",
          "2021-05-13",
          "2021-05-14",
          "2021-05-15",
          "2021-05-16",
          "2021-05-17",
          "2021-05-18",
          "2021-05-19",
          "2021-05-20",
          "2021-05-21",
          "2021-05-22",
          "2021-05-23",
          "2021-05-24",
          "2021-05-25",
          "2021-05-26",
          "2021-05-27",
          "2021-05-28",
          "2021-05-29",
          "2021-05-30",
          "2021-05-31",
          "2021-06-01",
          "2021-06-02",
          "2021-06-03",
          "2021-06-04",
          "2021-06-05",
          "2021-06-06",
          "2021-06-07",
          "2021-06-08",
          "2021-06-09",
          "2021-06-10",
          "2021-06-11",
          "2021-06-12",
          "2021-06-13",
          "2021-06-14",
          "2021-06-15",
          "2021-06-16",
          "2021-06-17",
          "2021-06-18",
          "2021-06-19",
          "2021-06-20",
          "2021-06-21",
          "2021-06-22",
          "2021-06-23",
          "2021-06-24",
          "2021-06-25",
          "2021-06-26",
          "2021-06-27",
          "2021-06-28",
          "2021-06-29",
          "2021-06-30",
          "2021-07-01",
          "2021-07-02",
          "2021-07-03",
          "2021-07-04",
          "2021-07-05",
          "2021-07-06",
          "2021-07-07",
          "2021-07-08",
          "2021-07-09",
          "2021-07-10",
          "2021-07-11",
          "2021-07-12",
          "2021-07-13",
          "2021-07-14",
          "2021-07-15",
          "2021-07-16",
          "2021-07-17",
          "2021-07-18",
          "2021-07-19",
          "2021-07-20",
          "2021-07-21",
          "2021-07-22",
          "2021-07-23",
          "2021-07-24",
          "2021-07-25",
          "2021-07-26",
          "2021-07-27",
          "2021-07-28",
          "2021-07-29",
          "2021-07-30",
          "2021-07-31",
          "2021-08-01",
          "2021-08-02",
          "2021-08-03",
          "2021-08-04",
          "2021-08-05",
          "2021-08-06",
          "2021-08-07",
          "2021-08-08",
          "2021-08-09"
         ],
         "xaxis": "x",
         "y": [
          422,
          600,
          1273,
          23700,
          2886,
          6548,
          22932,
          33124,
          27769,
          35011,
          54298,
          21808,
          9397,
          9755,
          16461,
          18979,
          40975,
          58246,
          38539,
          26189,
          12980,
          21676,
          19198,
          23105,
          41436,
          20146,
          5261,
          11621,
          16873,
          28908,
          18995,
          27233,
          36096,
          11610,
          14437,
          18820,
          20230,
          36907,
          30049,
          14240,
          9689,
          35913,
          28225,
          29457,
          29355,
          61479,
          14436,
          15264,
          61486,
          21195,
          39746,
          25756,
          34052,
          29959,
          10870,
          76106,
          95446,
          39691,
          57318,
          57251,
          87333,
          8464,
          19119,
          19634,
          17954,
          32827,
          65900,
          18591,
          10451,
          23511,
          36308,
          49274,
          36564,
          65252,
          49756,
          5616,
          26722,
          21220,
          47624,
          71498,
          112726,
          130379,
          34803,
          50437,
          51937,
          48537,
          38909,
          243618,
          268668,
          13629
         ],
         "yaxis": "y"
        }
       ],
       "layout": {
        "legend": {
         "title": {
          "text": "category"
         },
         "tracegroupgap": 0
        },
        "margin": {
         "t": 60
        },
        "shapes": [
         {
          "fillcolor": "LightSalmon",
          "layer": "below",
          "line": {
           "width": 0
          },
          "opacity": 0.5,
          "type": "rect",
          "x0": "2021-08-06",
          "x1": "2021-08-08",
          "xref": "x",
          "y0": 0,
          "y1": 1,
          "yref": "y domain"
         },
         {
          "fillcolor": "LightSalmon",
          "layer": "below",
          "line": {
           "width": 0
          },
          "opacity": 0.5,
          "type": "rect",
          "x0": "2021-08-07",
          "x1": "2021-08-09",
          "xref": "x",
          "y0": 0,
          "y1": 1,
          "yref": "y domain"
         }
        ],
        "template": {
         "data": {
          "bar": [
           {
            "error_x": {
             "color": "#2a3f5f"
            },
            "error_y": {
             "color": "#2a3f5f"
            },
            "marker": {
             "line": {
              "color": "#E5ECF6",
              "width": 0.5
             },
             "pattern": {
              "fillmode": "overlay",
              "size": 10,
              "solidity": 0.2
             }
            },
            "type": "bar"
           }
          ],
          "barpolar": [
           {
            "marker": {
             "line": {
              "color": "#E5ECF6",
              "width": 0.5
             },
             "pattern": {
              "fillmode": "overlay",
              "size": 10,
              "solidity": 0.2
             }
            },
            "type": "barpolar"
           }
          ],
          "carpet": [
           {
            "aaxis": {
             "endlinecolor": "#2a3f5f",
             "gridcolor": "white",
             "linecolor": "white",
             "minorgridcolor": "white",
             "startlinecolor": "#2a3f5f"
            },
            "baxis": {
             "endlinecolor": "#2a3f5f",
             "gridcolor": "white",
             "linecolor": "white",
             "minorgridcolor": "white",
             "startlinecolor": "#2a3f5f"
            },
            "type": "carpet"
           }
          ],
          "choropleth": [
           {
            "colorbar": {
             "outlinewidth": 0,
             "ticks": ""
            },
            "type": "choropleth"
           }
          ],
          "contour": [
           {
            "colorbar": {
             "outlinewidth": 0,
             "ticks": ""
            },
            "colorscale": [
             [
              0,
              "#0d0887"
             ],
             [
              0.1111111111111111,
              "#46039f"
             ],
             [
              0.2222222222222222,
              "#7201a8"
             ],
             [
              0.3333333333333333,
              "#9c179e"
             ],
             [
              0.4444444444444444,
              "#bd3786"
             ],
             [
              0.5555555555555556,
              "#d8576b"
             ],
             [
              0.6666666666666666,
              "#ed7953"
             ],
             [
              0.7777777777777778,
              "#fb9f3a"
             ],
             [
              0.8888888888888888,
              "#fdca26"
             ],
             [
              1,
              "#f0f921"
             ]
            ],
            "type": "contour"
           }
          ],
          "contourcarpet": [
           {
            "colorbar": {
             "outlinewidth": 0,
             "ticks": ""
            },
            "type": "contourcarpet"
           }
          ],
          "heatmap": [
           {
            "colorbar": {
             "outlinewidth": 0,
             "ticks": ""
            },
            "colorscale": [
             [
              0,
              "#0d0887"
             ],
             [
              0.1111111111111111,
              "#46039f"
             ],
             [
              0.2222222222222222,
              "#7201a8"
             ],
             [
              0.3333333333333333,
              "#9c179e"
             ],
             [
              0.4444444444444444,
              "#bd3786"
             ],
             [
              0.5555555555555556,
              "#d8576b"
             ],
             [
              0.6666666666666666,
              "#ed7953"
             ],
             [
              0.7777777777777778,
              "#fb9f3a"
             ],
             [
              0.8888888888888888,
              "#fdca26"
             ],
             [
              1,
              "#f0f921"
             ]
            ],
            "type": "heatmap"
           }
          ],
          "heatmapgl": [
           {
            "colorbar": {
             "outlinewidth": 0,
             "ticks": ""
            },
            "colorscale": [
             [
              0,
              "#0d0887"
             ],
             [
              0.1111111111111111,
              "#46039f"
             ],
             [
              0.2222222222222222,
              "#7201a8"
             ],
             [
              0.3333333333333333,
              "#9c179e"
             ],
             [
              0.4444444444444444,
              "#bd3786"
             ],
             [
              0.5555555555555556,
              "#d8576b"
             ],
             [
              0.6666666666666666,
              "#ed7953"
             ],
             [
              0.7777777777777778,
              "#fb9f3a"
             ],
             [
              0.8888888888888888,
              "#fdca26"
             ],
             [
              1,
              "#f0f921"
             ]
            ],
            "type": "heatmapgl"
           }
          ],
          "histogram": [
           {
            "marker": {
             "pattern": {
              "fillmode": "overlay",
              "size": 10,
              "solidity": 0.2
             }
            },
            "type": "histogram"
           }
          ],
          "histogram2d": [
           {
            "colorbar": {
             "outlinewidth": 0,
             "ticks": ""
            },
            "colorscale": [
             [
              0,
              "#0d0887"
             ],
             [
              0.1111111111111111,
              "#46039f"
             ],
             [
              0.2222222222222222,
              "#7201a8"
             ],
             [
              0.3333333333333333,
              "#9c179e"
             ],
             [
              0.4444444444444444,
              "#bd3786"
             ],
             [
              0.5555555555555556,
              "#d8576b"
             ],
             [
              0.6666666666666666,
              "#ed7953"
             ],
             [
              0.7777777777777778,
              "#fb9f3a"
             ],
             [
              0.8888888888888888,
              "#fdca26"
             ],
             [
              1,
              "#f0f921"
             ]
            ],
            "type": "histogram2d"
           }
          ],
          "histogram2dcontour": [
           {
            "colorbar": {
             "outlinewidth": 0,
             "ticks": ""
            },
            "colorscale": [
             [
              0,
              "#0d0887"
             ],
             [
              0.1111111111111111,
              "#46039f"
             ],
             [
              0.2222222222222222,
              "#7201a8"
             ],
             [
              0.3333333333333333,
              "#9c179e"
             ],
             [
              0.4444444444444444,
              "#bd3786"
             ],
             [
              0.5555555555555556,
              "#d8576b"
             ],
             [
              0.6666666666666666,
              "#ed7953"
             ],
             [
              0.7777777777777778,
              "#fb9f3a"
             ],
             [
              0.8888888888888888,
              "#fdca26"
             ],
             [
              1,
              "#f0f921"
             ]
            ],
            "type": "histogram2dcontour"
           }
          ],
          "mesh3d": [
           {
            "colorbar": {
             "outlinewidth": 0,
             "ticks": ""
            },
            "type": "mesh3d"
           }
          ],
          "parcoords": [
           {
            "line": {
             "colorbar": {
              "outlinewidth": 0,
              "ticks": ""
             }
            },
            "type": "parcoords"
           }
          ],
          "pie": [
           {
            "automargin": true,
            "type": "pie"
           }
          ],
          "scatter": [
           {
            "marker": {
             "colorbar": {
              "outlinewidth": 0,
              "ticks": ""
             }
            },
            "type": "scatter"
           }
          ],
          "scatter3d": [
           {
            "line": {
             "colorbar": {
              "outlinewidth": 0,
              "ticks": ""
             }
            },
            "marker": {
             "colorbar": {
              "outlinewidth": 0,
              "ticks": ""
             }
            },
            "type": "scatter3d"
           }
          ],
          "scattercarpet": [
           {
            "marker": {
             "colorbar": {
              "outlinewidth": 0,
              "ticks": ""
             }
            },
            "type": "scattercarpet"
           }
          ],
          "scattergeo": [
           {
            "marker": {
             "colorbar": {
              "outlinewidth": 0,
              "ticks": ""
             }
            },
            "type": "scattergeo"
           }
          ],
          "scattergl": [
           {
            "marker": {
             "colorbar": {
              "outlinewidth": 0,
              "ticks": ""
             }
            },
            "type": "scattergl"
           }
          ],
          "scattermapbox": [
           {
            "marker": {
             "colorbar": {
              "outlinewidth": 0,
              "ticks": ""
             }
            },
            "type": "scattermapbox"
           }
          ],
          "scatterpolar": [
           {
            "marker": {
             "colorbar": {
              "outlinewidth": 0,
              "ticks": ""
             }
            },
            "type": "scatterpolar"
           }
          ],
          "scatterpolargl": [
           {
            "marker": {
             "colorbar": {
              "outlinewidth": 0,
              "ticks": ""
             }
            },
            "type": "scatterpolargl"
           }
          ],
          "scatterternary": [
           {
            "marker": {
             "colorbar": {
              "outlinewidth": 0,
              "ticks": ""
             }
            },
            "type": "scatterternary"
           }
          ],
          "surface": [
           {
            "colorbar": {
             "outlinewidth": 0,
             "ticks": ""
            },
            "colorscale": [
             [
              0,
              "#0d0887"
             ],
             [
              0.1111111111111111,
              "#46039f"
             ],
             [
              0.2222222222222222,
              "#7201a8"
             ],
             [
              0.3333333333333333,
              "#9c179e"
             ],
             [
              0.4444444444444444,
              "#bd3786"
             ],
             [
              0.5555555555555556,
              "#d8576b"
             ],
             [
              0.6666666666666666,
              "#ed7953"
             ],
             [
              0.7777777777777778,
              "#fb9f3a"
             ],
             [
              0.8888888888888888,
              "#fdca26"
             ],
             [
              1,
              "#f0f921"
             ]
            ],
            "type": "surface"
           }
          ],
          "table": [
           {
            "cells": {
             "fill": {
              "color": "#EBF0F8"
             },
             "line": {
              "color": "white"
             }
            },
            "header": {
             "fill": {
              "color": "#C8D4E3"
             },
             "line": {
              "color": "white"
             }
            },
            "type": "table"
           }
          ]
         },
         "layout": {
          "annotationdefaults": {
           "arrowcolor": "#2a3f5f",
           "arrowhead": 0,
           "arrowwidth": 1
          },
          "autotypenumbers": "strict",
          "coloraxis": {
           "colorbar": {
            "outlinewidth": 0,
            "ticks": ""
           }
          },
          "colorscale": {
           "diverging": [
            [
             0,
             "#8e0152"
            ],
            [
             0.1,
             "#c51b7d"
            ],
            [
             0.2,
             "#de77ae"
            ],
            [
             0.3,
             "#f1b6da"
            ],
            [
             0.4,
             "#fde0ef"
            ],
            [
             0.5,
             "#f7f7f7"
            ],
            [
             0.6,
             "#e6f5d0"
            ],
            [
             0.7,
             "#b8e186"
            ],
            [
             0.8,
             "#7fbc41"
            ],
            [
             0.9,
             "#4d9221"
            ],
            [
             1,
             "#276419"
            ]
           ],
           "sequential": [
            [
             0,
             "#0d0887"
            ],
            [
             0.1111111111111111,
             "#46039f"
            ],
            [
             0.2222222222222222,
             "#7201a8"
            ],
            [
             0.3333333333333333,
             "#9c179e"
            ],
            [
             0.4444444444444444,
             "#bd3786"
            ],
            [
             0.5555555555555556,
             "#d8576b"
            ],
            [
             0.6666666666666666,
             "#ed7953"
            ],
            [
             0.7777777777777778,
             "#fb9f3a"
            ],
            [
             0.8888888888888888,
             "#fdca26"
            ],
            [
             1,
             "#f0f921"
            ]
           ],
           "sequentialminus": [
            [
             0,
             "#0d0887"
            ],
            [
             0.1111111111111111,
             "#46039f"
            ],
            [
             0.2222222222222222,
             "#7201a8"
            ],
            [
             0.3333333333333333,
             "#9c179e"
            ],
            [
             0.4444444444444444,
             "#bd3786"
            ],
            [
             0.5555555555555556,
             "#d8576b"
            ],
            [
             0.6666666666666666,
             "#ed7953"
            ],
            [
             0.7777777777777778,
             "#fb9f3a"
            ],
            [
             0.8888888888888888,
             "#fdca26"
            ],
            [
             1,
             "#f0f921"
            ]
           ]
          },
          "colorway": [
           "#636efa",
           "#EF553B",
           "#00cc96",
           "#ab63fa",
           "#FFA15A",
           "#19d3f3",
           "#FF6692",
           "#B6E880",
           "#FF97FF",
           "#FECB52"
          ],
          "font": {
           "color": "#2a3f5f"
          },
          "geo": {
           "bgcolor": "white",
           "lakecolor": "white",
           "landcolor": "#E5ECF6",
           "showlakes": true,
           "showland": true,
           "subunitcolor": "white"
          },
          "hoverlabel": {
           "align": "left"
          },
          "hovermode": "closest",
          "mapbox": {
           "style": "light"
          },
          "paper_bgcolor": "white",
          "plot_bgcolor": "#E5ECF6",
          "polar": {
           "angularaxis": {
            "gridcolor": "white",
            "linecolor": "white",
            "ticks": ""
           },
           "bgcolor": "#E5ECF6",
           "radialaxis": {
            "gridcolor": "white",
            "linecolor": "white",
            "ticks": ""
           }
          },
          "scene": {
           "xaxis": {
            "backgroundcolor": "#E5ECF6",
            "gridcolor": "white",
            "gridwidth": 2,
            "linecolor": "white",
            "showbackground": true,
            "ticks": "",
            "zerolinecolor": "white"
           },
           "yaxis": {
            "backgroundcolor": "#E5ECF6",
            "gridcolor": "white",
            "gridwidth": 2,
            "linecolor": "white",
            "showbackground": true,
            "ticks": "",
            "zerolinecolor": "white"
           },
           "zaxis": {
            "backgroundcolor": "#E5ECF6",
            "gridcolor": "white",
            "gridwidth": 2,
            "linecolor": "white",
            "showbackground": true,
            "ticks": "",
            "zerolinecolor": "white"
           }
          },
          "shapedefaults": {
           "line": {
            "color": "#2a3f5f"
           }
          },
          "ternary": {
           "aaxis": {
            "gridcolor": "white",
            "linecolor": "white",
            "ticks": ""
           },
           "baxis": {
            "gridcolor": "white",
            "linecolor": "white",
            "ticks": ""
           },
           "bgcolor": "#E5ECF6",
           "caxis": {
            "gridcolor": "white",
            "linecolor": "white",
            "ticks": ""
           }
          },
          "title": {
           "x": 0.05
          },
          "xaxis": {
           "automargin": true,
           "gridcolor": "white",
           "linecolor": "white",
           "ticks": "",
           "title": {
            "standoff": 15
           },
           "zerolinecolor": "white",
           "zerolinewidth": 2
          },
          "yaxis": {
           "automargin": true,
           "gridcolor": "white",
           "linecolor": "white",
           "ticks": "",
           "title": {
            "standoff": 15
           },
           "zerolinecolor": "white",
           "zerolinewidth": 2
          }
         }
        },
        "xaxis": {
         "anchor": "y",
         "domain": [
          0,
          1
         ],
         "title": {
          "text": "date"
         }
        },
        "yaxis": {
         "anchor": "x",
         "domain": [
          0,
          1
         ],
         "title": {
          "text": "daily attendance"
         }
        }
       }
      }
     },
     "metadata": {},
     "output_type": "display_data"
    }
   ],
   "source": [
    "to_plot = df.filter(regex=\"sum\")\n",
    "fig = px.line(\n",
    "    to_plot,\n",
    "    labels={\"value\": \"daily attendance\", \"variable\": \"category\"},\n",
    ")\n",
    "\n",
    "for date in outlier_dates:\n",
    "\n",
    "    fig.add_vrect(\n",
    "        x0=date - datetime.timedelta(days=1),\n",
    "        x1=date + datetime.timedelta(days=1),\n",
    "        fillcolor=\"LightSalmon\",\n",
    "        opacity=0.5,\n",
    "        layer=\"below\",\n",
    "        line_width=0,\n",
    "    )\n",
    "\n",
    "fig.show()"
   ]
  },
  {
   "cell_type": "markdown",
   "id": "pregnant-decrease",
   "metadata": {},
   "source": [
    "## Summary stats"
   ]
  },
  {
   "cell_type": "markdown",
   "id": "commercial-creek",
   "metadata": {},
   "source": [
    "Please note, a cluster is a collection of consecutive outlier days"
   ]
  },
  {
   "cell_type": "code",
   "execution_count": 19,
   "id": "protected-there",
   "metadata": {},
   "outputs": [
    {
     "data": {
      "text/html": [
       "<div>\n",
       "<style scoped>\n",
       "    .dataframe tbody tr th:only-of-type {\n",
       "        vertical-align: middle;\n",
       "    }\n",
       "\n",
       "    .dataframe tbody tr th {\n",
       "        vertical-align: top;\n",
       "    }\n",
       "\n",
       "    .dataframe thead th {\n",
       "        text-align: right;\n",
       "    }\n",
       "</style>\n",
       "<table border=\"1\" class=\"dataframe\">\n",
       "  <thead>\n",
       "    <tr style=\"text-align: right;\">\n",
       "      <th></th>\n",
       "      <th>total daily attendance</th>\n",
       "      <th>total daily event count</th>\n",
       "      <th>total cluster attendance</th>\n",
       "    </tr>\n",
       "    <tr>\n",
       "      <th>date</th>\n",
       "      <th></th>\n",
       "      <th></th>\n",
       "      <th></th>\n",
       "    </tr>\n",
       "  </thead>\n",
       "  <tbody>\n",
       "    <tr>\n",
       "      <th>2021-08-07</th>\n",
       "      <td>243618</td>\n",
       "      <td>116</td>\n",
       "      <td>512286</td>\n",
       "    </tr>\n",
       "    <tr>\n",
       "      <th>2021-08-08</th>\n",
       "      <td>268668</td>\n",
       "      <td>60</td>\n",
       "      <td>512286</td>\n",
       "    </tr>\n",
       "  </tbody>\n",
       "</table>\n",
       "</div>"
      ],
      "text/plain": [
       "            total daily attendance  total daily event count  \\\n",
       "date                                                          \n",
       "2021-08-07                  243618                      116   \n",
       "2021-08-08                  268668                       60   \n",
       "\n",
       "            total cluster attendance  \n",
       "date                                  \n",
       "2021-08-07                    512286  \n",
       "2021-08-08                    512286  "
      ]
     },
     "execution_count": 19,
     "metadata": {},
     "output_type": "execute_result"
    }
   ],
   "source": [
    "stats = df[df.index.isin(outlier_dates)].copy()\n",
    "stats[\"cluster\"] = (stats.index.to_series().diff() != pd.Timedelta(\"1d\")).cumsum()\n",
    "\n",
    "(\n",
    "    stats.assign(\n",
    "        phq_attendance_stats_sum_cluster=stats.groupby(\n",
    "            [\"cluster\"]\n",
    "        ).phq_attendance_stats_sum.transform(\"sum\")\n",
    "    )\n",
    "    .filter(regex=\"phq_attendance_stats_\")\n",
    "    .rename(\n",
    "        columns={\n",
    "            \"phq_attendance_stats_sum\": \"total daily attendance\",\n",
    "            \"phq_attendance_stats_count\": \"total daily event count\",\n",
    "            \"phq_attendance_stats_sum_cluster\": \"total cluster attendance\",\n",
    "        }\n",
    "    )\n",
    ")"
   ]
  },
  {
   "cell_type": "markdown",
   "id": "derived-economy",
   "metadata": {},
   "source": [
    "# Events API <a class=\"anchor\" id=\"events-api\"></a>"
   ]
  },
  {
   "cell_type": "code",
   "execution_count": 20,
   "id": "religious-hunger",
   "metadata": {},
   "outputs": [],
   "source": [
    "def set_up_parameters(\n",
    "    start_time,\n",
    "    end_time,\n",
    "    location_setting,\n",
    "    latitude,\n",
    "    longitude,\n",
    "    radius,\n",
    "    radius_unit,\n",
    "    place_id,\n",
    "):\n",
    "    \"\"\"Set up parameters to query the Events API\"\"\"\n",
    "\n",
    "    parameters = dict()\n",
    "\n",
    "    if location_setting == \"place_id\":\n",
    "        parameters.update(place__scope=place_id)\n",
    "\n",
    "    elif location_setting == \"lat/lon\":\n",
    "        within = f\"{radius}{radius_unit}@{latitude},{longitude}\"\n",
    "        parameters.update(within=within)\n",
    "\n",
    "    parameters.update(active__gte=start_time)\n",
    "    parameters.update(active__lte=end_time)\n",
    "\n",
    "    timezone = TimezoneFinder().timezone_at(lat=latitude, lng=longitude)\n",
    "    parameters.update(active__tz=timezone)\n",
    "\n",
    "    rank_type = \"rank\"\n",
    "    rank_threshold = 0\n",
    "    filter_parameter = \"gt\"\n",
    "    parameters.update({f\"{rank_type}__{filter_parameter}\": rank_threshold})\n",
    "\n",
    "    categories = [\n",
    "        \"conferences\",\n",
    "        \"expos\",\n",
    "        \"concerts\",\n",
    "        \"festivals\",\n",
    "        \"performing-arts\",\n",
    "        \"sports\",\n",
    "        \"community\",\n",
    "    ]\n",
    "    parameters.update(category=categories)\n",
    "\n",
    "    parameters.update(limit=500)\n",
    "\n",
    "    return parameters"
   ]
  },
  {
   "cell_type": "code",
   "execution_count": 21,
   "id": "alternative-matter",
   "metadata": {},
   "outputs": [],
   "source": [
    "def load_events(parameters, client):\n",
    "    \"\"\"Query Events API\"\"\"\n",
    "\n",
    "    results = []\n",
    "\n",
    "    for event in client.events.search(parameters).iter_all():\n",
    "        results.append(event.to_dict())\n",
    "\n",
    "    df = pd.DataFrame(results)\n",
    "    df[\"category\"] = df[\"category\"].str.replace(\"-\", \"_\")  # clean values\n",
    "\n",
    "    return df"
   ]
  },
  {
   "cell_type": "code",
   "execution_count": 22,
   "id": "amino-special",
   "metadata": {},
   "outputs": [],
   "source": [
    "def get_local_dt(dt, tz):\n",
    "    \"\"\"Localize a datetime for a given timezone\"\"\"\n",
    "\n",
    "    if not dt:\n",
    "        return None\n",
    "\n",
    "    dt = rfc3339.parse_datetime(dt)\n",
    "\n",
    "    if not tz:\n",
    "        return dt\n",
    "\n",
    "    local_dt = dt.astimezone(pytz.timezone(tz))\n",
    "\n",
    "    return local_dt"
   ]
  },
  {
   "cell_type": "code",
   "execution_count": 23,
   "id": "aggressive-death",
   "metadata": {},
   "outputs": [],
   "source": [
    "def process_start_and_end_dt(df, start=\"start\", end=\"end\", tz=\"timezone\"):\n",
    "    \"\"\"Derive local start and end date/time\"\"\"\n",
    "\n",
    "    tmp = df.copy()\n",
    "\n",
    "    tmp[\"start_local\"] = tmp.apply(\n",
    "        lambda row: get_local_dt(str(row[start]), row[tz]), axis=1\n",
    "    )\n",
    "    tmp[\"start_local_date\"] = tmp.start_local.map(lambda x: x.date())\n",
    "    tmp[\"end_local\"] = tmp.apply(\n",
    "        lambda row: get_local_dt(str(row[end]), row[tz]), axis=1\n",
    "    )\n",
    "    tmp[\"end_local_date\"] = tmp.end_local.map(lambda x: x.date())\n",
    "\n",
    "    return tmp"
   ]
  },
  {
   "cell_type": "code",
   "execution_count": 24,
   "id": "moral-serum",
   "metadata": {},
   "outputs": [],
   "source": [
    "def extract_event_ids_from_dates(df, dates_list):\n",
    "    \"\"\"Extract unique event ids which overlap with specified dates\"\"\"\n",
    "\n",
    "    tmp = df.copy()\n",
    "    events_df = pd.DataFrame()\n",
    "\n",
    "    for date in dates_list:\n",
    "\n",
    "        tmp1 = tmp.loc[\n",
    "            (tmp[\"start_local_date\"] <= date) & (tmp[\"end_local_date\"] >= date)\n",
    "        ][[\"id\"]]\n",
    "        tmp1[\"date\"] = date\n",
    "\n",
    "        events_df = events_df.append(tmp1)\n",
    "\n",
    "    return events_df"
   ]
  },
  {
   "cell_type": "code",
   "execution_count": 25,
   "id": "boring-stock",
   "metadata": {},
   "outputs": [],
   "source": [
    "attended_events_cols = [\n",
    "    \"date\",\n",
    "    \"id\",\n",
    "    \"category\",\n",
    "    \"labels\",\n",
    "    \"title\",\n",
    "    \"description\",\n",
    "    \"start_local\",\n",
    "    \"end_local\",\n",
    "    \"duration\",\n",
    "    \"country\",\n",
    "    \"rank\",\n",
    "    \"phq_attendance\",\n",
    "]"
   ]
  },
  {
   "cell_type": "markdown",
   "id": "endangered-stations",
   "metadata": {},
   "source": [
    "## Top events"
   ]
  },
  {
   "cell_type": "markdown",
   "id": "arctic-fraction",
   "metadata": {},
   "source": [
    "Assumptions:\n",
    "* At least one outlier day is detected"
   ]
  },
  {
   "cell_type": "code",
   "execution_count": 26,
   "id": "adaptive-hours",
   "metadata": {},
   "outputs": [],
   "source": [
    "start = min(outlier_dates).strftime(\"%Y-%m-%d\")\n",
    "end = max(outlier_dates).strftime(\"%Y-%m-%d\")\n",
    "\n",
    "parameters = set_up_parameters(\n",
    "    start_time=start,\n",
    "    end_time=end,\n",
    "    location_setting=LOCATION_SETTING,\n",
    "    latitude=latitude,\n",
    "    longitude=longitude,\n",
    "    radius=radius,\n",
    "    radius_unit=radius_unit,\n",
    "    place_id=place_id,\n",
    ")\n",
    "\n",
    "events_df = load_events(parameters=parameters, client=phq)\n",
    "events_df = process_start_and_end_dt(df=events_df)"
   ]
  },
  {
   "cell_type": "code",
   "execution_count": 27,
   "id": "arranged-headset",
   "metadata": {},
   "outputs": [],
   "source": [
    "event_ids = extract_event_ids_from_dates(df=events_df, dates_list=outlier_dates)\n",
    "top_events = pd.merge(events_df, event_ids, how=\"inner\", on=\"id\")"
   ]
  },
  {
   "cell_type": "markdown",
   "id": "living-obligation",
   "metadata": {},
   "source": [
    "## Top 10 events"
   ]
  },
  {
   "cell_type": "code",
   "execution_count": 28,
   "id": "advisory-panama",
   "metadata": {},
   "outputs": [
    {
     "data": {
      "text/html": [
       "<div>\n",
       "<style scoped>\n",
       "    .dataframe tbody tr th:only-of-type {\n",
       "        vertical-align: middle;\n",
       "    }\n",
       "\n",
       "    .dataframe tbody tr th {\n",
       "        vertical-align: top;\n",
       "    }\n",
       "\n",
       "    .dataframe thead th {\n",
       "        text-align: right;\n",
       "    }\n",
       "</style>\n",
       "<table border=\"1\" class=\"dataframe\">\n",
       "  <thead>\n",
       "    <tr style=\"text-align: right;\">\n",
       "      <th></th>\n",
       "      <th>date</th>\n",
       "      <th>id</th>\n",
       "      <th>category</th>\n",
       "      <th>labels</th>\n",
       "      <th>title</th>\n",
       "      <th>description</th>\n",
       "      <th>start_local</th>\n",
       "      <th>end_local</th>\n",
       "      <th>duration</th>\n",
       "      <th>country</th>\n",
       "      <th>rank</th>\n",
       "      <th>phq_attendance</th>\n",
       "    </tr>\n",
       "  </thead>\n",
       "  <tbody>\n",
       "    <tr>\n",
       "      <th>0</th>\n",
       "      <td>2021-08-07</td>\n",
       "      <td>UfbhzKgAcmRnybUKTS</td>\n",
       "      <td>festivals</td>\n",
       "      <td>[festival, music]</td>\n",
       "      <td>BBC Proms</td>\n",
       "      <td>The Proms or BBC Proms, formally named the Hen...</td>\n",
       "      <td>2021-07-30 00:00:00+01:00</td>\n",
       "      <td>2021-09-11 23:59:59+01:00</td>\n",
       "      <td>3801599</td>\n",
       "      <td>GB</td>\n",
       "      <td>98</td>\n",
       "      <td>240000</td>\n",
       "    </tr>\n",
       "    <tr>\n",
       "      <th>1</th>\n",
       "      <td>2021-08-07</td>\n",
       "      <td>UHvrnMx7ukpwBtuXFx</td>\n",
       "      <td>sports</td>\n",
       "      <td>[soccer, sport]</td>\n",
       "      <td>Community Shield - Final - Leicester City vs M...</td>\n",
       "      <td></td>\n",
       "      <td>2021-08-07 17:15:00+01:00</td>\n",
       "      <td>2021-08-07 17:15:00+01:00</td>\n",
       "      <td>0</td>\n",
       "      <td>GB</td>\n",
       "      <td>83</td>\n",
       "      <td>45602</td>\n",
       "    </tr>\n",
       "    <tr>\n",
       "      <th>2</th>\n",
       "      <td>2021-08-07</td>\n",
       "      <td>uxaD3CE3EfWnJoNUnZ</td>\n",
       "      <td>concerts</td>\n",
       "      <td>[concert, music]</td>\n",
       "      <td>Sonny Fodera &amp; Gorgon City present: Back to Love</td>\n",
       "      <td></td>\n",
       "      <td>2021-08-07 13:00:00+01:00</td>\n",
       "      <td>2021-08-07 13:00:00+01:00</td>\n",
       "      <td>0</td>\n",
       "      <td>GB</td>\n",
       "      <td>82</td>\n",
       "      <td>39200</td>\n",
       "    </tr>\n",
       "    <tr>\n",
       "      <th>3</th>\n",
       "      <td>2021-08-07</td>\n",
       "      <td>VrNcjFdkt3ox87Hvrg</td>\n",
       "      <td>sports</td>\n",
       "      <td>[soccer, sport]</td>\n",
       "      <td>Club Friendlies - Club Friendlies 3 - West Ham...</td>\n",
       "      <td></td>\n",
       "      <td>2021-08-07 15:00:00+01:00</td>\n",
       "      <td>2021-08-07 15:00:00+01:00</td>\n",
       "      <td>0</td>\n",
       "      <td>GB</td>\n",
       "      <td>81</td>\n",
       "      <td>36630</td>\n",
       "    </tr>\n",
       "    <tr>\n",
       "      <th>4</th>\n",
       "      <td>2021-08-07</td>\n",
       "      <td>FjPotx4RqvhR6NSRUx</td>\n",
       "      <td>sports</td>\n",
       "      <td>[sport, triathlon]</td>\n",
       "      <td>London Triathlon</td>\n",
       "      <td>The London Triathlon also known as the \"AJ Bel...</td>\n",
       "      <td>2021-08-07 00:00:00+01:00</td>\n",
       "      <td>2021-08-08 23:59:59+01:00</td>\n",
       "      <td>172799</td>\n",
       "      <td>GB</td>\n",
       "      <td>78</td>\n",
       "      <td>24000</td>\n",
       "    </tr>\n",
       "    <tr>\n",
       "      <th>5</th>\n",
       "      <td>2021-08-07</td>\n",
       "      <td>7FkbzDtYVzZqBoEtpg</td>\n",
       "      <td>sports</td>\n",
       "      <td>[soccer, sport]</td>\n",
       "      <td>League One - Charlton Athletic vs Sheffield We...</td>\n",
       "      <td></td>\n",
       "      <td>2021-08-07 17:30:00+01:00</td>\n",
       "      <td>2021-08-07 17:30:00+01:00</td>\n",
       "      <td>0</td>\n",
       "      <td>GB</td>\n",
       "      <td>75</td>\n",
       "      <td>17639</td>\n",
       "    </tr>\n",
       "    <tr>\n",
       "      <th>6</th>\n",
       "      <td>2021-08-07</td>\n",
       "      <td>xWyUHWRSbBCoxXWyEn</td>\n",
       "      <td>sports</td>\n",
       "      <td>[soccer, sport]</td>\n",
       "      <td>Championship - Queens Park Rangers vs Millwall</td>\n",
       "      <td></td>\n",
       "      <td>2021-08-07 15:00:00+01:00</td>\n",
       "      <td>2021-08-07 15:00:00+01:00</td>\n",
       "      <td>0</td>\n",
       "      <td>GB</td>\n",
       "      <td>74</td>\n",
       "      <td>16127</td>\n",
       "    </tr>\n",
       "    <tr>\n",
       "      <th>7</th>\n",
       "      <td>2021-08-07</td>\n",
       "      <td>ah3KD2gq4rTxu4dLrD</td>\n",
       "      <td>sports</td>\n",
       "      <td>[soccer, sport]</td>\n",
       "      <td>Club Friendlies - Club Friendlies 3 - Crystal ...</td>\n",
       "      <td></td>\n",
       "      <td>2021-08-07 15:00:00+01:00</td>\n",
       "      <td>2021-08-07 15:00:00+01:00</td>\n",
       "      <td>0</td>\n",
       "      <td>GB</td>\n",
       "      <td>69</td>\n",
       "      <td>8676</td>\n",
       "    </tr>\n",
       "    <tr>\n",
       "      <th>8</th>\n",
       "      <td>2021-08-07</td>\n",
       "      <td>8tcSK2NrsWBbumivFY</td>\n",
       "      <td>sports</td>\n",
       "      <td>[soccer, sport]</td>\n",
       "      <td>Club Friendlies - Club Friendlies 3 - Brentfor...</td>\n",
       "      <td></td>\n",
       "      <td>2021-08-07 17:30:00+01:00</td>\n",
       "      <td>2021-08-07 17:30:00+01:00</td>\n",
       "      <td>0</td>\n",
       "      <td>GB</td>\n",
       "      <td>66</td>\n",
       "      <td>6088</td>\n",
       "    </tr>\n",
       "    <tr>\n",
       "      <th>9</th>\n",
       "      <td>2021-08-07</td>\n",
       "      <td>bxwkehyZMW8WHhoSuH</td>\n",
       "      <td>festivals</td>\n",
       "      <td>[festival, sport]</td>\n",
       "      <td>LDN 7's Festival</td>\n",
       "      <td>LDN 7's Festival is a London sports and music ...</td>\n",
       "      <td>2021-08-07 00:00:00+01:00</td>\n",
       "      <td>2021-08-08 23:59:59+01:00</td>\n",
       "      <td>172799</td>\n",
       "      <td>GB</td>\n",
       "      <td>64</td>\n",
       "      <td>5000</td>\n",
       "    </tr>\n",
       "  </tbody>\n",
       "</table>\n",
       "</div>"
      ],
      "text/plain": [
       "         date                  id   category              labels  \\\n",
       "0  2021-08-07  UfbhzKgAcmRnybUKTS  festivals   [festival, music]   \n",
       "1  2021-08-07  UHvrnMx7ukpwBtuXFx     sports     [soccer, sport]   \n",
       "2  2021-08-07  uxaD3CE3EfWnJoNUnZ   concerts    [concert, music]   \n",
       "3  2021-08-07  VrNcjFdkt3ox87Hvrg     sports     [soccer, sport]   \n",
       "4  2021-08-07  FjPotx4RqvhR6NSRUx     sports  [sport, triathlon]   \n",
       "5  2021-08-07  7FkbzDtYVzZqBoEtpg     sports     [soccer, sport]   \n",
       "6  2021-08-07  xWyUHWRSbBCoxXWyEn     sports     [soccer, sport]   \n",
       "7  2021-08-07  ah3KD2gq4rTxu4dLrD     sports     [soccer, sport]   \n",
       "8  2021-08-07  8tcSK2NrsWBbumivFY     sports     [soccer, sport]   \n",
       "9  2021-08-07  bxwkehyZMW8WHhoSuH  festivals   [festival, sport]   \n",
       "\n",
       "                                               title  \\\n",
       "0                                          BBC Proms   \n",
       "1  Community Shield - Final - Leicester City vs M...   \n",
       "2   Sonny Fodera & Gorgon City present: Back to Love   \n",
       "3  Club Friendlies - Club Friendlies 3 - West Ham...   \n",
       "4                                   London Triathlon   \n",
       "5  League One - Charlton Athletic vs Sheffield We...   \n",
       "6     Championship - Queens Park Rangers vs Millwall   \n",
       "7  Club Friendlies - Club Friendlies 3 - Crystal ...   \n",
       "8  Club Friendlies - Club Friendlies 3 - Brentfor...   \n",
       "9                                   LDN 7's Festival   \n",
       "\n",
       "                                         description  \\\n",
       "0  The Proms or BBC Proms, formally named the Hen...   \n",
       "1                                                      \n",
       "2                                                      \n",
       "3                                                      \n",
       "4  The London Triathlon also known as the \"AJ Bel...   \n",
       "5                                                      \n",
       "6                                                      \n",
       "7                                                      \n",
       "8                                                      \n",
       "9  LDN 7's Festival is a London sports and music ...   \n",
       "\n",
       "                start_local                 end_local  duration country  rank  \\\n",
       "0 2021-07-30 00:00:00+01:00 2021-09-11 23:59:59+01:00   3801599      GB    98   \n",
       "1 2021-08-07 17:15:00+01:00 2021-08-07 17:15:00+01:00         0      GB    83   \n",
       "2 2021-08-07 13:00:00+01:00 2021-08-07 13:00:00+01:00         0      GB    82   \n",
       "3 2021-08-07 15:00:00+01:00 2021-08-07 15:00:00+01:00         0      GB    81   \n",
       "4 2021-08-07 00:00:00+01:00 2021-08-08 23:59:59+01:00    172799      GB    78   \n",
       "5 2021-08-07 17:30:00+01:00 2021-08-07 17:30:00+01:00         0      GB    75   \n",
       "6 2021-08-07 15:00:00+01:00 2021-08-07 15:00:00+01:00         0      GB    74   \n",
       "7 2021-08-07 15:00:00+01:00 2021-08-07 15:00:00+01:00         0      GB    69   \n",
       "8 2021-08-07 17:30:00+01:00 2021-08-07 17:30:00+01:00         0      GB    66   \n",
       "9 2021-08-07 00:00:00+01:00 2021-08-08 23:59:59+01:00    172799      GB    64   \n",
       "\n",
       "   phq_attendance  \n",
       "0          240000  \n",
       "1           45602  \n",
       "2           39200  \n",
       "3           36630  \n",
       "4           24000  \n",
       "5           17639  \n",
       "6           16127  \n",
       "7            8676  \n",
       "8            6088  \n",
       "9            5000  "
      ]
     },
     "metadata": {},
     "output_type": "display_data"
    },
    {
     "data": {
      "text/html": [
       "<div>\n",
       "<style scoped>\n",
       "    .dataframe tbody tr th:only-of-type {\n",
       "        vertical-align: middle;\n",
       "    }\n",
       "\n",
       "    .dataframe tbody tr th {\n",
       "        vertical-align: top;\n",
       "    }\n",
       "\n",
       "    .dataframe thead th {\n",
       "        text-align: right;\n",
       "    }\n",
       "</style>\n",
       "<table border=\"1\" class=\"dataframe\">\n",
       "  <thead>\n",
       "    <tr style=\"text-align: right;\">\n",
       "      <th></th>\n",
       "      <th>date</th>\n",
       "      <th>id</th>\n",
       "      <th>category</th>\n",
       "      <th>labels</th>\n",
       "      <th>title</th>\n",
       "      <th>description</th>\n",
       "      <th>start_local</th>\n",
       "      <th>end_local</th>\n",
       "      <th>duration</th>\n",
       "      <th>country</th>\n",
       "      <th>rank</th>\n",
       "      <th>phq_attendance</th>\n",
       "    </tr>\n",
       "  </thead>\n",
       "  <tbody>\n",
       "    <tr>\n",
       "      <th>0</th>\n",
       "      <td>2021-08-08</td>\n",
       "      <td>UfbhzKgAcmRnybUKTS</td>\n",
       "      <td>festivals</td>\n",
       "      <td>[festival, music]</td>\n",
       "      <td>BBC Proms</td>\n",
       "      <td>The Proms or BBC Proms, formally named the Hen...</td>\n",
       "      <td>2021-07-30 00:00:00+01:00</td>\n",
       "      <td>2021-09-11 23:59:59+01:00</td>\n",
       "      <td>3801599</td>\n",
       "      <td>GB</td>\n",
       "      <td>98</td>\n",
       "      <td>240000</td>\n",
       "    </tr>\n",
       "    <tr>\n",
       "      <th>1</th>\n",
       "      <td>2021-08-08</td>\n",
       "      <td>Lc5Rao4WdVZLCbnomg</td>\n",
       "      <td>festivals</td>\n",
       "      <td>[community, festival]</td>\n",
       "      <td>Our Community Festival</td>\n",
       "      <td>Our Community Festival - Fun, Family friendly ...</td>\n",
       "      <td>2021-08-08 12:00:00+01:00</td>\n",
       "      <td>2021-08-08 17:00:00+01:00</td>\n",
       "      <td>18000</td>\n",
       "      <td>GB</td>\n",
       "      <td>86</td>\n",
       "      <td>64000</td>\n",
       "    </tr>\n",
       "    <tr>\n",
       "      <th>2</th>\n",
       "      <td>2021-08-08</td>\n",
       "      <td>GVrzjmd9Xoj776HESJ</td>\n",
       "      <td>sports</td>\n",
       "      <td>[soccer, sport]</td>\n",
       "      <td>Club Friendlies Women - Club Friendlies 1 - To...</td>\n",
       "      <td></td>\n",
       "      <td>2021-08-08 16:45:00+01:00</td>\n",
       "      <td>2021-08-08 16:45:00+01:00</td>\n",
       "      <td>0</td>\n",
       "      <td>GB</td>\n",
       "      <td>82</td>\n",
       "      <td>41407</td>\n",
       "    </tr>\n",
       "    <tr>\n",
       "      <th>3</th>\n",
       "      <td>2021-08-08</td>\n",
       "      <td>kzpieT8RQDjxzcmi5Q</td>\n",
       "      <td>concerts</td>\n",
       "      <td>[concert, music]</td>\n",
       "      <td>Extra Date: Sonny Fodera &amp; Gorgon City present...</td>\n",
       "      <td></td>\n",
       "      <td>2021-08-08 13:00:00+01:00</td>\n",
       "      <td>2021-08-08 13:00:00+01:00</td>\n",
       "      <td>0</td>\n",
       "      <td>GB</td>\n",
       "      <td>82</td>\n",
       "      <td>39200</td>\n",
       "    </tr>\n",
       "    <tr>\n",
       "      <th>4</th>\n",
       "      <td>2021-08-08</td>\n",
       "      <td>QbY2ZXAEgMezUkBTzx</td>\n",
       "      <td>sports</td>\n",
       "      <td>[soccer, sport]</td>\n",
       "      <td>Club Friendlies - Club Friendlies 1 - Tottenha...</td>\n",
       "      <td></td>\n",
       "      <td>2021-08-08 14:00:00+01:00</td>\n",
       "      <td>2021-08-08 14:00:00+01:00</td>\n",
       "      <td>0</td>\n",
       "      <td>GB</td>\n",
       "      <td>78</td>\n",
       "      <td>25000</td>\n",
       "    </tr>\n",
       "    <tr>\n",
       "      <th>5</th>\n",
       "      <td>2021-08-08</td>\n",
       "      <td>FjPotx4RqvhR6NSRUx</td>\n",
       "      <td>sports</td>\n",
       "      <td>[sport, triathlon]</td>\n",
       "      <td>London Triathlon</td>\n",
       "      <td>The London Triathlon also known as the \"AJ Bel...</td>\n",
       "      <td>2021-08-07 00:00:00+01:00</td>\n",
       "      <td>2021-08-08 23:59:59+01:00</td>\n",
       "      <td>172799</td>\n",
       "      <td>GB</td>\n",
       "      <td>78</td>\n",
       "      <td>24000</td>\n",
       "    </tr>\n",
       "    <tr>\n",
       "      <th>6</th>\n",
       "      <td>2021-08-08</td>\n",
       "      <td>4hw5tTgN8MW7jH4o4w</td>\n",
       "      <td>sports</td>\n",
       "      <td>[cricket, sport]</td>\n",
       "      <td>Oval Invincibles vs Trent Rockets</td>\n",
       "      <td></td>\n",
       "      <td>2021-08-08 15:30:00+01:00</td>\n",
       "      <td>2021-08-08 15:30:00+01:00</td>\n",
       "      <td>0</td>\n",
       "      <td>GB</td>\n",
       "      <td>76</td>\n",
       "      <td>20800</td>\n",
       "    </tr>\n",
       "    <tr>\n",
       "      <th>7</th>\n",
       "      <td>2021-08-08</td>\n",
       "      <td>T9yvBXT9FWKtGbNxNs</td>\n",
       "      <td>sports</td>\n",
       "      <td>[soccer, sport]</td>\n",
       "      <td>Championship - Fulham vs Middlesbrough</td>\n",
       "      <td></td>\n",
       "      <td>2021-08-08 13:30:00+01:00</td>\n",
       "      <td>2021-08-08 13:30:00+01:00</td>\n",
       "      <td>0</td>\n",
       "      <td>GB</td>\n",
       "      <td>74</td>\n",
       "      <td>16058</td>\n",
       "    </tr>\n",
       "    <tr>\n",
       "      <th>8</th>\n",
       "      <td>2021-08-08</td>\n",
       "      <td>pC35xRf5zboLa2mRfq</td>\n",
       "      <td>sports</td>\n",
       "      <td>[cricket, sport]</td>\n",
       "      <td>Kent vs Hampshire</td>\n",
       "      <td></td>\n",
       "      <td>2021-08-08 11:00:00+01:00</td>\n",
       "      <td>2021-08-08 18:07:18+01:00</td>\n",
       "      <td>25638</td>\n",
       "      <td>GB</td>\n",
       "      <td>68</td>\n",
       "      <td>8000</td>\n",
       "    </tr>\n",
       "    <tr>\n",
       "      <th>9</th>\n",
       "      <td>2021-08-08</td>\n",
       "      <td>3VevqgDRDbccbrC2LH</td>\n",
       "      <td>sports</td>\n",
       "      <td>[cricket, sport]</td>\n",
       "      <td>Derbyshire vs Yorkshire</td>\n",
       "      <td></td>\n",
       "      <td>2021-08-08 11:00:00+01:00</td>\n",
       "      <td>2021-08-08 18:33:52+01:00</td>\n",
       "      <td>27232</td>\n",
       "      <td>GB</td>\n",
       "      <td>65</td>\n",
       "      <td>5600</td>\n",
       "    </tr>\n",
       "  </tbody>\n",
       "</table>\n",
       "</div>"
      ],
      "text/plain": [
       "         date                  id   category                 labels  \\\n",
       "0  2021-08-08  UfbhzKgAcmRnybUKTS  festivals      [festival, music]   \n",
       "1  2021-08-08  Lc5Rao4WdVZLCbnomg  festivals  [community, festival]   \n",
       "2  2021-08-08  GVrzjmd9Xoj776HESJ     sports        [soccer, sport]   \n",
       "3  2021-08-08  kzpieT8RQDjxzcmi5Q   concerts       [concert, music]   \n",
       "4  2021-08-08  QbY2ZXAEgMezUkBTzx     sports        [soccer, sport]   \n",
       "5  2021-08-08  FjPotx4RqvhR6NSRUx     sports     [sport, triathlon]   \n",
       "6  2021-08-08  4hw5tTgN8MW7jH4o4w     sports       [cricket, sport]   \n",
       "7  2021-08-08  T9yvBXT9FWKtGbNxNs     sports        [soccer, sport]   \n",
       "8  2021-08-08  pC35xRf5zboLa2mRfq     sports       [cricket, sport]   \n",
       "9  2021-08-08  3VevqgDRDbccbrC2LH     sports       [cricket, sport]   \n",
       "\n",
       "                                               title  \\\n",
       "0                                          BBC Proms   \n",
       "1                             Our Community Festival   \n",
       "2  Club Friendlies Women - Club Friendlies 1 - To...   \n",
       "3  Extra Date: Sonny Fodera & Gorgon City present...   \n",
       "4  Club Friendlies - Club Friendlies 1 - Tottenha...   \n",
       "5                                   London Triathlon   \n",
       "6                  Oval Invincibles vs Trent Rockets   \n",
       "7             Championship - Fulham vs Middlesbrough   \n",
       "8                                  Kent vs Hampshire   \n",
       "9                            Derbyshire vs Yorkshire   \n",
       "\n",
       "                                         description  \\\n",
       "0  The Proms or BBC Proms, formally named the Hen...   \n",
       "1  Our Community Festival - Fun, Family friendly ...   \n",
       "2                                                      \n",
       "3                                                      \n",
       "4                                                      \n",
       "5  The London Triathlon also known as the \"AJ Bel...   \n",
       "6                                                      \n",
       "7                                                      \n",
       "8                                                      \n",
       "9                                                      \n",
       "\n",
       "                start_local                 end_local  duration country  rank  \\\n",
       "0 2021-07-30 00:00:00+01:00 2021-09-11 23:59:59+01:00   3801599      GB    98   \n",
       "1 2021-08-08 12:00:00+01:00 2021-08-08 17:00:00+01:00     18000      GB    86   \n",
       "2 2021-08-08 16:45:00+01:00 2021-08-08 16:45:00+01:00         0      GB    82   \n",
       "3 2021-08-08 13:00:00+01:00 2021-08-08 13:00:00+01:00         0      GB    82   \n",
       "4 2021-08-08 14:00:00+01:00 2021-08-08 14:00:00+01:00         0      GB    78   \n",
       "5 2021-08-07 00:00:00+01:00 2021-08-08 23:59:59+01:00    172799      GB    78   \n",
       "6 2021-08-08 15:30:00+01:00 2021-08-08 15:30:00+01:00         0      GB    76   \n",
       "7 2021-08-08 13:30:00+01:00 2021-08-08 13:30:00+01:00         0      GB    74   \n",
       "8 2021-08-08 11:00:00+01:00 2021-08-08 18:07:18+01:00     25638      GB    68   \n",
       "9 2021-08-08 11:00:00+01:00 2021-08-08 18:33:52+01:00     27232      GB    65   \n",
       "\n",
       "   phq_attendance  \n",
       "0          240000  \n",
       "1           64000  \n",
       "2           41407  \n",
       "3           39200  \n",
       "4           25000  \n",
       "5           24000  \n",
       "6           20800  \n",
       "7           16058  \n",
       "8            8000  \n",
       "9            5600  "
      ]
     },
     "metadata": {},
     "output_type": "display_data"
    }
   ],
   "source": [
    "for date in outlier_dates:\n",
    "\n",
    "    display(\n",
    "        top_events.filter(attended_events_cols)\n",
    "        .loc[top_events[\"date\"] == date]\n",
    "        .sort_values(by=[\"phq_attendance\"], ascending=[False])\n",
    "        .head(10)\n",
    "        .reset_index(drop=True)\n",
    "    )"
   ]
  }
 ],
 "metadata": {
  "kernelspec": {
   "display_name": "Python 3",
   "language": "python",
   "name": "python3"
  },
  "language_info": {
   "codemirror_mode": {
    "name": "ipython",
    "version": 3
   },
   "file_extension": ".py",
   "mimetype": "text/x-python",
   "name": "python",
   "nbconvert_exporter": "python",
   "pygments_lexer": "ipython3",
   "version": "3.8.12"
  },
  "toc-autonumbering": true
 },
 "nbformat": 4,
 "nbformat_minor": 5
}
