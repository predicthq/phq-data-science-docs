{
 "cells": [
  {
   "cell_type": "markdown",
   "metadata": {},
   "source": [
    "The purpose of this notebook is to demonstrate how you can incorporate forecast-ready event features into your demand forecasting model. \n",
    "\n",
    "Make sure you have a predefined set of locations with corresponding demand data and event features ready before running this notebook. We will train an XGBoost model to predict restaurant demand using both event and existing features, as well as using existing features alone. You are encouraged to adapt this approach for your own demand forecasting workflow. "
   ]
  },
  {
   "cell_type": "markdown",
   "metadata": {},
   "source": [
    "# Background"
   ]
  },
  {
   "cell_type": "markdown",
   "metadata": {},
   "source": [
    "This notebook uses demand data from multiple restaurant locations across the US, spanning two years from 2017 to 2018. We will train the model using the first 80% of this data and make predictions with the remaining 20%. The performance of the model using both event and existing features versus using only existing features will be compared."
   ]
  },
  {
   "cell_type": "markdown",
   "metadata": {
    "vscode": {
     "languageId": "plaintext"
    }
   },
   "source": [
    "# Steps\n",
    "\n",
    "* [Setup](#setup)\n",
    "* [Step 1. Prepare data](#step-1-prepare-data)\n",
    "* [Step 2. Merge Features and Demand](#step-2-merge-features-and-demand)\n",
    "* [Step 3. Train Model](#step-3-train-model)"
   ]
  },
  {
   "cell_type": "markdown",
   "metadata": {},
   "source": [
    "# Setup"
   ]
  },
  {
   "cell_type": "markdown",
   "metadata": {
    "vscode": {
     "languageId": "plaintext"
    }
   },
   "source": [
    "Complete the following steps before proceeding:\n",
    "\n",
    "1. Install `requirements.txt`\n",
    "2. Update `DATA_DIR` and `OUTPUT_DIR` as necessary"
   ]
  },
  {
   "cell_type": "code",
   "execution_count": 1,
   "metadata": {},
   "outputs": [],
   "source": [
    "# install requirements\n",
    "# %pip install --user -r requirements.txt"
   ]
  },
  {
   "cell_type": "code",
   "execution_count": 2,
   "metadata": {},
   "outputs": [],
   "source": [
    "import pandas as pd\n",
    "import numpy as np\n",
    "import os\n",
    "import xgboost as xgb\n",
    "from sklearn.metrics import mean_absolute_error, mean_squared_error\n",
    "import plotly.graph_objects as go"
   ]
  },
  {
   "cell_type": "code",
   "execution_count": 3,
   "metadata": {},
   "outputs": [],
   "source": [
    "DATA_DIR = \"data\"\n",
    "OUTPUT_DIR = \"output\""
   ]
  },
  {
   "cell_type": "markdown",
   "metadata": {},
   "source": [
    "# Step 1. Prepare Data"
   ]
  },
  {
   "cell_type": "markdown",
   "metadata": {},
   "source": [
    "Prepare the following information:\n",
    "\n",
    "1. Demand data\n",
    "\n",
    "    a. One csv file with columns for `location`, `date` and `demand` \n",
    "\n",
    "2. Features data\n",
    "\n",
    "    a. One csv file with columns for `location`, `date` and event features\n",
    "\n",
    "    b. One csv file with columns for `location`, `date` and existing features (optional)"
   ]
  },
  {
   "cell_type": "code",
   "execution_count": 4,
   "metadata": {},
   "outputs": [
    {
     "data": {
      "text/html": [
       "<div>\n",
       "<style scoped>\n",
       "    .dataframe tbody tr th:only-of-type {\n",
       "        vertical-align: middle;\n",
       "    }\n",
       "\n",
       "    .dataframe tbody tr th {\n",
       "        vertical-align: top;\n",
       "    }\n",
       "\n",
       "    .dataframe thead th {\n",
       "        text-align: right;\n",
       "    }\n",
       "</style>\n",
       "<table border=\"1\" class=\"dataframe\">\n",
       "  <thead>\n",
       "    <tr style=\"text-align: right;\">\n",
       "      <th></th>\n",
       "      <th>location</th>\n",
       "      <th>date</th>\n",
       "      <th>demand</th>\n",
       "    </tr>\n",
       "  </thead>\n",
       "  <tbody>\n",
       "    <tr>\n",
       "      <th>0</th>\n",
       "      <td>store_0</td>\n",
       "      <td>2017-01-02</td>\n",
       "      <td>5552.019186</td>\n",
       "    </tr>\n",
       "    <tr>\n",
       "      <th>1</th>\n",
       "      <td>store_0</td>\n",
       "      <td>2017-01-03</td>\n",
       "      <td>8299.941863</td>\n",
       "    </tr>\n",
       "    <tr>\n",
       "      <th>2</th>\n",
       "      <td>store_0</td>\n",
       "      <td>2017-01-04</td>\n",
       "      <td>8556.730072</td>\n",
       "    </tr>\n",
       "    <tr>\n",
       "      <th>3</th>\n",
       "      <td>store_0</td>\n",
       "      <td>2017-01-05</td>\n",
       "      <td>8595.100423</td>\n",
       "    </tr>\n",
       "    <tr>\n",
       "      <th>4</th>\n",
       "      <td>store_0</td>\n",
       "      <td>2017-01-06</td>\n",
       "      <td>8198.941337</td>\n",
       "    </tr>\n",
       "  </tbody>\n",
       "</table>\n",
       "</div>"
      ],
      "text/plain": [
       "  location        date       demand\n",
       "0  store_0  2017-01-02  5552.019186\n",
       "1  store_0  2017-01-03  8299.941863\n",
       "2  store_0  2017-01-04  8556.730072\n",
       "3  store_0  2017-01-05  8595.100423\n",
       "4  store_0  2017-01-06  8198.941337"
      ]
     },
     "execution_count": 4,
     "metadata": {},
     "output_type": "execute_result"
    }
   ],
   "source": [
    "# read and inspect demand file\n",
    "demand_df = pd.read_csv(os.path.join(DATA_DIR, \"demand.csv\"))\n",
    "demand_df.head()"
   ]
  },
  {
   "cell_type": "code",
   "execution_count": 5,
   "metadata": {},
   "outputs": [
    {
     "data": {
      "text/html": [
       "<div>\n",
       "<style scoped>\n",
       "    .dataframe tbody tr th:only-of-type {\n",
       "        vertical-align: middle;\n",
       "    }\n",
       "\n",
       "    .dataframe tbody tr th {\n",
       "        vertical-align: top;\n",
       "    }\n",
       "\n",
       "    .dataframe thead th {\n",
       "        text-align: right;\n",
       "    }\n",
       "</style>\n",
       "<table border=\"1\" class=\"dataframe\">\n",
       "  <thead>\n",
       "    <tr style=\"text-align: right;\">\n",
       "      <th></th>\n",
       "      <th>location</th>\n",
       "      <th>date</th>\n",
       "      <th>phq_attendance_community</th>\n",
       "      <th>phq_attendance_concerts</th>\n",
       "      <th>phq_attendance_conferences</th>\n",
       "      <th>phq_attendance_expos</th>\n",
       "      <th>phq_attendance_festivals</th>\n",
       "      <th>phq_attendance_performing_arts</th>\n",
       "      <th>phq_attendance_school_holidays</th>\n",
       "      <th>phq_attendance_sports</th>\n",
       "      <th>...</th>\n",
       "      <th>phq_impact_severe_weather_dust_retail</th>\n",
       "      <th>phq_impact_severe_weather_dust_storm_retail</th>\n",
       "      <th>phq_impact_severe_weather_flood_retail</th>\n",
       "      <th>phq_impact_severe_weather_heat_wave_retail</th>\n",
       "      <th>phq_impact_severe_weather_hurricane_retail</th>\n",
       "      <th>phq_impact_severe_weather_thunderstorm_retail</th>\n",
       "      <th>phq_impact_severe_weather_tornado_retail</th>\n",
       "      <th>phq_impact_severe_weather_tropical_storm_retail</th>\n",
       "      <th>phq_rank_academic_exam</th>\n",
       "      <th>phq_rank_academic_holiday</th>\n",
       "    </tr>\n",
       "  </thead>\n",
       "  <tbody>\n",
       "    <tr>\n",
       "      <th>0</th>\n",
       "      <td>store_0</td>\n",
       "      <td>2017-01-02</td>\n",
       "      <td>8522.0</td>\n",
       "      <td>33356.0</td>\n",
       "      <td>0.0</td>\n",
       "      <td>0.0</td>\n",
       "      <td>0.0</td>\n",
       "      <td>8889.0</td>\n",
       "      <td>0.0</td>\n",
       "      <td>19812.0</td>\n",
       "      <td>...</td>\n",
       "      <td>NaN</td>\n",
       "      <td>NaN</td>\n",
       "      <td>NaN</td>\n",
       "      <td>NaN</td>\n",
       "      <td>NaN</td>\n",
       "      <td>NaN</td>\n",
       "      <td>NaN</td>\n",
       "      <td>NaN</td>\n",
       "      <td>NaN</td>\n",
       "      <td>NaN</td>\n",
       "    </tr>\n",
       "    <tr>\n",
       "      <th>1</th>\n",
       "      <td>store_0</td>\n",
       "      <td>2017-01-03</td>\n",
       "      <td>8599.0</td>\n",
       "      <td>33469.0</td>\n",
       "      <td>0.0</td>\n",
       "      <td>0.0</td>\n",
       "      <td>0.0</td>\n",
       "      <td>16207.0</td>\n",
       "      <td>0.0</td>\n",
       "      <td>18006.0</td>\n",
       "      <td>...</td>\n",
       "      <td>NaN</td>\n",
       "      <td>NaN</td>\n",
       "      <td>NaN</td>\n",
       "      <td>NaN</td>\n",
       "      <td>NaN</td>\n",
       "      <td>NaN</td>\n",
       "      <td>NaN</td>\n",
       "      <td>NaN</td>\n",
       "      <td>NaN</td>\n",
       "      <td>NaN</td>\n",
       "    </tr>\n",
       "    <tr>\n",
       "      <th>2</th>\n",
       "      <td>store_0</td>\n",
       "      <td>2017-01-04</td>\n",
       "      <td>8705.0</td>\n",
       "      <td>2790.0</td>\n",
       "      <td>0.0</td>\n",
       "      <td>0.0</td>\n",
       "      <td>0.0</td>\n",
       "      <td>25210.0</td>\n",
       "      <td>0.0</td>\n",
       "      <td>19812.0</td>\n",
       "      <td>...</td>\n",
       "      <td>NaN</td>\n",
       "      <td>NaN</td>\n",
       "      <td>NaN</td>\n",
       "      <td>NaN</td>\n",
       "      <td>NaN</td>\n",
       "      <td>NaN</td>\n",
       "      <td>NaN</td>\n",
       "      <td>NaN</td>\n",
       "      <td>NaN</td>\n",
       "      <td>NaN</td>\n",
       "    </tr>\n",
       "    <tr>\n",
       "      <th>3</th>\n",
       "      <td>store_0</td>\n",
       "      <td>2017-01-05</td>\n",
       "      <td>8653.0</td>\n",
       "      <td>5991.0</td>\n",
       "      <td>0.0</td>\n",
       "      <td>0.0</td>\n",
       "      <td>0.0</td>\n",
       "      <td>17663.0</td>\n",
       "      <td>0.0</td>\n",
       "      <td>0.0</td>\n",
       "      <td>...</td>\n",
       "      <td>NaN</td>\n",
       "      <td>NaN</td>\n",
       "      <td>NaN</td>\n",
       "      <td>NaN</td>\n",
       "      <td>NaN</td>\n",
       "      <td>NaN</td>\n",
       "      <td>NaN</td>\n",
       "      <td>NaN</td>\n",
       "      <td>NaN</td>\n",
       "      <td>NaN</td>\n",
       "    </tr>\n",
       "    <tr>\n",
       "      <th>4</th>\n",
       "      <td>store_0</td>\n",
       "      <td>2017-01-06</td>\n",
       "      <td>12758.0</td>\n",
       "      <td>9501.0</td>\n",
       "      <td>0.0</td>\n",
       "      <td>0.0</td>\n",
       "      <td>0.0</td>\n",
       "      <td>19981.0</td>\n",
       "      <td>0.0</td>\n",
       "      <td>19500.0</td>\n",
       "      <td>...</td>\n",
       "      <td>NaN</td>\n",
       "      <td>NaN</td>\n",
       "      <td>NaN</td>\n",
       "      <td>NaN</td>\n",
       "      <td>NaN</td>\n",
       "      <td>NaN</td>\n",
       "      <td>NaN</td>\n",
       "      <td>NaN</td>\n",
       "      <td>NaN</td>\n",
       "      <td>NaN</td>\n",
       "    </tr>\n",
       "  </tbody>\n",
       "</table>\n",
       "<p>5 rows × 27 columns</p>\n",
       "</div>"
      ],
      "text/plain": [
       "  location        date  phq_attendance_community  phq_attendance_concerts  \\\n",
       "0  store_0  2017-01-02                    8522.0                  33356.0   \n",
       "1  store_0  2017-01-03                    8599.0                  33469.0   \n",
       "2  store_0  2017-01-04                    8705.0                   2790.0   \n",
       "3  store_0  2017-01-05                    8653.0                   5991.0   \n",
       "4  store_0  2017-01-06                   12758.0                   9501.0   \n",
       "\n",
       "   phq_attendance_conferences  phq_attendance_expos  phq_attendance_festivals  \\\n",
       "0                         0.0                   0.0                       0.0   \n",
       "1                         0.0                   0.0                       0.0   \n",
       "2                         0.0                   0.0                       0.0   \n",
       "3                         0.0                   0.0                       0.0   \n",
       "4                         0.0                   0.0                       0.0   \n",
       "\n",
       "   phq_attendance_performing_arts  phq_attendance_school_holidays  \\\n",
       "0                          8889.0                             0.0   \n",
       "1                         16207.0                             0.0   \n",
       "2                         25210.0                             0.0   \n",
       "3                         17663.0                             0.0   \n",
       "4                         19981.0                             0.0   \n",
       "\n",
       "   phq_attendance_sports  ...  phq_impact_severe_weather_dust_retail  \\\n",
       "0                19812.0  ...                                    NaN   \n",
       "1                18006.0  ...                                    NaN   \n",
       "2                19812.0  ...                                    NaN   \n",
       "3                    0.0  ...                                    NaN   \n",
       "4                19500.0  ...                                    NaN   \n",
       "\n",
       "   phq_impact_severe_weather_dust_storm_retail  \\\n",
       "0                                          NaN   \n",
       "1                                          NaN   \n",
       "2                                          NaN   \n",
       "3                                          NaN   \n",
       "4                                          NaN   \n",
       "\n",
       "   phq_impact_severe_weather_flood_retail  \\\n",
       "0                                     NaN   \n",
       "1                                     NaN   \n",
       "2                                     NaN   \n",
       "3                                     NaN   \n",
       "4                                     NaN   \n",
       "\n",
       "   phq_impact_severe_weather_heat_wave_retail  \\\n",
       "0                                         NaN   \n",
       "1                                         NaN   \n",
       "2                                         NaN   \n",
       "3                                         NaN   \n",
       "4                                         NaN   \n",
       "\n",
       "   phq_impact_severe_weather_hurricane_retail  \\\n",
       "0                                         NaN   \n",
       "1                                         NaN   \n",
       "2                                         NaN   \n",
       "3                                         NaN   \n",
       "4                                         NaN   \n",
       "\n",
       "   phq_impact_severe_weather_thunderstorm_retail  \\\n",
       "0                                            NaN   \n",
       "1                                            NaN   \n",
       "2                                            NaN   \n",
       "3                                            NaN   \n",
       "4                                            NaN   \n",
       "\n",
       "   phq_impact_severe_weather_tornado_retail  \\\n",
       "0                                       NaN   \n",
       "1                                       NaN   \n",
       "2                                       NaN   \n",
       "3                                       NaN   \n",
       "4                                       NaN   \n",
       "\n",
       "   phq_impact_severe_weather_tropical_storm_retail  phq_rank_academic_exam  \\\n",
       "0                                              NaN                     NaN   \n",
       "1                                              NaN                     NaN   \n",
       "2                                              NaN                     NaN   \n",
       "3                                              NaN                     NaN   \n",
       "4                                              NaN                     NaN   \n",
       "\n",
       "   phq_rank_academic_holiday  \n",
       "0                        NaN  \n",
       "1                        NaN  \n",
       "2                        NaN  \n",
       "3                        NaN  \n",
       "4                        NaN  \n",
       "\n",
       "[5 rows x 27 columns]"
      ]
     },
     "execution_count": 5,
     "metadata": {},
     "output_type": "execute_result"
    }
   ],
   "source": [
    "# read and inspect event features file\n",
    "event_features_df = pd.read_csv(os.path.join(OUTPUT_DIR, \"features.csv\"))\n",
    "event_features_df.head()"
   ]
  },
  {
   "cell_type": "code",
   "execution_count": 6,
   "metadata": {},
   "outputs": [
    {
     "data": {
      "text/html": [
       "<div>\n",
       "<style scoped>\n",
       "    .dataframe tbody tr th:only-of-type {\n",
       "        vertical-align: middle;\n",
       "    }\n",
       "\n",
       "    .dataframe tbody tr th {\n",
       "        vertical-align: top;\n",
       "    }\n",
       "\n",
       "    .dataframe thead th {\n",
       "        text-align: right;\n",
       "    }\n",
       "</style>\n",
       "<table border=\"1\" class=\"dataframe\">\n",
       "  <thead>\n",
       "    <tr style=\"text-align: right;\">\n",
       "      <th></th>\n",
       "      <th>location</th>\n",
       "      <th>date</th>\n",
       "      <th>day_of_week</th>\n",
       "      <th>week_of_year</th>\n",
       "      <th>month_of_year</th>\n",
       "    </tr>\n",
       "  </thead>\n",
       "  <tbody>\n",
       "    <tr>\n",
       "      <th>0</th>\n",
       "      <td>store_0</td>\n",
       "      <td>2017-01-02</td>\n",
       "      <td>0.0</td>\n",
       "      <td>1</td>\n",
       "      <td>1</td>\n",
       "    </tr>\n",
       "    <tr>\n",
       "      <th>1</th>\n",
       "      <td>store_0</td>\n",
       "      <td>2017-01-03</td>\n",
       "      <td>1.0</td>\n",
       "      <td>1</td>\n",
       "      <td>1</td>\n",
       "    </tr>\n",
       "    <tr>\n",
       "      <th>2</th>\n",
       "      <td>store_0</td>\n",
       "      <td>2017-01-04</td>\n",
       "      <td>2.0</td>\n",
       "      <td>1</td>\n",
       "      <td>1</td>\n",
       "    </tr>\n",
       "    <tr>\n",
       "      <th>3</th>\n",
       "      <td>store_0</td>\n",
       "      <td>2017-01-05</td>\n",
       "      <td>3.0</td>\n",
       "      <td>1</td>\n",
       "      <td>1</td>\n",
       "    </tr>\n",
       "    <tr>\n",
       "      <th>4</th>\n",
       "      <td>store_0</td>\n",
       "      <td>2017-01-06</td>\n",
       "      <td>4.0</td>\n",
       "      <td>1</td>\n",
       "      <td>1</td>\n",
       "    </tr>\n",
       "  </tbody>\n",
       "</table>\n",
       "</div>"
      ],
      "text/plain": [
       "  location        date  day_of_week  week_of_year  month_of_year\n",
       "0  store_0  2017-01-02          0.0             1              1\n",
       "1  store_0  2017-01-03          1.0             1              1\n",
       "2  store_0  2017-01-04          2.0             1              1\n",
       "3  store_0  2017-01-05          3.0             1              1\n",
       "4  store_0  2017-01-06          4.0             1              1"
      ]
     },
     "execution_count": 6,
     "metadata": {},
     "output_type": "execute_result"
    }
   ],
   "source": [
    "# read and inspect existing features file\n",
    "existing_features_df = pd.read_csv(os.path.join(DATA_DIR, \"existing_features.csv\"))\n",
    "existing_features_df.head()"
   ]
  },
  {
   "cell_type": "markdown",
   "metadata": {},
   "source": [
    "# Step 2. Merge Features and Demand"
   ]
  },
  {
   "cell_type": "code",
   "execution_count": 7,
   "metadata": {},
   "outputs": [
    {
     "data": {
      "text/html": [
       "<div>\n",
       "<style scoped>\n",
       "    .dataframe tbody tr th:only-of-type {\n",
       "        vertical-align: middle;\n",
       "    }\n",
       "\n",
       "    .dataframe tbody tr th {\n",
       "        vertical-align: top;\n",
       "    }\n",
       "\n",
       "    .dataframe thead th {\n",
       "        text-align: right;\n",
       "    }\n",
       "</style>\n",
       "<table border=\"1\" class=\"dataframe\">\n",
       "  <thead>\n",
       "    <tr style=\"text-align: right;\">\n",
       "      <th></th>\n",
       "      <th>location</th>\n",
       "      <th>date</th>\n",
       "      <th>demand</th>\n",
       "      <th>phq_attendance_community</th>\n",
       "      <th>phq_attendance_concerts</th>\n",
       "      <th>phq_attendance_conferences</th>\n",
       "      <th>phq_attendance_expos</th>\n",
       "      <th>phq_attendance_festivals</th>\n",
       "      <th>phq_attendance_performing_arts</th>\n",
       "      <th>phq_attendance_school_holidays</th>\n",
       "      <th>...</th>\n",
       "      <th>phq_impact_severe_weather_heat_wave_retail</th>\n",
       "      <th>phq_impact_severe_weather_hurricane_retail</th>\n",
       "      <th>phq_impact_severe_weather_thunderstorm_retail</th>\n",
       "      <th>phq_impact_severe_weather_tornado_retail</th>\n",
       "      <th>phq_impact_severe_weather_tropical_storm_retail</th>\n",
       "      <th>phq_rank_academic_exam</th>\n",
       "      <th>phq_rank_academic_holiday</th>\n",
       "      <th>day_of_week</th>\n",
       "      <th>week_of_year</th>\n",
       "      <th>month_of_year</th>\n",
       "    </tr>\n",
       "  </thead>\n",
       "  <tbody>\n",
       "    <tr>\n",
       "      <th>0</th>\n",
       "      <td>store_0</td>\n",
       "      <td>2017-01-02</td>\n",
       "      <td>5552.019186</td>\n",
       "      <td>8522.0</td>\n",
       "      <td>33356.0</td>\n",
       "      <td>0.0</td>\n",
       "      <td>0.0</td>\n",
       "      <td>0.0</td>\n",
       "      <td>8889.0</td>\n",
       "      <td>0.0</td>\n",
       "      <td>...</td>\n",
       "      <td>NaN</td>\n",
       "      <td>NaN</td>\n",
       "      <td>NaN</td>\n",
       "      <td>NaN</td>\n",
       "      <td>NaN</td>\n",
       "      <td>NaN</td>\n",
       "      <td>NaN</td>\n",
       "      <td>0.0</td>\n",
       "      <td>1</td>\n",
       "      <td>1</td>\n",
       "    </tr>\n",
       "    <tr>\n",
       "      <th>1</th>\n",
       "      <td>store_0</td>\n",
       "      <td>2017-01-03</td>\n",
       "      <td>8299.941863</td>\n",
       "      <td>8599.0</td>\n",
       "      <td>33469.0</td>\n",
       "      <td>0.0</td>\n",
       "      <td>0.0</td>\n",
       "      <td>0.0</td>\n",
       "      <td>16207.0</td>\n",
       "      <td>0.0</td>\n",
       "      <td>...</td>\n",
       "      <td>NaN</td>\n",
       "      <td>NaN</td>\n",
       "      <td>NaN</td>\n",
       "      <td>NaN</td>\n",
       "      <td>NaN</td>\n",
       "      <td>NaN</td>\n",
       "      <td>NaN</td>\n",
       "      <td>1.0</td>\n",
       "      <td>1</td>\n",
       "      <td>1</td>\n",
       "    </tr>\n",
       "    <tr>\n",
       "      <th>2</th>\n",
       "      <td>store_0</td>\n",
       "      <td>2017-01-04</td>\n",
       "      <td>8556.730072</td>\n",
       "      <td>8705.0</td>\n",
       "      <td>2790.0</td>\n",
       "      <td>0.0</td>\n",
       "      <td>0.0</td>\n",
       "      <td>0.0</td>\n",
       "      <td>25210.0</td>\n",
       "      <td>0.0</td>\n",
       "      <td>...</td>\n",
       "      <td>NaN</td>\n",
       "      <td>NaN</td>\n",
       "      <td>NaN</td>\n",
       "      <td>NaN</td>\n",
       "      <td>NaN</td>\n",
       "      <td>NaN</td>\n",
       "      <td>NaN</td>\n",
       "      <td>2.0</td>\n",
       "      <td>1</td>\n",
       "      <td>1</td>\n",
       "    </tr>\n",
       "    <tr>\n",
       "      <th>3</th>\n",
       "      <td>store_0</td>\n",
       "      <td>2017-01-05</td>\n",
       "      <td>8595.100423</td>\n",
       "      <td>8653.0</td>\n",
       "      <td>5991.0</td>\n",
       "      <td>0.0</td>\n",
       "      <td>0.0</td>\n",
       "      <td>0.0</td>\n",
       "      <td>17663.0</td>\n",
       "      <td>0.0</td>\n",
       "      <td>...</td>\n",
       "      <td>NaN</td>\n",
       "      <td>NaN</td>\n",
       "      <td>NaN</td>\n",
       "      <td>NaN</td>\n",
       "      <td>NaN</td>\n",
       "      <td>NaN</td>\n",
       "      <td>NaN</td>\n",
       "      <td>3.0</td>\n",
       "      <td>1</td>\n",
       "      <td>1</td>\n",
       "    </tr>\n",
       "    <tr>\n",
       "      <th>4</th>\n",
       "      <td>store_0</td>\n",
       "      <td>2017-01-06</td>\n",
       "      <td>8198.941337</td>\n",
       "      <td>12758.0</td>\n",
       "      <td>9501.0</td>\n",
       "      <td>0.0</td>\n",
       "      <td>0.0</td>\n",
       "      <td>0.0</td>\n",
       "      <td>19981.0</td>\n",
       "      <td>0.0</td>\n",
       "      <td>...</td>\n",
       "      <td>NaN</td>\n",
       "      <td>NaN</td>\n",
       "      <td>NaN</td>\n",
       "      <td>NaN</td>\n",
       "      <td>NaN</td>\n",
       "      <td>NaN</td>\n",
       "      <td>NaN</td>\n",
       "      <td>4.0</td>\n",
       "      <td>1</td>\n",
       "      <td>1</td>\n",
       "    </tr>\n",
       "  </tbody>\n",
       "</table>\n",
       "<p>5 rows × 31 columns</p>\n",
       "</div>"
      ],
      "text/plain": [
       "  location        date       demand  phq_attendance_community  \\\n",
       "0  store_0  2017-01-02  5552.019186                    8522.0   \n",
       "1  store_0  2017-01-03  8299.941863                    8599.0   \n",
       "2  store_0  2017-01-04  8556.730072                    8705.0   \n",
       "3  store_0  2017-01-05  8595.100423                    8653.0   \n",
       "4  store_0  2017-01-06  8198.941337                   12758.0   \n",
       "\n",
       "   phq_attendance_concerts  phq_attendance_conferences  phq_attendance_expos  \\\n",
       "0                  33356.0                         0.0                   0.0   \n",
       "1                  33469.0                         0.0                   0.0   \n",
       "2                   2790.0                         0.0                   0.0   \n",
       "3                   5991.0                         0.0                   0.0   \n",
       "4                   9501.0                         0.0                   0.0   \n",
       "\n",
       "   phq_attendance_festivals  phq_attendance_performing_arts  \\\n",
       "0                       0.0                          8889.0   \n",
       "1                       0.0                         16207.0   \n",
       "2                       0.0                         25210.0   \n",
       "3                       0.0                         17663.0   \n",
       "4                       0.0                         19981.0   \n",
       "\n",
       "   phq_attendance_school_holidays  ...  \\\n",
       "0                             0.0  ...   \n",
       "1                             0.0  ...   \n",
       "2                             0.0  ...   \n",
       "3                             0.0  ...   \n",
       "4                             0.0  ...   \n",
       "\n",
       "   phq_impact_severe_weather_heat_wave_retail  \\\n",
       "0                                         NaN   \n",
       "1                                         NaN   \n",
       "2                                         NaN   \n",
       "3                                         NaN   \n",
       "4                                         NaN   \n",
       "\n",
       "   phq_impact_severe_weather_hurricane_retail  \\\n",
       "0                                         NaN   \n",
       "1                                         NaN   \n",
       "2                                         NaN   \n",
       "3                                         NaN   \n",
       "4                                         NaN   \n",
       "\n",
       "   phq_impact_severe_weather_thunderstorm_retail  \\\n",
       "0                                            NaN   \n",
       "1                                            NaN   \n",
       "2                                            NaN   \n",
       "3                                            NaN   \n",
       "4                                            NaN   \n",
       "\n",
       "   phq_impact_severe_weather_tornado_retail  \\\n",
       "0                                       NaN   \n",
       "1                                       NaN   \n",
       "2                                       NaN   \n",
       "3                                       NaN   \n",
       "4                                       NaN   \n",
       "\n",
       "   phq_impact_severe_weather_tropical_storm_retail  phq_rank_academic_exam  \\\n",
       "0                                              NaN                     NaN   \n",
       "1                                              NaN                     NaN   \n",
       "2                                              NaN                     NaN   \n",
       "3                                              NaN                     NaN   \n",
       "4                                              NaN                     NaN   \n",
       "\n",
       "   phq_rank_academic_holiday  day_of_week  week_of_year  month_of_year  \n",
       "0                        NaN          0.0             1              1  \n",
       "1                        NaN          1.0             1              1  \n",
       "2                        NaN          2.0             1              1  \n",
       "3                        NaN          3.0             1              1  \n",
       "4                        NaN          4.0             1              1  \n",
       "\n",
       "[5 rows x 31 columns]"
      ]
     },
     "execution_count": 7,
     "metadata": {},
     "output_type": "execute_result"
    }
   ],
   "source": [
    "df = demand_df.merge(event_features_df, on=[\"location\", \"date\"], how=\"left\")\n",
    "if existing_features_df is not None:\n",
    "    df = df.merge(existing_features_df, on=[\"location\", \"date\"], how=\"left\")\n",
    "\n",
    "df.head()"
   ]
  },
  {
   "cell_type": "markdown",
   "metadata": {},
   "source": [
    "# Step 3. Train Model"
   ]
  },
  {
   "cell_type": "code",
   "execution_count": 8,
   "metadata": {},
   "outputs": [],
   "source": [
    "def split_data(df, location):\n",
    "    df[\"date\"] = pd.to_datetime(df[\"date\"])\n",
    "    loc_df = df[df[\"location\"] == location].sort_values(\"date\").copy()\n",
    "    split_index = int(len(loc_df) * 0.8)\n",
    "    train = loc_df[:split_index]\n",
    "    test = loc_df[split_index:]\n",
    "    return train, test\n",
    "\n",
    "\n",
    "def train_model(X_train, y_train):\n",
    "    model = xgb.XGBRegressor(objective=\"reg:squarederror\", random_state=42)\n",
    "    model.fit(X_train, y_train)\n",
    "    return model\n",
    "\n",
    "\n",
    "def plot_results(train, test, y_train, y_test, y_pred, location, feature_set):\n",
    "    train_trace = go.Scatter(\n",
    "        x=train[\"date\"],\n",
    "        y=y_train,\n",
    "        mode=\"lines+markers\",\n",
    "        name=\"Train Actual\",\n",
    "        line=dict(color=\"lightseagreen\"),\n",
    "    )\n",
    "    test_trace = go.Scatter(\n",
    "        x=test[\"date\"],\n",
    "        y=y_test,\n",
    "        mode=\"lines+markers\",\n",
    "        name=\"Test Actual\",\n",
    "        line=dict(color=\"LightSkyBlue\"),\n",
    "    )\n",
    "    predicted_trace = go.Scatter(\n",
    "        x=test[\"date\"],\n",
    "        y=y_pred,\n",
    "        mode=\"lines+markers\",\n",
    "        name=\"Test Predicted\",\n",
    "        line=dict(color=\"lightcoral\"),\n",
    "    )\n",
    "\n",
    "    fig = go.Figure()\n",
    "    fig.add_trace(train_trace)\n",
    "    fig.add_trace(test_trace)\n",
    "    fig.add_trace(predicted_trace)\n",
    "    fig.add_vline(\n",
    "        x=test[\"date\"].iloc[0], line_width=2, line_dash=\"dot\", line_color=\"lightgray\"\n",
    "    )\n",
    "\n",
    "    fig.update_layout(\n",
    "        title=f\"<b>Actual vs. Predicted Demand</b><br><sub>For {location}, feature set: {feature_set}</sub>\",\n",
    "        xaxis_title=\"Date\",\n",
    "        yaxis_title=\"Demand\",\n",
    "        legend_title=\"Type\",\n",
    "    )\n",
    "\n",
    "    fig.show()\n",
    "\n",
    "\n",
    "def calculate_metrics(y_test, y_pred):\n",
    "    mae = mean_absolute_error(y_test, y_pred)\n",
    "    rmse = np.sqrt(mean_squared_error(y_test, y_pred))\n",
    "    return mae, rmse\n",
    "\n",
    "\n",
    "def calculate_percentage_change(old_metrics, new_metrics):\n",
    "    mae_change = ((new_metrics[\"MAE\"] - old_metrics[\"MAE\"]) / old_metrics[\"MAE\"]) * 100\n",
    "    rmse_change = (\n",
    "        (new_metrics[\"RMSE\"] - old_metrics[\"RMSE\"]) / old_metrics[\"RMSE\"]\n",
    "    ) * 100\n",
    "    return {\"MAE Percentage Change\": mae_change, \"RMSE Percentage Change\": rmse_change}"
   ]
  },
  {
   "cell_type": "code",
   "execution_count": 9,
   "metadata": {},
   "outputs": [
    {
     "data": {
      "application/vnd.plotly.v1+json": {
       "config": {
        "plotlyServerURL": "https://plot.ly"
       },
       "data": [
        {
         "line": {
          "color": "lightseagreen"
         },
         "mode": "lines+markers",
         "name": "Train Actual",
         "type": "scatter",
         "x": [
          "2017-01-02T00:00:00",
          "2017-01-03T00:00:00",
          "2017-01-04T00:00:00",
          "2017-01-05T00:00:00",
          "2017-01-06T00:00:00",
          "2017-01-07T00:00:00",
          "2017-01-08T00:00:00",
          "2017-01-09T00:00:00",
          "2017-01-10T00:00:00",
          "2017-01-11T00:00:00",
          "2017-01-12T00:00:00",
          "2017-01-13T00:00:00",
          "2017-01-14T00:00:00",
          "2017-01-15T00:00:00",
          "2017-01-16T00:00:00",
          "2017-01-17T00:00:00",
          "2017-01-18T00:00:00",
          "2017-01-19T00:00:00",
          "2017-01-20T00:00:00",
          "2017-01-21T00:00:00",
          "2017-01-22T00:00:00",
          "2017-01-23T00:00:00",
          "2017-01-24T00:00:00",
          "2017-01-25T00:00:00",
          "2017-01-26T00:00:00",
          "2017-01-27T00:00:00",
          "2017-01-28T00:00:00",
          "2017-01-29T00:00:00",
          "2017-01-30T00:00:00",
          "2017-01-31T00:00:00",
          "2017-02-01T00:00:00",
          "2017-02-02T00:00:00",
          "2017-02-03T00:00:00",
          "2017-02-04T00:00:00",
          "2017-02-05T00:00:00",
          "2017-02-06T00:00:00",
          "2017-02-07T00:00:00",
          "2017-02-08T00:00:00",
          "2017-02-09T00:00:00",
          "2017-02-10T00:00:00",
          "2017-02-11T00:00:00",
          "2017-02-12T00:00:00",
          "2017-02-13T00:00:00",
          "2017-02-14T00:00:00",
          "2017-02-15T00:00:00",
          "2017-02-16T00:00:00",
          "2017-02-17T00:00:00",
          "2017-02-18T00:00:00",
          "2017-02-19T00:00:00",
          "2017-02-20T00:00:00",
          "2017-02-21T00:00:00",
          "2017-02-22T00:00:00",
          "2017-02-23T00:00:00",
          "2017-02-24T00:00:00",
          "2017-02-25T00:00:00",
          "2017-02-26T00:00:00",
          "2017-03-01T00:00:00",
          "2017-03-02T00:00:00",
          "2017-03-03T00:00:00",
          "2017-03-04T00:00:00",
          "2017-03-05T00:00:00",
          "2017-03-06T00:00:00",
          "2017-03-07T00:00:00",
          "2017-03-08T00:00:00",
          "2017-03-09T00:00:00",
          "2017-03-10T00:00:00",
          "2017-03-11T00:00:00",
          "2017-03-12T00:00:00",
          "2017-03-13T00:00:00",
          "2017-03-14T00:00:00",
          "2017-03-15T00:00:00",
          "2017-03-16T00:00:00",
          "2017-03-17T00:00:00",
          "2017-03-18T00:00:00",
          "2017-03-19T00:00:00",
          "2017-03-20T00:00:00",
          "2017-03-21T00:00:00",
          "2017-03-22T00:00:00",
          "2017-03-23T00:00:00",
          "2017-03-24T00:00:00",
          "2017-03-25T00:00:00",
          "2017-03-26T00:00:00",
          "2017-03-27T00:00:00",
          "2017-03-28T00:00:00",
          "2017-03-29T00:00:00",
          "2017-03-30T00:00:00",
          "2017-03-31T00:00:00",
          "2017-04-01T00:00:00",
          "2017-04-02T00:00:00",
          "2017-04-03T00:00:00",
          "2017-04-04T00:00:00",
          "2017-04-05T00:00:00",
          "2017-04-06T00:00:00",
          "2017-04-07T00:00:00",
          "2017-04-08T00:00:00",
          "2017-04-09T00:00:00",
          "2017-04-10T00:00:00",
          "2017-04-11T00:00:00",
          "2017-04-12T00:00:00",
          "2017-04-13T00:00:00",
          "2017-04-14T00:00:00",
          "2017-04-15T00:00:00",
          "2017-04-17T00:00:00",
          "2017-04-18T00:00:00",
          "2017-04-19T00:00:00",
          "2017-04-20T00:00:00",
          "2017-04-21T00:00:00",
          "2017-04-22T00:00:00",
          "2017-04-23T00:00:00",
          "2017-04-24T00:00:00",
          "2017-04-25T00:00:00",
          "2017-04-26T00:00:00",
          "2017-04-27T00:00:00",
          "2017-04-28T00:00:00",
          "2017-04-29T00:00:00",
          "2017-04-30T00:00:00",
          "2017-05-01T00:00:00",
          "2017-05-02T00:00:00",
          "2017-05-03T00:00:00",
          "2017-05-04T00:00:00",
          "2017-05-05T00:00:00",
          "2017-05-06T00:00:00",
          "2017-05-07T00:00:00",
          "2017-05-08T00:00:00",
          "2017-05-09T00:00:00",
          "2017-05-10T00:00:00",
          "2017-05-11T00:00:00",
          "2017-05-12T00:00:00",
          "2017-05-13T00:00:00",
          "2017-05-14T00:00:00",
          "2017-05-15T00:00:00",
          "2017-05-16T00:00:00",
          "2017-05-17T00:00:00",
          "2017-05-18T00:00:00",
          "2017-05-19T00:00:00",
          "2017-05-20T00:00:00",
          "2017-05-21T00:00:00",
          "2017-05-22T00:00:00",
          "2017-05-23T00:00:00",
          "2017-05-24T00:00:00",
          "2017-05-25T00:00:00",
          "2017-05-26T00:00:00",
          "2017-05-27T00:00:00",
          "2017-05-28T00:00:00",
          "2017-05-29T00:00:00",
          "2017-05-30T00:00:00",
          "2017-05-31T00:00:00",
          "2017-06-01T00:00:00",
          "2017-06-02T00:00:00",
          "2017-06-03T00:00:00",
          "2017-06-04T00:00:00",
          "2017-06-05T00:00:00",
          "2017-06-06T00:00:00",
          "2017-06-07T00:00:00",
          "2017-06-08T00:00:00",
          "2017-06-09T00:00:00",
          "2017-06-10T00:00:00",
          "2017-06-11T00:00:00",
          "2017-06-12T00:00:00",
          "2017-06-13T00:00:00",
          "2017-06-14T00:00:00",
          "2017-06-15T00:00:00",
          "2017-06-16T00:00:00",
          "2017-06-17T00:00:00",
          "2017-06-18T00:00:00",
          "2017-06-19T00:00:00",
          "2017-06-20T00:00:00",
          "2017-06-21T00:00:00",
          "2017-06-22T00:00:00",
          "2017-06-23T00:00:00",
          "2017-06-24T00:00:00",
          "2017-06-25T00:00:00",
          "2017-06-26T00:00:00",
          "2017-06-27T00:00:00",
          "2017-06-28T00:00:00",
          "2017-06-29T00:00:00",
          "2017-06-30T00:00:00",
          "2017-07-01T00:00:00",
          "2017-07-02T00:00:00",
          "2017-07-03T00:00:00",
          "2017-07-04T00:00:00",
          "2017-07-05T00:00:00",
          "2017-07-06T00:00:00",
          "2017-07-07T00:00:00",
          "2017-07-08T00:00:00",
          "2017-07-09T00:00:00",
          "2017-07-10T00:00:00",
          "2017-07-11T00:00:00",
          "2017-07-12T00:00:00",
          "2017-07-13T00:00:00",
          "2017-07-14T00:00:00",
          "2017-07-15T00:00:00",
          "2017-07-16T00:00:00",
          "2017-07-17T00:00:00",
          "2017-07-18T00:00:00",
          "2017-07-19T00:00:00",
          "2017-07-20T00:00:00",
          "2017-07-21T00:00:00",
          "2017-07-22T00:00:00",
          "2017-07-23T00:00:00",
          "2017-07-24T00:00:00",
          "2017-07-25T00:00:00",
          "2017-07-26T00:00:00",
          "2017-07-27T00:00:00",
          "2017-07-28T00:00:00",
          "2017-07-29T00:00:00",
          "2017-07-30T00:00:00",
          "2017-07-31T00:00:00",
          "2017-08-01T00:00:00",
          "2017-08-02T00:00:00",
          "2017-08-03T00:00:00",
          "2017-08-04T00:00:00",
          "2017-08-05T00:00:00",
          "2017-08-06T00:00:00",
          "2017-08-07T00:00:00",
          "2017-08-08T00:00:00",
          "2017-08-09T00:00:00",
          "2017-08-10T00:00:00",
          "2017-08-11T00:00:00",
          "2017-08-12T00:00:00",
          "2017-08-13T00:00:00",
          "2017-08-14T00:00:00",
          "2017-08-15T00:00:00",
          "2017-08-16T00:00:00",
          "2017-08-17T00:00:00",
          "2017-08-18T00:00:00",
          "2017-08-19T00:00:00",
          "2017-08-20T00:00:00",
          "2017-08-21T00:00:00",
          "2017-08-22T00:00:00",
          "2017-08-23T00:00:00",
          "2017-08-24T00:00:00",
          "2017-08-25T00:00:00",
          "2017-08-26T00:00:00",
          "2017-08-27T00:00:00",
          "2017-08-28T00:00:00",
          "2017-08-29T00:00:00",
          "2017-08-30T00:00:00",
          "2017-08-31T00:00:00",
          "2017-09-01T00:00:00",
          "2017-09-02T00:00:00",
          "2017-09-03T00:00:00",
          "2017-09-04T00:00:00",
          "2017-09-05T00:00:00",
          "2017-09-06T00:00:00",
          "2017-09-07T00:00:00",
          "2017-09-08T00:00:00",
          "2017-09-09T00:00:00",
          "2017-09-10T00:00:00",
          "2017-09-11T00:00:00",
          "2017-09-12T00:00:00",
          "2017-09-13T00:00:00",
          "2017-09-14T00:00:00",
          "2017-09-15T00:00:00",
          "2017-09-16T00:00:00",
          "2017-09-17T00:00:00",
          "2017-09-18T00:00:00",
          "2017-09-19T00:00:00",
          "2017-09-20T00:00:00",
          "2017-09-21T00:00:00",
          "2017-09-22T00:00:00",
          "2017-09-23T00:00:00",
          "2017-09-24T00:00:00",
          "2017-09-25T00:00:00",
          "2017-09-26T00:00:00",
          "2017-09-27T00:00:00",
          "2017-09-28T00:00:00",
          "2017-09-29T00:00:00",
          "2017-09-30T00:00:00",
          "2017-10-01T00:00:00",
          "2017-10-02T00:00:00",
          "2017-10-03T00:00:00",
          "2017-10-04T00:00:00",
          "2017-10-05T00:00:00",
          "2017-10-06T00:00:00",
          "2017-10-07T00:00:00",
          "2017-10-08T00:00:00",
          "2017-10-09T00:00:00",
          "2017-10-10T00:00:00",
          "2017-10-11T00:00:00",
          "2017-10-12T00:00:00",
          "2017-10-13T00:00:00",
          "2017-10-14T00:00:00",
          "2017-10-15T00:00:00",
          "2017-10-16T00:00:00",
          "2017-10-17T00:00:00",
          "2017-10-18T00:00:00",
          "2017-10-19T00:00:00",
          "2017-10-20T00:00:00",
          "2017-10-21T00:00:00",
          "2017-10-22T00:00:00",
          "2017-10-23T00:00:00",
          "2017-10-24T00:00:00",
          "2017-10-25T00:00:00",
          "2017-10-26T00:00:00",
          "2017-10-27T00:00:00",
          "2017-10-28T00:00:00",
          "2017-10-29T00:00:00",
          "2017-10-30T00:00:00",
          "2017-10-31T00:00:00",
          "2017-11-01T00:00:00",
          "2017-11-02T00:00:00",
          "2017-11-03T00:00:00",
          "2017-11-04T00:00:00",
          "2017-11-05T00:00:00",
          "2017-11-06T00:00:00",
          "2017-11-07T00:00:00",
          "2017-11-08T00:00:00",
          "2017-11-09T00:00:00",
          "2017-11-10T00:00:00",
          "2017-11-11T00:00:00",
          "2017-11-12T00:00:00",
          "2017-11-13T00:00:00",
          "2017-11-14T00:00:00",
          "2017-11-15T00:00:00",
          "2017-11-16T00:00:00",
          "2017-11-17T00:00:00",
          "2017-11-18T00:00:00",
          "2017-11-19T00:00:00",
          "2017-11-20T00:00:00",
          "2017-11-21T00:00:00",
          "2017-11-22T00:00:00",
          "2017-11-24T00:00:00",
          "2017-11-25T00:00:00",
          "2017-11-26T00:00:00",
          "2017-11-27T00:00:00",
          "2017-11-28T00:00:00",
          "2017-11-29T00:00:00",
          "2017-11-30T00:00:00",
          "2017-12-01T00:00:00",
          "2017-12-02T00:00:00",
          "2017-12-03T00:00:00",
          "2017-12-04T00:00:00",
          "2017-12-05T00:00:00",
          "2017-12-06T00:00:00",
          "2017-12-07T00:00:00",
          "2017-12-08T00:00:00",
          "2017-12-09T00:00:00",
          "2017-12-10T00:00:00",
          "2017-12-11T00:00:00",
          "2017-12-12T00:00:00",
          "2017-12-13T00:00:00",
          "2017-12-14T00:00:00",
          "2017-12-15T00:00:00",
          "2017-12-16T00:00:00",
          "2017-12-17T00:00:00",
          "2017-12-18T00:00:00",
          "2017-12-19T00:00:00",
          "2017-12-20T00:00:00",
          "2017-12-21T00:00:00",
          "2017-12-22T00:00:00",
          "2017-12-23T00:00:00",
          "2017-12-24T00:00:00",
          "2017-12-26T00:00:00",
          "2017-12-27T00:00:00",
          "2017-12-28T00:00:00",
          "2017-12-29T00:00:00",
          "2017-12-30T00:00:00",
          "2017-12-31T00:00:00",
          "2018-01-01T00:00:00",
          "2018-01-02T00:00:00",
          "2018-01-03T00:00:00",
          "2018-01-04T00:00:00",
          "2018-01-05T00:00:00",
          "2018-01-06T00:00:00",
          "2018-01-07T00:00:00",
          "2018-01-08T00:00:00",
          "2018-01-09T00:00:00",
          "2018-01-10T00:00:00",
          "2018-01-11T00:00:00",
          "2018-01-12T00:00:00",
          "2018-01-13T00:00:00",
          "2018-01-14T00:00:00",
          "2018-01-15T00:00:00",
          "2018-01-16T00:00:00",
          "2018-01-17T00:00:00",
          "2018-01-18T00:00:00",
          "2018-01-19T00:00:00",
          "2018-01-20T00:00:00",
          "2018-01-21T00:00:00",
          "2018-01-22T00:00:00",
          "2018-01-23T00:00:00",
          "2018-01-24T00:00:00",
          "2018-01-25T00:00:00",
          "2018-01-26T00:00:00",
          "2018-01-27T00:00:00",
          "2018-01-28T00:00:00",
          "2018-01-29T00:00:00",
          "2018-01-30T00:00:00",
          "2018-01-31T00:00:00",
          "2018-02-01T00:00:00",
          "2018-02-02T00:00:00",
          "2018-02-03T00:00:00",
          "2018-02-04T00:00:00",
          "2018-02-05T00:00:00",
          "2018-02-06T00:00:00",
          "2018-02-07T00:00:00",
          "2018-02-08T00:00:00",
          "2018-02-09T00:00:00",
          "2018-02-10T00:00:00",
          "2018-02-11T00:00:00",
          "2018-02-12T00:00:00",
          "2018-02-13T00:00:00",
          "2018-02-14T00:00:00",
          "2018-02-15T00:00:00",
          "2018-02-16T00:00:00",
          "2018-02-17T00:00:00",
          "2018-02-18T00:00:00",
          "2018-02-19T00:00:00",
          "2018-02-20T00:00:00",
          "2018-02-21T00:00:00",
          "2018-02-22T00:00:00",
          "2018-02-23T00:00:00",
          "2018-02-24T00:00:00",
          "2018-02-25T00:00:00",
          "2018-02-26T00:00:00",
          "2018-02-27T00:00:00",
          "2018-02-28T00:00:00",
          "2018-03-01T00:00:00",
          "2018-03-02T00:00:00",
          "2018-03-03T00:00:00",
          "2018-03-04T00:00:00",
          "2018-03-05T00:00:00",
          "2018-03-06T00:00:00",
          "2018-03-07T00:00:00",
          "2018-03-08T00:00:00",
          "2018-03-09T00:00:00",
          "2018-03-10T00:00:00",
          "2018-03-11T00:00:00",
          "2018-03-12T00:00:00",
          "2018-03-13T00:00:00",
          "2018-03-14T00:00:00",
          "2018-03-15T00:00:00",
          "2018-03-16T00:00:00",
          "2018-03-17T00:00:00",
          "2018-03-18T00:00:00",
          "2018-03-19T00:00:00",
          "2018-03-20T00:00:00",
          "2018-03-21T00:00:00",
          "2018-03-22T00:00:00",
          "2018-03-23T00:00:00",
          "2018-03-24T00:00:00",
          "2018-03-25T00:00:00",
          "2018-03-26T00:00:00",
          "2018-03-27T00:00:00",
          "2018-03-28T00:00:00",
          "2018-03-29T00:00:00",
          "2018-03-30T00:00:00",
          "2018-03-31T00:00:00",
          "2018-04-02T00:00:00",
          "2018-04-03T00:00:00",
          "2018-04-04T00:00:00",
          "2018-04-05T00:00:00",
          "2018-04-06T00:00:00",
          "2018-04-07T00:00:00",
          "2018-04-08T00:00:00",
          "2018-04-09T00:00:00",
          "2018-04-10T00:00:00",
          "2018-04-11T00:00:00",
          "2018-04-12T00:00:00",
          "2018-04-13T00:00:00",
          "2018-04-14T00:00:00",
          "2018-04-15T00:00:00",
          "2018-04-16T00:00:00",
          "2018-04-17T00:00:00",
          "2018-04-18T00:00:00",
          "2018-04-19T00:00:00",
          "2018-04-20T00:00:00",
          "2018-04-21T00:00:00",
          "2018-04-22T00:00:00",
          "2018-04-23T00:00:00",
          "2018-04-24T00:00:00",
          "2018-04-25T00:00:00",
          "2018-04-26T00:00:00",
          "2018-04-27T00:00:00",
          "2018-04-28T00:00:00",
          "2018-04-29T00:00:00",
          "2018-04-30T00:00:00",
          "2018-05-01T00:00:00",
          "2018-05-02T00:00:00",
          "2018-05-03T00:00:00",
          "2018-05-04T00:00:00",
          "2018-05-05T00:00:00",
          "2018-05-06T00:00:00",
          "2018-05-07T00:00:00",
          "2018-05-08T00:00:00",
          "2018-05-09T00:00:00",
          "2018-05-10T00:00:00",
          "2018-05-11T00:00:00",
          "2018-05-12T00:00:00",
          "2018-05-13T00:00:00",
          "2018-05-14T00:00:00",
          "2018-05-15T00:00:00",
          "2018-05-16T00:00:00",
          "2018-05-17T00:00:00",
          "2018-05-18T00:00:00",
          "2018-05-19T00:00:00",
          "2018-05-20T00:00:00",
          "2018-05-21T00:00:00",
          "2018-05-22T00:00:00",
          "2018-05-23T00:00:00",
          "2018-05-24T00:00:00",
          "2018-05-25T00:00:00",
          "2018-05-26T00:00:00",
          "2018-05-27T00:00:00",
          "2018-05-28T00:00:00",
          "2018-05-29T00:00:00",
          "2018-05-30T00:00:00",
          "2018-05-31T00:00:00",
          "2018-06-01T00:00:00",
          "2018-06-02T00:00:00",
          "2018-06-03T00:00:00",
          "2018-06-04T00:00:00",
          "2018-06-05T00:00:00",
          "2018-06-06T00:00:00",
          "2018-06-07T00:00:00",
          "2018-06-08T00:00:00",
          "2018-06-09T00:00:00",
          "2018-06-10T00:00:00",
          "2018-06-11T00:00:00",
          "2018-06-12T00:00:00",
          "2018-06-13T00:00:00",
          "2018-06-14T00:00:00",
          "2018-06-15T00:00:00",
          "2018-06-16T00:00:00",
          "2018-06-17T00:00:00",
          "2018-06-18T00:00:00",
          "2018-06-19T00:00:00",
          "2018-06-20T00:00:00",
          "2018-06-21T00:00:00",
          "2018-06-22T00:00:00",
          "2018-06-23T00:00:00",
          "2018-06-24T00:00:00",
          "2018-06-25T00:00:00",
          "2018-06-26T00:00:00",
          "2018-06-27T00:00:00",
          "2018-06-28T00:00:00",
          "2018-06-29T00:00:00",
          "2018-06-30T00:00:00",
          "2018-07-01T00:00:00",
          "2018-07-02T00:00:00",
          "2018-07-03T00:00:00",
          "2018-07-04T00:00:00",
          "2018-07-05T00:00:00",
          "2018-07-06T00:00:00",
          "2018-07-07T00:00:00",
          "2018-07-08T00:00:00",
          "2018-07-09T00:00:00",
          "2018-07-10T00:00:00",
          "2018-07-11T00:00:00",
          "2018-07-12T00:00:00",
          "2018-07-13T00:00:00",
          "2018-07-14T00:00:00",
          "2018-07-15T00:00:00",
          "2018-07-16T00:00:00",
          "2018-07-17T00:00:00",
          "2018-07-18T00:00:00",
          "2018-07-19T00:00:00",
          "2018-07-20T00:00:00",
          "2018-07-21T00:00:00",
          "2018-07-22T00:00:00",
          "2018-07-23T00:00:00",
          "2018-07-24T00:00:00",
          "2018-07-25T00:00:00",
          "2018-07-26T00:00:00",
          "2018-07-27T00:00:00",
          "2018-07-28T00:00:00",
          "2018-07-29T00:00:00",
          "2018-07-30T00:00:00",
          "2018-07-31T00:00:00",
          "2018-08-01T00:00:00",
          "2018-08-02T00:00:00",
          "2018-08-03T00:00:00",
          "2018-08-04T00:00:00",
          "2018-08-05T00:00:00",
          "2018-08-06T00:00:00",
          "2018-08-07T00:00:00",
          "2018-08-08T00:00:00",
          "2018-08-09T00:00:00",
          "2018-08-10T00:00:00",
          "2018-08-11T00:00:00",
          "2018-08-12T00:00:00",
          "2018-08-13T00:00:00",
          "2018-08-14T00:00:00",
          "2018-08-15T00:00:00",
          "2018-08-16T00:00:00",
          "2018-08-17T00:00:00",
          "2018-08-18T00:00:00",
          "2018-08-19T00:00:00",
          "2018-08-20T00:00:00",
          "2018-08-21T00:00:00",
          "2018-08-22T00:00:00",
          "2018-08-23T00:00:00",
          "2018-08-24T00:00:00",
          "2018-08-25T00:00:00",
          "2018-08-26T00:00:00",
          "2018-08-27T00:00:00",
          "2018-08-28T00:00:00",
          "2018-08-29T00:00:00",
          "2018-08-30T00:00:00",
          "2018-08-31T00:00:00",
          "2018-09-01T00:00:00",
          "2018-09-02T00:00:00",
          "2018-09-03T00:00:00",
          "2018-09-04T00:00:00",
          "2018-09-05T00:00:00",
          "2018-09-06T00:00:00",
          "2018-09-07T00:00:00",
          "2018-09-08T00:00:00",
          "2018-09-09T00:00:00",
          "2018-09-10T00:00:00",
          "2018-09-11T00:00:00",
          "2018-09-12T00:00:00",
          "2018-09-13T00:00:00",
          "2018-09-14T00:00:00",
          "2018-09-15T00:00:00",
          "2018-09-16T00:00:00",
          "2018-09-17T00:00:00",
          "2018-09-18T00:00:00",
          "2018-09-19T00:00:00",
          "2018-09-20T00:00:00",
          "2018-09-21T00:00:00",
          "2018-09-22T00:00:00",
          "2018-09-23T00:00:00",
          "2018-09-24T00:00:00",
          "2018-09-25T00:00:00",
          "2018-09-26T00:00:00",
          "2018-09-27T00:00:00",
          "2018-09-28T00:00:00",
          "2018-09-29T00:00:00",
          "2018-09-30T00:00:00",
          "2018-10-01T00:00:00",
          "2018-10-02T00:00:00",
          "2018-10-03T00:00:00",
          "2018-10-04T00:00:00",
          "2018-10-05T00:00:00",
          "2018-10-06T00:00:00",
          "2018-10-07T00:00:00",
          "2018-10-08T00:00:00",
          "2018-10-09T00:00:00",
          "2018-10-10T00:00:00",
          "2018-10-11T00:00:00",
          "2018-10-12T00:00:00",
          "2018-10-13T00:00:00",
          "2018-10-14T00:00:00",
          "2018-10-15T00:00:00",
          "2018-10-16T00:00:00",
          "2018-10-17T00:00:00",
          "2018-10-18T00:00:00",
          "2018-10-19T00:00:00",
          "2018-10-20T00:00:00",
          "2018-10-21T00:00:00",
          "2018-10-22T00:00:00",
          "2018-10-23T00:00:00",
          "2018-10-24T00:00:00",
          "2018-10-25T00:00:00",
          "2018-10-26T00:00:00",
          "2018-10-27T00:00:00",
          "2018-10-28T00:00:00",
          "2018-10-29T00:00:00",
          "2018-10-30T00:00:00",
          "2018-10-31T00:00:00",
          "2018-11-01T00:00:00",
          "2018-11-02T00:00:00",
          "2018-11-03T00:00:00",
          "2018-11-04T00:00:00",
          "2018-11-05T00:00:00",
          "2018-11-06T00:00:00",
          "2018-11-07T00:00:00",
          "2018-11-08T00:00:00",
          "2018-11-09T00:00:00",
          "2018-11-10T00:00:00",
          "2018-11-11T00:00:00",
          "2018-11-12T00:00:00",
          "2018-11-13T00:00:00",
          "2018-11-14T00:00:00",
          "2018-11-15T00:00:00",
          "2018-11-16T00:00:00",
          "2018-11-17T00:00:00",
          "2018-11-18T00:00:00",
          "2018-11-19T00:00:00",
          "2018-11-20T00:00:00",
          "2018-11-21T00:00:00",
          "2018-11-23T00:00:00",
          "2018-11-24T00:00:00",
          "2018-11-25T00:00:00",
          "2018-11-26T00:00:00",
          "2018-11-27T00:00:00",
          "2018-11-28T00:00:00",
          "2018-11-29T00:00:00",
          "2018-11-30T00:00:00",
          "2018-12-01T00:00:00",
          "2018-12-02T00:00:00",
          "2018-12-03T00:00:00",
          "2018-12-04T00:00:00",
          "2018-12-05T00:00:00",
          "2018-12-06T00:00:00",
          "2018-12-07T00:00:00",
          "2018-12-08T00:00:00",
          "2018-12-09T00:00:00",
          "2018-12-10T00:00:00",
          "2018-12-11T00:00:00",
          "2018-12-12T00:00:00",
          "2018-12-13T00:00:00",
          "2018-12-14T00:00:00",
          "2018-12-15T00:00:00",
          "2018-12-16T00:00:00",
          "2018-12-17T00:00:00",
          "2018-12-18T00:00:00",
          "2018-12-19T00:00:00",
          "2018-12-20T00:00:00",
          "2018-12-21T00:00:00",
          "2018-12-22T00:00:00",
          "2018-12-23T00:00:00",
          "2018-12-24T00:00:00",
          "2018-12-26T00:00:00",
          "2018-12-27T00:00:00",
          "2018-12-28T00:00:00",
          "2018-12-29T00:00:00",
          "2018-12-30T00:00:00",
          "2018-12-31T00:00:00",
          "2019-01-01T00:00:00",
          "2019-01-02T00:00:00",
          "2019-01-03T00:00:00",
          "2019-01-04T00:00:00",
          "2019-01-05T00:00:00",
          "2019-01-06T00:00:00",
          "2019-01-07T00:00:00",
          "2019-01-08T00:00:00",
          "2019-01-09T00:00:00",
          "2019-01-10T00:00:00",
          "2019-01-11T00:00:00",
          "2019-01-12T00:00:00",
          "2019-01-13T00:00:00",
          "2019-01-14T00:00:00",
          "2019-01-15T00:00:00",
          "2019-01-16T00:00:00",
          "2019-01-17T00:00:00",
          "2019-01-18T00:00:00",
          "2019-01-19T00:00:00",
          "2019-01-20T00:00:00",
          "2019-01-21T00:00:00",
          "2019-01-22T00:00:00",
          "2019-01-23T00:00:00",
          "2019-01-24T00:00:00",
          "2019-01-25T00:00:00",
          "2019-01-26T00:00:00",
          "2019-01-27T00:00:00",
          "2019-01-28T00:00:00",
          "2019-01-29T00:00:00",
          "2019-01-30T00:00:00",
          "2019-01-31T00:00:00",
          "2019-02-01T00:00:00",
          "2019-02-02T00:00:00",
          "2019-02-03T00:00:00",
          "2019-02-04T00:00:00",
          "2019-02-05T00:00:00",
          "2019-02-06T00:00:00",
          "2019-02-07T00:00:00",
          "2019-02-08T00:00:00",
          "2019-02-09T00:00:00",
          "2019-02-10T00:00:00",
          "2019-02-11T00:00:00",
          "2019-02-12T00:00:00",
          "2019-02-13T00:00:00",
          "2019-02-14T00:00:00",
          "2019-02-15T00:00:00",
          "2019-02-16T00:00:00",
          "2019-02-17T00:00:00",
          "2019-02-18T00:00:00",
          "2019-02-19T00:00:00",
          "2019-02-20T00:00:00",
          "2019-02-21T00:00:00",
          "2019-02-22T00:00:00",
          "2019-02-23T00:00:00",
          "2019-02-24T00:00:00",
          "2019-02-25T00:00:00",
          "2019-02-26T00:00:00",
          "2019-02-27T00:00:00",
          "2019-02-28T00:00:00",
          "2019-03-01T00:00:00",
          "2019-03-02T00:00:00",
          "2019-03-03T00:00:00",
          "2019-03-04T00:00:00",
          "2019-03-05T00:00:00",
          "2019-03-06T00:00:00",
          "2019-03-07T00:00:00",
          "2019-03-08T00:00:00",
          "2019-03-09T00:00:00",
          "2019-03-10T00:00:00",
          "2019-03-11T00:00:00",
          "2019-03-12T00:00:00",
          "2019-03-13T00:00:00",
          "2019-03-14T00:00:00",
          "2019-03-15T00:00:00",
          "2019-03-16T00:00:00",
          "2019-03-17T00:00:00",
          "2019-03-18T00:00:00",
          "2019-03-19T00:00:00",
          "2019-03-20T00:00:00",
          "2019-03-21T00:00:00",
          "2019-03-22T00:00:00",
          "2019-03-23T00:00:00",
          "2019-03-24T00:00:00",
          "2019-03-25T00:00:00",
          "2019-03-26T00:00:00",
          "2019-03-27T00:00:00",
          "2019-03-28T00:00:00",
          "2019-03-29T00:00:00",
          "2019-03-30T00:00:00",
          "2019-03-31T00:00:00",
          "2019-04-01T00:00:00",
          "2019-04-02T00:00:00",
          "2019-04-03T00:00:00",
          "2019-04-04T00:00:00",
          "2019-04-05T00:00:00",
          "2019-04-06T00:00:00",
          "2019-04-07T00:00:00",
          "2019-04-08T00:00:00",
          "2019-04-09T00:00:00",
          "2019-04-10T00:00:00",
          "2019-04-11T00:00:00",
          "2019-04-12T00:00:00",
          "2019-04-13T00:00:00",
          "2019-04-14T00:00:00",
          "2019-04-15T00:00:00",
          "2019-04-16T00:00:00",
          "2019-04-17T00:00:00",
          "2019-04-18T00:00:00",
          "2019-04-19T00:00:00",
          "2019-04-20T00:00:00",
          "2019-04-22T00:00:00",
          "2019-04-23T00:00:00",
          "2019-04-24T00:00:00",
          "2019-04-25T00:00:00",
          "2019-04-26T00:00:00",
          "2019-04-27T00:00:00",
          "2019-04-28T00:00:00",
          "2019-04-29T00:00:00",
          "2019-04-30T00:00:00",
          "2019-05-01T00:00:00",
          "2019-05-02T00:00:00",
          "2019-05-03T00:00:00",
          "2019-05-04T00:00:00",
          "2019-05-05T00:00:00",
          "2019-05-06T00:00:00",
          "2019-05-07T00:00:00",
          "2019-05-08T00:00:00",
          "2019-05-09T00:00:00",
          "2019-05-10T00:00:00",
          "2019-05-11T00:00:00",
          "2019-05-12T00:00:00",
          "2019-05-13T00:00:00",
          "2019-05-14T00:00:00",
          "2019-05-15T00:00:00",
          "2019-05-16T00:00:00",
          "2019-05-17T00:00:00",
          "2019-05-18T00:00:00",
          "2019-05-19T00:00:00",
          "2019-05-20T00:00:00",
          "2019-05-21T00:00:00",
          "2019-05-22T00:00:00",
          "2019-05-23T00:00:00",
          "2019-05-24T00:00:00",
          "2019-05-25T00:00:00",
          "2019-05-26T00:00:00"
         ],
         "y": [
          5552.019186155759,
          8299.941863103852,
          8556.730071981367,
          8595.100423106212,
          8198.941336671523,
          4603.797607265974,
          4540.583413039222,
          8291.576676829185,
          8629.401780805794,
          7217.360816327004,
          8404.744283552835,
          8450.852853256682,
          2755.2363975056096,
          4641.334530703648,
          6799.895740938131,
          8081.113811680767,
          8876.523852367045,
          8948.787720028535,
          9242.38688385874,
          4743.571007447164,
          5218.836514217169,
          7277.118345180379,
          8759.424753886076,
          8512.428488954758,
          9366.624211497612,
          9005.411597842969,
          5217.025687767233,
          5311.287379839701,
          9816.310748371856,
          9825.301502791175,
          9658.321707022084,
          9935.54727593228,
          9029.295381710055,
          5627.4023783761095,
          4812.203429385808,
          10043.810702577995,
          10880.279817255265,
          10241.129601740467,
          5614.312193602551,
          9298.412342971307,
          5791.169020361715,
          5604.2510693996455,
          9859.96585330546,
          9833.538786014824,
          10829.25103537761,
          9970.550782575365,
          10032.94860617334,
          5142.122086659882,
          5112.477221308114,
          7557.664000746703,
          10415.594353026356,
          10810.94968812232,
          10284.355329778742,
          9802.284604330176,
          6251.507121152994,
          5363.4077328118055,
          10224.541249296686,
          11454.476101705855,
          10527.83043154661,
          6427.530502458611,
          5487.835764407714,
          10865.240121171786,
          11232.00762540129,
          10893.249750125142,
          11109.550529361695,
          9654.881966563957,
          5920.772717151014,
          5667.293457938461,
          10706.328474407164,
          3470.0265933316846,
          10224.997214156878,
          10619.119854500908,
          10294.16821647567,
          6228.51151277621,
          6000.540285827029,
          11018.529896088015,
          10824.93205392103,
          10646.841965306205,
          11108.19137613852,
          10261.714100507068,
          6157.420625483714,
          5360.496464361628,
          9797.042164009805,
          10337.3994674324,
          10953.620204763833,
          10646.951534710786,
          9327.90808107924,
          6821.442787280788,
          5695.431002957269,
          10493.953200539509,
          10362.399225800214,
          10778.83277841541,
          10556.727197864946,
          10436.771935018684,
          5782.026232940645,
          5167.430094498424,
          9105.443237216858,
          9960.971968211505,
          9800.572416725572,
          10637.83500536834,
          9189.508392338912,
          5797.111725098052,
          11089.763522994424,
          11359.881310248573,
          11493.655363890624,
          11212.899837904872,
          10715.80859291366,
          6285.230975052292,
          6474.708604865109,
          10338.048120481875,
          11250.330706100174,
          11428.20011194819,
          11318.24689331576,
          10344.18316507604,
          6393.448567865085,
          5956.931778731075,
          10556.555598327986,
          11165.630880816929,
          12171.893660130068,
          11436.846062842971,
          10189.783063721448,
          6881.511578777092,
          5830.234426524371,
          11186.793384661223,
          11541.99916378277,
          12015.670278009511,
          11279.447091362124,
          10492.305741805563,
          5722.16379245755,
          5288.754893286506,
          10825.339666205631,
          11625.5038431357,
          11523.949011438614,
          10894.353934496348,
          10140.656455766208,
          5703.652624020269,
          5742.1275124529375,
          10328.275188624344,
          9999.64271497474,
          10012.75659178486,
          9622.653805411628,
          8361.482802067352,
          4619.855116878123,
          4351.865328212492,
          5367.873781943276,
          4353.401060817812,
          9999.662966837348,
          10953.95804491655,
          9325.72210888431,
          5189.910517424515,
          5805.489260930745,
          9544.587176320085,
          10141.792264906331,
          10343.16227918625,
          10414.496089463317,
          9394.091002200556,
          5361.080793230664,
          5327.890340478276,
          10333.53993307918,
          9578.508787166023,
          10538.16223046964,
          10457.711270280784,
          9776.547204924776,
          4566.667670263623,
          4552.314160972431,
          8617.118909387591,
          9800.708170038246,
          10063.788522716512,
          9556.542974339767,
          9409.038901698035,
          5667.2943644052,
          7270.960496816113,
          9813.78985887744,
          10283.487977547164,
          10362.423348332708,
          10043.961696491837,
          8951.501830388412,
          4821.912673114246,
          4646.7473812702965,
          6824.142295154639,
          2073.28368048216,
          11139.728340006051,
          10731.86494270741,
          10066.04819208638,
          4990.579965827587,
          5321.291562471356,
          10412.739483980107,
          10188.167679421556,
          10609.67025382394,
          9668.08845295854,
          9290.002856901154,
          5972.650337884731,
          5667.437308222337,
          10072.22435138502,
          9857.201350510417,
          3652.2481439543417,
          9086.786071947208,
          8407.312726108674,
          4524.3616298017605,
          4862.765224022657,
          9183.085701542012,
          10099.41666777225,
          3100.469684952929,
          9730.496947389089,
          8183.147935365531,
          5039.725651740747,
          4728.339712428205,
          9064.542675486951,
          9079.32002984568,
          8725.339958116432,
          8731.30735172598,
          7833.531164764956,
          4547.525437339388,
          4882.737485543533,
          8612.544027546899,
          8950.159584509005,
          8613.141354725054,
          8444.944168649574,
          7776.917129562575,
          4904.988309796791,
          4823.54119483005,
          8218.138888519088,
          8680.566169274918,
          8285.869177143286,
          8676.08048410379,
          8071.282548952077,
          5063.044356083568,
          6917.312827792062,
          8780.126719556989,
          9058.675587681744,
          8244.585053458335,
          8527.732974650284,
          8439.962471774055,
          4671.115900443403,
          5249.450123921549,
          9420.792030018782,
          8715.923947921274,
          9130.195620293116,
          9750.298068666254,
          8272.030218288448,
          5128.3366199540615,
          4293.24662755453,
          5352.341826112767,
          9512.530919886978,
          9454.934422988224,
          9690.905451901384,
          9440.888992040114,
          5812.205408741959,
          5001.797637721332,
          9338.443834609106,
          10372.469729781382,
          9828.981831092937,
          10117.801109002414,
          10100.98725511679,
          5888.997984280225,
          5788.370837361779,
          9919.741447578968,
          9497.44698911213,
          9498.308441242572,
          8555.726447913992,
          8805.964630665296,
          5524.926509033722,
          5409.329223761233,
          9848.044195673452,
          9433.806150310911,
          9986.040698797977,
          10201.920699779535,
          9146.792747027175,
          5185.0492218352565,
          4868.030239358318,
          9122.177481651572,
          9800.324704583312,
          9527.152142291892,
          9657.345523865088,
          9071.385922639429,
          5961.189422157058,
          5787.959155759232,
          8462.567946713369,
          9300.130232344463,
          9078.131331749177,
          9398.75705998272,
          9657.901013890523,
          6005.926755920238,
          5147.476218864746,
          9925.829041557428,
          9287.422254122292,
          9784.085336019052,
          8654.097293113004,
          9334.532723009965,
          5887.799206335792,
          5536.899808026664,
          4393.259324744648,
          9561.885430423616,
          9820.466295700293,
          9595.060932724107,
          9158.635671791604,
          5897.389697226834,
          4386.007578746886,
          9075.831531820286,
          9157.895012158657,
          9531.492868890216,
          9837.39392622082,
          9307.73392745732,
          5637.3872162944135,
          4817.474915401215,
          8928.101190908721,
          8339.168886493502,
          9527.74537143003,
          9396.07867039738,
          8216.920298500949,
          5449.722165298613,
          4769.739999154167,
          8431.721057182642,
          9007.758113192129,
          8991.031153071703,
          9770.961106015016,
          8226.762365453596,
          5154.909190503215,
          4890.1681501590765,
          8708.297631908017,
          9177.804802011611,
          6554.913397064765,
          3610.446833012988,
          4625.608401734544,
          4928.073057917357,
          9024.475909199646,
          8415.487249647143,
          9266.21742585511,
          8961.509872391043,
          8744.268728770076,
          5546.770222583871,
          5072.268340417025,
          9252.176640944732,
          9174.975323188668,
          9306.4766092805,
          9223.43847086763,
          8180.434505133458,
          6358.254294768249,
          4952.555864313222,
          9003.8608033188,
          8121.758857922475,
          8725.797236779852,
          7511.034668370093,
          8122.4622579047555,
          5029.02929040772,
          5165.324562602745,
          8362.379114494204,
          8684.317621737362,
          8506.02265921701,
          8589.44010397679,
          6110.573593677836,
          4291.515898128074,
          1714.8685513138423,
          4842.084638193335,
          6282.286549587809,
          5744.0252983860655,
          6137.42859179828,
          4845.068482815996,
          3816.2699570508,
          3463.603614539742,
          7711.680111637492,
          7582.161127934113,
          4982.612858470204,
          7368.188640937817,
          3793.754810895648,
          3958.175771931443,
          8461.571332851936,
          7623.627552376031,
          8126.750432101759,
          8411.790709262437,
          8668.480968376083,
          4824.606820165325,
          4045.623112673836,
          5875.898259589401,
          7778.788228161766,
          7744.579765292889,
          8110.655518066124,
          8620.10953376515,
          4678.333837551131,
          4192.163491576321,
          8303.264416456745,
          8234.094130722176,
          7669.760274083192,
          8571.121603121663,
          8688.355938452138,
          5247.070594621862,
          4739.422792650865,
          9552.86639947544,
          8597.595313127316,
          9593.549340394671,
          9760.342495237515,
          8570.804475032473,
          5175.199475886484,
          3887.086784879872,
          9400.480299986424,
          9245.843893438048,
          9136.847245413108,
          9841.912493620011,
          8713.757870681311,
          5568.407071873605,
          5044.2810388720845,
          9643.801484255282,
          9285.356872924072,
          9277.458351602589,
          10580.72417272336,
          9166.892472751775,
          5334.88802995385,
          4702.77569766272,
          6607.9441565205125,
          9536.807521139412,
          10057.700906924149,
          9607.052372049724,
          8734.272725832647,
          5887.064922068805,
          4899.887488942612,
          10030.11467443246,
          9182.665627183998,
          9121.123673928669,
          9816.961187959352,
          8072.938179012049,
          5475.099501388196,
          4953.088925397697,
          9770.5766008943,
          10279.516655105894,
          5999.363983492823,
          9392.672801726563,
          9525.313142716264,
          5446.645834315272,
          5261.711500282762,
          9346.141713323925,
          9125.970143651535,
          9734.450186409184,
          10487.917279053869,
          9377.51732542346,
          6291.410275772066,
          5143.239335045236,
          9797.402011357724,
          9898.391806837595,
          5393.4137124811405,
          10366.833132711998,
          9743.630038068472,
          6170.183154028099,
          5389.166324245538,
          8899.612913614916,
          7277.403990572016,
          9179.041508391643,
          10234.878404661711,
          8115.075826259659,
          5210.516720278642,
          9849.39956549746,
          9891.885038805543,
          10027.369054161576,
          10448.61068752186,
          10131.597611218358,
          6248.070484363959,
          5792.986489445671,
          9606.041846255335,
          9870.641614122547,
          10561.663755201413,
          10136.11322249961,
          10050.99423114048,
          6703.359928202242,
          5539.546516494096,
          9641.586387491789,
          9943.615663481676,
          10273.037466099771,
          10334.62316412818,
          9685.985095913731,
          6121.050581572215,
          5801.374379782968,
          3910.0134594619935,
          10328.351608846033,
          9961.105622873703,
          10788.925529073938,
          10265.394089733174,
          6267.751731329578,
          5550.171462149869,
          10400.461948577728,
          10622.363496239836,
          10637.992825663625,
          10862.78178350654,
          10080.964819730038,
          5831.174436520063,
          5453.725715607029,
          10781.304810312904,
          10988.872096914793,
          10311.12109696093,
          10109.474787725365,
          9794.56262594206,
          6215.263488951676,
          5198.1963542108,
          11252.728683496916,
          10691.153593567573,
          10969.54800737666,
          11165.067890352004,
          9643.819906843066,
          5452.173151185595,
          5705.580385431436,
          9788.920490963554,
          9562.254361679568,
          10144.047597537903,
          9428.454988928255,
          8061.897711424828,
          4498.441634468745,
          4162.573475818088,
          4935.160921725824,
          9080.68161472326,
          9044.693968887716,
          9564.665237083922,
          9225.832184917848,
          5765.704990797852,
          5819.700940212171,
          9290.722639596208,
          9390.850633677012,
          9571.74861980424,
          9243.647404091069,
          8652.918978788419,
          5986.029944056278,
          5035.8205098748185,
          9550.753282221429,
          9487.365226854035,
          10246.806813829946,
          9563.01793141316,
          9015.60621924486,
          5047.186470944554,
          4341.487188279422,
          9195.103735313667,
          9973.25790933188,
          9575.24939756367,
          9531.404301849963,
          8780.609500246248,
          5392.747549140982,
          7290.896306818455,
          9753.24224992911,
          8812.768362722782,
          9524.574990797188,
          9772.687469707964,
          9016.989590106805,
          5079.668457633202,
          5489.689882177281,
          9465.442461071558,
          9161.265160206203,
          2178.7156822907577,
          9674.495026324064,
          8596.500180333358,
          5333.555068959932,
          5188.608771960995,
          9727.484695124906,
          9840.264019566315,
          9437.131499011475,
          10556.703472296527,
          9659.403888595536,
          5555.841373950456,
          6036.565681018377,
          10016.71919016604,
          9392.52769877216,
          10812.500537570344,
          10279.270615631853,
          8750.541910040301,
          5780.522549362347,
          5666.358023060381,
          9799.579804974132,
          9972.930156066315,
          2860.4038565321102,
          10272.814348946771,
          9947.700274280924,
          5712.9811421942895,
          5786.537262327247,
          9368.807885241624,
          10508.893112375412,
          9505.830514939842,
          9410.131334155229,
          8657.507083045773,
          4978.258995406553,
          5144.891628751527,
          9293.12760116919,
          9357.032423487755,
          8986.037023149185,
          9051.400973045786,
          8535.771980874177,
          5291.464180913461,
          5247.234985260491,
          9531.369620255178,
          9158.794253826769,
          9558.81932819982,
          9225.803306447471,
          7986.804570385294,
          5750.589261832789,
          7215.760914113603,
          9269.473878872568,
          10003.9185743176,
          9579.744168042593,
          10232.30901030805,
          8630.995461270404,
          5984.5133479058095,
          5436.350681970504,
          5974.322783164457,
          10561.265114202775,
          10874.989744587376,
          10358.565359905882,
          8619.016825813855,
          5532.841794992203,
          5508.046958656841,
          5292.325857964286,
          10740.097088550268,
          11078.2925579645,
          10811.038107013295,
          10223.01129368273,
          6044.937126312224,
          5044.366621599974,
          8425.80429736226,
          9504.02013648713,
          11279.824245854748,
          11348.499548024456,
          10266.162195333953,
          6318.975637355591,
          5441.401389958022,
          10949.172690410283,
          9850.9790145681,
          8933.980026459107,
          11384.523246715582,
          10175.482966347952,
          6062.287707030696,
          5517.127886551395,
          9989.631657412076,
          10175.183064353574,
          10740.937820980376,
          10605.155853790802,
          10370.809239189854,
          6374.937629666895,
          5811.704537557691,
          10429.217735131824,
          10545.403023443716,
          9944.200576936972,
          11665.383067001754,
          10272.9822029837,
          6596.095822882737,
          6316.140153746799,
          9033.560986078948,
          10783.338256116916,
          11109.564486362033,
          10546.03019304558,
          10635.928568487388,
          6196.677872354874,
          5806.483453519774,
          10141.448353937358,
          6787.093609686923,
          10730.955400367347,
          10947.943953686769,
          11001.846228830962,
          6441.771273812347,
          5727.276297717571,
          10617.896350640893,
          11971.833694687037,
          11661.064544604556,
          11074.620437698792,
          10628.13472969558,
          5521.377204453437,
          5555.430851888687,
          10567.59828768409,
          10812.13576287594,
          11874.971218181598,
          11458.899294355826,
          10524.776685338633,
          6199.090884801743,
          5791.558312939596,
          10899.932714674816,
          10270.298506769605,
          11250.32063477144,
          11704.35436796222,
          10221.834264728916,
          6360.153152311119,
          6424.586954029775,
          9740.197499558511,
          10094.368764844014,
          11055.792820495291,
          10103.485413458531,
          10070.31037289012,
          6905.886135671929,
          5725.42019630836,
          11081.421783702785,
          10166.475111425245,
          7530.125514003485,
          4700.683235466751,
          4897.283916291943,
          5785.35010893042,
          10102.76793132423,
          10894.14279981855,
          11022.65442018565,
          10869.94808150392,
          10155.528011788616,
          5733.869143449186,
          4983.45303788403,
          11222.802564602029,
          10676.380565084077,
          10421.589239525532,
          11502.383056586645,
          11479.006792347564,
          7875.153423878004,
          5781.905850694114,
          11340.13529653264,
          11361.818715988677,
          11083.294721939705,
          11053.258089117233,
          10924.313619469316,
          6620.552143374356,
          5141.788341414409,
          10865.959941414916,
          9485.647436779383,
          9362.759823182658,
          9574.34661297328,
          8184.190890794684,
          5324.274008550471,
          5014.936840367816,
          2498.832510054684,
          6606.921035788295,
          7416.277402269903,
          7132.986606101334,
          6180.288387550521,
          5277.527935011099,
          5489.466100713541,
          4683.546393268714,
          9655.30473032947,
          9502.772683479185,
          10166.451276517108,
          5547.81908949594,
          4944.576147204001,
          9491.659026323494,
          9452.480055286098,
          9689.232541481782,
          9891.05629474542,
          9159.14461485449,
          5402.56017322132,
          4469.784476877977,
          9221.976067904956,
          9915.399317225372,
          9224.810695964376,
          10275.640908885918,
          9480.638038111832,
          4980.410565989067,
          4812.71990456639,
          5157.024726370475,
          9059.172310372478,
          10073.54618059315,
          9770.259104843091,
          9687.821625031294,
          6041.007167432766,
          5264.195827547813,
          10693.302185909532,
          10916.64944079924,
          10077.367781330586,
          10119.859130032037,
          10900.459751662274,
          5939.728405324464,
          4975.402886891134,
          11229.004219742454,
          11003.913176124068,
          11210.669678341255,
          11479.282386309167,
          11265.616162622877,
          5885.660356262961,
          5061.562532995732,
          10842.34563850119,
          9353.73914974262,
          11549.973056799809,
          10858.891051508066,
          10193.357631204406,
          5510.861383527516,
          4855.000075835786,
          8288.665265620844,
          11197.29721740032,
          9710.648396111366,
          11598.580817064872,
          10718.000819500328,
          6339.526385607178,
          5773.4559690891,
          10925.248750323512,
          11181.788331679734,
          11191.94181314216,
          11784.951127101069,
          10246.98920348586,
          6180.821232571868,
          5828.741332283018,
          8962.384254008777,
          12317.494905488367,
          11268.136630042558,
          11515.734628178032,
          10754.721842609606,
          7067.719904350718,
          6272.573195061166,
          12041.243667019373,
          11254.917626715664,
          11344.633195622748,
          12771.696244850977,
          10842.196822867822,
          7459.29411406848,
          6052.942253833545,
          11362.8407251556,
          11413.327087130294,
          11514.587393367572,
          11729.449494794082,
          10058.00090747911,
          6312.93503763055,
          5873.180296221955,
          11243.817140927404,
          11077.279143938002,
          11543.917061007409,
          11706.20299873783,
          10881.173905285495,
          7638.429284874132,
          5373.300004232928,
          11555.904370043978,
          12282.283410952568,
          11628.670235537204,
          13287.031580626724,
          10928.005156885523,
          7318.829872634027,
          6814.399880150326,
          11113.491792558216,
          10950.42566581499,
          12039.755233859638,
          10848.823661170116,
          10548.748393930502,
          6110.724544649105,
          5799.033272146244,
          6482.495260127021,
          11344.165546981538,
          10873.058807868978,
          11283.366763713142,
          8662.281693279761,
          5810.937659610457,
          12191.344453897918,
          12358.688146732527,
          12727.082780239478,
          11556.3210538786,
          10664.38082841429,
          7328.872493963847,
          6390.177991870692,
          11937.077246878667,
          11213.759836091313,
          10813.977721034204,
          11723.77340226945,
          11309.122794234256,
          6764.414981123845,
          6285.425879531883,
          11072.295645117469,
          11199.982119086912,
          12010.816922824371,
          11748.539495096304,
          9382.68555566375,
          6296.352046960975,
          5244.111969486919,
          11254.704918532992,
          11617.337290816302,
          11748.965038314413,
          12312.740315239404,
          10710.136019298589,
          7158.951985786495,
          6252.543389747359,
          11429.811756631503,
          10352.897958164758,
          10397.30906901548,
          10470.644989659577,
          8643.366539043687,
          5419.619834363347,
          4610.883409177807
         ]
        },
        {
         "line": {
          "color": "LightSkyBlue"
         },
         "mode": "lines+markers",
         "name": "Test Actual",
         "type": "scatter",
         "x": [
          "2019-05-27T00:00:00",
          "2019-05-28T00:00:00",
          "2019-05-29T00:00:00",
          "2019-05-30T00:00:00",
          "2019-05-31T00:00:00",
          "2019-06-01T00:00:00",
          "2019-06-02T00:00:00",
          "2019-06-03T00:00:00",
          "2019-06-04T00:00:00",
          "2019-06-05T00:00:00",
          "2019-06-06T00:00:00",
          "2019-06-07T00:00:00",
          "2019-06-08T00:00:00",
          "2019-06-09T00:00:00",
          "2019-06-10T00:00:00",
          "2019-06-11T00:00:00",
          "2019-06-12T00:00:00",
          "2019-06-13T00:00:00",
          "2019-06-14T00:00:00",
          "2019-06-15T00:00:00",
          "2019-06-16T00:00:00",
          "2019-06-17T00:00:00",
          "2019-06-18T00:00:00",
          "2019-06-19T00:00:00",
          "2019-06-20T00:00:00",
          "2019-06-21T00:00:00",
          "2019-06-22T00:00:00",
          "2019-06-23T00:00:00",
          "2019-06-24T00:00:00",
          "2019-06-25T00:00:00",
          "2019-06-26T00:00:00",
          "2019-06-27T00:00:00",
          "2019-06-28T00:00:00",
          "2019-06-29T00:00:00",
          "2019-06-30T00:00:00",
          "2019-07-01T00:00:00",
          "2019-07-02T00:00:00",
          "2019-07-03T00:00:00",
          "2019-07-04T00:00:00",
          "2019-07-05T00:00:00",
          "2019-07-06T00:00:00",
          "2019-07-07T00:00:00",
          "2019-07-08T00:00:00",
          "2019-07-09T00:00:00",
          "2019-07-10T00:00:00",
          "2019-07-11T00:00:00",
          "2019-07-12T00:00:00",
          "2019-07-13T00:00:00",
          "2019-07-14T00:00:00",
          "2019-07-15T00:00:00",
          "2019-07-16T00:00:00",
          "2019-07-17T00:00:00",
          "2019-07-18T00:00:00",
          "2019-07-19T00:00:00",
          "2019-07-20T00:00:00",
          "2019-07-21T00:00:00",
          "2019-07-22T00:00:00",
          "2019-07-23T00:00:00",
          "2019-07-24T00:00:00",
          "2019-07-25T00:00:00",
          "2019-07-26T00:00:00",
          "2019-07-27T00:00:00",
          "2019-07-28T00:00:00",
          "2019-07-29T00:00:00",
          "2019-07-30T00:00:00",
          "2019-07-31T00:00:00",
          "2019-08-01T00:00:00",
          "2019-08-02T00:00:00",
          "2019-08-03T00:00:00",
          "2019-08-04T00:00:00",
          "2019-08-05T00:00:00",
          "2019-08-06T00:00:00",
          "2019-08-07T00:00:00",
          "2019-08-08T00:00:00",
          "2019-08-09T00:00:00",
          "2019-08-10T00:00:00",
          "2019-08-11T00:00:00",
          "2019-08-12T00:00:00",
          "2019-08-13T00:00:00",
          "2019-08-14T00:00:00",
          "2019-08-15T00:00:00",
          "2019-08-16T00:00:00",
          "2019-08-17T00:00:00",
          "2019-08-18T00:00:00",
          "2019-08-19T00:00:00",
          "2019-08-20T00:00:00",
          "2019-08-21T00:00:00",
          "2019-08-22T00:00:00",
          "2019-08-23T00:00:00",
          "2019-08-24T00:00:00",
          "2019-08-25T00:00:00",
          "2019-08-26T00:00:00",
          "2019-08-27T00:00:00",
          "2019-08-28T00:00:00",
          "2019-08-29T00:00:00",
          "2019-08-30T00:00:00",
          "2019-08-31T00:00:00",
          "2019-09-01T00:00:00",
          "2019-09-02T00:00:00",
          "2019-09-03T00:00:00",
          "2019-09-04T00:00:00",
          "2019-09-05T00:00:00",
          "2019-09-06T00:00:00",
          "2019-09-07T00:00:00",
          "2019-09-08T00:00:00",
          "2019-09-09T00:00:00",
          "2019-09-10T00:00:00",
          "2019-09-11T00:00:00",
          "2019-09-12T00:00:00",
          "2019-09-13T00:00:00",
          "2019-09-14T00:00:00",
          "2019-09-15T00:00:00",
          "2019-09-16T00:00:00",
          "2019-09-17T00:00:00",
          "2019-09-18T00:00:00",
          "2019-09-19T00:00:00",
          "2019-09-20T00:00:00",
          "2019-09-21T00:00:00",
          "2019-09-22T00:00:00",
          "2019-09-23T00:00:00",
          "2019-09-24T00:00:00",
          "2019-09-25T00:00:00",
          "2019-09-26T00:00:00",
          "2019-09-27T00:00:00",
          "2019-09-28T00:00:00",
          "2019-09-29T00:00:00",
          "2019-09-30T00:00:00",
          "2019-10-01T00:00:00",
          "2019-10-02T00:00:00",
          "2019-10-03T00:00:00",
          "2019-10-04T00:00:00",
          "2019-10-05T00:00:00",
          "2019-10-06T00:00:00",
          "2019-10-07T00:00:00",
          "2019-10-08T00:00:00",
          "2019-10-09T00:00:00",
          "2019-10-10T00:00:00",
          "2019-10-11T00:00:00",
          "2019-10-12T00:00:00",
          "2019-10-13T00:00:00",
          "2019-10-14T00:00:00",
          "2019-10-15T00:00:00",
          "2019-10-16T00:00:00",
          "2019-10-17T00:00:00",
          "2019-10-18T00:00:00",
          "2019-10-19T00:00:00",
          "2019-10-20T00:00:00",
          "2019-10-21T00:00:00",
          "2019-10-22T00:00:00",
          "2019-10-23T00:00:00",
          "2019-10-24T00:00:00",
          "2019-10-25T00:00:00",
          "2019-10-26T00:00:00",
          "2019-10-27T00:00:00",
          "2019-10-28T00:00:00",
          "2019-10-29T00:00:00",
          "2019-10-30T00:00:00",
          "2019-10-31T00:00:00",
          "2019-11-01T00:00:00",
          "2019-11-02T00:00:00",
          "2019-11-03T00:00:00",
          "2019-11-04T00:00:00",
          "2019-11-05T00:00:00",
          "2019-11-06T00:00:00",
          "2019-11-07T00:00:00",
          "2019-11-08T00:00:00",
          "2019-11-09T00:00:00",
          "2019-11-10T00:00:00",
          "2019-11-11T00:00:00",
          "2019-11-12T00:00:00",
          "2019-11-13T00:00:00",
          "2019-11-14T00:00:00",
          "2019-11-15T00:00:00",
          "2019-11-16T00:00:00",
          "2019-11-17T00:00:00",
          "2019-11-18T00:00:00",
          "2019-11-19T00:00:00",
          "2019-11-20T00:00:00",
          "2019-11-21T00:00:00",
          "2019-11-22T00:00:00",
          "2019-11-23T00:00:00",
          "2019-11-24T00:00:00",
          "2019-11-25T00:00:00",
          "2019-11-26T00:00:00",
          "2019-11-27T00:00:00",
          "2019-11-29T00:00:00",
          "2019-11-30T00:00:00",
          "2019-12-01T00:00:00",
          "2019-12-02T00:00:00",
          "2019-12-03T00:00:00",
          "2019-12-04T00:00:00",
          "2019-12-05T00:00:00",
          "2019-12-06T00:00:00",
          "2019-12-07T00:00:00",
          "2019-12-08T00:00:00",
          "2019-12-09T00:00:00",
          "2019-12-10T00:00:00",
          "2019-12-11T00:00:00",
          "2019-12-12T00:00:00",
          "2019-12-13T00:00:00",
          "2019-12-14T00:00:00",
          "2019-12-15T00:00:00",
          "2019-12-16T00:00:00",
          "2019-12-17T00:00:00",
          "2019-12-18T00:00:00",
          "2019-12-19T00:00:00",
          "2019-12-20T00:00:00",
          "2019-12-21T00:00:00",
          "2019-12-22T00:00:00",
          "2019-12-23T00:00:00",
          "2019-12-24T00:00:00",
          "2019-12-26T00:00:00",
          "2019-12-27T00:00:00",
          "2019-12-28T00:00:00",
          "2019-12-29T00:00:00",
          "2019-12-30T00:00:00",
          "2019-12-31T00:00:00"
         ],
         "y": [
          5031.435581288539,
          9771.550987003107,
          9803.325497981574,
          10078.06312018516,
          9467.500377226204,
          6190.701280358914,
          5252.272175061775,
          10335.766973026051,
          10484.63179172308,
          11049.344221730888,
          10150.031054674648,
          9425.448629569104,
          5589.046167785696,
          6108.088361850108,
          9937.656219097093,
          10699.658695885748,
          10234.857037273792,
          10427.272619988302,
          10210.698343590931,
          5617.470514346309,
          4939.926582124369,
          10404.267881157228,
          9484.814476962896,
          10251.957120487112,
          11298.878864675911,
          9193.321466380832,
          5956.79520112564,
          5855.223643697882,
          10883.465308830637,
          10664.638643716218,
          10468.035519890022,
          10913.622475141796,
          9679.000595144127,
          6234.974839761364,
          9160.166009444796,
          10718.464158504936,
          11179.51433290182,
          9769.654237376522,
          2064.0681636168124,
          6673.7066914611,
          4509.745742300732,
          6076.016632692014,
          10509.831656077244,
          10189.895048643108,
          10495.785914506114,
          10971.033154862598,
          9917.5420001265,
          5856.839983616012,
          5634.782146512343,
          10295.88460189634,
          10786.501142584808,
          10214.45751054698,
          10852.627027615925,
          10071.673138130687,
          5070.997282012873,
          5418.101106019287,
          10424.768449111074,
          10549.114203252126,
          11002.743376566024,
          9896.67645254846,
          10319.80490823069,
          5544.813190640553,
          5559.376794168179,
          10334.512435876784,
          10173.820958611555,
          11377.078387484162,
          10735.235923323444,
          9433.102053537476,
          5620.043441540482,
          6421.113380223638,
          10055.699488466176,
          10133.32407475006,
          10282.49379092198,
          10658.09735156765,
          9057.0461158426,
          5542.608099731562,
          5769.426365519735,
          10246.597873599563,
          9851.172796377476,
          10588.83328951555,
          10748.18295320011,
          8669.997016965055,
          4985.296504517764,
          7718.362443689605,
          10511.732521771066,
          11139.957482148153,
          9977.8257331318,
          10839.98445113784,
          9917.777155023015,
          5769.250737413033,
          6347.856043234365,
          11144.051623589394,
          10929.972618041464,
          11138.976995691335,
          10657.566426981108,
          8648.101012886837,
          5747.6348396787525,
          5301.0691085927065,
          6206.669651943131,
          10922.568362694828,
          10739.775032295904,
          11341.575407129558,
          11234.006109718855,
          6271.398593146963,
          5700.571383713701,
          11704.68516078569,
          11507.842330729898,
          11852.203573753404,
          10951.582198305903,
          10679.99340658376,
          6124.347652351984,
          6017.055569775109,
          11739.790564621377,
          11611.16725752555,
          11306.493994088209,
          11304.29070931909,
          10531.80910376013,
          6551.280441497505,
          6536.327484684563,
          11489.18775361874,
          12429.97331321756,
          11948.579559141775,
          12037.30382525243,
          10309.603536882492,
          5999.068475846344,
          6015.534903902047,
          6176.817936168202,
          10861.260400692434,
          11770.030101173104,
          11270.081142195406,
          10166.133731778677,
          6306.280356006975,
          6387.424200090046,
          10855.184949018763,
          10674.208187263364,
          10867.071276852985,
          11245.866480794715,
          10348.900184697284,
          6998.464660337967,
          7393.8608212738045,
          10410.845509276038,
          11131.574258649396,
          11223.747404748734,
          11772.199275992283,
          10712.746885157414,
          6631.491474270874,
          5774.584357710262,
          10362.92325325758,
          11109.512549042338,
          11291.317122120696,
          10735.722811870331,
          10568.985655158049,
          4928.099548982537,
          6588.879174311895,
          11608.89383741301,
          10428.949204733306,
          11238.866001567394,
          11707.077257634091,
          10759.833398354349,
          6493.125939737201,
          6473.052673245964,
          11744.276959710416,
          10927.854951567782,
          11055.587646735608,
          11346.207223040956,
          10229.266237157615,
          6261.224256702381,
          6842.671224776022,
          11122.09749403175,
          10521.692142103158,
          10834.488650088297,
          11805.109603844858,
          10157.414748186844,
          6529.915818713178,
          5731.863522068652,
          11508.600092639716,
          10541.636929684431,
          11483.586119868436,
          11390.47728446335,
          10810.085106458082,
          6406.61025731396,
          6001.236293154807,
          11425.951369684282,
          10406.985744019968,
          8234.004081946481,
          4531.719810993337,
          5047.972726824399,
          5862.843746369221,
          10985.555268897742,
          11133.177490662509,
          11279.851870672055,
          11782.132345667364,
          10736.476120296164,
          7256.032069134247,
          6517.552424748717,
          11377.396011135232,
          11266.50437876203,
          10862.03825453712,
          11997.645582189049,
          10203.07717209969,
          7373.988198206215,
          6226.608724287978,
          10620.20881657768,
          9913.069161555406,
          9050.115620711156,
          9727.696363962265,
          8750.257221356045,
          4896.756996801107,
          4479.998725726494,
          7646.751890672655,
          2399.3850006707107,
          6364.038691077064,
          7174.367930169257,
          5088.195493655002,
          4914.770873112439,
          7809.836801118632,
          5784.629532361035
         ]
        },
        {
         "line": {
          "color": "lightcoral"
         },
         "mode": "lines+markers",
         "name": "Test Predicted",
         "type": "scatter",
         "x": [
          "2019-05-27T00:00:00",
          "2019-05-28T00:00:00",
          "2019-05-29T00:00:00",
          "2019-05-30T00:00:00",
          "2019-05-31T00:00:00",
          "2019-06-01T00:00:00",
          "2019-06-02T00:00:00",
          "2019-06-03T00:00:00",
          "2019-06-04T00:00:00",
          "2019-06-05T00:00:00",
          "2019-06-06T00:00:00",
          "2019-06-07T00:00:00",
          "2019-06-08T00:00:00",
          "2019-06-09T00:00:00",
          "2019-06-10T00:00:00",
          "2019-06-11T00:00:00",
          "2019-06-12T00:00:00",
          "2019-06-13T00:00:00",
          "2019-06-14T00:00:00",
          "2019-06-15T00:00:00",
          "2019-06-16T00:00:00",
          "2019-06-17T00:00:00",
          "2019-06-18T00:00:00",
          "2019-06-19T00:00:00",
          "2019-06-20T00:00:00",
          "2019-06-21T00:00:00",
          "2019-06-22T00:00:00",
          "2019-06-23T00:00:00",
          "2019-06-24T00:00:00",
          "2019-06-25T00:00:00",
          "2019-06-26T00:00:00",
          "2019-06-27T00:00:00",
          "2019-06-28T00:00:00",
          "2019-06-29T00:00:00",
          "2019-06-30T00:00:00",
          "2019-07-01T00:00:00",
          "2019-07-02T00:00:00",
          "2019-07-03T00:00:00",
          "2019-07-04T00:00:00",
          "2019-07-05T00:00:00",
          "2019-07-06T00:00:00",
          "2019-07-07T00:00:00",
          "2019-07-08T00:00:00",
          "2019-07-09T00:00:00",
          "2019-07-10T00:00:00",
          "2019-07-11T00:00:00",
          "2019-07-12T00:00:00",
          "2019-07-13T00:00:00",
          "2019-07-14T00:00:00",
          "2019-07-15T00:00:00",
          "2019-07-16T00:00:00",
          "2019-07-17T00:00:00",
          "2019-07-18T00:00:00",
          "2019-07-19T00:00:00",
          "2019-07-20T00:00:00",
          "2019-07-21T00:00:00",
          "2019-07-22T00:00:00",
          "2019-07-23T00:00:00",
          "2019-07-24T00:00:00",
          "2019-07-25T00:00:00",
          "2019-07-26T00:00:00",
          "2019-07-27T00:00:00",
          "2019-07-28T00:00:00",
          "2019-07-29T00:00:00",
          "2019-07-30T00:00:00",
          "2019-07-31T00:00:00",
          "2019-08-01T00:00:00",
          "2019-08-02T00:00:00",
          "2019-08-03T00:00:00",
          "2019-08-04T00:00:00",
          "2019-08-05T00:00:00",
          "2019-08-06T00:00:00",
          "2019-08-07T00:00:00",
          "2019-08-08T00:00:00",
          "2019-08-09T00:00:00",
          "2019-08-10T00:00:00",
          "2019-08-11T00:00:00",
          "2019-08-12T00:00:00",
          "2019-08-13T00:00:00",
          "2019-08-14T00:00:00",
          "2019-08-15T00:00:00",
          "2019-08-16T00:00:00",
          "2019-08-17T00:00:00",
          "2019-08-18T00:00:00",
          "2019-08-19T00:00:00",
          "2019-08-20T00:00:00",
          "2019-08-21T00:00:00",
          "2019-08-22T00:00:00",
          "2019-08-23T00:00:00",
          "2019-08-24T00:00:00",
          "2019-08-25T00:00:00",
          "2019-08-26T00:00:00",
          "2019-08-27T00:00:00",
          "2019-08-28T00:00:00",
          "2019-08-29T00:00:00",
          "2019-08-30T00:00:00",
          "2019-08-31T00:00:00",
          "2019-09-01T00:00:00",
          "2019-09-02T00:00:00",
          "2019-09-03T00:00:00",
          "2019-09-04T00:00:00",
          "2019-09-05T00:00:00",
          "2019-09-06T00:00:00",
          "2019-09-07T00:00:00",
          "2019-09-08T00:00:00",
          "2019-09-09T00:00:00",
          "2019-09-10T00:00:00",
          "2019-09-11T00:00:00",
          "2019-09-12T00:00:00",
          "2019-09-13T00:00:00",
          "2019-09-14T00:00:00",
          "2019-09-15T00:00:00",
          "2019-09-16T00:00:00",
          "2019-09-17T00:00:00",
          "2019-09-18T00:00:00",
          "2019-09-19T00:00:00",
          "2019-09-20T00:00:00",
          "2019-09-21T00:00:00",
          "2019-09-22T00:00:00",
          "2019-09-23T00:00:00",
          "2019-09-24T00:00:00",
          "2019-09-25T00:00:00",
          "2019-09-26T00:00:00",
          "2019-09-27T00:00:00",
          "2019-09-28T00:00:00",
          "2019-09-29T00:00:00",
          "2019-09-30T00:00:00",
          "2019-10-01T00:00:00",
          "2019-10-02T00:00:00",
          "2019-10-03T00:00:00",
          "2019-10-04T00:00:00",
          "2019-10-05T00:00:00",
          "2019-10-06T00:00:00",
          "2019-10-07T00:00:00",
          "2019-10-08T00:00:00",
          "2019-10-09T00:00:00",
          "2019-10-10T00:00:00",
          "2019-10-11T00:00:00",
          "2019-10-12T00:00:00",
          "2019-10-13T00:00:00",
          "2019-10-14T00:00:00",
          "2019-10-15T00:00:00",
          "2019-10-16T00:00:00",
          "2019-10-17T00:00:00",
          "2019-10-18T00:00:00",
          "2019-10-19T00:00:00",
          "2019-10-20T00:00:00",
          "2019-10-21T00:00:00",
          "2019-10-22T00:00:00",
          "2019-10-23T00:00:00",
          "2019-10-24T00:00:00",
          "2019-10-25T00:00:00",
          "2019-10-26T00:00:00",
          "2019-10-27T00:00:00",
          "2019-10-28T00:00:00",
          "2019-10-29T00:00:00",
          "2019-10-30T00:00:00",
          "2019-10-31T00:00:00",
          "2019-11-01T00:00:00",
          "2019-11-02T00:00:00",
          "2019-11-03T00:00:00",
          "2019-11-04T00:00:00",
          "2019-11-05T00:00:00",
          "2019-11-06T00:00:00",
          "2019-11-07T00:00:00",
          "2019-11-08T00:00:00",
          "2019-11-09T00:00:00",
          "2019-11-10T00:00:00",
          "2019-11-11T00:00:00",
          "2019-11-12T00:00:00",
          "2019-11-13T00:00:00",
          "2019-11-14T00:00:00",
          "2019-11-15T00:00:00",
          "2019-11-16T00:00:00",
          "2019-11-17T00:00:00",
          "2019-11-18T00:00:00",
          "2019-11-19T00:00:00",
          "2019-11-20T00:00:00",
          "2019-11-21T00:00:00",
          "2019-11-22T00:00:00",
          "2019-11-23T00:00:00",
          "2019-11-24T00:00:00",
          "2019-11-25T00:00:00",
          "2019-11-26T00:00:00",
          "2019-11-27T00:00:00",
          "2019-11-29T00:00:00",
          "2019-11-30T00:00:00",
          "2019-12-01T00:00:00",
          "2019-12-02T00:00:00",
          "2019-12-03T00:00:00",
          "2019-12-04T00:00:00",
          "2019-12-05T00:00:00",
          "2019-12-06T00:00:00",
          "2019-12-07T00:00:00",
          "2019-12-08T00:00:00",
          "2019-12-09T00:00:00",
          "2019-12-10T00:00:00",
          "2019-12-11T00:00:00",
          "2019-12-12T00:00:00",
          "2019-12-13T00:00:00",
          "2019-12-14T00:00:00",
          "2019-12-15T00:00:00",
          "2019-12-16T00:00:00",
          "2019-12-17T00:00:00",
          "2019-12-18T00:00:00",
          "2019-12-19T00:00:00",
          "2019-12-20T00:00:00",
          "2019-12-21T00:00:00",
          "2019-12-22T00:00:00",
          "2019-12-23T00:00:00",
          "2019-12-24T00:00:00",
          "2019-12-26T00:00:00",
          "2019-12-27T00:00:00",
          "2019-12-28T00:00:00",
          "2019-12-29T00:00:00",
          "2019-12-30T00:00:00",
          "2019-12-31T00:00:00"
         ],
         "y": [
          5735.86572265625,
          8493.1416015625,
          10174.3203125,
          10460.201171875,
          9452.318359375,
          6304.5634765625,
          4606.28466796875,
          9051.728515625,
          9901.859375,
          9376.1376953125,
          10776.650390625,
          10006.6220703125,
          5355.814453125,
          5545.9462890625,
          10190.958984375,
          10805.583984375,
          11084.3193359375,
          10518.43359375,
          9337.146484375,
          5518.41748046875,
          4978.25390625,
          9235.5126953125,
          9225,
          9611.49609375,
          10912.8037109375,
          9548.7744140625,
          5328.88330078125,
          5991.73291015625,
          9459.9951171875,
          10153.927734375,
          10297.2060546875,
          11045.005859375,
          9704.8232421875,
          5946.97216796875,
          5593.02197265625,
          9035.904296875,
          9522.9013671875,
          9389.36328125,
          4961.45263671875,
          8884.326171875,
          4930.29541015625,
          4936.0703125,
          9528.7666015625,
          8549.7978515625,
          9967.466796875,
          10911.5166015625,
          9133.37109375,
          5630.208984375,
          5280.7021484375,
          10216.6259765625,
          9608.4736328125,
          10302.4609375,
          10235.0546875,
          9587.267578125,
          5264.88330078125,
          5347.3681640625,
          9417.62890625,
          9610.7978515625,
          10756.1728515625,
          9907.0888671875,
          9487.634765625,
          5607.48486328125,
          5378.61767578125,
          9556.0185546875,
          10296.095703125,
          8416.609375,
          10410.4541015625,
          9581.9892578125,
          5226.77880859375,
          4768.203125,
          8580.9140625,
          9695.6064453125,
          9223.1494140625,
          8857.79296875,
          8549.0703125,
          5255.671875,
          6001.74560546875,
          9492.2763671875,
          8204.359375,
          10043.005859375,
          9319.3916015625,
          8855.052734375,
          5605.6962890625,
          5604.08544921875,
          9581.771484375,
          9424.736328125,
          9863.5185546875,
          10643.31640625,
          9901.66015625,
          5315.236328125,
          5486.9013671875,
          7887.43896484375,
          9518.095703125,
          9828.8525390625,
          10677.314453125,
          9169.3447265625,
          5059.3994140625,
          5044.39404296875,
          4652.06787109375,
          8377.75,
          9284.333984375,
          10891.1708984375,
          10301.587890625,
          6222.35009765625,
          5495.53759765625,
          9398.98828125,
          10607.677734375,
          10242.1474609375,
          10591.396484375,
          10179.9052734375,
          5712.07373046875,
          5631.84521484375,
          10589.10546875,
          11239.8984375,
          9299.7001953125,
          9908.0107421875,
          10547.5908203125,
          5617.1962890625,
          5246.86181640625,
          10577.1572265625,
          10847.36328125,
          9663.2470703125,
          10319.9658203125,
          10696.189453125,
          6288.7841796875,
          5745.20166015625,
          9936.3095703125,
          10405.78125,
          10599.7197265625,
          10481.7705078125,
          10113.732421875,
          6116.98974609375,
          6625.45654296875,
          10669.224609375,
          11290.8369140625,
          9498.85546875,
          11019.4345703125,
          10769.673828125,
          6730.44921875,
          5890.603515625,
          8971.7265625,
          10179.28515625,
          10080.4072265625,
          10260.248046875,
          10321.56640625,
          5881.88916015625,
          6257.5419921875,
          10090.84765625,
          10717.314453125,
          11028.248046875,
          11271.9111328125,
          9908.5986328125,
          5777.96240234375,
          5334.0712890625,
          10751.5390625,
          10329.1875,
          10476.3359375,
          10034.6171875,
          9605.5068359375,
          6220.333984375,
          5478.80810546875,
          10636.5732421875,
          9914.5712890625,
          10203.5380859375,
          9504.140625,
          10315.3701171875,
          6816.6669921875,
          5241.65234375,
          9011.8740234375,
          11190.9599609375,
          10921.908203125,
          9905.7890625,
          9819.900390625,
          5555.29052734375,
          5448.705078125,
          9853.4306640625,
          9612.18359375,
          9172.0361328125,
          10142.005859375,
          9141.0986328125,
          5373.81396484375,
          4736.68994140625,
          9722.380859375,
          8638.8330078125,
          6191.0595703125,
          4283.6845703125,
          5471.07763671875,
          5549.43994140625,
          9728.046875,
          11325.6845703125,
          10213.5244140625,
          10436.2197265625,
          7196.93603515625,
          5389.73095703125,
          5828.4501953125,
          9509.306640625,
          11309.4599609375,
          11423.447265625,
          11507.40625,
          8983.6845703125,
          5797.4130859375,
          5001.8486328125,
          9894.0234375,
          10297.904296875,
          9311.8798828125,
          9590.8896484375,
          7891.23046875,
          5159.81005859375,
          5480.98046875,
          6298.81689453125,
          5498.6416015625,
          5757.52294921875,
          5797.12890625,
          5011.95703125,
          4595.9580078125,
          6860.2685546875,
          6660.07421875
         ]
        }
       ],
       "layout": {
        "legend": {
         "title": {
          "text": "Type"
         }
        },
        "shapes": [
         {
          "line": {
           "color": "lightgray",
           "dash": "dot",
           "width": 2
          },
          "type": "line",
          "x0": "2019-05-27T00:00:00",
          "x1": "2019-05-27T00:00:00",
          "xref": "x",
          "y0": 0,
          "y1": 1,
          "yref": "y domain"
         }
        ],
        "template": {
         "data": {
          "bar": [
           {
            "error_x": {
             "color": "#2a3f5f"
            },
            "error_y": {
             "color": "#2a3f5f"
            },
            "marker": {
             "line": {
              "color": "#E5ECF6",
              "width": 0.5
             },
             "pattern": {
              "fillmode": "overlay",
              "size": 10,
              "solidity": 0.2
             }
            },
            "type": "bar"
           }
          ],
          "barpolar": [
           {
            "marker": {
             "line": {
              "color": "#E5ECF6",
              "width": 0.5
             },
             "pattern": {
              "fillmode": "overlay",
              "size": 10,
              "solidity": 0.2
             }
            },
            "type": "barpolar"
           }
          ],
          "carpet": [
           {
            "aaxis": {
             "endlinecolor": "#2a3f5f",
             "gridcolor": "white",
             "linecolor": "white",
             "minorgridcolor": "white",
             "startlinecolor": "#2a3f5f"
            },
            "baxis": {
             "endlinecolor": "#2a3f5f",
             "gridcolor": "white",
             "linecolor": "white",
             "minorgridcolor": "white",
             "startlinecolor": "#2a3f5f"
            },
            "type": "carpet"
           }
          ],
          "choropleth": [
           {
            "colorbar": {
             "outlinewidth": 0,
             "ticks": ""
            },
            "type": "choropleth"
           }
          ],
          "contour": [
           {
            "colorbar": {
             "outlinewidth": 0,
             "ticks": ""
            },
            "colorscale": [
             [
              0,
              "#0d0887"
             ],
             [
              0.1111111111111111,
              "#46039f"
             ],
             [
              0.2222222222222222,
              "#7201a8"
             ],
             [
              0.3333333333333333,
              "#9c179e"
             ],
             [
              0.4444444444444444,
              "#bd3786"
             ],
             [
              0.5555555555555556,
              "#d8576b"
             ],
             [
              0.6666666666666666,
              "#ed7953"
             ],
             [
              0.7777777777777778,
              "#fb9f3a"
             ],
             [
              0.8888888888888888,
              "#fdca26"
             ],
             [
              1,
              "#f0f921"
             ]
            ],
            "type": "contour"
           }
          ],
          "contourcarpet": [
           {
            "colorbar": {
             "outlinewidth": 0,
             "ticks": ""
            },
            "type": "contourcarpet"
           }
          ],
          "heatmap": [
           {
            "colorbar": {
             "outlinewidth": 0,
             "ticks": ""
            },
            "colorscale": [
             [
              0,
              "#0d0887"
             ],
             [
              0.1111111111111111,
              "#46039f"
             ],
             [
              0.2222222222222222,
              "#7201a8"
             ],
             [
              0.3333333333333333,
              "#9c179e"
             ],
             [
              0.4444444444444444,
              "#bd3786"
             ],
             [
              0.5555555555555556,
              "#d8576b"
             ],
             [
              0.6666666666666666,
              "#ed7953"
             ],
             [
              0.7777777777777778,
              "#fb9f3a"
             ],
             [
              0.8888888888888888,
              "#fdca26"
             ],
             [
              1,
              "#f0f921"
             ]
            ],
            "type": "heatmap"
           }
          ],
          "heatmapgl": [
           {
            "colorbar": {
             "outlinewidth": 0,
             "ticks": ""
            },
            "colorscale": [
             [
              0,
              "#0d0887"
             ],
             [
              0.1111111111111111,
              "#46039f"
             ],
             [
              0.2222222222222222,
              "#7201a8"
             ],
             [
              0.3333333333333333,
              "#9c179e"
             ],
             [
              0.4444444444444444,
              "#bd3786"
             ],
             [
              0.5555555555555556,
              "#d8576b"
             ],
             [
              0.6666666666666666,
              "#ed7953"
             ],
             [
              0.7777777777777778,
              "#fb9f3a"
             ],
             [
              0.8888888888888888,
              "#fdca26"
             ],
             [
              1,
              "#f0f921"
             ]
            ],
            "type": "heatmapgl"
           }
          ],
          "histogram": [
           {
            "marker": {
             "pattern": {
              "fillmode": "overlay",
              "size": 10,
              "solidity": 0.2
             }
            },
            "type": "histogram"
           }
          ],
          "histogram2d": [
           {
            "colorbar": {
             "outlinewidth": 0,
             "ticks": ""
            },
            "colorscale": [
             [
              0,
              "#0d0887"
             ],
             [
              0.1111111111111111,
              "#46039f"
             ],
             [
              0.2222222222222222,
              "#7201a8"
             ],
             [
              0.3333333333333333,
              "#9c179e"
             ],
             [
              0.4444444444444444,
              "#bd3786"
             ],
             [
              0.5555555555555556,
              "#d8576b"
             ],
             [
              0.6666666666666666,
              "#ed7953"
             ],
             [
              0.7777777777777778,
              "#fb9f3a"
             ],
             [
              0.8888888888888888,
              "#fdca26"
             ],
             [
              1,
              "#f0f921"
             ]
            ],
            "type": "histogram2d"
           }
          ],
          "histogram2dcontour": [
           {
            "colorbar": {
             "outlinewidth": 0,
             "ticks": ""
            },
            "colorscale": [
             [
              0,
              "#0d0887"
             ],
             [
              0.1111111111111111,
              "#46039f"
             ],
             [
              0.2222222222222222,
              "#7201a8"
             ],
             [
              0.3333333333333333,
              "#9c179e"
             ],
             [
              0.4444444444444444,
              "#bd3786"
             ],
             [
              0.5555555555555556,
              "#d8576b"
             ],
             [
              0.6666666666666666,
              "#ed7953"
             ],
             [
              0.7777777777777778,
              "#fb9f3a"
             ],
             [
              0.8888888888888888,
              "#fdca26"
             ],
             [
              1,
              "#f0f921"
             ]
            ],
            "type": "histogram2dcontour"
           }
          ],
          "mesh3d": [
           {
            "colorbar": {
             "outlinewidth": 0,
             "ticks": ""
            },
            "type": "mesh3d"
           }
          ],
          "parcoords": [
           {
            "line": {
             "colorbar": {
              "outlinewidth": 0,
              "ticks": ""
             }
            },
            "type": "parcoords"
           }
          ],
          "pie": [
           {
            "automargin": true,
            "type": "pie"
           }
          ],
          "scatter": [
           {
            "fillpattern": {
             "fillmode": "overlay",
             "size": 10,
             "solidity": 0.2
            },
            "type": "scatter"
           }
          ],
          "scatter3d": [
           {
            "line": {
             "colorbar": {
              "outlinewidth": 0,
              "ticks": ""
             }
            },
            "marker": {
             "colorbar": {
              "outlinewidth": 0,
              "ticks": ""
             }
            },
            "type": "scatter3d"
           }
          ],
          "scattercarpet": [
           {
            "marker": {
             "colorbar": {
              "outlinewidth": 0,
              "ticks": ""
             }
            },
            "type": "scattercarpet"
           }
          ],
          "scattergeo": [
           {
            "marker": {
             "colorbar": {
              "outlinewidth": 0,
              "ticks": ""
             }
            },
            "type": "scattergeo"
           }
          ],
          "scattergl": [
           {
            "marker": {
             "colorbar": {
              "outlinewidth": 0,
              "ticks": ""
             }
            },
            "type": "scattergl"
           }
          ],
          "scattermapbox": [
           {
            "marker": {
             "colorbar": {
              "outlinewidth": 0,
              "ticks": ""
             }
            },
            "type": "scattermapbox"
           }
          ],
          "scatterpolar": [
           {
            "marker": {
             "colorbar": {
              "outlinewidth": 0,
              "ticks": ""
             }
            },
            "type": "scatterpolar"
           }
          ],
          "scatterpolargl": [
           {
            "marker": {
             "colorbar": {
              "outlinewidth": 0,
              "ticks": ""
             }
            },
            "type": "scatterpolargl"
           }
          ],
          "scatterternary": [
           {
            "marker": {
             "colorbar": {
              "outlinewidth": 0,
              "ticks": ""
             }
            },
            "type": "scatterternary"
           }
          ],
          "surface": [
           {
            "colorbar": {
             "outlinewidth": 0,
             "ticks": ""
            },
            "colorscale": [
             [
              0,
              "#0d0887"
             ],
             [
              0.1111111111111111,
              "#46039f"
             ],
             [
              0.2222222222222222,
              "#7201a8"
             ],
             [
              0.3333333333333333,
              "#9c179e"
             ],
             [
              0.4444444444444444,
              "#bd3786"
             ],
             [
              0.5555555555555556,
              "#d8576b"
             ],
             [
              0.6666666666666666,
              "#ed7953"
             ],
             [
              0.7777777777777778,
              "#fb9f3a"
             ],
             [
              0.8888888888888888,
              "#fdca26"
             ],
             [
              1,
              "#f0f921"
             ]
            ],
            "type": "surface"
           }
          ],
          "table": [
           {
            "cells": {
             "fill": {
              "color": "#EBF0F8"
             },
             "line": {
              "color": "white"
             }
            },
            "header": {
             "fill": {
              "color": "#C8D4E3"
             },
             "line": {
              "color": "white"
             }
            },
            "type": "table"
           }
          ]
         },
         "layout": {
          "annotationdefaults": {
           "arrowcolor": "#2a3f5f",
           "arrowhead": 0,
           "arrowwidth": 1
          },
          "autotypenumbers": "strict",
          "coloraxis": {
           "colorbar": {
            "outlinewidth": 0,
            "ticks": ""
           }
          },
          "colorscale": {
           "diverging": [
            [
             0,
             "#8e0152"
            ],
            [
             0.1,
             "#c51b7d"
            ],
            [
             0.2,
             "#de77ae"
            ],
            [
             0.3,
             "#f1b6da"
            ],
            [
             0.4,
             "#fde0ef"
            ],
            [
             0.5,
             "#f7f7f7"
            ],
            [
             0.6,
             "#e6f5d0"
            ],
            [
             0.7,
             "#b8e186"
            ],
            [
             0.8,
             "#7fbc41"
            ],
            [
             0.9,
             "#4d9221"
            ],
            [
             1,
             "#276419"
            ]
           ],
           "sequential": [
            [
             0,
             "#0d0887"
            ],
            [
             0.1111111111111111,
             "#46039f"
            ],
            [
             0.2222222222222222,
             "#7201a8"
            ],
            [
             0.3333333333333333,
             "#9c179e"
            ],
            [
             0.4444444444444444,
             "#bd3786"
            ],
            [
             0.5555555555555556,
             "#d8576b"
            ],
            [
             0.6666666666666666,
             "#ed7953"
            ],
            [
             0.7777777777777778,
             "#fb9f3a"
            ],
            [
             0.8888888888888888,
             "#fdca26"
            ],
            [
             1,
             "#f0f921"
            ]
           ],
           "sequentialminus": [
            [
             0,
             "#0d0887"
            ],
            [
             0.1111111111111111,
             "#46039f"
            ],
            [
             0.2222222222222222,
             "#7201a8"
            ],
            [
             0.3333333333333333,
             "#9c179e"
            ],
            [
             0.4444444444444444,
             "#bd3786"
            ],
            [
             0.5555555555555556,
             "#d8576b"
            ],
            [
             0.6666666666666666,
             "#ed7953"
            ],
            [
             0.7777777777777778,
             "#fb9f3a"
            ],
            [
             0.8888888888888888,
             "#fdca26"
            ],
            [
             1,
             "#f0f921"
            ]
           ]
          },
          "colorway": [
           "#636efa",
           "#EF553B",
           "#00cc96",
           "#ab63fa",
           "#FFA15A",
           "#19d3f3",
           "#FF6692",
           "#B6E880",
           "#FF97FF",
           "#FECB52"
          ],
          "font": {
           "color": "#2a3f5f"
          },
          "geo": {
           "bgcolor": "white",
           "lakecolor": "white",
           "landcolor": "#E5ECF6",
           "showlakes": true,
           "showland": true,
           "subunitcolor": "white"
          },
          "hoverlabel": {
           "align": "left"
          },
          "hovermode": "closest",
          "mapbox": {
           "style": "light"
          },
          "paper_bgcolor": "white",
          "plot_bgcolor": "#E5ECF6",
          "polar": {
           "angularaxis": {
            "gridcolor": "white",
            "linecolor": "white",
            "ticks": ""
           },
           "bgcolor": "#E5ECF6",
           "radialaxis": {
            "gridcolor": "white",
            "linecolor": "white",
            "ticks": ""
           }
          },
          "scene": {
           "xaxis": {
            "backgroundcolor": "#E5ECF6",
            "gridcolor": "white",
            "gridwidth": 2,
            "linecolor": "white",
            "showbackground": true,
            "ticks": "",
            "zerolinecolor": "white"
           },
           "yaxis": {
            "backgroundcolor": "#E5ECF6",
            "gridcolor": "white",
            "gridwidth": 2,
            "linecolor": "white",
            "showbackground": true,
            "ticks": "",
            "zerolinecolor": "white"
           },
           "zaxis": {
            "backgroundcolor": "#E5ECF6",
            "gridcolor": "white",
            "gridwidth": 2,
            "linecolor": "white",
            "showbackground": true,
            "ticks": "",
            "zerolinecolor": "white"
           }
          },
          "shapedefaults": {
           "line": {
            "color": "#2a3f5f"
           }
          },
          "ternary": {
           "aaxis": {
            "gridcolor": "white",
            "linecolor": "white",
            "ticks": ""
           },
           "baxis": {
            "gridcolor": "white",
            "linecolor": "white",
            "ticks": ""
           },
           "bgcolor": "#E5ECF6",
           "caxis": {
            "gridcolor": "white",
            "linecolor": "white",
            "ticks": ""
           }
          },
          "title": {
           "x": 0.05
          },
          "xaxis": {
           "automargin": true,
           "gridcolor": "white",
           "linecolor": "white",
           "ticks": "",
           "title": {
            "standoff": 15
           },
           "zerolinecolor": "white",
           "zerolinewidth": 2
          },
          "yaxis": {
           "automargin": true,
           "gridcolor": "white",
           "linecolor": "white",
           "ticks": "",
           "title": {
            "standoff": 15
           },
           "zerolinecolor": "white",
           "zerolinewidth": 2
          }
         }
        },
        "title": {
         "text": "<b>Actual vs. Predicted Demand</b><br><sub>For store_0, feature set: all</sub>"
        },
        "xaxis": {
         "title": {
          "text": "Date"
         }
        },
        "yaxis": {
         "title": {
          "text": "Demand"
         }
        }
       }
      }
     },
     "metadata": {},
     "output_type": "display_data"
    },
    {
     "data": {
      "application/vnd.plotly.v1+json": {
       "config": {
        "plotlyServerURL": "https://plot.ly"
       },
       "data": [
        {
         "line": {
          "color": "lightseagreen"
         },
         "mode": "lines+markers",
         "name": "Train Actual",
         "type": "scatter",
         "x": [
          "2017-01-02T00:00:00",
          "2017-01-03T00:00:00",
          "2017-01-04T00:00:00",
          "2017-01-05T00:00:00",
          "2017-01-06T00:00:00",
          "2017-01-07T00:00:00",
          "2017-01-08T00:00:00",
          "2017-01-09T00:00:00",
          "2017-01-10T00:00:00",
          "2017-01-11T00:00:00",
          "2017-01-12T00:00:00",
          "2017-01-13T00:00:00",
          "2017-01-14T00:00:00",
          "2017-01-15T00:00:00",
          "2017-01-16T00:00:00",
          "2017-01-17T00:00:00",
          "2017-01-18T00:00:00",
          "2017-01-19T00:00:00",
          "2017-01-20T00:00:00",
          "2017-01-21T00:00:00",
          "2017-01-22T00:00:00",
          "2017-01-23T00:00:00",
          "2017-01-24T00:00:00",
          "2017-01-25T00:00:00",
          "2017-01-26T00:00:00",
          "2017-01-27T00:00:00",
          "2017-01-28T00:00:00",
          "2017-01-29T00:00:00",
          "2017-01-30T00:00:00",
          "2017-01-31T00:00:00",
          "2017-02-01T00:00:00",
          "2017-02-02T00:00:00",
          "2017-02-03T00:00:00",
          "2017-02-04T00:00:00",
          "2017-02-05T00:00:00",
          "2017-02-06T00:00:00",
          "2017-02-07T00:00:00",
          "2017-02-08T00:00:00",
          "2017-02-09T00:00:00",
          "2017-02-10T00:00:00",
          "2017-02-11T00:00:00",
          "2017-02-12T00:00:00",
          "2017-02-13T00:00:00",
          "2017-02-14T00:00:00",
          "2017-02-15T00:00:00",
          "2017-02-16T00:00:00",
          "2017-02-17T00:00:00",
          "2017-02-18T00:00:00",
          "2017-02-19T00:00:00",
          "2017-02-20T00:00:00",
          "2017-02-21T00:00:00",
          "2017-02-22T00:00:00",
          "2017-02-23T00:00:00",
          "2017-02-24T00:00:00",
          "2017-02-25T00:00:00",
          "2017-02-26T00:00:00",
          "2017-03-01T00:00:00",
          "2017-03-02T00:00:00",
          "2017-03-03T00:00:00",
          "2017-03-04T00:00:00",
          "2017-03-05T00:00:00",
          "2017-03-06T00:00:00",
          "2017-03-07T00:00:00",
          "2017-03-08T00:00:00",
          "2017-03-09T00:00:00",
          "2017-03-10T00:00:00",
          "2017-03-11T00:00:00",
          "2017-03-12T00:00:00",
          "2017-03-13T00:00:00",
          "2017-03-14T00:00:00",
          "2017-03-15T00:00:00",
          "2017-03-16T00:00:00",
          "2017-03-17T00:00:00",
          "2017-03-18T00:00:00",
          "2017-03-19T00:00:00",
          "2017-03-20T00:00:00",
          "2017-03-21T00:00:00",
          "2017-03-22T00:00:00",
          "2017-03-23T00:00:00",
          "2017-03-24T00:00:00",
          "2017-03-25T00:00:00",
          "2017-03-26T00:00:00",
          "2017-03-27T00:00:00",
          "2017-03-28T00:00:00",
          "2017-03-29T00:00:00",
          "2017-03-30T00:00:00",
          "2017-03-31T00:00:00",
          "2017-04-01T00:00:00",
          "2017-04-02T00:00:00",
          "2017-04-03T00:00:00",
          "2017-04-04T00:00:00",
          "2017-04-05T00:00:00",
          "2017-04-06T00:00:00",
          "2017-04-07T00:00:00",
          "2017-04-08T00:00:00",
          "2017-04-09T00:00:00",
          "2017-04-10T00:00:00",
          "2017-04-11T00:00:00",
          "2017-04-12T00:00:00",
          "2017-04-13T00:00:00",
          "2017-04-14T00:00:00",
          "2017-04-15T00:00:00",
          "2017-04-17T00:00:00",
          "2017-04-18T00:00:00",
          "2017-04-19T00:00:00",
          "2017-04-20T00:00:00",
          "2017-04-21T00:00:00",
          "2017-04-22T00:00:00",
          "2017-04-23T00:00:00",
          "2017-04-24T00:00:00",
          "2017-04-25T00:00:00",
          "2017-04-26T00:00:00",
          "2017-04-27T00:00:00",
          "2017-04-28T00:00:00",
          "2017-04-29T00:00:00",
          "2017-04-30T00:00:00",
          "2017-05-01T00:00:00",
          "2017-05-02T00:00:00",
          "2017-05-03T00:00:00",
          "2017-05-04T00:00:00",
          "2017-05-05T00:00:00",
          "2017-05-06T00:00:00",
          "2017-05-07T00:00:00",
          "2017-05-08T00:00:00",
          "2017-05-09T00:00:00",
          "2017-05-10T00:00:00",
          "2017-05-11T00:00:00",
          "2017-05-12T00:00:00",
          "2017-05-13T00:00:00",
          "2017-05-14T00:00:00",
          "2017-05-15T00:00:00",
          "2017-05-16T00:00:00",
          "2017-05-17T00:00:00",
          "2017-05-18T00:00:00",
          "2017-05-19T00:00:00",
          "2017-05-20T00:00:00",
          "2017-05-21T00:00:00",
          "2017-05-22T00:00:00",
          "2017-05-23T00:00:00",
          "2017-05-24T00:00:00",
          "2017-05-25T00:00:00",
          "2017-05-26T00:00:00",
          "2017-05-27T00:00:00",
          "2017-05-28T00:00:00",
          "2017-05-29T00:00:00",
          "2017-05-30T00:00:00",
          "2017-05-31T00:00:00",
          "2017-06-01T00:00:00",
          "2017-06-02T00:00:00",
          "2017-06-03T00:00:00",
          "2017-06-04T00:00:00",
          "2017-06-05T00:00:00",
          "2017-06-06T00:00:00",
          "2017-06-07T00:00:00",
          "2017-06-08T00:00:00",
          "2017-06-09T00:00:00",
          "2017-06-10T00:00:00",
          "2017-06-11T00:00:00",
          "2017-06-12T00:00:00",
          "2017-06-13T00:00:00",
          "2017-06-14T00:00:00",
          "2017-06-15T00:00:00",
          "2017-06-16T00:00:00",
          "2017-06-17T00:00:00",
          "2017-06-18T00:00:00",
          "2017-06-19T00:00:00",
          "2017-06-20T00:00:00",
          "2017-06-21T00:00:00",
          "2017-06-22T00:00:00",
          "2017-06-23T00:00:00",
          "2017-06-24T00:00:00",
          "2017-06-25T00:00:00",
          "2017-06-26T00:00:00",
          "2017-06-27T00:00:00",
          "2017-06-28T00:00:00",
          "2017-06-29T00:00:00",
          "2017-06-30T00:00:00",
          "2017-07-01T00:00:00",
          "2017-07-02T00:00:00",
          "2017-07-03T00:00:00",
          "2017-07-04T00:00:00",
          "2017-07-05T00:00:00",
          "2017-07-06T00:00:00",
          "2017-07-07T00:00:00",
          "2017-07-08T00:00:00",
          "2017-07-09T00:00:00",
          "2017-07-10T00:00:00",
          "2017-07-11T00:00:00",
          "2017-07-12T00:00:00",
          "2017-07-13T00:00:00",
          "2017-07-14T00:00:00",
          "2017-07-15T00:00:00",
          "2017-07-16T00:00:00",
          "2017-07-17T00:00:00",
          "2017-07-18T00:00:00",
          "2017-07-19T00:00:00",
          "2017-07-20T00:00:00",
          "2017-07-21T00:00:00",
          "2017-07-22T00:00:00",
          "2017-07-23T00:00:00",
          "2017-07-24T00:00:00",
          "2017-07-25T00:00:00",
          "2017-07-26T00:00:00",
          "2017-07-27T00:00:00",
          "2017-07-28T00:00:00",
          "2017-07-29T00:00:00",
          "2017-07-30T00:00:00",
          "2017-07-31T00:00:00",
          "2017-08-01T00:00:00",
          "2017-08-02T00:00:00",
          "2017-08-03T00:00:00",
          "2017-08-04T00:00:00",
          "2017-08-05T00:00:00",
          "2017-08-06T00:00:00",
          "2017-08-07T00:00:00",
          "2017-08-08T00:00:00",
          "2017-08-09T00:00:00",
          "2017-08-10T00:00:00",
          "2017-08-11T00:00:00",
          "2017-08-12T00:00:00",
          "2017-08-13T00:00:00",
          "2017-08-14T00:00:00",
          "2017-08-15T00:00:00",
          "2017-08-16T00:00:00",
          "2017-08-17T00:00:00",
          "2017-08-18T00:00:00",
          "2017-08-19T00:00:00",
          "2017-08-20T00:00:00",
          "2017-08-21T00:00:00",
          "2017-08-22T00:00:00",
          "2017-08-23T00:00:00",
          "2017-08-24T00:00:00",
          "2017-08-25T00:00:00",
          "2017-08-26T00:00:00",
          "2017-08-27T00:00:00",
          "2017-08-28T00:00:00",
          "2017-08-29T00:00:00",
          "2017-08-30T00:00:00",
          "2017-08-31T00:00:00",
          "2017-09-01T00:00:00",
          "2017-09-02T00:00:00",
          "2017-09-03T00:00:00",
          "2017-09-04T00:00:00",
          "2017-09-05T00:00:00",
          "2017-09-06T00:00:00",
          "2017-09-07T00:00:00",
          "2017-09-08T00:00:00",
          "2017-09-09T00:00:00",
          "2017-09-10T00:00:00",
          "2017-09-11T00:00:00",
          "2017-09-12T00:00:00",
          "2017-09-13T00:00:00",
          "2017-09-14T00:00:00",
          "2017-09-15T00:00:00",
          "2017-09-16T00:00:00",
          "2017-09-17T00:00:00",
          "2017-09-18T00:00:00",
          "2017-09-19T00:00:00",
          "2017-09-20T00:00:00",
          "2017-09-21T00:00:00",
          "2017-09-22T00:00:00",
          "2017-09-23T00:00:00",
          "2017-09-24T00:00:00",
          "2017-09-25T00:00:00",
          "2017-09-26T00:00:00",
          "2017-09-27T00:00:00",
          "2017-09-28T00:00:00",
          "2017-09-29T00:00:00",
          "2017-09-30T00:00:00",
          "2017-10-01T00:00:00",
          "2017-10-02T00:00:00",
          "2017-10-03T00:00:00",
          "2017-10-04T00:00:00",
          "2017-10-05T00:00:00",
          "2017-10-06T00:00:00",
          "2017-10-07T00:00:00",
          "2017-10-08T00:00:00",
          "2017-10-09T00:00:00",
          "2017-10-10T00:00:00",
          "2017-10-11T00:00:00",
          "2017-10-12T00:00:00",
          "2017-10-13T00:00:00",
          "2017-10-14T00:00:00",
          "2017-10-15T00:00:00",
          "2017-10-16T00:00:00",
          "2017-10-17T00:00:00",
          "2017-10-18T00:00:00",
          "2017-10-19T00:00:00",
          "2017-10-20T00:00:00",
          "2017-10-21T00:00:00",
          "2017-10-22T00:00:00",
          "2017-10-23T00:00:00",
          "2017-10-24T00:00:00",
          "2017-10-25T00:00:00",
          "2017-10-26T00:00:00",
          "2017-10-27T00:00:00",
          "2017-10-28T00:00:00",
          "2017-10-29T00:00:00",
          "2017-10-30T00:00:00",
          "2017-10-31T00:00:00",
          "2017-11-01T00:00:00",
          "2017-11-02T00:00:00",
          "2017-11-03T00:00:00",
          "2017-11-04T00:00:00",
          "2017-11-05T00:00:00",
          "2017-11-06T00:00:00",
          "2017-11-07T00:00:00",
          "2017-11-08T00:00:00",
          "2017-11-09T00:00:00",
          "2017-11-10T00:00:00",
          "2017-11-11T00:00:00",
          "2017-11-12T00:00:00",
          "2017-11-13T00:00:00",
          "2017-11-14T00:00:00",
          "2017-11-15T00:00:00",
          "2017-11-16T00:00:00",
          "2017-11-17T00:00:00",
          "2017-11-18T00:00:00",
          "2017-11-19T00:00:00",
          "2017-11-20T00:00:00",
          "2017-11-21T00:00:00",
          "2017-11-22T00:00:00",
          "2017-11-24T00:00:00",
          "2017-11-25T00:00:00",
          "2017-11-26T00:00:00",
          "2017-11-27T00:00:00",
          "2017-11-28T00:00:00",
          "2017-11-29T00:00:00",
          "2017-11-30T00:00:00",
          "2017-12-01T00:00:00",
          "2017-12-02T00:00:00",
          "2017-12-03T00:00:00",
          "2017-12-04T00:00:00",
          "2017-12-05T00:00:00",
          "2017-12-06T00:00:00",
          "2017-12-07T00:00:00",
          "2017-12-08T00:00:00",
          "2017-12-09T00:00:00",
          "2017-12-10T00:00:00",
          "2017-12-11T00:00:00",
          "2017-12-12T00:00:00",
          "2017-12-13T00:00:00",
          "2017-12-14T00:00:00",
          "2017-12-15T00:00:00",
          "2017-12-16T00:00:00",
          "2017-12-17T00:00:00",
          "2017-12-18T00:00:00",
          "2017-12-19T00:00:00",
          "2017-12-20T00:00:00",
          "2017-12-21T00:00:00",
          "2017-12-22T00:00:00",
          "2017-12-23T00:00:00",
          "2017-12-24T00:00:00",
          "2017-12-26T00:00:00",
          "2017-12-27T00:00:00",
          "2017-12-28T00:00:00",
          "2017-12-29T00:00:00",
          "2017-12-30T00:00:00",
          "2017-12-31T00:00:00",
          "2018-01-01T00:00:00",
          "2018-01-02T00:00:00",
          "2018-01-03T00:00:00",
          "2018-01-04T00:00:00",
          "2018-01-05T00:00:00",
          "2018-01-06T00:00:00",
          "2018-01-07T00:00:00",
          "2018-01-08T00:00:00",
          "2018-01-09T00:00:00",
          "2018-01-10T00:00:00",
          "2018-01-11T00:00:00",
          "2018-01-12T00:00:00",
          "2018-01-13T00:00:00",
          "2018-01-14T00:00:00",
          "2018-01-15T00:00:00",
          "2018-01-16T00:00:00",
          "2018-01-17T00:00:00",
          "2018-01-18T00:00:00",
          "2018-01-19T00:00:00",
          "2018-01-20T00:00:00",
          "2018-01-21T00:00:00",
          "2018-01-22T00:00:00",
          "2018-01-23T00:00:00",
          "2018-01-24T00:00:00",
          "2018-01-25T00:00:00",
          "2018-01-26T00:00:00",
          "2018-01-27T00:00:00",
          "2018-01-28T00:00:00",
          "2018-01-29T00:00:00",
          "2018-01-30T00:00:00",
          "2018-01-31T00:00:00",
          "2018-02-01T00:00:00",
          "2018-02-02T00:00:00",
          "2018-02-03T00:00:00",
          "2018-02-04T00:00:00",
          "2018-02-05T00:00:00",
          "2018-02-06T00:00:00",
          "2018-02-07T00:00:00",
          "2018-02-08T00:00:00",
          "2018-02-09T00:00:00",
          "2018-02-10T00:00:00",
          "2018-02-11T00:00:00",
          "2018-02-12T00:00:00",
          "2018-02-13T00:00:00",
          "2018-02-14T00:00:00",
          "2018-02-15T00:00:00",
          "2018-02-16T00:00:00",
          "2018-02-17T00:00:00",
          "2018-02-18T00:00:00",
          "2018-02-19T00:00:00",
          "2018-02-20T00:00:00",
          "2018-02-21T00:00:00",
          "2018-02-22T00:00:00",
          "2018-02-23T00:00:00",
          "2018-02-24T00:00:00",
          "2018-02-25T00:00:00",
          "2018-02-26T00:00:00",
          "2018-02-27T00:00:00",
          "2018-02-28T00:00:00",
          "2018-03-01T00:00:00",
          "2018-03-02T00:00:00",
          "2018-03-03T00:00:00",
          "2018-03-04T00:00:00",
          "2018-03-05T00:00:00",
          "2018-03-06T00:00:00",
          "2018-03-07T00:00:00",
          "2018-03-08T00:00:00",
          "2018-03-09T00:00:00",
          "2018-03-10T00:00:00",
          "2018-03-11T00:00:00",
          "2018-03-12T00:00:00",
          "2018-03-13T00:00:00",
          "2018-03-14T00:00:00",
          "2018-03-15T00:00:00",
          "2018-03-16T00:00:00",
          "2018-03-17T00:00:00",
          "2018-03-18T00:00:00",
          "2018-03-19T00:00:00",
          "2018-03-20T00:00:00",
          "2018-03-21T00:00:00",
          "2018-03-22T00:00:00",
          "2018-03-23T00:00:00",
          "2018-03-24T00:00:00",
          "2018-03-25T00:00:00",
          "2018-03-26T00:00:00",
          "2018-03-27T00:00:00",
          "2018-03-28T00:00:00",
          "2018-03-29T00:00:00",
          "2018-03-30T00:00:00",
          "2018-03-31T00:00:00",
          "2018-04-02T00:00:00",
          "2018-04-03T00:00:00",
          "2018-04-04T00:00:00",
          "2018-04-05T00:00:00",
          "2018-04-06T00:00:00",
          "2018-04-07T00:00:00",
          "2018-04-08T00:00:00",
          "2018-04-09T00:00:00",
          "2018-04-10T00:00:00",
          "2018-04-11T00:00:00",
          "2018-04-12T00:00:00",
          "2018-04-13T00:00:00",
          "2018-04-14T00:00:00",
          "2018-04-15T00:00:00",
          "2018-04-16T00:00:00",
          "2018-04-17T00:00:00",
          "2018-04-18T00:00:00",
          "2018-04-19T00:00:00",
          "2018-04-20T00:00:00",
          "2018-04-21T00:00:00",
          "2018-04-22T00:00:00",
          "2018-04-23T00:00:00",
          "2018-04-24T00:00:00",
          "2018-04-25T00:00:00",
          "2018-04-26T00:00:00",
          "2018-04-27T00:00:00",
          "2018-04-28T00:00:00",
          "2018-04-29T00:00:00",
          "2018-04-30T00:00:00",
          "2018-05-01T00:00:00",
          "2018-05-02T00:00:00",
          "2018-05-03T00:00:00",
          "2018-05-04T00:00:00",
          "2018-05-05T00:00:00",
          "2018-05-06T00:00:00",
          "2018-05-07T00:00:00",
          "2018-05-08T00:00:00",
          "2018-05-09T00:00:00",
          "2018-05-10T00:00:00",
          "2018-05-11T00:00:00",
          "2018-05-12T00:00:00",
          "2018-05-13T00:00:00",
          "2018-05-14T00:00:00",
          "2018-05-15T00:00:00",
          "2018-05-16T00:00:00",
          "2018-05-17T00:00:00",
          "2018-05-18T00:00:00",
          "2018-05-19T00:00:00",
          "2018-05-20T00:00:00",
          "2018-05-21T00:00:00",
          "2018-05-22T00:00:00",
          "2018-05-23T00:00:00",
          "2018-05-24T00:00:00",
          "2018-05-25T00:00:00",
          "2018-05-26T00:00:00",
          "2018-05-27T00:00:00",
          "2018-05-28T00:00:00",
          "2018-05-29T00:00:00",
          "2018-05-30T00:00:00",
          "2018-05-31T00:00:00",
          "2018-06-01T00:00:00",
          "2018-06-02T00:00:00",
          "2018-06-03T00:00:00",
          "2018-06-04T00:00:00",
          "2018-06-05T00:00:00",
          "2018-06-06T00:00:00",
          "2018-06-07T00:00:00",
          "2018-06-08T00:00:00",
          "2018-06-09T00:00:00",
          "2018-06-10T00:00:00",
          "2018-06-11T00:00:00",
          "2018-06-12T00:00:00",
          "2018-06-13T00:00:00",
          "2018-06-14T00:00:00",
          "2018-06-15T00:00:00",
          "2018-06-16T00:00:00",
          "2018-06-17T00:00:00",
          "2018-06-18T00:00:00",
          "2018-06-19T00:00:00",
          "2018-06-20T00:00:00",
          "2018-06-21T00:00:00",
          "2018-06-22T00:00:00",
          "2018-06-23T00:00:00",
          "2018-06-24T00:00:00",
          "2018-06-25T00:00:00",
          "2018-06-26T00:00:00",
          "2018-06-27T00:00:00",
          "2018-06-28T00:00:00",
          "2018-06-29T00:00:00",
          "2018-06-30T00:00:00",
          "2018-07-01T00:00:00",
          "2018-07-02T00:00:00",
          "2018-07-03T00:00:00",
          "2018-07-04T00:00:00",
          "2018-07-05T00:00:00",
          "2018-07-06T00:00:00",
          "2018-07-07T00:00:00",
          "2018-07-08T00:00:00",
          "2018-07-09T00:00:00",
          "2018-07-10T00:00:00",
          "2018-07-11T00:00:00",
          "2018-07-12T00:00:00",
          "2018-07-13T00:00:00",
          "2018-07-14T00:00:00",
          "2018-07-15T00:00:00",
          "2018-07-16T00:00:00",
          "2018-07-17T00:00:00",
          "2018-07-18T00:00:00",
          "2018-07-19T00:00:00",
          "2018-07-20T00:00:00",
          "2018-07-21T00:00:00",
          "2018-07-22T00:00:00",
          "2018-07-23T00:00:00",
          "2018-07-24T00:00:00",
          "2018-07-25T00:00:00",
          "2018-07-26T00:00:00",
          "2018-07-27T00:00:00",
          "2018-07-28T00:00:00",
          "2018-07-29T00:00:00",
          "2018-07-30T00:00:00",
          "2018-07-31T00:00:00",
          "2018-08-01T00:00:00",
          "2018-08-02T00:00:00",
          "2018-08-03T00:00:00",
          "2018-08-04T00:00:00",
          "2018-08-05T00:00:00",
          "2018-08-06T00:00:00",
          "2018-08-07T00:00:00",
          "2018-08-08T00:00:00",
          "2018-08-09T00:00:00",
          "2018-08-10T00:00:00",
          "2018-08-11T00:00:00",
          "2018-08-12T00:00:00",
          "2018-08-13T00:00:00",
          "2018-08-14T00:00:00",
          "2018-08-15T00:00:00",
          "2018-08-16T00:00:00",
          "2018-08-17T00:00:00",
          "2018-08-18T00:00:00",
          "2018-08-19T00:00:00",
          "2018-08-20T00:00:00",
          "2018-08-21T00:00:00",
          "2018-08-22T00:00:00",
          "2018-08-23T00:00:00",
          "2018-08-24T00:00:00",
          "2018-08-25T00:00:00",
          "2018-08-26T00:00:00",
          "2018-08-27T00:00:00",
          "2018-08-28T00:00:00",
          "2018-08-29T00:00:00",
          "2018-08-30T00:00:00",
          "2018-08-31T00:00:00",
          "2018-09-01T00:00:00",
          "2018-09-02T00:00:00",
          "2018-09-03T00:00:00",
          "2018-09-04T00:00:00",
          "2018-09-05T00:00:00",
          "2018-09-06T00:00:00",
          "2018-09-07T00:00:00",
          "2018-09-08T00:00:00",
          "2018-09-09T00:00:00",
          "2018-09-10T00:00:00",
          "2018-09-11T00:00:00",
          "2018-09-12T00:00:00",
          "2018-09-13T00:00:00",
          "2018-09-14T00:00:00",
          "2018-09-15T00:00:00",
          "2018-09-16T00:00:00",
          "2018-09-17T00:00:00",
          "2018-09-18T00:00:00",
          "2018-09-19T00:00:00",
          "2018-09-20T00:00:00",
          "2018-09-21T00:00:00",
          "2018-09-22T00:00:00",
          "2018-09-23T00:00:00",
          "2018-09-24T00:00:00",
          "2018-09-25T00:00:00",
          "2018-09-26T00:00:00",
          "2018-09-27T00:00:00",
          "2018-09-28T00:00:00",
          "2018-09-29T00:00:00",
          "2018-09-30T00:00:00",
          "2018-10-01T00:00:00",
          "2018-10-02T00:00:00",
          "2018-10-03T00:00:00",
          "2018-10-04T00:00:00",
          "2018-10-05T00:00:00",
          "2018-10-06T00:00:00",
          "2018-10-07T00:00:00",
          "2018-10-08T00:00:00",
          "2018-10-09T00:00:00",
          "2018-10-10T00:00:00",
          "2018-10-11T00:00:00",
          "2018-10-12T00:00:00",
          "2018-10-13T00:00:00",
          "2018-10-14T00:00:00",
          "2018-10-15T00:00:00",
          "2018-10-16T00:00:00",
          "2018-10-17T00:00:00",
          "2018-10-18T00:00:00",
          "2018-10-19T00:00:00",
          "2018-10-20T00:00:00",
          "2018-10-21T00:00:00",
          "2018-10-22T00:00:00",
          "2018-10-23T00:00:00",
          "2018-10-24T00:00:00",
          "2018-10-25T00:00:00",
          "2018-10-26T00:00:00",
          "2018-10-27T00:00:00",
          "2018-10-28T00:00:00",
          "2018-10-29T00:00:00",
          "2018-10-30T00:00:00",
          "2018-10-31T00:00:00",
          "2018-11-01T00:00:00",
          "2018-11-02T00:00:00",
          "2018-11-03T00:00:00",
          "2018-11-04T00:00:00",
          "2018-11-05T00:00:00",
          "2018-11-06T00:00:00",
          "2018-11-07T00:00:00",
          "2018-11-08T00:00:00",
          "2018-11-09T00:00:00",
          "2018-11-10T00:00:00",
          "2018-11-11T00:00:00",
          "2018-11-12T00:00:00",
          "2018-11-13T00:00:00",
          "2018-11-14T00:00:00",
          "2018-11-15T00:00:00",
          "2018-11-16T00:00:00",
          "2018-11-17T00:00:00",
          "2018-11-18T00:00:00",
          "2018-11-19T00:00:00",
          "2018-11-20T00:00:00",
          "2018-11-21T00:00:00",
          "2018-11-23T00:00:00",
          "2018-11-24T00:00:00",
          "2018-11-25T00:00:00",
          "2018-11-26T00:00:00",
          "2018-11-27T00:00:00",
          "2018-11-28T00:00:00",
          "2018-11-29T00:00:00",
          "2018-11-30T00:00:00",
          "2018-12-01T00:00:00",
          "2018-12-02T00:00:00",
          "2018-12-03T00:00:00",
          "2018-12-04T00:00:00",
          "2018-12-05T00:00:00",
          "2018-12-06T00:00:00",
          "2018-12-07T00:00:00",
          "2018-12-08T00:00:00",
          "2018-12-09T00:00:00",
          "2018-12-10T00:00:00",
          "2018-12-11T00:00:00",
          "2018-12-12T00:00:00",
          "2018-12-13T00:00:00",
          "2018-12-14T00:00:00",
          "2018-12-15T00:00:00",
          "2018-12-16T00:00:00",
          "2018-12-17T00:00:00",
          "2018-12-18T00:00:00",
          "2018-12-19T00:00:00",
          "2018-12-20T00:00:00",
          "2018-12-21T00:00:00",
          "2018-12-22T00:00:00",
          "2018-12-23T00:00:00",
          "2018-12-24T00:00:00",
          "2018-12-26T00:00:00",
          "2018-12-27T00:00:00",
          "2018-12-28T00:00:00",
          "2018-12-29T00:00:00",
          "2018-12-30T00:00:00",
          "2018-12-31T00:00:00",
          "2019-01-01T00:00:00",
          "2019-01-02T00:00:00",
          "2019-01-03T00:00:00",
          "2019-01-04T00:00:00",
          "2019-01-05T00:00:00",
          "2019-01-06T00:00:00",
          "2019-01-07T00:00:00",
          "2019-01-08T00:00:00",
          "2019-01-09T00:00:00",
          "2019-01-10T00:00:00",
          "2019-01-11T00:00:00",
          "2019-01-12T00:00:00",
          "2019-01-13T00:00:00",
          "2019-01-14T00:00:00",
          "2019-01-15T00:00:00",
          "2019-01-16T00:00:00",
          "2019-01-17T00:00:00",
          "2019-01-18T00:00:00",
          "2019-01-19T00:00:00",
          "2019-01-20T00:00:00",
          "2019-01-21T00:00:00",
          "2019-01-22T00:00:00",
          "2019-01-23T00:00:00",
          "2019-01-24T00:00:00",
          "2019-01-25T00:00:00",
          "2019-01-26T00:00:00",
          "2019-01-27T00:00:00",
          "2019-01-28T00:00:00",
          "2019-01-29T00:00:00",
          "2019-01-30T00:00:00",
          "2019-01-31T00:00:00",
          "2019-02-01T00:00:00",
          "2019-02-02T00:00:00",
          "2019-02-03T00:00:00",
          "2019-02-04T00:00:00",
          "2019-02-05T00:00:00",
          "2019-02-06T00:00:00",
          "2019-02-07T00:00:00",
          "2019-02-08T00:00:00",
          "2019-02-09T00:00:00",
          "2019-02-10T00:00:00",
          "2019-02-11T00:00:00",
          "2019-02-12T00:00:00",
          "2019-02-13T00:00:00",
          "2019-02-14T00:00:00",
          "2019-02-15T00:00:00",
          "2019-02-16T00:00:00",
          "2019-02-17T00:00:00",
          "2019-02-18T00:00:00",
          "2019-02-19T00:00:00",
          "2019-02-20T00:00:00",
          "2019-02-21T00:00:00",
          "2019-02-22T00:00:00",
          "2019-02-23T00:00:00",
          "2019-02-24T00:00:00",
          "2019-02-25T00:00:00",
          "2019-02-26T00:00:00",
          "2019-02-27T00:00:00",
          "2019-02-28T00:00:00",
          "2019-03-01T00:00:00",
          "2019-03-02T00:00:00",
          "2019-03-03T00:00:00",
          "2019-03-04T00:00:00",
          "2019-03-05T00:00:00",
          "2019-03-06T00:00:00",
          "2019-03-07T00:00:00",
          "2019-03-08T00:00:00",
          "2019-03-09T00:00:00",
          "2019-03-10T00:00:00",
          "2019-03-11T00:00:00",
          "2019-03-12T00:00:00",
          "2019-03-13T00:00:00",
          "2019-03-14T00:00:00",
          "2019-03-15T00:00:00",
          "2019-03-16T00:00:00",
          "2019-03-17T00:00:00",
          "2019-03-18T00:00:00",
          "2019-03-19T00:00:00",
          "2019-03-20T00:00:00",
          "2019-03-21T00:00:00",
          "2019-03-22T00:00:00",
          "2019-03-23T00:00:00",
          "2019-03-24T00:00:00",
          "2019-03-25T00:00:00",
          "2019-03-26T00:00:00",
          "2019-03-27T00:00:00",
          "2019-03-28T00:00:00",
          "2019-03-29T00:00:00",
          "2019-03-30T00:00:00",
          "2019-03-31T00:00:00",
          "2019-04-01T00:00:00",
          "2019-04-02T00:00:00",
          "2019-04-03T00:00:00",
          "2019-04-04T00:00:00",
          "2019-04-05T00:00:00",
          "2019-04-06T00:00:00",
          "2019-04-07T00:00:00",
          "2019-04-08T00:00:00",
          "2019-04-09T00:00:00",
          "2019-04-10T00:00:00",
          "2019-04-11T00:00:00",
          "2019-04-12T00:00:00",
          "2019-04-13T00:00:00",
          "2019-04-14T00:00:00",
          "2019-04-15T00:00:00",
          "2019-04-16T00:00:00",
          "2019-04-17T00:00:00",
          "2019-04-18T00:00:00",
          "2019-04-19T00:00:00",
          "2019-04-20T00:00:00",
          "2019-04-22T00:00:00",
          "2019-04-23T00:00:00",
          "2019-04-24T00:00:00",
          "2019-04-25T00:00:00",
          "2019-04-26T00:00:00",
          "2019-04-27T00:00:00",
          "2019-04-28T00:00:00",
          "2019-04-29T00:00:00",
          "2019-04-30T00:00:00",
          "2019-05-01T00:00:00",
          "2019-05-02T00:00:00",
          "2019-05-03T00:00:00",
          "2019-05-04T00:00:00",
          "2019-05-05T00:00:00",
          "2019-05-06T00:00:00",
          "2019-05-07T00:00:00",
          "2019-05-08T00:00:00",
          "2019-05-09T00:00:00",
          "2019-05-10T00:00:00",
          "2019-05-11T00:00:00",
          "2019-05-12T00:00:00",
          "2019-05-13T00:00:00",
          "2019-05-14T00:00:00",
          "2019-05-15T00:00:00",
          "2019-05-16T00:00:00",
          "2019-05-17T00:00:00",
          "2019-05-18T00:00:00",
          "2019-05-19T00:00:00",
          "2019-05-20T00:00:00",
          "2019-05-21T00:00:00",
          "2019-05-22T00:00:00",
          "2019-05-23T00:00:00",
          "2019-05-24T00:00:00",
          "2019-05-25T00:00:00",
          "2019-05-26T00:00:00"
         ],
         "y": [
          5552.019186155759,
          8299.941863103852,
          8556.730071981367,
          8595.100423106212,
          8198.941336671523,
          4603.797607265974,
          4540.583413039222,
          8291.576676829185,
          8629.401780805794,
          7217.360816327004,
          8404.744283552835,
          8450.852853256682,
          2755.2363975056096,
          4641.334530703648,
          6799.895740938131,
          8081.113811680767,
          8876.523852367045,
          8948.787720028535,
          9242.38688385874,
          4743.571007447164,
          5218.836514217169,
          7277.118345180379,
          8759.424753886076,
          8512.428488954758,
          9366.624211497612,
          9005.411597842969,
          5217.025687767233,
          5311.287379839701,
          9816.310748371856,
          9825.301502791175,
          9658.321707022084,
          9935.54727593228,
          9029.295381710055,
          5627.4023783761095,
          4812.203429385808,
          10043.810702577995,
          10880.279817255265,
          10241.129601740467,
          5614.312193602551,
          9298.412342971307,
          5791.169020361715,
          5604.2510693996455,
          9859.96585330546,
          9833.538786014824,
          10829.25103537761,
          9970.550782575365,
          10032.94860617334,
          5142.122086659882,
          5112.477221308114,
          7557.664000746703,
          10415.594353026356,
          10810.94968812232,
          10284.355329778742,
          9802.284604330176,
          6251.507121152994,
          5363.4077328118055,
          10224.541249296686,
          11454.476101705855,
          10527.83043154661,
          6427.530502458611,
          5487.835764407714,
          10865.240121171786,
          11232.00762540129,
          10893.249750125142,
          11109.550529361695,
          9654.881966563957,
          5920.772717151014,
          5667.293457938461,
          10706.328474407164,
          3470.0265933316846,
          10224.997214156878,
          10619.119854500908,
          10294.16821647567,
          6228.51151277621,
          6000.540285827029,
          11018.529896088015,
          10824.93205392103,
          10646.841965306205,
          11108.19137613852,
          10261.714100507068,
          6157.420625483714,
          5360.496464361628,
          9797.042164009805,
          10337.3994674324,
          10953.620204763833,
          10646.951534710786,
          9327.90808107924,
          6821.442787280788,
          5695.431002957269,
          10493.953200539509,
          10362.399225800214,
          10778.83277841541,
          10556.727197864946,
          10436.771935018684,
          5782.026232940645,
          5167.430094498424,
          9105.443237216858,
          9960.971968211505,
          9800.572416725572,
          10637.83500536834,
          9189.508392338912,
          5797.111725098052,
          11089.763522994424,
          11359.881310248573,
          11493.655363890624,
          11212.899837904872,
          10715.80859291366,
          6285.230975052292,
          6474.708604865109,
          10338.048120481875,
          11250.330706100174,
          11428.20011194819,
          11318.24689331576,
          10344.18316507604,
          6393.448567865085,
          5956.931778731075,
          10556.555598327986,
          11165.630880816929,
          12171.893660130068,
          11436.846062842971,
          10189.783063721448,
          6881.511578777092,
          5830.234426524371,
          11186.793384661223,
          11541.99916378277,
          12015.670278009511,
          11279.447091362124,
          10492.305741805563,
          5722.16379245755,
          5288.754893286506,
          10825.339666205631,
          11625.5038431357,
          11523.949011438614,
          10894.353934496348,
          10140.656455766208,
          5703.652624020269,
          5742.1275124529375,
          10328.275188624344,
          9999.64271497474,
          10012.75659178486,
          9622.653805411628,
          8361.482802067352,
          4619.855116878123,
          4351.865328212492,
          5367.873781943276,
          4353.401060817812,
          9999.662966837348,
          10953.95804491655,
          9325.72210888431,
          5189.910517424515,
          5805.489260930745,
          9544.587176320085,
          10141.792264906331,
          10343.16227918625,
          10414.496089463317,
          9394.091002200556,
          5361.080793230664,
          5327.890340478276,
          10333.53993307918,
          9578.508787166023,
          10538.16223046964,
          10457.711270280784,
          9776.547204924776,
          4566.667670263623,
          4552.314160972431,
          8617.118909387591,
          9800.708170038246,
          10063.788522716512,
          9556.542974339767,
          9409.038901698035,
          5667.2943644052,
          7270.960496816113,
          9813.78985887744,
          10283.487977547164,
          10362.423348332708,
          10043.961696491837,
          8951.501830388412,
          4821.912673114246,
          4646.7473812702965,
          6824.142295154639,
          2073.28368048216,
          11139.728340006051,
          10731.86494270741,
          10066.04819208638,
          4990.579965827587,
          5321.291562471356,
          10412.739483980107,
          10188.167679421556,
          10609.67025382394,
          9668.08845295854,
          9290.002856901154,
          5972.650337884731,
          5667.437308222337,
          10072.22435138502,
          9857.201350510417,
          3652.2481439543417,
          9086.786071947208,
          8407.312726108674,
          4524.3616298017605,
          4862.765224022657,
          9183.085701542012,
          10099.41666777225,
          3100.469684952929,
          9730.496947389089,
          8183.147935365531,
          5039.725651740747,
          4728.339712428205,
          9064.542675486951,
          9079.32002984568,
          8725.339958116432,
          8731.30735172598,
          7833.531164764956,
          4547.525437339388,
          4882.737485543533,
          8612.544027546899,
          8950.159584509005,
          8613.141354725054,
          8444.944168649574,
          7776.917129562575,
          4904.988309796791,
          4823.54119483005,
          8218.138888519088,
          8680.566169274918,
          8285.869177143286,
          8676.08048410379,
          8071.282548952077,
          5063.044356083568,
          6917.312827792062,
          8780.126719556989,
          9058.675587681744,
          8244.585053458335,
          8527.732974650284,
          8439.962471774055,
          4671.115900443403,
          5249.450123921549,
          9420.792030018782,
          8715.923947921274,
          9130.195620293116,
          9750.298068666254,
          8272.030218288448,
          5128.3366199540615,
          4293.24662755453,
          5352.341826112767,
          9512.530919886978,
          9454.934422988224,
          9690.905451901384,
          9440.888992040114,
          5812.205408741959,
          5001.797637721332,
          9338.443834609106,
          10372.469729781382,
          9828.981831092937,
          10117.801109002414,
          10100.98725511679,
          5888.997984280225,
          5788.370837361779,
          9919.741447578968,
          9497.44698911213,
          9498.308441242572,
          8555.726447913992,
          8805.964630665296,
          5524.926509033722,
          5409.329223761233,
          9848.044195673452,
          9433.806150310911,
          9986.040698797977,
          10201.920699779535,
          9146.792747027175,
          5185.0492218352565,
          4868.030239358318,
          9122.177481651572,
          9800.324704583312,
          9527.152142291892,
          9657.345523865088,
          9071.385922639429,
          5961.189422157058,
          5787.959155759232,
          8462.567946713369,
          9300.130232344463,
          9078.131331749177,
          9398.75705998272,
          9657.901013890523,
          6005.926755920238,
          5147.476218864746,
          9925.829041557428,
          9287.422254122292,
          9784.085336019052,
          8654.097293113004,
          9334.532723009965,
          5887.799206335792,
          5536.899808026664,
          4393.259324744648,
          9561.885430423616,
          9820.466295700293,
          9595.060932724107,
          9158.635671791604,
          5897.389697226834,
          4386.007578746886,
          9075.831531820286,
          9157.895012158657,
          9531.492868890216,
          9837.39392622082,
          9307.73392745732,
          5637.3872162944135,
          4817.474915401215,
          8928.101190908721,
          8339.168886493502,
          9527.74537143003,
          9396.07867039738,
          8216.920298500949,
          5449.722165298613,
          4769.739999154167,
          8431.721057182642,
          9007.758113192129,
          8991.031153071703,
          9770.961106015016,
          8226.762365453596,
          5154.909190503215,
          4890.1681501590765,
          8708.297631908017,
          9177.804802011611,
          6554.913397064765,
          3610.446833012988,
          4625.608401734544,
          4928.073057917357,
          9024.475909199646,
          8415.487249647143,
          9266.21742585511,
          8961.509872391043,
          8744.268728770076,
          5546.770222583871,
          5072.268340417025,
          9252.176640944732,
          9174.975323188668,
          9306.4766092805,
          9223.43847086763,
          8180.434505133458,
          6358.254294768249,
          4952.555864313222,
          9003.8608033188,
          8121.758857922475,
          8725.797236779852,
          7511.034668370093,
          8122.4622579047555,
          5029.02929040772,
          5165.324562602745,
          8362.379114494204,
          8684.317621737362,
          8506.02265921701,
          8589.44010397679,
          6110.573593677836,
          4291.515898128074,
          1714.8685513138423,
          4842.084638193335,
          6282.286549587809,
          5744.0252983860655,
          6137.42859179828,
          4845.068482815996,
          3816.2699570508,
          3463.603614539742,
          7711.680111637492,
          7582.161127934113,
          4982.612858470204,
          7368.188640937817,
          3793.754810895648,
          3958.175771931443,
          8461.571332851936,
          7623.627552376031,
          8126.750432101759,
          8411.790709262437,
          8668.480968376083,
          4824.606820165325,
          4045.623112673836,
          5875.898259589401,
          7778.788228161766,
          7744.579765292889,
          8110.655518066124,
          8620.10953376515,
          4678.333837551131,
          4192.163491576321,
          8303.264416456745,
          8234.094130722176,
          7669.760274083192,
          8571.121603121663,
          8688.355938452138,
          5247.070594621862,
          4739.422792650865,
          9552.86639947544,
          8597.595313127316,
          9593.549340394671,
          9760.342495237515,
          8570.804475032473,
          5175.199475886484,
          3887.086784879872,
          9400.480299986424,
          9245.843893438048,
          9136.847245413108,
          9841.912493620011,
          8713.757870681311,
          5568.407071873605,
          5044.2810388720845,
          9643.801484255282,
          9285.356872924072,
          9277.458351602589,
          10580.72417272336,
          9166.892472751775,
          5334.88802995385,
          4702.77569766272,
          6607.9441565205125,
          9536.807521139412,
          10057.700906924149,
          9607.052372049724,
          8734.272725832647,
          5887.064922068805,
          4899.887488942612,
          10030.11467443246,
          9182.665627183998,
          9121.123673928669,
          9816.961187959352,
          8072.938179012049,
          5475.099501388196,
          4953.088925397697,
          9770.5766008943,
          10279.516655105894,
          5999.363983492823,
          9392.672801726563,
          9525.313142716264,
          5446.645834315272,
          5261.711500282762,
          9346.141713323925,
          9125.970143651535,
          9734.450186409184,
          10487.917279053869,
          9377.51732542346,
          6291.410275772066,
          5143.239335045236,
          9797.402011357724,
          9898.391806837595,
          5393.4137124811405,
          10366.833132711998,
          9743.630038068472,
          6170.183154028099,
          5389.166324245538,
          8899.612913614916,
          7277.403990572016,
          9179.041508391643,
          10234.878404661711,
          8115.075826259659,
          5210.516720278642,
          9849.39956549746,
          9891.885038805543,
          10027.369054161576,
          10448.61068752186,
          10131.597611218358,
          6248.070484363959,
          5792.986489445671,
          9606.041846255335,
          9870.641614122547,
          10561.663755201413,
          10136.11322249961,
          10050.99423114048,
          6703.359928202242,
          5539.546516494096,
          9641.586387491789,
          9943.615663481676,
          10273.037466099771,
          10334.62316412818,
          9685.985095913731,
          6121.050581572215,
          5801.374379782968,
          3910.0134594619935,
          10328.351608846033,
          9961.105622873703,
          10788.925529073938,
          10265.394089733174,
          6267.751731329578,
          5550.171462149869,
          10400.461948577728,
          10622.363496239836,
          10637.992825663625,
          10862.78178350654,
          10080.964819730038,
          5831.174436520063,
          5453.725715607029,
          10781.304810312904,
          10988.872096914793,
          10311.12109696093,
          10109.474787725365,
          9794.56262594206,
          6215.263488951676,
          5198.1963542108,
          11252.728683496916,
          10691.153593567573,
          10969.54800737666,
          11165.067890352004,
          9643.819906843066,
          5452.173151185595,
          5705.580385431436,
          9788.920490963554,
          9562.254361679568,
          10144.047597537903,
          9428.454988928255,
          8061.897711424828,
          4498.441634468745,
          4162.573475818088,
          4935.160921725824,
          9080.68161472326,
          9044.693968887716,
          9564.665237083922,
          9225.832184917848,
          5765.704990797852,
          5819.700940212171,
          9290.722639596208,
          9390.850633677012,
          9571.74861980424,
          9243.647404091069,
          8652.918978788419,
          5986.029944056278,
          5035.8205098748185,
          9550.753282221429,
          9487.365226854035,
          10246.806813829946,
          9563.01793141316,
          9015.60621924486,
          5047.186470944554,
          4341.487188279422,
          9195.103735313667,
          9973.25790933188,
          9575.24939756367,
          9531.404301849963,
          8780.609500246248,
          5392.747549140982,
          7290.896306818455,
          9753.24224992911,
          8812.768362722782,
          9524.574990797188,
          9772.687469707964,
          9016.989590106805,
          5079.668457633202,
          5489.689882177281,
          9465.442461071558,
          9161.265160206203,
          2178.7156822907577,
          9674.495026324064,
          8596.500180333358,
          5333.555068959932,
          5188.608771960995,
          9727.484695124906,
          9840.264019566315,
          9437.131499011475,
          10556.703472296527,
          9659.403888595536,
          5555.841373950456,
          6036.565681018377,
          10016.71919016604,
          9392.52769877216,
          10812.500537570344,
          10279.270615631853,
          8750.541910040301,
          5780.522549362347,
          5666.358023060381,
          9799.579804974132,
          9972.930156066315,
          2860.4038565321102,
          10272.814348946771,
          9947.700274280924,
          5712.9811421942895,
          5786.537262327247,
          9368.807885241624,
          10508.893112375412,
          9505.830514939842,
          9410.131334155229,
          8657.507083045773,
          4978.258995406553,
          5144.891628751527,
          9293.12760116919,
          9357.032423487755,
          8986.037023149185,
          9051.400973045786,
          8535.771980874177,
          5291.464180913461,
          5247.234985260491,
          9531.369620255178,
          9158.794253826769,
          9558.81932819982,
          9225.803306447471,
          7986.804570385294,
          5750.589261832789,
          7215.760914113603,
          9269.473878872568,
          10003.9185743176,
          9579.744168042593,
          10232.30901030805,
          8630.995461270404,
          5984.5133479058095,
          5436.350681970504,
          5974.322783164457,
          10561.265114202775,
          10874.989744587376,
          10358.565359905882,
          8619.016825813855,
          5532.841794992203,
          5508.046958656841,
          5292.325857964286,
          10740.097088550268,
          11078.2925579645,
          10811.038107013295,
          10223.01129368273,
          6044.937126312224,
          5044.366621599974,
          8425.80429736226,
          9504.02013648713,
          11279.824245854748,
          11348.499548024456,
          10266.162195333953,
          6318.975637355591,
          5441.401389958022,
          10949.172690410283,
          9850.9790145681,
          8933.980026459107,
          11384.523246715582,
          10175.482966347952,
          6062.287707030696,
          5517.127886551395,
          9989.631657412076,
          10175.183064353574,
          10740.937820980376,
          10605.155853790802,
          10370.809239189854,
          6374.937629666895,
          5811.704537557691,
          10429.217735131824,
          10545.403023443716,
          9944.200576936972,
          11665.383067001754,
          10272.9822029837,
          6596.095822882737,
          6316.140153746799,
          9033.560986078948,
          10783.338256116916,
          11109.564486362033,
          10546.03019304558,
          10635.928568487388,
          6196.677872354874,
          5806.483453519774,
          10141.448353937358,
          6787.093609686923,
          10730.955400367347,
          10947.943953686769,
          11001.846228830962,
          6441.771273812347,
          5727.276297717571,
          10617.896350640893,
          11971.833694687037,
          11661.064544604556,
          11074.620437698792,
          10628.13472969558,
          5521.377204453437,
          5555.430851888687,
          10567.59828768409,
          10812.13576287594,
          11874.971218181598,
          11458.899294355826,
          10524.776685338633,
          6199.090884801743,
          5791.558312939596,
          10899.932714674816,
          10270.298506769605,
          11250.32063477144,
          11704.35436796222,
          10221.834264728916,
          6360.153152311119,
          6424.586954029775,
          9740.197499558511,
          10094.368764844014,
          11055.792820495291,
          10103.485413458531,
          10070.31037289012,
          6905.886135671929,
          5725.42019630836,
          11081.421783702785,
          10166.475111425245,
          7530.125514003485,
          4700.683235466751,
          4897.283916291943,
          5785.35010893042,
          10102.76793132423,
          10894.14279981855,
          11022.65442018565,
          10869.94808150392,
          10155.528011788616,
          5733.869143449186,
          4983.45303788403,
          11222.802564602029,
          10676.380565084077,
          10421.589239525532,
          11502.383056586645,
          11479.006792347564,
          7875.153423878004,
          5781.905850694114,
          11340.13529653264,
          11361.818715988677,
          11083.294721939705,
          11053.258089117233,
          10924.313619469316,
          6620.552143374356,
          5141.788341414409,
          10865.959941414916,
          9485.647436779383,
          9362.759823182658,
          9574.34661297328,
          8184.190890794684,
          5324.274008550471,
          5014.936840367816,
          2498.832510054684,
          6606.921035788295,
          7416.277402269903,
          7132.986606101334,
          6180.288387550521,
          5277.527935011099,
          5489.466100713541,
          4683.546393268714,
          9655.30473032947,
          9502.772683479185,
          10166.451276517108,
          5547.81908949594,
          4944.576147204001,
          9491.659026323494,
          9452.480055286098,
          9689.232541481782,
          9891.05629474542,
          9159.14461485449,
          5402.56017322132,
          4469.784476877977,
          9221.976067904956,
          9915.399317225372,
          9224.810695964376,
          10275.640908885918,
          9480.638038111832,
          4980.410565989067,
          4812.71990456639,
          5157.024726370475,
          9059.172310372478,
          10073.54618059315,
          9770.259104843091,
          9687.821625031294,
          6041.007167432766,
          5264.195827547813,
          10693.302185909532,
          10916.64944079924,
          10077.367781330586,
          10119.859130032037,
          10900.459751662274,
          5939.728405324464,
          4975.402886891134,
          11229.004219742454,
          11003.913176124068,
          11210.669678341255,
          11479.282386309167,
          11265.616162622877,
          5885.660356262961,
          5061.562532995732,
          10842.34563850119,
          9353.73914974262,
          11549.973056799809,
          10858.891051508066,
          10193.357631204406,
          5510.861383527516,
          4855.000075835786,
          8288.665265620844,
          11197.29721740032,
          9710.648396111366,
          11598.580817064872,
          10718.000819500328,
          6339.526385607178,
          5773.4559690891,
          10925.248750323512,
          11181.788331679734,
          11191.94181314216,
          11784.951127101069,
          10246.98920348586,
          6180.821232571868,
          5828.741332283018,
          8962.384254008777,
          12317.494905488367,
          11268.136630042558,
          11515.734628178032,
          10754.721842609606,
          7067.719904350718,
          6272.573195061166,
          12041.243667019373,
          11254.917626715664,
          11344.633195622748,
          12771.696244850977,
          10842.196822867822,
          7459.29411406848,
          6052.942253833545,
          11362.8407251556,
          11413.327087130294,
          11514.587393367572,
          11729.449494794082,
          10058.00090747911,
          6312.93503763055,
          5873.180296221955,
          11243.817140927404,
          11077.279143938002,
          11543.917061007409,
          11706.20299873783,
          10881.173905285495,
          7638.429284874132,
          5373.300004232928,
          11555.904370043978,
          12282.283410952568,
          11628.670235537204,
          13287.031580626724,
          10928.005156885523,
          7318.829872634027,
          6814.399880150326,
          11113.491792558216,
          10950.42566581499,
          12039.755233859638,
          10848.823661170116,
          10548.748393930502,
          6110.724544649105,
          5799.033272146244,
          6482.495260127021,
          11344.165546981538,
          10873.058807868978,
          11283.366763713142,
          8662.281693279761,
          5810.937659610457,
          12191.344453897918,
          12358.688146732527,
          12727.082780239478,
          11556.3210538786,
          10664.38082841429,
          7328.872493963847,
          6390.177991870692,
          11937.077246878667,
          11213.759836091313,
          10813.977721034204,
          11723.77340226945,
          11309.122794234256,
          6764.414981123845,
          6285.425879531883,
          11072.295645117469,
          11199.982119086912,
          12010.816922824371,
          11748.539495096304,
          9382.68555566375,
          6296.352046960975,
          5244.111969486919,
          11254.704918532992,
          11617.337290816302,
          11748.965038314413,
          12312.740315239404,
          10710.136019298589,
          7158.951985786495,
          6252.543389747359,
          11429.811756631503,
          10352.897958164758,
          10397.30906901548,
          10470.644989659577,
          8643.366539043687,
          5419.619834363347,
          4610.883409177807
         ]
        },
        {
         "line": {
          "color": "LightSkyBlue"
         },
         "mode": "lines+markers",
         "name": "Test Actual",
         "type": "scatter",
         "x": [
          "2019-05-27T00:00:00",
          "2019-05-28T00:00:00",
          "2019-05-29T00:00:00",
          "2019-05-30T00:00:00",
          "2019-05-31T00:00:00",
          "2019-06-01T00:00:00",
          "2019-06-02T00:00:00",
          "2019-06-03T00:00:00",
          "2019-06-04T00:00:00",
          "2019-06-05T00:00:00",
          "2019-06-06T00:00:00",
          "2019-06-07T00:00:00",
          "2019-06-08T00:00:00",
          "2019-06-09T00:00:00",
          "2019-06-10T00:00:00",
          "2019-06-11T00:00:00",
          "2019-06-12T00:00:00",
          "2019-06-13T00:00:00",
          "2019-06-14T00:00:00",
          "2019-06-15T00:00:00",
          "2019-06-16T00:00:00",
          "2019-06-17T00:00:00",
          "2019-06-18T00:00:00",
          "2019-06-19T00:00:00",
          "2019-06-20T00:00:00",
          "2019-06-21T00:00:00",
          "2019-06-22T00:00:00",
          "2019-06-23T00:00:00",
          "2019-06-24T00:00:00",
          "2019-06-25T00:00:00",
          "2019-06-26T00:00:00",
          "2019-06-27T00:00:00",
          "2019-06-28T00:00:00",
          "2019-06-29T00:00:00",
          "2019-06-30T00:00:00",
          "2019-07-01T00:00:00",
          "2019-07-02T00:00:00",
          "2019-07-03T00:00:00",
          "2019-07-04T00:00:00",
          "2019-07-05T00:00:00",
          "2019-07-06T00:00:00",
          "2019-07-07T00:00:00",
          "2019-07-08T00:00:00",
          "2019-07-09T00:00:00",
          "2019-07-10T00:00:00",
          "2019-07-11T00:00:00",
          "2019-07-12T00:00:00",
          "2019-07-13T00:00:00",
          "2019-07-14T00:00:00",
          "2019-07-15T00:00:00",
          "2019-07-16T00:00:00",
          "2019-07-17T00:00:00",
          "2019-07-18T00:00:00",
          "2019-07-19T00:00:00",
          "2019-07-20T00:00:00",
          "2019-07-21T00:00:00",
          "2019-07-22T00:00:00",
          "2019-07-23T00:00:00",
          "2019-07-24T00:00:00",
          "2019-07-25T00:00:00",
          "2019-07-26T00:00:00",
          "2019-07-27T00:00:00",
          "2019-07-28T00:00:00",
          "2019-07-29T00:00:00",
          "2019-07-30T00:00:00",
          "2019-07-31T00:00:00",
          "2019-08-01T00:00:00",
          "2019-08-02T00:00:00",
          "2019-08-03T00:00:00",
          "2019-08-04T00:00:00",
          "2019-08-05T00:00:00",
          "2019-08-06T00:00:00",
          "2019-08-07T00:00:00",
          "2019-08-08T00:00:00",
          "2019-08-09T00:00:00",
          "2019-08-10T00:00:00",
          "2019-08-11T00:00:00",
          "2019-08-12T00:00:00",
          "2019-08-13T00:00:00",
          "2019-08-14T00:00:00",
          "2019-08-15T00:00:00",
          "2019-08-16T00:00:00",
          "2019-08-17T00:00:00",
          "2019-08-18T00:00:00",
          "2019-08-19T00:00:00",
          "2019-08-20T00:00:00",
          "2019-08-21T00:00:00",
          "2019-08-22T00:00:00",
          "2019-08-23T00:00:00",
          "2019-08-24T00:00:00",
          "2019-08-25T00:00:00",
          "2019-08-26T00:00:00",
          "2019-08-27T00:00:00",
          "2019-08-28T00:00:00",
          "2019-08-29T00:00:00",
          "2019-08-30T00:00:00",
          "2019-08-31T00:00:00",
          "2019-09-01T00:00:00",
          "2019-09-02T00:00:00",
          "2019-09-03T00:00:00",
          "2019-09-04T00:00:00",
          "2019-09-05T00:00:00",
          "2019-09-06T00:00:00",
          "2019-09-07T00:00:00",
          "2019-09-08T00:00:00",
          "2019-09-09T00:00:00",
          "2019-09-10T00:00:00",
          "2019-09-11T00:00:00",
          "2019-09-12T00:00:00",
          "2019-09-13T00:00:00",
          "2019-09-14T00:00:00",
          "2019-09-15T00:00:00",
          "2019-09-16T00:00:00",
          "2019-09-17T00:00:00",
          "2019-09-18T00:00:00",
          "2019-09-19T00:00:00",
          "2019-09-20T00:00:00",
          "2019-09-21T00:00:00",
          "2019-09-22T00:00:00",
          "2019-09-23T00:00:00",
          "2019-09-24T00:00:00",
          "2019-09-25T00:00:00",
          "2019-09-26T00:00:00",
          "2019-09-27T00:00:00",
          "2019-09-28T00:00:00",
          "2019-09-29T00:00:00",
          "2019-09-30T00:00:00",
          "2019-10-01T00:00:00",
          "2019-10-02T00:00:00",
          "2019-10-03T00:00:00",
          "2019-10-04T00:00:00",
          "2019-10-05T00:00:00",
          "2019-10-06T00:00:00",
          "2019-10-07T00:00:00",
          "2019-10-08T00:00:00",
          "2019-10-09T00:00:00",
          "2019-10-10T00:00:00",
          "2019-10-11T00:00:00",
          "2019-10-12T00:00:00",
          "2019-10-13T00:00:00",
          "2019-10-14T00:00:00",
          "2019-10-15T00:00:00",
          "2019-10-16T00:00:00",
          "2019-10-17T00:00:00",
          "2019-10-18T00:00:00",
          "2019-10-19T00:00:00",
          "2019-10-20T00:00:00",
          "2019-10-21T00:00:00",
          "2019-10-22T00:00:00",
          "2019-10-23T00:00:00",
          "2019-10-24T00:00:00",
          "2019-10-25T00:00:00",
          "2019-10-26T00:00:00",
          "2019-10-27T00:00:00",
          "2019-10-28T00:00:00",
          "2019-10-29T00:00:00",
          "2019-10-30T00:00:00",
          "2019-10-31T00:00:00",
          "2019-11-01T00:00:00",
          "2019-11-02T00:00:00",
          "2019-11-03T00:00:00",
          "2019-11-04T00:00:00",
          "2019-11-05T00:00:00",
          "2019-11-06T00:00:00",
          "2019-11-07T00:00:00",
          "2019-11-08T00:00:00",
          "2019-11-09T00:00:00",
          "2019-11-10T00:00:00",
          "2019-11-11T00:00:00",
          "2019-11-12T00:00:00",
          "2019-11-13T00:00:00",
          "2019-11-14T00:00:00",
          "2019-11-15T00:00:00",
          "2019-11-16T00:00:00",
          "2019-11-17T00:00:00",
          "2019-11-18T00:00:00",
          "2019-11-19T00:00:00",
          "2019-11-20T00:00:00",
          "2019-11-21T00:00:00",
          "2019-11-22T00:00:00",
          "2019-11-23T00:00:00",
          "2019-11-24T00:00:00",
          "2019-11-25T00:00:00",
          "2019-11-26T00:00:00",
          "2019-11-27T00:00:00",
          "2019-11-29T00:00:00",
          "2019-11-30T00:00:00",
          "2019-12-01T00:00:00",
          "2019-12-02T00:00:00",
          "2019-12-03T00:00:00",
          "2019-12-04T00:00:00",
          "2019-12-05T00:00:00",
          "2019-12-06T00:00:00",
          "2019-12-07T00:00:00",
          "2019-12-08T00:00:00",
          "2019-12-09T00:00:00",
          "2019-12-10T00:00:00",
          "2019-12-11T00:00:00",
          "2019-12-12T00:00:00",
          "2019-12-13T00:00:00",
          "2019-12-14T00:00:00",
          "2019-12-15T00:00:00",
          "2019-12-16T00:00:00",
          "2019-12-17T00:00:00",
          "2019-12-18T00:00:00",
          "2019-12-19T00:00:00",
          "2019-12-20T00:00:00",
          "2019-12-21T00:00:00",
          "2019-12-22T00:00:00",
          "2019-12-23T00:00:00",
          "2019-12-24T00:00:00",
          "2019-12-26T00:00:00",
          "2019-12-27T00:00:00",
          "2019-12-28T00:00:00",
          "2019-12-29T00:00:00",
          "2019-12-30T00:00:00",
          "2019-12-31T00:00:00"
         ],
         "y": [
          5031.435581288539,
          9771.550987003107,
          9803.325497981574,
          10078.06312018516,
          9467.500377226204,
          6190.701280358914,
          5252.272175061775,
          10335.766973026051,
          10484.63179172308,
          11049.344221730888,
          10150.031054674648,
          9425.448629569104,
          5589.046167785696,
          6108.088361850108,
          9937.656219097093,
          10699.658695885748,
          10234.857037273792,
          10427.272619988302,
          10210.698343590931,
          5617.470514346309,
          4939.926582124369,
          10404.267881157228,
          9484.814476962896,
          10251.957120487112,
          11298.878864675911,
          9193.321466380832,
          5956.79520112564,
          5855.223643697882,
          10883.465308830637,
          10664.638643716218,
          10468.035519890022,
          10913.622475141796,
          9679.000595144127,
          6234.974839761364,
          9160.166009444796,
          10718.464158504936,
          11179.51433290182,
          9769.654237376522,
          2064.0681636168124,
          6673.7066914611,
          4509.745742300732,
          6076.016632692014,
          10509.831656077244,
          10189.895048643108,
          10495.785914506114,
          10971.033154862598,
          9917.5420001265,
          5856.839983616012,
          5634.782146512343,
          10295.88460189634,
          10786.501142584808,
          10214.45751054698,
          10852.627027615925,
          10071.673138130687,
          5070.997282012873,
          5418.101106019287,
          10424.768449111074,
          10549.114203252126,
          11002.743376566024,
          9896.67645254846,
          10319.80490823069,
          5544.813190640553,
          5559.376794168179,
          10334.512435876784,
          10173.820958611555,
          11377.078387484162,
          10735.235923323444,
          9433.102053537476,
          5620.043441540482,
          6421.113380223638,
          10055.699488466176,
          10133.32407475006,
          10282.49379092198,
          10658.09735156765,
          9057.0461158426,
          5542.608099731562,
          5769.426365519735,
          10246.597873599563,
          9851.172796377476,
          10588.83328951555,
          10748.18295320011,
          8669.997016965055,
          4985.296504517764,
          7718.362443689605,
          10511.732521771066,
          11139.957482148153,
          9977.8257331318,
          10839.98445113784,
          9917.777155023015,
          5769.250737413033,
          6347.856043234365,
          11144.051623589394,
          10929.972618041464,
          11138.976995691335,
          10657.566426981108,
          8648.101012886837,
          5747.6348396787525,
          5301.0691085927065,
          6206.669651943131,
          10922.568362694828,
          10739.775032295904,
          11341.575407129558,
          11234.006109718855,
          6271.398593146963,
          5700.571383713701,
          11704.68516078569,
          11507.842330729898,
          11852.203573753404,
          10951.582198305903,
          10679.99340658376,
          6124.347652351984,
          6017.055569775109,
          11739.790564621377,
          11611.16725752555,
          11306.493994088209,
          11304.29070931909,
          10531.80910376013,
          6551.280441497505,
          6536.327484684563,
          11489.18775361874,
          12429.97331321756,
          11948.579559141775,
          12037.30382525243,
          10309.603536882492,
          5999.068475846344,
          6015.534903902047,
          6176.817936168202,
          10861.260400692434,
          11770.030101173104,
          11270.081142195406,
          10166.133731778677,
          6306.280356006975,
          6387.424200090046,
          10855.184949018763,
          10674.208187263364,
          10867.071276852985,
          11245.866480794715,
          10348.900184697284,
          6998.464660337967,
          7393.8608212738045,
          10410.845509276038,
          11131.574258649396,
          11223.747404748734,
          11772.199275992283,
          10712.746885157414,
          6631.491474270874,
          5774.584357710262,
          10362.92325325758,
          11109.512549042338,
          11291.317122120696,
          10735.722811870331,
          10568.985655158049,
          4928.099548982537,
          6588.879174311895,
          11608.89383741301,
          10428.949204733306,
          11238.866001567394,
          11707.077257634091,
          10759.833398354349,
          6493.125939737201,
          6473.052673245964,
          11744.276959710416,
          10927.854951567782,
          11055.587646735608,
          11346.207223040956,
          10229.266237157615,
          6261.224256702381,
          6842.671224776022,
          11122.09749403175,
          10521.692142103158,
          10834.488650088297,
          11805.109603844858,
          10157.414748186844,
          6529.915818713178,
          5731.863522068652,
          11508.600092639716,
          10541.636929684431,
          11483.586119868436,
          11390.47728446335,
          10810.085106458082,
          6406.61025731396,
          6001.236293154807,
          11425.951369684282,
          10406.985744019968,
          8234.004081946481,
          4531.719810993337,
          5047.972726824399,
          5862.843746369221,
          10985.555268897742,
          11133.177490662509,
          11279.851870672055,
          11782.132345667364,
          10736.476120296164,
          7256.032069134247,
          6517.552424748717,
          11377.396011135232,
          11266.50437876203,
          10862.03825453712,
          11997.645582189049,
          10203.07717209969,
          7373.988198206215,
          6226.608724287978,
          10620.20881657768,
          9913.069161555406,
          9050.115620711156,
          9727.696363962265,
          8750.257221356045,
          4896.756996801107,
          4479.998725726494,
          7646.751890672655,
          2399.3850006707107,
          6364.038691077064,
          7174.367930169257,
          5088.195493655002,
          4914.770873112439,
          7809.836801118632,
          5784.629532361035
         ]
        },
        {
         "line": {
          "color": "lightcoral"
         },
         "mode": "lines+markers",
         "name": "Test Predicted",
         "type": "scatter",
         "x": [
          "2019-05-27T00:00:00",
          "2019-05-28T00:00:00",
          "2019-05-29T00:00:00",
          "2019-05-30T00:00:00",
          "2019-05-31T00:00:00",
          "2019-06-01T00:00:00",
          "2019-06-02T00:00:00",
          "2019-06-03T00:00:00",
          "2019-06-04T00:00:00",
          "2019-06-05T00:00:00",
          "2019-06-06T00:00:00",
          "2019-06-07T00:00:00",
          "2019-06-08T00:00:00",
          "2019-06-09T00:00:00",
          "2019-06-10T00:00:00",
          "2019-06-11T00:00:00",
          "2019-06-12T00:00:00",
          "2019-06-13T00:00:00",
          "2019-06-14T00:00:00",
          "2019-06-15T00:00:00",
          "2019-06-16T00:00:00",
          "2019-06-17T00:00:00",
          "2019-06-18T00:00:00",
          "2019-06-19T00:00:00",
          "2019-06-20T00:00:00",
          "2019-06-21T00:00:00",
          "2019-06-22T00:00:00",
          "2019-06-23T00:00:00",
          "2019-06-24T00:00:00",
          "2019-06-25T00:00:00",
          "2019-06-26T00:00:00",
          "2019-06-27T00:00:00",
          "2019-06-28T00:00:00",
          "2019-06-29T00:00:00",
          "2019-06-30T00:00:00",
          "2019-07-01T00:00:00",
          "2019-07-02T00:00:00",
          "2019-07-03T00:00:00",
          "2019-07-04T00:00:00",
          "2019-07-05T00:00:00",
          "2019-07-06T00:00:00",
          "2019-07-07T00:00:00",
          "2019-07-08T00:00:00",
          "2019-07-09T00:00:00",
          "2019-07-10T00:00:00",
          "2019-07-11T00:00:00",
          "2019-07-12T00:00:00",
          "2019-07-13T00:00:00",
          "2019-07-14T00:00:00",
          "2019-07-15T00:00:00",
          "2019-07-16T00:00:00",
          "2019-07-17T00:00:00",
          "2019-07-18T00:00:00",
          "2019-07-19T00:00:00",
          "2019-07-20T00:00:00",
          "2019-07-21T00:00:00",
          "2019-07-22T00:00:00",
          "2019-07-23T00:00:00",
          "2019-07-24T00:00:00",
          "2019-07-25T00:00:00",
          "2019-07-26T00:00:00",
          "2019-07-27T00:00:00",
          "2019-07-28T00:00:00",
          "2019-07-29T00:00:00",
          "2019-07-30T00:00:00",
          "2019-07-31T00:00:00",
          "2019-08-01T00:00:00",
          "2019-08-02T00:00:00",
          "2019-08-03T00:00:00",
          "2019-08-04T00:00:00",
          "2019-08-05T00:00:00",
          "2019-08-06T00:00:00",
          "2019-08-07T00:00:00",
          "2019-08-08T00:00:00",
          "2019-08-09T00:00:00",
          "2019-08-10T00:00:00",
          "2019-08-11T00:00:00",
          "2019-08-12T00:00:00",
          "2019-08-13T00:00:00",
          "2019-08-14T00:00:00",
          "2019-08-15T00:00:00",
          "2019-08-16T00:00:00",
          "2019-08-17T00:00:00",
          "2019-08-18T00:00:00",
          "2019-08-19T00:00:00",
          "2019-08-20T00:00:00",
          "2019-08-21T00:00:00",
          "2019-08-22T00:00:00",
          "2019-08-23T00:00:00",
          "2019-08-24T00:00:00",
          "2019-08-25T00:00:00",
          "2019-08-26T00:00:00",
          "2019-08-27T00:00:00",
          "2019-08-28T00:00:00",
          "2019-08-29T00:00:00",
          "2019-08-30T00:00:00",
          "2019-08-31T00:00:00",
          "2019-09-01T00:00:00",
          "2019-09-02T00:00:00",
          "2019-09-03T00:00:00",
          "2019-09-04T00:00:00",
          "2019-09-05T00:00:00",
          "2019-09-06T00:00:00",
          "2019-09-07T00:00:00",
          "2019-09-08T00:00:00",
          "2019-09-09T00:00:00",
          "2019-09-10T00:00:00",
          "2019-09-11T00:00:00",
          "2019-09-12T00:00:00",
          "2019-09-13T00:00:00",
          "2019-09-14T00:00:00",
          "2019-09-15T00:00:00",
          "2019-09-16T00:00:00",
          "2019-09-17T00:00:00",
          "2019-09-18T00:00:00",
          "2019-09-19T00:00:00",
          "2019-09-20T00:00:00",
          "2019-09-21T00:00:00",
          "2019-09-22T00:00:00",
          "2019-09-23T00:00:00",
          "2019-09-24T00:00:00",
          "2019-09-25T00:00:00",
          "2019-09-26T00:00:00",
          "2019-09-27T00:00:00",
          "2019-09-28T00:00:00",
          "2019-09-29T00:00:00",
          "2019-09-30T00:00:00",
          "2019-10-01T00:00:00",
          "2019-10-02T00:00:00",
          "2019-10-03T00:00:00",
          "2019-10-04T00:00:00",
          "2019-10-05T00:00:00",
          "2019-10-06T00:00:00",
          "2019-10-07T00:00:00",
          "2019-10-08T00:00:00",
          "2019-10-09T00:00:00",
          "2019-10-10T00:00:00",
          "2019-10-11T00:00:00",
          "2019-10-12T00:00:00",
          "2019-10-13T00:00:00",
          "2019-10-14T00:00:00",
          "2019-10-15T00:00:00",
          "2019-10-16T00:00:00",
          "2019-10-17T00:00:00",
          "2019-10-18T00:00:00",
          "2019-10-19T00:00:00",
          "2019-10-20T00:00:00",
          "2019-10-21T00:00:00",
          "2019-10-22T00:00:00",
          "2019-10-23T00:00:00",
          "2019-10-24T00:00:00",
          "2019-10-25T00:00:00",
          "2019-10-26T00:00:00",
          "2019-10-27T00:00:00",
          "2019-10-28T00:00:00",
          "2019-10-29T00:00:00",
          "2019-10-30T00:00:00",
          "2019-10-31T00:00:00",
          "2019-11-01T00:00:00",
          "2019-11-02T00:00:00",
          "2019-11-03T00:00:00",
          "2019-11-04T00:00:00",
          "2019-11-05T00:00:00",
          "2019-11-06T00:00:00",
          "2019-11-07T00:00:00",
          "2019-11-08T00:00:00",
          "2019-11-09T00:00:00",
          "2019-11-10T00:00:00",
          "2019-11-11T00:00:00",
          "2019-11-12T00:00:00",
          "2019-11-13T00:00:00",
          "2019-11-14T00:00:00",
          "2019-11-15T00:00:00",
          "2019-11-16T00:00:00",
          "2019-11-17T00:00:00",
          "2019-11-18T00:00:00",
          "2019-11-19T00:00:00",
          "2019-11-20T00:00:00",
          "2019-11-21T00:00:00",
          "2019-11-22T00:00:00",
          "2019-11-23T00:00:00",
          "2019-11-24T00:00:00",
          "2019-11-25T00:00:00",
          "2019-11-26T00:00:00",
          "2019-11-27T00:00:00",
          "2019-11-29T00:00:00",
          "2019-11-30T00:00:00",
          "2019-12-01T00:00:00",
          "2019-12-02T00:00:00",
          "2019-12-03T00:00:00",
          "2019-12-04T00:00:00",
          "2019-12-05T00:00:00",
          "2019-12-06T00:00:00",
          "2019-12-07T00:00:00",
          "2019-12-08T00:00:00",
          "2019-12-09T00:00:00",
          "2019-12-10T00:00:00",
          "2019-12-11T00:00:00",
          "2019-12-12T00:00:00",
          "2019-12-13T00:00:00",
          "2019-12-14T00:00:00",
          "2019-12-15T00:00:00",
          "2019-12-16T00:00:00",
          "2019-12-17T00:00:00",
          "2019-12-18T00:00:00",
          "2019-12-19T00:00:00",
          "2019-12-20T00:00:00",
          "2019-12-21T00:00:00",
          "2019-12-22T00:00:00",
          "2019-12-23T00:00:00",
          "2019-12-24T00:00:00",
          "2019-12-26T00:00:00",
          "2019-12-27T00:00:00",
          "2019-12-28T00:00:00",
          "2019-12-29T00:00:00",
          "2019-12-30T00:00:00",
          "2019-12-31T00:00:00"
         ],
         "y": [
          5231.2978515625,
          6715.1171875,
          9441.24609375,
          9637.6591796875,
          8771.044921875,
          5544.97119140625,
          5746.85888671875,
          9424.3095703125,
          9721.8125,
          9988.900390625,
          9858.974609375,
          9071.9482421875,
          5580.830078125,
          5205.146484375,
          9880.8173828125,
          9614.224609375,
          10318.732421875,
          10059.0068359375,
          9299.751953125,
          4840.10986328125,
          4487.2626953125,
          8975.6416015625,
          9836.6748046875,
          9819.96484375,
          9622.1591796875,
          9063.4619140625,
          5558.806640625,
          7205.548828125,
          9712.6298828125,
          9582.994140625,
          9922.845703125,
          9939.1181640625,
          8989.44140625,
          5075.50244140625,
          5312.15771484375,
          8123.8212890625,
          5712.080078125,
          6680.65283203125,
          10055.908203125,
          9331.4697265625,
          5206.64892578125,
          5280.71240234375,
          10083.4052734375,
          10002.7724609375,
          9952.92578125,
          10213.7724609375,
          9477.404296875,
          5716.61376953125,
          5862.22998046875,
          10022.462890625,
          9633.2548828125,
          7250.1083984375,
          9648.7763671875,
          8630.2001953125,
          5153.57470703125,
          5244.0263671875,
          9499.525390625,
          10007.4658203125,
          3088.48876953125,
          9954.1513671875,
          9029.06640625,
          5369.861328125,
          5271.09228515625,
          9238.255859375,
          10409.9912109375,
          9584.9326171875,
          9059.837890625,
          8222.275390625,
          4848.490234375,
          4997.67236328125,
          8997.7939453125,
          9098.8271484375,
          8817.9462890625,
          8818.6943359375,
          8125.9150390625,
          5030.93359375,
          5067.9521484375,
          8859.8740234375,
          8991.5244140625,
          8844.4375,
          8925.0869140625,
          8104.96826171875,
          5413.1171875,
          7018.1630859375,
          8984.751953125,
          9490.78125,
          8987.4443359375,
          9423.5927734375,
          8493.0107421875,
          5327.9306640625,
          5353.36376953125,
          7693.6591796875,
          9656.62890625,
          9981.73828125,
          10025.8427734375,
          8658.1328125,
          5160.2587890625,
          4908.65478515625,
          5421.654296875,
          10026.3310546875,
          10229.1103515625,
          10280.4326171875,
          9772.3505859375,
          5948.18994140625,
          5059.33984375,
          8871.064453125,
          10011.416015625,
          10496.9951171875,
          10731.4365234375,
          10167.24609375,
          6127.08056640625,
          5614.61669921875,
          10350.5517578125,
          9676.458984375,
          9322.876953125,
          9982.2578125,
          9499.591796875,
          5758.52685546875,
          5458.7431640625,
          9917.1611328125,
          9829.94140625,
          10318.8974609375,
          10411.4794921875,
          9736.49609375,
          5794.572265625,
          5763.53125,
          9816.330078125,
          10153.4384765625,
          9815.505859375,
          10518.013671875,
          9863.748046875,
          6221.94384765625,
          6007.1142578125,
          8784.216796875,
          9975.4892578125,
          10091.123046875,
          10072.470703125,
          10017.3203125,
          6128.779296875,
          5517.81640625,
          10014.7685546875,
          8139.10693359375,
          10148.0986328125,
          9831.57421875,
          10140.234375,
          6192.99169921875,
          5657.56201171875,
          7545.70654296875,
          10670.052734375,
          10746.7783203125,
          10409.142578125,
          9859.0380859375,
          5723.560546875,
          4949.9814453125,
          9819.34375,
          10006.271484375,
          11812.6796875,
          11942.7119140625,
          9904.560546875,
          5917.76708984375,
          5321.46630859375,
          9884.0927734375,
          9350.85546875,
          10350.48046875,
          10519.55078125,
          9290.6142578125,
          5914.728515625,
          5571.8515625,
          9104.828125,
          9528.26953125,
          10009.986328125,
          9967.513671875,
          9107.0029296875,
          6026.70361328125,
          5324.94921875,
          9893.7998046875,
          9657.6318359375,
          7087.21044921875,
          7746.27734375,
          4168.837890625,
          4763.7685546875,
          5330.70458984375,
          9569.875,
          9662.048828125,
          10124.6162109375,
          10082.8857421875,
          6562.2841796875,
          5033.1611328125,
          10234.9423828125,
          9932.0283203125,
          9910.7607421875,
          10294.306640625,
          9856.455078125,
          7097.26513671875,
          5376.4306640625,
          10163.2275390625,
          9745.7392578125,
          9849.47265625,
          9382.474609375,
          9466.4892578125,
          5832.74755859375,
          5154.11767578125,
          9616.765625,
          9069.0703125,
          8960.625,
          9022.6787109375,
          7214.60302734375,
          4796.14404296875,
          3367.80859375,
          2493.95654296875,
          4892.50927734375,
          6582.39111328125,
          6610.88818359375,
          5510.6669921875,
          4547.2431640625,
          5490.92431640625,
          7023.51611328125
         ]
        }
       ],
       "layout": {
        "legend": {
         "title": {
          "text": "Type"
         }
        },
        "shapes": [
         {
          "line": {
           "color": "lightgray",
           "dash": "dot",
           "width": 2
          },
          "type": "line",
          "x0": "2019-05-27T00:00:00",
          "x1": "2019-05-27T00:00:00",
          "xref": "x",
          "y0": 0,
          "y1": 1,
          "yref": "y domain"
         }
        ],
        "template": {
         "data": {
          "bar": [
           {
            "error_x": {
             "color": "#2a3f5f"
            },
            "error_y": {
             "color": "#2a3f5f"
            },
            "marker": {
             "line": {
              "color": "#E5ECF6",
              "width": 0.5
             },
             "pattern": {
              "fillmode": "overlay",
              "size": 10,
              "solidity": 0.2
             }
            },
            "type": "bar"
           }
          ],
          "barpolar": [
           {
            "marker": {
             "line": {
              "color": "#E5ECF6",
              "width": 0.5
             },
             "pattern": {
              "fillmode": "overlay",
              "size": 10,
              "solidity": 0.2
             }
            },
            "type": "barpolar"
           }
          ],
          "carpet": [
           {
            "aaxis": {
             "endlinecolor": "#2a3f5f",
             "gridcolor": "white",
             "linecolor": "white",
             "minorgridcolor": "white",
             "startlinecolor": "#2a3f5f"
            },
            "baxis": {
             "endlinecolor": "#2a3f5f",
             "gridcolor": "white",
             "linecolor": "white",
             "minorgridcolor": "white",
             "startlinecolor": "#2a3f5f"
            },
            "type": "carpet"
           }
          ],
          "choropleth": [
           {
            "colorbar": {
             "outlinewidth": 0,
             "ticks": ""
            },
            "type": "choropleth"
           }
          ],
          "contour": [
           {
            "colorbar": {
             "outlinewidth": 0,
             "ticks": ""
            },
            "colorscale": [
             [
              0,
              "#0d0887"
             ],
             [
              0.1111111111111111,
              "#46039f"
             ],
             [
              0.2222222222222222,
              "#7201a8"
             ],
             [
              0.3333333333333333,
              "#9c179e"
             ],
             [
              0.4444444444444444,
              "#bd3786"
             ],
             [
              0.5555555555555556,
              "#d8576b"
             ],
             [
              0.6666666666666666,
              "#ed7953"
             ],
             [
              0.7777777777777778,
              "#fb9f3a"
             ],
             [
              0.8888888888888888,
              "#fdca26"
             ],
             [
              1,
              "#f0f921"
             ]
            ],
            "type": "contour"
           }
          ],
          "contourcarpet": [
           {
            "colorbar": {
             "outlinewidth": 0,
             "ticks": ""
            },
            "type": "contourcarpet"
           }
          ],
          "heatmap": [
           {
            "colorbar": {
             "outlinewidth": 0,
             "ticks": ""
            },
            "colorscale": [
             [
              0,
              "#0d0887"
             ],
             [
              0.1111111111111111,
              "#46039f"
             ],
             [
              0.2222222222222222,
              "#7201a8"
             ],
             [
              0.3333333333333333,
              "#9c179e"
             ],
             [
              0.4444444444444444,
              "#bd3786"
             ],
             [
              0.5555555555555556,
              "#d8576b"
             ],
             [
              0.6666666666666666,
              "#ed7953"
             ],
             [
              0.7777777777777778,
              "#fb9f3a"
             ],
             [
              0.8888888888888888,
              "#fdca26"
             ],
             [
              1,
              "#f0f921"
             ]
            ],
            "type": "heatmap"
           }
          ],
          "heatmapgl": [
           {
            "colorbar": {
             "outlinewidth": 0,
             "ticks": ""
            },
            "colorscale": [
             [
              0,
              "#0d0887"
             ],
             [
              0.1111111111111111,
              "#46039f"
             ],
             [
              0.2222222222222222,
              "#7201a8"
             ],
             [
              0.3333333333333333,
              "#9c179e"
             ],
             [
              0.4444444444444444,
              "#bd3786"
             ],
             [
              0.5555555555555556,
              "#d8576b"
             ],
             [
              0.6666666666666666,
              "#ed7953"
             ],
             [
              0.7777777777777778,
              "#fb9f3a"
             ],
             [
              0.8888888888888888,
              "#fdca26"
             ],
             [
              1,
              "#f0f921"
             ]
            ],
            "type": "heatmapgl"
           }
          ],
          "histogram": [
           {
            "marker": {
             "pattern": {
              "fillmode": "overlay",
              "size": 10,
              "solidity": 0.2
             }
            },
            "type": "histogram"
           }
          ],
          "histogram2d": [
           {
            "colorbar": {
             "outlinewidth": 0,
             "ticks": ""
            },
            "colorscale": [
             [
              0,
              "#0d0887"
             ],
             [
              0.1111111111111111,
              "#46039f"
             ],
             [
              0.2222222222222222,
              "#7201a8"
             ],
             [
              0.3333333333333333,
              "#9c179e"
             ],
             [
              0.4444444444444444,
              "#bd3786"
             ],
             [
              0.5555555555555556,
              "#d8576b"
             ],
             [
              0.6666666666666666,
              "#ed7953"
             ],
             [
              0.7777777777777778,
              "#fb9f3a"
             ],
             [
              0.8888888888888888,
              "#fdca26"
             ],
             [
              1,
              "#f0f921"
             ]
            ],
            "type": "histogram2d"
           }
          ],
          "histogram2dcontour": [
           {
            "colorbar": {
             "outlinewidth": 0,
             "ticks": ""
            },
            "colorscale": [
             [
              0,
              "#0d0887"
             ],
             [
              0.1111111111111111,
              "#46039f"
             ],
             [
              0.2222222222222222,
              "#7201a8"
             ],
             [
              0.3333333333333333,
              "#9c179e"
             ],
             [
              0.4444444444444444,
              "#bd3786"
             ],
             [
              0.5555555555555556,
              "#d8576b"
             ],
             [
              0.6666666666666666,
              "#ed7953"
             ],
             [
              0.7777777777777778,
              "#fb9f3a"
             ],
             [
              0.8888888888888888,
              "#fdca26"
             ],
             [
              1,
              "#f0f921"
             ]
            ],
            "type": "histogram2dcontour"
           }
          ],
          "mesh3d": [
           {
            "colorbar": {
             "outlinewidth": 0,
             "ticks": ""
            },
            "type": "mesh3d"
           }
          ],
          "parcoords": [
           {
            "line": {
             "colorbar": {
              "outlinewidth": 0,
              "ticks": ""
             }
            },
            "type": "parcoords"
           }
          ],
          "pie": [
           {
            "automargin": true,
            "type": "pie"
           }
          ],
          "scatter": [
           {
            "fillpattern": {
             "fillmode": "overlay",
             "size": 10,
             "solidity": 0.2
            },
            "type": "scatter"
           }
          ],
          "scatter3d": [
           {
            "line": {
             "colorbar": {
              "outlinewidth": 0,
              "ticks": ""
             }
            },
            "marker": {
             "colorbar": {
              "outlinewidth": 0,
              "ticks": ""
             }
            },
            "type": "scatter3d"
           }
          ],
          "scattercarpet": [
           {
            "marker": {
             "colorbar": {
              "outlinewidth": 0,
              "ticks": ""
             }
            },
            "type": "scattercarpet"
           }
          ],
          "scattergeo": [
           {
            "marker": {
             "colorbar": {
              "outlinewidth": 0,
              "ticks": ""
             }
            },
            "type": "scattergeo"
           }
          ],
          "scattergl": [
           {
            "marker": {
             "colorbar": {
              "outlinewidth": 0,
              "ticks": ""
             }
            },
            "type": "scattergl"
           }
          ],
          "scattermapbox": [
           {
            "marker": {
             "colorbar": {
              "outlinewidth": 0,
              "ticks": ""
             }
            },
            "type": "scattermapbox"
           }
          ],
          "scatterpolar": [
           {
            "marker": {
             "colorbar": {
              "outlinewidth": 0,
              "ticks": ""
             }
            },
            "type": "scatterpolar"
           }
          ],
          "scatterpolargl": [
           {
            "marker": {
             "colorbar": {
              "outlinewidth": 0,
              "ticks": ""
             }
            },
            "type": "scatterpolargl"
           }
          ],
          "scatterternary": [
           {
            "marker": {
             "colorbar": {
              "outlinewidth": 0,
              "ticks": ""
             }
            },
            "type": "scatterternary"
           }
          ],
          "surface": [
           {
            "colorbar": {
             "outlinewidth": 0,
             "ticks": ""
            },
            "colorscale": [
             [
              0,
              "#0d0887"
             ],
             [
              0.1111111111111111,
              "#46039f"
             ],
             [
              0.2222222222222222,
              "#7201a8"
             ],
             [
              0.3333333333333333,
              "#9c179e"
             ],
             [
              0.4444444444444444,
              "#bd3786"
             ],
             [
              0.5555555555555556,
              "#d8576b"
             ],
             [
              0.6666666666666666,
              "#ed7953"
             ],
             [
              0.7777777777777778,
              "#fb9f3a"
             ],
             [
              0.8888888888888888,
              "#fdca26"
             ],
             [
              1,
              "#f0f921"
             ]
            ],
            "type": "surface"
           }
          ],
          "table": [
           {
            "cells": {
             "fill": {
              "color": "#EBF0F8"
             },
             "line": {
              "color": "white"
             }
            },
            "header": {
             "fill": {
              "color": "#C8D4E3"
             },
             "line": {
              "color": "white"
             }
            },
            "type": "table"
           }
          ]
         },
         "layout": {
          "annotationdefaults": {
           "arrowcolor": "#2a3f5f",
           "arrowhead": 0,
           "arrowwidth": 1
          },
          "autotypenumbers": "strict",
          "coloraxis": {
           "colorbar": {
            "outlinewidth": 0,
            "ticks": ""
           }
          },
          "colorscale": {
           "diverging": [
            [
             0,
             "#8e0152"
            ],
            [
             0.1,
             "#c51b7d"
            ],
            [
             0.2,
             "#de77ae"
            ],
            [
             0.3,
             "#f1b6da"
            ],
            [
             0.4,
             "#fde0ef"
            ],
            [
             0.5,
             "#f7f7f7"
            ],
            [
             0.6,
             "#e6f5d0"
            ],
            [
             0.7,
             "#b8e186"
            ],
            [
             0.8,
             "#7fbc41"
            ],
            [
             0.9,
             "#4d9221"
            ],
            [
             1,
             "#276419"
            ]
           ],
           "sequential": [
            [
             0,
             "#0d0887"
            ],
            [
             0.1111111111111111,
             "#46039f"
            ],
            [
             0.2222222222222222,
             "#7201a8"
            ],
            [
             0.3333333333333333,
             "#9c179e"
            ],
            [
             0.4444444444444444,
             "#bd3786"
            ],
            [
             0.5555555555555556,
             "#d8576b"
            ],
            [
             0.6666666666666666,
             "#ed7953"
            ],
            [
             0.7777777777777778,
             "#fb9f3a"
            ],
            [
             0.8888888888888888,
             "#fdca26"
            ],
            [
             1,
             "#f0f921"
            ]
           ],
           "sequentialminus": [
            [
             0,
             "#0d0887"
            ],
            [
             0.1111111111111111,
             "#46039f"
            ],
            [
             0.2222222222222222,
             "#7201a8"
            ],
            [
             0.3333333333333333,
             "#9c179e"
            ],
            [
             0.4444444444444444,
             "#bd3786"
            ],
            [
             0.5555555555555556,
             "#d8576b"
            ],
            [
             0.6666666666666666,
             "#ed7953"
            ],
            [
             0.7777777777777778,
             "#fb9f3a"
            ],
            [
             0.8888888888888888,
             "#fdca26"
            ],
            [
             1,
             "#f0f921"
            ]
           ]
          },
          "colorway": [
           "#636efa",
           "#EF553B",
           "#00cc96",
           "#ab63fa",
           "#FFA15A",
           "#19d3f3",
           "#FF6692",
           "#B6E880",
           "#FF97FF",
           "#FECB52"
          ],
          "font": {
           "color": "#2a3f5f"
          },
          "geo": {
           "bgcolor": "white",
           "lakecolor": "white",
           "landcolor": "#E5ECF6",
           "showlakes": true,
           "showland": true,
           "subunitcolor": "white"
          },
          "hoverlabel": {
           "align": "left"
          },
          "hovermode": "closest",
          "mapbox": {
           "style": "light"
          },
          "paper_bgcolor": "white",
          "plot_bgcolor": "#E5ECF6",
          "polar": {
           "angularaxis": {
            "gridcolor": "white",
            "linecolor": "white",
            "ticks": ""
           },
           "bgcolor": "#E5ECF6",
           "radialaxis": {
            "gridcolor": "white",
            "linecolor": "white",
            "ticks": ""
           }
          },
          "scene": {
           "xaxis": {
            "backgroundcolor": "#E5ECF6",
            "gridcolor": "white",
            "gridwidth": 2,
            "linecolor": "white",
            "showbackground": true,
            "ticks": "",
            "zerolinecolor": "white"
           },
           "yaxis": {
            "backgroundcolor": "#E5ECF6",
            "gridcolor": "white",
            "gridwidth": 2,
            "linecolor": "white",
            "showbackground": true,
            "ticks": "",
            "zerolinecolor": "white"
           },
           "zaxis": {
            "backgroundcolor": "#E5ECF6",
            "gridcolor": "white",
            "gridwidth": 2,
            "linecolor": "white",
            "showbackground": true,
            "ticks": "",
            "zerolinecolor": "white"
           }
          },
          "shapedefaults": {
           "line": {
            "color": "#2a3f5f"
           }
          },
          "ternary": {
           "aaxis": {
            "gridcolor": "white",
            "linecolor": "white",
            "ticks": ""
           },
           "baxis": {
            "gridcolor": "white",
            "linecolor": "white",
            "ticks": ""
           },
           "bgcolor": "#E5ECF6",
           "caxis": {
            "gridcolor": "white",
            "linecolor": "white",
            "ticks": ""
           }
          },
          "title": {
           "x": 0.05
          },
          "xaxis": {
           "automargin": true,
           "gridcolor": "white",
           "linecolor": "white",
           "ticks": "",
           "title": {
            "standoff": 15
           },
           "zerolinecolor": "white",
           "zerolinewidth": 2
          },
          "yaxis": {
           "automargin": true,
           "gridcolor": "white",
           "linecolor": "white",
           "ticks": "",
           "title": {
            "standoff": 15
           },
           "zerolinecolor": "white",
           "zerolinewidth": 2
          }
         }
        },
        "title": {
         "text": "<b>Actual vs. Predicted Demand</b><br><sub>For store_0, feature set: existing only</sub>"
        },
        "xaxis": {
         "title": {
          "text": "Date"
         }
        },
        "yaxis": {
         "title": {
          "text": "Demand"
         }
        }
       }
      }
     },
     "metadata": {},
     "output_type": "display_data"
    },
    {
     "name": "stdout",
     "output_type": "stream",
     "text": [
      "Location: store_0\n",
      "--- Feature set: all, MAE: 869.67, RMSE: 1143.78\n",
      "--- Feature set: existing only, MAE: 1204.06, RMSE: 1699.15\n",
      "--- Percentage change: MAE change: -27.77%, RMSE change: -32.69%\n",
      "\n"
     ]
    },
    {
     "data": {
      "application/vnd.plotly.v1+json": {
       "config": {
        "plotlyServerURL": "https://plot.ly"
       },
       "data": [
        {
         "line": {
          "color": "lightseagreen"
         },
         "mode": "lines+markers",
         "name": "Train Actual",
         "type": "scatter",
         "x": [
          "2017-01-02T00:00:00",
          "2017-01-03T00:00:00",
          "2017-01-04T00:00:00",
          "2017-01-05T00:00:00",
          "2017-01-06T00:00:00",
          "2017-01-07T00:00:00",
          "2017-01-08T00:00:00",
          "2017-01-09T00:00:00",
          "2017-01-10T00:00:00",
          "2017-01-11T00:00:00",
          "2017-01-12T00:00:00",
          "2017-01-13T00:00:00",
          "2017-01-14T00:00:00",
          "2017-01-15T00:00:00",
          "2017-01-16T00:00:00",
          "2017-01-17T00:00:00",
          "2017-01-18T00:00:00",
          "2017-01-19T00:00:00",
          "2017-01-20T00:00:00",
          "2017-01-21T00:00:00",
          "2017-01-22T00:00:00",
          "2017-01-23T00:00:00",
          "2017-01-24T00:00:00",
          "2017-01-25T00:00:00",
          "2017-01-26T00:00:00",
          "2017-01-27T00:00:00",
          "2017-01-28T00:00:00",
          "2017-01-29T00:00:00",
          "2017-01-30T00:00:00",
          "2017-01-31T00:00:00",
          "2017-02-01T00:00:00",
          "2017-02-02T00:00:00",
          "2017-02-03T00:00:00",
          "2017-02-04T00:00:00",
          "2017-02-05T00:00:00",
          "2017-02-06T00:00:00",
          "2017-02-07T00:00:00",
          "2017-02-08T00:00:00",
          "2017-02-09T00:00:00",
          "2017-02-10T00:00:00",
          "2017-02-11T00:00:00",
          "2017-02-12T00:00:00",
          "2017-02-13T00:00:00",
          "2017-02-14T00:00:00",
          "2017-02-15T00:00:00",
          "2017-02-16T00:00:00",
          "2017-02-17T00:00:00",
          "2017-02-18T00:00:00",
          "2017-02-19T00:00:00",
          "2017-02-20T00:00:00",
          "2017-02-21T00:00:00",
          "2017-02-22T00:00:00",
          "2017-02-23T00:00:00",
          "2017-02-24T00:00:00",
          "2017-02-25T00:00:00",
          "2017-02-26T00:00:00",
          "2017-02-27T00:00:00",
          "2017-02-28T00:00:00",
          "2017-03-01T00:00:00",
          "2017-03-02T00:00:00",
          "2017-03-03T00:00:00",
          "2017-03-04T00:00:00",
          "2017-03-05T00:00:00",
          "2017-03-06T00:00:00",
          "2017-03-07T00:00:00",
          "2017-03-08T00:00:00",
          "2017-03-09T00:00:00",
          "2017-03-10T00:00:00",
          "2017-03-11T00:00:00",
          "2017-03-12T00:00:00",
          "2017-03-13T00:00:00",
          "2017-03-14T00:00:00",
          "2017-03-15T00:00:00",
          "2017-03-16T00:00:00",
          "2017-03-17T00:00:00",
          "2017-03-18T00:00:00",
          "2017-03-19T00:00:00",
          "2017-03-20T00:00:00",
          "2017-03-21T00:00:00",
          "2017-03-22T00:00:00",
          "2017-03-23T00:00:00",
          "2017-03-24T00:00:00",
          "2017-03-25T00:00:00",
          "2017-03-26T00:00:00",
          "2017-03-27T00:00:00",
          "2017-03-28T00:00:00",
          "2017-03-29T00:00:00",
          "2017-03-30T00:00:00",
          "2017-03-31T00:00:00",
          "2017-04-01T00:00:00",
          "2017-04-02T00:00:00",
          "2017-04-03T00:00:00",
          "2017-04-04T00:00:00",
          "2017-04-05T00:00:00",
          "2017-04-06T00:00:00",
          "2017-04-07T00:00:00",
          "2017-04-08T00:00:00",
          "2017-04-09T00:00:00",
          "2017-04-10T00:00:00",
          "2017-04-11T00:00:00",
          "2017-04-12T00:00:00",
          "2017-04-13T00:00:00",
          "2017-04-14T00:00:00",
          "2017-04-15T00:00:00",
          "2017-04-17T00:00:00",
          "2017-04-18T00:00:00",
          "2017-04-19T00:00:00",
          "2017-04-20T00:00:00",
          "2017-04-21T00:00:00",
          "2017-04-22T00:00:00",
          "2017-04-23T00:00:00",
          "2017-04-24T00:00:00",
          "2017-04-25T00:00:00",
          "2017-04-26T00:00:00",
          "2017-04-27T00:00:00",
          "2017-04-28T00:00:00",
          "2017-04-29T00:00:00",
          "2017-04-30T00:00:00",
          "2017-05-01T00:00:00",
          "2017-05-02T00:00:00",
          "2017-05-03T00:00:00",
          "2017-05-04T00:00:00",
          "2017-05-05T00:00:00",
          "2017-05-06T00:00:00",
          "2017-05-07T00:00:00",
          "2017-05-08T00:00:00",
          "2017-05-09T00:00:00",
          "2017-05-10T00:00:00",
          "2017-05-11T00:00:00",
          "2017-05-12T00:00:00",
          "2017-05-13T00:00:00",
          "2017-05-14T00:00:00",
          "2017-05-15T00:00:00",
          "2017-05-16T00:00:00",
          "2017-05-17T00:00:00",
          "2017-05-18T00:00:00",
          "2017-05-19T00:00:00",
          "2017-05-20T00:00:00",
          "2017-05-21T00:00:00",
          "2017-05-22T00:00:00",
          "2017-05-23T00:00:00",
          "2017-05-24T00:00:00",
          "2017-05-25T00:00:00",
          "2017-05-26T00:00:00",
          "2017-05-27T00:00:00",
          "2017-05-28T00:00:00",
          "2017-05-29T00:00:00",
          "2017-05-30T00:00:00",
          "2017-05-31T00:00:00",
          "2017-06-01T00:00:00",
          "2017-06-02T00:00:00",
          "2017-06-03T00:00:00",
          "2017-06-04T00:00:00",
          "2017-06-05T00:00:00",
          "2017-06-06T00:00:00",
          "2017-06-07T00:00:00",
          "2017-06-08T00:00:00",
          "2017-06-09T00:00:00",
          "2017-06-10T00:00:00",
          "2017-06-11T00:00:00",
          "2017-06-12T00:00:00",
          "2017-06-13T00:00:00",
          "2017-06-14T00:00:00",
          "2017-06-15T00:00:00",
          "2017-06-16T00:00:00",
          "2017-06-17T00:00:00",
          "2017-06-18T00:00:00",
          "2017-06-19T00:00:00",
          "2017-06-20T00:00:00",
          "2017-06-21T00:00:00",
          "2017-06-22T00:00:00",
          "2017-06-23T00:00:00",
          "2017-06-24T00:00:00",
          "2017-06-25T00:00:00",
          "2017-06-26T00:00:00",
          "2017-06-27T00:00:00",
          "2017-06-28T00:00:00",
          "2017-06-29T00:00:00",
          "2017-06-30T00:00:00",
          "2017-07-01T00:00:00",
          "2017-07-02T00:00:00",
          "2017-07-03T00:00:00",
          "2017-07-04T00:00:00",
          "2017-07-05T00:00:00",
          "2017-07-06T00:00:00",
          "2017-07-07T00:00:00",
          "2017-07-08T00:00:00",
          "2017-07-09T00:00:00",
          "2017-07-10T00:00:00",
          "2017-07-11T00:00:00",
          "2017-07-12T00:00:00",
          "2017-07-13T00:00:00",
          "2017-07-14T00:00:00",
          "2017-07-15T00:00:00",
          "2017-07-16T00:00:00",
          "2017-07-17T00:00:00",
          "2017-07-18T00:00:00",
          "2017-07-19T00:00:00",
          "2017-07-20T00:00:00",
          "2017-07-21T00:00:00",
          "2017-07-22T00:00:00",
          "2017-07-23T00:00:00",
          "2017-07-24T00:00:00",
          "2017-07-25T00:00:00",
          "2017-07-26T00:00:00",
          "2017-07-27T00:00:00",
          "2017-07-28T00:00:00",
          "2017-07-29T00:00:00",
          "2017-07-30T00:00:00",
          "2017-07-31T00:00:00",
          "2017-08-01T00:00:00",
          "2017-08-02T00:00:00",
          "2017-08-03T00:00:00",
          "2017-08-04T00:00:00",
          "2017-08-05T00:00:00",
          "2017-08-06T00:00:00",
          "2017-08-07T00:00:00",
          "2017-08-08T00:00:00",
          "2017-08-09T00:00:00",
          "2017-08-10T00:00:00",
          "2017-08-11T00:00:00",
          "2017-08-12T00:00:00",
          "2017-08-13T00:00:00",
          "2017-08-14T00:00:00",
          "2017-08-15T00:00:00",
          "2017-08-16T00:00:00",
          "2017-08-17T00:00:00",
          "2017-08-18T00:00:00",
          "2017-08-19T00:00:00",
          "2017-08-20T00:00:00",
          "2017-08-21T00:00:00",
          "2017-08-22T00:00:00",
          "2017-08-23T00:00:00",
          "2017-08-24T00:00:00",
          "2017-08-25T00:00:00",
          "2017-08-26T00:00:00",
          "2017-08-27T00:00:00",
          "2017-08-28T00:00:00",
          "2017-08-29T00:00:00",
          "2017-08-30T00:00:00",
          "2017-08-31T00:00:00",
          "2017-09-01T00:00:00",
          "2017-09-02T00:00:00",
          "2017-09-03T00:00:00",
          "2017-09-04T00:00:00",
          "2017-09-05T00:00:00",
          "2017-09-06T00:00:00",
          "2017-09-07T00:00:00",
          "2017-09-08T00:00:00",
          "2017-09-09T00:00:00",
          "2017-09-10T00:00:00",
          "2017-09-11T00:00:00",
          "2017-09-12T00:00:00",
          "2017-09-13T00:00:00",
          "2017-09-14T00:00:00",
          "2017-09-15T00:00:00",
          "2017-09-16T00:00:00",
          "2017-09-17T00:00:00",
          "2017-09-18T00:00:00",
          "2017-09-19T00:00:00",
          "2017-09-20T00:00:00",
          "2017-09-21T00:00:00",
          "2017-09-22T00:00:00",
          "2017-09-23T00:00:00",
          "2017-09-24T00:00:00",
          "2017-09-25T00:00:00",
          "2017-09-26T00:00:00",
          "2017-09-27T00:00:00",
          "2017-09-28T00:00:00",
          "2017-09-29T00:00:00",
          "2017-09-30T00:00:00",
          "2017-10-01T00:00:00",
          "2017-10-02T00:00:00",
          "2017-10-03T00:00:00",
          "2017-10-04T00:00:00",
          "2017-10-05T00:00:00",
          "2017-10-06T00:00:00",
          "2017-10-07T00:00:00",
          "2017-10-08T00:00:00",
          "2017-10-09T00:00:00",
          "2017-10-10T00:00:00",
          "2017-10-11T00:00:00",
          "2017-10-12T00:00:00",
          "2017-10-13T00:00:00",
          "2017-10-14T00:00:00",
          "2017-10-15T00:00:00",
          "2017-10-16T00:00:00",
          "2017-10-17T00:00:00",
          "2017-10-18T00:00:00",
          "2017-10-19T00:00:00",
          "2017-10-20T00:00:00",
          "2017-10-21T00:00:00",
          "2017-10-22T00:00:00",
          "2017-10-23T00:00:00",
          "2017-10-24T00:00:00",
          "2017-10-25T00:00:00",
          "2017-10-26T00:00:00",
          "2017-10-27T00:00:00",
          "2017-10-28T00:00:00",
          "2017-10-29T00:00:00",
          "2017-10-30T00:00:00",
          "2017-10-31T00:00:00",
          "2017-11-01T00:00:00",
          "2017-11-02T00:00:00",
          "2017-11-03T00:00:00",
          "2017-11-04T00:00:00",
          "2017-11-05T00:00:00",
          "2017-11-06T00:00:00",
          "2017-11-07T00:00:00",
          "2017-11-08T00:00:00",
          "2017-11-09T00:00:00",
          "2017-11-10T00:00:00",
          "2017-11-11T00:00:00",
          "2017-11-12T00:00:00",
          "2017-11-13T00:00:00",
          "2017-11-14T00:00:00",
          "2017-11-15T00:00:00",
          "2017-11-16T00:00:00",
          "2017-11-17T00:00:00",
          "2017-11-18T00:00:00",
          "2017-11-19T00:00:00",
          "2017-11-20T00:00:00",
          "2017-11-21T00:00:00",
          "2017-11-22T00:00:00",
          "2017-11-24T00:00:00",
          "2017-11-25T00:00:00",
          "2017-11-26T00:00:00",
          "2017-11-27T00:00:00",
          "2017-11-28T00:00:00",
          "2017-11-29T00:00:00",
          "2017-11-30T00:00:00",
          "2017-12-01T00:00:00",
          "2017-12-02T00:00:00",
          "2017-12-03T00:00:00",
          "2017-12-04T00:00:00",
          "2017-12-05T00:00:00",
          "2017-12-06T00:00:00",
          "2017-12-07T00:00:00",
          "2017-12-08T00:00:00",
          "2017-12-09T00:00:00",
          "2017-12-10T00:00:00",
          "2017-12-11T00:00:00",
          "2017-12-12T00:00:00",
          "2017-12-13T00:00:00",
          "2017-12-14T00:00:00",
          "2017-12-15T00:00:00",
          "2017-12-16T00:00:00",
          "2017-12-17T00:00:00",
          "2017-12-18T00:00:00",
          "2017-12-19T00:00:00",
          "2017-12-20T00:00:00",
          "2017-12-21T00:00:00",
          "2017-12-22T00:00:00",
          "2017-12-23T00:00:00",
          "2017-12-24T00:00:00",
          "2017-12-26T00:00:00",
          "2017-12-27T00:00:00",
          "2017-12-28T00:00:00",
          "2017-12-29T00:00:00",
          "2017-12-30T00:00:00",
          "2017-12-31T00:00:00",
          "2018-01-01T00:00:00",
          "2018-01-02T00:00:00",
          "2018-01-03T00:00:00",
          "2018-01-04T00:00:00",
          "2018-01-05T00:00:00",
          "2018-01-06T00:00:00",
          "2018-01-07T00:00:00",
          "2018-01-08T00:00:00",
          "2018-01-09T00:00:00",
          "2018-01-10T00:00:00",
          "2018-01-11T00:00:00",
          "2018-01-12T00:00:00",
          "2018-01-13T00:00:00",
          "2018-01-14T00:00:00",
          "2018-01-15T00:00:00",
          "2018-01-16T00:00:00",
          "2018-01-17T00:00:00",
          "2018-01-18T00:00:00",
          "2018-01-19T00:00:00",
          "2018-01-20T00:00:00",
          "2018-01-21T00:00:00",
          "2018-01-22T00:00:00",
          "2018-01-23T00:00:00",
          "2018-01-24T00:00:00",
          "2018-01-25T00:00:00",
          "2018-01-26T00:00:00",
          "2018-01-27T00:00:00",
          "2018-01-28T00:00:00",
          "2018-01-29T00:00:00",
          "2018-01-30T00:00:00",
          "2018-01-31T00:00:00",
          "2018-02-01T00:00:00",
          "2018-02-02T00:00:00",
          "2018-02-03T00:00:00",
          "2018-02-04T00:00:00",
          "2018-02-05T00:00:00",
          "2018-02-06T00:00:00",
          "2018-02-07T00:00:00",
          "2018-02-08T00:00:00",
          "2018-02-09T00:00:00",
          "2018-02-10T00:00:00",
          "2018-02-11T00:00:00",
          "2018-02-12T00:00:00",
          "2018-02-13T00:00:00",
          "2018-02-14T00:00:00",
          "2018-02-15T00:00:00",
          "2018-02-16T00:00:00",
          "2018-02-17T00:00:00",
          "2018-02-18T00:00:00",
          "2018-02-19T00:00:00",
          "2018-02-20T00:00:00",
          "2018-02-21T00:00:00",
          "2018-02-22T00:00:00",
          "2018-02-23T00:00:00",
          "2018-02-24T00:00:00",
          "2018-02-25T00:00:00",
          "2018-02-26T00:00:00",
          "2018-02-27T00:00:00",
          "2018-02-28T00:00:00",
          "2018-03-01T00:00:00",
          "2018-03-02T00:00:00",
          "2018-03-03T00:00:00",
          "2018-03-04T00:00:00",
          "2018-03-05T00:00:00",
          "2018-03-06T00:00:00",
          "2018-03-07T00:00:00",
          "2018-03-08T00:00:00",
          "2018-03-09T00:00:00",
          "2018-03-10T00:00:00",
          "2018-03-11T00:00:00",
          "2018-03-12T00:00:00",
          "2018-03-13T00:00:00",
          "2018-03-14T00:00:00",
          "2018-03-15T00:00:00",
          "2018-03-16T00:00:00",
          "2018-03-17T00:00:00",
          "2018-03-18T00:00:00",
          "2018-03-19T00:00:00",
          "2018-03-20T00:00:00",
          "2018-03-21T00:00:00",
          "2018-03-22T00:00:00",
          "2018-03-23T00:00:00",
          "2018-03-24T00:00:00",
          "2018-03-25T00:00:00",
          "2018-03-26T00:00:00",
          "2018-03-27T00:00:00",
          "2018-03-28T00:00:00",
          "2018-03-29T00:00:00",
          "2018-03-30T00:00:00",
          "2018-03-31T00:00:00",
          "2018-04-02T00:00:00",
          "2018-04-03T00:00:00",
          "2018-04-04T00:00:00",
          "2018-04-05T00:00:00",
          "2018-04-06T00:00:00",
          "2018-04-07T00:00:00",
          "2018-04-08T00:00:00",
          "2018-04-09T00:00:00",
          "2018-04-10T00:00:00",
          "2018-04-11T00:00:00",
          "2018-04-12T00:00:00",
          "2018-04-13T00:00:00",
          "2018-04-14T00:00:00",
          "2018-04-15T00:00:00",
          "2018-04-16T00:00:00",
          "2018-04-17T00:00:00",
          "2018-04-18T00:00:00",
          "2018-04-19T00:00:00",
          "2018-04-20T00:00:00",
          "2018-04-21T00:00:00",
          "2018-04-22T00:00:00",
          "2018-04-23T00:00:00",
          "2018-04-24T00:00:00",
          "2018-04-25T00:00:00",
          "2018-04-26T00:00:00",
          "2018-04-27T00:00:00",
          "2018-04-28T00:00:00",
          "2018-04-29T00:00:00",
          "2018-04-30T00:00:00",
          "2018-05-01T00:00:00",
          "2018-05-02T00:00:00",
          "2018-05-03T00:00:00",
          "2018-05-04T00:00:00",
          "2018-05-05T00:00:00",
          "2018-05-06T00:00:00",
          "2018-05-07T00:00:00",
          "2018-05-08T00:00:00",
          "2018-05-09T00:00:00",
          "2018-05-10T00:00:00",
          "2018-05-11T00:00:00",
          "2018-05-12T00:00:00",
          "2018-05-13T00:00:00",
          "2018-05-14T00:00:00",
          "2018-05-15T00:00:00",
          "2018-05-16T00:00:00",
          "2018-05-17T00:00:00",
          "2018-05-18T00:00:00",
          "2018-05-19T00:00:00",
          "2018-05-20T00:00:00",
          "2018-05-21T00:00:00",
          "2018-05-22T00:00:00",
          "2018-05-23T00:00:00",
          "2018-05-24T00:00:00",
          "2018-05-25T00:00:00",
          "2018-05-26T00:00:00",
          "2018-05-27T00:00:00",
          "2018-05-28T00:00:00",
          "2018-05-29T00:00:00",
          "2018-05-30T00:00:00",
          "2018-05-31T00:00:00",
          "2018-06-01T00:00:00",
          "2018-06-02T00:00:00",
          "2018-06-03T00:00:00",
          "2018-06-04T00:00:00",
          "2018-06-05T00:00:00",
          "2018-06-06T00:00:00",
          "2018-06-07T00:00:00",
          "2018-06-08T00:00:00",
          "2018-06-09T00:00:00",
          "2018-06-10T00:00:00",
          "2018-06-11T00:00:00",
          "2018-06-12T00:00:00",
          "2018-06-13T00:00:00",
          "2018-06-14T00:00:00",
          "2018-06-15T00:00:00",
          "2018-06-16T00:00:00",
          "2018-06-17T00:00:00",
          "2018-06-18T00:00:00",
          "2018-06-19T00:00:00",
          "2018-06-20T00:00:00",
          "2018-06-21T00:00:00",
          "2018-06-22T00:00:00",
          "2018-06-23T00:00:00",
          "2018-06-24T00:00:00",
          "2018-06-25T00:00:00",
          "2018-06-26T00:00:00",
          "2018-06-27T00:00:00",
          "2018-06-28T00:00:00",
          "2018-06-29T00:00:00",
          "2018-06-30T00:00:00",
          "2018-07-01T00:00:00",
          "2018-07-02T00:00:00",
          "2018-07-03T00:00:00",
          "2018-07-04T00:00:00",
          "2018-07-05T00:00:00",
          "2018-07-06T00:00:00",
          "2018-07-07T00:00:00",
          "2018-07-08T00:00:00",
          "2018-07-09T00:00:00",
          "2018-07-10T00:00:00",
          "2018-07-11T00:00:00",
          "2018-07-12T00:00:00",
          "2018-07-13T00:00:00"
         ],
         "y": [
          2170.55548763656,
          2523.109326080002,
          2734.014582909602,
          2699.068338530288,
          3320.058445761136,
          2964.9436918426927,
          2694.772807229499,
          2960.672919175248,
          3070.331009844686,
          2949.3981299867646,
          2674.662784158675,
          3300.00102612763,
          2116.5612762966844,
          2313.3075373021065,
          2864.294649542003,
          3191.0275202515923,
          2595.4626206862004,
          2828.05069135284,
          2877.4024172324257,
          2965.0554946081675,
          1774.3725817740158,
          2709.8238573304257,
          2489.5382994211845,
          2708.848898782197,
          2947.444090605484,
          3578.317630521909,
          2615.9244183045435,
          2255.874435492369,
          3154.0155766912176,
          2663.136463635756,
          2946.7038039321105,
          2776.1225439976465,
          3310.5632231016484,
          2452.4416167290888,
          1854.9836959060617,
          2507.965268628303,
          2283.4303884481706,
          2862.1022105078937,
          2932.49996137024,
          3744.4840028397,
          2537.9901516497216,
          2674.209194160236,
          2892.712917452286,
          2668.3304857389776,
          3055.6024264220323,
          3185.975452981611,
          2884.881389832065,
          2737.285085460196,
          2579.8610573156584,
          2477.4801827493343,
          2652.285059812995,
          3039.38753631228,
          3208.0322405731795,
          3202.574836976975,
          2832.054973274336,
          2333.1621157261047,
          2885.9851290320307,
          3067.189512033535,
          3286.197513421947,
          3213.5373083119784,
          3484.872213345004,
          2803.88511548874,
          2650.6862448390066,
          2883.2041586006367,
          3134.179495307379,
          3018.836680048132,
          3435.95975102608,
          3527.655793180531,
          2563.481323647421,
          2366.6954251809902,
          2889.5640185743405,
          3252.940703509789,
          3344.616276797811,
          3115.257147280215,
          3584.76039464941,
          2708.629463341254,
          3331.3785718965933,
          3138.678382801987,
          2808.766141606639,
          3009.1937747325387,
          3756.139623941643,
          3667.56181908673,
          2340.9510997963725,
          2590.104191994925,
          2917.1238338119583,
          3168.1131318827347,
          3039.4053584491685,
          3852.923825039181,
          3382.3857009863013,
          2799.26353690039,
          2655.167847197004,
          3029.991524907673,
          3480.220909301398,
          3152.749670150428,
          3149.186746539253,
          3782.810202600639,
          2601.0701812477573,
          2443.134699109573,
          3273.01674904501,
          3164.934087494132,
          2884.213122350244,
          2840.0213690085766,
          3343.5626499518025,
          2694.004446894685,
          3039.772886142203,
          3167.3598541110846,
          3110.485991615215,
          3134.4276219295057,
          3749.554888609106,
          2945.853104403303,
          3123.3089007991475,
          2953.314893877077,
          2676.2122620575715,
          3009.040750052024,
          3021.0713689474555,
          4245.229594258175,
          2709.793295405128,
          2674.772427410217,
          3507.532411179593,
          3699.1231120031134,
          3238.781855244144,
          3304.39324101533,
          3019.656662459932,
          2693.4083395216685,
          2126.322307899124,
          2986.042643820278,
          3215.2323161587387,
          2699.212580998368,
          3274.566572753936,
          3938.268909704429,
          2861.633985282709,
          1861.81061516108,
          2874.72868703589,
          3194.7658260344274,
          3188.3574357097546,
          2955.350422063397,
          3788.635778176344,
          2731.4467974143727,
          2730.8764131602093,
          3044.659572304683,
          2707.898578779177,
          2742.1665739550263,
          3008.155828915131,
          3553.350129534572,
          2408.472424485096,
          1984.317514666737,
          2065.242409686812,
          2680.050064185694,
          2668.055341703692,
          3048.024765664305,
          3228.064165169408,
          3082.191195341012,
          2699.9305368539603,
          2834.2259417125547,
          2920.272521148157,
          2723.1179538635206,
          2735.514370262565,
          3545.441246310239,
          2699.560077234078,
          2468.3804288903234,
          2990.029012181911,
          2704.643949135542,
          3462.856641699848,
          3358.761533514781,
          4063.720333657902,
          2364.664823702874,
          2435.542731340973,
          3077.959996107357,
          3077.105539794155,
          3089.3346512730686,
          3191.348740742,
          3125.11366505104,
          2818.824132572841,
          2607.86601231116,
          3031.1167096522568,
          3024.773359449768,
          2604.966289863682,
          3148.1850104512,
          3028.491531083934,
          2377.1026474270407,
          2637.380184181376,
          3021.425389078463,
          885.5153698880575,
          3004.8074198597205,
          2818.8828693131986,
          3366.1513284627968,
          2762.3003113590803,
          2185.773625199894,
          2875.389130958176,
          2996.522679229585,
          3338.8214216973643,
          2930.557508648395,
          3322.8493111455296,
          2951.729621462197,
          2453.015538665697,
          3135.491629318341,
          2690.2803757808983,
          3226.357558836145,
          2784.882547183636,
          3245.134261087982,
          2217.131916478136,
          2571.113229297096,
          3067.792591849164,
          3215.1975327566893,
          3151.023209981284,
          2749.4188127955304,
          3383.276011606084,
          2598.6659392143147,
          2231.918749622767,
          2939.904388820698,
          2995.1831791750947,
          3034.910500427002,
          3286.710488795275,
          3774.799004468715,
          2696.496533273915,
          2319.1880940808514,
          2534.9101781505447,
          2685.251185319136,
          2960.9802589096043,
          3341.042092810392,
          3541.16902138045,
          2264.443750934951,
          2258.417290462039,
          2764.307277867976,
          2737.981910968484,
          2822.803680290672,
          3036.2189250219126,
          3100.475779647691,
          2294.706950104817,
          2399.921021449231,
          3253.3163424442887,
          3517.9010198818146,
          2681.461173589619,
          2983.0889816177946,
          3468.046394892061,
          2382.989376665877,
          2216.9720607619392,
          3251.6071750978767,
          3067.4705328665414,
          3043.023219353224,
          3475.494794510496,
          3658.9709956271113,
          2466.4976592393496,
          2464.3862971267617,
          1994.3825946111203,
          2867.068049059863,
          2933.170411143851,
          2977.345222160956,
          3567.0812178875008,
          2328.6684498205614,
          2322.227167163369,
          2844.2120026639946,
          2685.172086342991,
          2737.6494881188164,
          3050.492003754472,
          3440.554467932148,
          2126.7468052733407,
          2270.741421734931,
          2680.518037341607,
          2409.0255735498454,
          2941.0216831615903,
          4249.827451557627,
          3039.111062248579,
          2341.51436418419,
          2474.440164483201,
          2734.5646419315467,
          2951.4765463156727,
          3024.451561640503,
          3177.6445262093307,
          3169.827865927474,
          2436.410362240692,
          2419.078256882752,
          2888.910683593678,
          2954.691654558097,
          2276.4306028714395,
          3142.466241081263,
          3220.1586444093427,
          2421.7004998149687,
          2684.250577901813,
          2411.699218944076,
          2782.367210337215,
          2774.5152859990703,
          2711.8845980984856,
          3393.991018955619,
          2545.685098180612,
          2918.4874435372167,
          2998.164356590094,
          2683.10646708596,
          3017.760494720363,
          2723.694791538127,
          3173.518137226424,
          2416.308584694853,
          2313.587096603498,
          3016.7763391174503,
          2686.2357259180067,
          3173.348769969413,
          2816.41324134782,
          2784.571719118947,
          2539.6722530432594,
          2342.24074747098,
          2514.0582403429075,
          3033.087985365025,
          3341.9149043330067,
          2709.742973342461,
          3111.185131233025,
          2639.5579428706133,
          2910.980628369074,
          3189.54062981336,
          2803.5756656253584,
          2839.233802737078,
          2973.3216640010423,
          3359.0927853344983,
          2160.6140902680995,
          2194.515825476931,
          2779.584354435104,
          2695.3673017925084,
          2753.3549317785887,
          2570.4545095368185,
          3350.104084678436,
          2264.423240638665,
          2774.366704664728,
          2848.0420040454583,
          2664.3731021050176,
          2898.9860492199928,
          1932.1412499265707,
          2154.5567761384486,
          2161.104398024781,
          2907.297803594174,
          2917.477450870521,
          2742.665820156445,
          3242.096874026688,
          3763.8249114705072,
          2670.04211816876,
          2955.135564037994,
          2783.623240432127,
          2657.530253108621,
          2873.398550319946,
          2759.882367033361,
          3476.019104424003,
          2662.512210890522,
          2170.3560474351584,
          3001.665617786074,
          3055.0655964606653,
          2743.9556541454926,
          2654.924950032708,
          2972.571361326165,
          2520.016092387385,
          2174.278314961287,
          3002.463717949611,
          5473.059760646735,
          2687.042113188152,
          2286.040562945392,
          2481.7212758704904,
          2037.684933883587,
          973.0575837395248,
          2264.9700211123563,
          2426.077381119328,
          2432.330882818982,
          2629.624666189144,
          2148.8269287134835,
          1413.75152959563,
          1581.6105714884663,
          2309.983808091496,
          2380.4018602194,
          2675.3832705404,
          3244.169132290353,
          2381.3172654354,
          2393.98024421453,
          2120.0862175811976,
          2339.2535005368427,
          2750.490341668613,
          3242.415021617844,
          2923.948557925518,
          2174.6910579611044,
          2569.6625256652114,
          2539.742425249516,
          2407.167779138423,
          2581.250611444379,
          3262.102412480433,
          3292.9001680838523,
          2267.158326006202,
          2090.2365924470364,
          2931.8866972285286,
          2376.1677039320207,
          2713.765262461594,
          3094.3875558660484,
          3517.717993160542,
          2408.259200455929,
          2284.977133026083,
          2871.068928061625,
          2899.7342822893456,
          2808.516011350438,
          3031.2562144749054,
          3618.7258521762815,
          2374.7152271398977,
          2038.120870447476,
          2802.3934840752,
          2402.038950297444,
          2766.214050959227,
          3006.962737630257,
          3365.473750484453,
          3336.636259726276,
          2745.362020323649,
          2275.4662015189297,
          2430.972078816451,
          2722.267468278644,
          2833.138082086661,
          2985.1241783266005,
          2223.532648488607,
          2668.27477048187,
          2264.383163897524,
          2730.2580419878864,
          2718.710874082522,
          3113.3561320660497,
          3087.460237982701,
          3059.533335866802,
          2340.624723454318,
          2840.7930380561256,
          2733.255559892099,
          2595.153730664521,
          3453.948835709221,
          3478.698332751733,
          2600.041439883958,
          2846.9207072570834,
          2973.838360937747,
          2894.09010695658,
          2928.094552420277,
          2811.057818169769,
          3628.802614418772,
          2457.063998991582,
          2513.785699831408,
          2771.210464131028,
          2406.481149045462,
          2920.64293254441,
          3008.4633381831886,
          3031.329204087474,
          2514.3650940286125,
          2609.1760478366286,
          3058.8374480992725,
          2639.008440721314,
          2345.901704121392,
          2788.295507778956,
          2888.302028852754,
          2572.364216462437,
          2549.258254942077,
          3172.100595011465,
          2900.503138439669,
          3157.047478643037,
          3036.29877127231,
          3019.081441518786,
          2556.974181345028,
          2843.855000246211,
          3110.698035025666,
          2840.9343631466377,
          3238.826684971081,
          3446.914228780396,
          2444.200007377469,
          2538.382696925353,
          2785.019997859688,
          2985.181036483308,
          2652.675722825276,
          3034.2838592670096,
          4245.076669329942,
          2632.2500178822306,
          2531.145214619747,
          2944.035374750849,
          3091.171993755469,
          3027.7237133105,
          3187.6879666569453,
          3734.831344707856,
          3017.111409127001,
          2616.818326079827,
          2931.895705837639,
          2603.518405216208,
          3009.5569990000863,
          2916.3077315215683,
          3574.631184366678,
          2437.338477713257,
          2346.91667426467,
          2546.7325579974045,
          2587.02170115676,
          2367.043892115205,
          2955.95427511883,
          3857.225812728444,
          2530.2940798075183,
          2559.8878957851643,
          3178.2390695651134,
          3610.688511987904,
          3268.312328666945,
          3696.350362870661,
          3219.365665873654,
          2078.9204949857394,
          1796.6752821063365,
          2829.399010201731,
          2726.175255064189,
          2919.96600412143,
          2920.728680471807,
          3340.1231646917463,
          2366.1898937016927,
          2315.1538822445305,
          2971.1520088778266,
          2819.560031314088,
          2832.0495857851274,
          3231.552802434988,
          2636.9208963566925,
          1948.6825147691268,
          1868.01695632592,
          2301.151048507408,
          2588.1337885044904,
          4230.313605577822,
          3219.3452726528726,
          3354.9745397040865,
          2491.027257350573,
          2632.7263585870246,
          3092.861519348282,
          2947.792940470453,
          3572.187412145089,
          3232.804474514247,
          3051.459328292404,
          2527.872070171169,
          2642.045941599509,
          2938.870081481945,
          3032.6730188760685,
          3523.8050483732663,
          3250.4233248690075,
          2958.045915048982,
          2146.135427374319,
          1569.0816956809456,
          3067.4098796383087,
          2807.752268491616,
          3041.4770468669763,
          2870.0422617762824,
          3271.15144907558,
          2482.968795892714,
          2482.263108183463,
          3124.853184795552,
          3024.417529827824,
          2749.7394894446875,
          2942.450791002474,
          2964.4005391423343,
          2349.16505503362,
          2299.0231999296475,
          3018.603510628748,
          2798.876625553424,
          697.5387135901726,
          3297.777084734157,
          3079.3617493949314,
          2259.1981036856528,
          2549.899434897537,
          3492.8473659235506,
          2867.302917310678,
          3187.097852990368,
          2808.8275487014703,
          3527.4881645502733
         ]
        },
        {
         "line": {
          "color": "LightSkyBlue"
         },
         "mode": "lines+markers",
         "name": "Test Actual",
         "type": "scatter",
         "x": [
          "2018-07-14T00:00:00",
          "2018-07-15T00:00:00",
          "2018-07-16T00:00:00",
          "2018-07-17T00:00:00",
          "2018-07-18T00:00:00",
          "2018-07-19T00:00:00",
          "2018-07-20T00:00:00",
          "2018-07-21T00:00:00",
          "2018-07-22T00:00:00",
          "2018-07-23T00:00:00",
          "2018-07-24T00:00:00",
          "2018-07-25T00:00:00",
          "2018-07-26T00:00:00",
          "2018-07-27T00:00:00",
          "2018-07-28T00:00:00",
          "2018-07-29T00:00:00",
          "2018-07-30T00:00:00",
          "2018-07-31T00:00:00",
          "2018-08-01T00:00:00",
          "2018-08-02T00:00:00",
          "2018-08-03T00:00:00",
          "2018-08-04T00:00:00",
          "2018-08-05T00:00:00",
          "2018-08-06T00:00:00",
          "2018-08-07T00:00:00",
          "2018-08-08T00:00:00",
          "2018-08-09T00:00:00",
          "2018-08-10T00:00:00",
          "2018-08-11T00:00:00",
          "2018-08-12T00:00:00",
          "2018-08-13T00:00:00",
          "2018-08-14T00:00:00",
          "2018-08-15T00:00:00",
          "2018-08-16T00:00:00",
          "2018-08-17T00:00:00",
          "2018-08-18T00:00:00",
          "2018-08-19T00:00:00",
          "2018-08-20T00:00:00",
          "2018-08-21T00:00:00",
          "2018-08-22T00:00:00",
          "2018-08-23T00:00:00",
          "2018-08-24T00:00:00",
          "2018-08-25T00:00:00",
          "2018-08-26T00:00:00",
          "2018-08-27T00:00:00",
          "2018-08-28T00:00:00",
          "2018-08-29T00:00:00",
          "2018-08-30T00:00:00",
          "2018-08-31T00:00:00",
          "2018-09-01T00:00:00",
          "2018-09-02T00:00:00",
          "2018-09-03T00:00:00",
          "2018-09-04T00:00:00",
          "2018-09-05T00:00:00",
          "2018-09-06T00:00:00",
          "2018-09-07T00:00:00",
          "2018-09-08T00:00:00",
          "2018-09-09T00:00:00",
          "2018-09-10T00:00:00",
          "2018-09-11T00:00:00",
          "2018-09-12T00:00:00",
          "2018-09-13T00:00:00",
          "2018-09-14T00:00:00",
          "2018-09-15T00:00:00",
          "2018-09-16T00:00:00",
          "2018-09-17T00:00:00",
          "2018-09-18T00:00:00",
          "2018-09-19T00:00:00",
          "2018-09-20T00:00:00",
          "2018-09-21T00:00:00",
          "2018-09-22T00:00:00",
          "2018-09-23T00:00:00",
          "2018-09-24T00:00:00",
          "2018-09-25T00:00:00",
          "2018-09-26T00:00:00",
          "2018-09-27T00:00:00",
          "2018-09-28T00:00:00",
          "2018-09-29T00:00:00",
          "2018-09-30T00:00:00",
          "2018-10-01T00:00:00",
          "2018-10-02T00:00:00",
          "2018-10-03T00:00:00",
          "2018-10-04T00:00:00",
          "2018-10-05T00:00:00",
          "2018-10-06T00:00:00",
          "2018-10-07T00:00:00",
          "2018-10-08T00:00:00",
          "2018-10-09T00:00:00",
          "2018-10-10T00:00:00",
          "2018-10-11T00:00:00",
          "2018-10-12T00:00:00",
          "2018-10-13T00:00:00",
          "2018-10-14T00:00:00",
          "2018-10-15T00:00:00",
          "2018-10-16T00:00:00",
          "2018-10-17T00:00:00",
          "2018-10-18T00:00:00",
          "2018-10-19T00:00:00",
          "2018-10-20T00:00:00",
          "2018-10-21T00:00:00",
          "2018-10-22T00:00:00",
          "2018-10-23T00:00:00",
          "2018-10-24T00:00:00",
          "2018-10-25T00:00:00",
          "2018-10-26T00:00:00",
          "2018-10-27T00:00:00",
          "2018-10-28T00:00:00",
          "2018-10-29T00:00:00",
          "2018-10-30T00:00:00",
          "2018-10-31T00:00:00",
          "2018-11-01T00:00:00",
          "2018-11-02T00:00:00",
          "2018-11-03T00:00:00",
          "2018-11-04T00:00:00",
          "2018-11-05T00:00:00",
          "2018-11-06T00:00:00",
          "2018-11-07T00:00:00",
          "2018-11-08T00:00:00",
          "2018-11-09T00:00:00",
          "2018-11-10T00:00:00",
          "2018-11-11T00:00:00",
          "2018-11-12T00:00:00",
          "2018-11-13T00:00:00",
          "2018-11-14T00:00:00",
          "2018-11-15T00:00:00",
          "2018-11-16T00:00:00",
          "2018-11-17T00:00:00",
          "2018-11-18T00:00:00",
          "2018-11-19T00:00:00",
          "2018-11-20T00:00:00",
          "2018-11-21T00:00:00",
          "2018-11-23T00:00:00",
          "2018-11-24T00:00:00",
          "2018-11-25T00:00:00",
          "2018-11-26T00:00:00",
          "2018-11-27T00:00:00",
          "2018-11-28T00:00:00",
          "2018-11-29T00:00:00",
          "2018-11-30T00:00:00"
         ],
         "y": [
          2610.950844135771,
          2350.3359341385467,
          3014.025726769526,
          2648.439035447395,
          2934.9541816451447,
          2600.6080462375,
          3170.704144862786,
          2333.4232309636072,
          2507.6649599435136,
          3096.10732750074,
          3003.729634776756,
          3207.9907834378,
          2710.5581543579133,
          3209.183552163732,
          2302.215057006447,
          2826.99632174378,
          3053.502702387929,
          3140.312701938248,
          3104.1948712920966,
          2920.702165802448,
          3267.249667720185,
          2382.102649289081,
          2738.825071602236,
          2970.529035459508,
          2692.777910534818,
          3023.468986243988,
          2985.6257483371305,
          3280.510172105039,
          2171.3761163459176,
          2664.086267574811,
          2619.992789589079,
          2935.7096798183434,
          2851.754355443001,
          2667.540684778799,
          3027.154609440132,
          2828.601648691242,
          3033.201634290217,
          2900.1940729943303,
          2651.557617782062,
          2985.412606433292,
          3553.474643153852,
          2961.032929490417,
          2101.150411713799,
          2379.638884924727,
          2626.4780403750024,
          2664.888787657013,
          2886.028618764558,
          2981.549579731658,
          2791.58565195824,
          2069.831442651712,
          2027.544082431019,
          2183.435579376945,
          2567.433346998356,
          4048.01344551858,
          2397.8073166245663,
          3533.6055423936086,
          2616.435927864331,
          2253.258668217089,
          2746.8458160312784,
          2538.024775796717,
          2842.3731266213576,
          2699.587191854638,
          3268.281167520407,
          2389.675977815232,
          2299.6530110108115,
          2951.802011605939,
          2990.0320065822248,
          2839.6496492463293,
          3000.4803217378308,
          3283.4070280911374,
          2902.71905034278,
          2284.4020991401208,
          3157.5258958517697,
          3411.522530840376,
          3149.8688902716367,
          3204.463408798764,
          3348.9539175297805,
          1922.6426467462784,
          2204.1644438443973,
          2635.256077544004,
          3240.357055160948,
          3312.2680237386926,
          3041.8307463530423,
          3279.452223688693,
          1882.9182435314087,
          2191.5492913180738,
          2764.0410025527426,
          3033.695597369049,
          3066.386868437716,
          2831.5552201265773,
          3312.785678116848,
          2671.74033742689,
          2946.13659774719,
          3166.2433259101267,
          2809.646735170462,
          3087.8187047506885,
          2960.078416766663,
          3239.428639142466,
          2371.901925935473,
          2348.363100682733,
          2665.5931435949906,
          2448.8577617291844,
          2785.609122338063,
          2926.7493048934857,
          3216.149299496004,
          2896.862984181841,
          2543.954422305749,
          3065.137780018462,
          2953.2286573553,
          2888.625543158262,
          3768.155735187968,
          3299.0668604004427,
          2997.5756346007947,
          2620.8100819597607,
          2724.721140427482,
          2748.326271378141,
          3120.0942896024617,
          2667.1524602714044,
          3664.892613252555,
          2263.1677370468024,
          1786.0910834483582,
          2423.521808709668,
          2607.062545011261,
          2644.5591923373995,
          2623.491916502204,
          3013.0947288400966,
          2261.661269351466,
          2255.65832486942,
          2763.247405171046,
          2759.465855330458,
          2495.443234496792,
          1642.331046102604,
          2186.531608696884,
          2599.3153229806007,
          2567.725141344498,
          2480.132092529648,
          2716.229756918465,
          3010.1987179914386,
          2839.90947559726
         ]
        },
        {
         "line": {
          "color": "lightcoral"
         },
         "mode": "lines+markers",
         "name": "Test Predicted",
         "type": "scatter",
         "x": [
          "2018-07-14T00:00:00",
          "2018-07-15T00:00:00",
          "2018-07-16T00:00:00",
          "2018-07-17T00:00:00",
          "2018-07-18T00:00:00",
          "2018-07-19T00:00:00",
          "2018-07-20T00:00:00",
          "2018-07-21T00:00:00",
          "2018-07-22T00:00:00",
          "2018-07-23T00:00:00",
          "2018-07-24T00:00:00",
          "2018-07-25T00:00:00",
          "2018-07-26T00:00:00",
          "2018-07-27T00:00:00",
          "2018-07-28T00:00:00",
          "2018-07-29T00:00:00",
          "2018-07-30T00:00:00",
          "2018-07-31T00:00:00",
          "2018-08-01T00:00:00",
          "2018-08-02T00:00:00",
          "2018-08-03T00:00:00",
          "2018-08-04T00:00:00",
          "2018-08-05T00:00:00",
          "2018-08-06T00:00:00",
          "2018-08-07T00:00:00",
          "2018-08-08T00:00:00",
          "2018-08-09T00:00:00",
          "2018-08-10T00:00:00",
          "2018-08-11T00:00:00",
          "2018-08-12T00:00:00",
          "2018-08-13T00:00:00",
          "2018-08-14T00:00:00",
          "2018-08-15T00:00:00",
          "2018-08-16T00:00:00",
          "2018-08-17T00:00:00",
          "2018-08-18T00:00:00",
          "2018-08-19T00:00:00",
          "2018-08-20T00:00:00",
          "2018-08-21T00:00:00",
          "2018-08-22T00:00:00",
          "2018-08-23T00:00:00",
          "2018-08-24T00:00:00",
          "2018-08-25T00:00:00",
          "2018-08-26T00:00:00",
          "2018-08-27T00:00:00",
          "2018-08-28T00:00:00",
          "2018-08-29T00:00:00",
          "2018-08-30T00:00:00",
          "2018-08-31T00:00:00",
          "2018-09-01T00:00:00",
          "2018-09-02T00:00:00",
          "2018-09-03T00:00:00",
          "2018-09-04T00:00:00",
          "2018-09-05T00:00:00",
          "2018-09-06T00:00:00",
          "2018-09-07T00:00:00",
          "2018-09-08T00:00:00",
          "2018-09-09T00:00:00",
          "2018-09-10T00:00:00",
          "2018-09-11T00:00:00",
          "2018-09-12T00:00:00",
          "2018-09-13T00:00:00",
          "2018-09-14T00:00:00",
          "2018-09-15T00:00:00",
          "2018-09-16T00:00:00",
          "2018-09-17T00:00:00",
          "2018-09-18T00:00:00",
          "2018-09-19T00:00:00",
          "2018-09-20T00:00:00",
          "2018-09-21T00:00:00",
          "2018-09-22T00:00:00",
          "2018-09-23T00:00:00",
          "2018-09-24T00:00:00",
          "2018-09-25T00:00:00",
          "2018-09-26T00:00:00",
          "2018-09-27T00:00:00",
          "2018-09-28T00:00:00",
          "2018-09-29T00:00:00",
          "2018-09-30T00:00:00",
          "2018-10-01T00:00:00",
          "2018-10-02T00:00:00",
          "2018-10-03T00:00:00",
          "2018-10-04T00:00:00",
          "2018-10-05T00:00:00",
          "2018-10-06T00:00:00",
          "2018-10-07T00:00:00",
          "2018-10-08T00:00:00",
          "2018-10-09T00:00:00",
          "2018-10-10T00:00:00",
          "2018-10-11T00:00:00",
          "2018-10-12T00:00:00",
          "2018-10-13T00:00:00",
          "2018-10-14T00:00:00",
          "2018-10-15T00:00:00",
          "2018-10-16T00:00:00",
          "2018-10-17T00:00:00",
          "2018-10-18T00:00:00",
          "2018-10-19T00:00:00",
          "2018-10-20T00:00:00",
          "2018-10-21T00:00:00",
          "2018-10-22T00:00:00",
          "2018-10-23T00:00:00",
          "2018-10-24T00:00:00",
          "2018-10-25T00:00:00",
          "2018-10-26T00:00:00",
          "2018-10-27T00:00:00",
          "2018-10-28T00:00:00",
          "2018-10-29T00:00:00",
          "2018-10-30T00:00:00",
          "2018-10-31T00:00:00",
          "2018-11-01T00:00:00",
          "2018-11-02T00:00:00",
          "2018-11-03T00:00:00",
          "2018-11-04T00:00:00",
          "2018-11-05T00:00:00",
          "2018-11-06T00:00:00",
          "2018-11-07T00:00:00",
          "2018-11-08T00:00:00",
          "2018-11-09T00:00:00",
          "2018-11-10T00:00:00",
          "2018-11-11T00:00:00",
          "2018-11-12T00:00:00",
          "2018-11-13T00:00:00",
          "2018-11-14T00:00:00",
          "2018-11-15T00:00:00",
          "2018-11-16T00:00:00",
          "2018-11-17T00:00:00",
          "2018-11-18T00:00:00",
          "2018-11-19T00:00:00",
          "2018-11-20T00:00:00",
          "2018-11-21T00:00:00",
          "2018-11-23T00:00:00",
          "2018-11-24T00:00:00",
          "2018-11-25T00:00:00",
          "2018-11-26T00:00:00",
          "2018-11-27T00:00:00",
          "2018-11-28T00:00:00",
          "2018-11-29T00:00:00",
          "2018-11-30T00:00:00"
         ],
         "y": [
          2633.147216796875,
          2584.412109375,
          3039.539306640625,
          2926.67431640625,
          2835.513427734375,
          2928.21044921875,
          3240.065185546875,
          2432.5576171875,
          2231.1796875,
          3129.067138671875,
          3002.66357421875,
          3140.744384765625,
          2886.455078125,
          3139.6875,
          2318.21484375,
          2271.23095703125,
          2949.1015625,
          2966.543212890625,
          2982.132080078125,
          2933.097900390625,
          3252.2021484375,
          2418.068603515625,
          2327.403076171875,
          3032.205322265625,
          2824.53466796875,
          3385.208740234375,
          2688.50390625,
          3133.955322265625,
          2718.4755859375,
          2308.436767578125,
          2863.44140625,
          2908.59912109375,
          3024.10107421875,
          2795.466064453125,
          3575.27197265625,
          2375.72412109375,
          2273.375244140625,
          3084.20263671875,
          2918.72607421875,
          2892.884765625,
          3059.17431640625,
          3365.10546875,
          2392.869384765625,
          2385.24609375,
          3102.8671875,
          3048.589599609375,
          2999.1552734375,
          3077.8388671875,
          3303.5625,
          2515.58544921875,
          2441.29296875,
          2050.534423828125,
          2847.527587890625,
          2906.7529296875,
          2989.5458984375,
          3189.87060546875,
          2355.470458984375,
          2121.8564453125,
          2856.469970703125,
          2770.546630859375,
          3281.055908203125,
          2987.975830078125,
          3248.153076171875,
          2443.52734375,
          2405.626220703125,
          2844.25244140625,
          2780.371337890625,
          2731.764404296875,
          3012.52783203125,
          3176.770751953125,
          2398.3818359375,
          2270.796630859375,
          2882.49755859375,
          2972.8408203125,
          2963.181884765625,
          3072.38330078125,
          2967.367919921875,
          2498.72021484375,
          2436.963134765625,
          3113.252685546875,
          2864.427978515625,
          3125.81298828125,
          2449.936279296875,
          3663.185791015625,
          2472.140869140625,
          2579.001220703125,
          1949.9088134765625,
          3320.40869140625,
          2597.21826171875,
          2762.909912109375,
          3179.439208984375,
          2452.25244140625,
          2441.686767578125,
          2843.23974609375,
          2681.762939453125,
          2778.772705078125,
          2725.89501953125,
          3089.219482421875,
          2452.731201171875,
          2426.984130859375,
          2765.96337890625,
          2789.3583984375,
          2692.75439453125,
          2777.90185546875,
          3089.219482421875,
          2440.1826171875,
          2426.984130859375,
          2784.8857421875,
          2751.4208984375,
          2986.273681640625,
          2875.216796875,
          3256.65966796875,
          2617.556396484375,
          2665.91357421875,
          3126.181884765625,
          2981.99951171875,
          2911.018310546875,
          2798.739990234375,
          3028.029541015625,
          2994.85205078125,
          2178.818359375,
          2042.1048583984375,
          2802.289306640625,
          2868.796875,
          2658.832275390625,
          3018.123779296875,
          2177.322265625,
          2129.50537109375,
          2784.99755859375,
          2750.610595703125,
          2711.234375,
          2051.982177734375,
          2154.03515625,
          2114.4140625,
          2956.185791015625,
          2915.12890625,
          2959.782958984375,
          2648.005859375,
          3471.242919921875
         ]
        }
       ],
       "layout": {
        "legend": {
         "title": {
          "text": "Type"
         }
        },
        "shapes": [
         {
          "line": {
           "color": "lightgray",
           "dash": "dot",
           "width": 2
          },
          "type": "line",
          "x0": "2018-07-14T00:00:00",
          "x1": "2018-07-14T00:00:00",
          "xref": "x",
          "y0": 0,
          "y1": 1,
          "yref": "y domain"
         }
        ],
        "template": {
         "data": {
          "bar": [
           {
            "error_x": {
             "color": "#2a3f5f"
            },
            "error_y": {
             "color": "#2a3f5f"
            },
            "marker": {
             "line": {
              "color": "#E5ECF6",
              "width": 0.5
             },
             "pattern": {
              "fillmode": "overlay",
              "size": 10,
              "solidity": 0.2
             }
            },
            "type": "bar"
           }
          ],
          "barpolar": [
           {
            "marker": {
             "line": {
              "color": "#E5ECF6",
              "width": 0.5
             },
             "pattern": {
              "fillmode": "overlay",
              "size": 10,
              "solidity": 0.2
             }
            },
            "type": "barpolar"
           }
          ],
          "carpet": [
           {
            "aaxis": {
             "endlinecolor": "#2a3f5f",
             "gridcolor": "white",
             "linecolor": "white",
             "minorgridcolor": "white",
             "startlinecolor": "#2a3f5f"
            },
            "baxis": {
             "endlinecolor": "#2a3f5f",
             "gridcolor": "white",
             "linecolor": "white",
             "minorgridcolor": "white",
             "startlinecolor": "#2a3f5f"
            },
            "type": "carpet"
           }
          ],
          "choropleth": [
           {
            "colorbar": {
             "outlinewidth": 0,
             "ticks": ""
            },
            "type": "choropleth"
           }
          ],
          "contour": [
           {
            "colorbar": {
             "outlinewidth": 0,
             "ticks": ""
            },
            "colorscale": [
             [
              0,
              "#0d0887"
             ],
             [
              0.1111111111111111,
              "#46039f"
             ],
             [
              0.2222222222222222,
              "#7201a8"
             ],
             [
              0.3333333333333333,
              "#9c179e"
             ],
             [
              0.4444444444444444,
              "#bd3786"
             ],
             [
              0.5555555555555556,
              "#d8576b"
             ],
             [
              0.6666666666666666,
              "#ed7953"
             ],
             [
              0.7777777777777778,
              "#fb9f3a"
             ],
             [
              0.8888888888888888,
              "#fdca26"
             ],
             [
              1,
              "#f0f921"
             ]
            ],
            "type": "contour"
           }
          ],
          "contourcarpet": [
           {
            "colorbar": {
             "outlinewidth": 0,
             "ticks": ""
            },
            "type": "contourcarpet"
           }
          ],
          "heatmap": [
           {
            "colorbar": {
             "outlinewidth": 0,
             "ticks": ""
            },
            "colorscale": [
             [
              0,
              "#0d0887"
             ],
             [
              0.1111111111111111,
              "#46039f"
             ],
             [
              0.2222222222222222,
              "#7201a8"
             ],
             [
              0.3333333333333333,
              "#9c179e"
             ],
             [
              0.4444444444444444,
              "#bd3786"
             ],
             [
              0.5555555555555556,
              "#d8576b"
             ],
             [
              0.6666666666666666,
              "#ed7953"
             ],
             [
              0.7777777777777778,
              "#fb9f3a"
             ],
             [
              0.8888888888888888,
              "#fdca26"
             ],
             [
              1,
              "#f0f921"
             ]
            ],
            "type": "heatmap"
           }
          ],
          "heatmapgl": [
           {
            "colorbar": {
             "outlinewidth": 0,
             "ticks": ""
            },
            "colorscale": [
             [
              0,
              "#0d0887"
             ],
             [
              0.1111111111111111,
              "#46039f"
             ],
             [
              0.2222222222222222,
              "#7201a8"
             ],
             [
              0.3333333333333333,
              "#9c179e"
             ],
             [
              0.4444444444444444,
              "#bd3786"
             ],
             [
              0.5555555555555556,
              "#d8576b"
             ],
             [
              0.6666666666666666,
              "#ed7953"
             ],
             [
              0.7777777777777778,
              "#fb9f3a"
             ],
             [
              0.8888888888888888,
              "#fdca26"
             ],
             [
              1,
              "#f0f921"
             ]
            ],
            "type": "heatmapgl"
           }
          ],
          "histogram": [
           {
            "marker": {
             "pattern": {
              "fillmode": "overlay",
              "size": 10,
              "solidity": 0.2
             }
            },
            "type": "histogram"
           }
          ],
          "histogram2d": [
           {
            "colorbar": {
             "outlinewidth": 0,
             "ticks": ""
            },
            "colorscale": [
             [
              0,
              "#0d0887"
             ],
             [
              0.1111111111111111,
              "#46039f"
             ],
             [
              0.2222222222222222,
              "#7201a8"
             ],
             [
              0.3333333333333333,
              "#9c179e"
             ],
             [
              0.4444444444444444,
              "#bd3786"
             ],
             [
              0.5555555555555556,
              "#d8576b"
             ],
             [
              0.6666666666666666,
              "#ed7953"
             ],
             [
              0.7777777777777778,
              "#fb9f3a"
             ],
             [
              0.8888888888888888,
              "#fdca26"
             ],
             [
              1,
              "#f0f921"
             ]
            ],
            "type": "histogram2d"
           }
          ],
          "histogram2dcontour": [
           {
            "colorbar": {
             "outlinewidth": 0,
             "ticks": ""
            },
            "colorscale": [
             [
              0,
              "#0d0887"
             ],
             [
              0.1111111111111111,
              "#46039f"
             ],
             [
              0.2222222222222222,
              "#7201a8"
             ],
             [
              0.3333333333333333,
              "#9c179e"
             ],
             [
              0.4444444444444444,
              "#bd3786"
             ],
             [
              0.5555555555555556,
              "#d8576b"
             ],
             [
              0.6666666666666666,
              "#ed7953"
             ],
             [
              0.7777777777777778,
              "#fb9f3a"
             ],
             [
              0.8888888888888888,
              "#fdca26"
             ],
             [
              1,
              "#f0f921"
             ]
            ],
            "type": "histogram2dcontour"
           }
          ],
          "mesh3d": [
           {
            "colorbar": {
             "outlinewidth": 0,
             "ticks": ""
            },
            "type": "mesh3d"
           }
          ],
          "parcoords": [
           {
            "line": {
             "colorbar": {
              "outlinewidth": 0,
              "ticks": ""
             }
            },
            "type": "parcoords"
           }
          ],
          "pie": [
           {
            "automargin": true,
            "type": "pie"
           }
          ],
          "scatter": [
           {
            "fillpattern": {
             "fillmode": "overlay",
             "size": 10,
             "solidity": 0.2
            },
            "type": "scatter"
           }
          ],
          "scatter3d": [
           {
            "line": {
             "colorbar": {
              "outlinewidth": 0,
              "ticks": ""
             }
            },
            "marker": {
             "colorbar": {
              "outlinewidth": 0,
              "ticks": ""
             }
            },
            "type": "scatter3d"
           }
          ],
          "scattercarpet": [
           {
            "marker": {
             "colorbar": {
              "outlinewidth": 0,
              "ticks": ""
             }
            },
            "type": "scattercarpet"
           }
          ],
          "scattergeo": [
           {
            "marker": {
             "colorbar": {
              "outlinewidth": 0,
              "ticks": ""
             }
            },
            "type": "scattergeo"
           }
          ],
          "scattergl": [
           {
            "marker": {
             "colorbar": {
              "outlinewidth": 0,
              "ticks": ""
             }
            },
            "type": "scattergl"
           }
          ],
          "scattermapbox": [
           {
            "marker": {
             "colorbar": {
              "outlinewidth": 0,
              "ticks": ""
             }
            },
            "type": "scattermapbox"
           }
          ],
          "scatterpolar": [
           {
            "marker": {
             "colorbar": {
              "outlinewidth": 0,
              "ticks": ""
             }
            },
            "type": "scatterpolar"
           }
          ],
          "scatterpolargl": [
           {
            "marker": {
             "colorbar": {
              "outlinewidth": 0,
              "ticks": ""
             }
            },
            "type": "scatterpolargl"
           }
          ],
          "scatterternary": [
           {
            "marker": {
             "colorbar": {
              "outlinewidth": 0,
              "ticks": ""
             }
            },
            "type": "scatterternary"
           }
          ],
          "surface": [
           {
            "colorbar": {
             "outlinewidth": 0,
             "ticks": ""
            },
            "colorscale": [
             [
              0,
              "#0d0887"
             ],
             [
              0.1111111111111111,
              "#46039f"
             ],
             [
              0.2222222222222222,
              "#7201a8"
             ],
             [
              0.3333333333333333,
              "#9c179e"
             ],
             [
              0.4444444444444444,
              "#bd3786"
             ],
             [
              0.5555555555555556,
              "#d8576b"
             ],
             [
              0.6666666666666666,
              "#ed7953"
             ],
             [
              0.7777777777777778,
              "#fb9f3a"
             ],
             [
              0.8888888888888888,
              "#fdca26"
             ],
             [
              1,
              "#f0f921"
             ]
            ],
            "type": "surface"
           }
          ],
          "table": [
           {
            "cells": {
             "fill": {
              "color": "#EBF0F8"
             },
             "line": {
              "color": "white"
             }
            },
            "header": {
             "fill": {
              "color": "#C8D4E3"
             },
             "line": {
              "color": "white"
             }
            },
            "type": "table"
           }
          ]
         },
         "layout": {
          "annotationdefaults": {
           "arrowcolor": "#2a3f5f",
           "arrowhead": 0,
           "arrowwidth": 1
          },
          "autotypenumbers": "strict",
          "coloraxis": {
           "colorbar": {
            "outlinewidth": 0,
            "ticks": ""
           }
          },
          "colorscale": {
           "diverging": [
            [
             0,
             "#8e0152"
            ],
            [
             0.1,
             "#c51b7d"
            ],
            [
             0.2,
             "#de77ae"
            ],
            [
             0.3,
             "#f1b6da"
            ],
            [
             0.4,
             "#fde0ef"
            ],
            [
             0.5,
             "#f7f7f7"
            ],
            [
             0.6,
             "#e6f5d0"
            ],
            [
             0.7,
             "#b8e186"
            ],
            [
             0.8,
             "#7fbc41"
            ],
            [
             0.9,
             "#4d9221"
            ],
            [
             1,
             "#276419"
            ]
           ],
           "sequential": [
            [
             0,
             "#0d0887"
            ],
            [
             0.1111111111111111,
             "#46039f"
            ],
            [
             0.2222222222222222,
             "#7201a8"
            ],
            [
             0.3333333333333333,
             "#9c179e"
            ],
            [
             0.4444444444444444,
             "#bd3786"
            ],
            [
             0.5555555555555556,
             "#d8576b"
            ],
            [
             0.6666666666666666,
             "#ed7953"
            ],
            [
             0.7777777777777778,
             "#fb9f3a"
            ],
            [
             0.8888888888888888,
             "#fdca26"
            ],
            [
             1,
             "#f0f921"
            ]
           ],
           "sequentialminus": [
            [
             0,
             "#0d0887"
            ],
            [
             0.1111111111111111,
             "#46039f"
            ],
            [
             0.2222222222222222,
             "#7201a8"
            ],
            [
             0.3333333333333333,
             "#9c179e"
            ],
            [
             0.4444444444444444,
             "#bd3786"
            ],
            [
             0.5555555555555556,
             "#d8576b"
            ],
            [
             0.6666666666666666,
             "#ed7953"
            ],
            [
             0.7777777777777778,
             "#fb9f3a"
            ],
            [
             0.8888888888888888,
             "#fdca26"
            ],
            [
             1,
             "#f0f921"
            ]
           ]
          },
          "colorway": [
           "#636efa",
           "#EF553B",
           "#00cc96",
           "#ab63fa",
           "#FFA15A",
           "#19d3f3",
           "#FF6692",
           "#B6E880",
           "#FF97FF",
           "#FECB52"
          ],
          "font": {
           "color": "#2a3f5f"
          },
          "geo": {
           "bgcolor": "white",
           "lakecolor": "white",
           "landcolor": "#E5ECF6",
           "showlakes": true,
           "showland": true,
           "subunitcolor": "white"
          },
          "hoverlabel": {
           "align": "left"
          },
          "hovermode": "closest",
          "mapbox": {
           "style": "light"
          },
          "paper_bgcolor": "white",
          "plot_bgcolor": "#E5ECF6",
          "polar": {
           "angularaxis": {
            "gridcolor": "white",
            "linecolor": "white",
            "ticks": ""
           },
           "bgcolor": "#E5ECF6",
           "radialaxis": {
            "gridcolor": "white",
            "linecolor": "white",
            "ticks": ""
           }
          },
          "scene": {
           "xaxis": {
            "backgroundcolor": "#E5ECF6",
            "gridcolor": "white",
            "gridwidth": 2,
            "linecolor": "white",
            "showbackground": true,
            "ticks": "",
            "zerolinecolor": "white"
           },
           "yaxis": {
            "backgroundcolor": "#E5ECF6",
            "gridcolor": "white",
            "gridwidth": 2,
            "linecolor": "white",
            "showbackground": true,
            "ticks": "",
            "zerolinecolor": "white"
           },
           "zaxis": {
            "backgroundcolor": "#E5ECF6",
            "gridcolor": "white",
            "gridwidth": 2,
            "linecolor": "white",
            "showbackground": true,
            "ticks": "",
            "zerolinecolor": "white"
           }
          },
          "shapedefaults": {
           "line": {
            "color": "#2a3f5f"
           }
          },
          "ternary": {
           "aaxis": {
            "gridcolor": "white",
            "linecolor": "white",
            "ticks": ""
           },
           "baxis": {
            "gridcolor": "white",
            "linecolor": "white",
            "ticks": ""
           },
           "bgcolor": "#E5ECF6",
           "caxis": {
            "gridcolor": "white",
            "linecolor": "white",
            "ticks": ""
           }
          },
          "title": {
           "x": 0.05
          },
          "xaxis": {
           "automargin": true,
           "gridcolor": "white",
           "linecolor": "white",
           "ticks": "",
           "title": {
            "standoff": 15
           },
           "zerolinecolor": "white",
           "zerolinewidth": 2
          },
          "yaxis": {
           "automargin": true,
           "gridcolor": "white",
           "linecolor": "white",
           "ticks": "",
           "title": {
            "standoff": 15
           },
           "zerolinecolor": "white",
           "zerolinewidth": 2
          }
         }
        },
        "title": {
         "text": "<b>Actual vs. Predicted Demand</b><br><sub>For store_1, feature set: all</sub>"
        },
        "xaxis": {
         "title": {
          "text": "Date"
         }
        },
        "yaxis": {
         "title": {
          "text": "Demand"
         }
        }
       }
      }
     },
     "metadata": {},
     "output_type": "display_data"
    },
    {
     "data": {
      "application/vnd.plotly.v1+json": {
       "config": {
        "plotlyServerURL": "https://plot.ly"
       },
       "data": [
        {
         "line": {
          "color": "lightseagreen"
         },
         "mode": "lines+markers",
         "name": "Train Actual",
         "type": "scatter",
         "x": [
          "2017-01-02T00:00:00",
          "2017-01-03T00:00:00",
          "2017-01-04T00:00:00",
          "2017-01-05T00:00:00",
          "2017-01-06T00:00:00",
          "2017-01-07T00:00:00",
          "2017-01-08T00:00:00",
          "2017-01-09T00:00:00",
          "2017-01-10T00:00:00",
          "2017-01-11T00:00:00",
          "2017-01-12T00:00:00",
          "2017-01-13T00:00:00",
          "2017-01-14T00:00:00",
          "2017-01-15T00:00:00",
          "2017-01-16T00:00:00",
          "2017-01-17T00:00:00",
          "2017-01-18T00:00:00",
          "2017-01-19T00:00:00",
          "2017-01-20T00:00:00",
          "2017-01-21T00:00:00",
          "2017-01-22T00:00:00",
          "2017-01-23T00:00:00",
          "2017-01-24T00:00:00",
          "2017-01-25T00:00:00",
          "2017-01-26T00:00:00",
          "2017-01-27T00:00:00",
          "2017-01-28T00:00:00",
          "2017-01-29T00:00:00",
          "2017-01-30T00:00:00",
          "2017-01-31T00:00:00",
          "2017-02-01T00:00:00",
          "2017-02-02T00:00:00",
          "2017-02-03T00:00:00",
          "2017-02-04T00:00:00",
          "2017-02-05T00:00:00",
          "2017-02-06T00:00:00",
          "2017-02-07T00:00:00",
          "2017-02-08T00:00:00",
          "2017-02-09T00:00:00",
          "2017-02-10T00:00:00",
          "2017-02-11T00:00:00",
          "2017-02-12T00:00:00",
          "2017-02-13T00:00:00",
          "2017-02-14T00:00:00",
          "2017-02-15T00:00:00",
          "2017-02-16T00:00:00",
          "2017-02-17T00:00:00",
          "2017-02-18T00:00:00",
          "2017-02-19T00:00:00",
          "2017-02-20T00:00:00",
          "2017-02-21T00:00:00",
          "2017-02-22T00:00:00",
          "2017-02-23T00:00:00",
          "2017-02-24T00:00:00",
          "2017-02-25T00:00:00",
          "2017-02-26T00:00:00",
          "2017-02-27T00:00:00",
          "2017-02-28T00:00:00",
          "2017-03-01T00:00:00",
          "2017-03-02T00:00:00",
          "2017-03-03T00:00:00",
          "2017-03-04T00:00:00",
          "2017-03-05T00:00:00",
          "2017-03-06T00:00:00",
          "2017-03-07T00:00:00",
          "2017-03-08T00:00:00",
          "2017-03-09T00:00:00",
          "2017-03-10T00:00:00",
          "2017-03-11T00:00:00",
          "2017-03-12T00:00:00",
          "2017-03-13T00:00:00",
          "2017-03-14T00:00:00",
          "2017-03-15T00:00:00",
          "2017-03-16T00:00:00",
          "2017-03-17T00:00:00",
          "2017-03-18T00:00:00",
          "2017-03-19T00:00:00",
          "2017-03-20T00:00:00",
          "2017-03-21T00:00:00",
          "2017-03-22T00:00:00",
          "2017-03-23T00:00:00",
          "2017-03-24T00:00:00",
          "2017-03-25T00:00:00",
          "2017-03-26T00:00:00",
          "2017-03-27T00:00:00",
          "2017-03-28T00:00:00",
          "2017-03-29T00:00:00",
          "2017-03-30T00:00:00",
          "2017-03-31T00:00:00",
          "2017-04-01T00:00:00",
          "2017-04-02T00:00:00",
          "2017-04-03T00:00:00",
          "2017-04-04T00:00:00",
          "2017-04-05T00:00:00",
          "2017-04-06T00:00:00",
          "2017-04-07T00:00:00",
          "2017-04-08T00:00:00",
          "2017-04-09T00:00:00",
          "2017-04-10T00:00:00",
          "2017-04-11T00:00:00",
          "2017-04-12T00:00:00",
          "2017-04-13T00:00:00",
          "2017-04-14T00:00:00",
          "2017-04-15T00:00:00",
          "2017-04-17T00:00:00",
          "2017-04-18T00:00:00",
          "2017-04-19T00:00:00",
          "2017-04-20T00:00:00",
          "2017-04-21T00:00:00",
          "2017-04-22T00:00:00",
          "2017-04-23T00:00:00",
          "2017-04-24T00:00:00",
          "2017-04-25T00:00:00",
          "2017-04-26T00:00:00",
          "2017-04-27T00:00:00",
          "2017-04-28T00:00:00",
          "2017-04-29T00:00:00",
          "2017-04-30T00:00:00",
          "2017-05-01T00:00:00",
          "2017-05-02T00:00:00",
          "2017-05-03T00:00:00",
          "2017-05-04T00:00:00",
          "2017-05-05T00:00:00",
          "2017-05-06T00:00:00",
          "2017-05-07T00:00:00",
          "2017-05-08T00:00:00",
          "2017-05-09T00:00:00",
          "2017-05-10T00:00:00",
          "2017-05-11T00:00:00",
          "2017-05-12T00:00:00",
          "2017-05-13T00:00:00",
          "2017-05-14T00:00:00",
          "2017-05-15T00:00:00",
          "2017-05-16T00:00:00",
          "2017-05-17T00:00:00",
          "2017-05-18T00:00:00",
          "2017-05-19T00:00:00",
          "2017-05-20T00:00:00",
          "2017-05-21T00:00:00",
          "2017-05-22T00:00:00",
          "2017-05-23T00:00:00",
          "2017-05-24T00:00:00",
          "2017-05-25T00:00:00",
          "2017-05-26T00:00:00",
          "2017-05-27T00:00:00",
          "2017-05-28T00:00:00",
          "2017-05-29T00:00:00",
          "2017-05-30T00:00:00",
          "2017-05-31T00:00:00",
          "2017-06-01T00:00:00",
          "2017-06-02T00:00:00",
          "2017-06-03T00:00:00",
          "2017-06-04T00:00:00",
          "2017-06-05T00:00:00",
          "2017-06-06T00:00:00",
          "2017-06-07T00:00:00",
          "2017-06-08T00:00:00",
          "2017-06-09T00:00:00",
          "2017-06-10T00:00:00",
          "2017-06-11T00:00:00",
          "2017-06-12T00:00:00",
          "2017-06-13T00:00:00",
          "2017-06-14T00:00:00",
          "2017-06-15T00:00:00",
          "2017-06-16T00:00:00",
          "2017-06-17T00:00:00",
          "2017-06-18T00:00:00",
          "2017-06-19T00:00:00",
          "2017-06-20T00:00:00",
          "2017-06-21T00:00:00",
          "2017-06-22T00:00:00",
          "2017-06-23T00:00:00",
          "2017-06-24T00:00:00",
          "2017-06-25T00:00:00",
          "2017-06-26T00:00:00",
          "2017-06-27T00:00:00",
          "2017-06-28T00:00:00",
          "2017-06-29T00:00:00",
          "2017-06-30T00:00:00",
          "2017-07-01T00:00:00",
          "2017-07-02T00:00:00",
          "2017-07-03T00:00:00",
          "2017-07-04T00:00:00",
          "2017-07-05T00:00:00",
          "2017-07-06T00:00:00",
          "2017-07-07T00:00:00",
          "2017-07-08T00:00:00",
          "2017-07-09T00:00:00",
          "2017-07-10T00:00:00",
          "2017-07-11T00:00:00",
          "2017-07-12T00:00:00",
          "2017-07-13T00:00:00",
          "2017-07-14T00:00:00",
          "2017-07-15T00:00:00",
          "2017-07-16T00:00:00",
          "2017-07-17T00:00:00",
          "2017-07-18T00:00:00",
          "2017-07-19T00:00:00",
          "2017-07-20T00:00:00",
          "2017-07-21T00:00:00",
          "2017-07-22T00:00:00",
          "2017-07-23T00:00:00",
          "2017-07-24T00:00:00",
          "2017-07-25T00:00:00",
          "2017-07-26T00:00:00",
          "2017-07-27T00:00:00",
          "2017-07-28T00:00:00",
          "2017-07-29T00:00:00",
          "2017-07-30T00:00:00",
          "2017-07-31T00:00:00",
          "2017-08-01T00:00:00",
          "2017-08-02T00:00:00",
          "2017-08-03T00:00:00",
          "2017-08-04T00:00:00",
          "2017-08-05T00:00:00",
          "2017-08-06T00:00:00",
          "2017-08-07T00:00:00",
          "2017-08-08T00:00:00",
          "2017-08-09T00:00:00",
          "2017-08-10T00:00:00",
          "2017-08-11T00:00:00",
          "2017-08-12T00:00:00",
          "2017-08-13T00:00:00",
          "2017-08-14T00:00:00",
          "2017-08-15T00:00:00",
          "2017-08-16T00:00:00",
          "2017-08-17T00:00:00",
          "2017-08-18T00:00:00",
          "2017-08-19T00:00:00",
          "2017-08-20T00:00:00",
          "2017-08-21T00:00:00",
          "2017-08-22T00:00:00",
          "2017-08-23T00:00:00",
          "2017-08-24T00:00:00",
          "2017-08-25T00:00:00",
          "2017-08-26T00:00:00",
          "2017-08-27T00:00:00",
          "2017-08-28T00:00:00",
          "2017-08-29T00:00:00",
          "2017-08-30T00:00:00",
          "2017-08-31T00:00:00",
          "2017-09-01T00:00:00",
          "2017-09-02T00:00:00",
          "2017-09-03T00:00:00",
          "2017-09-04T00:00:00",
          "2017-09-05T00:00:00",
          "2017-09-06T00:00:00",
          "2017-09-07T00:00:00",
          "2017-09-08T00:00:00",
          "2017-09-09T00:00:00",
          "2017-09-10T00:00:00",
          "2017-09-11T00:00:00",
          "2017-09-12T00:00:00",
          "2017-09-13T00:00:00",
          "2017-09-14T00:00:00",
          "2017-09-15T00:00:00",
          "2017-09-16T00:00:00",
          "2017-09-17T00:00:00",
          "2017-09-18T00:00:00",
          "2017-09-19T00:00:00",
          "2017-09-20T00:00:00",
          "2017-09-21T00:00:00",
          "2017-09-22T00:00:00",
          "2017-09-23T00:00:00",
          "2017-09-24T00:00:00",
          "2017-09-25T00:00:00",
          "2017-09-26T00:00:00",
          "2017-09-27T00:00:00",
          "2017-09-28T00:00:00",
          "2017-09-29T00:00:00",
          "2017-09-30T00:00:00",
          "2017-10-01T00:00:00",
          "2017-10-02T00:00:00",
          "2017-10-03T00:00:00",
          "2017-10-04T00:00:00",
          "2017-10-05T00:00:00",
          "2017-10-06T00:00:00",
          "2017-10-07T00:00:00",
          "2017-10-08T00:00:00",
          "2017-10-09T00:00:00",
          "2017-10-10T00:00:00",
          "2017-10-11T00:00:00",
          "2017-10-12T00:00:00",
          "2017-10-13T00:00:00",
          "2017-10-14T00:00:00",
          "2017-10-15T00:00:00",
          "2017-10-16T00:00:00",
          "2017-10-17T00:00:00",
          "2017-10-18T00:00:00",
          "2017-10-19T00:00:00",
          "2017-10-20T00:00:00",
          "2017-10-21T00:00:00",
          "2017-10-22T00:00:00",
          "2017-10-23T00:00:00",
          "2017-10-24T00:00:00",
          "2017-10-25T00:00:00",
          "2017-10-26T00:00:00",
          "2017-10-27T00:00:00",
          "2017-10-28T00:00:00",
          "2017-10-29T00:00:00",
          "2017-10-30T00:00:00",
          "2017-10-31T00:00:00",
          "2017-11-01T00:00:00",
          "2017-11-02T00:00:00",
          "2017-11-03T00:00:00",
          "2017-11-04T00:00:00",
          "2017-11-05T00:00:00",
          "2017-11-06T00:00:00",
          "2017-11-07T00:00:00",
          "2017-11-08T00:00:00",
          "2017-11-09T00:00:00",
          "2017-11-10T00:00:00",
          "2017-11-11T00:00:00",
          "2017-11-12T00:00:00",
          "2017-11-13T00:00:00",
          "2017-11-14T00:00:00",
          "2017-11-15T00:00:00",
          "2017-11-16T00:00:00",
          "2017-11-17T00:00:00",
          "2017-11-18T00:00:00",
          "2017-11-19T00:00:00",
          "2017-11-20T00:00:00",
          "2017-11-21T00:00:00",
          "2017-11-22T00:00:00",
          "2017-11-24T00:00:00",
          "2017-11-25T00:00:00",
          "2017-11-26T00:00:00",
          "2017-11-27T00:00:00",
          "2017-11-28T00:00:00",
          "2017-11-29T00:00:00",
          "2017-11-30T00:00:00",
          "2017-12-01T00:00:00",
          "2017-12-02T00:00:00",
          "2017-12-03T00:00:00",
          "2017-12-04T00:00:00",
          "2017-12-05T00:00:00",
          "2017-12-06T00:00:00",
          "2017-12-07T00:00:00",
          "2017-12-08T00:00:00",
          "2017-12-09T00:00:00",
          "2017-12-10T00:00:00",
          "2017-12-11T00:00:00",
          "2017-12-12T00:00:00",
          "2017-12-13T00:00:00",
          "2017-12-14T00:00:00",
          "2017-12-15T00:00:00",
          "2017-12-16T00:00:00",
          "2017-12-17T00:00:00",
          "2017-12-18T00:00:00",
          "2017-12-19T00:00:00",
          "2017-12-20T00:00:00",
          "2017-12-21T00:00:00",
          "2017-12-22T00:00:00",
          "2017-12-23T00:00:00",
          "2017-12-24T00:00:00",
          "2017-12-26T00:00:00",
          "2017-12-27T00:00:00",
          "2017-12-28T00:00:00",
          "2017-12-29T00:00:00",
          "2017-12-30T00:00:00",
          "2017-12-31T00:00:00",
          "2018-01-01T00:00:00",
          "2018-01-02T00:00:00",
          "2018-01-03T00:00:00",
          "2018-01-04T00:00:00",
          "2018-01-05T00:00:00",
          "2018-01-06T00:00:00",
          "2018-01-07T00:00:00",
          "2018-01-08T00:00:00",
          "2018-01-09T00:00:00",
          "2018-01-10T00:00:00",
          "2018-01-11T00:00:00",
          "2018-01-12T00:00:00",
          "2018-01-13T00:00:00",
          "2018-01-14T00:00:00",
          "2018-01-15T00:00:00",
          "2018-01-16T00:00:00",
          "2018-01-17T00:00:00",
          "2018-01-18T00:00:00",
          "2018-01-19T00:00:00",
          "2018-01-20T00:00:00",
          "2018-01-21T00:00:00",
          "2018-01-22T00:00:00",
          "2018-01-23T00:00:00",
          "2018-01-24T00:00:00",
          "2018-01-25T00:00:00",
          "2018-01-26T00:00:00",
          "2018-01-27T00:00:00",
          "2018-01-28T00:00:00",
          "2018-01-29T00:00:00",
          "2018-01-30T00:00:00",
          "2018-01-31T00:00:00",
          "2018-02-01T00:00:00",
          "2018-02-02T00:00:00",
          "2018-02-03T00:00:00",
          "2018-02-04T00:00:00",
          "2018-02-05T00:00:00",
          "2018-02-06T00:00:00",
          "2018-02-07T00:00:00",
          "2018-02-08T00:00:00",
          "2018-02-09T00:00:00",
          "2018-02-10T00:00:00",
          "2018-02-11T00:00:00",
          "2018-02-12T00:00:00",
          "2018-02-13T00:00:00",
          "2018-02-14T00:00:00",
          "2018-02-15T00:00:00",
          "2018-02-16T00:00:00",
          "2018-02-17T00:00:00",
          "2018-02-18T00:00:00",
          "2018-02-19T00:00:00",
          "2018-02-20T00:00:00",
          "2018-02-21T00:00:00",
          "2018-02-22T00:00:00",
          "2018-02-23T00:00:00",
          "2018-02-24T00:00:00",
          "2018-02-25T00:00:00",
          "2018-02-26T00:00:00",
          "2018-02-27T00:00:00",
          "2018-02-28T00:00:00",
          "2018-03-01T00:00:00",
          "2018-03-02T00:00:00",
          "2018-03-03T00:00:00",
          "2018-03-04T00:00:00",
          "2018-03-05T00:00:00",
          "2018-03-06T00:00:00",
          "2018-03-07T00:00:00",
          "2018-03-08T00:00:00",
          "2018-03-09T00:00:00",
          "2018-03-10T00:00:00",
          "2018-03-11T00:00:00",
          "2018-03-12T00:00:00",
          "2018-03-13T00:00:00",
          "2018-03-14T00:00:00",
          "2018-03-15T00:00:00",
          "2018-03-16T00:00:00",
          "2018-03-17T00:00:00",
          "2018-03-18T00:00:00",
          "2018-03-19T00:00:00",
          "2018-03-20T00:00:00",
          "2018-03-21T00:00:00",
          "2018-03-22T00:00:00",
          "2018-03-23T00:00:00",
          "2018-03-24T00:00:00",
          "2018-03-25T00:00:00",
          "2018-03-26T00:00:00",
          "2018-03-27T00:00:00",
          "2018-03-28T00:00:00",
          "2018-03-29T00:00:00",
          "2018-03-30T00:00:00",
          "2018-03-31T00:00:00",
          "2018-04-02T00:00:00",
          "2018-04-03T00:00:00",
          "2018-04-04T00:00:00",
          "2018-04-05T00:00:00",
          "2018-04-06T00:00:00",
          "2018-04-07T00:00:00",
          "2018-04-08T00:00:00",
          "2018-04-09T00:00:00",
          "2018-04-10T00:00:00",
          "2018-04-11T00:00:00",
          "2018-04-12T00:00:00",
          "2018-04-13T00:00:00",
          "2018-04-14T00:00:00",
          "2018-04-15T00:00:00",
          "2018-04-16T00:00:00",
          "2018-04-17T00:00:00",
          "2018-04-18T00:00:00",
          "2018-04-19T00:00:00",
          "2018-04-20T00:00:00",
          "2018-04-21T00:00:00",
          "2018-04-22T00:00:00",
          "2018-04-23T00:00:00",
          "2018-04-24T00:00:00",
          "2018-04-25T00:00:00",
          "2018-04-26T00:00:00",
          "2018-04-27T00:00:00",
          "2018-04-28T00:00:00",
          "2018-04-29T00:00:00",
          "2018-04-30T00:00:00",
          "2018-05-01T00:00:00",
          "2018-05-02T00:00:00",
          "2018-05-03T00:00:00",
          "2018-05-04T00:00:00",
          "2018-05-05T00:00:00",
          "2018-05-06T00:00:00",
          "2018-05-07T00:00:00",
          "2018-05-08T00:00:00",
          "2018-05-09T00:00:00",
          "2018-05-10T00:00:00",
          "2018-05-11T00:00:00",
          "2018-05-12T00:00:00",
          "2018-05-13T00:00:00",
          "2018-05-14T00:00:00",
          "2018-05-15T00:00:00",
          "2018-05-16T00:00:00",
          "2018-05-17T00:00:00",
          "2018-05-18T00:00:00",
          "2018-05-19T00:00:00",
          "2018-05-20T00:00:00",
          "2018-05-21T00:00:00",
          "2018-05-22T00:00:00",
          "2018-05-23T00:00:00",
          "2018-05-24T00:00:00",
          "2018-05-25T00:00:00",
          "2018-05-26T00:00:00",
          "2018-05-27T00:00:00",
          "2018-05-28T00:00:00",
          "2018-05-29T00:00:00",
          "2018-05-30T00:00:00",
          "2018-05-31T00:00:00",
          "2018-06-01T00:00:00",
          "2018-06-02T00:00:00",
          "2018-06-03T00:00:00",
          "2018-06-04T00:00:00",
          "2018-06-05T00:00:00",
          "2018-06-06T00:00:00",
          "2018-06-07T00:00:00",
          "2018-06-08T00:00:00",
          "2018-06-09T00:00:00",
          "2018-06-10T00:00:00",
          "2018-06-11T00:00:00",
          "2018-06-12T00:00:00",
          "2018-06-13T00:00:00",
          "2018-06-14T00:00:00",
          "2018-06-15T00:00:00",
          "2018-06-16T00:00:00",
          "2018-06-17T00:00:00",
          "2018-06-18T00:00:00",
          "2018-06-19T00:00:00",
          "2018-06-20T00:00:00",
          "2018-06-21T00:00:00",
          "2018-06-22T00:00:00",
          "2018-06-23T00:00:00",
          "2018-06-24T00:00:00",
          "2018-06-25T00:00:00",
          "2018-06-26T00:00:00",
          "2018-06-27T00:00:00",
          "2018-06-28T00:00:00",
          "2018-06-29T00:00:00",
          "2018-06-30T00:00:00",
          "2018-07-01T00:00:00",
          "2018-07-02T00:00:00",
          "2018-07-03T00:00:00",
          "2018-07-04T00:00:00",
          "2018-07-05T00:00:00",
          "2018-07-06T00:00:00",
          "2018-07-07T00:00:00",
          "2018-07-08T00:00:00",
          "2018-07-09T00:00:00",
          "2018-07-10T00:00:00",
          "2018-07-11T00:00:00",
          "2018-07-12T00:00:00",
          "2018-07-13T00:00:00"
         ],
         "y": [
          2170.55548763656,
          2523.109326080002,
          2734.014582909602,
          2699.068338530288,
          3320.058445761136,
          2964.9436918426927,
          2694.772807229499,
          2960.672919175248,
          3070.331009844686,
          2949.3981299867646,
          2674.662784158675,
          3300.00102612763,
          2116.5612762966844,
          2313.3075373021065,
          2864.294649542003,
          3191.0275202515923,
          2595.4626206862004,
          2828.05069135284,
          2877.4024172324257,
          2965.0554946081675,
          1774.3725817740158,
          2709.8238573304257,
          2489.5382994211845,
          2708.848898782197,
          2947.444090605484,
          3578.317630521909,
          2615.9244183045435,
          2255.874435492369,
          3154.0155766912176,
          2663.136463635756,
          2946.7038039321105,
          2776.1225439976465,
          3310.5632231016484,
          2452.4416167290888,
          1854.9836959060617,
          2507.965268628303,
          2283.4303884481706,
          2862.1022105078937,
          2932.49996137024,
          3744.4840028397,
          2537.9901516497216,
          2674.209194160236,
          2892.712917452286,
          2668.3304857389776,
          3055.6024264220323,
          3185.975452981611,
          2884.881389832065,
          2737.285085460196,
          2579.8610573156584,
          2477.4801827493343,
          2652.285059812995,
          3039.38753631228,
          3208.0322405731795,
          3202.574836976975,
          2832.054973274336,
          2333.1621157261047,
          2885.9851290320307,
          3067.189512033535,
          3286.197513421947,
          3213.5373083119784,
          3484.872213345004,
          2803.88511548874,
          2650.6862448390066,
          2883.2041586006367,
          3134.179495307379,
          3018.836680048132,
          3435.95975102608,
          3527.655793180531,
          2563.481323647421,
          2366.6954251809902,
          2889.5640185743405,
          3252.940703509789,
          3344.616276797811,
          3115.257147280215,
          3584.76039464941,
          2708.629463341254,
          3331.3785718965933,
          3138.678382801987,
          2808.766141606639,
          3009.1937747325387,
          3756.139623941643,
          3667.56181908673,
          2340.9510997963725,
          2590.104191994925,
          2917.1238338119583,
          3168.1131318827347,
          3039.4053584491685,
          3852.923825039181,
          3382.3857009863013,
          2799.26353690039,
          2655.167847197004,
          3029.991524907673,
          3480.220909301398,
          3152.749670150428,
          3149.186746539253,
          3782.810202600639,
          2601.0701812477573,
          2443.134699109573,
          3273.01674904501,
          3164.934087494132,
          2884.213122350244,
          2840.0213690085766,
          3343.5626499518025,
          2694.004446894685,
          3039.772886142203,
          3167.3598541110846,
          3110.485991615215,
          3134.4276219295057,
          3749.554888609106,
          2945.853104403303,
          3123.3089007991475,
          2953.314893877077,
          2676.2122620575715,
          3009.040750052024,
          3021.0713689474555,
          4245.229594258175,
          2709.793295405128,
          2674.772427410217,
          3507.532411179593,
          3699.1231120031134,
          3238.781855244144,
          3304.39324101533,
          3019.656662459932,
          2693.4083395216685,
          2126.322307899124,
          2986.042643820278,
          3215.2323161587387,
          2699.212580998368,
          3274.566572753936,
          3938.268909704429,
          2861.633985282709,
          1861.81061516108,
          2874.72868703589,
          3194.7658260344274,
          3188.3574357097546,
          2955.350422063397,
          3788.635778176344,
          2731.4467974143727,
          2730.8764131602093,
          3044.659572304683,
          2707.898578779177,
          2742.1665739550263,
          3008.155828915131,
          3553.350129534572,
          2408.472424485096,
          1984.317514666737,
          2065.242409686812,
          2680.050064185694,
          2668.055341703692,
          3048.024765664305,
          3228.064165169408,
          3082.191195341012,
          2699.9305368539603,
          2834.2259417125547,
          2920.272521148157,
          2723.1179538635206,
          2735.514370262565,
          3545.441246310239,
          2699.560077234078,
          2468.3804288903234,
          2990.029012181911,
          2704.643949135542,
          3462.856641699848,
          3358.761533514781,
          4063.720333657902,
          2364.664823702874,
          2435.542731340973,
          3077.959996107357,
          3077.105539794155,
          3089.3346512730686,
          3191.348740742,
          3125.11366505104,
          2818.824132572841,
          2607.86601231116,
          3031.1167096522568,
          3024.773359449768,
          2604.966289863682,
          3148.1850104512,
          3028.491531083934,
          2377.1026474270407,
          2637.380184181376,
          3021.425389078463,
          885.5153698880575,
          3004.8074198597205,
          2818.8828693131986,
          3366.1513284627968,
          2762.3003113590803,
          2185.773625199894,
          2875.389130958176,
          2996.522679229585,
          3338.8214216973643,
          2930.557508648395,
          3322.8493111455296,
          2951.729621462197,
          2453.015538665697,
          3135.491629318341,
          2690.2803757808983,
          3226.357558836145,
          2784.882547183636,
          3245.134261087982,
          2217.131916478136,
          2571.113229297096,
          3067.792591849164,
          3215.1975327566893,
          3151.023209981284,
          2749.4188127955304,
          3383.276011606084,
          2598.6659392143147,
          2231.918749622767,
          2939.904388820698,
          2995.1831791750947,
          3034.910500427002,
          3286.710488795275,
          3774.799004468715,
          2696.496533273915,
          2319.1880940808514,
          2534.9101781505447,
          2685.251185319136,
          2960.9802589096043,
          3341.042092810392,
          3541.16902138045,
          2264.443750934951,
          2258.417290462039,
          2764.307277867976,
          2737.981910968484,
          2822.803680290672,
          3036.2189250219126,
          3100.475779647691,
          2294.706950104817,
          2399.921021449231,
          3253.3163424442887,
          3517.9010198818146,
          2681.461173589619,
          2983.0889816177946,
          3468.046394892061,
          2382.989376665877,
          2216.9720607619392,
          3251.6071750978767,
          3067.4705328665414,
          3043.023219353224,
          3475.494794510496,
          3658.9709956271113,
          2466.4976592393496,
          2464.3862971267617,
          1994.3825946111203,
          2867.068049059863,
          2933.170411143851,
          2977.345222160956,
          3567.0812178875008,
          2328.6684498205614,
          2322.227167163369,
          2844.2120026639946,
          2685.172086342991,
          2737.6494881188164,
          3050.492003754472,
          3440.554467932148,
          2126.7468052733407,
          2270.741421734931,
          2680.518037341607,
          2409.0255735498454,
          2941.0216831615903,
          4249.827451557627,
          3039.111062248579,
          2341.51436418419,
          2474.440164483201,
          2734.5646419315467,
          2951.4765463156727,
          3024.451561640503,
          3177.6445262093307,
          3169.827865927474,
          2436.410362240692,
          2419.078256882752,
          2888.910683593678,
          2954.691654558097,
          2276.4306028714395,
          3142.466241081263,
          3220.1586444093427,
          2421.7004998149687,
          2684.250577901813,
          2411.699218944076,
          2782.367210337215,
          2774.5152859990703,
          2711.8845980984856,
          3393.991018955619,
          2545.685098180612,
          2918.4874435372167,
          2998.164356590094,
          2683.10646708596,
          3017.760494720363,
          2723.694791538127,
          3173.518137226424,
          2416.308584694853,
          2313.587096603498,
          3016.7763391174503,
          2686.2357259180067,
          3173.348769969413,
          2816.41324134782,
          2784.571719118947,
          2539.6722530432594,
          2342.24074747098,
          2514.0582403429075,
          3033.087985365025,
          3341.9149043330067,
          2709.742973342461,
          3111.185131233025,
          2639.5579428706133,
          2910.980628369074,
          3189.54062981336,
          2803.5756656253584,
          2839.233802737078,
          2973.3216640010423,
          3359.0927853344983,
          2160.6140902680995,
          2194.515825476931,
          2779.584354435104,
          2695.3673017925084,
          2753.3549317785887,
          2570.4545095368185,
          3350.104084678436,
          2264.423240638665,
          2774.366704664728,
          2848.0420040454583,
          2664.3731021050176,
          2898.9860492199928,
          1932.1412499265707,
          2154.5567761384486,
          2161.104398024781,
          2907.297803594174,
          2917.477450870521,
          2742.665820156445,
          3242.096874026688,
          3763.8249114705072,
          2670.04211816876,
          2955.135564037994,
          2783.623240432127,
          2657.530253108621,
          2873.398550319946,
          2759.882367033361,
          3476.019104424003,
          2662.512210890522,
          2170.3560474351584,
          3001.665617786074,
          3055.0655964606653,
          2743.9556541454926,
          2654.924950032708,
          2972.571361326165,
          2520.016092387385,
          2174.278314961287,
          3002.463717949611,
          5473.059760646735,
          2687.042113188152,
          2286.040562945392,
          2481.7212758704904,
          2037.684933883587,
          973.0575837395248,
          2264.9700211123563,
          2426.077381119328,
          2432.330882818982,
          2629.624666189144,
          2148.8269287134835,
          1413.75152959563,
          1581.6105714884663,
          2309.983808091496,
          2380.4018602194,
          2675.3832705404,
          3244.169132290353,
          2381.3172654354,
          2393.98024421453,
          2120.0862175811976,
          2339.2535005368427,
          2750.490341668613,
          3242.415021617844,
          2923.948557925518,
          2174.6910579611044,
          2569.6625256652114,
          2539.742425249516,
          2407.167779138423,
          2581.250611444379,
          3262.102412480433,
          3292.9001680838523,
          2267.158326006202,
          2090.2365924470364,
          2931.8866972285286,
          2376.1677039320207,
          2713.765262461594,
          3094.3875558660484,
          3517.717993160542,
          2408.259200455929,
          2284.977133026083,
          2871.068928061625,
          2899.7342822893456,
          2808.516011350438,
          3031.2562144749054,
          3618.7258521762815,
          2374.7152271398977,
          2038.120870447476,
          2802.3934840752,
          2402.038950297444,
          2766.214050959227,
          3006.962737630257,
          3365.473750484453,
          3336.636259726276,
          2745.362020323649,
          2275.4662015189297,
          2430.972078816451,
          2722.267468278644,
          2833.138082086661,
          2985.1241783266005,
          2223.532648488607,
          2668.27477048187,
          2264.383163897524,
          2730.2580419878864,
          2718.710874082522,
          3113.3561320660497,
          3087.460237982701,
          3059.533335866802,
          2340.624723454318,
          2840.7930380561256,
          2733.255559892099,
          2595.153730664521,
          3453.948835709221,
          3478.698332751733,
          2600.041439883958,
          2846.9207072570834,
          2973.838360937747,
          2894.09010695658,
          2928.094552420277,
          2811.057818169769,
          3628.802614418772,
          2457.063998991582,
          2513.785699831408,
          2771.210464131028,
          2406.481149045462,
          2920.64293254441,
          3008.4633381831886,
          3031.329204087474,
          2514.3650940286125,
          2609.1760478366286,
          3058.8374480992725,
          2639.008440721314,
          2345.901704121392,
          2788.295507778956,
          2888.302028852754,
          2572.364216462437,
          2549.258254942077,
          3172.100595011465,
          2900.503138439669,
          3157.047478643037,
          3036.29877127231,
          3019.081441518786,
          2556.974181345028,
          2843.855000246211,
          3110.698035025666,
          2840.9343631466377,
          3238.826684971081,
          3446.914228780396,
          2444.200007377469,
          2538.382696925353,
          2785.019997859688,
          2985.181036483308,
          2652.675722825276,
          3034.2838592670096,
          4245.076669329942,
          2632.2500178822306,
          2531.145214619747,
          2944.035374750849,
          3091.171993755469,
          3027.7237133105,
          3187.6879666569453,
          3734.831344707856,
          3017.111409127001,
          2616.818326079827,
          2931.895705837639,
          2603.518405216208,
          3009.5569990000863,
          2916.3077315215683,
          3574.631184366678,
          2437.338477713257,
          2346.91667426467,
          2546.7325579974045,
          2587.02170115676,
          2367.043892115205,
          2955.95427511883,
          3857.225812728444,
          2530.2940798075183,
          2559.8878957851643,
          3178.2390695651134,
          3610.688511987904,
          3268.312328666945,
          3696.350362870661,
          3219.365665873654,
          2078.9204949857394,
          1796.6752821063365,
          2829.399010201731,
          2726.175255064189,
          2919.96600412143,
          2920.728680471807,
          3340.1231646917463,
          2366.1898937016927,
          2315.1538822445305,
          2971.1520088778266,
          2819.560031314088,
          2832.0495857851274,
          3231.552802434988,
          2636.9208963566925,
          1948.6825147691268,
          1868.01695632592,
          2301.151048507408,
          2588.1337885044904,
          4230.313605577822,
          3219.3452726528726,
          3354.9745397040865,
          2491.027257350573,
          2632.7263585870246,
          3092.861519348282,
          2947.792940470453,
          3572.187412145089,
          3232.804474514247,
          3051.459328292404,
          2527.872070171169,
          2642.045941599509,
          2938.870081481945,
          3032.6730188760685,
          3523.8050483732663,
          3250.4233248690075,
          2958.045915048982,
          2146.135427374319,
          1569.0816956809456,
          3067.4098796383087,
          2807.752268491616,
          3041.4770468669763,
          2870.0422617762824,
          3271.15144907558,
          2482.968795892714,
          2482.263108183463,
          3124.853184795552,
          3024.417529827824,
          2749.7394894446875,
          2942.450791002474,
          2964.4005391423343,
          2349.16505503362,
          2299.0231999296475,
          3018.603510628748,
          2798.876625553424,
          697.5387135901726,
          3297.777084734157,
          3079.3617493949314,
          2259.1981036856528,
          2549.899434897537,
          3492.8473659235506,
          2867.302917310678,
          3187.097852990368,
          2808.8275487014703,
          3527.4881645502733
         ]
        },
        {
         "line": {
          "color": "LightSkyBlue"
         },
         "mode": "lines+markers",
         "name": "Test Actual",
         "type": "scatter",
         "x": [
          "2018-07-14T00:00:00",
          "2018-07-15T00:00:00",
          "2018-07-16T00:00:00",
          "2018-07-17T00:00:00",
          "2018-07-18T00:00:00",
          "2018-07-19T00:00:00",
          "2018-07-20T00:00:00",
          "2018-07-21T00:00:00",
          "2018-07-22T00:00:00",
          "2018-07-23T00:00:00",
          "2018-07-24T00:00:00",
          "2018-07-25T00:00:00",
          "2018-07-26T00:00:00",
          "2018-07-27T00:00:00",
          "2018-07-28T00:00:00",
          "2018-07-29T00:00:00",
          "2018-07-30T00:00:00",
          "2018-07-31T00:00:00",
          "2018-08-01T00:00:00",
          "2018-08-02T00:00:00",
          "2018-08-03T00:00:00",
          "2018-08-04T00:00:00",
          "2018-08-05T00:00:00",
          "2018-08-06T00:00:00",
          "2018-08-07T00:00:00",
          "2018-08-08T00:00:00",
          "2018-08-09T00:00:00",
          "2018-08-10T00:00:00",
          "2018-08-11T00:00:00",
          "2018-08-12T00:00:00",
          "2018-08-13T00:00:00",
          "2018-08-14T00:00:00",
          "2018-08-15T00:00:00",
          "2018-08-16T00:00:00",
          "2018-08-17T00:00:00",
          "2018-08-18T00:00:00",
          "2018-08-19T00:00:00",
          "2018-08-20T00:00:00",
          "2018-08-21T00:00:00",
          "2018-08-22T00:00:00",
          "2018-08-23T00:00:00",
          "2018-08-24T00:00:00",
          "2018-08-25T00:00:00",
          "2018-08-26T00:00:00",
          "2018-08-27T00:00:00",
          "2018-08-28T00:00:00",
          "2018-08-29T00:00:00",
          "2018-08-30T00:00:00",
          "2018-08-31T00:00:00",
          "2018-09-01T00:00:00",
          "2018-09-02T00:00:00",
          "2018-09-03T00:00:00",
          "2018-09-04T00:00:00",
          "2018-09-05T00:00:00",
          "2018-09-06T00:00:00",
          "2018-09-07T00:00:00",
          "2018-09-08T00:00:00",
          "2018-09-09T00:00:00",
          "2018-09-10T00:00:00",
          "2018-09-11T00:00:00",
          "2018-09-12T00:00:00",
          "2018-09-13T00:00:00",
          "2018-09-14T00:00:00",
          "2018-09-15T00:00:00",
          "2018-09-16T00:00:00",
          "2018-09-17T00:00:00",
          "2018-09-18T00:00:00",
          "2018-09-19T00:00:00",
          "2018-09-20T00:00:00",
          "2018-09-21T00:00:00",
          "2018-09-22T00:00:00",
          "2018-09-23T00:00:00",
          "2018-09-24T00:00:00",
          "2018-09-25T00:00:00",
          "2018-09-26T00:00:00",
          "2018-09-27T00:00:00",
          "2018-09-28T00:00:00",
          "2018-09-29T00:00:00",
          "2018-09-30T00:00:00",
          "2018-10-01T00:00:00",
          "2018-10-02T00:00:00",
          "2018-10-03T00:00:00",
          "2018-10-04T00:00:00",
          "2018-10-05T00:00:00",
          "2018-10-06T00:00:00",
          "2018-10-07T00:00:00",
          "2018-10-08T00:00:00",
          "2018-10-09T00:00:00",
          "2018-10-10T00:00:00",
          "2018-10-11T00:00:00",
          "2018-10-12T00:00:00",
          "2018-10-13T00:00:00",
          "2018-10-14T00:00:00",
          "2018-10-15T00:00:00",
          "2018-10-16T00:00:00",
          "2018-10-17T00:00:00",
          "2018-10-18T00:00:00",
          "2018-10-19T00:00:00",
          "2018-10-20T00:00:00",
          "2018-10-21T00:00:00",
          "2018-10-22T00:00:00",
          "2018-10-23T00:00:00",
          "2018-10-24T00:00:00",
          "2018-10-25T00:00:00",
          "2018-10-26T00:00:00",
          "2018-10-27T00:00:00",
          "2018-10-28T00:00:00",
          "2018-10-29T00:00:00",
          "2018-10-30T00:00:00",
          "2018-10-31T00:00:00",
          "2018-11-01T00:00:00",
          "2018-11-02T00:00:00",
          "2018-11-03T00:00:00",
          "2018-11-04T00:00:00",
          "2018-11-05T00:00:00",
          "2018-11-06T00:00:00",
          "2018-11-07T00:00:00",
          "2018-11-08T00:00:00",
          "2018-11-09T00:00:00",
          "2018-11-10T00:00:00",
          "2018-11-11T00:00:00",
          "2018-11-12T00:00:00",
          "2018-11-13T00:00:00",
          "2018-11-14T00:00:00",
          "2018-11-15T00:00:00",
          "2018-11-16T00:00:00",
          "2018-11-17T00:00:00",
          "2018-11-18T00:00:00",
          "2018-11-19T00:00:00",
          "2018-11-20T00:00:00",
          "2018-11-21T00:00:00",
          "2018-11-23T00:00:00",
          "2018-11-24T00:00:00",
          "2018-11-25T00:00:00",
          "2018-11-26T00:00:00",
          "2018-11-27T00:00:00",
          "2018-11-28T00:00:00",
          "2018-11-29T00:00:00",
          "2018-11-30T00:00:00"
         ],
         "y": [
          2610.950844135771,
          2350.3359341385467,
          3014.025726769526,
          2648.439035447395,
          2934.9541816451447,
          2600.6080462375,
          3170.704144862786,
          2333.4232309636072,
          2507.6649599435136,
          3096.10732750074,
          3003.729634776756,
          3207.9907834378,
          2710.5581543579133,
          3209.183552163732,
          2302.215057006447,
          2826.99632174378,
          3053.502702387929,
          3140.312701938248,
          3104.1948712920966,
          2920.702165802448,
          3267.249667720185,
          2382.102649289081,
          2738.825071602236,
          2970.529035459508,
          2692.777910534818,
          3023.468986243988,
          2985.6257483371305,
          3280.510172105039,
          2171.3761163459176,
          2664.086267574811,
          2619.992789589079,
          2935.7096798183434,
          2851.754355443001,
          2667.540684778799,
          3027.154609440132,
          2828.601648691242,
          3033.201634290217,
          2900.1940729943303,
          2651.557617782062,
          2985.412606433292,
          3553.474643153852,
          2961.032929490417,
          2101.150411713799,
          2379.638884924727,
          2626.4780403750024,
          2664.888787657013,
          2886.028618764558,
          2981.549579731658,
          2791.58565195824,
          2069.831442651712,
          2027.544082431019,
          2183.435579376945,
          2567.433346998356,
          4048.01344551858,
          2397.8073166245663,
          3533.6055423936086,
          2616.435927864331,
          2253.258668217089,
          2746.8458160312784,
          2538.024775796717,
          2842.3731266213576,
          2699.587191854638,
          3268.281167520407,
          2389.675977815232,
          2299.6530110108115,
          2951.802011605939,
          2990.0320065822248,
          2839.6496492463293,
          3000.4803217378308,
          3283.4070280911374,
          2902.71905034278,
          2284.4020991401208,
          3157.5258958517697,
          3411.522530840376,
          3149.8688902716367,
          3204.463408798764,
          3348.9539175297805,
          1922.6426467462784,
          2204.1644438443973,
          2635.256077544004,
          3240.357055160948,
          3312.2680237386926,
          3041.8307463530423,
          3279.452223688693,
          1882.9182435314087,
          2191.5492913180738,
          2764.0410025527426,
          3033.695597369049,
          3066.386868437716,
          2831.5552201265773,
          3312.785678116848,
          2671.74033742689,
          2946.13659774719,
          3166.2433259101267,
          2809.646735170462,
          3087.8187047506885,
          2960.078416766663,
          3239.428639142466,
          2371.901925935473,
          2348.363100682733,
          2665.5931435949906,
          2448.8577617291844,
          2785.609122338063,
          2926.7493048934857,
          3216.149299496004,
          2896.862984181841,
          2543.954422305749,
          3065.137780018462,
          2953.2286573553,
          2888.625543158262,
          3768.155735187968,
          3299.0668604004427,
          2997.5756346007947,
          2620.8100819597607,
          2724.721140427482,
          2748.326271378141,
          3120.0942896024617,
          2667.1524602714044,
          3664.892613252555,
          2263.1677370468024,
          1786.0910834483582,
          2423.521808709668,
          2607.062545011261,
          2644.5591923373995,
          2623.491916502204,
          3013.0947288400966,
          2261.661269351466,
          2255.65832486942,
          2763.247405171046,
          2759.465855330458,
          2495.443234496792,
          1642.331046102604,
          2186.531608696884,
          2599.3153229806007,
          2567.725141344498,
          2480.132092529648,
          2716.229756918465,
          3010.1987179914386,
          2839.90947559726
         ]
        },
        {
         "line": {
          "color": "lightcoral"
         },
         "mode": "lines+markers",
         "name": "Test Predicted",
         "type": "scatter",
         "x": [
          "2018-07-14T00:00:00",
          "2018-07-15T00:00:00",
          "2018-07-16T00:00:00",
          "2018-07-17T00:00:00",
          "2018-07-18T00:00:00",
          "2018-07-19T00:00:00",
          "2018-07-20T00:00:00",
          "2018-07-21T00:00:00",
          "2018-07-22T00:00:00",
          "2018-07-23T00:00:00",
          "2018-07-24T00:00:00",
          "2018-07-25T00:00:00",
          "2018-07-26T00:00:00",
          "2018-07-27T00:00:00",
          "2018-07-28T00:00:00",
          "2018-07-29T00:00:00",
          "2018-07-30T00:00:00",
          "2018-07-31T00:00:00",
          "2018-08-01T00:00:00",
          "2018-08-02T00:00:00",
          "2018-08-03T00:00:00",
          "2018-08-04T00:00:00",
          "2018-08-05T00:00:00",
          "2018-08-06T00:00:00",
          "2018-08-07T00:00:00",
          "2018-08-08T00:00:00",
          "2018-08-09T00:00:00",
          "2018-08-10T00:00:00",
          "2018-08-11T00:00:00",
          "2018-08-12T00:00:00",
          "2018-08-13T00:00:00",
          "2018-08-14T00:00:00",
          "2018-08-15T00:00:00",
          "2018-08-16T00:00:00",
          "2018-08-17T00:00:00",
          "2018-08-18T00:00:00",
          "2018-08-19T00:00:00",
          "2018-08-20T00:00:00",
          "2018-08-21T00:00:00",
          "2018-08-22T00:00:00",
          "2018-08-23T00:00:00",
          "2018-08-24T00:00:00",
          "2018-08-25T00:00:00",
          "2018-08-26T00:00:00",
          "2018-08-27T00:00:00",
          "2018-08-28T00:00:00",
          "2018-08-29T00:00:00",
          "2018-08-30T00:00:00",
          "2018-08-31T00:00:00",
          "2018-09-01T00:00:00",
          "2018-09-02T00:00:00",
          "2018-09-03T00:00:00",
          "2018-09-04T00:00:00",
          "2018-09-05T00:00:00",
          "2018-09-06T00:00:00",
          "2018-09-07T00:00:00",
          "2018-09-08T00:00:00",
          "2018-09-09T00:00:00",
          "2018-09-10T00:00:00",
          "2018-09-11T00:00:00",
          "2018-09-12T00:00:00",
          "2018-09-13T00:00:00",
          "2018-09-14T00:00:00",
          "2018-09-15T00:00:00",
          "2018-09-16T00:00:00",
          "2018-09-17T00:00:00",
          "2018-09-18T00:00:00",
          "2018-09-19T00:00:00",
          "2018-09-20T00:00:00",
          "2018-09-21T00:00:00",
          "2018-09-22T00:00:00",
          "2018-09-23T00:00:00",
          "2018-09-24T00:00:00",
          "2018-09-25T00:00:00",
          "2018-09-26T00:00:00",
          "2018-09-27T00:00:00",
          "2018-09-28T00:00:00",
          "2018-09-29T00:00:00",
          "2018-09-30T00:00:00",
          "2018-10-01T00:00:00",
          "2018-10-02T00:00:00",
          "2018-10-03T00:00:00",
          "2018-10-04T00:00:00",
          "2018-10-05T00:00:00",
          "2018-10-06T00:00:00",
          "2018-10-07T00:00:00",
          "2018-10-08T00:00:00",
          "2018-10-09T00:00:00",
          "2018-10-10T00:00:00",
          "2018-10-11T00:00:00",
          "2018-10-12T00:00:00",
          "2018-10-13T00:00:00",
          "2018-10-14T00:00:00",
          "2018-10-15T00:00:00",
          "2018-10-16T00:00:00",
          "2018-10-17T00:00:00",
          "2018-10-18T00:00:00",
          "2018-10-19T00:00:00",
          "2018-10-20T00:00:00",
          "2018-10-21T00:00:00",
          "2018-10-22T00:00:00",
          "2018-10-23T00:00:00",
          "2018-10-24T00:00:00",
          "2018-10-25T00:00:00",
          "2018-10-26T00:00:00",
          "2018-10-27T00:00:00",
          "2018-10-28T00:00:00",
          "2018-10-29T00:00:00",
          "2018-10-30T00:00:00",
          "2018-10-31T00:00:00",
          "2018-11-01T00:00:00",
          "2018-11-02T00:00:00",
          "2018-11-03T00:00:00",
          "2018-11-04T00:00:00",
          "2018-11-05T00:00:00",
          "2018-11-06T00:00:00",
          "2018-11-07T00:00:00",
          "2018-11-08T00:00:00",
          "2018-11-09T00:00:00",
          "2018-11-10T00:00:00",
          "2018-11-11T00:00:00",
          "2018-11-12T00:00:00",
          "2018-11-13T00:00:00",
          "2018-11-14T00:00:00",
          "2018-11-15T00:00:00",
          "2018-11-16T00:00:00",
          "2018-11-17T00:00:00",
          "2018-11-18T00:00:00",
          "2018-11-19T00:00:00",
          "2018-11-20T00:00:00",
          "2018-11-21T00:00:00",
          "2018-11-23T00:00:00",
          "2018-11-24T00:00:00",
          "2018-11-25T00:00:00",
          "2018-11-26T00:00:00",
          "2018-11-27T00:00:00",
          "2018-11-28T00:00:00",
          "2018-11-29T00:00:00",
          "2018-11-30T00:00:00"
         ],
         "y": [
          2823.505859375,
          2488.705078125,
          3090.867431640625,
          2775.738525390625,
          3182.251220703125,
          2755.253662109375,
          3227.271240234375,
          2337.517822265625,
          2515.408203125,
          3092.447021484375,
          3133.774169921875,
          3160.64208984375,
          2811.9501953125,
          3389.9306640625,
          2529.5126953125,
          2280.03857421875,
          2940.29345703125,
          2921.064208984375,
          3037.645751953125,
          3301.981201171875,
          3733.271484375,
          2693.3447265625,
          2327.302978515625,
          2558.6611328125,
          2690.34619140625,
          2948.850830078125,
          3298.50341796875,
          3534.833984375,
          2317.879150390625,
          2260.885009765625,
          2733.559814453125,
          2772.284423828125,
          2795.130859375,
          3004.4462890625,
          3199.052001953125,
          2282.920166015625,
          2357.807861328125,
          3268.95458984375,
          3433.613525390625,
          2757.428466796875,
          2996.584716796875,
          3416.333740234375,
          2370.65380859375,
          2252.005126953125,
          3219.2431640625,
          3128.033203125,
          3047.953857421875,
          3446.455078125,
          3714.76220703125,
          2475.234619140625,
          2448.68115234375,
          2041.9989013671875,
          2821.704345703125,
          2888.003173828125,
          3053.68994140625,
          3501.970703125,
          2315.6328125,
          2346.683349609375,
          2799.961181640625,
          2696.521484375,
          2772.164794921875,
          3056.646728515625,
          3416.548583984375,
          2165.74658203125,
          2251.060791015625,
          2676.48583984375,
          2436.859619140625,
          2937.09033203125,
          4163.6103515625,
          3106.900146484375,
          2344.443115234375,
          2463.0810546875,
          2754.635498046875,
          2952.0087890625,
          2985.93017578125,
          3205.12841796875,
          3173.87109375,
          2422.005615234375,
          2430.126953125,
          2868.622314453125,
          2938.70849609375,
          2357.371337890625,
          3097.40283203125,
          3224.27099609375,
          2426.173828125,
          2678.92041015625,
          2444.578857421875,
          2762.515869140625,
          2744.339599609375,
          2751.374267578125,
          3367.53662109375,
          2572.826904296875,
          2889.09033203125,
          2977.25830078125,
          2704.030029296875,
          3011.647216796875,
          2733.5380859375,
          3149.7529296875,
          2414.44140625,
          2340.198974609375,
          3010.802490234375,
          2721.15625,
          3138.39013671875,
          2809.32958984375,
          2863.612548828125,
          2487.508544921875,
          2354.289794921875,
          2542.1171875,
          2997.554931640625,
          3174.173095703125,
          2722.22509765625,
          3115.093017578125,
          2640.297607421875,
          2887.962646484375,
          3168.310791015625,
          2812.992431640625,
          2864.236572265625,
          2937.6884765625,
          3348.19677734375,
          2162.492919921875,
          2222.399658203125,
          2783.864501953125,
          2696.027099609375,
          2736.488037109375,
          2603.740478515625,
          3307.1865234375,
          2309.063232421875,
          2746.552734375,
          2844.08251953125,
          2667.475341796875,
          2889.512939453125,
          1970.46630859375,
          2126.28271484375,
          2181.012939453125,
          2908.38232421875,
          2905.044677734375,
          2766.515869140625,
          3224.32373046875,
          3704.68603515625
         ]
        }
       ],
       "layout": {
        "legend": {
         "title": {
          "text": "Type"
         }
        },
        "shapes": [
         {
          "line": {
           "color": "lightgray",
           "dash": "dot",
           "width": 2
          },
          "type": "line",
          "x0": "2018-07-14T00:00:00",
          "x1": "2018-07-14T00:00:00",
          "xref": "x",
          "y0": 0,
          "y1": 1,
          "yref": "y domain"
         }
        ],
        "template": {
         "data": {
          "bar": [
           {
            "error_x": {
             "color": "#2a3f5f"
            },
            "error_y": {
             "color": "#2a3f5f"
            },
            "marker": {
             "line": {
              "color": "#E5ECF6",
              "width": 0.5
             },
             "pattern": {
              "fillmode": "overlay",
              "size": 10,
              "solidity": 0.2
             }
            },
            "type": "bar"
           }
          ],
          "barpolar": [
           {
            "marker": {
             "line": {
              "color": "#E5ECF6",
              "width": 0.5
             },
             "pattern": {
              "fillmode": "overlay",
              "size": 10,
              "solidity": 0.2
             }
            },
            "type": "barpolar"
           }
          ],
          "carpet": [
           {
            "aaxis": {
             "endlinecolor": "#2a3f5f",
             "gridcolor": "white",
             "linecolor": "white",
             "minorgridcolor": "white",
             "startlinecolor": "#2a3f5f"
            },
            "baxis": {
             "endlinecolor": "#2a3f5f",
             "gridcolor": "white",
             "linecolor": "white",
             "minorgridcolor": "white",
             "startlinecolor": "#2a3f5f"
            },
            "type": "carpet"
           }
          ],
          "choropleth": [
           {
            "colorbar": {
             "outlinewidth": 0,
             "ticks": ""
            },
            "type": "choropleth"
           }
          ],
          "contour": [
           {
            "colorbar": {
             "outlinewidth": 0,
             "ticks": ""
            },
            "colorscale": [
             [
              0,
              "#0d0887"
             ],
             [
              0.1111111111111111,
              "#46039f"
             ],
             [
              0.2222222222222222,
              "#7201a8"
             ],
             [
              0.3333333333333333,
              "#9c179e"
             ],
             [
              0.4444444444444444,
              "#bd3786"
             ],
             [
              0.5555555555555556,
              "#d8576b"
             ],
             [
              0.6666666666666666,
              "#ed7953"
             ],
             [
              0.7777777777777778,
              "#fb9f3a"
             ],
             [
              0.8888888888888888,
              "#fdca26"
             ],
             [
              1,
              "#f0f921"
             ]
            ],
            "type": "contour"
           }
          ],
          "contourcarpet": [
           {
            "colorbar": {
             "outlinewidth": 0,
             "ticks": ""
            },
            "type": "contourcarpet"
           }
          ],
          "heatmap": [
           {
            "colorbar": {
             "outlinewidth": 0,
             "ticks": ""
            },
            "colorscale": [
             [
              0,
              "#0d0887"
             ],
             [
              0.1111111111111111,
              "#46039f"
             ],
             [
              0.2222222222222222,
              "#7201a8"
             ],
             [
              0.3333333333333333,
              "#9c179e"
             ],
             [
              0.4444444444444444,
              "#bd3786"
             ],
             [
              0.5555555555555556,
              "#d8576b"
             ],
             [
              0.6666666666666666,
              "#ed7953"
             ],
             [
              0.7777777777777778,
              "#fb9f3a"
             ],
             [
              0.8888888888888888,
              "#fdca26"
             ],
             [
              1,
              "#f0f921"
             ]
            ],
            "type": "heatmap"
           }
          ],
          "heatmapgl": [
           {
            "colorbar": {
             "outlinewidth": 0,
             "ticks": ""
            },
            "colorscale": [
             [
              0,
              "#0d0887"
             ],
             [
              0.1111111111111111,
              "#46039f"
             ],
             [
              0.2222222222222222,
              "#7201a8"
             ],
             [
              0.3333333333333333,
              "#9c179e"
             ],
             [
              0.4444444444444444,
              "#bd3786"
             ],
             [
              0.5555555555555556,
              "#d8576b"
             ],
             [
              0.6666666666666666,
              "#ed7953"
             ],
             [
              0.7777777777777778,
              "#fb9f3a"
             ],
             [
              0.8888888888888888,
              "#fdca26"
             ],
             [
              1,
              "#f0f921"
             ]
            ],
            "type": "heatmapgl"
           }
          ],
          "histogram": [
           {
            "marker": {
             "pattern": {
              "fillmode": "overlay",
              "size": 10,
              "solidity": 0.2
             }
            },
            "type": "histogram"
           }
          ],
          "histogram2d": [
           {
            "colorbar": {
             "outlinewidth": 0,
             "ticks": ""
            },
            "colorscale": [
             [
              0,
              "#0d0887"
             ],
             [
              0.1111111111111111,
              "#46039f"
             ],
             [
              0.2222222222222222,
              "#7201a8"
             ],
             [
              0.3333333333333333,
              "#9c179e"
             ],
             [
              0.4444444444444444,
              "#bd3786"
             ],
             [
              0.5555555555555556,
              "#d8576b"
             ],
             [
              0.6666666666666666,
              "#ed7953"
             ],
             [
              0.7777777777777778,
              "#fb9f3a"
             ],
             [
              0.8888888888888888,
              "#fdca26"
             ],
             [
              1,
              "#f0f921"
             ]
            ],
            "type": "histogram2d"
           }
          ],
          "histogram2dcontour": [
           {
            "colorbar": {
             "outlinewidth": 0,
             "ticks": ""
            },
            "colorscale": [
             [
              0,
              "#0d0887"
             ],
             [
              0.1111111111111111,
              "#46039f"
             ],
             [
              0.2222222222222222,
              "#7201a8"
             ],
             [
              0.3333333333333333,
              "#9c179e"
             ],
             [
              0.4444444444444444,
              "#bd3786"
             ],
             [
              0.5555555555555556,
              "#d8576b"
             ],
             [
              0.6666666666666666,
              "#ed7953"
             ],
             [
              0.7777777777777778,
              "#fb9f3a"
             ],
             [
              0.8888888888888888,
              "#fdca26"
             ],
             [
              1,
              "#f0f921"
             ]
            ],
            "type": "histogram2dcontour"
           }
          ],
          "mesh3d": [
           {
            "colorbar": {
             "outlinewidth": 0,
             "ticks": ""
            },
            "type": "mesh3d"
           }
          ],
          "parcoords": [
           {
            "line": {
             "colorbar": {
              "outlinewidth": 0,
              "ticks": ""
             }
            },
            "type": "parcoords"
           }
          ],
          "pie": [
           {
            "automargin": true,
            "type": "pie"
           }
          ],
          "scatter": [
           {
            "fillpattern": {
             "fillmode": "overlay",
             "size": 10,
             "solidity": 0.2
            },
            "type": "scatter"
           }
          ],
          "scatter3d": [
           {
            "line": {
             "colorbar": {
              "outlinewidth": 0,
              "ticks": ""
             }
            },
            "marker": {
             "colorbar": {
              "outlinewidth": 0,
              "ticks": ""
             }
            },
            "type": "scatter3d"
           }
          ],
          "scattercarpet": [
           {
            "marker": {
             "colorbar": {
              "outlinewidth": 0,
              "ticks": ""
             }
            },
            "type": "scattercarpet"
           }
          ],
          "scattergeo": [
           {
            "marker": {
             "colorbar": {
              "outlinewidth": 0,
              "ticks": ""
             }
            },
            "type": "scattergeo"
           }
          ],
          "scattergl": [
           {
            "marker": {
             "colorbar": {
              "outlinewidth": 0,
              "ticks": ""
             }
            },
            "type": "scattergl"
           }
          ],
          "scattermapbox": [
           {
            "marker": {
             "colorbar": {
              "outlinewidth": 0,
              "ticks": ""
             }
            },
            "type": "scattermapbox"
           }
          ],
          "scatterpolar": [
           {
            "marker": {
             "colorbar": {
              "outlinewidth": 0,
              "ticks": ""
             }
            },
            "type": "scatterpolar"
           }
          ],
          "scatterpolargl": [
           {
            "marker": {
             "colorbar": {
              "outlinewidth": 0,
              "ticks": ""
             }
            },
            "type": "scatterpolargl"
           }
          ],
          "scatterternary": [
           {
            "marker": {
             "colorbar": {
              "outlinewidth": 0,
              "ticks": ""
             }
            },
            "type": "scatterternary"
           }
          ],
          "surface": [
           {
            "colorbar": {
             "outlinewidth": 0,
             "ticks": ""
            },
            "colorscale": [
             [
              0,
              "#0d0887"
             ],
             [
              0.1111111111111111,
              "#46039f"
             ],
             [
              0.2222222222222222,
              "#7201a8"
             ],
             [
              0.3333333333333333,
              "#9c179e"
             ],
             [
              0.4444444444444444,
              "#bd3786"
             ],
             [
              0.5555555555555556,
              "#d8576b"
             ],
             [
              0.6666666666666666,
              "#ed7953"
             ],
             [
              0.7777777777777778,
              "#fb9f3a"
             ],
             [
              0.8888888888888888,
              "#fdca26"
             ],
             [
              1,
              "#f0f921"
             ]
            ],
            "type": "surface"
           }
          ],
          "table": [
           {
            "cells": {
             "fill": {
              "color": "#EBF0F8"
             },
             "line": {
              "color": "white"
             }
            },
            "header": {
             "fill": {
              "color": "#C8D4E3"
             },
             "line": {
              "color": "white"
             }
            },
            "type": "table"
           }
          ]
         },
         "layout": {
          "annotationdefaults": {
           "arrowcolor": "#2a3f5f",
           "arrowhead": 0,
           "arrowwidth": 1
          },
          "autotypenumbers": "strict",
          "coloraxis": {
           "colorbar": {
            "outlinewidth": 0,
            "ticks": ""
           }
          },
          "colorscale": {
           "diverging": [
            [
             0,
             "#8e0152"
            ],
            [
             0.1,
             "#c51b7d"
            ],
            [
             0.2,
             "#de77ae"
            ],
            [
             0.3,
             "#f1b6da"
            ],
            [
             0.4,
             "#fde0ef"
            ],
            [
             0.5,
             "#f7f7f7"
            ],
            [
             0.6,
             "#e6f5d0"
            ],
            [
             0.7,
             "#b8e186"
            ],
            [
             0.8,
             "#7fbc41"
            ],
            [
             0.9,
             "#4d9221"
            ],
            [
             1,
             "#276419"
            ]
           ],
           "sequential": [
            [
             0,
             "#0d0887"
            ],
            [
             0.1111111111111111,
             "#46039f"
            ],
            [
             0.2222222222222222,
             "#7201a8"
            ],
            [
             0.3333333333333333,
             "#9c179e"
            ],
            [
             0.4444444444444444,
             "#bd3786"
            ],
            [
             0.5555555555555556,
             "#d8576b"
            ],
            [
             0.6666666666666666,
             "#ed7953"
            ],
            [
             0.7777777777777778,
             "#fb9f3a"
            ],
            [
             0.8888888888888888,
             "#fdca26"
            ],
            [
             1,
             "#f0f921"
            ]
           ],
           "sequentialminus": [
            [
             0,
             "#0d0887"
            ],
            [
             0.1111111111111111,
             "#46039f"
            ],
            [
             0.2222222222222222,
             "#7201a8"
            ],
            [
             0.3333333333333333,
             "#9c179e"
            ],
            [
             0.4444444444444444,
             "#bd3786"
            ],
            [
             0.5555555555555556,
             "#d8576b"
            ],
            [
             0.6666666666666666,
             "#ed7953"
            ],
            [
             0.7777777777777778,
             "#fb9f3a"
            ],
            [
             0.8888888888888888,
             "#fdca26"
            ],
            [
             1,
             "#f0f921"
            ]
           ]
          },
          "colorway": [
           "#636efa",
           "#EF553B",
           "#00cc96",
           "#ab63fa",
           "#FFA15A",
           "#19d3f3",
           "#FF6692",
           "#B6E880",
           "#FF97FF",
           "#FECB52"
          ],
          "font": {
           "color": "#2a3f5f"
          },
          "geo": {
           "bgcolor": "white",
           "lakecolor": "white",
           "landcolor": "#E5ECF6",
           "showlakes": true,
           "showland": true,
           "subunitcolor": "white"
          },
          "hoverlabel": {
           "align": "left"
          },
          "hovermode": "closest",
          "mapbox": {
           "style": "light"
          },
          "paper_bgcolor": "white",
          "plot_bgcolor": "#E5ECF6",
          "polar": {
           "angularaxis": {
            "gridcolor": "white",
            "linecolor": "white",
            "ticks": ""
           },
           "bgcolor": "#E5ECF6",
           "radialaxis": {
            "gridcolor": "white",
            "linecolor": "white",
            "ticks": ""
           }
          },
          "scene": {
           "xaxis": {
            "backgroundcolor": "#E5ECF6",
            "gridcolor": "white",
            "gridwidth": 2,
            "linecolor": "white",
            "showbackground": true,
            "ticks": "",
            "zerolinecolor": "white"
           },
           "yaxis": {
            "backgroundcolor": "#E5ECF6",
            "gridcolor": "white",
            "gridwidth": 2,
            "linecolor": "white",
            "showbackground": true,
            "ticks": "",
            "zerolinecolor": "white"
           },
           "zaxis": {
            "backgroundcolor": "#E5ECF6",
            "gridcolor": "white",
            "gridwidth": 2,
            "linecolor": "white",
            "showbackground": true,
            "ticks": "",
            "zerolinecolor": "white"
           }
          },
          "shapedefaults": {
           "line": {
            "color": "#2a3f5f"
           }
          },
          "ternary": {
           "aaxis": {
            "gridcolor": "white",
            "linecolor": "white",
            "ticks": ""
           },
           "baxis": {
            "gridcolor": "white",
            "linecolor": "white",
            "ticks": ""
           },
           "bgcolor": "#E5ECF6",
           "caxis": {
            "gridcolor": "white",
            "linecolor": "white",
            "ticks": ""
           }
          },
          "title": {
           "x": 0.05
          },
          "xaxis": {
           "automargin": true,
           "gridcolor": "white",
           "linecolor": "white",
           "ticks": "",
           "title": {
            "standoff": 15
           },
           "zerolinecolor": "white",
           "zerolinewidth": 2
          },
          "yaxis": {
           "automargin": true,
           "gridcolor": "white",
           "linecolor": "white",
           "ticks": "",
           "title": {
            "standoff": 15
           },
           "zerolinecolor": "white",
           "zerolinewidth": 2
          }
         }
        },
        "title": {
         "text": "<b>Actual vs. Predicted Demand</b><br><sub>For store_1, feature set: existing only</sub>"
        },
        "xaxis": {
         "title": {
          "text": "Date"
         }
        },
        "yaxis": {
         "title": {
          "text": "Demand"
         }
        }
       }
      }
     },
     "metadata": {},
     "output_type": "display_data"
    },
    {
     "name": "stdout",
     "output_type": "stream",
     "text": [
      "Location: store_1\n",
      "--- Feature set: all, MAE: 260.39, RMSE: 332.86\n",
      "--- Feature set: existing only, MAE: 277.83, RMSE: 362.03\n",
      "--- Percentage change: MAE change: -6.28%, RMSE change: -8.06%\n",
      "\n"
     ]
    },
    {
     "data": {
      "application/vnd.plotly.v1+json": {
       "config": {
        "plotlyServerURL": "https://plot.ly"
       },
       "data": [
        {
         "line": {
          "color": "lightseagreen"
         },
         "mode": "lines+markers",
         "name": "Train Actual",
         "type": "scatter",
         "x": [
          "2017-01-09T00:00:00",
          "2017-01-16T00:00:00",
          "2017-01-23T00:00:00",
          "2017-01-30T00:00:00",
          "2017-02-06T00:00:00",
          "2017-02-13T00:00:00",
          "2017-02-20T00:00:00",
          "2017-02-27T00:00:00",
          "2017-03-06T00:00:00",
          "2017-03-13T00:00:00",
          "2017-03-20T00:00:00",
          "2017-03-27T00:00:00",
          "2017-04-03T00:00:00",
          "2017-04-10T00:00:00",
          "2017-04-17T00:00:00",
          "2017-04-24T00:00:00",
          "2017-05-01T00:00:00",
          "2017-05-08T00:00:00",
          "2017-05-15T00:00:00",
          "2017-05-22T00:00:00",
          "2017-05-29T00:00:00",
          "2017-06-05T00:00:00",
          "2017-06-12T00:00:00",
          "2017-06-19T00:00:00",
          "2017-06-26T00:00:00",
          "2017-07-03T00:00:00",
          "2017-07-10T00:00:00",
          "2017-07-17T00:00:00",
          "2017-07-24T00:00:00",
          "2017-07-31T00:00:00",
          "2017-08-07T00:00:00",
          "2017-08-14T00:00:00",
          "2017-08-21T00:00:00",
          "2017-08-28T00:00:00",
          "2017-09-04T00:00:00",
          "2017-09-11T00:00:00",
          "2017-09-18T00:00:00",
          "2017-09-25T00:00:00",
          "2017-10-02T00:00:00",
          "2017-10-09T00:00:00",
          "2017-10-16T00:00:00",
          "2017-10-23T00:00:00",
          "2017-10-30T00:00:00",
          "2017-11-06T00:00:00",
          "2017-11-13T00:00:00",
          "2017-11-20T00:00:00",
          "2017-11-27T00:00:00",
          "2017-12-04T00:00:00",
          "2017-12-11T00:00:00",
          "2017-12-18T00:00:00",
          "2017-12-25T00:00:00",
          "2018-01-01T00:00:00",
          "2018-01-08T00:00:00",
          "2018-01-15T00:00:00",
          "2018-01-22T00:00:00",
          "2018-01-29T00:00:00",
          "2018-02-05T00:00:00",
          "2018-02-12T00:00:00",
          "2018-02-19T00:00:00",
          "2018-02-26T00:00:00",
          "2018-03-05T00:00:00",
          "2018-03-12T00:00:00",
          "2018-03-19T00:00:00",
          "2018-03-26T00:00:00",
          "2018-04-02T00:00:00",
          "2018-04-09T00:00:00",
          "2018-04-16T00:00:00",
          "2018-04-23T00:00:00",
          "2018-04-30T00:00:00",
          "2018-05-07T00:00:00",
          "2018-05-14T00:00:00",
          "2018-05-21T00:00:00",
          "2018-05-28T00:00:00",
          "2018-06-04T00:00:00",
          "2018-06-11T00:00:00",
          "2018-06-18T00:00:00",
          "2018-06-25T00:00:00",
          "2018-07-02T00:00:00",
          "2018-07-09T00:00:00",
          "2018-07-16T00:00:00",
          "2018-07-23T00:00:00",
          "2018-07-30T00:00:00",
          "2018-08-06T00:00:00",
          "2018-08-13T00:00:00",
          "2018-08-20T00:00:00",
          "2018-08-27T00:00:00",
          "2018-09-03T00:00:00",
          "2018-09-10T00:00:00",
          "2018-09-17T00:00:00",
          "2018-09-24T00:00:00",
          "2018-10-01T00:00:00",
          "2018-10-08T00:00:00",
          "2018-10-15T00:00:00",
          "2018-10-22T00:00:00",
          "2018-10-29T00:00:00",
          "2018-11-05T00:00:00",
          "2018-11-12T00:00:00",
          "2018-11-19T00:00:00",
          "2018-11-26T00:00:00",
          "2018-12-03T00:00:00",
          "2018-12-10T00:00:00",
          "2018-12-17T00:00:00",
          "2018-12-24T00:00:00",
          "2018-12-31T00:00:00",
          "2019-01-07T00:00:00",
          "2019-01-14T00:00:00",
          "2019-01-21T00:00:00",
          "2019-01-28T00:00:00",
          "2019-02-04T00:00:00",
          "2019-02-11T00:00:00",
          "2019-02-18T00:00:00",
          "2019-02-25T00:00:00",
          "2019-03-04T00:00:00",
          "2019-03-11T00:00:00",
          "2019-03-18T00:00:00",
          "2019-03-25T00:00:00",
          "2019-04-01T00:00:00",
          "2019-04-08T00:00:00",
          "2019-04-15T00:00:00",
          "2019-04-22T00:00:00",
          "2019-04-29T00:00:00",
          "2019-05-06T00:00:00",
          "2019-05-13T00:00:00",
          "2019-05-20T00:00:00"
         ],
         "y": [
          45762.84084020421,
          44758.25231431197,
          45139.09691813778,
          46864.67879947199,
          43191.040014087805,
          49188.0704216413,
          47368.90163447116,
          46104.22398410804,
          47673.67581662582,
          45835.43511661948,
          52883.037427847135,
          50107.32849912888,
          54645.486166061455,
          46556.680007200834,
          51675.88353155242,
          51957.99086889259,
          52994.20181723354,
          50472.773952015166,
          52642.63922614056,
          49092.64184024678,
          44834.54000410672,
          51876.719284521714,
          54011.76325151476,
          56962.43052913564,
          52191.398397442186,
          39999.97557914842,
          54236.36199679922,
          51709.18304712112,
          49898.59568395137,
          50759.50010645626,
          48122.94196974402,
          47309.92082361741,
          45481.32908631582,
          47236.07358276745,
          43179.356282681794,
          54014.961184177,
          50269.06371495767,
          49877.6530486944,
          50157.34682218673,
          49877.62348687479,
          51645.284518976274,
          49394.54204582918,
          51357.82394059662,
          49132.72791989733,
          48355.16179076483,
          31850.5044118489,
          50853.49160203703,
          52217.84647288754,
          40413.23455942202,
          43460.09263946603,
          29523.3627946211,
          36138.4009402548,
          49831.83238473438,
          45472.53936830912,
          48352.8499568563,
          50168.71822528768,
          47829.29089298014,
          49695.831785194816,
          48198.24825359052,
          47923.808078202914,
          47149.75382463114,
          52759.02127752129,
          46966.00834096229,
          48086.82668632129,
          50634.48471876784,
          51132.491048512864,
          48878.33663254455,
          51538.42458608504,
          50536.53754035047,
          48981.10868194538,
          50010.60266157362,
          49740.920005224536,
          44984.80307495819,
          52134.73779884791,
          50206.39793914015,
          54064.97610508461,
          51537.989491550885,
          38543.87275586973,
          52381.140329572576,
          54469.70831959839,
          53109.78864945472,
          52782.54427667777,
          51121.83064926389,
          48036.03995268584,
          47028.38508012978,
          45622.01975724358,
          44610.67069595256,
          48801.7980271288,
          47168.226148013215,
          48835.34564106117,
          49787.744707027865,
          49646.6669612941,
          48880.4229277335,
          50404.1404867658,
          51161.8891865754,
          49992.75491087823,
          47761.13193830208,
          33045.42589817022,
          51765.61958773499,
          53955.58001961086,
          51839.2475802399,
          47971.678051774485,
          29313.09664489801,
          41014.28388156947,
          51436.02043947369,
          50144.66968850876,
          46072.27391180831,
          50535.4133637917,
          53815.62451620159,
          51606.68739799201,
          51133.04208297644,
          53006.13546159029,
          53326.47042369166,
          57215.52359447184,
          50460.90711968845,
          55448.170348372085,
          56677.54231881951,
          54839.61719212649,
          49237.54215461915,
          52370.49862857992,
          54436.59733736869,
          52524.56810966711,
          51032.55979904282,
          46499.54503848665
         ]
        },
        {
         "line": {
          "color": "LightSkyBlue"
         },
         "mode": "lines+markers",
         "name": "Test Actual",
         "type": "scatter",
         "x": [
          "2019-05-27T00:00:00",
          "2019-06-03T00:00:00",
          "2019-06-10T00:00:00",
          "2019-06-17T00:00:00",
          "2019-06-24T00:00:00",
          "2019-07-01T00:00:00",
          "2019-07-08T00:00:00",
          "2019-07-15T00:00:00",
          "2019-07-22T00:00:00",
          "2019-07-29T00:00:00",
          "2019-08-05T00:00:00",
          "2019-08-12T00:00:00",
          "2019-08-19T00:00:00",
          "2019-08-26T00:00:00",
          "2019-09-02T00:00:00",
          "2019-09-09T00:00:00",
          "2019-09-16T00:00:00",
          "2019-09-23T00:00:00",
          "2019-09-30T00:00:00",
          "2019-10-07T00:00:00",
          "2019-10-14T00:00:00",
          "2019-10-21T00:00:00",
          "2019-10-28T00:00:00",
          "2019-11-04T00:00:00",
          "2019-11-11T00:00:00",
          "2019-11-18T00:00:00",
          "2019-11-25T00:00:00",
          "2019-12-02T00:00:00",
          "2019-12-09T00:00:00",
          "2019-12-16T00:00:00",
          "2019-12-23T00:00:00"
         ],
         "y": [
          42859.5760855924,
          51597.07030137625,
          50402.415788276376,
          49207.66825247946,
          54514.32778414989,
          37130.80428704935,
          53670.6400289725,
          52847.3045686026,
          52239.96824018181,
          53503.33716767928,
          50775.99130923693,
          48485.78062110045,
          47433.082039236775,
          46673.10294194591,
          42188.35559449057,
          51865.01169176165,
          51043.8446620149,
          52134.92425554652,
          51694.27878297136,
          51102.85149377959,
          49710.94722462703,
          53080.01975553345,
          51504.7733253369,
          50637.90247078027,
          49474.21432087701,
          51106.03541135619,
          34593.239595898056,
          51731.3887862481,
          54048.68915145444,
          49893.61205532004,
          28156.32187073452
         ]
        },
        {
         "line": {
          "color": "lightcoral"
         },
         "mode": "lines+markers",
         "name": "Test Predicted",
         "type": "scatter",
         "x": [
          "2019-05-27T00:00:00",
          "2019-06-03T00:00:00",
          "2019-06-10T00:00:00",
          "2019-06-17T00:00:00",
          "2019-06-24T00:00:00",
          "2019-07-01T00:00:00",
          "2019-07-08T00:00:00",
          "2019-07-15T00:00:00",
          "2019-07-22T00:00:00",
          "2019-07-29T00:00:00",
          "2019-08-05T00:00:00",
          "2019-08-12T00:00:00",
          "2019-08-19T00:00:00",
          "2019-08-26T00:00:00",
          "2019-09-02T00:00:00",
          "2019-09-09T00:00:00",
          "2019-09-16T00:00:00",
          "2019-09-23T00:00:00",
          "2019-09-30T00:00:00",
          "2019-10-07T00:00:00",
          "2019-10-14T00:00:00",
          "2019-10-21T00:00:00",
          "2019-10-28T00:00:00",
          "2019-11-04T00:00:00",
          "2019-11-11T00:00:00",
          "2019-11-18T00:00:00",
          "2019-11-25T00:00:00",
          "2019-12-02T00:00:00",
          "2019-12-09T00:00:00",
          "2019-12-16T00:00:00",
          "2019-12-23T00:00:00"
         ],
         "y": [
          48598.8515625,
          48972.7265625,
          49598.609375,
          50081.0234375,
          52977.09765625,
          40138.0078125,
          52441.4140625,
          49719.82421875,
          47904.421875,
          48644.6015625,
          50372.95703125,
          50896.8515625,
          51196.9375,
          48238.171875,
          44126.94140625,
          46999.19140625,
          46486.31640625,
          46136.30078125,
          50321.578125,
          49883.421875,
          47694.85546875,
          49324.4140625,
          49599.63671875,
          53862.44140625,
          49216.70703125,
          50511.19140625,
          42634.4375,
          52014.5390625,
          48381.171875,
          46386.60546875,
          33831.29296875
         ]
        }
       ],
       "layout": {
        "legend": {
         "title": {
          "text": "Type"
         }
        },
        "shapes": [
         {
          "line": {
           "color": "lightgray",
           "dash": "dot",
           "width": 2
          },
          "type": "line",
          "x0": "2019-05-27T00:00:00",
          "x1": "2019-05-27T00:00:00",
          "xref": "x",
          "y0": 0,
          "y1": 1,
          "yref": "y domain"
         }
        ],
        "template": {
         "data": {
          "bar": [
           {
            "error_x": {
             "color": "#2a3f5f"
            },
            "error_y": {
             "color": "#2a3f5f"
            },
            "marker": {
             "line": {
              "color": "#E5ECF6",
              "width": 0.5
             },
             "pattern": {
              "fillmode": "overlay",
              "size": 10,
              "solidity": 0.2
             }
            },
            "type": "bar"
           }
          ],
          "barpolar": [
           {
            "marker": {
             "line": {
              "color": "#E5ECF6",
              "width": 0.5
             },
             "pattern": {
              "fillmode": "overlay",
              "size": 10,
              "solidity": 0.2
             }
            },
            "type": "barpolar"
           }
          ],
          "carpet": [
           {
            "aaxis": {
             "endlinecolor": "#2a3f5f",
             "gridcolor": "white",
             "linecolor": "white",
             "minorgridcolor": "white",
             "startlinecolor": "#2a3f5f"
            },
            "baxis": {
             "endlinecolor": "#2a3f5f",
             "gridcolor": "white",
             "linecolor": "white",
             "minorgridcolor": "white",
             "startlinecolor": "#2a3f5f"
            },
            "type": "carpet"
           }
          ],
          "choropleth": [
           {
            "colorbar": {
             "outlinewidth": 0,
             "ticks": ""
            },
            "type": "choropleth"
           }
          ],
          "contour": [
           {
            "colorbar": {
             "outlinewidth": 0,
             "ticks": ""
            },
            "colorscale": [
             [
              0,
              "#0d0887"
             ],
             [
              0.1111111111111111,
              "#46039f"
             ],
             [
              0.2222222222222222,
              "#7201a8"
             ],
             [
              0.3333333333333333,
              "#9c179e"
             ],
             [
              0.4444444444444444,
              "#bd3786"
             ],
             [
              0.5555555555555556,
              "#d8576b"
             ],
             [
              0.6666666666666666,
              "#ed7953"
             ],
             [
              0.7777777777777778,
              "#fb9f3a"
             ],
             [
              0.8888888888888888,
              "#fdca26"
             ],
             [
              1,
              "#f0f921"
             ]
            ],
            "type": "contour"
           }
          ],
          "contourcarpet": [
           {
            "colorbar": {
             "outlinewidth": 0,
             "ticks": ""
            },
            "type": "contourcarpet"
           }
          ],
          "heatmap": [
           {
            "colorbar": {
             "outlinewidth": 0,
             "ticks": ""
            },
            "colorscale": [
             [
              0,
              "#0d0887"
             ],
             [
              0.1111111111111111,
              "#46039f"
             ],
             [
              0.2222222222222222,
              "#7201a8"
             ],
             [
              0.3333333333333333,
              "#9c179e"
             ],
             [
              0.4444444444444444,
              "#bd3786"
             ],
             [
              0.5555555555555556,
              "#d8576b"
             ],
             [
              0.6666666666666666,
              "#ed7953"
             ],
             [
              0.7777777777777778,
              "#fb9f3a"
             ],
             [
              0.8888888888888888,
              "#fdca26"
             ],
             [
              1,
              "#f0f921"
             ]
            ],
            "type": "heatmap"
           }
          ],
          "heatmapgl": [
           {
            "colorbar": {
             "outlinewidth": 0,
             "ticks": ""
            },
            "colorscale": [
             [
              0,
              "#0d0887"
             ],
             [
              0.1111111111111111,
              "#46039f"
             ],
             [
              0.2222222222222222,
              "#7201a8"
             ],
             [
              0.3333333333333333,
              "#9c179e"
             ],
             [
              0.4444444444444444,
              "#bd3786"
             ],
             [
              0.5555555555555556,
              "#d8576b"
             ],
             [
              0.6666666666666666,
              "#ed7953"
             ],
             [
              0.7777777777777778,
              "#fb9f3a"
             ],
             [
              0.8888888888888888,
              "#fdca26"
             ],
             [
              1,
              "#f0f921"
             ]
            ],
            "type": "heatmapgl"
           }
          ],
          "histogram": [
           {
            "marker": {
             "pattern": {
              "fillmode": "overlay",
              "size": 10,
              "solidity": 0.2
             }
            },
            "type": "histogram"
           }
          ],
          "histogram2d": [
           {
            "colorbar": {
             "outlinewidth": 0,
             "ticks": ""
            },
            "colorscale": [
             [
              0,
              "#0d0887"
             ],
             [
              0.1111111111111111,
              "#46039f"
             ],
             [
              0.2222222222222222,
              "#7201a8"
             ],
             [
              0.3333333333333333,
              "#9c179e"
             ],
             [
              0.4444444444444444,
              "#bd3786"
             ],
             [
              0.5555555555555556,
              "#d8576b"
             ],
             [
              0.6666666666666666,
              "#ed7953"
             ],
             [
              0.7777777777777778,
              "#fb9f3a"
             ],
             [
              0.8888888888888888,
              "#fdca26"
             ],
             [
              1,
              "#f0f921"
             ]
            ],
            "type": "histogram2d"
           }
          ],
          "histogram2dcontour": [
           {
            "colorbar": {
             "outlinewidth": 0,
             "ticks": ""
            },
            "colorscale": [
             [
              0,
              "#0d0887"
             ],
             [
              0.1111111111111111,
              "#46039f"
             ],
             [
              0.2222222222222222,
              "#7201a8"
             ],
             [
              0.3333333333333333,
              "#9c179e"
             ],
             [
              0.4444444444444444,
              "#bd3786"
             ],
             [
              0.5555555555555556,
              "#d8576b"
             ],
             [
              0.6666666666666666,
              "#ed7953"
             ],
             [
              0.7777777777777778,
              "#fb9f3a"
             ],
             [
              0.8888888888888888,
              "#fdca26"
             ],
             [
              1,
              "#f0f921"
             ]
            ],
            "type": "histogram2dcontour"
           }
          ],
          "mesh3d": [
           {
            "colorbar": {
             "outlinewidth": 0,
             "ticks": ""
            },
            "type": "mesh3d"
           }
          ],
          "parcoords": [
           {
            "line": {
             "colorbar": {
              "outlinewidth": 0,
              "ticks": ""
             }
            },
            "type": "parcoords"
           }
          ],
          "pie": [
           {
            "automargin": true,
            "type": "pie"
           }
          ],
          "scatter": [
           {
            "fillpattern": {
             "fillmode": "overlay",
             "size": 10,
             "solidity": 0.2
            },
            "type": "scatter"
           }
          ],
          "scatter3d": [
           {
            "line": {
             "colorbar": {
              "outlinewidth": 0,
              "ticks": ""
             }
            },
            "marker": {
             "colorbar": {
              "outlinewidth": 0,
              "ticks": ""
             }
            },
            "type": "scatter3d"
           }
          ],
          "scattercarpet": [
           {
            "marker": {
             "colorbar": {
              "outlinewidth": 0,
              "ticks": ""
             }
            },
            "type": "scattercarpet"
           }
          ],
          "scattergeo": [
           {
            "marker": {
             "colorbar": {
              "outlinewidth": 0,
              "ticks": ""
             }
            },
            "type": "scattergeo"
           }
          ],
          "scattergl": [
           {
            "marker": {
             "colorbar": {
              "outlinewidth": 0,
              "ticks": ""
             }
            },
            "type": "scattergl"
           }
          ],
          "scattermapbox": [
           {
            "marker": {
             "colorbar": {
              "outlinewidth": 0,
              "ticks": ""
             }
            },
            "type": "scattermapbox"
           }
          ],
          "scatterpolar": [
           {
            "marker": {
             "colorbar": {
              "outlinewidth": 0,
              "ticks": ""
             }
            },
            "type": "scatterpolar"
           }
          ],
          "scatterpolargl": [
           {
            "marker": {
             "colorbar": {
              "outlinewidth": 0,
              "ticks": ""
             }
            },
            "type": "scatterpolargl"
           }
          ],
          "scatterternary": [
           {
            "marker": {
             "colorbar": {
              "outlinewidth": 0,
              "ticks": ""
             }
            },
            "type": "scatterternary"
           }
          ],
          "surface": [
           {
            "colorbar": {
             "outlinewidth": 0,
             "ticks": ""
            },
            "colorscale": [
             [
              0,
              "#0d0887"
             ],
             [
              0.1111111111111111,
              "#46039f"
             ],
             [
              0.2222222222222222,
              "#7201a8"
             ],
             [
              0.3333333333333333,
              "#9c179e"
             ],
             [
              0.4444444444444444,
              "#bd3786"
             ],
             [
              0.5555555555555556,
              "#d8576b"
             ],
             [
              0.6666666666666666,
              "#ed7953"
             ],
             [
              0.7777777777777778,
              "#fb9f3a"
             ],
             [
              0.8888888888888888,
              "#fdca26"
             ],
             [
              1,
              "#f0f921"
             ]
            ],
            "type": "surface"
           }
          ],
          "table": [
           {
            "cells": {
             "fill": {
              "color": "#EBF0F8"
             },
             "line": {
              "color": "white"
             }
            },
            "header": {
             "fill": {
              "color": "#C8D4E3"
             },
             "line": {
              "color": "white"
             }
            },
            "type": "table"
           }
          ]
         },
         "layout": {
          "annotationdefaults": {
           "arrowcolor": "#2a3f5f",
           "arrowhead": 0,
           "arrowwidth": 1
          },
          "autotypenumbers": "strict",
          "coloraxis": {
           "colorbar": {
            "outlinewidth": 0,
            "ticks": ""
           }
          },
          "colorscale": {
           "diverging": [
            [
             0,
             "#8e0152"
            ],
            [
             0.1,
             "#c51b7d"
            ],
            [
             0.2,
             "#de77ae"
            ],
            [
             0.3,
             "#f1b6da"
            ],
            [
             0.4,
             "#fde0ef"
            ],
            [
             0.5,
             "#f7f7f7"
            ],
            [
             0.6,
             "#e6f5d0"
            ],
            [
             0.7,
             "#b8e186"
            ],
            [
             0.8,
             "#7fbc41"
            ],
            [
             0.9,
             "#4d9221"
            ],
            [
             1,
             "#276419"
            ]
           ],
           "sequential": [
            [
             0,
             "#0d0887"
            ],
            [
             0.1111111111111111,
             "#46039f"
            ],
            [
             0.2222222222222222,
             "#7201a8"
            ],
            [
             0.3333333333333333,
             "#9c179e"
            ],
            [
             0.4444444444444444,
             "#bd3786"
            ],
            [
             0.5555555555555556,
             "#d8576b"
            ],
            [
             0.6666666666666666,
             "#ed7953"
            ],
            [
             0.7777777777777778,
             "#fb9f3a"
            ],
            [
             0.8888888888888888,
             "#fdca26"
            ],
            [
             1,
             "#f0f921"
            ]
           ],
           "sequentialminus": [
            [
             0,
             "#0d0887"
            ],
            [
             0.1111111111111111,
             "#46039f"
            ],
            [
             0.2222222222222222,
             "#7201a8"
            ],
            [
             0.3333333333333333,
             "#9c179e"
            ],
            [
             0.4444444444444444,
             "#bd3786"
            ],
            [
             0.5555555555555556,
             "#d8576b"
            ],
            [
             0.6666666666666666,
             "#ed7953"
            ],
            [
             0.7777777777777778,
             "#fb9f3a"
            ],
            [
             0.8888888888888888,
             "#fdca26"
            ],
            [
             1,
             "#f0f921"
            ]
           ]
          },
          "colorway": [
           "#636efa",
           "#EF553B",
           "#00cc96",
           "#ab63fa",
           "#FFA15A",
           "#19d3f3",
           "#FF6692",
           "#B6E880",
           "#FF97FF",
           "#FECB52"
          ],
          "font": {
           "color": "#2a3f5f"
          },
          "geo": {
           "bgcolor": "white",
           "lakecolor": "white",
           "landcolor": "#E5ECF6",
           "showlakes": true,
           "showland": true,
           "subunitcolor": "white"
          },
          "hoverlabel": {
           "align": "left"
          },
          "hovermode": "closest",
          "mapbox": {
           "style": "light"
          },
          "paper_bgcolor": "white",
          "plot_bgcolor": "#E5ECF6",
          "polar": {
           "angularaxis": {
            "gridcolor": "white",
            "linecolor": "white",
            "ticks": ""
           },
           "bgcolor": "#E5ECF6",
           "radialaxis": {
            "gridcolor": "white",
            "linecolor": "white",
            "ticks": ""
           }
          },
          "scene": {
           "xaxis": {
            "backgroundcolor": "#E5ECF6",
            "gridcolor": "white",
            "gridwidth": 2,
            "linecolor": "white",
            "showbackground": true,
            "ticks": "",
            "zerolinecolor": "white"
           },
           "yaxis": {
            "backgroundcolor": "#E5ECF6",
            "gridcolor": "white",
            "gridwidth": 2,
            "linecolor": "white",
            "showbackground": true,
            "ticks": "",
            "zerolinecolor": "white"
           },
           "zaxis": {
            "backgroundcolor": "#E5ECF6",
            "gridcolor": "white",
            "gridwidth": 2,
            "linecolor": "white",
            "showbackground": true,
            "ticks": "",
            "zerolinecolor": "white"
           }
          },
          "shapedefaults": {
           "line": {
            "color": "#2a3f5f"
           }
          },
          "ternary": {
           "aaxis": {
            "gridcolor": "white",
            "linecolor": "white",
            "ticks": ""
           },
           "baxis": {
            "gridcolor": "white",
            "linecolor": "white",
            "ticks": ""
           },
           "bgcolor": "#E5ECF6",
           "caxis": {
            "gridcolor": "white",
            "linecolor": "white",
            "ticks": ""
           }
          },
          "title": {
           "x": 0.05
          },
          "xaxis": {
           "automargin": true,
           "gridcolor": "white",
           "linecolor": "white",
           "ticks": "",
           "title": {
            "standoff": 15
           },
           "zerolinecolor": "white",
           "zerolinewidth": 2
          },
          "yaxis": {
           "automargin": true,
           "gridcolor": "white",
           "linecolor": "white",
           "ticks": "",
           "title": {
            "standoff": 15
           },
           "zerolinecolor": "white",
           "zerolinewidth": 2
          }
         }
        },
        "title": {
         "text": "<b>Actual vs. Predicted Demand</b><br><sub>For store_2, feature set: all</sub>"
        },
        "xaxis": {
         "title": {
          "text": "Date"
         }
        },
        "yaxis": {
         "title": {
          "text": "Demand"
         }
        }
       }
      }
     },
     "metadata": {},
     "output_type": "display_data"
    },
    {
     "data": {
      "application/vnd.plotly.v1+json": {
       "config": {
        "plotlyServerURL": "https://plot.ly"
       },
       "data": [
        {
         "line": {
          "color": "lightseagreen"
         },
         "mode": "lines+markers",
         "name": "Train Actual",
         "type": "scatter",
         "x": [
          "2017-01-09T00:00:00",
          "2017-01-16T00:00:00",
          "2017-01-23T00:00:00",
          "2017-01-30T00:00:00",
          "2017-02-06T00:00:00",
          "2017-02-13T00:00:00",
          "2017-02-20T00:00:00",
          "2017-02-27T00:00:00",
          "2017-03-06T00:00:00",
          "2017-03-13T00:00:00",
          "2017-03-20T00:00:00",
          "2017-03-27T00:00:00",
          "2017-04-03T00:00:00",
          "2017-04-10T00:00:00",
          "2017-04-17T00:00:00",
          "2017-04-24T00:00:00",
          "2017-05-01T00:00:00",
          "2017-05-08T00:00:00",
          "2017-05-15T00:00:00",
          "2017-05-22T00:00:00",
          "2017-05-29T00:00:00",
          "2017-06-05T00:00:00",
          "2017-06-12T00:00:00",
          "2017-06-19T00:00:00",
          "2017-06-26T00:00:00",
          "2017-07-03T00:00:00",
          "2017-07-10T00:00:00",
          "2017-07-17T00:00:00",
          "2017-07-24T00:00:00",
          "2017-07-31T00:00:00",
          "2017-08-07T00:00:00",
          "2017-08-14T00:00:00",
          "2017-08-21T00:00:00",
          "2017-08-28T00:00:00",
          "2017-09-04T00:00:00",
          "2017-09-11T00:00:00",
          "2017-09-18T00:00:00",
          "2017-09-25T00:00:00",
          "2017-10-02T00:00:00",
          "2017-10-09T00:00:00",
          "2017-10-16T00:00:00",
          "2017-10-23T00:00:00",
          "2017-10-30T00:00:00",
          "2017-11-06T00:00:00",
          "2017-11-13T00:00:00",
          "2017-11-20T00:00:00",
          "2017-11-27T00:00:00",
          "2017-12-04T00:00:00",
          "2017-12-11T00:00:00",
          "2017-12-18T00:00:00",
          "2017-12-25T00:00:00",
          "2018-01-01T00:00:00",
          "2018-01-08T00:00:00",
          "2018-01-15T00:00:00",
          "2018-01-22T00:00:00",
          "2018-01-29T00:00:00",
          "2018-02-05T00:00:00",
          "2018-02-12T00:00:00",
          "2018-02-19T00:00:00",
          "2018-02-26T00:00:00",
          "2018-03-05T00:00:00",
          "2018-03-12T00:00:00",
          "2018-03-19T00:00:00",
          "2018-03-26T00:00:00",
          "2018-04-02T00:00:00",
          "2018-04-09T00:00:00",
          "2018-04-16T00:00:00",
          "2018-04-23T00:00:00",
          "2018-04-30T00:00:00",
          "2018-05-07T00:00:00",
          "2018-05-14T00:00:00",
          "2018-05-21T00:00:00",
          "2018-05-28T00:00:00",
          "2018-06-04T00:00:00",
          "2018-06-11T00:00:00",
          "2018-06-18T00:00:00",
          "2018-06-25T00:00:00",
          "2018-07-02T00:00:00",
          "2018-07-09T00:00:00",
          "2018-07-16T00:00:00",
          "2018-07-23T00:00:00",
          "2018-07-30T00:00:00",
          "2018-08-06T00:00:00",
          "2018-08-13T00:00:00",
          "2018-08-20T00:00:00",
          "2018-08-27T00:00:00",
          "2018-09-03T00:00:00",
          "2018-09-10T00:00:00",
          "2018-09-17T00:00:00",
          "2018-09-24T00:00:00",
          "2018-10-01T00:00:00",
          "2018-10-08T00:00:00",
          "2018-10-15T00:00:00",
          "2018-10-22T00:00:00",
          "2018-10-29T00:00:00",
          "2018-11-05T00:00:00",
          "2018-11-12T00:00:00",
          "2018-11-19T00:00:00",
          "2018-11-26T00:00:00",
          "2018-12-03T00:00:00",
          "2018-12-10T00:00:00",
          "2018-12-17T00:00:00",
          "2018-12-24T00:00:00",
          "2018-12-31T00:00:00",
          "2019-01-07T00:00:00",
          "2019-01-14T00:00:00",
          "2019-01-21T00:00:00",
          "2019-01-28T00:00:00",
          "2019-02-04T00:00:00",
          "2019-02-11T00:00:00",
          "2019-02-18T00:00:00",
          "2019-02-25T00:00:00",
          "2019-03-04T00:00:00",
          "2019-03-11T00:00:00",
          "2019-03-18T00:00:00",
          "2019-03-25T00:00:00",
          "2019-04-01T00:00:00",
          "2019-04-08T00:00:00",
          "2019-04-15T00:00:00",
          "2019-04-22T00:00:00",
          "2019-04-29T00:00:00",
          "2019-05-06T00:00:00",
          "2019-05-13T00:00:00",
          "2019-05-20T00:00:00"
         ],
         "y": [
          45762.84084020421,
          44758.25231431197,
          45139.09691813778,
          46864.67879947199,
          43191.040014087805,
          49188.0704216413,
          47368.90163447116,
          46104.22398410804,
          47673.67581662582,
          45835.43511661948,
          52883.037427847135,
          50107.32849912888,
          54645.486166061455,
          46556.680007200834,
          51675.88353155242,
          51957.99086889259,
          52994.20181723354,
          50472.773952015166,
          52642.63922614056,
          49092.64184024678,
          44834.54000410672,
          51876.719284521714,
          54011.76325151476,
          56962.43052913564,
          52191.398397442186,
          39999.97557914842,
          54236.36199679922,
          51709.18304712112,
          49898.59568395137,
          50759.50010645626,
          48122.94196974402,
          47309.92082361741,
          45481.32908631582,
          47236.07358276745,
          43179.356282681794,
          54014.961184177,
          50269.06371495767,
          49877.6530486944,
          50157.34682218673,
          49877.62348687479,
          51645.284518976274,
          49394.54204582918,
          51357.82394059662,
          49132.72791989733,
          48355.16179076483,
          31850.5044118489,
          50853.49160203703,
          52217.84647288754,
          40413.23455942202,
          43460.09263946603,
          29523.3627946211,
          36138.4009402548,
          49831.83238473438,
          45472.53936830912,
          48352.8499568563,
          50168.71822528768,
          47829.29089298014,
          49695.831785194816,
          48198.24825359052,
          47923.808078202914,
          47149.75382463114,
          52759.02127752129,
          46966.00834096229,
          48086.82668632129,
          50634.48471876784,
          51132.491048512864,
          48878.33663254455,
          51538.42458608504,
          50536.53754035047,
          48981.10868194538,
          50010.60266157362,
          49740.920005224536,
          44984.80307495819,
          52134.73779884791,
          50206.39793914015,
          54064.97610508461,
          51537.989491550885,
          38543.87275586973,
          52381.140329572576,
          54469.70831959839,
          53109.78864945472,
          52782.54427667777,
          51121.83064926389,
          48036.03995268584,
          47028.38508012978,
          45622.01975724358,
          44610.67069595256,
          48801.7980271288,
          47168.226148013215,
          48835.34564106117,
          49787.744707027865,
          49646.6669612941,
          48880.4229277335,
          50404.1404867658,
          51161.8891865754,
          49992.75491087823,
          47761.13193830208,
          33045.42589817022,
          51765.61958773499,
          53955.58001961086,
          51839.2475802399,
          47971.678051774485,
          29313.09664489801,
          41014.28388156947,
          51436.02043947369,
          50144.66968850876,
          46072.27391180831,
          50535.4133637917,
          53815.62451620159,
          51606.68739799201,
          51133.04208297644,
          53006.13546159029,
          53326.47042369166,
          57215.52359447184,
          50460.90711968845,
          55448.170348372085,
          56677.54231881951,
          54839.61719212649,
          49237.54215461915,
          52370.49862857992,
          54436.59733736869,
          52524.56810966711,
          51032.55979904282,
          46499.54503848665
         ]
        },
        {
         "line": {
          "color": "LightSkyBlue"
         },
         "mode": "lines+markers",
         "name": "Test Actual",
         "type": "scatter",
         "x": [
          "2019-05-27T00:00:00",
          "2019-06-03T00:00:00",
          "2019-06-10T00:00:00",
          "2019-06-17T00:00:00",
          "2019-06-24T00:00:00",
          "2019-07-01T00:00:00",
          "2019-07-08T00:00:00",
          "2019-07-15T00:00:00",
          "2019-07-22T00:00:00",
          "2019-07-29T00:00:00",
          "2019-08-05T00:00:00",
          "2019-08-12T00:00:00",
          "2019-08-19T00:00:00",
          "2019-08-26T00:00:00",
          "2019-09-02T00:00:00",
          "2019-09-09T00:00:00",
          "2019-09-16T00:00:00",
          "2019-09-23T00:00:00",
          "2019-09-30T00:00:00",
          "2019-10-07T00:00:00",
          "2019-10-14T00:00:00",
          "2019-10-21T00:00:00",
          "2019-10-28T00:00:00",
          "2019-11-04T00:00:00",
          "2019-11-11T00:00:00",
          "2019-11-18T00:00:00",
          "2019-11-25T00:00:00",
          "2019-12-02T00:00:00",
          "2019-12-09T00:00:00",
          "2019-12-16T00:00:00",
          "2019-12-23T00:00:00"
         ],
         "y": [
          42859.5760855924,
          51597.07030137625,
          50402.415788276376,
          49207.66825247946,
          54514.32778414989,
          37130.80428704935,
          53670.6400289725,
          52847.3045686026,
          52239.96824018181,
          53503.33716767928,
          50775.99130923693,
          48485.78062110045,
          47433.082039236775,
          46673.10294194591,
          42188.35559449057,
          51865.01169176165,
          51043.8446620149,
          52134.92425554652,
          51694.27878297136,
          51102.85149377959,
          49710.94722462703,
          53080.01975553345,
          51504.7733253369,
          50637.90247078027,
          49474.21432087701,
          51106.03541135619,
          34593.239595898056,
          51731.3887862481,
          54048.68915145444,
          49893.61205532004,
          28156.32187073452
         ]
        },
        {
         "line": {
          "color": "lightcoral"
         },
         "mode": "lines+markers",
         "name": "Test Predicted",
         "type": "scatter",
         "x": [
          "2019-05-27T00:00:00",
          "2019-06-03T00:00:00",
          "2019-06-10T00:00:00",
          "2019-06-17T00:00:00",
          "2019-06-24T00:00:00",
          "2019-07-01T00:00:00",
          "2019-07-08T00:00:00",
          "2019-07-15T00:00:00",
          "2019-07-22T00:00:00",
          "2019-07-29T00:00:00",
          "2019-08-05T00:00:00",
          "2019-08-12T00:00:00",
          "2019-08-19T00:00:00",
          "2019-08-26T00:00:00",
          "2019-09-02T00:00:00",
          "2019-09-09T00:00:00",
          "2019-09-16T00:00:00",
          "2019-09-23T00:00:00",
          "2019-09-30T00:00:00",
          "2019-10-07T00:00:00",
          "2019-10-14T00:00:00",
          "2019-10-21T00:00:00",
          "2019-10-28T00:00:00",
          "2019-11-04T00:00:00",
          "2019-11-11T00:00:00",
          "2019-11-18T00:00:00",
          "2019-11-25T00:00:00",
          "2019-12-02T00:00:00",
          "2019-12-09T00:00:00",
          "2019-12-16T00:00:00",
          "2019-12-23T00:00:00"
         ],
         "y": [
          44913.25390625,
          52004.87109375,
          52109.6953125,
          55509.56640625,
          51863.84375,
          39276.421875,
          53306.27734375,
          53088.9453125,
          51508.2734375,
          51766.1484375,
          49622.9296875,
          47672.1484375,
          46261.1640625,
          46424.390625,
          43897.73828125,
          51405.48828125,
          48721.1640625,
          49357.328125,
          49964.37890625,
          49764.21875,
          50261.125,
          49901.60546875,
          51256.79296875,
          49563.46484375,
          48058.36328125,
          32450.171875,
          51309.2421875,
          53084.65234375,
          46125.99609375,
          45715.84375,
          29418.333984375
         ]
        }
       ],
       "layout": {
        "legend": {
         "title": {
          "text": "Type"
         }
        },
        "shapes": [
         {
          "line": {
           "color": "lightgray",
           "dash": "dot",
           "width": 2
          },
          "type": "line",
          "x0": "2019-05-27T00:00:00",
          "x1": "2019-05-27T00:00:00",
          "xref": "x",
          "y0": 0,
          "y1": 1,
          "yref": "y domain"
         }
        ],
        "template": {
         "data": {
          "bar": [
           {
            "error_x": {
             "color": "#2a3f5f"
            },
            "error_y": {
             "color": "#2a3f5f"
            },
            "marker": {
             "line": {
              "color": "#E5ECF6",
              "width": 0.5
             },
             "pattern": {
              "fillmode": "overlay",
              "size": 10,
              "solidity": 0.2
             }
            },
            "type": "bar"
           }
          ],
          "barpolar": [
           {
            "marker": {
             "line": {
              "color": "#E5ECF6",
              "width": 0.5
             },
             "pattern": {
              "fillmode": "overlay",
              "size": 10,
              "solidity": 0.2
             }
            },
            "type": "barpolar"
           }
          ],
          "carpet": [
           {
            "aaxis": {
             "endlinecolor": "#2a3f5f",
             "gridcolor": "white",
             "linecolor": "white",
             "minorgridcolor": "white",
             "startlinecolor": "#2a3f5f"
            },
            "baxis": {
             "endlinecolor": "#2a3f5f",
             "gridcolor": "white",
             "linecolor": "white",
             "minorgridcolor": "white",
             "startlinecolor": "#2a3f5f"
            },
            "type": "carpet"
           }
          ],
          "choropleth": [
           {
            "colorbar": {
             "outlinewidth": 0,
             "ticks": ""
            },
            "type": "choropleth"
           }
          ],
          "contour": [
           {
            "colorbar": {
             "outlinewidth": 0,
             "ticks": ""
            },
            "colorscale": [
             [
              0,
              "#0d0887"
             ],
             [
              0.1111111111111111,
              "#46039f"
             ],
             [
              0.2222222222222222,
              "#7201a8"
             ],
             [
              0.3333333333333333,
              "#9c179e"
             ],
             [
              0.4444444444444444,
              "#bd3786"
             ],
             [
              0.5555555555555556,
              "#d8576b"
             ],
             [
              0.6666666666666666,
              "#ed7953"
             ],
             [
              0.7777777777777778,
              "#fb9f3a"
             ],
             [
              0.8888888888888888,
              "#fdca26"
             ],
             [
              1,
              "#f0f921"
             ]
            ],
            "type": "contour"
           }
          ],
          "contourcarpet": [
           {
            "colorbar": {
             "outlinewidth": 0,
             "ticks": ""
            },
            "type": "contourcarpet"
           }
          ],
          "heatmap": [
           {
            "colorbar": {
             "outlinewidth": 0,
             "ticks": ""
            },
            "colorscale": [
             [
              0,
              "#0d0887"
             ],
             [
              0.1111111111111111,
              "#46039f"
             ],
             [
              0.2222222222222222,
              "#7201a8"
             ],
             [
              0.3333333333333333,
              "#9c179e"
             ],
             [
              0.4444444444444444,
              "#bd3786"
             ],
             [
              0.5555555555555556,
              "#d8576b"
             ],
             [
              0.6666666666666666,
              "#ed7953"
             ],
             [
              0.7777777777777778,
              "#fb9f3a"
             ],
             [
              0.8888888888888888,
              "#fdca26"
             ],
             [
              1,
              "#f0f921"
             ]
            ],
            "type": "heatmap"
           }
          ],
          "heatmapgl": [
           {
            "colorbar": {
             "outlinewidth": 0,
             "ticks": ""
            },
            "colorscale": [
             [
              0,
              "#0d0887"
             ],
             [
              0.1111111111111111,
              "#46039f"
             ],
             [
              0.2222222222222222,
              "#7201a8"
             ],
             [
              0.3333333333333333,
              "#9c179e"
             ],
             [
              0.4444444444444444,
              "#bd3786"
             ],
             [
              0.5555555555555556,
              "#d8576b"
             ],
             [
              0.6666666666666666,
              "#ed7953"
             ],
             [
              0.7777777777777778,
              "#fb9f3a"
             ],
             [
              0.8888888888888888,
              "#fdca26"
             ],
             [
              1,
              "#f0f921"
             ]
            ],
            "type": "heatmapgl"
           }
          ],
          "histogram": [
           {
            "marker": {
             "pattern": {
              "fillmode": "overlay",
              "size": 10,
              "solidity": 0.2
             }
            },
            "type": "histogram"
           }
          ],
          "histogram2d": [
           {
            "colorbar": {
             "outlinewidth": 0,
             "ticks": ""
            },
            "colorscale": [
             [
              0,
              "#0d0887"
             ],
             [
              0.1111111111111111,
              "#46039f"
             ],
             [
              0.2222222222222222,
              "#7201a8"
             ],
             [
              0.3333333333333333,
              "#9c179e"
             ],
             [
              0.4444444444444444,
              "#bd3786"
             ],
             [
              0.5555555555555556,
              "#d8576b"
             ],
             [
              0.6666666666666666,
              "#ed7953"
             ],
             [
              0.7777777777777778,
              "#fb9f3a"
             ],
             [
              0.8888888888888888,
              "#fdca26"
             ],
             [
              1,
              "#f0f921"
             ]
            ],
            "type": "histogram2d"
           }
          ],
          "histogram2dcontour": [
           {
            "colorbar": {
             "outlinewidth": 0,
             "ticks": ""
            },
            "colorscale": [
             [
              0,
              "#0d0887"
             ],
             [
              0.1111111111111111,
              "#46039f"
             ],
             [
              0.2222222222222222,
              "#7201a8"
             ],
             [
              0.3333333333333333,
              "#9c179e"
             ],
             [
              0.4444444444444444,
              "#bd3786"
             ],
             [
              0.5555555555555556,
              "#d8576b"
             ],
             [
              0.6666666666666666,
              "#ed7953"
             ],
             [
              0.7777777777777778,
              "#fb9f3a"
             ],
             [
              0.8888888888888888,
              "#fdca26"
             ],
             [
              1,
              "#f0f921"
             ]
            ],
            "type": "histogram2dcontour"
           }
          ],
          "mesh3d": [
           {
            "colorbar": {
             "outlinewidth": 0,
             "ticks": ""
            },
            "type": "mesh3d"
           }
          ],
          "parcoords": [
           {
            "line": {
             "colorbar": {
              "outlinewidth": 0,
              "ticks": ""
             }
            },
            "type": "parcoords"
           }
          ],
          "pie": [
           {
            "automargin": true,
            "type": "pie"
           }
          ],
          "scatter": [
           {
            "fillpattern": {
             "fillmode": "overlay",
             "size": 10,
             "solidity": 0.2
            },
            "type": "scatter"
           }
          ],
          "scatter3d": [
           {
            "line": {
             "colorbar": {
              "outlinewidth": 0,
              "ticks": ""
             }
            },
            "marker": {
             "colorbar": {
              "outlinewidth": 0,
              "ticks": ""
             }
            },
            "type": "scatter3d"
           }
          ],
          "scattercarpet": [
           {
            "marker": {
             "colorbar": {
              "outlinewidth": 0,
              "ticks": ""
             }
            },
            "type": "scattercarpet"
           }
          ],
          "scattergeo": [
           {
            "marker": {
             "colorbar": {
              "outlinewidth": 0,
              "ticks": ""
             }
            },
            "type": "scattergeo"
           }
          ],
          "scattergl": [
           {
            "marker": {
             "colorbar": {
              "outlinewidth": 0,
              "ticks": ""
             }
            },
            "type": "scattergl"
           }
          ],
          "scattermapbox": [
           {
            "marker": {
             "colorbar": {
              "outlinewidth": 0,
              "ticks": ""
             }
            },
            "type": "scattermapbox"
           }
          ],
          "scatterpolar": [
           {
            "marker": {
             "colorbar": {
              "outlinewidth": 0,
              "ticks": ""
             }
            },
            "type": "scatterpolar"
           }
          ],
          "scatterpolargl": [
           {
            "marker": {
             "colorbar": {
              "outlinewidth": 0,
              "ticks": ""
             }
            },
            "type": "scatterpolargl"
           }
          ],
          "scatterternary": [
           {
            "marker": {
             "colorbar": {
              "outlinewidth": 0,
              "ticks": ""
             }
            },
            "type": "scatterternary"
           }
          ],
          "surface": [
           {
            "colorbar": {
             "outlinewidth": 0,
             "ticks": ""
            },
            "colorscale": [
             [
              0,
              "#0d0887"
             ],
             [
              0.1111111111111111,
              "#46039f"
             ],
             [
              0.2222222222222222,
              "#7201a8"
             ],
             [
              0.3333333333333333,
              "#9c179e"
             ],
             [
              0.4444444444444444,
              "#bd3786"
             ],
             [
              0.5555555555555556,
              "#d8576b"
             ],
             [
              0.6666666666666666,
              "#ed7953"
             ],
             [
              0.7777777777777778,
              "#fb9f3a"
             ],
             [
              0.8888888888888888,
              "#fdca26"
             ],
             [
              1,
              "#f0f921"
             ]
            ],
            "type": "surface"
           }
          ],
          "table": [
           {
            "cells": {
             "fill": {
              "color": "#EBF0F8"
             },
             "line": {
              "color": "white"
             }
            },
            "header": {
             "fill": {
              "color": "#C8D4E3"
             },
             "line": {
              "color": "white"
             }
            },
            "type": "table"
           }
          ]
         },
         "layout": {
          "annotationdefaults": {
           "arrowcolor": "#2a3f5f",
           "arrowhead": 0,
           "arrowwidth": 1
          },
          "autotypenumbers": "strict",
          "coloraxis": {
           "colorbar": {
            "outlinewidth": 0,
            "ticks": ""
           }
          },
          "colorscale": {
           "diverging": [
            [
             0,
             "#8e0152"
            ],
            [
             0.1,
             "#c51b7d"
            ],
            [
             0.2,
             "#de77ae"
            ],
            [
             0.3,
             "#f1b6da"
            ],
            [
             0.4,
             "#fde0ef"
            ],
            [
             0.5,
             "#f7f7f7"
            ],
            [
             0.6,
             "#e6f5d0"
            ],
            [
             0.7,
             "#b8e186"
            ],
            [
             0.8,
             "#7fbc41"
            ],
            [
             0.9,
             "#4d9221"
            ],
            [
             1,
             "#276419"
            ]
           ],
           "sequential": [
            [
             0,
             "#0d0887"
            ],
            [
             0.1111111111111111,
             "#46039f"
            ],
            [
             0.2222222222222222,
             "#7201a8"
            ],
            [
             0.3333333333333333,
             "#9c179e"
            ],
            [
             0.4444444444444444,
             "#bd3786"
            ],
            [
             0.5555555555555556,
             "#d8576b"
            ],
            [
             0.6666666666666666,
             "#ed7953"
            ],
            [
             0.7777777777777778,
             "#fb9f3a"
            ],
            [
             0.8888888888888888,
             "#fdca26"
            ],
            [
             1,
             "#f0f921"
            ]
           ],
           "sequentialminus": [
            [
             0,
             "#0d0887"
            ],
            [
             0.1111111111111111,
             "#46039f"
            ],
            [
             0.2222222222222222,
             "#7201a8"
            ],
            [
             0.3333333333333333,
             "#9c179e"
            ],
            [
             0.4444444444444444,
             "#bd3786"
            ],
            [
             0.5555555555555556,
             "#d8576b"
            ],
            [
             0.6666666666666666,
             "#ed7953"
            ],
            [
             0.7777777777777778,
             "#fb9f3a"
            ],
            [
             0.8888888888888888,
             "#fdca26"
            ],
            [
             1,
             "#f0f921"
            ]
           ]
          },
          "colorway": [
           "#636efa",
           "#EF553B",
           "#00cc96",
           "#ab63fa",
           "#FFA15A",
           "#19d3f3",
           "#FF6692",
           "#B6E880",
           "#FF97FF",
           "#FECB52"
          ],
          "font": {
           "color": "#2a3f5f"
          },
          "geo": {
           "bgcolor": "white",
           "lakecolor": "white",
           "landcolor": "#E5ECF6",
           "showlakes": true,
           "showland": true,
           "subunitcolor": "white"
          },
          "hoverlabel": {
           "align": "left"
          },
          "hovermode": "closest",
          "mapbox": {
           "style": "light"
          },
          "paper_bgcolor": "white",
          "plot_bgcolor": "#E5ECF6",
          "polar": {
           "angularaxis": {
            "gridcolor": "white",
            "linecolor": "white",
            "ticks": ""
           },
           "bgcolor": "#E5ECF6",
           "radialaxis": {
            "gridcolor": "white",
            "linecolor": "white",
            "ticks": ""
           }
          },
          "scene": {
           "xaxis": {
            "backgroundcolor": "#E5ECF6",
            "gridcolor": "white",
            "gridwidth": 2,
            "linecolor": "white",
            "showbackground": true,
            "ticks": "",
            "zerolinecolor": "white"
           },
           "yaxis": {
            "backgroundcolor": "#E5ECF6",
            "gridcolor": "white",
            "gridwidth": 2,
            "linecolor": "white",
            "showbackground": true,
            "ticks": "",
            "zerolinecolor": "white"
           },
           "zaxis": {
            "backgroundcolor": "#E5ECF6",
            "gridcolor": "white",
            "gridwidth": 2,
            "linecolor": "white",
            "showbackground": true,
            "ticks": "",
            "zerolinecolor": "white"
           }
          },
          "shapedefaults": {
           "line": {
            "color": "#2a3f5f"
           }
          },
          "ternary": {
           "aaxis": {
            "gridcolor": "white",
            "linecolor": "white",
            "ticks": ""
           },
           "baxis": {
            "gridcolor": "white",
            "linecolor": "white",
            "ticks": ""
           },
           "bgcolor": "#E5ECF6",
           "caxis": {
            "gridcolor": "white",
            "linecolor": "white",
            "ticks": ""
           }
          },
          "title": {
           "x": 0.05
          },
          "xaxis": {
           "automargin": true,
           "gridcolor": "white",
           "linecolor": "white",
           "ticks": "",
           "title": {
            "standoff": 15
           },
           "zerolinecolor": "white",
           "zerolinewidth": 2
          },
          "yaxis": {
           "automargin": true,
           "gridcolor": "white",
           "linecolor": "white",
           "ticks": "",
           "title": {
            "standoff": 15
           },
           "zerolinecolor": "white",
           "zerolinewidth": 2
          }
         }
        },
        "title": {
         "text": "<b>Actual vs. Predicted Demand</b><br><sub>For store_2, feature set: existing only</sub>"
        },
        "xaxis": {
         "title": {
          "text": "Date"
         }
        },
        "yaxis": {
         "title": {
          "text": "Demand"
         }
        }
       }
      }
     },
     "metadata": {},
     "output_type": "display_data"
    },
    {
     "name": "stdout",
     "output_type": "stream",
     "text": [
      "Location: store_2\n",
      "--- Feature set: all, MAE: 2940.63, RMSE: 3549.07\n",
      "--- Feature set: existing only, MAE: 2858.75, RMSE: 5116.63\n",
      "--- Percentage change: MAE change: 2.86%, RMSE change: -30.64%\n",
      "\n"
     ]
    },
    {
     "data": {
      "application/vnd.plotly.v1+json": {
       "config": {
        "plotlyServerURL": "https://plot.ly"
       },
       "data": [
        {
         "line": {
          "color": "lightseagreen"
         },
         "mode": "lines+markers",
         "name": "Train Actual",
         "type": "scatter",
         "x": [
          "2017-01-09T00:00:00",
          "2017-01-16T00:00:00",
          "2017-01-23T00:00:00",
          "2017-01-30T00:00:00",
          "2017-02-06T00:00:00",
          "2017-02-13T00:00:00",
          "2017-02-20T00:00:00",
          "2017-02-27T00:00:00",
          "2017-03-06T00:00:00",
          "2017-03-13T00:00:00",
          "2017-03-20T00:00:00",
          "2017-03-27T00:00:00",
          "2017-04-03T00:00:00",
          "2017-04-10T00:00:00",
          "2017-04-17T00:00:00",
          "2017-04-24T00:00:00",
          "2017-05-01T00:00:00",
          "2017-05-08T00:00:00",
          "2017-05-15T00:00:00",
          "2017-05-22T00:00:00",
          "2017-05-29T00:00:00",
          "2017-06-05T00:00:00",
          "2017-06-12T00:00:00",
          "2017-06-19T00:00:00",
          "2017-06-26T00:00:00",
          "2017-07-03T00:00:00",
          "2017-07-10T00:00:00",
          "2017-07-17T00:00:00",
          "2017-07-24T00:00:00",
          "2017-07-31T00:00:00",
          "2017-08-07T00:00:00",
          "2017-08-14T00:00:00",
          "2017-08-21T00:00:00",
          "2017-08-28T00:00:00",
          "2017-09-04T00:00:00",
          "2017-09-11T00:00:00",
          "2017-09-18T00:00:00",
          "2017-09-25T00:00:00",
          "2017-10-02T00:00:00",
          "2017-10-09T00:00:00",
          "2017-10-16T00:00:00",
          "2017-10-23T00:00:00",
          "2017-10-30T00:00:00",
          "2017-11-06T00:00:00",
          "2017-11-13T00:00:00",
          "2017-11-20T00:00:00",
          "2017-11-27T00:00:00",
          "2017-12-04T00:00:00",
          "2017-12-11T00:00:00",
          "2017-12-18T00:00:00",
          "2017-12-25T00:00:00",
          "2018-01-01T00:00:00",
          "2018-01-08T00:00:00",
          "2018-01-15T00:00:00",
          "2018-01-22T00:00:00",
          "2018-01-29T00:00:00",
          "2018-02-05T00:00:00",
          "2018-02-12T00:00:00",
          "2018-02-19T00:00:00",
          "2018-02-26T00:00:00",
          "2018-03-05T00:00:00",
          "2018-03-12T00:00:00",
          "2018-03-19T00:00:00",
          "2018-03-26T00:00:00",
          "2018-04-02T00:00:00",
          "2018-04-09T00:00:00",
          "2018-04-16T00:00:00",
          "2018-04-23T00:00:00",
          "2018-04-30T00:00:00",
          "2018-05-07T00:00:00",
          "2018-05-14T00:00:00",
          "2018-05-21T00:00:00",
          "2018-05-28T00:00:00",
          "2018-06-04T00:00:00",
          "2018-06-11T00:00:00",
          "2018-06-18T00:00:00",
          "2018-06-25T00:00:00",
          "2018-07-02T00:00:00",
          "2018-07-09T00:00:00",
          "2018-07-16T00:00:00",
          "2018-07-23T00:00:00",
          "2018-07-30T00:00:00",
          "2018-08-06T00:00:00",
          "2018-08-13T00:00:00",
          "2018-08-20T00:00:00",
          "2018-08-27T00:00:00",
          "2018-09-03T00:00:00",
          "2018-09-10T00:00:00",
          "2018-09-17T00:00:00",
          "2018-09-24T00:00:00",
          "2018-10-01T00:00:00",
          "2018-10-08T00:00:00",
          "2018-10-15T00:00:00",
          "2018-10-22T00:00:00",
          "2018-10-29T00:00:00",
          "2018-11-05T00:00:00",
          "2018-11-12T00:00:00",
          "2018-11-19T00:00:00",
          "2018-11-26T00:00:00",
          "2018-12-03T00:00:00",
          "2018-12-10T00:00:00",
          "2018-12-17T00:00:00",
          "2018-12-24T00:00:00",
          "2018-12-31T00:00:00",
          "2019-01-07T00:00:00",
          "2019-01-14T00:00:00",
          "2019-01-21T00:00:00",
          "2019-01-28T00:00:00",
          "2019-02-04T00:00:00",
          "2019-02-11T00:00:00",
          "2019-02-18T00:00:00",
          "2019-02-25T00:00:00",
          "2019-03-04T00:00:00",
          "2019-03-11T00:00:00",
          "2019-03-18T00:00:00",
          "2019-03-25T00:00:00",
          "2019-04-01T00:00:00",
          "2019-04-08T00:00:00",
          "2019-04-15T00:00:00",
          "2019-04-22T00:00:00",
          "2019-04-29T00:00:00",
          "2019-05-06T00:00:00",
          "2019-05-13T00:00:00",
          "2019-05-20T00:00:00"
         ],
         "y": [
          48390.50733898076,
          51911.11553053755,
          53449.320464968725,
          58704.38242358937,
          57473.36474790895,
          60780.8543714146,
          60485.7628299691,
          44122.214049415474,
          65342.99616771335,
          57543.692151475545,
          65378.126481806175,
          63579.79524223412,
          63578.14066507783,
          54491.44274495924,
          68631.94820786956,
          67029.3893435182,
          68232.45527114086,
          67527.13434536525,
          66455.58304751571,
          57296.53154795354,
          50996.01774175456,
          60527.09994578548,
          59803.451257156456,
          60385.45233940146,
          58923.8247660221,
          51146.93897873558,
          61808.756373192366,
          50462.89949773008,
          50064.68230119076,
          52864.30410282292,
          52126.23576961995,
          53912.29445186879,
          52971.64883148636,
          54710.82313269647,
          54265.60465939276,
          61436.05258124464,
          57211.44368930791,
          58669.68395278262,
          58927.53435294758,
          57050.89055946524,
          58410.6656621842,
          52812.70493135799,
          57365.20939824293,
          54627.47658218336,
          54473.31113557738,
          37605.14412364928,
          55030.99774886391,
          56448.31170849646,
          51679.26767730644,
          46259.11754254512,
          31667.163517832283,
          38860.176936346455,
          50162.45092780741,
          47000.52863400278,
          51453.08975010864,
          55137.44428403377,
          56951.5299138846,
          57991.89708187365,
          55330.73009347786,
          56651.99176930242,
          55675.80051853388,
          59506.64625867928,
          56759.02017973056,
          48916.52936377859,
          62389.91893101443,
          62468.36111391572,
          61801.27273847033,
          57071.71350346829,
          63889.46502584486,
          63398.79526101853,
          64880.07161825325,
          55646.59026082094,
          53436.43985834859,
          57171.73872988804,
          57252.2231327874,
          59739.26870026487,
          57449.62100307433,
          49598.58235114687,
          60813.39462956359,
          60698.44052460343,
          54352.946845321785,
          57574.32055391596,
          55762.069167900045,
          58427.94125506093,
          59137.30512268753,
          57429.04858132339,
          59234.06865308728,
          62584.68745037616,
          62873.55353808311,
          64068.35980295127,
          65769.4225821275,
          64111.58381596552,
          61778.33511803928,
          67030.35781366898,
          67229.03044617742,
          67131.4805952479,
          63695.461203226754,
          44161.33966982063,
          63762.36342595418,
          68959.22149271796,
          67525.16092783633,
          57812.11555406321,
          35112.83387677584,
          49989.93642100796,
          57555.91718279058,
          57911.59549864791,
          55053.02694219107,
          63622.76958194927,
          67135.70851239852,
          63164.16798711939,
          63626.17487039401,
          67340.48179058722,
          68158.76535973922,
          71766.9239249786,
          68264.32094177917,
          69464.1195390032,
          73815.12450683035,
          67411.00256412881,
          54456.3057315809,
          73216.86774899735,
          70047.55186116362,
          66954.7837542367,
          71055.37895773555,
          61324.53355605616
         ]
        },
        {
         "line": {
          "color": "LightSkyBlue"
         },
         "mode": "lines+markers",
         "name": "Test Actual",
         "type": "scatter",
         "x": [
          "2019-05-27T00:00:00",
          "2019-06-03T00:00:00",
          "2019-06-10T00:00:00",
          "2019-06-17T00:00:00",
          "2019-06-24T00:00:00",
          "2019-07-01T00:00:00",
          "2019-07-08T00:00:00",
          "2019-07-15T00:00:00",
          "2019-07-22T00:00:00",
          "2019-07-29T00:00:00",
          "2019-08-05T00:00:00",
          "2019-08-12T00:00:00",
          "2019-08-19T00:00:00",
          "2019-08-26T00:00:00",
          "2019-09-02T00:00:00",
          "2019-09-09T00:00:00",
          "2019-09-16T00:00:00",
          "2019-09-23T00:00:00",
          "2019-09-30T00:00:00",
          "2019-10-07T00:00:00",
          "2019-10-14T00:00:00",
          "2019-10-21T00:00:00",
          "2019-10-28T00:00:00",
          "2019-11-04T00:00:00",
          "2019-11-11T00:00:00",
          "2019-11-18T00:00:00",
          "2019-11-25T00:00:00",
          "2019-12-02T00:00:00",
          "2019-12-09T00:00:00",
          "2019-12-16T00:00:00",
          "2019-12-23T00:00:00"
         ],
         "y": [
          55594.84901910527,
          63142.35720035958,
          62067.54001230654,
          62445.2586544875,
          68003.90339192896,
          50991.169958853934,
          63575.70990434392,
          62710.241808806895,
          63297.297374517104,
          64094.90658059754,
          61498.69528679977,
          62808.44287786513,
          64504.38412385927,
          63567.3726254616,
          62416.56454064294,
          68837.70989228575,
          69581.15955549643,
          70229.25136786139,
          62938.02786810485,
          68383.55656023888,
          67657.189165805,
          65585.44011474343,
          68709.79831268532,
          68407.08849969078,
          66702.58197903674,
          68142.23208358278,
          45509.47747983769,
          69690.7775900788,
          69307.25832121732,
          57438.10290669016,
          33587.50987935713
         ]
        },
        {
         "line": {
          "color": "lightcoral"
         },
         "mode": "lines+markers",
         "name": "Test Predicted",
         "type": "scatter",
         "x": [
          "2019-05-27T00:00:00",
          "2019-06-03T00:00:00",
          "2019-06-10T00:00:00",
          "2019-06-17T00:00:00",
          "2019-06-24T00:00:00",
          "2019-07-01T00:00:00",
          "2019-07-08T00:00:00",
          "2019-07-15T00:00:00",
          "2019-07-22T00:00:00",
          "2019-07-29T00:00:00",
          "2019-08-05T00:00:00",
          "2019-08-12T00:00:00",
          "2019-08-19T00:00:00",
          "2019-08-26T00:00:00",
          "2019-09-02T00:00:00",
          "2019-09-09T00:00:00",
          "2019-09-16T00:00:00",
          "2019-09-23T00:00:00",
          "2019-09-30T00:00:00",
          "2019-10-07T00:00:00",
          "2019-10-14T00:00:00",
          "2019-10-21T00:00:00",
          "2019-10-28T00:00:00",
          "2019-11-04T00:00:00",
          "2019-11-11T00:00:00",
          "2019-11-18T00:00:00",
          "2019-11-25T00:00:00",
          "2019-12-02T00:00:00",
          "2019-12-09T00:00:00",
          "2019-12-16T00:00:00",
          "2019-12-23T00:00:00"
         ],
         "y": [
          58164.015625,
          60456.01171875,
          60072.078125,
          58024.90234375,
          56158.44921875,
          53380.96875,
          56724.24609375,
          58473.58203125,
          57494.1796875,
          55370.52734375,
          57448.59765625,
          56017.5234375,
          56929.41796875,
          56036.47265625,
          59572.68359375,
          65756.1484375,
          64502.359375,
          63718.90625,
          63033.234375,
          64576.93359375,
          64930.45703125,
          63008.1875,
          63572.8515625,
          62873.44140625,
          60670.02734375,
          65978.5078125,
          46683.40625,
          63359.93359375,
          63873.7578125,
          52661.23046875,
          38944.41015625
         ]
        }
       ],
       "layout": {
        "legend": {
         "title": {
          "text": "Type"
         }
        },
        "shapes": [
         {
          "line": {
           "color": "lightgray",
           "dash": "dot",
           "width": 2
          },
          "type": "line",
          "x0": "2019-05-27T00:00:00",
          "x1": "2019-05-27T00:00:00",
          "xref": "x",
          "y0": 0,
          "y1": 1,
          "yref": "y domain"
         }
        ],
        "template": {
         "data": {
          "bar": [
           {
            "error_x": {
             "color": "#2a3f5f"
            },
            "error_y": {
             "color": "#2a3f5f"
            },
            "marker": {
             "line": {
              "color": "#E5ECF6",
              "width": 0.5
             },
             "pattern": {
              "fillmode": "overlay",
              "size": 10,
              "solidity": 0.2
             }
            },
            "type": "bar"
           }
          ],
          "barpolar": [
           {
            "marker": {
             "line": {
              "color": "#E5ECF6",
              "width": 0.5
             },
             "pattern": {
              "fillmode": "overlay",
              "size": 10,
              "solidity": 0.2
             }
            },
            "type": "barpolar"
           }
          ],
          "carpet": [
           {
            "aaxis": {
             "endlinecolor": "#2a3f5f",
             "gridcolor": "white",
             "linecolor": "white",
             "minorgridcolor": "white",
             "startlinecolor": "#2a3f5f"
            },
            "baxis": {
             "endlinecolor": "#2a3f5f",
             "gridcolor": "white",
             "linecolor": "white",
             "minorgridcolor": "white",
             "startlinecolor": "#2a3f5f"
            },
            "type": "carpet"
           }
          ],
          "choropleth": [
           {
            "colorbar": {
             "outlinewidth": 0,
             "ticks": ""
            },
            "type": "choropleth"
           }
          ],
          "contour": [
           {
            "colorbar": {
             "outlinewidth": 0,
             "ticks": ""
            },
            "colorscale": [
             [
              0,
              "#0d0887"
             ],
             [
              0.1111111111111111,
              "#46039f"
             ],
             [
              0.2222222222222222,
              "#7201a8"
             ],
             [
              0.3333333333333333,
              "#9c179e"
             ],
             [
              0.4444444444444444,
              "#bd3786"
             ],
             [
              0.5555555555555556,
              "#d8576b"
             ],
             [
              0.6666666666666666,
              "#ed7953"
             ],
             [
              0.7777777777777778,
              "#fb9f3a"
             ],
             [
              0.8888888888888888,
              "#fdca26"
             ],
             [
              1,
              "#f0f921"
             ]
            ],
            "type": "contour"
           }
          ],
          "contourcarpet": [
           {
            "colorbar": {
             "outlinewidth": 0,
             "ticks": ""
            },
            "type": "contourcarpet"
           }
          ],
          "heatmap": [
           {
            "colorbar": {
             "outlinewidth": 0,
             "ticks": ""
            },
            "colorscale": [
             [
              0,
              "#0d0887"
             ],
             [
              0.1111111111111111,
              "#46039f"
             ],
             [
              0.2222222222222222,
              "#7201a8"
             ],
             [
              0.3333333333333333,
              "#9c179e"
             ],
             [
              0.4444444444444444,
              "#bd3786"
             ],
             [
              0.5555555555555556,
              "#d8576b"
             ],
             [
              0.6666666666666666,
              "#ed7953"
             ],
             [
              0.7777777777777778,
              "#fb9f3a"
             ],
             [
              0.8888888888888888,
              "#fdca26"
             ],
             [
              1,
              "#f0f921"
             ]
            ],
            "type": "heatmap"
           }
          ],
          "heatmapgl": [
           {
            "colorbar": {
             "outlinewidth": 0,
             "ticks": ""
            },
            "colorscale": [
             [
              0,
              "#0d0887"
             ],
             [
              0.1111111111111111,
              "#46039f"
             ],
             [
              0.2222222222222222,
              "#7201a8"
             ],
             [
              0.3333333333333333,
              "#9c179e"
             ],
             [
              0.4444444444444444,
              "#bd3786"
             ],
             [
              0.5555555555555556,
              "#d8576b"
             ],
             [
              0.6666666666666666,
              "#ed7953"
             ],
             [
              0.7777777777777778,
              "#fb9f3a"
             ],
             [
              0.8888888888888888,
              "#fdca26"
             ],
             [
              1,
              "#f0f921"
             ]
            ],
            "type": "heatmapgl"
           }
          ],
          "histogram": [
           {
            "marker": {
             "pattern": {
              "fillmode": "overlay",
              "size": 10,
              "solidity": 0.2
             }
            },
            "type": "histogram"
           }
          ],
          "histogram2d": [
           {
            "colorbar": {
             "outlinewidth": 0,
             "ticks": ""
            },
            "colorscale": [
             [
              0,
              "#0d0887"
             ],
             [
              0.1111111111111111,
              "#46039f"
             ],
             [
              0.2222222222222222,
              "#7201a8"
             ],
             [
              0.3333333333333333,
              "#9c179e"
             ],
             [
              0.4444444444444444,
              "#bd3786"
             ],
             [
              0.5555555555555556,
              "#d8576b"
             ],
             [
              0.6666666666666666,
              "#ed7953"
             ],
             [
              0.7777777777777778,
              "#fb9f3a"
             ],
             [
              0.8888888888888888,
              "#fdca26"
             ],
             [
              1,
              "#f0f921"
             ]
            ],
            "type": "histogram2d"
           }
          ],
          "histogram2dcontour": [
           {
            "colorbar": {
             "outlinewidth": 0,
             "ticks": ""
            },
            "colorscale": [
             [
              0,
              "#0d0887"
             ],
             [
              0.1111111111111111,
              "#46039f"
             ],
             [
              0.2222222222222222,
              "#7201a8"
             ],
             [
              0.3333333333333333,
              "#9c179e"
             ],
             [
              0.4444444444444444,
              "#bd3786"
             ],
             [
              0.5555555555555556,
              "#d8576b"
             ],
             [
              0.6666666666666666,
              "#ed7953"
             ],
             [
              0.7777777777777778,
              "#fb9f3a"
             ],
             [
              0.8888888888888888,
              "#fdca26"
             ],
             [
              1,
              "#f0f921"
             ]
            ],
            "type": "histogram2dcontour"
           }
          ],
          "mesh3d": [
           {
            "colorbar": {
             "outlinewidth": 0,
             "ticks": ""
            },
            "type": "mesh3d"
           }
          ],
          "parcoords": [
           {
            "line": {
             "colorbar": {
              "outlinewidth": 0,
              "ticks": ""
             }
            },
            "type": "parcoords"
           }
          ],
          "pie": [
           {
            "automargin": true,
            "type": "pie"
           }
          ],
          "scatter": [
           {
            "fillpattern": {
             "fillmode": "overlay",
             "size": 10,
             "solidity": 0.2
            },
            "type": "scatter"
           }
          ],
          "scatter3d": [
           {
            "line": {
             "colorbar": {
              "outlinewidth": 0,
              "ticks": ""
             }
            },
            "marker": {
             "colorbar": {
              "outlinewidth": 0,
              "ticks": ""
             }
            },
            "type": "scatter3d"
           }
          ],
          "scattercarpet": [
           {
            "marker": {
             "colorbar": {
              "outlinewidth": 0,
              "ticks": ""
             }
            },
            "type": "scattercarpet"
           }
          ],
          "scattergeo": [
           {
            "marker": {
             "colorbar": {
              "outlinewidth": 0,
              "ticks": ""
             }
            },
            "type": "scattergeo"
           }
          ],
          "scattergl": [
           {
            "marker": {
             "colorbar": {
              "outlinewidth": 0,
              "ticks": ""
             }
            },
            "type": "scattergl"
           }
          ],
          "scattermapbox": [
           {
            "marker": {
             "colorbar": {
              "outlinewidth": 0,
              "ticks": ""
             }
            },
            "type": "scattermapbox"
           }
          ],
          "scatterpolar": [
           {
            "marker": {
             "colorbar": {
              "outlinewidth": 0,
              "ticks": ""
             }
            },
            "type": "scatterpolar"
           }
          ],
          "scatterpolargl": [
           {
            "marker": {
             "colorbar": {
              "outlinewidth": 0,
              "ticks": ""
             }
            },
            "type": "scatterpolargl"
           }
          ],
          "scatterternary": [
           {
            "marker": {
             "colorbar": {
              "outlinewidth": 0,
              "ticks": ""
             }
            },
            "type": "scatterternary"
           }
          ],
          "surface": [
           {
            "colorbar": {
             "outlinewidth": 0,
             "ticks": ""
            },
            "colorscale": [
             [
              0,
              "#0d0887"
             ],
             [
              0.1111111111111111,
              "#46039f"
             ],
             [
              0.2222222222222222,
              "#7201a8"
             ],
             [
              0.3333333333333333,
              "#9c179e"
             ],
             [
              0.4444444444444444,
              "#bd3786"
             ],
             [
              0.5555555555555556,
              "#d8576b"
             ],
             [
              0.6666666666666666,
              "#ed7953"
             ],
             [
              0.7777777777777778,
              "#fb9f3a"
             ],
             [
              0.8888888888888888,
              "#fdca26"
             ],
             [
              1,
              "#f0f921"
             ]
            ],
            "type": "surface"
           }
          ],
          "table": [
           {
            "cells": {
             "fill": {
              "color": "#EBF0F8"
             },
             "line": {
              "color": "white"
             }
            },
            "header": {
             "fill": {
              "color": "#C8D4E3"
             },
             "line": {
              "color": "white"
             }
            },
            "type": "table"
           }
          ]
         },
         "layout": {
          "annotationdefaults": {
           "arrowcolor": "#2a3f5f",
           "arrowhead": 0,
           "arrowwidth": 1
          },
          "autotypenumbers": "strict",
          "coloraxis": {
           "colorbar": {
            "outlinewidth": 0,
            "ticks": ""
           }
          },
          "colorscale": {
           "diverging": [
            [
             0,
             "#8e0152"
            ],
            [
             0.1,
             "#c51b7d"
            ],
            [
             0.2,
             "#de77ae"
            ],
            [
             0.3,
             "#f1b6da"
            ],
            [
             0.4,
             "#fde0ef"
            ],
            [
             0.5,
             "#f7f7f7"
            ],
            [
             0.6,
             "#e6f5d0"
            ],
            [
             0.7,
             "#b8e186"
            ],
            [
             0.8,
             "#7fbc41"
            ],
            [
             0.9,
             "#4d9221"
            ],
            [
             1,
             "#276419"
            ]
           ],
           "sequential": [
            [
             0,
             "#0d0887"
            ],
            [
             0.1111111111111111,
             "#46039f"
            ],
            [
             0.2222222222222222,
             "#7201a8"
            ],
            [
             0.3333333333333333,
             "#9c179e"
            ],
            [
             0.4444444444444444,
             "#bd3786"
            ],
            [
             0.5555555555555556,
             "#d8576b"
            ],
            [
             0.6666666666666666,
             "#ed7953"
            ],
            [
             0.7777777777777778,
             "#fb9f3a"
            ],
            [
             0.8888888888888888,
             "#fdca26"
            ],
            [
             1,
             "#f0f921"
            ]
           ],
           "sequentialminus": [
            [
             0,
             "#0d0887"
            ],
            [
             0.1111111111111111,
             "#46039f"
            ],
            [
             0.2222222222222222,
             "#7201a8"
            ],
            [
             0.3333333333333333,
             "#9c179e"
            ],
            [
             0.4444444444444444,
             "#bd3786"
            ],
            [
             0.5555555555555556,
             "#d8576b"
            ],
            [
             0.6666666666666666,
             "#ed7953"
            ],
            [
             0.7777777777777778,
             "#fb9f3a"
            ],
            [
             0.8888888888888888,
             "#fdca26"
            ],
            [
             1,
             "#f0f921"
            ]
           ]
          },
          "colorway": [
           "#636efa",
           "#EF553B",
           "#00cc96",
           "#ab63fa",
           "#FFA15A",
           "#19d3f3",
           "#FF6692",
           "#B6E880",
           "#FF97FF",
           "#FECB52"
          ],
          "font": {
           "color": "#2a3f5f"
          },
          "geo": {
           "bgcolor": "white",
           "lakecolor": "white",
           "landcolor": "#E5ECF6",
           "showlakes": true,
           "showland": true,
           "subunitcolor": "white"
          },
          "hoverlabel": {
           "align": "left"
          },
          "hovermode": "closest",
          "mapbox": {
           "style": "light"
          },
          "paper_bgcolor": "white",
          "plot_bgcolor": "#E5ECF6",
          "polar": {
           "angularaxis": {
            "gridcolor": "white",
            "linecolor": "white",
            "ticks": ""
           },
           "bgcolor": "#E5ECF6",
           "radialaxis": {
            "gridcolor": "white",
            "linecolor": "white",
            "ticks": ""
           }
          },
          "scene": {
           "xaxis": {
            "backgroundcolor": "#E5ECF6",
            "gridcolor": "white",
            "gridwidth": 2,
            "linecolor": "white",
            "showbackground": true,
            "ticks": "",
            "zerolinecolor": "white"
           },
           "yaxis": {
            "backgroundcolor": "#E5ECF6",
            "gridcolor": "white",
            "gridwidth": 2,
            "linecolor": "white",
            "showbackground": true,
            "ticks": "",
            "zerolinecolor": "white"
           },
           "zaxis": {
            "backgroundcolor": "#E5ECF6",
            "gridcolor": "white",
            "gridwidth": 2,
            "linecolor": "white",
            "showbackground": true,
            "ticks": "",
            "zerolinecolor": "white"
           }
          },
          "shapedefaults": {
           "line": {
            "color": "#2a3f5f"
           }
          },
          "ternary": {
           "aaxis": {
            "gridcolor": "white",
            "linecolor": "white",
            "ticks": ""
           },
           "baxis": {
            "gridcolor": "white",
            "linecolor": "white",
            "ticks": ""
           },
           "bgcolor": "#E5ECF6",
           "caxis": {
            "gridcolor": "white",
            "linecolor": "white",
            "ticks": ""
           }
          },
          "title": {
           "x": 0.05
          },
          "xaxis": {
           "automargin": true,
           "gridcolor": "white",
           "linecolor": "white",
           "ticks": "",
           "title": {
            "standoff": 15
           },
           "zerolinecolor": "white",
           "zerolinewidth": 2
          },
          "yaxis": {
           "automargin": true,
           "gridcolor": "white",
           "linecolor": "white",
           "ticks": "",
           "title": {
            "standoff": 15
           },
           "zerolinecolor": "white",
           "zerolinewidth": 2
          }
         }
        },
        "title": {
         "text": "<b>Actual vs. Predicted Demand</b><br><sub>For store_3, feature set: all</sub>"
        },
        "xaxis": {
         "title": {
          "text": "Date"
         }
        },
        "yaxis": {
         "title": {
          "text": "Demand"
         }
        }
       }
      }
     },
     "metadata": {},
     "output_type": "display_data"
    },
    {
     "data": {
      "application/vnd.plotly.v1+json": {
       "config": {
        "plotlyServerURL": "https://plot.ly"
       },
       "data": [
        {
         "line": {
          "color": "lightseagreen"
         },
         "mode": "lines+markers",
         "name": "Train Actual",
         "type": "scatter",
         "x": [
          "2017-01-09T00:00:00",
          "2017-01-16T00:00:00",
          "2017-01-23T00:00:00",
          "2017-01-30T00:00:00",
          "2017-02-06T00:00:00",
          "2017-02-13T00:00:00",
          "2017-02-20T00:00:00",
          "2017-02-27T00:00:00",
          "2017-03-06T00:00:00",
          "2017-03-13T00:00:00",
          "2017-03-20T00:00:00",
          "2017-03-27T00:00:00",
          "2017-04-03T00:00:00",
          "2017-04-10T00:00:00",
          "2017-04-17T00:00:00",
          "2017-04-24T00:00:00",
          "2017-05-01T00:00:00",
          "2017-05-08T00:00:00",
          "2017-05-15T00:00:00",
          "2017-05-22T00:00:00",
          "2017-05-29T00:00:00",
          "2017-06-05T00:00:00",
          "2017-06-12T00:00:00",
          "2017-06-19T00:00:00",
          "2017-06-26T00:00:00",
          "2017-07-03T00:00:00",
          "2017-07-10T00:00:00",
          "2017-07-17T00:00:00",
          "2017-07-24T00:00:00",
          "2017-07-31T00:00:00",
          "2017-08-07T00:00:00",
          "2017-08-14T00:00:00",
          "2017-08-21T00:00:00",
          "2017-08-28T00:00:00",
          "2017-09-04T00:00:00",
          "2017-09-11T00:00:00",
          "2017-09-18T00:00:00",
          "2017-09-25T00:00:00",
          "2017-10-02T00:00:00",
          "2017-10-09T00:00:00",
          "2017-10-16T00:00:00",
          "2017-10-23T00:00:00",
          "2017-10-30T00:00:00",
          "2017-11-06T00:00:00",
          "2017-11-13T00:00:00",
          "2017-11-20T00:00:00",
          "2017-11-27T00:00:00",
          "2017-12-04T00:00:00",
          "2017-12-11T00:00:00",
          "2017-12-18T00:00:00",
          "2017-12-25T00:00:00",
          "2018-01-01T00:00:00",
          "2018-01-08T00:00:00",
          "2018-01-15T00:00:00",
          "2018-01-22T00:00:00",
          "2018-01-29T00:00:00",
          "2018-02-05T00:00:00",
          "2018-02-12T00:00:00",
          "2018-02-19T00:00:00",
          "2018-02-26T00:00:00",
          "2018-03-05T00:00:00",
          "2018-03-12T00:00:00",
          "2018-03-19T00:00:00",
          "2018-03-26T00:00:00",
          "2018-04-02T00:00:00",
          "2018-04-09T00:00:00",
          "2018-04-16T00:00:00",
          "2018-04-23T00:00:00",
          "2018-04-30T00:00:00",
          "2018-05-07T00:00:00",
          "2018-05-14T00:00:00",
          "2018-05-21T00:00:00",
          "2018-05-28T00:00:00",
          "2018-06-04T00:00:00",
          "2018-06-11T00:00:00",
          "2018-06-18T00:00:00",
          "2018-06-25T00:00:00",
          "2018-07-02T00:00:00",
          "2018-07-09T00:00:00",
          "2018-07-16T00:00:00",
          "2018-07-23T00:00:00",
          "2018-07-30T00:00:00",
          "2018-08-06T00:00:00",
          "2018-08-13T00:00:00",
          "2018-08-20T00:00:00",
          "2018-08-27T00:00:00",
          "2018-09-03T00:00:00",
          "2018-09-10T00:00:00",
          "2018-09-17T00:00:00",
          "2018-09-24T00:00:00",
          "2018-10-01T00:00:00",
          "2018-10-08T00:00:00",
          "2018-10-15T00:00:00",
          "2018-10-22T00:00:00",
          "2018-10-29T00:00:00",
          "2018-11-05T00:00:00",
          "2018-11-12T00:00:00",
          "2018-11-19T00:00:00",
          "2018-11-26T00:00:00",
          "2018-12-03T00:00:00",
          "2018-12-10T00:00:00",
          "2018-12-17T00:00:00",
          "2018-12-24T00:00:00",
          "2018-12-31T00:00:00",
          "2019-01-07T00:00:00",
          "2019-01-14T00:00:00",
          "2019-01-21T00:00:00",
          "2019-01-28T00:00:00",
          "2019-02-04T00:00:00",
          "2019-02-11T00:00:00",
          "2019-02-18T00:00:00",
          "2019-02-25T00:00:00",
          "2019-03-04T00:00:00",
          "2019-03-11T00:00:00",
          "2019-03-18T00:00:00",
          "2019-03-25T00:00:00",
          "2019-04-01T00:00:00",
          "2019-04-08T00:00:00",
          "2019-04-15T00:00:00",
          "2019-04-22T00:00:00",
          "2019-04-29T00:00:00",
          "2019-05-06T00:00:00",
          "2019-05-13T00:00:00",
          "2019-05-20T00:00:00"
         ],
         "y": [
          48390.50733898076,
          51911.11553053755,
          53449.320464968725,
          58704.38242358937,
          57473.36474790895,
          60780.8543714146,
          60485.7628299691,
          44122.214049415474,
          65342.99616771335,
          57543.692151475545,
          65378.126481806175,
          63579.79524223412,
          63578.14066507783,
          54491.44274495924,
          68631.94820786956,
          67029.3893435182,
          68232.45527114086,
          67527.13434536525,
          66455.58304751571,
          57296.53154795354,
          50996.01774175456,
          60527.09994578548,
          59803.451257156456,
          60385.45233940146,
          58923.8247660221,
          51146.93897873558,
          61808.756373192366,
          50462.89949773008,
          50064.68230119076,
          52864.30410282292,
          52126.23576961995,
          53912.29445186879,
          52971.64883148636,
          54710.82313269647,
          54265.60465939276,
          61436.05258124464,
          57211.44368930791,
          58669.68395278262,
          58927.53435294758,
          57050.89055946524,
          58410.6656621842,
          52812.70493135799,
          57365.20939824293,
          54627.47658218336,
          54473.31113557738,
          37605.14412364928,
          55030.99774886391,
          56448.31170849646,
          51679.26767730644,
          46259.11754254512,
          31667.163517832283,
          38860.176936346455,
          50162.45092780741,
          47000.52863400278,
          51453.08975010864,
          55137.44428403377,
          56951.5299138846,
          57991.89708187365,
          55330.73009347786,
          56651.99176930242,
          55675.80051853388,
          59506.64625867928,
          56759.02017973056,
          48916.52936377859,
          62389.91893101443,
          62468.36111391572,
          61801.27273847033,
          57071.71350346829,
          63889.46502584486,
          63398.79526101853,
          64880.07161825325,
          55646.59026082094,
          53436.43985834859,
          57171.73872988804,
          57252.2231327874,
          59739.26870026487,
          57449.62100307433,
          49598.58235114687,
          60813.39462956359,
          60698.44052460343,
          54352.946845321785,
          57574.32055391596,
          55762.069167900045,
          58427.94125506093,
          59137.30512268753,
          57429.04858132339,
          59234.06865308728,
          62584.68745037616,
          62873.55353808311,
          64068.35980295127,
          65769.4225821275,
          64111.58381596552,
          61778.33511803928,
          67030.35781366898,
          67229.03044617742,
          67131.4805952479,
          63695.461203226754,
          44161.33966982063,
          63762.36342595418,
          68959.22149271796,
          67525.16092783633,
          57812.11555406321,
          35112.83387677584,
          49989.93642100796,
          57555.91718279058,
          57911.59549864791,
          55053.02694219107,
          63622.76958194927,
          67135.70851239852,
          63164.16798711939,
          63626.17487039401,
          67340.48179058722,
          68158.76535973922,
          71766.9239249786,
          68264.32094177917,
          69464.1195390032,
          73815.12450683035,
          67411.00256412881,
          54456.3057315809,
          73216.86774899735,
          70047.55186116362,
          66954.7837542367,
          71055.37895773555,
          61324.53355605616
         ]
        },
        {
         "line": {
          "color": "LightSkyBlue"
         },
         "mode": "lines+markers",
         "name": "Test Actual",
         "type": "scatter",
         "x": [
          "2019-05-27T00:00:00",
          "2019-06-03T00:00:00",
          "2019-06-10T00:00:00",
          "2019-06-17T00:00:00",
          "2019-06-24T00:00:00",
          "2019-07-01T00:00:00",
          "2019-07-08T00:00:00",
          "2019-07-15T00:00:00",
          "2019-07-22T00:00:00",
          "2019-07-29T00:00:00",
          "2019-08-05T00:00:00",
          "2019-08-12T00:00:00",
          "2019-08-19T00:00:00",
          "2019-08-26T00:00:00",
          "2019-09-02T00:00:00",
          "2019-09-09T00:00:00",
          "2019-09-16T00:00:00",
          "2019-09-23T00:00:00",
          "2019-09-30T00:00:00",
          "2019-10-07T00:00:00",
          "2019-10-14T00:00:00",
          "2019-10-21T00:00:00",
          "2019-10-28T00:00:00",
          "2019-11-04T00:00:00",
          "2019-11-11T00:00:00",
          "2019-11-18T00:00:00",
          "2019-11-25T00:00:00",
          "2019-12-02T00:00:00",
          "2019-12-09T00:00:00",
          "2019-12-16T00:00:00",
          "2019-12-23T00:00:00"
         ],
         "y": [
          55594.84901910527,
          63142.35720035958,
          62067.54001230654,
          62445.2586544875,
          68003.90339192896,
          50991.169958853934,
          63575.70990434392,
          62710.241808806895,
          63297.297374517104,
          64094.90658059754,
          61498.69528679977,
          62808.44287786513,
          64504.38412385927,
          63567.3726254616,
          62416.56454064294,
          68837.70989228575,
          69581.15955549643,
          70229.25136786139,
          62938.02786810485,
          68383.55656023888,
          67657.189165805,
          65585.44011474343,
          68709.79831268532,
          68407.08849969078,
          66702.58197903674,
          68142.23208358278,
          45509.47747983769,
          69690.7775900788,
          69307.25832121732,
          57438.10290669016,
          33587.50987935713
         ]
        },
        {
         "line": {
          "color": "lightcoral"
         },
         "mode": "lines+markers",
         "name": "Test Predicted",
         "type": "scatter",
         "x": [
          "2019-05-27T00:00:00",
          "2019-06-03T00:00:00",
          "2019-06-10T00:00:00",
          "2019-06-17T00:00:00",
          "2019-06-24T00:00:00",
          "2019-07-01T00:00:00",
          "2019-07-08T00:00:00",
          "2019-07-15T00:00:00",
          "2019-07-22T00:00:00",
          "2019-07-29T00:00:00",
          "2019-08-05T00:00:00",
          "2019-08-12T00:00:00",
          "2019-08-19T00:00:00",
          "2019-08-26T00:00:00",
          "2019-09-02T00:00:00",
          "2019-09-09T00:00:00",
          "2019-09-16T00:00:00",
          "2019-09-23T00:00:00",
          "2019-09-30T00:00:00",
          "2019-10-07T00:00:00",
          "2019-10-14T00:00:00",
          "2019-10-21T00:00:00",
          "2019-10-28T00:00:00",
          "2019-11-04T00:00:00",
          "2019-11-11T00:00:00",
          "2019-11-18T00:00:00",
          "2019-11-25T00:00:00",
          "2019-12-02T00:00:00",
          "2019-12-09T00:00:00",
          "2019-12-16T00:00:00",
          "2019-12-23T00:00:00"
         ],
         "y": [
          52218.58984375,
          58847.85546875,
          58530.59765625,
          60059.00390625,
          58186.89453125,
          50375.63671875,
          61308.4375,
          55579.94140625,
          52213.5859375,
          55215.48828125,
          53947.359375,
          56167.5,
          56056.13671875,
          56068.3515625,
          56752.57421875,
          62006.7109375,
          60045.7890625,
          61368.88671875,
          62345.296875,
          60581.64453125,
          60095.09375,
          59923.33984375,
          62294.703125,
          60880.421875,
          59083.875,
          40884.8515625,
          59396.71484375,
          62701.98828125,
          59602.140625,
          52035.58984375,
          33390.09765625
         ]
        }
       ],
       "layout": {
        "legend": {
         "title": {
          "text": "Type"
         }
        },
        "shapes": [
         {
          "line": {
           "color": "lightgray",
           "dash": "dot",
           "width": 2
          },
          "type": "line",
          "x0": "2019-05-27T00:00:00",
          "x1": "2019-05-27T00:00:00",
          "xref": "x",
          "y0": 0,
          "y1": 1,
          "yref": "y domain"
         }
        ],
        "template": {
         "data": {
          "bar": [
           {
            "error_x": {
             "color": "#2a3f5f"
            },
            "error_y": {
             "color": "#2a3f5f"
            },
            "marker": {
             "line": {
              "color": "#E5ECF6",
              "width": 0.5
             },
             "pattern": {
              "fillmode": "overlay",
              "size": 10,
              "solidity": 0.2
             }
            },
            "type": "bar"
           }
          ],
          "barpolar": [
           {
            "marker": {
             "line": {
              "color": "#E5ECF6",
              "width": 0.5
             },
             "pattern": {
              "fillmode": "overlay",
              "size": 10,
              "solidity": 0.2
             }
            },
            "type": "barpolar"
           }
          ],
          "carpet": [
           {
            "aaxis": {
             "endlinecolor": "#2a3f5f",
             "gridcolor": "white",
             "linecolor": "white",
             "minorgridcolor": "white",
             "startlinecolor": "#2a3f5f"
            },
            "baxis": {
             "endlinecolor": "#2a3f5f",
             "gridcolor": "white",
             "linecolor": "white",
             "minorgridcolor": "white",
             "startlinecolor": "#2a3f5f"
            },
            "type": "carpet"
           }
          ],
          "choropleth": [
           {
            "colorbar": {
             "outlinewidth": 0,
             "ticks": ""
            },
            "type": "choropleth"
           }
          ],
          "contour": [
           {
            "colorbar": {
             "outlinewidth": 0,
             "ticks": ""
            },
            "colorscale": [
             [
              0,
              "#0d0887"
             ],
             [
              0.1111111111111111,
              "#46039f"
             ],
             [
              0.2222222222222222,
              "#7201a8"
             ],
             [
              0.3333333333333333,
              "#9c179e"
             ],
             [
              0.4444444444444444,
              "#bd3786"
             ],
             [
              0.5555555555555556,
              "#d8576b"
             ],
             [
              0.6666666666666666,
              "#ed7953"
             ],
             [
              0.7777777777777778,
              "#fb9f3a"
             ],
             [
              0.8888888888888888,
              "#fdca26"
             ],
             [
              1,
              "#f0f921"
             ]
            ],
            "type": "contour"
           }
          ],
          "contourcarpet": [
           {
            "colorbar": {
             "outlinewidth": 0,
             "ticks": ""
            },
            "type": "contourcarpet"
           }
          ],
          "heatmap": [
           {
            "colorbar": {
             "outlinewidth": 0,
             "ticks": ""
            },
            "colorscale": [
             [
              0,
              "#0d0887"
             ],
             [
              0.1111111111111111,
              "#46039f"
             ],
             [
              0.2222222222222222,
              "#7201a8"
             ],
             [
              0.3333333333333333,
              "#9c179e"
             ],
             [
              0.4444444444444444,
              "#bd3786"
             ],
             [
              0.5555555555555556,
              "#d8576b"
             ],
             [
              0.6666666666666666,
              "#ed7953"
             ],
             [
              0.7777777777777778,
              "#fb9f3a"
             ],
             [
              0.8888888888888888,
              "#fdca26"
             ],
             [
              1,
              "#f0f921"
             ]
            ],
            "type": "heatmap"
           }
          ],
          "heatmapgl": [
           {
            "colorbar": {
             "outlinewidth": 0,
             "ticks": ""
            },
            "colorscale": [
             [
              0,
              "#0d0887"
             ],
             [
              0.1111111111111111,
              "#46039f"
             ],
             [
              0.2222222222222222,
              "#7201a8"
             ],
             [
              0.3333333333333333,
              "#9c179e"
             ],
             [
              0.4444444444444444,
              "#bd3786"
             ],
             [
              0.5555555555555556,
              "#d8576b"
             ],
             [
              0.6666666666666666,
              "#ed7953"
             ],
             [
              0.7777777777777778,
              "#fb9f3a"
             ],
             [
              0.8888888888888888,
              "#fdca26"
             ],
             [
              1,
              "#f0f921"
             ]
            ],
            "type": "heatmapgl"
           }
          ],
          "histogram": [
           {
            "marker": {
             "pattern": {
              "fillmode": "overlay",
              "size": 10,
              "solidity": 0.2
             }
            },
            "type": "histogram"
           }
          ],
          "histogram2d": [
           {
            "colorbar": {
             "outlinewidth": 0,
             "ticks": ""
            },
            "colorscale": [
             [
              0,
              "#0d0887"
             ],
             [
              0.1111111111111111,
              "#46039f"
             ],
             [
              0.2222222222222222,
              "#7201a8"
             ],
             [
              0.3333333333333333,
              "#9c179e"
             ],
             [
              0.4444444444444444,
              "#bd3786"
             ],
             [
              0.5555555555555556,
              "#d8576b"
             ],
             [
              0.6666666666666666,
              "#ed7953"
             ],
             [
              0.7777777777777778,
              "#fb9f3a"
             ],
             [
              0.8888888888888888,
              "#fdca26"
             ],
             [
              1,
              "#f0f921"
             ]
            ],
            "type": "histogram2d"
           }
          ],
          "histogram2dcontour": [
           {
            "colorbar": {
             "outlinewidth": 0,
             "ticks": ""
            },
            "colorscale": [
             [
              0,
              "#0d0887"
             ],
             [
              0.1111111111111111,
              "#46039f"
             ],
             [
              0.2222222222222222,
              "#7201a8"
             ],
             [
              0.3333333333333333,
              "#9c179e"
             ],
             [
              0.4444444444444444,
              "#bd3786"
             ],
             [
              0.5555555555555556,
              "#d8576b"
             ],
             [
              0.6666666666666666,
              "#ed7953"
             ],
             [
              0.7777777777777778,
              "#fb9f3a"
             ],
             [
              0.8888888888888888,
              "#fdca26"
             ],
             [
              1,
              "#f0f921"
             ]
            ],
            "type": "histogram2dcontour"
           }
          ],
          "mesh3d": [
           {
            "colorbar": {
             "outlinewidth": 0,
             "ticks": ""
            },
            "type": "mesh3d"
           }
          ],
          "parcoords": [
           {
            "line": {
             "colorbar": {
              "outlinewidth": 0,
              "ticks": ""
             }
            },
            "type": "parcoords"
           }
          ],
          "pie": [
           {
            "automargin": true,
            "type": "pie"
           }
          ],
          "scatter": [
           {
            "fillpattern": {
             "fillmode": "overlay",
             "size": 10,
             "solidity": 0.2
            },
            "type": "scatter"
           }
          ],
          "scatter3d": [
           {
            "line": {
             "colorbar": {
              "outlinewidth": 0,
              "ticks": ""
             }
            },
            "marker": {
             "colorbar": {
              "outlinewidth": 0,
              "ticks": ""
             }
            },
            "type": "scatter3d"
           }
          ],
          "scattercarpet": [
           {
            "marker": {
             "colorbar": {
              "outlinewidth": 0,
              "ticks": ""
             }
            },
            "type": "scattercarpet"
           }
          ],
          "scattergeo": [
           {
            "marker": {
             "colorbar": {
              "outlinewidth": 0,
              "ticks": ""
             }
            },
            "type": "scattergeo"
           }
          ],
          "scattergl": [
           {
            "marker": {
             "colorbar": {
              "outlinewidth": 0,
              "ticks": ""
             }
            },
            "type": "scattergl"
           }
          ],
          "scattermapbox": [
           {
            "marker": {
             "colorbar": {
              "outlinewidth": 0,
              "ticks": ""
             }
            },
            "type": "scattermapbox"
           }
          ],
          "scatterpolar": [
           {
            "marker": {
             "colorbar": {
              "outlinewidth": 0,
              "ticks": ""
             }
            },
            "type": "scatterpolar"
           }
          ],
          "scatterpolargl": [
           {
            "marker": {
             "colorbar": {
              "outlinewidth": 0,
              "ticks": ""
             }
            },
            "type": "scatterpolargl"
           }
          ],
          "scatterternary": [
           {
            "marker": {
             "colorbar": {
              "outlinewidth": 0,
              "ticks": ""
             }
            },
            "type": "scatterternary"
           }
          ],
          "surface": [
           {
            "colorbar": {
             "outlinewidth": 0,
             "ticks": ""
            },
            "colorscale": [
             [
              0,
              "#0d0887"
             ],
             [
              0.1111111111111111,
              "#46039f"
             ],
             [
              0.2222222222222222,
              "#7201a8"
             ],
             [
              0.3333333333333333,
              "#9c179e"
             ],
             [
              0.4444444444444444,
              "#bd3786"
             ],
             [
              0.5555555555555556,
              "#d8576b"
             ],
             [
              0.6666666666666666,
              "#ed7953"
             ],
             [
              0.7777777777777778,
              "#fb9f3a"
             ],
             [
              0.8888888888888888,
              "#fdca26"
             ],
             [
              1,
              "#f0f921"
             ]
            ],
            "type": "surface"
           }
          ],
          "table": [
           {
            "cells": {
             "fill": {
              "color": "#EBF0F8"
             },
             "line": {
              "color": "white"
             }
            },
            "header": {
             "fill": {
              "color": "#C8D4E3"
             },
             "line": {
              "color": "white"
             }
            },
            "type": "table"
           }
          ]
         },
         "layout": {
          "annotationdefaults": {
           "arrowcolor": "#2a3f5f",
           "arrowhead": 0,
           "arrowwidth": 1
          },
          "autotypenumbers": "strict",
          "coloraxis": {
           "colorbar": {
            "outlinewidth": 0,
            "ticks": ""
           }
          },
          "colorscale": {
           "diverging": [
            [
             0,
             "#8e0152"
            ],
            [
             0.1,
             "#c51b7d"
            ],
            [
             0.2,
             "#de77ae"
            ],
            [
             0.3,
             "#f1b6da"
            ],
            [
             0.4,
             "#fde0ef"
            ],
            [
             0.5,
             "#f7f7f7"
            ],
            [
             0.6,
             "#e6f5d0"
            ],
            [
             0.7,
             "#b8e186"
            ],
            [
             0.8,
             "#7fbc41"
            ],
            [
             0.9,
             "#4d9221"
            ],
            [
             1,
             "#276419"
            ]
           ],
           "sequential": [
            [
             0,
             "#0d0887"
            ],
            [
             0.1111111111111111,
             "#46039f"
            ],
            [
             0.2222222222222222,
             "#7201a8"
            ],
            [
             0.3333333333333333,
             "#9c179e"
            ],
            [
             0.4444444444444444,
             "#bd3786"
            ],
            [
             0.5555555555555556,
             "#d8576b"
            ],
            [
             0.6666666666666666,
             "#ed7953"
            ],
            [
             0.7777777777777778,
             "#fb9f3a"
            ],
            [
             0.8888888888888888,
             "#fdca26"
            ],
            [
             1,
             "#f0f921"
            ]
           ],
           "sequentialminus": [
            [
             0,
             "#0d0887"
            ],
            [
             0.1111111111111111,
             "#46039f"
            ],
            [
             0.2222222222222222,
             "#7201a8"
            ],
            [
             0.3333333333333333,
             "#9c179e"
            ],
            [
             0.4444444444444444,
             "#bd3786"
            ],
            [
             0.5555555555555556,
             "#d8576b"
            ],
            [
             0.6666666666666666,
             "#ed7953"
            ],
            [
             0.7777777777777778,
             "#fb9f3a"
            ],
            [
             0.8888888888888888,
             "#fdca26"
            ],
            [
             1,
             "#f0f921"
            ]
           ]
          },
          "colorway": [
           "#636efa",
           "#EF553B",
           "#00cc96",
           "#ab63fa",
           "#FFA15A",
           "#19d3f3",
           "#FF6692",
           "#B6E880",
           "#FF97FF",
           "#FECB52"
          ],
          "font": {
           "color": "#2a3f5f"
          },
          "geo": {
           "bgcolor": "white",
           "lakecolor": "white",
           "landcolor": "#E5ECF6",
           "showlakes": true,
           "showland": true,
           "subunitcolor": "white"
          },
          "hoverlabel": {
           "align": "left"
          },
          "hovermode": "closest",
          "mapbox": {
           "style": "light"
          },
          "paper_bgcolor": "white",
          "plot_bgcolor": "#E5ECF6",
          "polar": {
           "angularaxis": {
            "gridcolor": "white",
            "linecolor": "white",
            "ticks": ""
           },
           "bgcolor": "#E5ECF6",
           "radialaxis": {
            "gridcolor": "white",
            "linecolor": "white",
            "ticks": ""
           }
          },
          "scene": {
           "xaxis": {
            "backgroundcolor": "#E5ECF6",
            "gridcolor": "white",
            "gridwidth": 2,
            "linecolor": "white",
            "showbackground": true,
            "ticks": "",
            "zerolinecolor": "white"
           },
           "yaxis": {
            "backgroundcolor": "#E5ECF6",
            "gridcolor": "white",
            "gridwidth": 2,
            "linecolor": "white",
            "showbackground": true,
            "ticks": "",
            "zerolinecolor": "white"
           },
           "zaxis": {
            "backgroundcolor": "#E5ECF6",
            "gridcolor": "white",
            "gridwidth": 2,
            "linecolor": "white",
            "showbackground": true,
            "ticks": "",
            "zerolinecolor": "white"
           }
          },
          "shapedefaults": {
           "line": {
            "color": "#2a3f5f"
           }
          },
          "ternary": {
           "aaxis": {
            "gridcolor": "white",
            "linecolor": "white",
            "ticks": ""
           },
           "baxis": {
            "gridcolor": "white",
            "linecolor": "white",
            "ticks": ""
           },
           "bgcolor": "#E5ECF6",
           "caxis": {
            "gridcolor": "white",
            "linecolor": "white",
            "ticks": ""
           }
          },
          "title": {
           "x": 0.05
          },
          "xaxis": {
           "automargin": true,
           "gridcolor": "white",
           "linecolor": "white",
           "ticks": "",
           "title": {
            "standoff": 15
           },
           "zerolinecolor": "white",
           "zerolinewidth": 2
          },
          "yaxis": {
           "automargin": true,
           "gridcolor": "white",
           "linecolor": "white",
           "ticks": "",
           "title": {
            "standoff": 15
           },
           "zerolinecolor": "white",
           "zerolinewidth": 2
          }
         }
        },
        "title": {
         "text": "<b>Actual vs. Predicted Demand</b><br><sub>For store_3, feature set: existing only</sub>"
        },
        "xaxis": {
         "title": {
          "text": "Date"
         }
        },
        "yaxis": {
         "title": {
          "text": "Demand"
         }
        }
       }
      }
     },
     "metadata": {},
     "output_type": "display_data"
    },
    {
     "name": "stdout",
     "output_type": "stream",
     "text": [
      "Location: store_3\n",
      "--- Feature set: all, MAE: 4713.82, RMSE: 5296.31\n",
      "--- Feature set: existing only, MAE: 7130.17, RMSE: 8601.90\n",
      "--- Percentage change: MAE change: -33.89%, RMSE change: -38.43%\n",
      "\n"
     ]
    }
   ],
   "source": [
    "results = {}\n",
    "\n",
    "for location in df[\"location\"].unique():\n",
    "    results[location] = {}\n",
    "    train, test = split_data(df, location)\n",
    "\n",
    "    for use_event_features in [True, False]:\n",
    "        if use_event_features:\n",
    "            feature_columns = train.columns.difference([\"location\", \"date\", \"demand\"])\n",
    "            feature_set = \"all\"\n",
    "        else:\n",
    "            feature_columns = [\n",
    "                col\n",
    "                for col in train.columns\n",
    "                if col not in [\"location\", \"date\", \"demand\"]\n",
    "                and not col.startswith(\"phq_\")\n",
    "            ]\n",
    "            feature_set = \"existing only\"\n",
    "\n",
    "        X_train = train[feature_columns]\n",
    "        y_train = train[\"demand\"]\n",
    "        X_test = test[feature_columns]\n",
    "        y_test = test[\"demand\"]\n",
    "\n",
    "        model = train_model(X_train, y_train)\n",
    "        y_pred = model.predict(X_test)\n",
    "\n",
    "        plot_results(train, test, y_train, y_test, y_pred, location, feature_set)\n",
    "        mae, rmse = calculate_metrics(y_test, y_pred)\n",
    "\n",
    "        results[location][feature_set] = {\"MAE\": mae, \"RMSE\": rmse}\n",
    "\n",
    "    print(f\"Location: {location}\")\n",
    "    for features_set in results[location]:\n",
    "        print(\n",
    "            f\"--- Feature set: {features_set}, MAE: {results[location][features_set]['MAE']:.2f}, RMSE: {results[location][features_set]['RMSE']:.2f}\"\n",
    "        )\n",
    "    percentage_changes = calculate_percentage_change(\n",
    "        results[location][\"existing only\"], results[location][\"all\"]\n",
    "    )\n",
    "    print(\n",
    "        f\"--- Percentage change: MAE change: {percentage_changes['MAE Percentage Change']:.2f}%, RMSE change: {percentage_changes['RMSE Percentage Change']:.2f}%\"\n",
    "    )\n",
    "    print()"
   ]
  }
 ],
 "metadata": {
  "kernelspec": {
   "display_name": "ds-notebooks-env",
   "language": "python",
   "name": "python3"
  },
  "language_info": {
   "codemirror_mode": {
    "name": "ipython",
    "version": 3
   },
   "file_extension": ".py",
   "mimetype": "text/x-python",
   "name": "python",
   "nbconvert_exporter": "python",
   "pygments_lexer": "ipython3",
   "version": "3.11.9"
  }
 },
 "nbformat": 4,
 "nbformat_minor": 2
}
