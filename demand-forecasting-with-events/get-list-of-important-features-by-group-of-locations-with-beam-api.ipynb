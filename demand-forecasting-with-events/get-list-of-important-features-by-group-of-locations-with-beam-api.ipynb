{
 "cells": [
  {
   "attachments": {},
   "cell_type": "markdown",
   "metadata": {},
   "source": [
    "The purpose of this notebook is to demonstrate how you can get an aggregated set of relevant forecast-ready features for several of your locations. To do this, we will use the Beam API's [Analysis Groups](https://docs.predicthq.com/api/beam/analysis-groups). \n",
    "\n",
    "Make sure you have have successfully uploaded demand data to Beam for all your locations before running this notebook. The output is a list of important features aggregated across all your locations."
   ]
  },
  {
   "attachments": {},
   "cell_type": "markdown",
   "metadata": {},
   "source": [
    "# Steps\n",
    "\n",
    "* [Setup](#setup)\n",
    "* [Step 1. Prepare Groups](#step-1-prepare-groups)\n",
    "* [Step 2. Beam: Create Groups](#step-2-beam-create-groups)\n",
    "* [Step 3. Beam: Get Aggregated Feature Importance](#step-3-beam-get-aggregated-feature-importance)"
   ]
  },
  {
   "attachments": {},
   "cell_type": "markdown",
   "metadata": {},
   "source": [
    "# Setup"
   ]
  },
  {
   "attachments": {},
   "cell_type": "markdown",
   "metadata": {},
   "source": [
    "Complete the following steps before proceeding:\n",
    "\n",
    "1. Install `requirements.txt`\n",
    "2. Update `DATA_DIR` and `OUTPUT_DIR` as necessary\n",
    "3. Replace `ACCESS_TOKEN` with a valid token (for help creating an access token, see [the API Quickstart](https://docs.predicthq.com/getting-started/api-quickstart))"
   ]
  },
  {
   "cell_type": "code",
   "execution_count": 1,
   "metadata": {},
   "outputs": [],
   "source": [
    "# install requirements\n",
    "# %pip install --user -r requirements.txt"
   ]
  },
  {
   "cell_type": "code",
   "execution_count": 2,
   "metadata": {},
   "outputs": [],
   "source": [
    "import pandas as pd\n",
    "import json\n",
    "import os\n",
    "import requests\n",
    "from predicthq import Client\n",
    "\n",
    "import beam_api_utils as bau"
   ]
  },
  {
   "cell_type": "code",
   "execution_count": 3,
   "metadata": {},
   "outputs": [],
   "source": [
    "DATA_DIR = \"data\"\n",
    "OUTPUT_DIR = \"output\"\n",
    "\n",
    "ACCESS_TOKEN = \"REPLACE_WITH_ACCESS_TOKEN\""
   ]
  },
  {
   "cell_type": "code",
   "execution_count": 4,
   "metadata": {},
   "outputs": [],
   "source": [
    "phq = Client(access_token=ACCESS_TOKEN)"
   ]
  },
  {
   "cell_type": "markdown",
   "metadata": {},
   "source": [
    "# Step 1. Prepare Groups"
   ]
  },
  {
   "cell_type": "markdown",
   "metadata": {},
   "source": [
    "**New Groups**\n",
    "\n",
    "Grouping Analyses are valuable when insights are needed across multiple Analyses. Please refer to this [guide](https://www.predicthq.com/support/grouping-analyses-in-beam) for more information such as tips and watchouts when creating groups. \n",
    "\n",
    "Prepare a group config file with the following information per `group`:\n",
    "\n",
    "1. `name`: a user-created free-form string to reference the Group in Beam\n",
    "\n",
    "2. `analysis_ids`: a list of Analysis IDs to be included in the Group\n",
    "\n",
    "You may already have a `config` file with `location` level information or you may have `analysis_ids` defined elsewhere. See the example `group_config` below for how this should look. "
   ]
  },
  {
   "cell_type": "code",
   "execution_count": 5,
   "metadata": {},
   "outputs": [
    {
     "data": {
      "text/plain": [
       "{'group_A': {'name': 'group_A_analysis',\n",
       "  'locations': ['store_0', 'store_1'],\n",
       "  'analysis_ids': ['ho8jzrnJLwU', 'KjQmR4C5wGo']},\n",
       " 'group_B': {'name': 'group_B_analysis',\n",
       "  'locations': ['store_1', 'store_2'],\n",
       "  'analysis_ids': ['KjQmR4C5wGo', 'kpm5DOSBU_4']}}"
      ]
     },
     "execution_count": 5,
     "metadata": {},
     "output_type": "execute_result"
    }
   ],
   "source": [
    "# load example config file\n",
    "with open(os.path.join(OUTPUT_DIR, \"config_with_features.json\"), \"r\") as f:\n",
    "    config = json.load(f)\n",
    "\n",
    "# example locations\n",
    "locations = list(config.keys())\n",
    "analysis_ids = [info[\"analysis_id\"] for location, info in config.items()]\n",
    "\n",
    "# example group config\n",
    "group_config = {\n",
    "    \"group_A\": {\n",
    "        \"name\": \"group_A_analysis\",\n",
    "        \"locations\": locations[:2],\n",
    "        \"analysis_ids\": analysis_ids[:2],\n",
    "    },\n",
    "    \"group_B\": {\n",
    "        \"name\": \"group_B_analysis\",\n",
    "        \"locations\": locations[1:],\n",
    "        \"analysis_ids\": analysis_ids[1:],\n",
    "    },\n",
    "}\n",
    "\n",
    "group_config"
   ]
  },
  {
   "cell_type": "markdown",
   "metadata": {},
   "source": [
    "**Existing Groups**\n",
    "\n",
    "If you have existing groups in Beam, prepare a group config file with the following information:\n",
    "\n",
    "1. `group_id`: the Group ID\n",
    "\n",
    "Then skip to [Step 3. Beam: Get Feature Importance](#step-3-beam-get-aggregated-feature-importance). "
   ]
  },
  {
   "cell_type": "code",
   "execution_count": 6,
   "metadata": {},
   "outputs": [],
   "source": [
    "# # example group config\n",
    "# group_config = {\n",
    "#     \"group_A\": {\n",
    "#         \"group_id\": \"abc123\",\n",
    "#     },\n",
    "#     \"group_B\": {\n",
    "#         \"group_id\": \"def456\",\n",
    "#     },\n",
    "# }\n",
    "\n",
    "# # get Group name and analysis_ids\n",
    "# for group, info in group_config.items():\n",
    "#     group_info = bau.get_group(group_id=info[\"group_id\"])\n",
    "#     group_config[group].update(group_info)\n",
    "\n",
    "# group_config"
   ]
  },
  {
   "cell_type": "markdown",
   "metadata": {},
   "source": [
    "# Step 2. Beam: Create Groups"
   ]
  },
  {
   "cell_type": "markdown",
   "metadata": {},
   "source": [
    "**New Groups**\n",
    "\n",
    "This step involves using the Beam API's [Analysis Groups](https://docs.predicthq.com/api/beam/analysis-groups) to:\n",
    "\n",
    "1. Create a `group_id` for each Group\n",
    "2. Check `group_status` of the Group and make sure it is `ready` before proceeding\n",
    "\n",
    "For more info on the Beam API and other functionality such as updating and deleting Analysis Groups, see the [PredictHQ Docs](https://docs.predicthq.com/api/beam/analysis-groups)."
   ]
  },
  {
   "cell_type": "code",
   "execution_count": 7,
   "metadata": {},
   "outputs": [
    {
     "name": "stdout",
     "output_type": "stream",
     "text": [
      "Creating Group for group_A...\n",
      "--- group created successfully\n",
      "Creating Group for group_B...\n",
      "--- group created successfully\n"
     ]
    }
   ],
   "source": [
    "# create Groups\n",
    "for group, info in group_config.items():\n",
    "    print(f\"Creating Group for {group}...\")\n",
    "\n",
    "    try:\n",
    "        group_id = bau.create_group(\n",
    "            name=info[\"name\"],\n",
    "            analysis_ids=info[\"analysis_ids\"],\n",
    "            access_token=ACCESS_TOKEN,\n",
    "        )\n",
    "        info[\"group_id\"] = group_id[\"group_id\"]\n",
    "\n",
    "        print(\"--- group created successfully\")\n",
    "\n",
    "    except Exception as e:\n",
    "        print(f\"--- an error occurred: {e}\")\n",
    "        continue"
   ]
  },
  {
   "cell_type": "markdown",
   "metadata": {},
   "source": [
    "Groups need to be `ready` and Feature Importance processing need to be completed before proceeding to the next steps. Refresh as needed to get the latest status."
   ]
  },
  {
   "cell_type": "code",
   "execution_count": 8,
   "metadata": {},
   "outputs": [
    {
     "name": "stdout",
     "output_type": "stream",
     "text": [
      "Group status for group_A...\n",
      "--- {'readiness_status': 'ready', 'feature_importance_processing_completed': True}\n",
      "Group status for group_B...\n",
      "--- {'readiness_status': 'ready', 'feature_importance_processing_completed': True}\n"
     ]
    }
   ],
   "source": [
    "# check Group status\n",
    "for group, info in group_config.items():\n",
    "    print(f\"Group status for {group}...\")\n",
    "    status = bau.group_status(group_id=info[\"group_id\"], access_token=ACCESS_TOKEN)\n",
    "    print(f\"--- {status}\")\n",
    "    group_config[group][\"group_status\"] = status"
   ]
  },
  {
   "cell_type": "markdown",
   "metadata": {},
   "source": [
    "# Step 3. Beam: Get Aggregated Feature Importance"
   ]
  },
  {
   "cell_type": "markdown",
   "metadata": {},
   "source": [
    "Feature Importance results can be retrieved for all Groups via their `group_id`.\n",
    "\n",
    "**All Groups**\n"
   ]
  },
  {
   "cell_type": "code",
   "execution_count": 9,
   "metadata": {},
   "outputs": [
    {
     "name": "stdout",
     "output_type": "stream",
     "text": [
      "Getting aggregated feature importance for group_A...\n",
      "--- feature importance retrieved\n",
      "Getting aggregated feature importance for group_B...\n",
      "--- feature importance retrieved\n"
     ]
    }
   ],
   "source": [
    "# get Group-level feature importance\n",
    "for group, info in group_config.items():\n",
    "    print(f\"Getting aggregated feature importance for {group}...\")\n",
    "\n",
    "    try:\n",
    "        group_feature_importance = bau.get_group_feature_importance(\n",
    "            group_id=info[\"group_id\"], access_token=ACCESS_TOKEN\n",
    "        )\n",
    "        important_features = [\n",
    "            item\n",
    "            for feature in group_feature_importance[\"feature_importance\"]\n",
    "            if feature[\"important\"]\n",
    "            for item in feature[\"features\"]\n",
    "        ]\n",
    "        info[\"important_features\"] = important_features\n",
    "        info[\"feature_importance\"] = group_feature_importance[\"feature_importance\"]\n",
    "\n",
    "        print(\"--- feature importance retrieved\")\n",
    "\n",
    "    except Exception as e:\n",
    "        print(f\"--- an error occurred: {e}\")\n",
    "\n",
    "# save group config file\n",
    "with open(os.path.join(OUTPUT_DIR, \"group_config_with_features.json\"), \"w\") as f:\n",
    "    json.dump(group_config, f, indent=4)"
   ]
  },
  {
   "cell_type": "code",
   "execution_count": 10,
   "metadata": {},
   "outputs": [
    {
     "data": {
      "text/plain": [
       "{'group_A': {'name': 'group_A_analysis',\n",
       "  'locations': ['store_0', 'store_1'],\n",
       "  'analysis_ids': ['ho8jzrnJLwU', 'KjQmR4C5wGo'],\n",
       "  'group_id': 'BEnSsmK0CGg',\n",
       "  'group_status': {'readiness_status': 'ready',\n",
       "   'feature_importance_processing_completed': True},\n",
       "  'important_features': ['phq_attendance_concerts',\n",
       "   'phq_attendance_conferences',\n",
       "   'phq_attendance_expos',\n",
       "   'phq_attendance_festivals',\n",
       "   'phq_rank_observances',\n",
       "   'phq_attendance_performing_arts',\n",
       "   'phq_rank_public_holidays',\n",
       "   'phq_attendance_school_holidays',\n",
       "   'phq_impact_severe_weather_air_quality_retail',\n",
       "   'phq_impact_severe_weather_blizzard_retail',\n",
       "   'phq_impact_severe_weather_cold_wave_retail',\n",
       "   'phq_impact_severe_weather_cold_wave_snow_retail',\n",
       "   'phq_impact_severe_weather_cold_wave_storm_retail',\n",
       "   'phq_impact_severe_weather_dust_retail',\n",
       "   'phq_impact_severe_weather_dust_storm_retail',\n",
       "   'phq_impact_severe_weather_flood_retail',\n",
       "   'phq_impact_severe_weather_heat_wave_retail',\n",
       "   'phq_impact_severe_weather_hurricane_retail',\n",
       "   'phq_impact_severe_weather_thunderstorm_retail',\n",
       "   'phq_impact_severe_weather_tornado_retail',\n",
       "   'phq_impact_severe_weather_tropical_storm_retail',\n",
       "   'phq_attendance_sports'],\n",
       "  'feature_importance': [{'feature_group': 'concerts',\n",
       "    'features': ['phq_attendance_concerts'],\n",
       "    'p_value': 0.0,\n",
       "    'important': True},\n",
       "   {'feature_group': 'conferences',\n",
       "    'features': ['phq_attendance_conferences'],\n",
       "    'p_value': 0.0,\n",
       "    'important': True},\n",
       "   {'feature_group': 'expos',\n",
       "    'features': ['phq_attendance_expos'],\n",
       "    'p_value': 0.0,\n",
       "    'important': True},\n",
       "   {'feature_group': 'festivals',\n",
       "    'features': ['phq_attendance_festivals'],\n",
       "    'p_value': 0.0,\n",
       "    'important': True},\n",
       "   {'feature_group': 'observances',\n",
       "    'features': ['phq_rank_observances'],\n",
       "    'p_value': 0.0,\n",
       "    'important': True},\n",
       "   {'feature_group': 'performing-arts',\n",
       "    'features': ['phq_attendance_performing_arts'],\n",
       "    'p_value': 0.0,\n",
       "    'important': True},\n",
       "   {'feature_group': 'public-holidays',\n",
       "    'features': ['phq_rank_public_holidays'],\n",
       "    'p_value': 0.0,\n",
       "    'important': True},\n",
       "   {'feature_group': 'school-holidays',\n",
       "    'features': ['phq_attendance_school_holidays'],\n",
       "    'p_value': 0.0,\n",
       "    'important': True},\n",
       "   {'feature_group': 'severe-weather',\n",
       "    'features': ['phq_impact_severe_weather_air_quality_retail',\n",
       "     'phq_impact_severe_weather_blizzard_retail',\n",
       "     'phq_impact_severe_weather_cold_wave_retail',\n",
       "     'phq_impact_severe_weather_cold_wave_snow_retail',\n",
       "     'phq_impact_severe_weather_cold_wave_storm_retail',\n",
       "     'phq_impact_severe_weather_dust_retail',\n",
       "     'phq_impact_severe_weather_dust_storm_retail',\n",
       "     'phq_impact_severe_weather_flood_retail',\n",
       "     'phq_impact_severe_weather_heat_wave_retail',\n",
       "     'phq_impact_severe_weather_hurricane_retail',\n",
       "     'phq_impact_severe_weather_thunderstorm_retail',\n",
       "     'phq_impact_severe_weather_tornado_retail',\n",
       "     'phq_impact_severe_weather_tropical_storm_retail'],\n",
       "    'p_value': 0.0,\n",
       "    'important': True},\n",
       "   {'feature_group': 'sports',\n",
       "    'features': ['phq_attendance_sports'],\n",
       "    'p_value': 0.0,\n",
       "    'important': True},\n",
       "   {'feature_group': 'academic',\n",
       "    'features': ['phq_rank_academic_exam', 'phq_rank_academic_holiday'],\n",
       "    'p_value': 0.8108,\n",
       "    'important': False},\n",
       "   {'feature_group': 'community',\n",
       "    'features': ['phq_attendance_community'],\n",
       "    'p_value': 0.819,\n",
       "    'important': False}]},\n",
       " 'group_B': {'name': 'group_B_analysis',\n",
       "  'locations': ['store_1', 'store_2'],\n",
       "  'analysis_ids': ['KjQmR4C5wGo', 'kpm5DOSBU_4'],\n",
       "  'group_id': 'PrYTZ1a2dKs',\n",
       "  'group_status': {'readiness_status': 'ready',\n",
       "   'feature_importance_processing_completed': True},\n",
       "  'important_features': ['phq_attendance_concerts',\n",
       "   'phq_attendance_conferences',\n",
       "   'phq_attendance_festivals',\n",
       "   'phq_rank_public_holidays',\n",
       "   'phq_impact_severe_weather_air_quality_retail',\n",
       "   'phq_impact_severe_weather_blizzard_retail',\n",
       "   'phq_impact_severe_weather_cold_wave_retail',\n",
       "   'phq_impact_severe_weather_cold_wave_snow_retail',\n",
       "   'phq_impact_severe_weather_cold_wave_storm_retail',\n",
       "   'phq_impact_severe_weather_dust_retail',\n",
       "   'phq_impact_severe_weather_dust_storm_retail',\n",
       "   'phq_impact_severe_weather_flood_retail',\n",
       "   'phq_impact_severe_weather_heat_wave_retail',\n",
       "   'phq_impact_severe_weather_hurricane_retail',\n",
       "   'phq_impact_severe_weather_thunderstorm_retail',\n",
       "   'phq_impact_severe_weather_tornado_retail',\n",
       "   'phq_impact_severe_weather_tropical_storm_retail',\n",
       "   'phq_attendance_performing_arts',\n",
       "   'phq_attendance_school_holidays',\n",
       "   'phq_attendance_expos',\n",
       "   'phq_rank_observances',\n",
       "   'phq_attendance_sports'],\n",
       "  'feature_importance': [{'feature_group': 'concerts',\n",
       "    'features': ['phq_attendance_concerts'],\n",
       "    'p_value': 0.0,\n",
       "    'important': True},\n",
       "   {'feature_group': 'conferences',\n",
       "    'features': ['phq_attendance_conferences'],\n",
       "    'p_value': 0.0,\n",
       "    'important': True},\n",
       "   {'feature_group': 'festivals',\n",
       "    'features': ['phq_attendance_festivals'],\n",
       "    'p_value': 0.0,\n",
       "    'important': True},\n",
       "   {'feature_group': 'public-holidays',\n",
       "    'features': ['phq_rank_public_holidays'],\n",
       "    'p_value': 0.0,\n",
       "    'important': True},\n",
       "   {'feature_group': 'severe-weather',\n",
       "    'features': ['phq_impact_severe_weather_air_quality_retail',\n",
       "     'phq_impact_severe_weather_blizzard_retail',\n",
       "     'phq_impact_severe_weather_cold_wave_retail',\n",
       "     'phq_impact_severe_weather_cold_wave_snow_retail',\n",
       "     'phq_impact_severe_weather_cold_wave_storm_retail',\n",
       "     'phq_impact_severe_weather_dust_retail',\n",
       "     'phq_impact_severe_weather_dust_storm_retail',\n",
       "     'phq_impact_severe_weather_flood_retail',\n",
       "     'phq_impact_severe_weather_heat_wave_retail',\n",
       "     'phq_impact_severe_weather_hurricane_retail',\n",
       "     'phq_impact_severe_weather_thunderstorm_retail',\n",
       "     'phq_impact_severe_weather_tornado_retail',\n",
       "     'phq_impact_severe_weather_tropical_storm_retail'],\n",
       "    'p_value': 0.0,\n",
       "    'important': True},\n",
       "   {'feature_group': 'performing-arts',\n",
       "    'features': ['phq_attendance_performing_arts'],\n",
       "    'p_value': 0.0001,\n",
       "    'important': True},\n",
       "   {'feature_group': 'school-holidays',\n",
       "    'features': ['phq_attendance_school_holidays'],\n",
       "    'p_value': 0.0003,\n",
       "    'important': True},\n",
       "   {'feature_group': 'expos',\n",
       "    'features': ['phq_attendance_expos'],\n",
       "    'p_value': 0.002,\n",
       "    'important': True},\n",
       "   {'feature_group': 'observances',\n",
       "    'features': ['phq_rank_observances'],\n",
       "    'p_value': 0.0028,\n",
       "    'important': True},\n",
       "   {'feature_group': 'sports',\n",
       "    'features': ['phq_attendance_sports'],\n",
       "    'p_value': 0.0038,\n",
       "    'important': True},\n",
       "   {'feature_group': 'academic',\n",
       "    'features': ['phq_rank_academic_exam', 'phq_rank_academic_holiday'],\n",
       "    'p_value': 0.105,\n",
       "    'important': False},\n",
       "   {'feature_group': 'community',\n",
       "    'features': ['phq_attendance_community'],\n",
       "    'p_value': 0.9947,\n",
       "    'important': False}]}}"
      ]
     },
     "execution_count": 10,
     "metadata": {},
     "output_type": "execute_result"
    }
   ],
   "source": [
    "group_config"
   ]
  }
 ],
 "metadata": {
  "kernelspec": {
   "display_name": "beam-ds-notebook-env",
   "language": "python",
   "name": "python3"
  },
  "language_info": {
   "codemirror_mode": {
    "name": "ipython",
    "version": 3
   },
   "file_extension": ".py",
   "mimetype": "text/x-python",
   "name": "python",
   "nbconvert_exporter": "python",
   "pygments_lexer": "ipython3",
   "version": "3.11.9"
  },
  "orig_nbformat": 4,
  "vscode": {
   "interpreter": {
    "hash": "075005c0efdab87112776580aebb32604492800279009af650593f1cb0a37d61"
   }
  }
 },
 "nbformat": 4,
 "nbformat_minor": 2
}
