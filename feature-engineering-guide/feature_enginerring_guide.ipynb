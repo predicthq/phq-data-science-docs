{
 "cells": [
  {
   "cell_type": "markdown",
   "metadata": {
    "cell_id": "990978de-d506-465f-9d7a-187e26824f16",
    "deepnote_cell_height": 82,
    "deepnote_cell_type": "markdown",
    "deepnote_to_be_reexecuted": false,
    "execution_millis": 2,
    "execution_start": 1661127000136,
    "source_hash": "f513c9a",
    "tags": []
   },
   "source": [
    "# Feature Engineering Guide\n"
   ]
  },
  {
   "cell_type": "markdown",
   "metadata": {
    "cell_id": "ad46c5a66ffa4e7c98383fd879e73b1d",
    "deepnote_cell_height": 119.5625,
    "deepnote_cell_type": "markdown",
    "tags": []
   },
   "source": [
    "<b>A how-to guide with details on how to create machine learning features using PredictHQ's Features API</b>. <br>\n",
    "<b>The aim of this notebook is showcase how the Features API can be used to create features for a location and date range of your choice</b>."
   ]
  },
  {
   "cell_type": "markdown",
   "metadata": {
    "cell_id": "566c11c319dc49d18feb31b087345411",
    "deepnote_cell_height": 523.03125,
    "deepnote_cell_type": "markdown",
    "tags": []
   },
   "source": [
    "- [Overview](#overview)\n",
    "- [How to use event based features in your models](#usage)\n",
    "- [The features API features summary](#summary)\n",
    "    - [Features for attendance and rank based events](#summary_attend_rank)\n",
    "    - [Features for severe weather (retail only)](#summary_weather)\n",
    "- [Setup](#setup)\n",
    "- [Access token](#access_token)\n",
    "- [SDK parameters](#setting_params)\n",
    "- [Using the Features API to query features for forecasting](#features_api)\n",
    "    - [Functions for formating data frame](#functions)\n",
    "    - [Attendance based features](#attend)\n",
    "    - [Rank based features](#rank)\n",
    "    - [Impact based features](#impact)\n",
    "- [Using a longer date range](#wide_range)\n",
    "    - [Common functions](#functions_wide)\n",
    "    - [Attendance based features](#attend_wide)\n",
    "    - [Rank based features](#rank_wide)\n",
    "    - [Impact based features](#impact_wide)"
   ]
  },
  {
   "cell_type": "markdown",
   "metadata": {
    "cell_id": "3ccca904ab5b49478b0c0ed0cf8a974b",
    "deepnote_cell_height": 433.078125,
    "deepnote_cell_type": "markdown",
    "tags": []
   },
   "source": [
    "<a id='overview'></a>\n",
    "## Overview\n",
    "Our customers find that factoring events into their demand forecasting improves the accuracy of their forecasts. For example, if events are occurring near a store, hotel, parking garage, or any other location, they can impact demand. Customers use our events for different types of demand forecasting including labor forecasting, inventory, dynamic pricing, and more.\n",
    "\n",
    "The goal of the Feature Engineering Guide notebook is to help data science teams understand and get hands-on experience querying different event-based features from PredictHQ's Features API. This guide outlines, with clear and simple examples, recommended features per event category. Data science teams can use these examples to create features easily and include them in their own demand forecasting models or any other applicable models.\n",
    "\n",
    "See also the [API reference guide for the Features API](https://docs.predicthq.com/resources/features) for more info on the Features API. For an overview of categories see the [categories page](https://www.predicthq.com/intelligence/data-enrichment/event-categories). For more details on categories see the documentation on [PredictHQ's event categories](https://docs.predicthq.com/categoryinfo/introduction) for background on the categories. This guide uses [PredictHQ's SDK](https://docs.predicthq.com/sdks/python) to access the Features API.\n",
    "\n",
    "We also provide other [data science guides](https://docs.predicthq.com/datascience/introduction) that go into more detail on different categories, for example [Attendance Based Events](https://docs.predicthq.com/categoryinfo/attended-events). Each of these guides consists of a set of notebooks. Refer to these guides if you want to do more in depth research on specific categories."
   ]
  },
  {
   "cell_type": "markdown",
   "metadata": {
    "cell_id": "233f11f91d0c49ae918aa9fb38e80f03",
    "deepnote_cell_height": 1387.984375,
    "deepnote_cell_type": "markdown",
    "tags": []
   },
   "source": [
    "<a id='usage'></a>\n",
    "## How to use event based features in your models\n",
    "\n",
    "This guide provides details on how to create event based features using the SDK for the Features API. It assumes you are familiar with adding ML features to your models. Features are often used in demand forecasting models to forecast future demand but can be used in other types of models as well.\n",
    "\n",
    "The features in this guide are designed to be used in a forecasting solution where you can forecast demand for each location. For example, you may forecast demand for a set of retail stores, hotels, restaurants, parking garages, or other types of locations. In this scenario you have a set of event-based features that have a value per location and these features are used in your model to adjust the forecast for that location.\n",
    "\n",
    "For example the process for using event based features may look as follows:\n",
    "1. Review the different features in this guide and the other related documentation.\n",
    "2. Data exploration - you may want to conduct data exploration using a sample data set around one of your locations.\n",
    "3. Events feature testing - you may want to get a training data set for a location or locations (see below on using a longer data range), and conduct model R&D with events features using techniques such as model selection and cross validation.\n",
    "4. Model evaluation - you may want to compare the model accuracy on historical data before adding the event features and after adding the event features.\n",
    "5. Update your model to use the new features - get your production model ready for deployment.\n",
    "6. Work with your engineering team to add the features to your production pipeline - the features API can be used by your production pipeline\n",
    "7. Deploy your new model in production with the new event-based features.\n",
    "\n",
    "<p>For a simple overview of how you can integrate event-based features in your system, see below. For a production implementation, we'd suggest that you store or cache the features from the Features API before you call them in production. This helps make your implementation more robust as calling services over the internet always have an element of risk. Then regularly update your copy of the features. For example, if you run your model once per day to update your forecast then you may want to refresh your copy of the Features API just before your forecast runs.</p>\n",
    "\n",
    "<img src=\"./features-engineering-architecture-diagram.png\">\n"
   ]
  },
  {
   "cell_type": "markdown",
   "metadata": {
    "cell_id": "a1051be39bca46d9ade9c1d118dd0fb2",
    "deepnote_cell_height": 167.171875,
    "deepnote_cell_type": "markdown",
    "tags": []
   },
   "source": [
    "<a id='summary'></a>\n",
    "## The Features API features summary\n",
    "<p>Below is a summary of features from the Features API that you can try using in your models. The table below shows the name of the feature, the type of Features API stat value to use for the aggregation (e.g. sum is the summary of the values on a given day) and any notes. See below in the guide for example code and details on using the features.</p>\n"
   ]
  },
  {
   "cell_type": "markdown",
   "metadata": {
    "cell_id": "241d25f49ab54ce3b6dad80249a668ae",
    "deepnote_cell_height": 360.296875,
    "deepnote_cell_type": "markdown",
    "tags": []
   },
   "source": [
    "<a id='summary_attend_rank'></a>\n",
    "### Features for attendance and rank based events\n",
    " \n",
    "<table class=\"c28\">\n",
    "<tr class=\"c23\"><td class=\"c22\" colspan=\"1\" rowspan=\"1\"><p class=\"c5\"><span class=\"c11\"><strong>Category</strong></span></p></td><td class=\"c2\" colspan=\"1\" rowspan=\"1\"><p class=\"c5\"><span class=\"c11\"><strong>Features API feature</strong></span></p></td><td class=\"c10\" colspan=\"1\" rowspan=\"1\"><p class=\"c5\"><span class=\"c11\"><strong>Stats</strong></span></p></td><td class=\"c12\" colspan=\"1\" rowspan=\"1\"><p class=\"c5\"><span class=\"c11\"><strong>Notes</strong></span></p></td></tr>\n",
    "<tr class=\"c23\"><td class=\"c22\" colspan=\"1\" rowspan=\"1\"><p class=\"c5\"><span class=\"c7\">Community</span></p></td><td class=\"c2\" colspan=\"1\" rowspan=\"1\"><p class=\"c5\"><span class=\"c7\">phq_attendance_community</span></p></td><td class=\"c10\" colspan=\"1\" rowspan=\"1\"><p class=\"c5\"><span class=\"c7\">sum</span></p></td><td class=\"c12\" colspan=\"1\" rowspan=\"1\"><p class=\"c5\"><span class=\"c7\">Choose a radius around your location</span></p></td></tr><tr class=\"c23\"><td class=\"c22\" colspan=\"1\" rowspan=\"1\"><p class=\"c5\"><span class=\"c7\">Concerts</span></p></td><td class=\"c2\" colspan=\"1\" rowspan=\"1\"><p class=\"c5\"><span class=\"c7\">phq_attendance_concerts</span></p></td><td class=\"c10\" colspan=\"1\" rowspan=\"1\"><p class=\"c5\"><span class=\"c7\">sum</span></p></td><td class=\"c12\" colspan=\"1\" rowspan=\"1\"><p class=\"c5\"><span class=\"c7\">Choose a radius around your location</span></p></td></tr><tr class=\"c23\"><td class=\"c22\" colspan=\"1\" rowspan=\"1\"><p class=\"c5\"><span class=\"c7\">Conferences</span></p></td><td class=\"c2\" colspan=\"1\" rowspan=\"1\"><p class=\"c5\"><span class=\"c7\">phq_attendance_conferences</span></p></td><td class=\"c10\" colspan=\"1\" rowspan=\"1\"><p class=\"c5\"><span class=\"c7\">sum</span></p></td><td class=\"c12\" colspan=\"1\" rowspan=\"1\"><p class=\"c5\"><span class=\"c7\">Choose a radius around your location</span></p></td></tr><tr class=\"c23\"><td class=\"c22\" colspan=\"1\" rowspan=\"1\"><p class=\"c5\"><span class=\"c7\">Expos</span></p></td><td class=\"c2\" colspan=\"1\" rowspan=\"1\"><p class=\"c5\"><span class=\"c7\">phq_attendance_expos</span></p></td><td class=\"c10\" colspan=\"1\" rowspan=\"1\"><p class=\"c5\"><span class=\"c7\">sum</span></p></td><td class=\"c12\" colspan=\"1\" rowspan=\"1\"><p class=\"c5\"><span class=\"c7\">Choose a radius around your location</span></p></td></tr><tr class=\"c23\"><td class=\"c22\" colspan=\"1\" rowspan=\"1\"><p class=\"c5\"><span class=\"c7\">Festivals</span></p></td><td class=\"c2\" colspan=\"1\" rowspan=\"1\"><p class=\"c5\"><span class=\"c7\">phq_attendance_festivals</span></p></td><td class=\"c10\" colspan=\"1\" rowspan=\"1\"><p class=\"c5\"><span class=\"c7\">sum</span></p></td><td class=\"c12\" colspan=\"1\" rowspan=\"1\"><p class=\"c5\"><span class=\"c7\">Choose a radius around your location</span></p></td></tr><tr class=\"c23\"><td class=\"c22\" colspan=\"1\" rowspan=\"1\"><p class=\"c5\"><span class=\"c7\">Performing Arts</span></p></td><td class=\"c2\" colspan=\"1\" rowspan=\"1\"><p class=\"c5\"><span class=\"c7\">phq_attendance_performing_arts</span></p></td><td class=\"c10\" colspan=\"1\" rowspan=\"1\"><p class=\"c5\"><span class=\"c7\">sum</span></p></td><td class=\"c12\" colspan=\"1\" rowspan=\"1\"><p class=\"c5\"><span class=\"c7\">Choose a radius around your location</span></p></td></tr><tr class=\"c23\"><td class=\"c22\" colspan=\"1\" rowspan=\"1\"><p class=\"c5\"><span class=\"c7\">Sports</span></p></td><td class=\"c2\" colspan=\"1\" rowspan=\"1\"><p class=\"c5\"><span class=\"c7\">phq_attendance_sports</span></p></td><td class=\"c10\" colspan=\"1\" rowspan=\"1\"><p class=\"c5\"><span class=\"c7\">sum</span></p></td><td class=\"c12\" colspan=\"1\" rowspan=\"1\"><p class=\"c5\"><span class=\"c7\">Choose a radius around your location</span></p></td></tr><tr class=\"c23\"><td class=\"c22\" colspan=\"1\" rowspan=\"1\"><p class=\"c5\"><span class=\"c7\">Observances</span></p></td><td class=\"c2\" colspan=\"1\" rowspan=\"1\"><p class=\"c5\"><span class=\"c7\">phq_rank_observances</span></p></td><td class=\"c10\" colspan=\"1\" rowspan=\"1\"><p class=\"c5\"><span class=\"c7\">n/a</span></p></td><td class=\"c12\" colspan=\"1\" rowspan=\"1\"><p class=\"c5\"><span class=\"c7\">Radius can be set to&nbsp;1 mile to cover events in a region.</span></p></td></tr><tr class=\"c23\"><td class=\"c22\" colspan=\"1\" rowspan=\"1\"><p class=\"c5\"><span class=\"c7\">Public Holidays</span></p></td><td class=\"c2\" colspan=\"1\" rowspan=\"1\"><p class=\"c5\"><span class=\"c7\">phq_rank_public_holidays</span></p></td><td class=\"c10\" colspan=\"1\" rowspan=\"1\"><p class=\"c5\"><span class=\"c7\">n/a</span></p></td><td class=\"c12\" colspan=\"1\" rowspan=\"1\"><p class=\"c5\"><span class=\"c7\">Radius can be set to&nbsp;1 mile to cover events in a region.</span></p></td></tr><tr class=\"c23\"><td class=\"c22\" colspan=\"1\" rowspan=\"1\"><p class=\"c5\"><span class=\"c7\">School Holidays</span></p></td><td class=\"c2\" colspan=\"1\" rowspan=\"1\"><p class=\"c5\"><span class=\"c7\">phq_attendance_school_holidays</span></p></td><td class=\"c10\" colspan=\"1\" rowspan=\"1\"><p class=\"c5\"><span class=\"c7\">sum</span></p></td><td class=\"c12\" colspan=\"1\" rowspan=\"1\"><p class=\"c5\"><span class=\"c7\">Available for the US and UK only. Set the radius to 1 mile.</span></p></td></tr>\n",
    "</table>"
   ]
  },
  {
   "cell_type": "markdown",
   "metadata": {
    "cell_id": "9e24863a6774488d99a79b76e23ce871",
    "deepnote_cell_height": 559.421875,
    "deepnote_cell_type": "markdown",
    "tags": []
   },
   "source": [
    "<a id='summary_weather'></a>\n",
    "### Features for severe weather (retail only)\n",
    "<p>The features below are for the retail industry only. The severe weather features use demand impact patterns. Demand impact patterns calculate impact duration of a severe weather event and are based on industry specific information. Our severe weather features are currently designed and tested on data for the retail segment only. If your business is in an industry segment other than retail (e.g. accomodation or travel) then the features below may not work for you or may be less effective.</p><p>\n",
    "\n",
    "<table class=\"c28\">\n",
    "<tr class=\"c23\"><td class=\"c22\" colspan=\"1\" rowspan=\"1\"><p class=\"c5\"><span class=\"c11\"><strong>Category</strong></span></p></td><td class=\"c36\" colspan=\"1\" rowspan=\"1\"><p class=\"c5\"><span class=\"c11\"><strong>Features API feature</strong></span></p></td><td class=\"c10\" colspan=\"1\" rowspan=\"1\"><p class=\"c5\"><span class=\"c11\"><strong>Stats</strong></span></p></td><td class=\"c12\" colspan=\"1\" rowspan=\"1\"><p class=\"c5\"><span class=\"c11\"><strong>Notes</strong></span></p></td></tr>\n",
    "<tr class=\"c15\"><td class=\"c25\" colspan=\"1\" rowspan=\"1\"><p class=\"c5\"><span class=\"c7\">Severe Weather (Air quality)</span></p></td><td class=\"c19\" colspan=\"1\" rowspan=\"1\"><p class=\"c5\"><span class=\"c7\">phq_impact_severe_weather_air_quality_retail</span></p></td><td class=\"c16\" colspan=\"1\" rowspan=\"1\"><p class=\"c5\"><span class=\"c7\">max</span></p></td><td class=\"c12\" colspan=\"1\" rowspan=\"1\"><p class=\"c5\"><span class=\"c7\">Retail only. Use a radius of 1 mile</span></p></td></tr><tr class=\"c15\"><td class=\"c25\" colspan=\"1\" rowspan=\"1\"><p class=\"c5\"><span class=\"c7\">Severe Weather (Blizzard)</span></p></td><td class=\"c19\" colspan=\"1\" rowspan=\"1\"><p class=\"c5\"><span class=\"c7\">phq_impact_severe_weather_blizzard_retail</span></p></td><td class=\"c16\" colspan=\"1\" rowspan=\"1\"><p class=\"c5\"><span class=\"c7\">max</span></p></td><td class=\"c12\" colspan=\"1\" rowspan=\"1\"><p class=\"c5\"><span class=\"c7\">Retail only. Use a radius of 1 mile</span></p></td></tr><tr class=\"c15\"><td class=\"c25\" colspan=\"1\" rowspan=\"1\"><p class=\"c5\"><span class=\"c7\">Severe Weather (Cold wave)</span></p></td><td class=\"c19\" colspan=\"1\" rowspan=\"1\"><p class=\"c14\"><span class=\"c7\">phq_impact_severe_weather_cold_wave_retail</span></p></td><td class=\"c16\" colspan=\"1\" rowspan=\"1\"><p class=\"c5\"><span class=\"c7\">max</span></p></td><td class=\"c12\" colspan=\"1\" rowspan=\"1\"><p class=\"c5\"><span class=\"c7\">Retail only. Use a radius of 1 mile</span></p></td></tr><tr class=\"c15\"><td class=\"c25\" colspan=\"1\" rowspan=\"1\"><p class=\"c5\"><span class=\"c7\">Severe Weather (Cold wave - snow)</span></p></td><td class=\"c19\" colspan=\"1\" rowspan=\"1\"><p class=\"c14\"><span class=\"c7\">phq_impact_severe_weather_cold_wave_snow_retail</span></p></td><td class=\"c16\" colspan=\"1\" rowspan=\"1\"><p class=\"c5\"><span class=\"c7\">max</span></p></td><td class=\"c12\" colspan=\"1\" rowspan=\"1\"><p class=\"c5\"><span class=\"c7\">Retail only. Use a radius of 1 mile</span></p></td></tr><tr class=\"c15\"><td class=\"c25\" colspan=\"1\" rowspan=\"1\"><p class=\"c5\"><span class=\"c7\">Severe Weather (Cold wave - storm)</span></p></td><td class=\"c19\" colspan=\"1\" rowspan=\"1\"><p class=\"c14\"><span class=\"c7\">phq_impact_severe_weather_cold_wave_storm_retail</span></p></td><td class=\"c16\" colspan=\"1\" rowspan=\"1\"><p class=\"c5\"><span class=\"c7\">max</span></p></td><td class=\"c12\" colspan=\"1\" rowspan=\"1\"><p class=\"c5\"><span class=\"c7\">Retail only. Use a radius of 1 mile</span></p></td></tr><tr class=\"c15\"><td class=\"c25\" colspan=\"1\" rowspan=\"1\"><p class=\"c5\"><span class=\"c7\">Severe Weather (Dust)</span></p></td><td class=\"c19\" colspan=\"1\" rowspan=\"1\"><p class=\"c14\"><span class=\"c7\">phq_impact_severe_weather_dust_retail</span></p></td><td class=\"c16\" colspan=\"1\" rowspan=\"1\"><p class=\"c5\"><span class=\"c7\">max</span></p></td><td class=\"c12\" colspan=\"1\" rowspan=\"1\"><p class=\"c5\"><span class=\"c7\">Retail only. Use a radius of 1 mile</span></p></td></tr><tr class=\"c15\"><td class=\"c25\" colspan=\"1\" rowspan=\"1\"><p class=\"c5\"><span class=\"c7\">Severe Weather (Dust - Storm)</span></p></td><td class=\"c19\" colspan=\"1\" rowspan=\"1\"><p class=\"c14\"><span class=\"c7\">phq_impact_severe_weather_dust_storm_retail</span></p></td><td class=\"c16\" colspan=\"1\" rowspan=\"1\"><p class=\"c5\"><span class=\"c7\">max</span></p></td><td class=\"c12\" colspan=\"1\" rowspan=\"1\"><p class=\"c5\"><span class=\"c7\">Retail only. Use a radius of 1 mile</span></p></td></tr><tr class=\"c15\"><td class=\"c25\" colspan=\"1\" rowspan=\"1\"><p class=\"c5\"><span class=\"c7\">Severe Weather (Flood)</span></p></td><td class=\"c19\" colspan=\"1\" rowspan=\"1\"><p class=\"c14\"><span class=\"c7\">phq_impact_severe_weather_flood_retail</span></p></td><td class=\"c16\" colspan=\"1\" rowspan=\"1\"><p class=\"c5\"><span class=\"c7\">max</span></p></td><td class=\"c12\" colspan=\"1\" rowspan=\"1\"><p class=\"c5\"><span class=\"c7\">Retail only. Use a radius of 1 mile</span></p></td></tr><tr class=\"c15\"><td class=\"c25\" colspan=\"1\" rowspan=\"1\"><p class=\"c5\"><span class=\"c7\">Severe Weather (Heat wave)</span></p></td><td class=\"c19\" colspan=\"1\" rowspan=\"1\"><p class=\"c14\"><span class=\"c7\">phq_impact_severe_weather_heat_wave_retail</span></p></td><td class=\"c16\" colspan=\"1\" rowspan=\"1\"><p class=\"c5\"><span class=\"c7\">max</span></p></td><td class=\"c12\" colspan=\"1\" rowspan=\"1\"><p class=\"c5\"><span class=\"c7\">Retail only. Use a radius of 1 mile</span></p></td></tr><tr class=\"c15\"><td class=\"c25\" colspan=\"1\" rowspan=\"1\"><p class=\"c5\"><span class=\"c7\">Severe Weather (Hurricane)</span></p></td><td class=\"c19\" colspan=\"1\" rowspan=\"1\"><p class=\"c14\"><span class=\"c7\">phq_impact_severe_weather_hurricane_retail</span></p></td><td class=\"c16\" colspan=\"1\" rowspan=\"1\"><p class=\"c5\"><span class=\"c7\">max</span></p></td><td class=\"c12\" colspan=\"1\" rowspan=\"1\"><p class=\"c5\"><span class=\"c7\">Retail only. Use a radius of 1 mile</span></p></td></tr><tr class=\"c15\"><td class=\"c25\" colspan=\"1\" rowspan=\"1\"><p class=\"c5\"><span class=\"c7\">Severe Weather (Thunderstorm)</span></p></td><td class=\"c19\" colspan=\"1\" rowspan=\"1\"><p class=\"c14\"><span class=\"c7\">phq_impact_severe_weather_thunderstorm_retail</span></p></td><td class=\"c16\" colspan=\"1\" rowspan=\"1\"><p class=\"c5\"><span class=\"c7\">max</span></p></td><td class=\"c12\" colspan=\"1\" rowspan=\"1\"><p class=\"c5\"><span class=\"c7\">Retail only. Use a radius of 1 mile</span></p></td></tr><tr class=\"c15\"><td class=\"c25\" colspan=\"1\" rowspan=\"1\"><p class=\"c5\"><span class=\"c7\">Severe Weather (Tornado)</span></p></td><td class=\"c19\" colspan=\"1\" rowspan=\"1\"><p class=\"c14\"><span class=\"c7\">phq_impact_severe_weather_tornado_retail</span></p></td><td class=\"c16\" colspan=\"1\" rowspan=\"1\"><p class=\"c5\"><span class=\"c7\">max</span></p></td><td class=\"c12\" colspan=\"1\" rowspan=\"1\"><p class=\"c5\"><span class=\"c7\">Retail only. Use a radius of 1 mile</span></p></td></tr><tr class=\"c15\"><td class=\"c25\" colspan=\"1\" rowspan=\"1\"><p class=\"c5\"><span class=\"c7\">Severe Weather (Tropical Storm)</span></p></td><td class=\"c19\" colspan=\"1\" rowspan=\"1\"><p class=\"c14\"><span class=\"c7\">phq_impact_severe_weather_tropical_storm_retail</span></p></td><td class=\"c16\" colspan=\"1\" rowspan=\"1\"><p class=\"c5\"><span class=\"c7\">max</span></p></td><td class=\"c12\" colspan=\"1\" rowspan=\"1\"><p class=\"c5\"><span class=\"c7\">Retail only. Use a radius of 1 mile</span></p></td></tr>\n",
    "</table>\n",
    "</p>"
   ]
  },
  {
   "cell_type": "markdown",
   "metadata": {
    "cell_id": "0dd52ad26a214ce1bf76c5f6a246ec09",
    "deepnote_cell_height": 84,
    "deepnote_cell_type": "markdown",
    "tags": []
   },
   "source": [
    "<a id='setup'></a>\n",
    "## Setup"
   ]
  },
  {
   "cell_type": "markdown",
   "metadata": {
    "cell_id": "c131a7b9b6b7425ead596dda2cfcc0f0",
    "deepnote_cell_height": 69.390625,
    "deepnote_cell_type": "markdown",
    "tags": []
   },
   "source": [
    "- If you're using Google Colab, uncomment and run the following code block."
   ]
  },
  {
   "cell_type": "code",
   "execution_count": null,
   "metadata": {
    "cell_id": "2f469f067adf4951a8f435a1c1c781dc",
    "deepnote_cell_height": 750,
    "deepnote_cell_type": "code",
    "deepnote_to_be_reexecuted": false,
    "execution_millis": 9618,
    "execution_start": 1662593332417,
    "source_hash": "e0f230b8",
    "tags": []
   },
   "outputs": [
    {
     "name": "stdout",
     "output_type": "stream",
     "text": [
      "Collecting pandas==1.1.5\n",
      "  Downloading pandas-1.1.5-cp39-cp39-manylinux1_x86_64.whl (9.3 MB)\n",
      "\u001b[2K     \u001b[90m━━━━━━━━━━━━━━━━━━━━━━━━━━━━━━━━━━━━━━━━\u001b[0m \u001b[32m9.3/9.3 MB\u001b[0m \u001b[31m99.8 MB/s\u001b[0m eta \u001b[36m0:00:00\u001b[0m\n",
      "\u001b[?25hCollecting shapely==1.8.0\n",
      "  Downloading Shapely-1.8.0-cp39-cp39-manylinux_2_5_x86_64.manylinux1_x86_64.whl (1.1 MB)\n",
      "\u001b[2K     \u001b[90m━━━━━━━━━━━━━━━━━━━━━━━━━━━━━━━━━━━━━━━━\u001b[0m \u001b[32m1.1/1.1 MB\u001b[0m \u001b[31m115.1 MB/s\u001b[0m eta \u001b[36m0:00:00\u001b[0m\n",
      "\u001b[?25hCollecting timezonefinder==5.2.0\n",
      "  Downloading timezonefinder-5.2.0-py36.py37.py38-none-any.whl (43.0 MB)\n",
      "\u001b[2K     \u001b[90m━━━━━━━━━━━━━━━━━━━━━━━━━━━━━━━━━━━━━━━━\u001b[0m \u001b[32m43.0/43.0 MB\u001b[0m \u001b[31m51.0 MB/s\u001b[0m eta \u001b[36m0:00:00\u001b[0m\n",
      "\u001b[?25hCollecting predicthq==2.0.6\n",
      "  Downloading predicthq-2.0.6-py2.py3-none-any.whl (22 kB)\n",
      "Collecting numpy==1.20.3\n",
      "  Downloading numpy-1.20.3-cp39-cp39-manylinux_2_12_x86_64.manylinux2010_x86_64.whl (15.4 MB)\n",
      "\u001b[2K     \u001b[90m━━━━━━━━━━━━━━━━━━━━━━━━━━━━━━━━━━━━━━━━\u001b[0m \u001b[32m15.4/15.4 MB\u001b[0m \u001b[31m83.6 MB/s\u001b[0m eta \u001b[36m0:00:00\u001b[0m\n",
      "\u001b[?25hRequirement already satisfied: python-dateutil>=2.7.3 in /shared-libs/python3.9/py-core/lib/python3.9/site-packages (from pandas==1.1.5) (2.8.2)\n",
      "Requirement already satisfied: pytz>=2017.2 in /shared-libs/python3.9/py/lib/python3.9/site-packages (from pandas==1.1.5) (2022.1)\n",
      "Collecting schematics==2.0.0.dev2\n",
      "  Downloading schematics-2.0.0.dev2-py2.py3-none-any.whl (37 kB)\n",
      "Collecting pytz>=2017.2\n",
      "  Downloading pytz-2021.1-py2.py3-none-any.whl (510 kB)\n",
      "\u001b[2K     \u001b[90m━━━━━━━━━━━━━━━━━━━━━━━━━━━━━━━━━━━━━━\u001b[0m \u001b[32m510.8/510.8 KB\u001b[0m \u001b[31m82.5 MB/s\u001b[0m eta \u001b[36m0:00:00\u001b[0m\n",
      "\u001b[?25hRequirement already satisfied: requests>=2.7.0 in /shared-libs/python3.9/py/lib/python3.9/site-packages (from predicthq==2.0.6) (2.28.1)\n",
      "Requirement already satisfied: six>=1.7.3 in /shared-libs/python3.9/py-core/lib/python3.9/site-packages (from schematics==2.0.0.dev2->predicthq==2.0.6) (1.16.0)\n",
      "Requirement already satisfied: urllib3<1.27,>=1.21.1 in /shared-libs/python3.9/py/lib/python3.9/site-packages (from requests>=2.7.0->predicthq==2.0.6) (1.26.11)\n",
      "Requirement already satisfied: charset-normalizer<3,>=2 in /shared-libs/python3.9/py-core/lib/python3.9/site-packages (from requests>=2.7.0->predicthq==2.0.6) (2.1.0)\n",
      "Requirement already satisfied: idna<4,>=2.5 in /shared-libs/python3.9/py-core/lib/python3.9/site-packages (from requests>=2.7.0->predicthq==2.0.6) (3.3)\n",
      "Requirement already satisfied: certifi>=2017.4.17 in /shared-libs/python3.9/py/lib/python3.9/site-packages (from requests>=2.7.0->predicthq==2.0.6) (2022.6.15)\n",
      "Installing collected packages: pytz, shapely, schematics, numpy, timezonefinder, predicthq, pandas\n",
      "  Attempting uninstall: pytz\n",
      "    Found existing installation: pytz 2022.1\n",
      "    Not uninstalling pytz at /shared-libs/python3.9/py/lib/python3.9/site-packages, outside environment /root/venv\n",
      "    Can't uninstall 'pytz'. No files were found to uninstall.\n",
      "  Attempting uninstall: shapely\n",
      "    Found existing installation: Shapely 1.8.2\n",
      "    Not uninstalling shapely at /shared-libs/python3.9/py/lib/python3.9/site-packages, outside environment /root/venv\n",
      "    Can't uninstall 'Shapely'. No files were found to uninstall.\n",
      "  Attempting uninstall: numpy\n",
      "    Found existing installation: numpy 1.23.1\n",
      "    Not uninstalling numpy at /shared-libs/python3.9/py/lib/python3.9/site-packages, outside environment /root/venv\n",
      "    Can't uninstall 'numpy'. No files were found to uninstall.\n",
      "  Attempting uninstall: pandas\n",
      "    Found existing installation: pandas 1.2.5\n",
      "    Not uninstalling pandas at /shared-libs/python3.9/py/lib/python3.9/site-packages, outside environment /root/venv\n",
      "    Can't uninstall 'pandas'. No files were found to uninstall.\n",
      "Successfully installed numpy-1.20.3 pandas-1.1.5 predicthq-2.0.6 pytz-2021.1 schematics-2.0.0.dev2 shapely-1.8.0 timezonefinder-5.2.0\n",
      "\u001b[33mWARNING: You are using pip version 22.0.4; however, version 22.2.2 is available.\n",
      "You should consider upgrading via the '/root/venv/bin/python -m pip install --upgrade pip' command.\u001b[0m\u001b[33m\n",
      "\u001b[0m"
     ]
    }
   ],
   "source": [
    "# %%capture\n",
    "# !git clone https://github.com/predicthq/phq-data-science-docs.git\n",
    "# %cd phq-data-science-docs/feature-engineering-guide\n",
    "!pip install pandas==1.1.5 shapely==1.8.0 timezonefinder==5.2.0 predicthq==2.0.6 numpy==1.20.3"
   ]
  },
  {
   "cell_type": "markdown",
   "metadata": {
    "cell_id": "328391cc6ae44679b4ef1cf1015f3668",
    "deepnote_cell_height": 114.171875,
    "deepnote_cell_type": "markdown",
    "tags": []
   },
   "source": [
    "- Alternatively if you're running this notebook on a local machine, set up a Python environment using [requirements.txt](https://github.com/predicthq/phq-data-science-docs/blob/master/feature-engineering-guide/requirements.txt) file which is shared alongside the notebook.\n",
    "These requirements can be installed by runing the command `pip install -r requirements.txt`."
   ]
  },
  {
   "cell_type": "code",
   "execution_count": null,
   "metadata": {
    "cell_id": "7afa492c866b43848d467d73cdea36ef",
    "deepnote_cell_height": 220,
    "deepnote_cell_type": "code",
    "deepnote_to_be_reexecuted": false,
    "execution_millis": 5,
    "execution_start": 1662593345070,
    "source_hash": "d13d8fb0",
    "tags": []
   },
   "outputs": [],
   "source": [
    "import pandas as pd\n",
    "from predicthq import Client\n",
    "import requests\n",
    "import collections\n",
    "import numpy as np\n",
    "from datetime import datetime, date, timedelta\n",
    "\n",
    "# To display more columns and with a larger width in the DataFrame\n",
    "pd.set_option(\"display.max_columns\", 50)"
   ]
  },
  {
   "cell_type": "markdown",
   "metadata": {
    "cell_id": "c4a26afdc5e547c9bb7566e87bbb3c47",
    "deepnote_cell_height": 209.171875,
    "deepnote_cell_type": "markdown",
    "tags": []
   },
   "source": [
    "<a id='access_token'></a>\n",
    "## Access token\n",
    "An Access Token is required to query the API.\n",
    "\n",
    "The following link will guide you through creating an account and an access token. \n",
    "\n",
    " - https://docs.predicthq.com/guides/quickstart/"
   ]
  },
  {
   "cell_type": "code",
   "execution_count": null,
   "metadata": {
    "cell_id": "35095bdb0934470babd26381463147b6",
    "deepnote_cell_height": 112,
    "deepnote_cell_type": "code",
    "deepnote_to_be_reexecuted": false,
    "execution_millis": 493,
    "execution_start": 1662593351097,
    "source_hash": "27702505",
    "tags": []
   },
   "outputs": [],
   "source": [
    "# Replace Access Token with own access token.\n",
    "ACCESS_TOKEN = 'REPLACE_WITH_ACCESS_TOKEN'\n",
    "phq = Client(access_token=ACCESS_TOKEN)"
   ]
  },
  {
   "cell_type": "markdown",
   "metadata": {
    "cell_id": "a94361aaeeee44819ba04c9b7aff167b",
    "deepnote_cell_height": 122.390625,
    "deepnote_cell_type": "markdown",
    "tags": []
   },
   "source": [
    "<a id='setting_params'></a>\n",
    "## SDK parameters\n",
    "To search for events, start by building a parameter dictionary for SDK parmaters and adding the required filters."
   ]
  },
  {
   "cell_type": "code",
   "execution_count": null,
   "metadata": {
    "cell_id": "e73448b825464fd58fb9918fc6fd21d8",
    "deepnote_cell_height": 76,
    "deepnote_cell_type": "code",
    "deepnote_to_be_reexecuted": false,
    "execution_millis": 2,
    "execution_start": 1662593353823,
    "source_hash": "a8576e60",
    "tags": []
   },
   "outputs": [],
   "source": [
    "parameters = dict()"
   ]
  },
  {
   "cell_type": "markdown",
   "metadata": {
    "cell_id": "75b05f1ac27d467ba262def4104f96c7",
    "deepnote_cell_height": 366.515625,
    "deepnote_cell_type": "markdown",
    "tags": []
   },
   "source": [
    "### Location\n",
    "Specifying the location ensures you will use the relevant events for the location for calculating features.\n",
    "\n",
    "The default location in this notebook is New York.\n",
    "\n",
    "This can be adjusted to suit a location that is of interest to you.\n",
    "\n",
    "Please note that **School Holiday** features are only avaliable in the US and UK.\n",
    "\n",
    "Location can be set in two ways:  \n",
    "\n",
    "  1) Using the `location__geo` parameter, which contains `latitude`, `longitude` of the location of interest with a `radius` and a `unit` (e.g. meter: <b>m</b>; kilometer: <b>km</b>; mile: <b>mi</b>) for the radius. Use this option when looking for events around a specific location like a store or hotel.\n",
    "  \n",
    "  2) Using a `place_id`. Use this option when getting events in an entire city or a larger area.\n"
   ]
  },
  {
   "cell_type": "code",
   "execution_count": null,
   "metadata": {
    "cell_id": "804fb2d3c7294e5cb93e185f67c3ad98",
    "deepnote_cell_height": 184,
    "deepnote_cell_type": "code",
    "deepnote_to_be_reexecuted": false,
    "execution_millis": 3,
    "execution_start": 1662593356039,
    "source_hash": "e2846fb2",
    "tags": []
   },
   "outputs": [],
   "source": [
    "# Using latitude, longitude and a radius\n",
    "# Comment off this cell if you want to use place_ids\n",
    "latitude, longitude = (40.7079, -74.0115) # lat, lon for center of New York City\n",
    "radius_filter = \"5mi\"\n",
    "\n",
    "parameters.update(location__geo=dict(lat=latitude, lon=longitude,radius=radius_filter)) \n"
   ]
  },
  {
   "cell_type": "markdown",
   "metadata": {
    "cell_id": "e5723f58aa4f44888c09e46eb4049756",
    "deepnote_cell_height": 52.390625,
    "deepnote_cell_type": "markdown",
    "tags": []
   },
   "source": [
    "Alternatively, we could have used a `place_id` for our search (See our [Appendix on place_ids](#appendix) for detailed explanation)."
   ]
  },
  {
   "cell_type": "code",
   "execution_count": null,
   "metadata": {
    "cell_id": "a43cf22f11324cc0ac1e513c7f366054",
    "deepnote_cell_height": 112,
    "deepnote_cell_type": "code",
    "deepnote_to_be_reexecuted": false,
    "execution_millis": 0,
    "execution_start": 1662086266264,
    "source_hash": "d410ad0e",
    "tags": []
   },
   "outputs": [],
   "source": [
    "## Keep commented if you want to use lat and lon\n",
    "#place_ids = [5128638]\n",
    "#parameters.update(location__place_id=place_ids) "
   ]
  },
  {
   "cell_type": "markdown",
   "metadata": {
    "cell_id": "cccd95c143634c84b57f2e54c3a62391",
    "deepnote_cell_height": 500.859375,
    "deepnote_cell_type": "markdown",
    "tags": []
   },
   "source": [
    "### Date \"YYYY-MM-DD\"\n",
    "\n",
    "To define the period of time for which events will be returned, set the greater than or equal (`active__gte`) and less than or equal (`active__lte`) parameters. This will select all Attendance Based Events that are active within this period.\n",
    "\n",
    "You could also use these parameters depending on your time period of interest:\n",
    "\n",
    "`gte - Greater than or equal.` <br>\n",
    "`gt - Greater than.`<br>\n",
    "`lte - Less than or equal.`<br>\n",
    "`lt - Less than.`<br>\n",
    "\n",
    "\n",
    "Each request can currently fetch up to 90 days worth - for longer date ranges, multiple requests must be made and we have some examples of how to do that in this notebook. There is no pagination in this API.\n",
    "\n",
    "Please note that **School Holiday** features are only avaliable for the following period:\n",
    "* UK: mid-2017 onwards;\n",
    "* US: mid-2018 onwards.\n"
   ]
  },
  {
   "cell_type": "code",
   "execution_count": null,
   "metadata": {
    "cell_id": "e99cf707d887438e8162aac5b5b47945",
    "deepnote_cell_height": 130,
    "deepnote_cell_type": "code",
    "deepnote_to_be_reexecuted": false,
    "execution_millis": 2,
    "execution_start": 1662593360689,
    "source_hash": "7fb0b8bd",
    "tags": []
   },
   "outputs": [],
   "source": [
    "start_time = \"2021-09-01\"\n",
    "end_time = \"2021-11-28\"\n",
    "parameters.update(active__gte = start_time)\n",
    "parameters.update(active__lte = end_time)"
   ]
  },
  {
   "cell_type": "markdown",
   "metadata": {
    "cell_id": "aec40a4c509e461e80843277554b0ef4",
    "deepnote_cell_height": 84,
    "deepnote_cell_type": "markdown",
    "tags": []
   },
   "source": [
    "<a id='features_api'></a>\n",
    "## Using the Features API to query features for forecasting"
   ]
  },
  {
   "cell_type": "markdown",
   "metadata": {
    "cell_id": "8788d2728dec460cb55c1852633774d3",
    "deepnote_cell_height": 136.78125,
    "deepnote_cell_type": "markdown",
    "tags": []
   },
   "source": [
    "<a id='functions'></a>\n",
    "### Functions for formating data frame\n",
    "The default response from the Features API is in json format, to convert it to a more usable data frame format, the following functions are defined and employed. "
   ]
  },
  {
   "cell_type": "code",
   "execution_count": null,
   "metadata": {
    "cell_id": "e4747e56f6c54333a637dee51f6ad6a8",
    "deepnote_cell_height": 328,
    "deepnote_cell_type": "code",
    "deepnote_to_be_reexecuted": false,
    "execution_millis": 2,
    "execution_start": 1662593363635,
    "source_hash": "b44da3ca",
    "tags": []
   },
   "outputs": [],
   "source": [
    "def dict_value_by_flatten_key(dict_record, flatten_key):\n",
    "    return reduce(lambda d, k: d.get(k) if isinstance(d, dict) else None,\n",
    "                  flatten_key.split('.'),\n",
    "                  dict_record)\n",
    "\n",
    "\n",
    "def flatten_dict(d, parent_key='', sep='_'):\n",
    "    items = []\n",
    "    for k, v in d.items():\n",
    "        new_key = parent_key + sep + k if parent_key else k\n",
    "        if isinstance(v, collections.MutableMapping):\n",
    "            items.extend(flatten_dict(v, new_key, sep=sep).items())\n",
    "        else:\n",
    "            items.append((new_key, v))\n",
    "    return dict(items)"
   ]
  },
  {
   "cell_type": "markdown",
   "metadata": {
    "cell_id": "597bcbe76fe64da79b684d8a6ea2d2fb",
    "deepnote_cell_height": 587.03125,
    "deepnote_cell_type": "markdown",
    "tags": []
   },
   "source": [
    "<a id='attend'></a>\n",
    "### Attendance based features\n",
    "\n",
    "This group of features is based on PHQ Attendance. The following features are supported:\n",
    "\n",
    "- `phq_attendance_sports`\n",
    "- `phq_attendance_conferences`\n",
    "- `phq_attendance_expos`\n",
    "- `phq_attendance_concerts`\n",
    "- `phq_attendance_festivals`\n",
    "- `phq_attendance_performing_arts`\n",
    "- `phq_attendance_community`\n",
    "\n",
    "Each of these features includes stats. You define which stats you need (or don't define any and receive the default set of stats). Supported stats are:\n",
    "\n",
    "- `sum` (Recommended to start with)\n",
    "- `count` \n",
    "- `min`\n",
    "- `max`\n",
    "- `avg`\n",
    "- `median`\n",
    "- `std_dev`\n",
    "\n",
    "These features also support filtering by PHQ Rank as you'll see in the example below."
   ]
  },
  {
   "cell_type": "markdown",
   "metadata": {
    "cell_id": "0b58e54f7b774ba094d4ca7eaa14feaa",
    "deepnote_cell_height": 54,
    "deepnote_cell_type": "markdown",
    "tags": []
   },
   "source": [
    "#### Setup SDK parameters"
   ]
  },
  {
   "cell_type": "code",
   "execution_count": null,
   "metadata": {
    "cell_id": "eade0e25146c44da8f615b4fd766cf6f",
    "deepnote_cell_height": 238,
    "deepnote_cell_type": "code",
    "deepnote_to_be_reexecuted": false,
    "execution_millis": 3,
    "execution_start": 1662593369543,
    "source_hash": "d19bbf58",
    "tags": []
   },
   "outputs": [],
   "source": [
    "parameters = dict()\n",
    "\n",
    "latitude, longitude = (40.7079, -74.0115) # LAT, LONG for centre of New York City\n",
    "radius_filter = \"5mi\"\n",
    "parameters.update(location__geo=dict(lat=latitude, lon=longitude,radius=radius_filter)) \n",
    "\n",
    "start_time = \"2021-09-01\"\n",
    "end_time = \"2021-11-28\"\n",
    "parameters.update(active__gte = start_time)\n",
    "parameters.update(active__lte = end_time)"
   ]
  },
  {
   "cell_type": "markdown",
   "metadata": {
    "cell_id": "76b83b5f020f42b0837909b2fde40a11",
    "deepnote_cell_height": 52.390625,
    "deepnote_cell_type": "markdown",
    "tags": []
   },
   "source": [
    "Specify a list of Attendance Based Events categories to return."
   ]
  },
  {
   "cell_type": "code",
   "execution_count": null,
   "metadata": {
    "cell_id": "73a70f8fa27d4b06b4c035576d2e3f62",
    "deepnote_cell_height": 572.875,
    "deepnote_cell_type": "code",
    "deepnote_to_be_reexecuted": false,
    "execution_millis": 4,
    "execution_start": 1662593372235,
    "source_hash": "30acfb8",
    "tags": []
   },
   "outputs": [
    {
     "data": {
      "text/plain": [
       "{'location__geo': {'lat': 40.7079, 'lon': -74.0115, 'radius': '5mi'},\n",
       " 'active__gte': '2021-09-01',\n",
       " 'active__lte': '2021-11-28',\n",
       " 'phq_attendance_sports__stats': ['sum'],\n",
       " 'phq_attendance_conferences__stats': ['sum'],\n",
       " 'phq_attendance_expos__stats': ['sum'],\n",
       " 'phq_attendance_concerts__stats': ['sum'],\n",
       " 'phq_attendance_festivals__stats': ['sum'],\n",
       " 'phq_attendance_performing_arts__stats': ['sum'],\n",
       " 'phq_attendance_community__stats': ['sum']}"
      ]
     },
     "execution_count": 9,
     "metadata": {},
     "output_type": "execute_result"
    }
   ],
   "source": [
    "categories_attended = [\n",
    "    \"phq_attendance_sports\",\n",
    "    \"phq_attendance_conferences\",\n",
    "    \"phq_attendance_expos\",\n",
    "    \"phq_attendance_concerts\",\n",
    "    \"phq_attendance_festivals\",\n",
    "    \"phq_attendance_performing_arts\",\n",
    "    \"phq_attendance_community\",\n",
    "]\n",
    "\n",
    "# only return sum of the attendance\n",
    "stats = [\"sum\"]\n",
    "#parameters.update(phq_attendance_school_holidays__stats=stats)\n",
    "for i in categories_attended:\n",
    "    parameters.update({f\"{i}__stats\": stats})\n",
    "\n",
    "parameters"
   ]
  },
  {
   "cell_type": "markdown",
   "metadata": {
    "cell_id": "e9d0ca6143e94090b0a1c8218bd4457b",
    "deepnote_cell_height": 191.953125,
    "deepnote_cell_type": "markdown",
    "tags": []
   },
   "source": [
    "#### Rank filter\n",
    "Low rank or high rank events can be filtered out when calculating features if desired, just set the greater than and equal/greater than (gte/gt) and less than and equal or less than (lte/lt) parameters for the desired features. For example, this allows you to filter our smaller events if you want to initially concetrate on larger events.\n",
    "\n",
    "See PHQ Attendance under [General Category Information](https://docs.predicthq.com/categoryinfo/general-category-information) in the documentation for more information on how rank maps to attendance."
   ]
  },
  {
   "cell_type": "code",
   "execution_count": null,
   "metadata": {
    "cell_id": "e1393485c8874530b4fd4e0432e28778",
    "deepnote_cell_height": 581.1875,
    "deepnote_cell_type": "code",
    "deepnote_to_be_reexecuted": false,
    "execution_millis": 633,
    "execution_start": 1662593377041,
    "source_hash": "273127b5",
    "tags": []
   },
   "outputs": [
    {
     "data": {
      "text/plain": [
       "{'location__geo': {'lat': 40.7079, 'lon': -74.0115, 'radius': '5mi'},\n",
       " 'active__gte': '2021-09-01',\n",
       " 'active__lte': '2021-11-28',\n",
       " 'phq_attendance_sports__stats': ['sum'],\n",
       " 'phq_attendance_conferences__stats': ['sum'],\n",
       " 'phq_attendance_expos__stats': ['sum'],\n",
       " 'phq_attendance_concerts__stats': ['sum'],\n",
       " 'phq_attendance_festivals__stats': ['sum'],\n",
       " 'phq_attendance_performing_arts__stats': ['sum'],\n",
       " 'phq_attendance_community__stats': ['sum'],\n",
       " 'phq_attendance_sports__phq_rank': {'gte': 30},\n",
       " 'phq_attendance_conferences__phq_rank': {'gte': 30},\n",
       " 'phq_attendance_expos__phq_rank': {'gte': 30},\n",
       " 'phq_attendance_concerts__phq_rank': {'gte': 30},\n",
       " 'phq_attendance_festivals__phq_rank': {'gte': 30},\n",
       " 'phq_attendance_performing_arts__phq_rank': {'gte': 30},\n",
       " 'phq_attendance_community__phq_rank': {'gte': 30}}"
      ]
     },
     "execution_count": 10,
     "metadata": {},
     "output_type": "execute_result"
    }
   ],
   "source": [
    "phq_rank_filter = 30\n",
    "\n",
    "# Example 1, set rank filter for a single feature\n",
    "parameters.update(phq_attendance_sports__phq_rank=dict(gte = phq_rank_filter))\n",
    "\n",
    "# Example 2, set rank filter for a batch of features\n",
    "for i in categories_attended:\n",
    "    parameters.update({f\"{i}__phq_rank\":{'gte': phq_rank_filter}})\n",
    "\n",
    "parameters"
   ]
  },
  {
   "cell_type": "markdown",
   "metadata": {
    "cell_id": "22ae3b59c2804c339ae53d9f310a8184",
    "deepnote_cell_height": 54,
    "deepnote_cell_type": "markdown",
    "tags": []
   },
   "source": [
    "#### Query features"
   ]
  },
  {
   "cell_type": "code",
   "execution_count": null,
   "metadata": {
    "cell_id": "8a049dfef09443c0831a6b1233105107",
    "deepnote_cell_height": 808.375,
    "deepnote_cell_type": "code",
    "deepnote_to_be_reexecuted": false,
    "execution_millis": 1119,
    "execution_start": 1662593383804,
    "source_hash": "665838c0",
    "tags": []
   },
   "outputs": [
    {
     "name": "stderr",
     "output_type": "stream",
     "text": [
      "/tmp/ipykernel_88/527831484.py:11: DeprecationWarning: Using or importing the ABCs from 'collections' instead of from 'collections.abc' is deprecated since Python 3.3, and in 3.10 it will stop working\n",
      "  if isinstance(v, collections.MutableMapping):\n"
     ]
    },
    {
     "data": {
      "application/vnd.deepnote.dataframe.v3+json": {
       "column_count": 8,
       "columns": [
        {
         "dtype": "object",
         "name": "date",
         "stats": {
          "categories": [
           {
            "count": 1,
            "name": "2021-09-01"
           },
           {
            "count": 1,
            "name": "2021-09-02"
           },
           {
            "count": 87,
            "name": "87 others"
           }
          ],
          "nan_count": 0,
          "unique_count": 89
         }
        },
        {
         "dtype": "float64",
         "name": "phq_attendance_community_stats_sum",
         "stats": {
          "histogram": [
           {
            "bin_end": 457.2,
            "bin_start": 0,
            "count": 31
           },
           {
            "bin_end": 914.4,
            "bin_start": 457.2,
            "count": 18
           },
           {
            "bin_end": 1371.6,
            "bin_start": 914.4,
            "count": 12
           },
           {
            "bin_end": 1828.8,
            "bin_start": 1371.6,
            "count": 15
           },
           {
            "bin_end": 2286,
            "bin_start": 1828.8,
            "count": 3
           },
           {
            "bin_end": 2743.2,
            "bin_start": 2286,
            "count": 6
           },
           {
            "bin_end": 3200.4,
            "bin_start": 2743.2,
            "count": 1
           },
           {
            "bin_end": 3657.6,
            "bin_start": 3200.4,
            "count": 1
           },
           {
            "bin_end": 4114.8,
            "bin_start": 3657.6,
            "count": 0
           },
           {
            "bin_end": 4572,
            "bin_start": 4114.8,
            "count": 2
           }
          ],
          "max": "4572.0",
          "min": "0.0",
          "nan_count": 0,
          "unique_count": 73
         }
        },
        {
         "dtype": "float64",
         "name": "phq_attendance_concerts_stats_sum",
         "stats": {
          "histogram": [
           {
            "bin_end": 4230.2,
            "bin_start": 344,
            "count": 11
           },
           {
            "bin_end": 8116.4,
            "bin_start": 4230.2,
            "count": 19
           },
           {
            "bin_end": 12002.599999999999,
            "bin_start": 8116.4,
            "count": 22
           },
           {
            "bin_end": 15888.8,
            "bin_start": 12002.599999999999,
            "count": 16
           },
           {
            "bin_end": 19775,
            "bin_start": 15888.8,
            "count": 5
           },
           {
            "bin_end": 23661.199999999997,
            "bin_start": 19775,
            "count": 3
           },
           {
            "bin_end": 27547.399999999998,
            "bin_start": 23661.199999999997,
            "count": 4
           },
           {
            "bin_end": 31433.6,
            "bin_start": 27547.399999999998,
            "count": 4
           },
           {
            "bin_end": 35319.799999999996,
            "bin_start": 31433.6,
            "count": 3
           },
           {
            "bin_end": 39206,
            "bin_start": 35319.799999999996,
            "count": 2
           }
          ],
          "max": "39206.0",
          "min": "344.0",
          "nan_count": 0,
          "unique_count": 89
         }
        },
        {
         "dtype": "float64",
         "name": "phq_attendance_conferences_stats_sum",
         "stats": {
          "histogram": [
           {
            "bin_end": 10912,
            "bin_start": 0,
            "count": 81
           },
           {
            "bin_end": 21824,
            "bin_start": 10912,
            "count": 4
           },
           {
            "bin_end": 32736,
            "bin_start": 21824,
            "count": 0
           },
           {
            "bin_end": 43648,
            "bin_start": 32736,
            "count": 0
           },
           {
            "bin_end": 54560,
            "bin_start": 43648,
            "count": 0
           },
           {
            "bin_end": 65472,
            "bin_start": 54560,
            "count": 0
           },
           {
            "bin_end": 76384,
            "bin_start": 65472,
            "count": 0
           },
           {
            "bin_end": 87296,
            "bin_start": 76384,
            "count": 2
           },
           {
            "bin_end": 98208,
            "bin_start": 87296,
            "count": 0
           },
           {
            "bin_end": 109120,
            "bin_start": 98208,
            "count": 2
           }
          ],
          "max": "109120.0",
          "min": "0.0",
          "nan_count": 0,
          "unique_count": 50
         }
        },
        {
         "dtype": "float64",
         "name": "phq_attendance_expos_stats_sum",
         "stats": {
          "histogram": [
           {
            "bin_end": 5224.6,
            "bin_start": 0,
            "count": 45
           },
           {
            "bin_end": 10449.2,
            "bin_start": 5224.6,
            "count": 18
           },
           {
            "bin_end": 15673.800000000001,
            "bin_start": 10449.2,
            "count": 7
           },
           {
            "bin_end": 20898.4,
            "bin_start": 15673.800000000001,
            "count": 5
           },
           {
            "bin_end": 26123,
            "bin_start": 20898.4,
            "count": 2
           },
           {
            "bin_end": 31347.600000000002,
            "bin_start": 26123,
            "count": 4
           },
           {
            "bin_end": 36572.200000000004,
            "bin_start": 31347.600000000002,
            "count": 2
           },
           {
            "bin_end": 41796.8,
            "bin_start": 36572.200000000004,
            "count": 3
           },
           {
            "bin_end": 47021.4,
            "bin_start": 41796.8,
            "count": 2
           },
           {
            "bin_end": 52246,
            "bin_start": 47021.4,
            "count": 1
           }
          ],
          "max": "52246.0",
          "min": "0.0",
          "nan_count": 0,
          "unique_count": 59
         }
        },
        {
         "dtype": "float64",
         "name": "phq_attendance_festivals_stats_sum",
         "stats": {
          "histogram": [
           {
            "bin_end": 160000,
            "bin_start": 0,
            "count": 86
           },
           {
            "bin_end": 320000,
            "bin_start": 160000,
            "count": 0
           },
           {
            "bin_end": 480000,
            "bin_start": 320000,
            "count": 1
           },
           {
            "bin_end": 640000,
            "bin_start": 480000,
            "count": 0
           },
           {
            "bin_end": 800000,
            "bin_start": 640000,
            "count": 0
           },
           {
            "bin_end": 960000,
            "bin_start": 800000,
            "count": 0
           },
           {
            "bin_end": 1120000,
            "bin_start": 960000,
            "count": 0
           },
           {
            "bin_end": 1280000,
            "bin_start": 1120000,
            "count": 1
           },
           {
            "bin_end": 1440000,
            "bin_start": 1280000,
            "count": 0
           },
           {
            "bin_end": 1600000,
            "bin_start": 1440000,
            "count": 1
           }
          ],
          "max": "1600000.0",
          "min": "0.0",
          "nan_count": 0,
          "unique_count": 40
         }
        },
        {
         "dtype": "float64",
         "name": "phq_attendance_performing_arts_stats_sum",
         "stats": {
          "histogram": [
           {
            "bin_end": 6504.5,
            "bin_start": 567,
            "count": 24
           },
           {
            "bin_end": 12442,
            "bin_start": 6504.5,
            "count": 11
           },
           {
            "bin_end": 18379.5,
            "bin_start": 12442,
            "count": 24
           },
           {
            "bin_end": 24317,
            "bin_start": 18379.5,
            "count": 8
           },
           {
            "bin_end": 30254.5,
            "bin_start": 24317,
            "count": 9
           },
           {
            "bin_end": 36192,
            "bin_start": 30254.5,
            "count": 3
           },
           {
            "bin_end": 42129.5,
            "bin_start": 36192,
            "count": 4
           },
           {
            "bin_end": 48067,
            "bin_start": 42129.5,
            "count": 2
           },
           {
            "bin_end": 54004.5,
            "bin_start": 48067,
            "count": 0
           },
           {
            "bin_end": 59942,
            "bin_start": 54004.5,
            "count": 4
           }
          ],
          "max": "59942.0",
          "min": "567.0",
          "nan_count": 0,
          "unique_count": 87
         }
        },
        {
         "dtype": "float64",
         "name": "phq_attendance_sports_stats_sum",
         "stats": {
          "histogram": [
           {
            "bin_end": 151384.4,
            "bin_start": 0,
            "count": 88
           },
           {
            "bin_end": 302768.8,
            "bin_start": 151384.4,
            "count": 0
           },
           {
            "bin_end": 454153.19999999995,
            "bin_start": 302768.8,
            "count": 0
           },
           {
            "bin_end": 605537.6,
            "bin_start": 454153.19999999995,
            "count": 0
           },
           {
            "bin_end": 756922,
            "bin_start": 605537.6,
            "count": 0
           },
           {
            "bin_end": 908306.3999999999,
            "bin_start": 756922,
            "count": 0
           },
           {
            "bin_end": 1059690.8,
            "bin_start": 908306.3999999999,
            "count": 0
           },
           {
            "bin_end": 1211075.2,
            "bin_start": 1059690.8,
            "count": 0
           },
           {
            "bin_end": 1362459.5999999999,
            "bin_start": 1211075.2,
            "count": 0
           },
           {
            "bin_end": 1513844,
            "bin_start": 1362459.5999999999,
            "count": 1
           }
          ],
          "max": "1513844.0",
          "min": "0.0",
          "nan_count": 0,
          "unique_count": 48
         }
        },
        {
         "dtype": "int64",
         "name": "_deepnote_index_column"
        }
       ],
       "row_count": 89,
       "rows": [
        {
         "_deepnote_index_column": "0",
         "date": "2021-09-01",
         "phq_attendance_community_stats_sum": "360.0",
         "phq_attendance_concerts_stats_sum": "3866.0",
         "phq_attendance_conferences_stats_sum": "0.0",
         "phq_attendance_expos_stats_sum": "30.0",
         "phq_attendance_festivals_stats_sum": "0.0",
         "phq_attendance_performing_arts_stats_sum": "872.0",
         "phq_attendance_sports_stats_sum": "0.0"
        },
        {
         "_deepnote_index_column": "1",
         "date": "2021-09-02",
         "phq_attendance_community_stats_sum": "636.0",
         "phq_attendance_concerts_stats_sum": "1998.0",
         "phq_attendance_conferences_stats_sum": "0.0",
         "phq_attendance_expos_stats_sum": "104.0",
         "phq_attendance_festivals_stats_sum": "0.0",
         "phq_attendance_performing_arts_stats_sum": "1680.0",
         "phq_attendance_sports_stats_sum": "0.0"
        },
        {
         "_deepnote_index_column": "2",
         "date": "2021-09-03",
         "phq_attendance_community_stats_sum": "783.0",
         "phq_attendance_concerts_stats_sum": "11642.0",
         "phq_attendance_conferences_stats_sum": "0.0",
         "phq_attendance_expos_stats_sum": "125.0",
         "phq_attendance_festivals_stats_sum": "0.0",
         "phq_attendance_performing_arts_stats_sum": "1779.0",
         "phq_attendance_sports_stats_sum": "0.0"
        },
        {
         "_deepnote_index_column": "3",
         "date": "2021-09-04",
         "phq_attendance_community_stats_sum": "1551.0",
         "phq_attendance_concerts_stats_sum": "2492.0",
         "phq_attendance_conferences_stats_sum": "0.0",
         "phq_attendance_expos_stats_sum": "125.0",
         "phq_attendance_festivals_stats_sum": "45869.0",
         "phq_attendance_performing_arts_stats_sum": "3305.0",
         "phq_attendance_sports_stats_sum": "0.0"
        },
        {
         "_deepnote_index_column": "4",
         "date": "2021-09-05",
         "phq_attendance_community_stats_sum": "960.0",
         "phq_attendance_concerts_stats_sum": "3876.0",
         "phq_attendance_conferences_stats_sum": "0.0",
         "phq_attendance_expos_stats_sum": "125.0",
         "phq_attendance_festivals_stats_sum": "38224.0",
         "phq_attendance_performing_arts_stats_sum": "3756.0",
         "phq_attendance_sports_stats_sum": "0.0"
        },
        {
         "_deepnote_index_column": "5",
         "date": "2021-09-06",
         "phq_attendance_community_stats_sum": "840.0",
         "phq_attendance_concerts_stats_sum": "344.0",
         "phq_attendance_conferences_stats_sum": "0.0",
         "phq_attendance_expos_stats_sum": "74.0",
         "phq_attendance_festivals_stats_sum": "1488.0",
         "phq_attendance_performing_arts_stats_sum": "567.0",
         "phq_attendance_sports_stats_sum": "0.0"
        },
        {
         "_deepnote_index_column": "6",
         "date": "2021-09-07",
         "phq_attendance_community_stats_sum": "640.0",
         "phq_attendance_concerts_stats_sum": "3204.0",
         "phq_attendance_conferences_stats_sum": "0.0",
         "phq_attendance_expos_stats_sum": "74.0",
         "phq_attendance_festivals_stats_sum": "1488.0",
         "phq_attendance_performing_arts_stats_sum": "1655.0",
         "phq_attendance_sports_stats_sum": "0.0"
        },
        {
         "_deepnote_index_column": "7",
         "date": "2021-09-08",
         "phq_attendance_community_stats_sum": "280.0",
         "phq_attendance_concerts_stats_sum": "4112.0",
         "phq_attendance_conferences_stats_sum": "400.0",
         "phq_attendance_expos_stats_sum": "21503.0",
         "phq_attendance_festivals_stats_sum": "1488.0",
         "phq_attendance_performing_arts_stats_sum": "2131.0",
         "phq_attendance_sports_stats_sum": "0.0"
        },
        {
         "_deepnote_index_column": "8",
         "date": "2021-09-09",
         "phq_attendance_community_stats_sum": "856.0",
         "phq_attendance_concerts_stats_sum": "6715.0",
         "phq_attendance_conferences_stats_sum": "800.0",
         "phq_attendance_expos_stats_sum": "22547.0",
         "phq_attendance_festivals_stats_sum": "29488.0",
         "phq_attendance_performing_arts_stats_sum": "3183.0",
         "phq_attendance_sports_stats_sum": "6464.0"
        },
        {
         "_deepnote_index_column": "9",
         "date": "2021-09-10",
         "phq_attendance_community_stats_sum": "503.0",
         "phq_attendance_concerts_stats_sum": "10260.0",
         "phq_attendance_conferences_stats_sum": "880.0",
         "phq_attendance_expos_stats_sum": "27055.0",
         "phq_attendance_festivals_stats_sum": "36860.0",
         "phq_attendance_performing_arts_stats_sum": "3875.0",
         "phq_attendance_sports_stats_sum": "15600.0"
        }
       ]
      },
      "text/html": [
       "<div>\n",
       "<style scoped>\n",
       "    .dataframe tbody tr th:only-of-type {\n",
       "        vertical-align: middle;\n",
       "    }\n",
       "\n",
       "    .dataframe tbody tr th {\n",
       "        vertical-align: top;\n",
       "    }\n",
       "\n",
       "    .dataframe thead th {\n",
       "        text-align: right;\n",
       "    }\n",
       "</style>\n",
       "<table border=\"1\" class=\"dataframe\">\n",
       "  <thead>\n",
       "    <tr style=\"text-align: right;\">\n",
       "      <th></th>\n",
       "      <th>date</th>\n",
       "      <th>phq_attendance_community_stats_sum</th>\n",
       "      <th>phq_attendance_concerts_stats_sum</th>\n",
       "      <th>phq_attendance_conferences_stats_sum</th>\n",
       "      <th>phq_attendance_expos_stats_sum</th>\n",
       "      <th>phq_attendance_festivals_stats_sum</th>\n",
       "      <th>phq_attendance_performing_arts_stats_sum</th>\n",
       "      <th>phq_attendance_sports_stats_sum</th>\n",
       "    </tr>\n",
       "  </thead>\n",
       "  <tbody>\n",
       "    <tr>\n",
       "      <th>0</th>\n",
       "      <td>2021-09-01</td>\n",
       "      <td>360.0</td>\n",
       "      <td>3866.0</td>\n",
       "      <td>0.0</td>\n",
       "      <td>30.0</td>\n",
       "      <td>0.0</td>\n",
       "      <td>872.0</td>\n",
       "      <td>0.0</td>\n",
       "    </tr>\n",
       "    <tr>\n",
       "      <th>1</th>\n",
       "      <td>2021-09-02</td>\n",
       "      <td>636.0</td>\n",
       "      <td>1998.0</td>\n",
       "      <td>0.0</td>\n",
       "      <td>104.0</td>\n",
       "      <td>0.0</td>\n",
       "      <td>1680.0</td>\n",
       "      <td>0.0</td>\n",
       "    </tr>\n",
       "    <tr>\n",
       "      <th>2</th>\n",
       "      <td>2021-09-03</td>\n",
       "      <td>783.0</td>\n",
       "      <td>11642.0</td>\n",
       "      <td>0.0</td>\n",
       "      <td>125.0</td>\n",
       "      <td>0.0</td>\n",
       "      <td>1779.0</td>\n",
       "      <td>0.0</td>\n",
       "    </tr>\n",
       "    <tr>\n",
       "      <th>3</th>\n",
       "      <td>2021-09-04</td>\n",
       "      <td>1551.0</td>\n",
       "      <td>2492.0</td>\n",
       "      <td>0.0</td>\n",
       "      <td>125.0</td>\n",
       "      <td>45869.0</td>\n",
       "      <td>3305.0</td>\n",
       "      <td>0.0</td>\n",
       "    </tr>\n",
       "    <tr>\n",
       "      <th>4</th>\n",
       "      <td>2021-09-05</td>\n",
       "      <td>960.0</td>\n",
       "      <td>3876.0</td>\n",
       "      <td>0.0</td>\n",
       "      <td>125.0</td>\n",
       "      <td>38224.0</td>\n",
       "      <td>3756.0</td>\n",
       "      <td>0.0</td>\n",
       "    </tr>\n",
       "    <tr>\n",
       "      <th>...</th>\n",
       "      <td>...</td>\n",
       "      <td>...</td>\n",
       "      <td>...</td>\n",
       "      <td>...</td>\n",
       "      <td>...</td>\n",
       "      <td>...</td>\n",
       "      <td>...</td>\n",
       "      <td>...</td>\n",
       "    </tr>\n",
       "    <tr>\n",
       "      <th>84</th>\n",
       "      <td>2021-11-24</td>\n",
       "      <td>1100.0</td>\n",
       "      <td>12872.0</td>\n",
       "      <td>0.0</td>\n",
       "      <td>0.0</td>\n",
       "      <td>0.0</td>\n",
       "      <td>47420.0</td>\n",
       "      <td>19553.0</td>\n",
       "    </tr>\n",
       "    <tr>\n",
       "      <th>85</th>\n",
       "      <td>2021-11-25</td>\n",
       "      <td>0.0</td>\n",
       "      <td>384.0</td>\n",
       "      <td>0.0</td>\n",
       "      <td>0.0</td>\n",
       "      <td>1200000.0</td>\n",
       "      <td>12095.0</td>\n",
       "      <td>0.0</td>\n",
       "    </tr>\n",
       "    <tr>\n",
       "      <th>86</th>\n",
       "      <td>2021-11-26</td>\n",
       "      <td>569.0</td>\n",
       "      <td>14393.0</td>\n",
       "      <td>210.0</td>\n",
       "      <td>9513.0</td>\n",
       "      <td>0.0</td>\n",
       "      <td>55966.0</td>\n",
       "      <td>42520.0</td>\n",
       "    </tr>\n",
       "    <tr>\n",
       "      <th>87</th>\n",
       "      <td>2021-11-27</td>\n",
       "      <td>1157.0</td>\n",
       "      <td>15169.0</td>\n",
       "      <td>210.0</td>\n",
       "      <td>9513.0</td>\n",
       "      <td>0.0</td>\n",
       "      <td>59942.0</td>\n",
       "      <td>39327.0</td>\n",
       "    </tr>\n",
       "    <tr>\n",
       "      <th>88</th>\n",
       "      <td>2021-11-28</td>\n",
       "      <td>992.0</td>\n",
       "      <td>8421.0</td>\n",
       "      <td>0.0</td>\n",
       "      <td>9513.0</td>\n",
       "      <td>0.0</td>\n",
       "      <td>30995.0</td>\n",
       "      <td>2024.0</td>\n",
       "    </tr>\n",
       "  </tbody>\n",
       "</table>\n",
       "<p>89 rows × 8 columns</p>\n",
       "</div>"
      ],
      "text/plain": [
       "          date  phq_attendance_community_stats_sum  \\\n",
       "0   2021-09-01                               360.0   \n",
       "1   2021-09-02                               636.0   \n",
       "2   2021-09-03                               783.0   \n",
       "3   2021-09-04                              1551.0   \n",
       "4   2021-09-05                               960.0   \n",
       "..         ...                                 ...   \n",
       "84  2021-11-24                              1100.0   \n",
       "85  2021-11-25                                 0.0   \n",
       "86  2021-11-26                               569.0   \n",
       "87  2021-11-27                              1157.0   \n",
       "88  2021-11-28                               992.0   \n",
       "\n",
       "    phq_attendance_concerts_stats_sum  phq_attendance_conferences_stats_sum  \\\n",
       "0                              3866.0                                   0.0   \n",
       "1                              1998.0                                   0.0   \n",
       "2                             11642.0                                   0.0   \n",
       "3                              2492.0                                   0.0   \n",
       "4                              3876.0                                   0.0   \n",
       "..                                ...                                   ...   \n",
       "84                            12872.0                                   0.0   \n",
       "85                              384.0                                   0.0   \n",
       "86                            14393.0                                 210.0   \n",
       "87                            15169.0                                 210.0   \n",
       "88                             8421.0                                   0.0   \n",
       "\n",
       "    phq_attendance_expos_stats_sum  phq_attendance_festivals_stats_sum  \\\n",
       "0                             30.0                                 0.0   \n",
       "1                            104.0                                 0.0   \n",
       "2                            125.0                                 0.0   \n",
       "3                            125.0                             45869.0   \n",
       "4                            125.0                             38224.0   \n",
       "..                             ...                                 ...   \n",
       "84                             0.0                                 0.0   \n",
       "85                             0.0                           1200000.0   \n",
       "86                          9513.0                                 0.0   \n",
       "87                          9513.0                                 0.0   \n",
       "88                          9513.0                                 0.0   \n",
       "\n",
       "    phq_attendance_performing_arts_stats_sum  phq_attendance_sports_stats_sum  \n",
       "0                                      872.0                              0.0  \n",
       "1                                     1680.0                              0.0  \n",
       "2                                     1779.0                              0.0  \n",
       "3                                     3305.0                              0.0  \n",
       "4                                     3756.0                              0.0  \n",
       "..                                       ...                              ...  \n",
       "84                                   47420.0                          19553.0  \n",
       "85                                   12095.0                              0.0  \n",
       "86                                   55966.0                          42520.0  \n",
       "87                                   59942.0                          39327.0  \n",
       "88                                   30995.0                           2024.0  \n",
       "\n",
       "[89 rows x 8 columns]"
      ]
     },
     "execution_count": 11,
     "metadata": {},
     "output_type": "execute_result"
    }
   ],
   "source": [
    "results = []\n",
    "\n",
    "for feature in phq.features.obtain_features(parameters):\n",
    "    results.append(flatten_dict(feature.to_dict(), '', '_'))\n",
    "\n",
    "feature_df = pd.DataFrame(results)\n",
    "\n",
    "feature_df"
   ]
  },
  {
   "cell_type": "markdown",
   "metadata": {
    "cell_id": "a82049cb965a4fd896eb81a0e47bcf62",
    "deepnote_cell_height": 133.171875,
    "deepnote_cell_type": "markdown",
    "tags": []
   },
   "source": [
    "#### Features for School Holidays\n",
    "`phq_attendance_school_holidays` is also one of the attendance based features, but it requires a special setting for radius. Currently the school holidays are detailed at the district level for the US, therefore, we recommend setting the raidus of 1 mile for the US."
   ]
  },
  {
   "cell_type": "code",
   "execution_count": null,
   "metadata": {
    "cell_id": "ee1e5c20e90942c4b814d0dcaab2c430",
    "deepnote_cell_height": 256,
    "deepnote_cell_type": "code",
    "deepnote_to_be_reexecuted": false,
    "execution_millis": 3,
    "execution_start": 1662593391394,
    "source_hash": "b29ddc85",
    "tags": []
   },
   "outputs": [],
   "source": [
    "# Reset SKD Parameters\n",
    "parameters = dict()\n",
    "\n",
    "latitude, longitude = (40.7079, -74.0115) # LAT, LONG for centre of New York City\n",
    "radius_filter = \"1mi\"\n",
    "parameters.update(location__geo=dict(lat=latitude, lon=longitude,radius=radius_filter)) \n",
    "\n",
    "start_time = \"2021-09-01\"\n",
    "end_time = \"2021-11-28\"\n",
    "parameters.update(active__gte = start_time)\n",
    "parameters.update(active__lte = end_time)"
   ]
  },
  {
   "cell_type": "code",
   "execution_count": null,
   "metadata": {
    "cell_id": "8ae2bef9d03a4d2f9d03e4cf3d91a622",
    "deepnote_cell_height": 296.9375,
    "deepnote_cell_type": "code",
    "deepnote_to_be_reexecuted": false,
    "execution_millis": 3,
    "execution_start": 1662593397471,
    "source_hash": "494f89f4",
    "tags": []
   },
   "outputs": [
    {
     "data": {
      "text/plain": [
       "{'location__geo': {'lat': 40.7079, 'lon': -74.0115, 'radius': '1mi'},\n",
       " 'active__gte': '2021-09-01',\n",
       " 'active__lte': '2021-11-28',\n",
       " 'phq_attendance_school_holidays__stats': ['sum'],\n",
       " 'phq_attendance_school_holidays__phq_rank': {'gt': 30}}"
      ]
     },
     "execution_count": 13,
     "metadata": {},
     "output_type": "execute_result"
    }
   ],
   "source": [
    "# only return sum of the attendance\n",
    "stats = [\"sum\"]\n",
    "parameters.update({'phq_attendance_school_holidays__stats': stats})\n",
    "# add rank filter if required\n",
    "phq_rank_filter = 30\n",
    "parameters.update(phq_attendance_school_holidays__phq_rank=dict(gt = phq_rank_filter))\n",
    "parameters"
   ]
  },
  {
   "cell_type": "code",
   "execution_count": null,
   "metadata": {
    "cell_id": "98bfcf9cd3cf4e04bbabbb80f58b1e75",
    "deepnote_cell_height": 3978,
    "deepnote_cell_type": "code",
    "deepnote_table_loading": false,
    "deepnote_table_state": {
     "filters": [],
     "pageIndex": 0,
     "pageSize": 100,
     "sortBy": []
    },
    "deepnote_to_be_reexecuted": false,
    "execution_millis": 1775,
    "execution_start": 1662593420024,
    "source_hash": "1ae422e5",
    "tags": []
   },
   "outputs": [
    {
     "data": {
      "application/vnd.deepnote.dataframe.v3+json": {
       "column_count": 2,
       "columns": [
        {
         "dtype": "object",
         "name": "date",
         "stats": {
          "categories": [
           {
            "count": 1,
            "name": "2021-09-01"
           },
           {
            "count": 1,
            "name": "2021-09-02"
           },
           {
            "count": 87,
            "name": "87 others"
           }
          ],
          "nan_count": 0,
          "unique_count": 89
         }
        },
        {
         "dtype": "float64",
         "name": "phq_attendance_school_holidays_stats_sum",
         "stats": {
          "histogram": [
           {
            "bin_end": 119304.5,
            "bin_start": 0,
            "count": 73
           },
           {
            "bin_end": 238609,
            "bin_start": 119304.5,
            "count": 0
           },
           {
            "bin_end": 357913.5,
            "bin_start": 238609,
            "count": 0
           },
           {
            "bin_end": 477218,
            "bin_start": 357913.5,
            "count": 0
           },
           {
            "bin_end": 596522.5,
            "bin_start": 477218,
            "count": 0
           },
           {
            "bin_end": 715827,
            "bin_start": 596522.5,
            "count": 0
           },
           {
            "bin_end": 835131.5,
            "bin_start": 715827,
            "count": 0
           },
           {
            "bin_end": 954436,
            "bin_start": 835131.5,
            "count": 0
           },
           {
            "bin_end": 1073740.5,
            "bin_start": 954436,
            "count": 0
           },
           {
            "bin_end": 1193045,
            "bin_start": 1073740.5,
            "count": 16
           }
          ],
          "max": "1193045.0",
          "min": "0.0",
          "nan_count": 0,
          "unique_count": 2
         }
        },
        {
         "dtype": "int64",
         "name": "_deepnote_index_column"
        }
       ],
       "row_count": 89,
       "rows": [
        {
         "_deepnote_index_column": "0",
         "date": "2021-09-01",
         "phq_attendance_school_holidays_stats_sum": "1193045.0"
        },
        {
         "_deepnote_index_column": "1",
         "date": "2021-09-02",
         "phq_attendance_school_holidays_stats_sum": "1193045.0"
        },
        {
         "_deepnote_index_column": "2",
         "date": "2021-09-03",
         "phq_attendance_school_holidays_stats_sum": "1193045.0"
        },
        {
         "_deepnote_index_column": "3",
         "date": "2021-09-04",
         "phq_attendance_school_holidays_stats_sum": "1193045.0"
        },
        {
         "_deepnote_index_column": "4",
         "date": "2021-09-05",
         "phq_attendance_school_holidays_stats_sum": "1193045.0"
        },
        {
         "_deepnote_index_column": "5",
         "date": "2021-09-06",
         "phq_attendance_school_holidays_stats_sum": "1193045.0"
        },
        {
         "_deepnote_index_column": "6",
         "date": "2021-09-07",
         "phq_attendance_school_holidays_stats_sum": "1193045.0"
        },
        {
         "_deepnote_index_column": "7",
         "date": "2021-09-08",
         "phq_attendance_school_holidays_stats_sum": "1193045.0"
        },
        {
         "_deepnote_index_column": "8",
         "date": "2021-09-09",
         "phq_attendance_school_holidays_stats_sum": "1193045.0"
        },
        {
         "_deepnote_index_column": "9",
         "date": "2021-09-10",
         "phq_attendance_school_holidays_stats_sum": "1193045.0"
        },
        {
         "_deepnote_index_column": "10",
         "date": "2021-09-11",
         "phq_attendance_school_holidays_stats_sum": "1193045.0"
        },
        {
         "_deepnote_index_column": "11",
         "date": "2021-09-12",
         "phq_attendance_school_holidays_stats_sum": "1193045.0"
        },
        {
         "_deepnote_index_column": "12",
         "date": "2021-09-13",
         "phq_attendance_school_holidays_stats_sum": "0.0"
        },
        {
         "_deepnote_index_column": "13",
         "date": "2021-09-14",
         "phq_attendance_school_holidays_stats_sum": "0.0"
        },
        {
         "_deepnote_index_column": "14",
         "date": "2021-09-15",
         "phq_attendance_school_holidays_stats_sum": "0.0"
        },
        {
         "_deepnote_index_column": "15",
         "date": "2021-09-16",
         "phq_attendance_school_holidays_stats_sum": "0.0"
        },
        {
         "_deepnote_index_column": "16",
         "date": "2021-09-17",
         "phq_attendance_school_holidays_stats_sum": "0.0"
        },
        {
         "_deepnote_index_column": "17",
         "date": "2021-09-18",
         "phq_attendance_school_holidays_stats_sum": "0.0"
        },
        {
         "_deepnote_index_column": "18",
         "date": "2021-09-19",
         "phq_attendance_school_holidays_stats_sum": "0.0"
        },
        {
         "_deepnote_index_column": "19",
         "date": "2021-09-20",
         "phq_attendance_school_holidays_stats_sum": "0.0"
        },
        {
         "_deepnote_index_column": "20",
         "date": "2021-09-21",
         "phq_attendance_school_holidays_stats_sum": "0.0"
        },
        {
         "_deepnote_index_column": "21",
         "date": "2021-09-22",
         "phq_attendance_school_holidays_stats_sum": "0.0"
        },
        {
         "_deepnote_index_column": "22",
         "date": "2021-09-23",
         "phq_attendance_school_holidays_stats_sum": "0.0"
        },
        {
         "_deepnote_index_column": "23",
         "date": "2021-09-24",
         "phq_attendance_school_holidays_stats_sum": "0.0"
        },
        {
         "_deepnote_index_column": "24",
         "date": "2021-09-25",
         "phq_attendance_school_holidays_stats_sum": "0.0"
        },
        {
         "_deepnote_index_column": "25",
         "date": "2021-09-26",
         "phq_attendance_school_holidays_stats_sum": "0.0"
        },
        {
         "_deepnote_index_column": "26",
         "date": "2021-09-27",
         "phq_attendance_school_holidays_stats_sum": "0.0"
        },
        {
         "_deepnote_index_column": "27",
         "date": "2021-09-28",
         "phq_attendance_school_holidays_stats_sum": "0.0"
        },
        {
         "_deepnote_index_column": "28",
         "date": "2021-09-29",
         "phq_attendance_school_holidays_stats_sum": "0.0"
        },
        {
         "_deepnote_index_column": "29",
         "date": "2021-09-30",
         "phq_attendance_school_holidays_stats_sum": "0.0"
        },
        {
         "_deepnote_index_column": "30",
         "date": "2021-10-01",
         "phq_attendance_school_holidays_stats_sum": "0.0"
        },
        {
         "_deepnote_index_column": "31",
         "date": "2021-10-02",
         "phq_attendance_school_holidays_stats_sum": "0.0"
        },
        {
         "_deepnote_index_column": "32",
         "date": "2021-10-03",
         "phq_attendance_school_holidays_stats_sum": "0.0"
        },
        {
         "_deepnote_index_column": "33",
         "date": "2021-10-04",
         "phq_attendance_school_holidays_stats_sum": "0.0"
        },
        {
         "_deepnote_index_column": "34",
         "date": "2021-10-05",
         "phq_attendance_school_holidays_stats_sum": "0.0"
        },
        {
         "_deepnote_index_column": "35",
         "date": "2021-10-06",
         "phq_attendance_school_holidays_stats_sum": "0.0"
        },
        {
         "_deepnote_index_column": "36",
         "date": "2021-10-07",
         "phq_attendance_school_holidays_stats_sum": "0.0"
        },
        {
         "_deepnote_index_column": "37",
         "date": "2021-10-08",
         "phq_attendance_school_holidays_stats_sum": "0.0"
        },
        {
         "_deepnote_index_column": "38",
         "date": "2021-10-09",
         "phq_attendance_school_holidays_stats_sum": "0.0"
        },
        {
         "_deepnote_index_column": "39",
         "date": "2021-10-10",
         "phq_attendance_school_holidays_stats_sum": "0.0"
        },
        {
         "_deepnote_index_column": "40",
         "date": "2021-10-11",
         "phq_attendance_school_holidays_stats_sum": "0.0"
        },
        {
         "_deepnote_index_column": "41",
         "date": "2021-10-12",
         "phq_attendance_school_holidays_stats_sum": "0.0"
        },
        {
         "_deepnote_index_column": "42",
         "date": "2021-10-13",
         "phq_attendance_school_holidays_stats_sum": "0.0"
        },
        {
         "_deepnote_index_column": "43",
         "date": "2021-10-14",
         "phq_attendance_school_holidays_stats_sum": "0.0"
        },
        {
         "_deepnote_index_column": "44",
         "date": "2021-10-15",
         "phq_attendance_school_holidays_stats_sum": "0.0"
        },
        {
         "_deepnote_index_column": "45",
         "date": "2021-10-16",
         "phq_attendance_school_holidays_stats_sum": "0.0"
        },
        {
         "_deepnote_index_column": "46",
         "date": "2021-10-17",
         "phq_attendance_school_holidays_stats_sum": "0.0"
        },
        {
         "_deepnote_index_column": "47",
         "date": "2021-10-18",
         "phq_attendance_school_holidays_stats_sum": "0.0"
        },
        {
         "_deepnote_index_column": "48",
         "date": "2021-10-19",
         "phq_attendance_school_holidays_stats_sum": "0.0"
        },
        {
         "_deepnote_index_column": "49",
         "date": "2021-10-20",
         "phq_attendance_school_holidays_stats_sum": "0.0"
        },
        {
         "_deepnote_index_column": "50",
         "date": "2021-10-21",
         "phq_attendance_school_holidays_stats_sum": "0.0"
        },
        {
         "_deepnote_index_column": "51",
         "date": "2021-10-22",
         "phq_attendance_school_holidays_stats_sum": "0.0"
        },
        {
         "_deepnote_index_column": "52",
         "date": "2021-10-23",
         "phq_attendance_school_holidays_stats_sum": "0.0"
        },
        {
         "_deepnote_index_column": "53",
         "date": "2021-10-24",
         "phq_attendance_school_holidays_stats_sum": "0.0"
        },
        {
         "_deepnote_index_column": "54",
         "date": "2021-10-25",
         "phq_attendance_school_holidays_stats_sum": "0.0"
        },
        {
         "_deepnote_index_column": "55",
         "date": "2021-10-26",
         "phq_attendance_school_holidays_stats_sum": "0.0"
        },
        {
         "_deepnote_index_column": "56",
         "date": "2021-10-27",
         "phq_attendance_school_holidays_stats_sum": "0.0"
        },
        {
         "_deepnote_index_column": "57",
         "date": "2021-10-28",
         "phq_attendance_school_holidays_stats_sum": "0.0"
        },
        {
         "_deepnote_index_column": "58",
         "date": "2021-10-29",
         "phq_attendance_school_holidays_stats_sum": "0.0"
        },
        {
         "_deepnote_index_column": "59",
         "date": "2021-10-30",
         "phq_attendance_school_holidays_stats_sum": "0.0"
        },
        {
         "_deepnote_index_column": "60",
         "date": "2021-10-31",
         "phq_attendance_school_holidays_stats_sum": "0.0"
        },
        {
         "_deepnote_index_column": "61",
         "date": "2021-11-01",
         "phq_attendance_school_holidays_stats_sum": "0.0"
        },
        {
         "_deepnote_index_column": "62",
         "date": "2021-11-02",
         "phq_attendance_school_holidays_stats_sum": "0.0"
        },
        {
         "_deepnote_index_column": "63",
         "date": "2021-11-03",
         "phq_attendance_school_holidays_stats_sum": "0.0"
        },
        {
         "_deepnote_index_column": "64",
         "date": "2021-11-04",
         "phq_attendance_school_holidays_stats_sum": "0.0"
        },
        {
         "_deepnote_index_column": "65",
         "date": "2021-11-05",
         "phq_attendance_school_holidays_stats_sum": "0.0"
        },
        {
         "_deepnote_index_column": "66",
         "date": "2021-11-06",
         "phq_attendance_school_holidays_stats_sum": "0.0"
        },
        {
         "_deepnote_index_column": "67",
         "date": "2021-11-07",
         "phq_attendance_school_holidays_stats_sum": "0.0"
        },
        {
         "_deepnote_index_column": "68",
         "date": "2021-11-08",
         "phq_attendance_school_holidays_stats_sum": "0.0"
        },
        {
         "_deepnote_index_column": "69",
         "date": "2021-11-09",
         "phq_attendance_school_holidays_stats_sum": "0.0"
        },
        {
         "_deepnote_index_column": "70",
         "date": "2021-11-10",
         "phq_attendance_school_holidays_stats_sum": "0.0"
        },
        {
         "_deepnote_index_column": "71",
         "date": "2021-11-11",
         "phq_attendance_school_holidays_stats_sum": "0.0"
        },
        {
         "_deepnote_index_column": "72",
         "date": "2021-11-12",
         "phq_attendance_school_holidays_stats_sum": "0.0"
        },
        {
         "_deepnote_index_column": "73",
         "date": "2021-11-13",
         "phq_attendance_school_holidays_stats_sum": "0.0"
        },
        {
         "_deepnote_index_column": "74",
         "date": "2021-11-14",
         "phq_attendance_school_holidays_stats_sum": "0.0"
        },
        {
         "_deepnote_index_column": "75",
         "date": "2021-11-15",
         "phq_attendance_school_holidays_stats_sum": "0.0"
        },
        {
         "_deepnote_index_column": "76",
         "date": "2021-11-16",
         "phq_attendance_school_holidays_stats_sum": "0.0"
        },
        {
         "_deepnote_index_column": "77",
         "date": "2021-11-17",
         "phq_attendance_school_holidays_stats_sum": "0.0"
        },
        {
         "_deepnote_index_column": "78",
         "date": "2021-11-18",
         "phq_attendance_school_holidays_stats_sum": "0.0"
        },
        {
         "_deepnote_index_column": "79",
         "date": "2021-11-19",
         "phq_attendance_school_holidays_stats_sum": "0.0"
        },
        {
         "_deepnote_index_column": "80",
         "date": "2021-11-20",
         "phq_attendance_school_holidays_stats_sum": "0.0"
        },
        {
         "_deepnote_index_column": "81",
         "date": "2021-11-21",
         "phq_attendance_school_holidays_stats_sum": "0.0"
        },
        {
         "_deepnote_index_column": "82",
         "date": "2021-11-22",
         "phq_attendance_school_holidays_stats_sum": "0.0"
        },
        {
         "_deepnote_index_column": "83",
         "date": "2021-11-23",
         "phq_attendance_school_holidays_stats_sum": "0.0"
        },
        {
         "_deepnote_index_column": "84",
         "date": "2021-11-24",
         "phq_attendance_school_holidays_stats_sum": "0.0"
        },
        {
         "_deepnote_index_column": "85",
         "date": "2021-11-25",
         "phq_attendance_school_holidays_stats_sum": "1193045.0"
        },
        {
         "_deepnote_index_column": "86",
         "date": "2021-11-26",
         "phq_attendance_school_holidays_stats_sum": "1193045.0"
        },
        {
         "_deepnote_index_column": "87",
         "date": "2021-11-27",
         "phq_attendance_school_holidays_stats_sum": "1193045.0"
        },
        {
         "_deepnote_index_column": "88",
         "date": "2021-11-28",
         "phq_attendance_school_holidays_stats_sum": "1193045.0"
        }
       ]
      },
      "text/html": [
       "<div>\n",
       "<style scoped>\n",
       "    .dataframe tbody tr th:only-of-type {\n",
       "        vertical-align: middle;\n",
       "    }\n",
       "\n",
       "    .dataframe tbody tr th {\n",
       "        vertical-align: top;\n",
       "    }\n",
       "\n",
       "    .dataframe thead th {\n",
       "        text-align: right;\n",
       "    }\n",
       "</style>\n",
       "<table border=\"1\" class=\"dataframe\">\n",
       "  <thead>\n",
       "    <tr style=\"text-align: right;\">\n",
       "      <th></th>\n",
       "      <th>date</th>\n",
       "      <th>phq_attendance_school_holidays_stats_sum</th>\n",
       "    </tr>\n",
       "  </thead>\n",
       "  <tbody>\n",
       "    <tr>\n",
       "      <th>0</th>\n",
       "      <td>2021-09-01</td>\n",
       "      <td>1193045.0</td>\n",
       "    </tr>\n",
       "    <tr>\n",
       "      <th>1</th>\n",
       "      <td>2021-09-02</td>\n",
       "      <td>1193045.0</td>\n",
       "    </tr>\n",
       "    <tr>\n",
       "      <th>2</th>\n",
       "      <td>2021-09-03</td>\n",
       "      <td>1193045.0</td>\n",
       "    </tr>\n",
       "    <tr>\n",
       "      <th>3</th>\n",
       "      <td>2021-09-04</td>\n",
       "      <td>1193045.0</td>\n",
       "    </tr>\n",
       "    <tr>\n",
       "      <th>4</th>\n",
       "      <td>2021-09-05</td>\n",
       "      <td>1193045.0</td>\n",
       "    </tr>\n",
       "    <tr>\n",
       "      <th>...</th>\n",
       "      <td>...</td>\n",
       "      <td>...</td>\n",
       "    </tr>\n",
       "    <tr>\n",
       "      <th>84</th>\n",
       "      <td>2021-11-24</td>\n",
       "      <td>0.0</td>\n",
       "    </tr>\n",
       "    <tr>\n",
       "      <th>85</th>\n",
       "      <td>2021-11-25</td>\n",
       "      <td>1193045.0</td>\n",
       "    </tr>\n",
       "    <tr>\n",
       "      <th>86</th>\n",
       "      <td>2021-11-26</td>\n",
       "      <td>1193045.0</td>\n",
       "    </tr>\n",
       "    <tr>\n",
       "      <th>87</th>\n",
       "      <td>2021-11-27</td>\n",
       "      <td>1193045.0</td>\n",
       "    </tr>\n",
       "    <tr>\n",
       "      <th>88</th>\n",
       "      <td>2021-11-28</td>\n",
       "      <td>1193045.0</td>\n",
       "    </tr>\n",
       "  </tbody>\n",
       "</table>\n",
       "<p>89 rows × 2 columns</p>\n",
       "</div>"
      ],
      "text/plain": [
       "          date  phq_attendance_school_holidays_stats_sum\n",
       "0   2021-09-01                                 1193045.0\n",
       "1   2021-09-02                                 1193045.0\n",
       "2   2021-09-03                                 1193045.0\n",
       "3   2021-09-04                                 1193045.0\n",
       "4   2021-09-05                                 1193045.0\n",
       "..         ...                                       ...\n",
       "84  2021-11-24                                       0.0\n",
       "85  2021-11-25                                 1193045.0\n",
       "86  2021-11-26                                 1193045.0\n",
       "87  2021-11-27                                 1193045.0\n",
       "88  2021-11-28                                 1193045.0\n",
       "\n",
       "[89 rows x 2 columns]"
      ]
     },
     "execution_count": 15,
     "metadata": {},
     "output_type": "execute_result"
    }
   ],
   "source": [
    "# Query Features\n",
    "results = []\n",
    "\n",
    "for feature in phq.features.obtain_features(parameters):\n",
    "    results.append(flatten_dict(feature.to_dict(), '', '_'))\n",
    "\n",
    "feature_df = pd.DataFrame(results)\n",
    "\n",
    "feature_df"
   ]
  },
  {
   "cell_type": "markdown",
   "metadata": {
    "cell_id": "ee9e82fc13a449ada69eeeaa16c38dbf",
    "deepnote_cell_height": 243.125,
    "deepnote_cell_type": "markdown",
    "tags": []
   },
   "source": [
    "<b>Another two useful features can be derived from</b> `phq_attendance_school_holidays_stats_sum`:\n",
    "* `phq_school_holidays_first_day_flag`: a binary variable which indicates if that day is the first day of any school holidays within the seleacted radius at the selected location.\n",
    "* `phq_school_holidays_last_day_flag`: a binary variable which indicates if that day is the last day of any school holidays within the seleacted radius at the selected location.\n",
    "* please note that the value of first row's `phq_school_holidays_first_day_flag` and the value of last row's `phq_school_holidays_last_day_flag` will be </b>NaN</b> as those two features are derivated from the customer selected time range, which cannot guarantee to cover the actual entire school holiday."
   ]
  },
  {
   "cell_type": "code",
   "execution_count": null,
   "metadata": {
    "cell_id": "afecf1b83bb340f6add7b0c4c66e5659",
    "deepnote_cell_height": 860,
    "deepnote_cell_type": "code",
    "deepnote_table_loading": false,
    "deepnote_table_state": {
     "filters": [],
     "pageIndex": 8,
     "pageSize": 10,
     "sortBy": []
    },
    "deepnote_to_be_reexecuted": false,
    "execution_millis": 585,
    "execution_start": 1662593431038,
    "source_hash": "8d3de8fc",
    "tags": []
   },
   "outputs": [
    {
     "data": {
      "application/vnd.deepnote.dataframe.v3+json": {
       "column_count": 6,
       "columns": [
        {
         "dtype": "object",
         "name": "date",
         "stats": {
          "categories": [
           {
            "count": 1,
            "name": "2021-09-01"
           },
           {
            "count": 1,
            "name": "2021-09-02"
           },
           {
            "count": 87,
            "name": "87 others"
           }
          ],
          "nan_count": 0,
          "unique_count": 89
         }
        },
        {
         "dtype": "float64",
         "name": "phq_attendance_school_holidays_stats_sum",
         "stats": {
          "histogram": [
           {
            "bin_end": 119304.5,
            "bin_start": 0,
            "count": 73
           },
           {
            "bin_end": 238609,
            "bin_start": 119304.5,
            "count": 0
           },
           {
            "bin_end": 357913.5,
            "bin_start": 238609,
            "count": 0
           },
           {
            "bin_end": 477218,
            "bin_start": 357913.5,
            "count": 0
           },
           {
            "bin_end": 596522.5,
            "bin_start": 477218,
            "count": 0
           },
           {
            "bin_end": 715827,
            "bin_start": 596522.5,
            "count": 0
           },
           {
            "bin_end": 835131.5,
            "bin_start": 715827,
            "count": 0
           },
           {
            "bin_end": 954436,
            "bin_start": 835131.5,
            "count": 0
           },
           {
            "bin_end": 1073740.5,
            "bin_start": 954436,
            "count": 0
           },
           {
            "bin_end": 1193045,
            "bin_start": 1073740.5,
            "count": 16
           }
          ],
          "max": "1193045.0",
          "min": "0.0",
          "nan_count": 0,
          "unique_count": 2
         }
        },
        {
         "dtype": "float64",
         "name": "temp_pre",
         "stats": {
          "histogram": [
           {
            "bin_end": 119304.5,
            "bin_start": 0,
            "count": 73
           },
           {
            "bin_end": 238609,
            "bin_start": 119304.5,
            "count": 0
           },
           {
            "bin_end": 357913.5,
            "bin_start": 238609,
            "count": 0
           },
           {
            "bin_end": 477218,
            "bin_start": 357913.5,
            "count": 0
           },
           {
            "bin_end": 596522.5,
            "bin_start": 477218,
            "count": 0
           },
           {
            "bin_end": 715827,
            "bin_start": 596522.5,
            "count": 0
           },
           {
            "bin_end": 835131.5,
            "bin_start": 715827,
            "count": 0
           },
           {
            "bin_end": 954436,
            "bin_start": 835131.5,
            "count": 0
           },
           {
            "bin_end": 1073740.5,
            "bin_start": 954436,
            "count": 0
           },
           {
            "bin_end": 1193045,
            "bin_start": 1073740.5,
            "count": 15
           }
          ],
          "max": "1193045.0",
          "min": "0.0",
          "nan_count": 1,
          "unique_count": 2
         }
        },
        {
         "dtype": "float64",
         "name": "temp_after",
         "stats": {
          "histogram": [
           {
            "bin_end": 119304.5,
            "bin_start": 0,
            "count": 73
           },
           {
            "bin_end": 238609,
            "bin_start": 119304.5,
            "count": 0
           },
           {
            "bin_end": 357913.5,
            "bin_start": 238609,
            "count": 0
           },
           {
            "bin_end": 477218,
            "bin_start": 357913.5,
            "count": 0
           },
           {
            "bin_end": 596522.5,
            "bin_start": 477218,
            "count": 0
           },
           {
            "bin_end": 715827,
            "bin_start": 596522.5,
            "count": 0
           },
           {
            "bin_end": 835131.5,
            "bin_start": 715827,
            "count": 0
           },
           {
            "bin_end": 954436,
            "bin_start": 835131.5,
            "count": 0
           },
           {
            "bin_end": 1073740.5,
            "bin_start": 954436,
            "count": 0
           },
           {
            "bin_end": 1193045,
            "bin_start": 1073740.5,
            "count": 15
           }
          ],
          "max": "1193045.0",
          "min": "0.0",
          "nan_count": 1,
          "unique_count": 2
         }
        },
        {
         "dtype": "float64",
         "name": "phq_school_holidays_first_day_flag",
         "stats": {
          "histogram": [
           {
            "bin_end": 0.1,
            "bin_start": 0,
            "count": 87
           },
           {
            "bin_end": 0.2,
            "bin_start": 0.1,
            "count": 0
           },
           {
            "bin_end": 0.30000000000000004,
            "bin_start": 0.2,
            "count": 0
           },
           {
            "bin_end": 0.4,
            "bin_start": 0.30000000000000004,
            "count": 0
           },
           {
            "bin_end": 0.5,
            "bin_start": 0.4,
            "count": 0
           },
           {
            "bin_end": 0.6000000000000001,
            "bin_start": 0.5,
            "count": 0
           },
           {
            "bin_end": 0.7000000000000001,
            "bin_start": 0.6000000000000001,
            "count": 0
           },
           {
            "bin_end": 0.8,
            "bin_start": 0.7000000000000001,
            "count": 0
           },
           {
            "bin_end": 0.9,
            "bin_start": 0.8,
            "count": 0
           },
           {
            "bin_end": 1,
            "bin_start": 0.9,
            "count": 1
           }
          ],
          "max": "1.0",
          "min": "0.0",
          "nan_count": 1,
          "unique_count": 2
         }
        },
        {
         "dtype": "float64",
         "name": "phq_school_holidays_last_day_flag",
         "stats": {
          "histogram": [
           {
            "bin_end": 0.1,
            "bin_start": 0,
            "count": 87
           },
           {
            "bin_end": 0.2,
            "bin_start": 0.1,
            "count": 0
           },
           {
            "bin_end": 0.30000000000000004,
            "bin_start": 0.2,
            "count": 0
           },
           {
            "bin_end": 0.4,
            "bin_start": 0.30000000000000004,
            "count": 0
           },
           {
            "bin_end": 0.5,
            "bin_start": 0.4,
            "count": 0
           },
           {
            "bin_end": 0.6000000000000001,
            "bin_start": 0.5,
            "count": 0
           },
           {
            "bin_end": 0.7000000000000001,
            "bin_start": 0.6000000000000001,
            "count": 0
           },
           {
            "bin_end": 0.8,
            "bin_start": 0.7000000000000001,
            "count": 0
           },
           {
            "bin_end": 0.9,
            "bin_start": 0.8,
            "count": 0
           },
           {
            "bin_end": 1,
            "bin_start": 0.9,
            "count": 1
           }
          ],
          "max": "1.0",
          "min": "0.0",
          "nan_count": 1,
          "unique_count": 2
         }
        },
        {
         "dtype": "int64",
         "name": "_deepnote_index_column"
        }
       ],
       "row_count": 89,
       "rows": [
        {
         "_deepnote_index_column": "80",
         "date": "2021-11-20",
         "phq_attendance_school_holidays_stats_sum": "0.0",
         "phq_school_holidays_first_day_flag": "0.0",
         "phq_school_holidays_last_day_flag": "0.0",
         "temp_after": "0.0",
         "temp_pre": "0.0"
        },
        {
         "_deepnote_index_column": "81",
         "date": "2021-11-21",
         "phq_attendance_school_holidays_stats_sum": "0.0",
         "phq_school_holidays_first_day_flag": "0.0",
         "phq_school_holidays_last_day_flag": "0.0",
         "temp_after": "0.0",
         "temp_pre": "0.0"
        },
        {
         "_deepnote_index_column": "82",
         "date": "2021-11-22",
         "phq_attendance_school_holidays_stats_sum": "0.0",
         "phq_school_holidays_first_day_flag": "0.0",
         "phq_school_holidays_last_day_flag": "0.0",
         "temp_after": "0.0",
         "temp_pre": "0.0"
        },
        {
         "_deepnote_index_column": "83",
         "date": "2021-11-23",
         "phq_attendance_school_holidays_stats_sum": "0.0",
         "phq_school_holidays_first_day_flag": "0.0",
         "phq_school_holidays_last_day_flag": "0.0",
         "temp_after": "0.0",
         "temp_pre": "0.0"
        },
        {
         "_deepnote_index_column": "84",
         "date": "2021-11-24",
         "phq_attendance_school_holidays_stats_sum": "0.0",
         "phq_school_holidays_first_day_flag": "0.0",
         "phq_school_holidays_last_day_flag": "0.0",
         "temp_after": "1193045.0",
         "temp_pre": "0.0"
        },
        {
         "_deepnote_index_column": "85",
         "date": "2021-11-25",
         "phq_attendance_school_holidays_stats_sum": "1193045.0",
         "phq_school_holidays_first_day_flag": "1.0",
         "phq_school_holidays_last_day_flag": "0.0",
         "temp_after": "1193045.0",
         "temp_pre": "0.0"
        },
        {
         "_deepnote_index_column": "86",
         "date": "2021-11-26",
         "phq_attendance_school_holidays_stats_sum": "1193045.0",
         "phq_school_holidays_first_day_flag": "0.0",
         "phq_school_holidays_last_day_flag": "0.0",
         "temp_after": "1193045.0",
         "temp_pre": "1193045.0"
        },
        {
         "_deepnote_index_column": "87",
         "date": "2021-11-27",
         "phq_attendance_school_holidays_stats_sum": "1193045.0",
         "phq_school_holidays_first_day_flag": "0.0",
         "phq_school_holidays_last_day_flag": "0.0",
         "temp_after": "1193045.0",
         "temp_pre": "1193045.0"
        },
        {
         "_deepnote_index_column": "88",
         "date": "2021-11-28",
         "phq_attendance_school_holidays_stats_sum": "1193045.0",
         "phq_school_holidays_first_day_flag": "0.0",
         "phq_school_holidays_last_day_flag": "nan",
         "temp_after": "nan",
         "temp_pre": "1193045.0"
        }
       ]
      },
      "text/html": [
       "<div>\n",
       "<style scoped>\n",
       "    .dataframe tbody tr th:only-of-type {\n",
       "        vertical-align: middle;\n",
       "    }\n",
       "\n",
       "    .dataframe tbody tr th {\n",
       "        vertical-align: top;\n",
       "    }\n",
       "\n",
       "    .dataframe thead th {\n",
       "        text-align: right;\n",
       "    }\n",
       "</style>\n",
       "<table border=\"1\" class=\"dataframe\">\n",
       "  <thead>\n",
       "    <tr style=\"text-align: right;\">\n",
       "      <th></th>\n",
       "      <th>date</th>\n",
       "      <th>phq_attendance_school_holidays_stats_sum</th>\n",
       "      <th>temp_pre</th>\n",
       "      <th>temp_after</th>\n",
       "      <th>phq_school_holidays_first_day_flag</th>\n",
       "      <th>phq_school_holidays_last_day_flag</th>\n",
       "    </tr>\n",
       "  </thead>\n",
       "  <tbody>\n",
       "    <tr>\n",
       "      <th>0</th>\n",
       "      <td>2021-09-01</td>\n",
       "      <td>1193045.0</td>\n",
       "      <td>NaN</td>\n",
       "      <td>1193045.0</td>\n",
       "      <td>NaN</td>\n",
       "      <td>0.0</td>\n",
       "    </tr>\n",
       "    <tr>\n",
       "      <th>1</th>\n",
       "      <td>2021-09-02</td>\n",
       "      <td>1193045.0</td>\n",
       "      <td>1193045.0</td>\n",
       "      <td>1193045.0</td>\n",
       "      <td>0.0</td>\n",
       "      <td>0.0</td>\n",
       "    </tr>\n",
       "    <tr>\n",
       "      <th>2</th>\n",
       "      <td>2021-09-03</td>\n",
       "      <td>1193045.0</td>\n",
       "      <td>1193045.0</td>\n",
       "      <td>1193045.0</td>\n",
       "      <td>0.0</td>\n",
       "      <td>0.0</td>\n",
       "    </tr>\n",
       "    <tr>\n",
       "      <th>3</th>\n",
       "      <td>2021-09-04</td>\n",
       "      <td>1193045.0</td>\n",
       "      <td>1193045.0</td>\n",
       "      <td>1193045.0</td>\n",
       "      <td>0.0</td>\n",
       "      <td>0.0</td>\n",
       "    </tr>\n",
       "    <tr>\n",
       "      <th>4</th>\n",
       "      <td>2021-09-05</td>\n",
       "      <td>1193045.0</td>\n",
       "      <td>1193045.0</td>\n",
       "      <td>1193045.0</td>\n",
       "      <td>0.0</td>\n",
       "      <td>0.0</td>\n",
       "    </tr>\n",
       "    <tr>\n",
       "      <th>...</th>\n",
       "      <td>...</td>\n",
       "      <td>...</td>\n",
       "      <td>...</td>\n",
       "      <td>...</td>\n",
       "      <td>...</td>\n",
       "      <td>...</td>\n",
       "    </tr>\n",
       "    <tr>\n",
       "      <th>84</th>\n",
       "      <td>2021-11-24</td>\n",
       "      <td>0.0</td>\n",
       "      <td>0.0</td>\n",
       "      <td>1193045.0</td>\n",
       "      <td>0.0</td>\n",
       "      <td>0.0</td>\n",
       "    </tr>\n",
       "    <tr>\n",
       "      <th>85</th>\n",
       "      <td>2021-11-25</td>\n",
       "      <td>1193045.0</td>\n",
       "      <td>0.0</td>\n",
       "      <td>1193045.0</td>\n",
       "      <td>1.0</td>\n",
       "      <td>0.0</td>\n",
       "    </tr>\n",
       "    <tr>\n",
       "      <th>86</th>\n",
       "      <td>2021-11-26</td>\n",
       "      <td>1193045.0</td>\n",
       "      <td>1193045.0</td>\n",
       "      <td>1193045.0</td>\n",
       "      <td>0.0</td>\n",
       "      <td>0.0</td>\n",
       "    </tr>\n",
       "    <tr>\n",
       "      <th>87</th>\n",
       "      <td>2021-11-27</td>\n",
       "      <td>1193045.0</td>\n",
       "      <td>1193045.0</td>\n",
       "      <td>1193045.0</td>\n",
       "      <td>0.0</td>\n",
       "      <td>0.0</td>\n",
       "    </tr>\n",
       "    <tr>\n",
       "      <th>88</th>\n",
       "      <td>2021-11-28</td>\n",
       "      <td>1193045.0</td>\n",
       "      <td>1193045.0</td>\n",
       "      <td>NaN</td>\n",
       "      <td>0.0</td>\n",
       "      <td>NaN</td>\n",
       "    </tr>\n",
       "  </tbody>\n",
       "</table>\n",
       "<p>89 rows × 6 columns</p>\n",
       "</div>"
      ],
      "text/plain": [
       "          date  phq_attendance_school_holidays_stats_sum   temp_pre  \\\n",
       "0   2021-09-01                                 1193045.0        NaN   \n",
       "1   2021-09-02                                 1193045.0  1193045.0   \n",
       "2   2021-09-03                                 1193045.0  1193045.0   \n",
       "3   2021-09-04                                 1193045.0  1193045.0   \n",
       "4   2021-09-05                                 1193045.0  1193045.0   \n",
       "..         ...                                       ...        ...   \n",
       "84  2021-11-24                                       0.0        0.0   \n",
       "85  2021-11-25                                 1193045.0        0.0   \n",
       "86  2021-11-26                                 1193045.0  1193045.0   \n",
       "87  2021-11-27                                 1193045.0  1193045.0   \n",
       "88  2021-11-28                                 1193045.0  1193045.0   \n",
       "\n",
       "    temp_after  phq_school_holidays_first_day_flag  \\\n",
       "0    1193045.0                                 NaN   \n",
       "1    1193045.0                                 0.0   \n",
       "2    1193045.0                                 0.0   \n",
       "3    1193045.0                                 0.0   \n",
       "4    1193045.0                                 0.0   \n",
       "..         ...                                 ...   \n",
       "84   1193045.0                                 0.0   \n",
       "85   1193045.0                                 1.0   \n",
       "86   1193045.0                                 0.0   \n",
       "87   1193045.0                                 0.0   \n",
       "88         NaN                                 0.0   \n",
       "\n",
       "    phq_school_holidays_last_day_flag  \n",
       "0                                 0.0  \n",
       "1                                 0.0  \n",
       "2                                 0.0  \n",
       "3                                 0.0  \n",
       "4                                 0.0  \n",
       "..                                ...  \n",
       "84                                0.0  \n",
       "85                                0.0  \n",
       "86                                0.0  \n",
       "87                                0.0  \n",
       "88                                NaN  \n",
       "\n",
       "[89 rows x 6 columns]"
      ]
     },
     "execution_count": 16,
     "metadata": {},
     "output_type": "execute_result"
    }
   ],
   "source": [
    "# creating shifted attendance\n",
    "feature_df['temp_pre'] = feature_df['phq_attendance_school_holidays_stats_sum'].shift(1)\n",
    "feature_df['temp_after'] = feature_df['phq_attendance_school_holidays_stats_sum'].shift(-1)\n",
    "\n",
    "# first day flag\n",
    "feature_df['phq_school_holidays_first_day_flag'] = feature_df[[\n",
    "    'phq_attendance_school_holidays_stats_sum','temp_pre']].apply(\n",
    "        lambda x: np.nan if pd.isna(x[1]) else 1 if  x[0] > x[1] else 0, axis=1)\n",
    "\n",
    "# last day flag\n",
    "feature_df['phq_school_holidays_last_day_flag'] = feature_df[[\n",
    "    'phq_attendance_school_holidays_stats_sum','temp_after']].apply(\n",
    "        lambda x: np.nan if pd.isna(x[1]) else 1 if  x[0] > x[1] else 0, axis=1)\n",
    "\n",
    "# remove temeorary features\n",
    "feature_df.drop(['phq_school_holidays_first_day_flag', 'phq_school_holidays_last_day_flag'], axis=1)\n",
    "\n",
    "feature_df"
   ]
  },
  {
   "cell_type": "markdown",
   "metadata": {
    "cell_id": "980c3c43cc45451db179ad976daee9be",
    "deepnote_cell_height": 434.6875,
    "deepnote_cell_type": "markdown",
    "tags": []
   },
   "source": [
    "<a id='rank'></a>\n",
    "### Rank based features\n",
    "\n",
    "This group of features is based on PHQ Rank for non-attendance based events (mostly scheduled non-attendance based). The following features are supported:\n",
    "\n",
    "- `phq_rank_public_holidays`\n",
    "- `phq_rank_school_holidays` (For US and UK we recommend to use `phq_attendance_school_holidays`)\n",
    "- `phq_rank_observances`\n",
    "\n",
    "Results are broken down by PHQ Rank Level (1 to 5). Rank Levels are groupings of Rank and are grouped as follows:\n",
    "\n",
    "- 1 = between 0 and 20\n",
    "- 2 = between 21 and 40\n",
    "- 3 = between 41 and 60\n",
    "- 4 = between 61 and 80\n",
    "- 5 = between 81 and 100\n",
    "\n",
    "Additional filtering for PHQ Rank features is not currently supported."
   ]
  },
  {
   "cell_type": "markdown",
   "metadata": {
    "cell_id": "3e204481c3254167a7a52baa40caa7b9",
    "deepnote_cell_height": 54,
    "deepnote_cell_type": "markdown",
    "tags": []
   },
   "source": [
    "#### Setup SDK parameters"
   ]
  },
  {
   "cell_type": "code",
   "execution_count": null,
   "metadata": {
    "cell_id": "48f73fe67afc4841934ce8e36b18d829",
    "deepnote_cell_height": 238,
    "deepnote_cell_type": "code",
    "deepnote_to_be_reexecuted": false,
    "execution_millis": 6,
    "execution_start": 1662593442801,
    "source_hash": "d19bbf58",
    "tags": []
   },
   "outputs": [],
   "source": [
    "parameters = dict()\n",
    "\n",
    "latitude, longitude = (40.7079, -74.0115) # LAT, LONG for centre of New York City\n",
    "radius_filter = \"5mi\"\n",
    "parameters.update(location__geo=dict(lat=latitude, lon=longitude,radius=radius_filter)) \n",
    "\n",
    "start_time = \"2021-09-01\"\n",
    "end_time = \"2021-11-28\"\n",
    "parameters.update(active__gte = start_time)\n",
    "parameters.update(active__lte = end_time)"
   ]
  },
  {
   "cell_type": "markdown",
   "metadata": {
    "cell_id": "c5e5d78e299646a59f2c3f2f0e35de05",
    "deepnote_cell_height": 52.390625,
    "deepnote_cell_type": "markdown",
    "tags": []
   },
   "source": [
    "Specify a list of Rank Based Events categories to return."
   ]
  },
  {
   "cell_type": "code",
   "execution_count": null,
   "metadata": {
    "cell_id": "09187e272e2f44488e01ce62407ebffb",
    "deepnote_cell_height": 388.125,
    "deepnote_cell_type": "code",
    "deepnote_to_be_reexecuted": false,
    "execution_millis": 23,
    "execution_start": 1662593447025,
    "source_hash": "aad29f07",
    "tags": []
   },
   "outputs": [
    {
     "data": {
      "text/plain": [
       "{'location__geo': {'lat': 40.7079, 'lon': -74.0115, 'radius': '5mi'},\n",
       " 'active__gte': '2021-09-01',\n",
       " 'active__lte': '2021-11-28',\n",
       " 'phq_rank_observances': True,\n",
       " 'phq_rank_public_holidays': True,\n",
       " 'phq_rank_school_holidays': True}"
      ]
     },
     "execution_count": 18,
     "metadata": {},
     "output_type": "execute_result"
    }
   ],
   "source": [
    "categories_rank = [\n",
    "     \"phq_rank_observances\",\n",
    "     \"phq_rank_public_holidays\",\n",
    "     \"phq_rank_school_holidays\",\n",
    "]\n",
    "\n",
    "\n",
    "for i in categories_rank:\n",
    "    parameters.update({f\"{i}\": True})\n",
    "\n",
    "parameters"
   ]
  },
  {
   "cell_type": "markdown",
   "metadata": {
    "cell_id": "4469f5828a744aa19e9e227ae108c3da",
    "deepnote_cell_height": 54,
    "deepnote_cell_type": "markdown",
    "tags": []
   },
   "source": [
    "#### Query features"
   ]
  },
  {
   "cell_type": "code",
   "execution_count": null,
   "metadata": {
    "cell_id": "7383846cacf54b27a7e83f2e990708a9",
    "deepnote_cell_height": 738,
    "deepnote_cell_type": "code",
    "deepnote_table_loading": false,
    "deepnote_table_state": {
     "filters": [],
     "pageIndex": 0,
     "pageSize": 10,
     "sortBy": []
    },
    "deepnote_to_be_reexecuted": false,
    "execution_millis": 615,
    "execution_start": 1662593451800,
    "source_hash": "665838c0",
    "tags": []
   },
   "outputs": [
    {
     "data": {
      "application/vnd.deepnote.dataframe.v3+json": {
       "column_count": 16,
       "columns": [
        {
         "dtype": "object",
         "name": "date",
         "stats": {
          "categories": [
           {
            "count": 1,
            "name": "2021-09-01"
           },
           {
            "count": 1,
            "name": "2021-09-02"
           },
           {
            "count": 87,
            "name": "87 others"
           }
          ],
          "nan_count": 0,
          "unique_count": 89
         }
        },
        {
         "dtype": "object",
         "name": "phq_rank_observances_rank_levels_1",
         "stats": {
          "categories": [
           {
            "count": 89,
            "name": "0"
           }
          ],
          "nan_count": 0,
          "unique_count": 1
         }
        },
        {
         "dtype": "object",
         "name": "phq_rank_observances_rank_levels_2",
         "stats": {
          "categories": [
           {
            "count": 89,
            "name": "0"
           }
          ],
          "nan_count": 0,
          "unique_count": 1
         }
        },
        {
         "dtype": "object",
         "name": "phq_rank_observances_rank_levels_3",
         "stats": {
          "categories": [
           {
            "count": 30,
            "name": "0"
           },
           {
            "count": 27,
            "name": "1"
           },
           {
            "count": 32,
            "name": "2 others"
           }
          ],
          "nan_count": 0,
          "unique_count": 4
         }
        },
        {
         "dtype": "object",
         "name": "phq_rank_observances_rank_levels_4",
         "stats": {
          "categories": [
           {
            "count": 89,
            "name": "0"
           }
          ],
          "nan_count": 0,
          "unique_count": 1
         }
        },
        {
         "dtype": "object",
         "name": "phq_rank_observances_rank_levels_5",
         "stats": {
          "categories": [
           {
            "count": 88,
            "name": "0"
           },
           {
            "count": 1,
            "name": "1"
           }
          ],
          "nan_count": 0,
          "unique_count": 2
         }
        },
        {
         "dtype": "object",
         "name": "phq_rank_public_holidays_rank_levels_1",
         "stats": {
          "categories": [
           {
            "count": 89,
            "name": "0"
           }
          ],
          "nan_count": 0,
          "unique_count": 1
         }
        },
        {
         "dtype": "object",
         "name": "phq_rank_public_holidays_rank_levels_2",
         "stats": {
          "categories": [
           {
            "count": 89,
            "name": "0"
           }
          ],
          "nan_count": 0,
          "unique_count": 1
         }
        },
        {
         "dtype": "object",
         "name": "phq_rank_public_holidays_rank_levels_3",
         "stats": {
          "categories": [
           {
            "count": 89,
            "name": "0"
           }
          ],
          "nan_count": 0,
          "unique_count": 1
         }
        },
        {
         "dtype": "object",
         "name": "phq_rank_public_holidays_rank_levels_4",
         "stats": {
          "categories": [
           {
            "count": 85,
            "name": "0"
           },
           {
            "count": 3,
            "name": "1"
           },
           {
            "count": 1,
            "name": "2"
           }
          ],
          "nan_count": 0,
          "unique_count": 3
         }
        },
        {
         "dtype": "object",
         "name": "phq_rank_public_holidays_rank_levels_5",
         "stats": {
          "categories": [
           {
            "count": 85,
            "name": "0"
           },
           {
            "count": 4,
            "name": "1"
           }
          ],
          "nan_count": 0,
          "unique_count": 2
         }
        },
        {
         "dtype": "object",
         "name": "phq_rank_school_holidays_rank_levels_1",
         "stats": {
          "categories": [
           {
            "count": 89,
            "name": "0"
           }
          ],
          "nan_count": 0,
          "unique_count": 1
         }
        },
        {
         "dtype": "object",
         "name": "phq_rank_school_holidays_rank_levels_2",
         "stats": {
          "categories": [
           {
            "count": 89,
            "name": "0"
           }
          ],
          "nan_count": 0,
          "unique_count": 1
         }
        },
        {
         "dtype": "object",
         "name": "phq_rank_school_holidays_rank_levels_3",
         "stats": {
          "categories": [
           {
            "count": 68,
            "name": "0"
           },
           {
            "count": 15,
            "name": "3"
           },
           {
            "count": 6,
            "name": "2 others"
           }
          ],
          "nan_count": 0,
          "unique_count": 4
         }
        },
        {
         "dtype": "object",
         "name": "phq_rank_school_holidays_rank_levels_4",
         "stats": {
          "categories": [
           {
            "count": 68,
            "name": "0"
           },
           {
            "count": 10,
            "name": "5"
           },
           {
            "count": 11,
            "name": "3 others"
           }
          ],
          "nan_count": 0,
          "unique_count": 5
         }
        },
        {
         "dtype": "object",
         "name": "phq_rank_school_holidays_rank_levels_5",
         "stats": {
          "categories": [
           {
            "count": 69,
            "name": "0"
           },
           {
            "count": 12,
            "name": "2"
           },
           {
            "count": 8,
            "name": "1"
           }
          ],
          "nan_count": 0,
          "unique_count": 3
         }
        },
        {
         "dtype": "int64",
         "name": "_deepnote_index_column"
        }
       ],
       "row_count": 89,
       "rows": [
        {
         "_deepnote_index_column": "0",
         "date": "2021-09-01",
         "phq_rank_observances_rank_levels_1": "0",
         "phq_rank_observances_rank_levels_2": "0",
         "phq_rank_observances_rank_levels_3": "0",
         "phq_rank_observances_rank_levels_4": "0",
         "phq_rank_observances_rank_levels_5": "0",
         "phq_rank_public_holidays_rank_levels_1": "0",
         "phq_rank_public_holidays_rank_levels_2": "0",
         "phq_rank_public_holidays_rank_levels_3": "0",
         "phq_rank_public_holidays_rank_levels_4": "0",
         "phq_rank_public_holidays_rank_levels_5": "0",
         "phq_rank_school_holidays_rank_levels_1": "0",
         "phq_rank_school_holidays_rank_levels_2": "0",
         "phq_rank_school_holidays_rank_levels_3": "3",
         "phq_rank_school_holidays_rank_levels_4": "5",
         "phq_rank_school_holidays_rank_levels_5": "2"
        },
        {
         "_deepnote_index_column": "1",
         "date": "2021-09-02",
         "phq_rank_observances_rank_levels_1": "0",
         "phq_rank_observances_rank_levels_2": "0",
         "phq_rank_observances_rank_levels_3": "0",
         "phq_rank_observances_rank_levels_4": "0",
         "phq_rank_observances_rank_levels_5": "0",
         "phq_rank_public_holidays_rank_levels_1": "0",
         "phq_rank_public_holidays_rank_levels_2": "0",
         "phq_rank_public_holidays_rank_levels_3": "0",
         "phq_rank_public_holidays_rank_levels_4": "0",
         "phq_rank_public_holidays_rank_levels_5": "0",
         "phq_rank_school_holidays_rank_levels_1": "0",
         "phq_rank_school_holidays_rank_levels_2": "0",
         "phq_rank_school_holidays_rank_levels_3": "3",
         "phq_rank_school_holidays_rank_levels_4": "5",
         "phq_rank_school_holidays_rank_levels_5": "2"
        },
        {
         "_deepnote_index_column": "2",
         "date": "2021-09-03",
         "phq_rank_observances_rank_levels_1": "0",
         "phq_rank_observances_rank_levels_2": "0",
         "phq_rank_observances_rank_levels_3": "0",
         "phq_rank_observances_rank_levels_4": "0",
         "phq_rank_observances_rank_levels_5": "0",
         "phq_rank_public_holidays_rank_levels_1": "0",
         "phq_rank_public_holidays_rank_levels_2": "0",
         "phq_rank_public_holidays_rank_levels_3": "0",
         "phq_rank_public_holidays_rank_levels_4": "0",
         "phq_rank_public_holidays_rank_levels_5": "0",
         "phq_rank_school_holidays_rank_levels_1": "0",
         "phq_rank_school_holidays_rank_levels_2": "0",
         "phq_rank_school_holidays_rank_levels_3": "3",
         "phq_rank_school_holidays_rank_levels_4": "5",
         "phq_rank_school_holidays_rank_levels_5": "2"
        },
        {
         "_deepnote_index_column": "3",
         "date": "2021-09-04",
         "phq_rank_observances_rank_levels_1": "0",
         "phq_rank_observances_rank_levels_2": "0",
         "phq_rank_observances_rank_levels_3": "1",
         "phq_rank_observances_rank_levels_4": "0",
         "phq_rank_observances_rank_levels_5": "0",
         "phq_rank_public_holidays_rank_levels_1": "0",
         "phq_rank_public_holidays_rank_levels_2": "0",
         "phq_rank_public_holidays_rank_levels_3": "0",
         "phq_rank_public_holidays_rank_levels_4": "0",
         "phq_rank_public_holidays_rank_levels_5": "0",
         "phq_rank_school_holidays_rank_levels_1": "0",
         "phq_rank_school_holidays_rank_levels_2": "0",
         "phq_rank_school_holidays_rank_levels_3": "3",
         "phq_rank_school_holidays_rank_levels_4": "5",
         "phq_rank_school_holidays_rank_levels_5": "2"
        },
        {
         "_deepnote_index_column": "4",
         "date": "2021-09-05",
         "phq_rank_observances_rank_levels_1": "0",
         "phq_rank_observances_rank_levels_2": "0",
         "phq_rank_observances_rank_levels_3": "1",
         "phq_rank_observances_rank_levels_4": "0",
         "phq_rank_observances_rank_levels_5": "0",
         "phq_rank_public_holidays_rank_levels_1": "0",
         "phq_rank_public_holidays_rank_levels_2": "0",
         "phq_rank_public_holidays_rank_levels_3": "0",
         "phq_rank_public_holidays_rank_levels_4": "0",
         "phq_rank_public_holidays_rank_levels_5": "0",
         "phq_rank_school_holidays_rank_levels_1": "0",
         "phq_rank_school_holidays_rank_levels_2": "0",
         "phq_rank_school_holidays_rank_levels_3": "3",
         "phq_rank_school_holidays_rank_levels_4": "5",
         "phq_rank_school_holidays_rank_levels_5": "2"
        },
        {
         "_deepnote_index_column": "5",
         "date": "2021-09-06",
         "phq_rank_observances_rank_levels_1": "0",
         "phq_rank_observances_rank_levels_2": "0",
         "phq_rank_observances_rank_levels_3": "0",
         "phq_rank_observances_rank_levels_4": "0",
         "phq_rank_observances_rank_levels_5": "0",
         "phq_rank_public_holidays_rank_levels_1": "0",
         "phq_rank_public_holidays_rank_levels_2": "0",
         "phq_rank_public_holidays_rank_levels_3": "0",
         "phq_rank_public_holidays_rank_levels_4": "1",
         "phq_rank_public_holidays_rank_levels_5": "1",
         "phq_rank_school_holidays_rank_levels_1": "0",
         "phq_rank_school_holidays_rank_levels_2": "0",
         "phq_rank_school_holidays_rank_levels_3": "3",
         "phq_rank_school_holidays_rank_levels_4": "5",
         "phq_rank_school_holidays_rank_levels_5": "2"
        },
        {
         "_deepnote_index_column": "6",
         "date": "2021-09-07",
         "phq_rank_observances_rank_levels_1": "0",
         "phq_rank_observances_rank_levels_2": "0",
         "phq_rank_observances_rank_levels_3": "3",
         "phq_rank_observances_rank_levels_4": "0",
         "phq_rank_observances_rank_levels_5": "0",
         "phq_rank_public_holidays_rank_levels_1": "0",
         "phq_rank_public_holidays_rank_levels_2": "0",
         "phq_rank_public_holidays_rank_levels_3": "0",
         "phq_rank_public_holidays_rank_levels_4": "0",
         "phq_rank_public_holidays_rank_levels_5": "0",
         "phq_rank_school_holidays_rank_levels_1": "0",
         "phq_rank_school_holidays_rank_levels_2": "0",
         "phq_rank_school_holidays_rank_levels_3": "3",
         "phq_rank_school_holidays_rank_levels_4": "2",
         "phq_rank_school_holidays_rank_levels_5": "2"
        },
        {
         "_deepnote_index_column": "7",
         "date": "2021-09-08",
         "phq_rank_observances_rank_levels_1": "0",
         "phq_rank_observances_rank_levels_2": "0",
         "phq_rank_observances_rank_levels_3": "1",
         "phq_rank_observances_rank_levels_4": "0",
         "phq_rank_observances_rank_levels_5": "0",
         "phq_rank_public_holidays_rank_levels_1": "0",
         "phq_rank_public_holidays_rank_levels_2": "0",
         "phq_rank_public_holidays_rank_levels_3": "0",
         "phq_rank_public_holidays_rank_levels_4": "0",
         "phq_rank_public_holidays_rank_levels_5": "0",
         "phq_rank_school_holidays_rank_levels_1": "0",
         "phq_rank_school_holidays_rank_levels_2": "0",
         "phq_rank_school_holidays_rank_levels_3": "2",
         "phq_rank_school_holidays_rank_levels_4": "1",
         "phq_rank_school_holidays_rank_levels_5": "2"
        },
        {
         "_deepnote_index_column": "8",
         "date": "2021-09-09",
         "phq_rank_observances_rank_levels_1": "0",
         "phq_rank_observances_rank_levels_2": "0",
         "phq_rank_observances_rank_levels_3": "1",
         "phq_rank_observances_rank_levels_4": "0",
         "phq_rank_observances_rank_levels_5": "0",
         "phq_rank_public_holidays_rank_levels_1": "0",
         "phq_rank_public_holidays_rank_levels_2": "0",
         "phq_rank_public_holidays_rank_levels_3": "0",
         "phq_rank_public_holidays_rank_levels_4": "0",
         "phq_rank_public_holidays_rank_levels_5": "0",
         "phq_rank_school_holidays_rank_levels_1": "0",
         "phq_rank_school_holidays_rank_levels_2": "0",
         "phq_rank_school_holidays_rank_levels_3": "0",
         "phq_rank_school_holidays_rank_levels_4": "1",
         "phq_rank_school_holidays_rank_levels_5": "1"
        },
        {
         "_deepnote_index_column": "9",
         "date": "2021-09-10",
         "phq_rank_observances_rank_levels_1": "0",
         "phq_rank_observances_rank_levels_2": "0",
         "phq_rank_observances_rank_levels_3": "2",
         "phq_rank_observances_rank_levels_4": "0",
         "phq_rank_observances_rank_levels_5": "0",
         "phq_rank_public_holidays_rank_levels_1": "0",
         "phq_rank_public_holidays_rank_levels_2": "0",
         "phq_rank_public_holidays_rank_levels_3": "0",
         "phq_rank_public_holidays_rank_levels_4": "0",
         "phq_rank_public_holidays_rank_levels_5": "0",
         "phq_rank_school_holidays_rank_levels_1": "0",
         "phq_rank_school_holidays_rank_levels_2": "0",
         "phq_rank_school_holidays_rank_levels_3": "0",
         "phq_rank_school_holidays_rank_levels_4": "0",
         "phq_rank_school_holidays_rank_levels_5": "1"
        }
       ]
      },
      "text/html": [
       "<div>\n",
       "<style scoped>\n",
       "    .dataframe tbody tr th:only-of-type {\n",
       "        vertical-align: middle;\n",
       "    }\n",
       "\n",
       "    .dataframe tbody tr th {\n",
       "        vertical-align: top;\n",
       "    }\n",
       "\n",
       "    .dataframe thead th {\n",
       "        text-align: right;\n",
       "    }\n",
       "</style>\n",
       "<table border=\"1\" class=\"dataframe\">\n",
       "  <thead>\n",
       "    <tr style=\"text-align: right;\">\n",
       "      <th></th>\n",
       "      <th>date</th>\n",
       "      <th>phq_rank_observances_rank_levels_1</th>\n",
       "      <th>phq_rank_observances_rank_levels_2</th>\n",
       "      <th>phq_rank_observances_rank_levels_3</th>\n",
       "      <th>phq_rank_observances_rank_levels_4</th>\n",
       "      <th>phq_rank_observances_rank_levels_5</th>\n",
       "      <th>phq_rank_public_holidays_rank_levels_1</th>\n",
       "      <th>phq_rank_public_holidays_rank_levels_2</th>\n",
       "      <th>phq_rank_public_holidays_rank_levels_3</th>\n",
       "      <th>phq_rank_public_holidays_rank_levels_4</th>\n",
       "      <th>phq_rank_public_holidays_rank_levels_5</th>\n",
       "      <th>phq_rank_school_holidays_rank_levels_1</th>\n",
       "      <th>phq_rank_school_holidays_rank_levels_2</th>\n",
       "      <th>phq_rank_school_holidays_rank_levels_3</th>\n",
       "      <th>phq_rank_school_holidays_rank_levels_4</th>\n",
       "      <th>phq_rank_school_holidays_rank_levels_5</th>\n",
       "    </tr>\n",
       "  </thead>\n",
       "  <tbody>\n",
       "    <tr>\n",
       "      <th>0</th>\n",
       "      <td>2021-09-01</td>\n",
       "      <td>0</td>\n",
       "      <td>0</td>\n",
       "      <td>0</td>\n",
       "      <td>0</td>\n",
       "      <td>0</td>\n",
       "      <td>0</td>\n",
       "      <td>0</td>\n",
       "      <td>0</td>\n",
       "      <td>0</td>\n",
       "      <td>0</td>\n",
       "      <td>0</td>\n",
       "      <td>0</td>\n",
       "      <td>3</td>\n",
       "      <td>5</td>\n",
       "      <td>2</td>\n",
       "    </tr>\n",
       "    <tr>\n",
       "      <th>1</th>\n",
       "      <td>2021-09-02</td>\n",
       "      <td>0</td>\n",
       "      <td>0</td>\n",
       "      <td>0</td>\n",
       "      <td>0</td>\n",
       "      <td>0</td>\n",
       "      <td>0</td>\n",
       "      <td>0</td>\n",
       "      <td>0</td>\n",
       "      <td>0</td>\n",
       "      <td>0</td>\n",
       "      <td>0</td>\n",
       "      <td>0</td>\n",
       "      <td>3</td>\n",
       "      <td>5</td>\n",
       "      <td>2</td>\n",
       "    </tr>\n",
       "    <tr>\n",
       "      <th>2</th>\n",
       "      <td>2021-09-03</td>\n",
       "      <td>0</td>\n",
       "      <td>0</td>\n",
       "      <td>0</td>\n",
       "      <td>0</td>\n",
       "      <td>0</td>\n",
       "      <td>0</td>\n",
       "      <td>0</td>\n",
       "      <td>0</td>\n",
       "      <td>0</td>\n",
       "      <td>0</td>\n",
       "      <td>0</td>\n",
       "      <td>0</td>\n",
       "      <td>3</td>\n",
       "      <td>5</td>\n",
       "      <td>2</td>\n",
       "    </tr>\n",
       "    <tr>\n",
       "      <th>3</th>\n",
       "      <td>2021-09-04</td>\n",
       "      <td>0</td>\n",
       "      <td>0</td>\n",
       "      <td>1</td>\n",
       "      <td>0</td>\n",
       "      <td>0</td>\n",
       "      <td>0</td>\n",
       "      <td>0</td>\n",
       "      <td>0</td>\n",
       "      <td>0</td>\n",
       "      <td>0</td>\n",
       "      <td>0</td>\n",
       "      <td>0</td>\n",
       "      <td>3</td>\n",
       "      <td>5</td>\n",
       "      <td>2</td>\n",
       "    </tr>\n",
       "    <tr>\n",
       "      <th>4</th>\n",
       "      <td>2021-09-05</td>\n",
       "      <td>0</td>\n",
       "      <td>0</td>\n",
       "      <td>1</td>\n",
       "      <td>0</td>\n",
       "      <td>0</td>\n",
       "      <td>0</td>\n",
       "      <td>0</td>\n",
       "      <td>0</td>\n",
       "      <td>0</td>\n",
       "      <td>0</td>\n",
       "      <td>0</td>\n",
       "      <td>0</td>\n",
       "      <td>3</td>\n",
       "      <td>5</td>\n",
       "      <td>2</td>\n",
       "    </tr>\n",
       "    <tr>\n",
       "      <th>...</th>\n",
       "      <td>...</td>\n",
       "      <td>...</td>\n",
       "      <td>...</td>\n",
       "      <td>...</td>\n",
       "      <td>...</td>\n",
       "      <td>...</td>\n",
       "      <td>...</td>\n",
       "      <td>...</td>\n",
       "      <td>...</td>\n",
       "      <td>...</td>\n",
       "      <td>...</td>\n",
       "      <td>...</td>\n",
       "      <td>...</td>\n",
       "      <td>...</td>\n",
       "      <td>...</td>\n",
       "      <td>...</td>\n",
       "    </tr>\n",
       "    <tr>\n",
       "      <th>84</th>\n",
       "      <td>2021-11-24</td>\n",
       "      <td>0</td>\n",
       "      <td>0</td>\n",
       "      <td>0</td>\n",
       "      <td>0</td>\n",
       "      <td>0</td>\n",
       "      <td>0</td>\n",
       "      <td>0</td>\n",
       "      <td>0</td>\n",
       "      <td>0</td>\n",
       "      <td>0</td>\n",
       "      <td>0</td>\n",
       "      <td>0</td>\n",
       "      <td>0</td>\n",
       "      <td>0</td>\n",
       "      <td>0</td>\n",
       "    </tr>\n",
       "    <tr>\n",
       "      <th>85</th>\n",
       "      <td>2021-11-25</td>\n",
       "      <td>0</td>\n",
       "      <td>0</td>\n",
       "      <td>1</td>\n",
       "      <td>0</td>\n",
       "      <td>0</td>\n",
       "      <td>0</td>\n",
       "      <td>0</td>\n",
       "      <td>0</td>\n",
       "      <td>1</td>\n",
       "      <td>1</td>\n",
       "      <td>0</td>\n",
       "      <td>0</td>\n",
       "      <td>3</td>\n",
       "      <td>5</td>\n",
       "      <td>2</td>\n",
       "    </tr>\n",
       "    <tr>\n",
       "      <th>86</th>\n",
       "      <td>2021-11-26</td>\n",
       "      <td>0</td>\n",
       "      <td>0</td>\n",
       "      <td>2</td>\n",
       "      <td>0</td>\n",
       "      <td>0</td>\n",
       "      <td>0</td>\n",
       "      <td>0</td>\n",
       "      <td>0</td>\n",
       "      <td>0</td>\n",
       "      <td>0</td>\n",
       "      <td>0</td>\n",
       "      <td>0</td>\n",
       "      <td>3</td>\n",
       "      <td>5</td>\n",
       "      <td>2</td>\n",
       "    </tr>\n",
       "    <tr>\n",
       "      <th>87</th>\n",
       "      <td>2021-11-27</td>\n",
       "      <td>0</td>\n",
       "      <td>0</td>\n",
       "      <td>0</td>\n",
       "      <td>0</td>\n",
       "      <td>0</td>\n",
       "      <td>0</td>\n",
       "      <td>0</td>\n",
       "      <td>0</td>\n",
       "      <td>0</td>\n",
       "      <td>0</td>\n",
       "      <td>0</td>\n",
       "      <td>0</td>\n",
       "      <td>3</td>\n",
       "      <td>5</td>\n",
       "      <td>2</td>\n",
       "    </tr>\n",
       "    <tr>\n",
       "      <th>88</th>\n",
       "      <td>2021-11-28</td>\n",
       "      <td>0</td>\n",
       "      <td>0</td>\n",
       "      <td>1</td>\n",
       "      <td>0</td>\n",
       "      <td>0</td>\n",
       "      <td>0</td>\n",
       "      <td>0</td>\n",
       "      <td>0</td>\n",
       "      <td>0</td>\n",
       "      <td>0</td>\n",
       "      <td>0</td>\n",
       "      <td>0</td>\n",
       "      <td>3</td>\n",
       "      <td>5</td>\n",
       "      <td>2</td>\n",
       "    </tr>\n",
       "  </tbody>\n",
       "</table>\n",
       "<p>89 rows × 16 columns</p>\n",
       "</div>"
      ],
      "text/plain": [
       "          date phq_rank_observances_rank_levels_1  \\\n",
       "0   2021-09-01                                  0   \n",
       "1   2021-09-02                                  0   \n",
       "2   2021-09-03                                  0   \n",
       "3   2021-09-04                                  0   \n",
       "4   2021-09-05                                  0   \n",
       "..         ...                                ...   \n",
       "84  2021-11-24                                  0   \n",
       "85  2021-11-25                                  0   \n",
       "86  2021-11-26                                  0   \n",
       "87  2021-11-27                                  0   \n",
       "88  2021-11-28                                  0   \n",
       "\n",
       "   phq_rank_observances_rank_levels_2 phq_rank_observances_rank_levels_3  \\\n",
       "0                                   0                                  0   \n",
       "1                                   0                                  0   \n",
       "2                                   0                                  0   \n",
       "3                                   0                                  1   \n",
       "4                                   0                                  1   \n",
       "..                                ...                                ...   \n",
       "84                                  0                                  0   \n",
       "85                                  0                                  1   \n",
       "86                                  0                                  2   \n",
       "87                                  0                                  0   \n",
       "88                                  0                                  1   \n",
       "\n",
       "   phq_rank_observances_rank_levels_4 phq_rank_observances_rank_levels_5  \\\n",
       "0                                   0                                  0   \n",
       "1                                   0                                  0   \n",
       "2                                   0                                  0   \n",
       "3                                   0                                  0   \n",
       "4                                   0                                  0   \n",
       "..                                ...                                ...   \n",
       "84                                  0                                  0   \n",
       "85                                  0                                  0   \n",
       "86                                  0                                  0   \n",
       "87                                  0                                  0   \n",
       "88                                  0                                  0   \n",
       "\n",
       "   phq_rank_public_holidays_rank_levels_1  \\\n",
       "0                                       0   \n",
       "1                                       0   \n",
       "2                                       0   \n",
       "3                                       0   \n",
       "4                                       0   \n",
       "..                                    ...   \n",
       "84                                      0   \n",
       "85                                      0   \n",
       "86                                      0   \n",
       "87                                      0   \n",
       "88                                      0   \n",
       "\n",
       "   phq_rank_public_holidays_rank_levels_2  \\\n",
       "0                                       0   \n",
       "1                                       0   \n",
       "2                                       0   \n",
       "3                                       0   \n",
       "4                                       0   \n",
       "..                                    ...   \n",
       "84                                      0   \n",
       "85                                      0   \n",
       "86                                      0   \n",
       "87                                      0   \n",
       "88                                      0   \n",
       "\n",
       "   phq_rank_public_holidays_rank_levels_3  \\\n",
       "0                                       0   \n",
       "1                                       0   \n",
       "2                                       0   \n",
       "3                                       0   \n",
       "4                                       0   \n",
       "..                                    ...   \n",
       "84                                      0   \n",
       "85                                      0   \n",
       "86                                      0   \n",
       "87                                      0   \n",
       "88                                      0   \n",
       "\n",
       "   phq_rank_public_holidays_rank_levels_4  \\\n",
       "0                                       0   \n",
       "1                                       0   \n",
       "2                                       0   \n",
       "3                                       0   \n",
       "4                                       0   \n",
       "..                                    ...   \n",
       "84                                      0   \n",
       "85                                      1   \n",
       "86                                      0   \n",
       "87                                      0   \n",
       "88                                      0   \n",
       "\n",
       "   phq_rank_public_holidays_rank_levels_5  \\\n",
       "0                                       0   \n",
       "1                                       0   \n",
       "2                                       0   \n",
       "3                                       0   \n",
       "4                                       0   \n",
       "..                                    ...   \n",
       "84                                      0   \n",
       "85                                      1   \n",
       "86                                      0   \n",
       "87                                      0   \n",
       "88                                      0   \n",
       "\n",
       "   phq_rank_school_holidays_rank_levels_1  \\\n",
       "0                                       0   \n",
       "1                                       0   \n",
       "2                                       0   \n",
       "3                                       0   \n",
       "4                                       0   \n",
       "..                                    ...   \n",
       "84                                      0   \n",
       "85                                      0   \n",
       "86                                      0   \n",
       "87                                      0   \n",
       "88                                      0   \n",
       "\n",
       "   phq_rank_school_holidays_rank_levels_2  \\\n",
       "0                                       0   \n",
       "1                                       0   \n",
       "2                                       0   \n",
       "3                                       0   \n",
       "4                                       0   \n",
       "..                                    ...   \n",
       "84                                      0   \n",
       "85                                      0   \n",
       "86                                      0   \n",
       "87                                      0   \n",
       "88                                      0   \n",
       "\n",
       "   phq_rank_school_holidays_rank_levels_3  \\\n",
       "0                                       3   \n",
       "1                                       3   \n",
       "2                                       3   \n",
       "3                                       3   \n",
       "4                                       3   \n",
       "..                                    ...   \n",
       "84                                      0   \n",
       "85                                      3   \n",
       "86                                      3   \n",
       "87                                      3   \n",
       "88                                      3   \n",
       "\n",
       "   phq_rank_school_holidays_rank_levels_4  \\\n",
       "0                                       5   \n",
       "1                                       5   \n",
       "2                                       5   \n",
       "3                                       5   \n",
       "4                                       5   \n",
       "..                                    ...   \n",
       "84                                      0   \n",
       "85                                      5   \n",
       "86                                      5   \n",
       "87                                      5   \n",
       "88                                      5   \n",
       "\n",
       "   phq_rank_school_holidays_rank_levels_5  \n",
       "0                                       2  \n",
       "1                                       2  \n",
       "2                                       2  \n",
       "3                                       2  \n",
       "4                                       2  \n",
       "..                                    ...  \n",
       "84                                      0  \n",
       "85                                      2  \n",
       "86                                      2  \n",
       "87                                      2  \n",
       "88                                      2  \n",
       "\n",
       "[89 rows x 16 columns]"
      ]
     },
     "execution_count": 19,
     "metadata": {},
     "output_type": "execute_result"
    }
   ],
   "source": [
    "results = []\n",
    "\n",
    "for feature in phq.features.obtain_features(parameters):\n",
    "    results.append(flatten_dict(feature.to_dict(), '', '_'))\n",
    "\n",
    "feature_df = pd.DataFrame(results)\n",
    "\n",
    "feature_df"
   ]
  },
  {
   "cell_type": "markdown",
   "metadata": {
    "cell_id": "ebac2a6b0a3849adbd80f337eda9035b",
    "deepnote_cell_height": 110.78125,
    "deepnote_cell_type": "markdown",
    "tags": []
   },
   "source": [
    "#### Aggregate rank levels\n",
    "As explained at the beginning of this section, each feature has 5 rank levels, so those 5 rank levels can be aggregated based on various requirements. Here we provide an example of aggregating rank level 3 and rank level 4 of `phq_rank_observances`:"
   ]
  },
  {
   "cell_type": "code",
   "execution_count": null,
   "metadata": {
    "cell_id": "c4899373c9544d0aa077b97460fee8fb",
    "deepnote_cell_height": 395.25,
    "deepnote_cell_type": "code",
    "deepnote_to_be_reexecuted": false,
    "execution_millis": 109,
    "execution_start": 1662593462790,
    "source_hash": "9779b005",
    "tags": []
   },
   "outputs": [
    {
     "data": {
      "text/plain": [
       "0     00\n",
       "1     00\n",
       "2     00\n",
       "3     10\n",
       "4     10\n",
       "      ..\n",
       "84    00\n",
       "85    10\n",
       "86    20\n",
       "87    00\n",
       "88    10\n",
       "Name: phq_rank_observancesphq_rank_observances_rank_agg, Length: 89, dtype: object"
      ]
     },
     "execution_count": 20,
     "metadata": {},
     "output_type": "execute_result"
    }
   ],
   "source": [
    "feature_df['phq_rank_observancesphq_rank_observances_rank_agg'] = feature_df[\n",
    "    'phq_rank_observances_rank_levels_3'] + feature_df['phq_rank_observances_rank_levels_4']\n",
    "\n",
    "\n",
    "feature_df['phq_rank_observancesphq_rank_observances_rank_agg']"
   ]
  },
  {
   "cell_type": "markdown",
   "metadata": {
    "cell_id": "6e205298d36148189ea9b403670b3094",
    "deepnote_cell_height": 76,
    "deepnote_cell_type": "markdown",
    "tags": []
   },
   "source": [
    "<a id='impact'></a>\n",
    "### Impact based features (severe weather)"
   ]
  },
  {
   "cell_type": "markdown",
   "metadata": {
    "cell_id": "6c82f1e4d49444019dc9086d25f4e28a",
    "deepnote_cell_height": 1015.671875,
    "deepnote_cell_type": "markdown",
    "tags": []
   },
   "source": [
    "<b>Severe weather</b> is currently the only category that covers impact based features. The severe weather features use demand impact patterns. Demand impact patterns calculate the impact duration of an severe weather event and are based on industry specific information. Our severe weather features are currently designed and tested on data for the retail segment only. For example, for a flood event the impact pattern may show that it typically impacts retail businesses 1 day before and 2 days after the event. That impact pattern information is used in the features below. If your business is in an industry segment other than retail (e.g. Accomodation or Travel) then the features below may not work for you or may be less effective.\n",
    "\n",
    "For more details on severe weather see the [data science guide](https://docs.predicthq.com/datascience/severe-weather-events).\n",
    "\n",
    "There are 13 features avaiable for the retail industry from the Features API:\n",
    "\n",
    "- `phq_impact_severe_weather_air_quality_retail`\n",
    "- `phq_impact_severe_weather_blizzard_retail`\n",
    "- `phq_impact_severe_weather_cold_wave_retail`\n",
    "- `phq_impact_severe_weather_cold_wave_snow_retail`\n",
    "- `phq_impact_severe_weather_cold_wave_storm_retail`\n",
    "- `phq_impact_severe_weather_dust_retail`\n",
    "- `phq_impact_severe_weather_dust_storm_retail`\n",
    "- `phq_impact_severe_weather_flood_retail`\n",
    "- `phq_impact_severe_weather_heat_wave_retail`\n",
    "- `phq_impact_severe_weather_hurricane_retail`\n",
    "- `phq_impact_severe_weather_thunderstorm_retail`\n",
    "- `phq_impact_severe_weather_tornado_retail`\n",
    "- `phq_impact_severe_weather_tropical_storm_retail`\n",
    "\n",
    "Similar to Attendance Based Events, each of these feature includes 7 stats:\n",
    "- `sum` \n",
    "- `count` \n",
    "- `min`\n",
    "- `max` (Recommended to start with)\n",
    "- `avg`\n",
    "- `median`\n",
    "- `std_dev`\n",
    "For severe weather, we recommend to start with `max` in this notebook.\n",
    "\n",
    "#### Radius for Severe Weahter\n",
    "\n",
    "The distance between a store and event is defined as the minimum distance between the store and the points from the polygon. When the store is inside the polygon, the distance between the store and the event is 0km. The default radius is set to 0km, i.e., the events which are used for aggregating and feature engineering have polygons which overlap with the store.\n",
    "\n",
    "<b>Note: when using the `geo__location` parameter in the Features API to query for features around a radius choose a radius of 1 meter (the `geo__location` parameter doesn’t support a radius of 0).</b>"
   ]
  },
  {
   "cell_type": "markdown",
   "metadata": {
    "cell_id": "6adc78e1fb3f45b2bf858fd0946142ef",
    "deepnote_cell_height": 54,
    "deepnote_cell_type": "markdown",
    "tags": []
   },
   "source": [
    "#### Setup SDK parameters"
   ]
  },
  {
   "cell_type": "code",
   "execution_count": null,
   "metadata": {
    "cell_id": "47ce300af3ad482ea357ba36a8b73082",
    "deepnote_cell_height": 348.5625,
    "deepnote_cell_type": "code",
    "deepnote_to_be_reexecuted": false,
    "execution_millis": 413,
    "execution_start": 1662593471326,
    "source_hash": "2ded2aa1",
    "tags": []
   },
   "outputs": [
    {
     "data": {
      "text/plain": [
       "{'location__geo': {'lat': 40.7079, 'lon': -74.0115, 'radius': '1mi'},\n",
       " 'active__gte': '2021-09-01',\n",
       " 'active__lte': '2021-11-28'}"
      ]
     },
     "execution_count": 21,
     "metadata": {},
     "output_type": "execute_result"
    }
   ],
   "source": [
    "parameters = dict()\n",
    "\n",
    "latitude, longitude = (40.7079, -74.0115) # LAT, LONG for centre of New York City\n",
    "radius_filter = \"1mi\"\n",
    "parameters.update(location__geo=dict(lat=latitude, lon=longitude,radius=radius_filter)) \n",
    "\n",
    "start_time = \"2021-09-01\"\n",
    "end_time = \"2021-11-28\"\n",
    "parameters.update(active__gte = start_time)\n",
    "parameters.update(active__lte = end_time)\n",
    "\n",
    "parameters"
   ]
  },
  {
   "cell_type": "code",
   "execution_count": null,
   "metadata": {
    "cell_id": "21c489fc832049f98ea82b08440e6e23",
    "deepnote_cell_height": 904,
    "deepnote_cell_type": "code",
    "deepnote_output_heights": [
     308
    ],
    "deepnote_to_be_reexecuted": false,
    "execution_millis": 6,
    "execution_start": 1662593475155,
    "source_hash": "52ddc85",
    "tags": []
   },
   "outputs": [
    {
     "data": {
      "text/plain": [
       "{'location__geo': {'lat': 40.7079, 'lon': -74.0115, 'radius': '1mi'},\n",
       " 'active__gte': '2021-09-01',\n",
       " 'active__lte': '2021-11-28',\n",
       " 'phq_impact_severe_weather_air_quality_retail': {'stats': ['max']},\n",
       " 'phq_impact_severe_weather_blizzard_retail': {'stats': ['max']},\n",
       " 'phq_impact_severe_weather_cold_wave_retail': {'stats': ['max']},\n",
       " 'phq_impact_severe_weather_cold_wave_snow_retail': {'stats': ['max']},\n",
       " 'phq_impact_severe_weather_cold_wave_storm_retail': {'stats': ['max']},\n",
       " 'phq_impact_severe_weather_dust_retail': {'stats': ['max']},\n",
       " 'phq_impact_severe_weather_dust_storm_retail': {'stats': ['max']},\n",
       " 'phq_impact_severe_weather_flood_retail': {'stats': ['max']},\n",
       " 'phq_impact_severe_weather_heat_wave_retail': {'stats': ['max']},\n",
       " 'phq_impact_severe_weather_hurricane_retail': {'stats': ['max']},\n",
       " 'phq_impact_severe_weather_thunderstorm_retail': {'stats': ['max']},\n",
       " 'phq_impact_severe_weather_tornado_retail': {'stats': ['max']},\n",
       " 'phq_impact_severe_weather_tropical_storm_retail': {'stats': ['max']}}"
      ]
     },
     "execution_count": 22,
     "metadata": {},
     "output_type": "execute_result"
    }
   ],
   "source": [
    "categories_impact = [\n",
    "     \"phq_impact_severe_weather_air_quality_retail\",\n",
    "     \"phq_impact_severe_weather_blizzard_retail\",\n",
    "     \"phq_impact_severe_weather_cold_wave_retail\",\n",
    "     \"phq_impact_severe_weather_cold_wave_snow_retail\",\n",
    "     \"phq_impact_severe_weather_cold_wave_storm_retail\",\n",
    "     \"phq_impact_severe_weather_dust_retail\",\n",
    "     \"phq_impact_severe_weather_dust_storm_retail\",\n",
    "     \"phq_impact_severe_weather_flood_retail\",\n",
    "     \"phq_impact_severe_weather_heat_wave_retail\",\n",
    "     \"phq_impact_severe_weather_hurricane_retail\",\n",
    "     \"phq_impact_severe_weather_thunderstorm_retail\",\n",
    "     \"phq_impact_severe_weather_tornado_retail\",\n",
    "     \"phq_impact_severe_weather_tropical_storm_retail\",\n",
    "]\n",
    "\n",
    "# only return sum of the attendance\n",
    "stats = [\"max\"]\n",
    "#parameters.update(phq_attendance_school_holidays__stats=stats)\n",
    "for i in categories_impact:\n",
    "    parameters.update({f\"{i}\": {'stats': stats}})\n",
    "\n",
    "# # Similar to Attend Events, low/high rank events can be excluded from calculating features.\n",
    "# phq_rank_filter = 30\n",
    "\n",
    "# for i in categories_impact:\n",
    "#     parameters.update({f\"{i}__phq_rank\":{'gte':phq_rank_filter}})\n",
    "\n",
    "parameters"
   ]
  },
  {
   "cell_type": "markdown",
   "metadata": {
    "cell_id": "a55bd0d69fce4ff399c108a837c6aba8",
    "deepnote_cell_height": 54,
    "deepnote_cell_type": "markdown",
    "tags": []
   },
   "source": [
    "#### Query features"
   ]
  },
  {
   "cell_type": "code",
   "execution_count": null,
   "metadata": {
    "cell_id": "ade13953062e4cb2af6d30b536421dba",
    "deepnote_cell_height": 738,
    "deepnote_cell_type": "code",
    "deepnote_to_be_reexecuted": false,
    "execution_millis": 1690,
    "execution_start": 1662593581827,
    "source_hash": "665838c0",
    "tags": []
   },
   "outputs": [
    {
     "data": {
      "application/vnd.deepnote.dataframe.v3+json": {
       "column_count": 14,
       "columns": [
        {
         "dtype": "object",
         "name": "date",
         "stats": {
          "categories": [
           {
            "count": 1,
            "name": "2021-09-01"
           },
           {
            "count": 1,
            "name": "2021-09-02"
           },
           {
            "count": 87,
            "name": "87 others"
           }
          ],
          "nan_count": 0,
          "unique_count": 89
         }
        },
        {
         "dtype": "float64",
         "name": "phq_impact_severe_weather_air_quality_retail_stats_max",
         "stats": {
          "histogram": [
           {
            "bin_end": -0.4,
            "bin_start": -0.5,
            "count": 0
           },
           {
            "bin_end": -0.3,
            "bin_start": -0.4,
            "count": 0
           },
           {
            "bin_end": -0.19999999999999996,
            "bin_start": -0.3,
            "count": 0
           },
           {
            "bin_end": -0.09999999999999998,
            "bin_start": -0.19999999999999996,
            "count": 0
           },
           {
            "bin_end": 0,
            "bin_start": -0.09999999999999998,
            "count": 0
           },
           {
            "bin_end": 0.10000000000000009,
            "bin_start": 0,
            "count": 89
           },
           {
            "bin_end": 0.20000000000000007,
            "bin_start": 0.10000000000000009,
            "count": 0
           },
           {
            "bin_end": 0.30000000000000004,
            "bin_start": 0.20000000000000007,
            "count": 0
           },
           {
            "bin_end": 0.4,
            "bin_start": 0.30000000000000004,
            "count": 0
           },
           {
            "bin_end": 0.5,
            "bin_start": 0.4,
            "count": 0
           }
          ],
          "max": "0.0",
          "min": "0.0",
          "nan_count": 0,
          "unique_count": 1
         }
        },
        {
         "dtype": "float64",
         "name": "phq_impact_severe_weather_blizzard_retail_stats_max",
         "stats": {
          "histogram": [
           {
            "bin_end": -0.4,
            "bin_start": -0.5,
            "count": 0
           },
           {
            "bin_end": -0.3,
            "bin_start": -0.4,
            "count": 0
           },
           {
            "bin_end": -0.19999999999999996,
            "bin_start": -0.3,
            "count": 0
           },
           {
            "bin_end": -0.09999999999999998,
            "bin_start": -0.19999999999999996,
            "count": 0
           },
           {
            "bin_end": 0,
            "bin_start": -0.09999999999999998,
            "count": 0
           },
           {
            "bin_end": 0.10000000000000009,
            "bin_start": 0,
            "count": 89
           },
           {
            "bin_end": 0.20000000000000007,
            "bin_start": 0.10000000000000009,
            "count": 0
           },
           {
            "bin_end": 0.30000000000000004,
            "bin_start": 0.20000000000000007,
            "count": 0
           },
           {
            "bin_end": 0.4,
            "bin_start": 0.30000000000000004,
            "count": 0
           },
           {
            "bin_end": 0.5,
            "bin_start": 0.4,
            "count": 0
           }
          ],
          "max": "0.0",
          "min": "0.0",
          "nan_count": 0,
          "unique_count": 1
         }
        },
        {
         "dtype": "float64",
         "name": "phq_impact_severe_weather_cold_wave_retail_stats_max",
         "stats": {
          "histogram": [
           {
            "bin_end": 6.5,
            "bin_start": 0,
            "count": 72
           },
           {
            "bin_end": 13,
            "bin_start": 6.5,
            "count": 3
           },
           {
            "bin_end": 19.5,
            "bin_start": 13,
            "count": 2
           },
           {
            "bin_end": 26,
            "bin_start": 19.5,
            "count": 2
           },
           {
            "bin_end": 32.5,
            "bin_start": 26,
            "count": 2
           },
           {
            "bin_end": 39,
            "bin_start": 32.5,
            "count": 2
           },
           {
            "bin_end": 45.5,
            "bin_start": 39,
            "count": 0
           },
           {
            "bin_end": 52,
            "bin_start": 45.5,
            "count": 5
           },
           {
            "bin_end": 58.5,
            "bin_start": 52,
            "count": 0
           },
           {
            "bin_end": 65,
            "bin_start": 58.5,
            "count": 1
           }
          ],
          "max": "65.0",
          "min": "0.0",
          "nan_count": 0,
          "unique_count": 11
         }
        },
        {
         "dtype": "float64",
         "name": "phq_impact_severe_weather_cold_wave_snow_retail_stats_max",
         "stats": {
          "histogram": [
           {
            "bin_end": -0.4,
            "bin_start": -0.5,
            "count": 0
           },
           {
            "bin_end": -0.3,
            "bin_start": -0.4,
            "count": 0
           },
           {
            "bin_end": -0.19999999999999996,
            "bin_start": -0.3,
            "count": 0
           },
           {
            "bin_end": -0.09999999999999998,
            "bin_start": -0.19999999999999996,
            "count": 0
           },
           {
            "bin_end": 0,
            "bin_start": -0.09999999999999998,
            "count": 0
           },
           {
            "bin_end": 0.10000000000000009,
            "bin_start": 0,
            "count": 89
           },
           {
            "bin_end": 0.20000000000000007,
            "bin_start": 0.10000000000000009,
            "count": 0
           },
           {
            "bin_end": 0.30000000000000004,
            "bin_start": 0.20000000000000007,
            "count": 0
           },
           {
            "bin_end": 0.4,
            "bin_start": 0.30000000000000004,
            "count": 0
           },
           {
            "bin_end": 0.5,
            "bin_start": 0.4,
            "count": 0
           }
          ],
          "max": "0.0",
          "min": "0.0",
          "nan_count": 0,
          "unique_count": 1
         }
        },
        {
         "dtype": "float64",
         "name": "phq_impact_severe_weather_cold_wave_storm_retail_stats_max",
         "stats": {
          "histogram": [
           {
            "bin_end": -0.4,
            "bin_start": -0.5,
            "count": 0
           },
           {
            "bin_end": -0.3,
            "bin_start": -0.4,
            "count": 0
           },
           {
            "bin_end": -0.19999999999999996,
            "bin_start": -0.3,
            "count": 0
           },
           {
            "bin_end": -0.09999999999999998,
            "bin_start": -0.19999999999999996,
            "count": 0
           },
           {
            "bin_end": 0,
            "bin_start": -0.09999999999999998,
            "count": 0
           },
           {
            "bin_end": 0.10000000000000009,
            "bin_start": 0,
            "count": 89
           },
           {
            "bin_end": 0.20000000000000007,
            "bin_start": 0.10000000000000009,
            "count": 0
           },
           {
            "bin_end": 0.30000000000000004,
            "bin_start": 0.20000000000000007,
            "count": 0
           },
           {
            "bin_end": 0.4,
            "bin_start": 0.30000000000000004,
            "count": 0
           },
           {
            "bin_end": 0.5,
            "bin_start": 0.4,
            "count": 0
           }
          ],
          "max": "0.0",
          "min": "0.0",
          "nan_count": 0,
          "unique_count": 1
         }
        },
        {
         "dtype": "float64",
         "name": "phq_impact_severe_weather_dust_retail_stats_max",
         "stats": {
          "histogram": [
           {
            "bin_end": -0.4,
            "bin_start": -0.5,
            "count": 0
           },
           {
            "bin_end": -0.3,
            "bin_start": -0.4,
            "count": 0
           },
           {
            "bin_end": -0.19999999999999996,
            "bin_start": -0.3,
            "count": 0
           },
           {
            "bin_end": -0.09999999999999998,
            "bin_start": -0.19999999999999996,
            "count": 0
           },
           {
            "bin_end": 0,
            "bin_start": -0.09999999999999998,
            "count": 0
           },
           {
            "bin_end": 0.10000000000000009,
            "bin_start": 0,
            "count": 89
           },
           {
            "bin_end": 0.20000000000000007,
            "bin_start": 0.10000000000000009,
            "count": 0
           },
           {
            "bin_end": 0.30000000000000004,
            "bin_start": 0.20000000000000007,
            "count": 0
           },
           {
            "bin_end": 0.4,
            "bin_start": 0.30000000000000004,
            "count": 0
           },
           {
            "bin_end": 0.5,
            "bin_start": 0.4,
            "count": 0
           }
          ],
          "max": "0.0",
          "min": "0.0",
          "nan_count": 0,
          "unique_count": 1
         }
        },
        {
         "dtype": "float64",
         "name": "phq_impact_severe_weather_dust_storm_retail_stats_max",
         "stats": {
          "histogram": [
           {
            "bin_end": -0.4,
            "bin_start": -0.5,
            "count": 0
           },
           {
            "bin_end": -0.3,
            "bin_start": -0.4,
            "count": 0
           },
           {
            "bin_end": -0.19999999999999996,
            "bin_start": -0.3,
            "count": 0
           },
           {
            "bin_end": -0.09999999999999998,
            "bin_start": -0.19999999999999996,
            "count": 0
           },
           {
            "bin_end": 0,
            "bin_start": -0.09999999999999998,
            "count": 0
           },
           {
            "bin_end": 0.10000000000000009,
            "bin_start": 0,
            "count": 89
           },
           {
            "bin_end": 0.20000000000000007,
            "bin_start": 0.10000000000000009,
            "count": 0
           },
           {
            "bin_end": 0.30000000000000004,
            "bin_start": 0.20000000000000007,
            "count": 0
           },
           {
            "bin_end": 0.4,
            "bin_start": 0.30000000000000004,
            "count": 0
           },
           {
            "bin_end": 0.5,
            "bin_start": 0.4,
            "count": 0
           }
          ],
          "max": "0.0",
          "min": "0.0",
          "nan_count": 0,
          "unique_count": 1
         }
        },
        {
         "dtype": "float64",
         "name": "phq_impact_severe_weather_flood_retail_stats_max",
         "stats": {
          "histogram": [
           {
            "bin_end": 8.2,
            "bin_start": 0,
            "count": 57
           },
           {
            "bin_end": 16.4,
            "bin_start": 8.2,
            "count": 6
           },
           {
            "bin_end": 24.599999999999998,
            "bin_start": 16.4,
            "count": 7
           },
           {
            "bin_end": 32.8,
            "bin_start": 24.599999999999998,
            "count": 2
           },
           {
            "bin_end": 41,
            "bin_start": 32.8,
            "count": 1
           },
           {
            "bin_end": 49.199999999999996,
            "bin_start": 41,
            "count": 9
           },
           {
            "bin_end": 57.39999999999999,
            "bin_start": 49.199999999999996,
            "count": 4
           },
           {
            "bin_end": 65.6,
            "bin_start": 57.39999999999999,
            "count": 0
           },
           {
            "bin_end": 73.8,
            "bin_start": 65.6,
            "count": 0
           },
           {
            "bin_end": 82,
            "bin_start": 73.8,
            "count": 3
           }
          ],
          "max": "82.0",
          "min": "0.0",
          "nan_count": 0,
          "unique_count": 13
         }
        },
        {
         "dtype": "float64",
         "name": "phq_impact_severe_weather_heat_wave_retail_stats_max",
         "stats": {
          "histogram": [
           {
            "bin_end": -0.4,
            "bin_start": -0.5,
            "count": 0
           },
           {
            "bin_end": -0.3,
            "bin_start": -0.4,
            "count": 0
           },
           {
            "bin_end": -0.19999999999999996,
            "bin_start": -0.3,
            "count": 0
           },
           {
            "bin_end": -0.09999999999999998,
            "bin_start": -0.19999999999999996,
            "count": 0
           },
           {
            "bin_end": 0,
            "bin_start": -0.09999999999999998,
            "count": 0
           },
           {
            "bin_end": 0.10000000000000009,
            "bin_start": 0,
            "count": 89
           },
           {
            "bin_end": 0.20000000000000007,
            "bin_start": 0.10000000000000009,
            "count": 0
           },
           {
            "bin_end": 0.30000000000000004,
            "bin_start": 0.20000000000000007,
            "count": 0
           },
           {
            "bin_end": 0.4,
            "bin_start": 0.30000000000000004,
            "count": 0
           },
           {
            "bin_end": 0.5,
            "bin_start": 0.4,
            "count": 0
           }
          ],
          "max": "0.0",
          "min": "0.0",
          "nan_count": 0,
          "unique_count": 1
         }
        },
        {
         "dtype": "float64",
         "name": "phq_impact_severe_weather_hurricane_retail_stats_max",
         "stats": {
          "histogram": [
           {
            "bin_end": -0.4,
            "bin_start": -0.5,
            "count": 0
           },
           {
            "bin_end": -0.3,
            "bin_start": -0.4,
            "count": 0
           },
           {
            "bin_end": -0.19999999999999996,
            "bin_start": -0.3,
            "count": 0
           },
           {
            "bin_end": -0.09999999999999998,
            "bin_start": -0.19999999999999996,
            "count": 0
           },
           {
            "bin_end": 0,
            "bin_start": -0.09999999999999998,
            "count": 0
           },
           {
            "bin_end": 0.10000000000000009,
            "bin_start": 0,
            "count": 89
           },
           {
            "bin_end": 0.20000000000000007,
            "bin_start": 0.10000000000000009,
            "count": 0
           },
           {
            "bin_end": 0.30000000000000004,
            "bin_start": 0.20000000000000007,
            "count": 0
           },
           {
            "bin_end": 0.4,
            "bin_start": 0.30000000000000004,
            "count": 0
           },
           {
            "bin_end": 0.5,
            "bin_start": 0.4,
            "count": 0
           }
          ],
          "max": "0.0",
          "min": "0.0",
          "nan_count": 0,
          "unique_count": 1
         }
        },
        {
         "dtype": "float64",
         "name": "phq_impact_severe_weather_thunderstorm_retail_stats_max",
         "stats": {
          "histogram": [
           {
            "bin_end": 8.6,
            "bin_start": 0,
            "count": 84
           },
           {
            "bin_end": 17.2,
            "bin_start": 8.6,
            "count": 0
           },
           {
            "bin_end": 25.799999999999997,
            "bin_start": 17.2,
            "count": 0
           },
           {
            "bin_end": 34.4,
            "bin_start": 25.799999999999997,
            "count": 2
           },
           {
            "bin_end": 43,
            "bin_start": 34.4,
            "count": 1
           },
           {
            "bin_end": 51.599999999999994,
            "bin_start": 43,
            "count": 0
           },
           {
            "bin_end": 60.199999999999996,
            "bin_start": 51.599999999999994,
            "count": 0
           },
           {
            "bin_end": 68.8,
            "bin_start": 60.199999999999996,
            "count": 0
           },
           {
            "bin_end": 77.39999999999999,
            "bin_start": 68.8,
            "count": 0
           },
           {
            "bin_end": 86,
            "bin_start": 77.39999999999999,
            "count": 2
           }
          ],
          "max": "86.0",
          "min": "0.0",
          "nan_count": 0,
          "unique_count": 5
         }
        },
        {
         "dtype": "float64",
         "name": "phq_impact_severe_weather_tornado_retail_stats_max",
         "stats": {
          "histogram": [
           {
            "bin_end": 6,
            "bin_start": 0,
            "count": 88
           },
           {
            "bin_end": 12,
            "bin_start": 6,
            "count": 0
           },
           {
            "bin_end": 18,
            "bin_start": 12,
            "count": 0
           },
           {
            "bin_end": 24,
            "bin_start": 18,
            "count": 0
           },
           {
            "bin_end": 30,
            "bin_start": 24,
            "count": 0
           },
           {
            "bin_end": 36,
            "bin_start": 30,
            "count": 0
           },
           {
            "bin_end": 42,
            "bin_start": 36,
            "count": 0
           },
           {
            "bin_end": 48,
            "bin_start": 42,
            "count": 0
           },
           {
            "bin_end": 54,
            "bin_start": 48,
            "count": 0
           },
           {
            "bin_end": 60,
            "bin_start": 54,
            "count": 1
           }
          ],
          "max": "60.0",
          "min": "0.0",
          "nan_count": 0,
          "unique_count": 2
         }
        },
        {
         "dtype": "float64",
         "name": "phq_impact_severe_weather_tropical_storm_retail_stats_max",
         "stats": {
          "histogram": [
           {
            "bin_end": -0.4,
            "bin_start": -0.5,
            "count": 0
           },
           {
            "bin_end": -0.3,
            "bin_start": -0.4,
            "count": 0
           },
           {
            "bin_end": -0.19999999999999996,
            "bin_start": -0.3,
            "count": 0
           },
           {
            "bin_end": -0.09999999999999998,
            "bin_start": -0.19999999999999996,
            "count": 0
           },
           {
            "bin_end": 0,
            "bin_start": -0.09999999999999998,
            "count": 0
           },
           {
            "bin_end": 0.10000000000000009,
            "bin_start": 0,
            "count": 89
           },
           {
            "bin_end": 0.20000000000000007,
            "bin_start": 0.10000000000000009,
            "count": 0
           },
           {
            "bin_end": 0.30000000000000004,
            "bin_start": 0.20000000000000007,
            "count": 0
           },
           {
            "bin_end": 0.4,
            "bin_start": 0.30000000000000004,
            "count": 0
           },
           {
            "bin_end": 0.5,
            "bin_start": 0.4,
            "count": 0
           }
          ],
          "max": "0.0",
          "min": "0.0",
          "nan_count": 0,
          "unique_count": 1
         }
        },
        {
         "dtype": "int64",
         "name": "_deepnote_index_column"
        }
       ],
       "row_count": 89,
       "rows": [
        {
         "_deepnote_index_column": "0",
         "date": "2021-09-01",
         "phq_impact_severe_weather_air_quality_retail_stats_max": "0.0",
         "phq_impact_severe_weather_blizzard_retail_stats_max": "0.0",
         "phq_impact_severe_weather_cold_wave_retail_stats_max": "0.0",
         "phq_impact_severe_weather_cold_wave_snow_retail_stats_max": "0.0",
         "phq_impact_severe_weather_cold_wave_storm_retail_stats_max": "0.0",
         "phq_impact_severe_weather_dust_retail_stats_max": "0.0",
         "phq_impact_severe_weather_dust_storm_retail_stats_max": "0.0",
         "phq_impact_severe_weather_flood_retail_stats_max": "82.0",
         "phq_impact_severe_weather_heat_wave_retail_stats_max": "0.0",
         "phq_impact_severe_weather_hurricane_retail_stats_max": "0.0",
         "phq_impact_severe_weather_thunderstorm_retail_stats_max": "86.0",
         "phq_impact_severe_weather_tornado_retail_stats_max": "60.0",
         "phq_impact_severe_weather_tropical_storm_retail_stats_max": "0.0"
        },
        {
         "_deepnote_index_column": "1",
         "date": "2021-09-02",
         "phq_impact_severe_weather_air_quality_retail_stats_max": "0.0",
         "phq_impact_severe_weather_blizzard_retail_stats_max": "0.0",
         "phq_impact_severe_weather_cold_wave_retail_stats_max": "0.0",
         "phq_impact_severe_weather_cold_wave_snow_retail_stats_max": "0.0",
         "phq_impact_severe_weather_cold_wave_storm_retail_stats_max": "0.0",
         "phq_impact_severe_weather_dust_retail_stats_max": "0.0",
         "phq_impact_severe_weather_dust_storm_retail_stats_max": "0.0",
         "phq_impact_severe_weather_flood_retail_stats_max": "80.0",
         "phq_impact_severe_weather_heat_wave_retail_stats_max": "0.0",
         "phq_impact_severe_weather_hurricane_retail_stats_max": "0.0",
         "phq_impact_severe_weather_thunderstorm_retail_stats_max": "34.0",
         "phq_impact_severe_weather_tornado_retail_stats_max": "0.0",
         "phq_impact_severe_weather_tropical_storm_retail_stats_max": "0.0"
        },
        {
         "_deepnote_index_column": "2",
         "date": "2021-09-03",
         "phq_impact_severe_weather_air_quality_retail_stats_max": "0.0",
         "phq_impact_severe_weather_blizzard_retail_stats_max": "0.0",
         "phq_impact_severe_weather_cold_wave_retail_stats_max": "0.0",
         "phq_impact_severe_weather_cold_wave_snow_retail_stats_max": "0.0",
         "phq_impact_severe_weather_cold_wave_storm_retail_stats_max": "0.0",
         "phq_impact_severe_weather_dust_retail_stats_max": "0.0",
         "phq_impact_severe_weather_dust_storm_retail_stats_max": "0.0",
         "phq_impact_severe_weather_flood_retail_stats_max": "28.0",
         "phq_impact_severe_weather_heat_wave_retail_stats_max": "0.0",
         "phq_impact_severe_weather_hurricane_retail_stats_max": "0.0",
         "phq_impact_severe_weather_thunderstorm_retail_stats_max": "0.0",
         "phq_impact_severe_weather_tornado_retail_stats_max": "0.0",
         "phq_impact_severe_weather_tropical_storm_retail_stats_max": "0.0"
        },
        {
         "_deepnote_index_column": "3",
         "date": "2021-09-04",
         "phq_impact_severe_weather_air_quality_retail_stats_max": "0.0",
         "phq_impact_severe_weather_blizzard_retail_stats_max": "0.0",
         "phq_impact_severe_weather_cold_wave_retail_stats_max": "0.0",
         "phq_impact_severe_weather_cold_wave_snow_retail_stats_max": "0.0",
         "phq_impact_severe_weather_cold_wave_storm_retail_stats_max": "0.0",
         "phq_impact_severe_weather_dust_retail_stats_max": "0.0",
         "phq_impact_severe_weather_dust_storm_retail_stats_max": "0.0",
         "phq_impact_severe_weather_flood_retail_stats_max": "0.0",
         "phq_impact_severe_weather_heat_wave_retail_stats_max": "0.0",
         "phq_impact_severe_weather_hurricane_retail_stats_max": "0.0",
         "phq_impact_severe_weather_thunderstorm_retail_stats_max": "0.0",
         "phq_impact_severe_weather_tornado_retail_stats_max": "0.0",
         "phq_impact_severe_weather_tropical_storm_retail_stats_max": "0.0"
        },
        {
         "_deepnote_index_column": "4",
         "date": "2021-09-05",
         "phq_impact_severe_weather_air_quality_retail_stats_max": "0.0",
         "phq_impact_severe_weather_blizzard_retail_stats_max": "0.0",
         "phq_impact_severe_weather_cold_wave_retail_stats_max": "0.0",
         "phq_impact_severe_weather_cold_wave_snow_retail_stats_max": "0.0",
         "phq_impact_severe_weather_cold_wave_storm_retail_stats_max": "0.0",
         "phq_impact_severe_weather_dust_retail_stats_max": "0.0",
         "phq_impact_severe_weather_dust_storm_retail_stats_max": "0.0",
         "phq_impact_severe_weather_flood_retail_stats_max": "0.0",
         "phq_impact_severe_weather_heat_wave_retail_stats_max": "0.0",
         "phq_impact_severe_weather_hurricane_retail_stats_max": "0.0",
         "phq_impact_severe_weather_thunderstorm_retail_stats_max": "0.0",
         "phq_impact_severe_weather_tornado_retail_stats_max": "0.0",
         "phq_impact_severe_weather_tropical_storm_retail_stats_max": "0.0"
        },
        {
         "_deepnote_index_column": "5",
         "date": "2021-09-06",
         "phq_impact_severe_weather_air_quality_retail_stats_max": "0.0",
         "phq_impact_severe_weather_blizzard_retail_stats_max": "0.0",
         "phq_impact_severe_weather_cold_wave_retail_stats_max": "0.0",
         "phq_impact_severe_weather_cold_wave_snow_retail_stats_max": "0.0",
         "phq_impact_severe_weather_cold_wave_storm_retail_stats_max": "0.0",
         "phq_impact_severe_weather_dust_retail_stats_max": "0.0",
         "phq_impact_severe_weather_dust_storm_retail_stats_max": "0.0",
         "phq_impact_severe_weather_flood_retail_stats_max": "9.0",
         "phq_impact_severe_weather_heat_wave_retail_stats_max": "0.0",
         "phq_impact_severe_weather_hurricane_retail_stats_max": "0.0",
         "phq_impact_severe_weather_thunderstorm_retail_stats_max": "0.0",
         "phq_impact_severe_weather_tornado_retail_stats_max": "0.0",
         "phq_impact_severe_weather_tropical_storm_retail_stats_max": "0.0"
        },
        {
         "_deepnote_index_column": "6",
         "date": "2021-09-07",
         "phq_impact_severe_weather_air_quality_retail_stats_max": "0.0",
         "phq_impact_severe_weather_blizzard_retail_stats_max": "0.0",
         "phq_impact_severe_weather_cold_wave_retail_stats_max": "0.0",
         "phq_impact_severe_weather_cold_wave_snow_retail_stats_max": "0.0",
         "phq_impact_severe_weather_cold_wave_storm_retail_stats_max": "0.0",
         "phq_impact_severe_weather_dust_retail_stats_max": "0.0",
         "phq_impact_severe_weather_dust_storm_retail_stats_max": "0.0",
         "phq_impact_severe_weather_flood_retail_stats_max": "19.0",
         "phq_impact_severe_weather_heat_wave_retail_stats_max": "0.0",
         "phq_impact_severe_weather_hurricane_retail_stats_max": "0.0",
         "phq_impact_severe_weather_thunderstorm_retail_stats_max": "0.0",
         "phq_impact_severe_weather_tornado_retail_stats_max": "0.0",
         "phq_impact_severe_weather_tropical_storm_retail_stats_max": "0.0"
        },
        {
         "_deepnote_index_column": "7",
         "date": "2021-09-08",
         "phq_impact_severe_weather_air_quality_retail_stats_max": "0.0",
         "phq_impact_severe_weather_blizzard_retail_stats_max": "0.0",
         "phq_impact_severe_weather_cold_wave_retail_stats_max": "0.0",
         "phq_impact_severe_weather_cold_wave_snow_retail_stats_max": "0.0",
         "phq_impact_severe_weather_cold_wave_storm_retail_stats_max": "0.0",
         "phq_impact_severe_weather_dust_retail_stats_max": "0.0",
         "phq_impact_severe_weather_dust_storm_retail_stats_max": "0.0",
         "phq_impact_severe_weather_flood_retail_stats_max": "56.0",
         "phq_impact_severe_weather_heat_wave_retail_stats_max": "0.0",
         "phq_impact_severe_weather_hurricane_retail_stats_max": "0.0",
         "phq_impact_severe_weather_thunderstorm_retail_stats_max": "0.0",
         "phq_impact_severe_weather_tornado_retail_stats_max": "0.0",
         "phq_impact_severe_weather_tropical_storm_retail_stats_max": "0.0"
        },
        {
         "_deepnote_index_column": "8",
         "date": "2021-09-09",
         "phq_impact_severe_weather_air_quality_retail_stats_max": "0.0",
         "phq_impact_severe_weather_blizzard_retail_stats_max": "0.0",
         "phq_impact_severe_weather_cold_wave_retail_stats_max": "0.0",
         "phq_impact_severe_weather_cold_wave_snow_retail_stats_max": "0.0",
         "phq_impact_severe_weather_cold_wave_storm_retail_stats_max": "0.0",
         "phq_impact_severe_weather_dust_retail_stats_max": "0.0",
         "phq_impact_severe_weather_dust_storm_retail_stats_max": "0.0",
         "phq_impact_severe_weather_flood_retail_stats_max": "0.0",
         "phq_impact_severe_weather_heat_wave_retail_stats_max": "0.0",
         "phq_impact_severe_weather_hurricane_retail_stats_max": "0.0",
         "phq_impact_severe_weather_thunderstorm_retail_stats_max": "0.0",
         "phq_impact_severe_weather_tornado_retail_stats_max": "0.0",
         "phq_impact_severe_weather_tropical_storm_retail_stats_max": "0.0"
        },
        {
         "_deepnote_index_column": "9",
         "date": "2021-09-10",
         "phq_impact_severe_weather_air_quality_retail_stats_max": "0.0",
         "phq_impact_severe_weather_blizzard_retail_stats_max": "0.0",
         "phq_impact_severe_weather_cold_wave_retail_stats_max": "0.0",
         "phq_impact_severe_weather_cold_wave_snow_retail_stats_max": "0.0",
         "phq_impact_severe_weather_cold_wave_storm_retail_stats_max": "0.0",
         "phq_impact_severe_weather_dust_retail_stats_max": "0.0",
         "phq_impact_severe_weather_dust_storm_retail_stats_max": "0.0",
         "phq_impact_severe_weather_flood_retail_stats_max": "0.0",
         "phq_impact_severe_weather_heat_wave_retail_stats_max": "0.0",
         "phq_impact_severe_weather_hurricane_retail_stats_max": "0.0",
         "phq_impact_severe_weather_thunderstorm_retail_stats_max": "0.0",
         "phq_impact_severe_weather_tornado_retail_stats_max": "0.0",
         "phq_impact_severe_weather_tropical_storm_retail_stats_max": "0.0"
        }
       ]
      },
      "text/html": [
       "<div>\n",
       "<style scoped>\n",
       "    .dataframe tbody tr th:only-of-type {\n",
       "        vertical-align: middle;\n",
       "    }\n",
       "\n",
       "    .dataframe tbody tr th {\n",
       "        vertical-align: top;\n",
       "    }\n",
       "\n",
       "    .dataframe thead th {\n",
       "        text-align: right;\n",
       "    }\n",
       "</style>\n",
       "<table border=\"1\" class=\"dataframe\">\n",
       "  <thead>\n",
       "    <tr style=\"text-align: right;\">\n",
       "      <th></th>\n",
       "      <th>date</th>\n",
       "      <th>phq_impact_severe_weather_air_quality_retail_stats_max</th>\n",
       "      <th>phq_impact_severe_weather_blizzard_retail_stats_max</th>\n",
       "      <th>phq_impact_severe_weather_cold_wave_retail_stats_max</th>\n",
       "      <th>phq_impact_severe_weather_cold_wave_snow_retail_stats_max</th>\n",
       "      <th>phq_impact_severe_weather_cold_wave_storm_retail_stats_max</th>\n",
       "      <th>phq_impact_severe_weather_dust_retail_stats_max</th>\n",
       "      <th>phq_impact_severe_weather_dust_storm_retail_stats_max</th>\n",
       "      <th>phq_impact_severe_weather_flood_retail_stats_max</th>\n",
       "      <th>phq_impact_severe_weather_heat_wave_retail_stats_max</th>\n",
       "      <th>phq_impact_severe_weather_hurricane_retail_stats_max</th>\n",
       "      <th>phq_impact_severe_weather_thunderstorm_retail_stats_max</th>\n",
       "      <th>phq_impact_severe_weather_tornado_retail_stats_max</th>\n",
       "      <th>phq_impact_severe_weather_tropical_storm_retail_stats_max</th>\n",
       "    </tr>\n",
       "  </thead>\n",
       "  <tbody>\n",
       "    <tr>\n",
       "      <th>0</th>\n",
       "      <td>2021-09-01</td>\n",
       "      <td>0.0</td>\n",
       "      <td>0.0</td>\n",
       "      <td>0.0</td>\n",
       "      <td>0.0</td>\n",
       "      <td>0.0</td>\n",
       "      <td>0.0</td>\n",
       "      <td>0.0</td>\n",
       "      <td>82.0</td>\n",
       "      <td>0.0</td>\n",
       "      <td>0.0</td>\n",
       "      <td>86.0</td>\n",
       "      <td>60.0</td>\n",
       "      <td>0.0</td>\n",
       "    </tr>\n",
       "    <tr>\n",
       "      <th>1</th>\n",
       "      <td>2021-09-02</td>\n",
       "      <td>0.0</td>\n",
       "      <td>0.0</td>\n",
       "      <td>0.0</td>\n",
       "      <td>0.0</td>\n",
       "      <td>0.0</td>\n",
       "      <td>0.0</td>\n",
       "      <td>0.0</td>\n",
       "      <td>80.0</td>\n",
       "      <td>0.0</td>\n",
       "      <td>0.0</td>\n",
       "      <td>34.0</td>\n",
       "      <td>0.0</td>\n",
       "      <td>0.0</td>\n",
       "    </tr>\n",
       "    <tr>\n",
       "      <th>2</th>\n",
       "      <td>2021-09-03</td>\n",
       "      <td>0.0</td>\n",
       "      <td>0.0</td>\n",
       "      <td>0.0</td>\n",
       "      <td>0.0</td>\n",
       "      <td>0.0</td>\n",
       "      <td>0.0</td>\n",
       "      <td>0.0</td>\n",
       "      <td>28.0</td>\n",
       "      <td>0.0</td>\n",
       "      <td>0.0</td>\n",
       "      <td>0.0</td>\n",
       "      <td>0.0</td>\n",
       "      <td>0.0</td>\n",
       "    </tr>\n",
       "    <tr>\n",
       "      <th>3</th>\n",
       "      <td>2021-09-04</td>\n",
       "      <td>0.0</td>\n",
       "      <td>0.0</td>\n",
       "      <td>0.0</td>\n",
       "      <td>0.0</td>\n",
       "      <td>0.0</td>\n",
       "      <td>0.0</td>\n",
       "      <td>0.0</td>\n",
       "      <td>0.0</td>\n",
       "      <td>0.0</td>\n",
       "      <td>0.0</td>\n",
       "      <td>0.0</td>\n",
       "      <td>0.0</td>\n",
       "      <td>0.0</td>\n",
       "    </tr>\n",
       "    <tr>\n",
       "      <th>4</th>\n",
       "      <td>2021-09-05</td>\n",
       "      <td>0.0</td>\n",
       "      <td>0.0</td>\n",
       "      <td>0.0</td>\n",
       "      <td>0.0</td>\n",
       "      <td>0.0</td>\n",
       "      <td>0.0</td>\n",
       "      <td>0.0</td>\n",
       "      <td>0.0</td>\n",
       "      <td>0.0</td>\n",
       "      <td>0.0</td>\n",
       "      <td>0.0</td>\n",
       "      <td>0.0</td>\n",
       "      <td>0.0</td>\n",
       "    </tr>\n",
       "    <tr>\n",
       "      <th>...</th>\n",
       "      <td>...</td>\n",
       "      <td>...</td>\n",
       "      <td>...</td>\n",
       "      <td>...</td>\n",
       "      <td>...</td>\n",
       "      <td>...</td>\n",
       "      <td>...</td>\n",
       "      <td>...</td>\n",
       "      <td>...</td>\n",
       "      <td>...</td>\n",
       "      <td>...</td>\n",
       "      <td>...</td>\n",
       "      <td>...</td>\n",
       "      <td>...</td>\n",
       "    </tr>\n",
       "    <tr>\n",
       "      <th>84</th>\n",
       "      <td>2021-11-24</td>\n",
       "      <td>0.0</td>\n",
       "      <td>0.0</td>\n",
       "      <td>0.0</td>\n",
       "      <td>0.0</td>\n",
       "      <td>0.0</td>\n",
       "      <td>0.0</td>\n",
       "      <td>0.0</td>\n",
       "      <td>0.0</td>\n",
       "      <td>0.0</td>\n",
       "      <td>0.0</td>\n",
       "      <td>0.0</td>\n",
       "      <td>0.0</td>\n",
       "      <td>0.0</td>\n",
       "    </tr>\n",
       "    <tr>\n",
       "      <th>85</th>\n",
       "      <td>2021-11-25</td>\n",
       "      <td>0.0</td>\n",
       "      <td>0.0</td>\n",
       "      <td>0.0</td>\n",
       "      <td>0.0</td>\n",
       "      <td>0.0</td>\n",
       "      <td>0.0</td>\n",
       "      <td>0.0</td>\n",
       "      <td>0.0</td>\n",
       "      <td>0.0</td>\n",
       "      <td>0.0</td>\n",
       "      <td>0.0</td>\n",
       "      <td>0.0</td>\n",
       "      <td>0.0</td>\n",
       "    </tr>\n",
       "    <tr>\n",
       "      <th>86</th>\n",
       "      <td>2021-11-26</td>\n",
       "      <td>0.0</td>\n",
       "      <td>0.0</td>\n",
       "      <td>0.0</td>\n",
       "      <td>0.0</td>\n",
       "      <td>0.0</td>\n",
       "      <td>0.0</td>\n",
       "      <td>0.0</td>\n",
       "      <td>0.0</td>\n",
       "      <td>0.0</td>\n",
       "      <td>0.0</td>\n",
       "      <td>0.0</td>\n",
       "      <td>0.0</td>\n",
       "      <td>0.0</td>\n",
       "    </tr>\n",
       "    <tr>\n",
       "      <th>87</th>\n",
       "      <td>2021-11-27</td>\n",
       "      <td>0.0</td>\n",
       "      <td>0.0</td>\n",
       "      <td>0.0</td>\n",
       "      <td>0.0</td>\n",
       "      <td>0.0</td>\n",
       "      <td>0.0</td>\n",
       "      <td>0.0</td>\n",
       "      <td>0.0</td>\n",
       "      <td>0.0</td>\n",
       "      <td>0.0</td>\n",
       "      <td>0.0</td>\n",
       "      <td>0.0</td>\n",
       "      <td>0.0</td>\n",
       "    </tr>\n",
       "    <tr>\n",
       "      <th>88</th>\n",
       "      <td>2021-11-28</td>\n",
       "      <td>0.0</td>\n",
       "      <td>0.0</td>\n",
       "      <td>0.0</td>\n",
       "      <td>0.0</td>\n",
       "      <td>0.0</td>\n",
       "      <td>0.0</td>\n",
       "      <td>0.0</td>\n",
       "      <td>0.0</td>\n",
       "      <td>0.0</td>\n",
       "      <td>0.0</td>\n",
       "      <td>0.0</td>\n",
       "      <td>0.0</td>\n",
       "      <td>0.0</td>\n",
       "    </tr>\n",
       "  </tbody>\n",
       "</table>\n",
       "<p>89 rows × 14 columns</p>\n",
       "</div>"
      ],
      "text/plain": [
       "          date  phq_impact_severe_weather_air_quality_retail_stats_max  \\\n",
       "0   2021-09-01                                                0.0        \n",
       "1   2021-09-02                                                0.0        \n",
       "2   2021-09-03                                                0.0        \n",
       "3   2021-09-04                                                0.0        \n",
       "4   2021-09-05                                                0.0        \n",
       "..         ...                                                ...        \n",
       "84  2021-11-24                                                0.0        \n",
       "85  2021-11-25                                                0.0        \n",
       "86  2021-11-26                                                0.0        \n",
       "87  2021-11-27                                                0.0        \n",
       "88  2021-11-28                                                0.0        \n",
       "\n",
       "    phq_impact_severe_weather_blizzard_retail_stats_max  \\\n",
       "0                                                 0.0     \n",
       "1                                                 0.0     \n",
       "2                                                 0.0     \n",
       "3                                                 0.0     \n",
       "4                                                 0.0     \n",
       "..                                                ...     \n",
       "84                                                0.0     \n",
       "85                                                0.0     \n",
       "86                                                0.0     \n",
       "87                                                0.0     \n",
       "88                                                0.0     \n",
       "\n",
       "    phq_impact_severe_weather_cold_wave_retail_stats_max  \\\n",
       "0                                                 0.0      \n",
       "1                                                 0.0      \n",
       "2                                                 0.0      \n",
       "3                                                 0.0      \n",
       "4                                                 0.0      \n",
       "..                                                ...      \n",
       "84                                                0.0      \n",
       "85                                                0.0      \n",
       "86                                                0.0      \n",
       "87                                                0.0      \n",
       "88                                                0.0      \n",
       "\n",
       "    phq_impact_severe_weather_cold_wave_snow_retail_stats_max  \\\n",
       "0                                                 0.0           \n",
       "1                                                 0.0           \n",
       "2                                                 0.0           \n",
       "3                                                 0.0           \n",
       "4                                                 0.0           \n",
       "..                                                ...           \n",
       "84                                                0.0           \n",
       "85                                                0.0           \n",
       "86                                                0.0           \n",
       "87                                                0.0           \n",
       "88                                                0.0           \n",
       "\n",
       "    phq_impact_severe_weather_cold_wave_storm_retail_stats_max  \\\n",
       "0                                                 0.0            \n",
       "1                                                 0.0            \n",
       "2                                                 0.0            \n",
       "3                                                 0.0            \n",
       "4                                                 0.0            \n",
       "..                                                ...            \n",
       "84                                                0.0            \n",
       "85                                                0.0            \n",
       "86                                                0.0            \n",
       "87                                                0.0            \n",
       "88                                                0.0            \n",
       "\n",
       "    phq_impact_severe_weather_dust_retail_stats_max  \\\n",
       "0                                               0.0   \n",
       "1                                               0.0   \n",
       "2                                               0.0   \n",
       "3                                               0.0   \n",
       "4                                               0.0   \n",
       "..                                              ...   \n",
       "84                                              0.0   \n",
       "85                                              0.0   \n",
       "86                                              0.0   \n",
       "87                                              0.0   \n",
       "88                                              0.0   \n",
       "\n",
       "    phq_impact_severe_weather_dust_storm_retail_stats_max  \\\n",
       "0                                                 0.0       \n",
       "1                                                 0.0       \n",
       "2                                                 0.0       \n",
       "3                                                 0.0       \n",
       "4                                                 0.0       \n",
       "..                                                ...       \n",
       "84                                                0.0       \n",
       "85                                                0.0       \n",
       "86                                                0.0       \n",
       "87                                                0.0       \n",
       "88                                                0.0       \n",
       "\n",
       "    phq_impact_severe_weather_flood_retail_stats_max  \\\n",
       "0                                               82.0   \n",
       "1                                               80.0   \n",
       "2                                               28.0   \n",
       "3                                                0.0   \n",
       "4                                                0.0   \n",
       "..                                               ...   \n",
       "84                                               0.0   \n",
       "85                                               0.0   \n",
       "86                                               0.0   \n",
       "87                                               0.0   \n",
       "88                                               0.0   \n",
       "\n",
       "    phq_impact_severe_weather_heat_wave_retail_stats_max  \\\n",
       "0                                                 0.0      \n",
       "1                                                 0.0      \n",
       "2                                                 0.0      \n",
       "3                                                 0.0      \n",
       "4                                                 0.0      \n",
       "..                                                ...      \n",
       "84                                                0.0      \n",
       "85                                                0.0      \n",
       "86                                                0.0      \n",
       "87                                                0.0      \n",
       "88                                                0.0      \n",
       "\n",
       "    phq_impact_severe_weather_hurricane_retail_stats_max  \\\n",
       "0                                                 0.0      \n",
       "1                                                 0.0      \n",
       "2                                                 0.0      \n",
       "3                                                 0.0      \n",
       "4                                                 0.0      \n",
       "..                                                ...      \n",
       "84                                                0.0      \n",
       "85                                                0.0      \n",
       "86                                                0.0      \n",
       "87                                                0.0      \n",
       "88                                                0.0      \n",
       "\n",
       "    phq_impact_severe_weather_thunderstorm_retail_stats_max  \\\n",
       "0                                                86.0         \n",
       "1                                                34.0         \n",
       "2                                                 0.0         \n",
       "3                                                 0.0         \n",
       "4                                                 0.0         \n",
       "..                                                ...         \n",
       "84                                                0.0         \n",
       "85                                                0.0         \n",
       "86                                                0.0         \n",
       "87                                                0.0         \n",
       "88                                                0.0         \n",
       "\n",
       "    phq_impact_severe_weather_tornado_retail_stats_max  \\\n",
       "0                                                60.0    \n",
       "1                                                 0.0    \n",
       "2                                                 0.0    \n",
       "3                                                 0.0    \n",
       "4                                                 0.0    \n",
       "..                                                ...    \n",
       "84                                                0.0    \n",
       "85                                                0.0    \n",
       "86                                                0.0    \n",
       "87                                                0.0    \n",
       "88                                                0.0    \n",
       "\n",
       "    phq_impact_severe_weather_tropical_storm_retail_stats_max  \n",
       "0                                                 0.0          \n",
       "1                                                 0.0          \n",
       "2                                                 0.0          \n",
       "3                                                 0.0          \n",
       "4                                                 0.0          \n",
       "..                                                ...          \n",
       "84                                                0.0          \n",
       "85                                                0.0          \n",
       "86                                                0.0          \n",
       "87                                                0.0          \n",
       "88                                                0.0          \n",
       "\n",
       "[89 rows x 14 columns]"
      ]
     },
     "execution_count": 23,
     "metadata": {},
     "output_type": "execute_result"
    }
   ],
   "source": [
    "results = []\n",
    "\n",
    "for feature in phq.features.obtain_features(parameters):\n",
    "    results.append(flatten_dict(feature.to_dict(), '', '_'))\n",
    "\n",
    "feature_df = pd.DataFrame(results)\n",
    "\n",
    "feature_df"
   ]
  },
  {
   "cell_type": "markdown",
   "metadata": {
    "cell_id": "f46b5e6a184e4c73a2f85838fca698d4",
    "deepnote_cell_height": 46,
    "deepnote_cell_type": "markdown",
    "tags": []
   },
   "source": []
  },
  {
   "cell_type": "markdown",
   "metadata": {
    "cell_id": "caf5ddb257a04ebe97029e4e22c4a48b",
    "deepnote_cell_height": 203.5625,
    "deepnote_cell_type": "markdown",
    "tags": []
   },
   "source": [
    "<a id='wide_range'></a>\n",
    "## Using a longer date range\n",
    "As we mentioned earlier, the Features API only allows a range of up to 90 days, so if want to get a longer range of data, multiple requests have to be made. In this section we will provide examples of how to extract features for more than 90 days. Please note that these examples are not using the SDK.\n",
    "\n",
    "You may want to use this approach to download a data set of historic data to train your model."
   ]
  },
  {
   "cell_type": "markdown",
   "metadata": {
    "cell_id": "c068fbc3971046e6a23021e143ee3fc6",
    "deepnote_cell_height": 114.390625,
    "deepnote_cell_type": "markdown",
    "tags": []
   },
   "source": [
    "<a id='functions_wide'></a>\n",
    "### Common functions\n",
    "Functions to split wide data range into multiple 90 days ranges."
   ]
  },
  {
   "cell_type": "code",
   "execution_count": null,
   "metadata": {
    "cell_id": "121b11c60f4e46189dea269965424e19",
    "deepnote_cell_height": 454,
    "deepnote_cell_type": "code",
    "deepnote_to_be_reexecuted": false,
    "execution_millis": 2,
    "execution_start": 1662593592879,
    "source_hash": "509638cc",
    "tags": []
   },
   "outputs": [],
   "source": [
    "DATE_FORMAT = \"%Y-%m-%d\"\n",
    "FEATURES_API_URL = \"https://api.predicthq.com/v1/features\"\n",
    "\n",
    "phq = Client(access_token=ACCESS_TOKEN)\n",
    "\n",
    "def get_date_groups(start, end):\n",
    "    \"\"\"\n",
    "    Features API allows a range of up to 90 days, so we have to do several requests\n",
    "    \"\"\"\n",
    "\n",
    "    def _split_dates(s, e):\n",
    "        capacity = timedelta(days=90)\n",
    "        interval = 1 + int((e - s) / capacity)\n",
    "        for i in range(interval):\n",
    "            yield s + capacity * i\n",
    "        yield e\n",
    "\n",
    "    dates = list(_split_dates(start, end))\n",
    "    for i, (d1, d2) in enumerate(zip(dates, dates[1:])):\n",
    "        if d2 != dates[-1]:\n",
    "            d2 -= timedelta(days=1)\n",
    "        yield d1.strftime(DATE_FORMAT), d2.strftime(DATE_FORMAT)"
   ]
  },
  {
   "cell_type": "markdown",
   "metadata": {
    "cell_id": "12ea1bcd755446b8b914c5c99d931349",
    "deepnote_cell_height": 76,
    "deepnote_cell_type": "markdown",
    "tags": []
   },
   "source": [
    "<a id='attend_wide'></a>\n",
    "### Attendance based features"
   ]
  },
  {
   "cell_type": "code",
   "execution_count": null,
   "metadata": {
    "cell_id": "83e6a1674f2440bb8559790ec97fa225",
    "deepnote_cell_height": 1422,
    "deepnote_cell_type": "code",
    "deepnote_to_be_reexecuted": false,
    "execution_millis": 14074,
    "execution_start": 1662593598598,
    "source_hash": "973267ac",
    "tags": []
   },
   "outputs": [
    {
     "data": {
      "application/vnd.deepnote.dataframe.v3+json": {
       "column_count": 9,
       "columns": [
        {
         "dtype": "object",
         "name": "date",
         "stats": {
          "categories": [
           {
            "count": 1,
            "name": "2021-06-01"
           },
           {
            "count": 1,
            "name": "2021-06-02"
           },
           {
            "count": 397,
            "name": "397 others"
           }
          ],
          "nan_count": 0,
          "unique_count": 399
         }
        },
        {
         "dtype": "float64",
         "name": "phq_attendance_community",
         "stats": {
          "histogram": [
           {
            "bin_end": 1327.7,
            "bin_start": 0,
            "count": 296
           },
           {
            "bin_end": 2655.4,
            "bin_start": 1327.7,
            "count": 71
           },
           {
            "bin_end": 3983.1000000000004,
            "bin_start": 2655.4,
            "count": 20
           },
           {
            "bin_end": 5310.8,
            "bin_start": 3983.1000000000004,
            "count": 8
           },
           {
            "bin_end": 6638.5,
            "bin_start": 5310.8,
            "count": 1
           },
           {
            "bin_end": 7966.200000000001,
            "bin_start": 6638.5,
            "count": 1
           },
           {
            "bin_end": 9293.9,
            "bin_start": 7966.200000000001,
            "count": 1
           },
           {
            "bin_end": 10621.6,
            "bin_start": 9293.9,
            "count": 0
           },
           {
            "bin_end": 11949.300000000001,
            "bin_start": 10621.6,
            "count": 0
           },
           {
            "bin_end": 13277,
            "bin_start": 11949.300000000001,
            "count": 1
           }
          ],
          "max": "13277.0",
          "min": "0.0",
          "nan_count": 0,
          "unique_count": 302
         }
        },
        {
         "dtype": "float64",
         "name": "phq_attendance_concerts",
         "stats": {
          "histogram": [
           {
            "bin_end": 7685.7,
            "bin_start": 0,
            "count": 141
           },
           {
            "bin_end": 15371.4,
            "bin_start": 7685.7,
            "count": 111
           },
           {
            "bin_end": 23057.1,
            "bin_start": 15371.4,
            "count": 57
           },
           {
            "bin_end": 30742.8,
            "bin_start": 23057.1,
            "count": 45
           },
           {
            "bin_end": 38428.5,
            "bin_start": 30742.8,
            "count": 24
           },
           {
            "bin_end": 46114.2,
            "bin_start": 38428.5,
            "count": 10
           },
           {
            "bin_end": 53799.9,
            "bin_start": 46114.2,
            "count": 6
           },
           {
            "bin_end": 61485.6,
            "bin_start": 53799.9,
            "count": 2
           },
           {
            "bin_end": 69171.3,
            "bin_start": 61485.6,
            "count": 0
           },
           {
            "bin_end": 76857,
            "bin_start": 69171.3,
            "count": 3
           }
          ],
          "max": "76857.0",
          "min": "0.0",
          "nan_count": 0,
          "unique_count": 387
         }
        },
        {
         "dtype": "float64",
         "name": "phq_attendance_conferences",
         "stats": {
          "histogram": [
           {
            "bin_end": 10912,
            "bin_start": 0,
            "count": 378
           },
           {
            "bin_end": 21824,
            "bin_start": 10912,
            "count": 17
           },
           {
            "bin_end": 32736,
            "bin_start": 21824,
            "count": 0
           },
           {
            "bin_end": 43648,
            "bin_start": 32736,
            "count": 0
           },
           {
            "bin_end": 54560,
            "bin_start": 43648,
            "count": 0
           },
           {
            "bin_end": 65472,
            "bin_start": 54560,
            "count": 0
           },
           {
            "bin_end": 76384,
            "bin_start": 65472,
            "count": 0
           },
           {
            "bin_end": 87296,
            "bin_start": 76384,
            "count": 2
           },
           {
            "bin_end": 98208,
            "bin_start": 87296,
            "count": 0
           },
           {
            "bin_end": 109120,
            "bin_start": 98208,
            "count": 2
           }
          ],
          "max": "109120.0",
          "min": "0.0",
          "nan_count": 0,
          "unique_count": 141
         }
        },
        {
         "dtype": "float64",
         "name": "phq_attendance_expos",
         "stats": {
          "histogram": [
           {
            "bin_end": 7522.1,
            "bin_start": 0,
            "count": 285
           },
           {
            "bin_end": 15044.2,
            "bin_start": 7522.1,
            "count": 55
           },
           {
            "bin_end": 22566.300000000003,
            "bin_start": 15044.2,
            "count": 22
           },
           {
            "bin_end": 30088.4,
            "bin_start": 22566.300000000003,
            "count": 16
           },
           {
            "bin_end": 37610.5,
            "bin_start": 30088.4,
            "count": 7
           },
           {
            "bin_end": 45132.600000000006,
            "bin_start": 37610.5,
            "count": 2
           },
           {
            "bin_end": 52654.700000000004,
            "bin_start": 45132.600000000006,
            "count": 2
           },
           {
            "bin_end": 60176.8,
            "bin_start": 52654.700000000004,
            "count": 3
           },
           {
            "bin_end": 67698.90000000001,
            "bin_start": 60176.8,
            "count": 4
           },
           {
            "bin_end": 75221,
            "bin_start": 67698.90000000001,
            "count": 3
           }
          ],
          "max": "75221.0",
          "min": "0.0",
          "nan_count": 0,
          "unique_count": 177
         }
        },
        {
         "dtype": "float64",
         "name": "phq_attendance_festivals",
         "stats": {
          "histogram": [
           {
            "bin_end": 200494.5,
            "bin_start": 0,
            "count": 392
           },
           {
            "bin_end": 400989,
            "bin_start": 200494.5,
            "count": 1
           },
           {
            "bin_end": 601483.5,
            "bin_start": 400989,
            "count": 2
           },
           {
            "bin_end": 801978,
            "bin_start": 601483.5,
            "count": 0
           },
           {
            "bin_end": 1002472.5,
            "bin_start": 801978,
            "count": 0
           },
           {
            "bin_end": 1202967,
            "bin_start": 1002472.5,
            "count": 1
           },
           {
            "bin_end": 1403461.5,
            "bin_start": 1202967,
            "count": 0
           },
           {
            "bin_end": 1603956,
            "bin_start": 1403461.5,
            "count": 1
           },
           {
            "bin_end": 1804450.5,
            "bin_start": 1603956,
            "count": 0
           },
           {
            "bin_end": 2004945,
            "bin_start": 1804450.5,
            "count": 2
           }
          ],
          "max": "2004945.0",
          "min": "0.0",
          "nan_count": 0,
          "unique_count": 131
         }
        },
        {
         "dtype": "float64",
         "name": "phq_attendance_performing_arts",
         "stats": {
          "histogram": [
           {
            "bin_end": 7129,
            "bin_start": 323,
            "count": 141
           },
           {
            "bin_end": 13935,
            "bin_start": 7129,
            "count": 26
           },
           {
            "bin_end": 20741,
            "bin_start": 13935,
            "count": 39
           },
           {
            "bin_end": 27547,
            "bin_start": 20741,
            "count": 56
           },
           {
            "bin_end": 34353,
            "bin_start": 27547,
            "count": 64
           },
           {
            "bin_end": 41159,
            "bin_start": 34353,
            "count": 25
           },
           {
            "bin_end": 47965,
            "bin_start": 41159,
            "count": 20
           },
           {
            "bin_end": 54771,
            "bin_start": 47965,
            "count": 19
           },
           {
            "bin_end": 61577,
            "bin_start": 54771,
            "count": 8
           },
           {
            "bin_end": 68383,
            "bin_start": 61577,
            "count": 1
           }
          ],
          "max": "68383.0",
          "min": "323.0",
          "nan_count": 0,
          "unique_count": 380
         }
        },
        {
         "dtype": "float64",
         "name": "phq_attendance_school_holidays",
         "stats": {
          "histogram": [
           {
            "bin_end": 127941,
            "bin_start": 0,
            "count": 280
           },
           {
            "bin_end": 255882,
            "bin_start": 127941,
            "count": 0
           },
           {
            "bin_end": 383823,
            "bin_start": 255882,
            "count": 0
           },
           {
            "bin_end": 511764,
            "bin_start": 383823,
            "count": 0
           },
           {
            "bin_end": 639705,
            "bin_start": 511764,
            "count": 0
           },
           {
            "bin_end": 767646,
            "bin_start": 639705,
            "count": 0
           },
           {
            "bin_end": 895587,
            "bin_start": 767646,
            "count": 0
           },
           {
            "bin_end": 1023528,
            "bin_start": 895587,
            "count": 0
           },
           {
            "bin_end": 1151469,
            "bin_start": 1023528,
            "count": 0
           },
           {
            "bin_end": 1279410,
            "bin_start": 1151469,
            "count": 119
           }
          ],
          "max": "1279410.0",
          "min": "0.0",
          "nan_count": 0,
          "unique_count": 28
         }
        },
        {
         "dtype": "float64",
         "name": "phq_attendance_sports",
         "stats": {
          "histogram": [
           {
            "bin_end": 151384.4,
            "bin_start": 0,
            "count": 398
           },
           {
            "bin_end": 302768.8,
            "bin_start": 151384.4,
            "count": 0
           },
           {
            "bin_end": 454153.19999999995,
            "bin_start": 302768.8,
            "count": 0
           },
           {
            "bin_end": 605537.6,
            "bin_start": 454153.19999999995,
            "count": 0
           },
           {
            "bin_end": 756922,
            "bin_start": 605537.6,
            "count": 0
           },
           {
            "bin_end": 908306.3999999999,
            "bin_start": 756922,
            "count": 0
           },
           {
            "bin_end": 1059690.8,
            "bin_start": 908306.3999999999,
            "count": 0
           },
           {
            "bin_end": 1211075.2,
            "bin_start": 1059690.8,
            "count": 0
           },
           {
            "bin_end": 1362459.5999999999,
            "bin_start": 1211075.2,
            "count": 0
           },
           {
            "bin_end": 1513844,
            "bin_start": 1362459.5999999999,
            "count": 1
           }
          ],
          "max": "1513844.0",
          "min": "0.0",
          "nan_count": 0,
          "unique_count": 206
         }
        },
        {
         "dtype": "int64",
         "name": "_deepnote_index_column"
        }
       ],
       "row_count": 399,
       "rows": [
        {
         "_deepnote_index_column": "0",
         "date": "2021-06-01",
         "phq_attendance_community": "0.0",
         "phq_attendance_concerts": "0.0",
         "phq_attendance_conferences": "0.0",
         "phq_attendance_expos": "36.0",
         "phq_attendance_festivals": "62.0",
         "phq_attendance_performing_arts": "2217.0",
         "phq_attendance_school_holidays": "0.0",
         "phq_attendance_sports": "4195.0"
        },
        {
         "_deepnote_index_column": "1",
         "date": "2021-06-02",
         "phq_attendance_community": "0.0",
         "phq_attendance_concerts": "182.0",
         "phq_attendance_conferences": "0.0",
         "phq_attendance_expos": "36.0",
         "phq_attendance_festivals": "62.0",
         "phq_attendance_performing_arts": "3589.0",
         "phq_attendance_school_holidays": "0.0",
         "phq_attendance_sports": "4655.0"
        },
        {
         "_deepnote_index_column": "2",
         "date": "2021-06-03",
         "phq_attendance_community": "0.0",
         "phq_attendance_concerts": "582.0",
         "phq_attendance_conferences": "0.0",
         "phq_attendance_expos": "36.0",
         "phq_attendance_festivals": "62.0",
         "phq_attendance_performing_arts": "2611.0",
         "phq_attendance_school_holidays": "0.0",
         "phq_attendance_sports": "1746.0"
        },
        {
         "_deepnote_index_column": "3",
         "date": "2021-06-04",
         "phq_attendance_community": "800.0",
         "phq_attendance_concerts": "1196.0",
         "phq_attendance_conferences": "324.0",
         "phq_attendance_expos": "43.0",
         "phq_attendance_festivals": "78.0",
         "phq_attendance_performing_arts": "2792.0",
         "phq_attendance_school_holidays": "0.0",
         "phq_attendance_sports": "0.0"
        },
        {
         "_deepnote_index_column": "4",
         "date": "2021-06-05",
         "phq_attendance_community": "320.0",
         "phq_attendance_concerts": "1539.0",
         "phq_attendance_conferences": "0.0",
         "phq_attendance_expos": "0.0",
         "phq_attendance_festivals": "94.0",
         "phq_attendance_performing_arts": "5147.0",
         "phq_attendance_school_holidays": "0.0",
         "phq_attendance_sports": "4386.0"
        },
        {
         "_deepnote_index_column": "5",
         "date": "2021-06-06",
         "phq_attendance_community": "0.0",
         "phq_attendance_concerts": "1198.0",
         "phq_attendance_conferences": "261.0",
         "phq_attendance_expos": "0.0",
         "phq_attendance_festivals": "0.0",
         "phq_attendance_performing_arts": "2721.0",
         "phq_attendance_school_holidays": "0.0",
         "phq_attendance_sports": "0.0"
        },
        {
         "_deepnote_index_column": "6",
         "date": "2021-06-07",
         "phq_attendance_community": "0.0",
         "phq_attendance_concerts": "0.0",
         "phq_attendance_conferences": "1632.0",
         "phq_attendance_expos": "0.0",
         "phq_attendance_festivals": "0.0",
         "phq_attendance_performing_arts": "559.0",
         "phq_attendance_school_holidays": "0.0",
         "phq_attendance_sports": "4397.0"
        },
        {
         "_deepnote_index_column": "7",
         "date": "2021-06-08",
         "phq_attendance_community": "300.0",
         "phq_attendance_concerts": "0.0",
         "phq_attendance_conferences": "400.0",
         "phq_attendance_expos": "0.0",
         "phq_attendance_festivals": "0.0",
         "phq_attendance_performing_arts": "2492.0",
         "phq_attendance_school_holidays": "0.0",
         "phq_attendance_sports": "0.0"
        },
        {
         "_deepnote_index_column": "8",
         "date": "2021-06-09",
         "phq_attendance_community": "0.0",
         "phq_attendance_concerts": "464.0",
         "phq_attendance_conferences": "876.0",
         "phq_attendance_expos": "0.0",
         "phq_attendance_festivals": "8343.0",
         "phq_attendance_performing_arts": "3806.0",
         "phq_attendance_school_holidays": "0.0",
         "phq_attendance_sports": "0.0"
        },
        {
         "_deepnote_index_column": "9",
         "date": "2021-06-10",
         "phq_attendance_community": "176.0",
         "phq_attendance_concerts": "291.0",
         "phq_attendance_conferences": "876.0",
         "phq_attendance_expos": "569.0",
         "phq_attendance_festivals": "8343.0",
         "phq_attendance_performing_arts": "2765.0",
         "phq_attendance_school_holidays": "0.0",
         "phq_attendance_sports": "0.0"
        }
       ]
      },
      "text/html": [
       "<div>\n",
       "<style scoped>\n",
       "    .dataframe tbody tr th:only-of-type {\n",
       "        vertical-align: middle;\n",
       "    }\n",
       "\n",
       "    .dataframe tbody tr th {\n",
       "        vertical-align: top;\n",
       "    }\n",
       "\n",
       "    .dataframe thead th {\n",
       "        text-align: right;\n",
       "    }\n",
       "</style>\n",
       "<table border=\"1\" class=\"dataframe\">\n",
       "  <thead>\n",
       "    <tr style=\"text-align: right;\">\n",
       "      <th></th>\n",
       "      <th>date</th>\n",
       "      <th>phq_attendance_community</th>\n",
       "      <th>phq_attendance_concerts</th>\n",
       "      <th>phq_attendance_conferences</th>\n",
       "      <th>phq_attendance_expos</th>\n",
       "      <th>phq_attendance_festivals</th>\n",
       "      <th>phq_attendance_performing_arts</th>\n",
       "      <th>phq_attendance_school_holidays</th>\n",
       "      <th>phq_attendance_sports</th>\n",
       "    </tr>\n",
       "  </thead>\n",
       "  <tbody>\n",
       "    <tr>\n",
       "      <th>0</th>\n",
       "      <td>2021-06-01</td>\n",
       "      <td>0.0</td>\n",
       "      <td>0.0</td>\n",
       "      <td>0.0</td>\n",
       "      <td>36.0</td>\n",
       "      <td>62.0</td>\n",
       "      <td>2217.0</td>\n",
       "      <td>0.0</td>\n",
       "      <td>4195.0</td>\n",
       "    </tr>\n",
       "    <tr>\n",
       "      <th>1</th>\n",
       "      <td>2021-06-02</td>\n",
       "      <td>0.0</td>\n",
       "      <td>182.0</td>\n",
       "      <td>0.0</td>\n",
       "      <td>36.0</td>\n",
       "      <td>62.0</td>\n",
       "      <td>3589.0</td>\n",
       "      <td>0.0</td>\n",
       "      <td>4655.0</td>\n",
       "    </tr>\n",
       "    <tr>\n",
       "      <th>2</th>\n",
       "      <td>2021-06-03</td>\n",
       "      <td>0.0</td>\n",
       "      <td>582.0</td>\n",
       "      <td>0.0</td>\n",
       "      <td>36.0</td>\n",
       "      <td>62.0</td>\n",
       "      <td>2611.0</td>\n",
       "      <td>0.0</td>\n",
       "      <td>1746.0</td>\n",
       "    </tr>\n",
       "    <tr>\n",
       "      <th>3</th>\n",
       "      <td>2021-06-04</td>\n",
       "      <td>800.0</td>\n",
       "      <td>1196.0</td>\n",
       "      <td>324.0</td>\n",
       "      <td>43.0</td>\n",
       "      <td>78.0</td>\n",
       "      <td>2792.0</td>\n",
       "      <td>0.0</td>\n",
       "      <td>0.0</td>\n",
       "    </tr>\n",
       "    <tr>\n",
       "      <th>4</th>\n",
       "      <td>2021-06-05</td>\n",
       "      <td>320.0</td>\n",
       "      <td>1539.0</td>\n",
       "      <td>0.0</td>\n",
       "      <td>0.0</td>\n",
       "      <td>94.0</td>\n",
       "      <td>5147.0</td>\n",
       "      <td>0.0</td>\n",
       "      <td>4386.0</td>\n",
       "    </tr>\n",
       "    <tr>\n",
       "      <th>...</th>\n",
       "      <td>...</td>\n",
       "      <td>...</td>\n",
       "      <td>...</td>\n",
       "      <td>...</td>\n",
       "      <td>...</td>\n",
       "      <td>...</td>\n",
       "      <td>...</td>\n",
       "      <td>...</td>\n",
       "      <td>...</td>\n",
       "    </tr>\n",
       "    <tr>\n",
       "      <th>394</th>\n",
       "      <td>2022-06-30</td>\n",
       "      <td>1406.0</td>\n",
       "      <td>32686.0</td>\n",
       "      <td>600.0</td>\n",
       "      <td>43.0</td>\n",
       "      <td>0.0</td>\n",
       "      <td>29935.0</td>\n",
       "      <td>1268887.0</td>\n",
       "      <td>8090.0</td>\n",
       "    </tr>\n",
       "    <tr>\n",
       "      <th>395</th>\n",
       "      <td>2022-07-01</td>\n",
       "      <td>3197.0</td>\n",
       "      <td>53474.0</td>\n",
       "      <td>100.0</td>\n",
       "      <td>0.0</td>\n",
       "      <td>14100.0</td>\n",
       "      <td>25619.0</td>\n",
       "      <td>1268887.0</td>\n",
       "      <td>0.0</td>\n",
       "    </tr>\n",
       "    <tr>\n",
       "      <th>396</th>\n",
       "      <td>2022-07-02</td>\n",
       "      <td>4146.0</td>\n",
       "      <td>17088.0</td>\n",
       "      <td>100.0</td>\n",
       "      <td>0.0</td>\n",
       "      <td>21023.0</td>\n",
       "      <td>46230.0</td>\n",
       "      <td>1268887.0</td>\n",
       "      <td>600.0</td>\n",
       "    </tr>\n",
       "    <tr>\n",
       "      <th>397</th>\n",
       "      <td>2022-07-03</td>\n",
       "      <td>1638.0</td>\n",
       "      <td>29600.0</td>\n",
       "      <td>100.0</td>\n",
       "      <td>0.0</td>\n",
       "      <td>16727.0</td>\n",
       "      <td>29335.0</td>\n",
       "      <td>1268887.0</td>\n",
       "      <td>600.0</td>\n",
       "    </tr>\n",
       "    <tr>\n",
       "      <th>398</th>\n",
       "      <td>2022-07-04</td>\n",
       "      <td>986.0</td>\n",
       "      <td>9155.0</td>\n",
       "      <td>100.0</td>\n",
       "      <td>0.0</td>\n",
       "      <td>11000.0</td>\n",
       "      <td>2977.0</td>\n",
       "      <td>1268887.0</td>\n",
       "      <td>0.0</td>\n",
       "    </tr>\n",
       "  </tbody>\n",
       "</table>\n",
       "<p>399 rows × 9 columns</p>\n",
       "</div>"
      ],
      "text/plain": [
       "           date  phq_attendance_community  phq_attendance_concerts  \\\n",
       "0    2021-06-01                       0.0                      0.0   \n",
       "1    2021-06-02                       0.0                    182.0   \n",
       "2    2021-06-03                       0.0                    582.0   \n",
       "3    2021-06-04                     800.0                   1196.0   \n",
       "4    2021-06-05                     320.0                   1539.0   \n",
       "..          ...                       ...                      ...   \n",
       "394  2022-06-30                    1406.0                  32686.0   \n",
       "395  2022-07-01                    3197.0                  53474.0   \n",
       "396  2022-07-02                    4146.0                  17088.0   \n",
       "397  2022-07-03                    1638.0                  29600.0   \n",
       "398  2022-07-04                     986.0                   9155.0   \n",
       "\n",
       "     phq_attendance_conferences  phq_attendance_expos  \\\n",
       "0                           0.0                  36.0   \n",
       "1                           0.0                  36.0   \n",
       "2                           0.0                  36.0   \n",
       "3                         324.0                  43.0   \n",
       "4                           0.0                   0.0   \n",
       "..                          ...                   ...   \n",
       "394                       600.0                  43.0   \n",
       "395                       100.0                   0.0   \n",
       "396                       100.0                   0.0   \n",
       "397                       100.0                   0.0   \n",
       "398                       100.0                   0.0   \n",
       "\n",
       "     phq_attendance_festivals  phq_attendance_performing_arts  \\\n",
       "0                        62.0                          2217.0   \n",
       "1                        62.0                          3589.0   \n",
       "2                        62.0                          2611.0   \n",
       "3                        78.0                          2792.0   \n",
       "4                        94.0                          5147.0   \n",
       "..                        ...                             ...   \n",
       "394                       0.0                         29935.0   \n",
       "395                   14100.0                         25619.0   \n",
       "396                   21023.0                         46230.0   \n",
       "397                   16727.0                         29335.0   \n",
       "398                   11000.0                          2977.0   \n",
       "\n",
       "     phq_attendance_school_holidays  phq_attendance_sports  \n",
       "0                               0.0                 4195.0  \n",
       "1                               0.0                 4655.0  \n",
       "2                               0.0                 1746.0  \n",
       "3                               0.0                    0.0  \n",
       "4                               0.0                 4386.0  \n",
       "..                              ...                    ...  \n",
       "394                       1268887.0                 8090.0  \n",
       "395                       1268887.0                    0.0  \n",
       "396                       1268887.0                  600.0  \n",
       "397                       1268887.0                  600.0  \n",
       "398                       1268887.0                    0.0  \n",
       "\n",
       "[399 rows x 9 columns]"
      ]
     },
     "execution_count": 25,
     "metadata": {},
     "output_type": "execute_result"
    }
   ],
   "source": [
    "categories_attended = [\n",
    "    \"phq_attendance_sports\",\n",
    "    \"phq_attendance_conferences\",\n",
    "    \"phq_attendance_expos\",\n",
    "    \"phq_attendance_concerts\",\n",
    "    \"phq_attendance_festivals\",\n",
    "    \"phq_attendance_performing_arts\",\n",
    "    \"phq_attendance_community\",\n",
    "    \"phq_attendance_school_holidays\",\n",
    "]\n",
    "\n",
    "def get_features_api_attended_data(lat, lon, start, end, radius=5, rank_threshold=30):\n",
    "    start = datetime.strptime(start, DATE_FORMAT).date()\n",
    "    end = datetime.strptime(end, DATE_FORMAT).date()\n",
    "\n",
    "    result = []\n",
    "    for gte, lte in get_date_groups(start, end):\n",
    "        query = {\n",
    "            \"active__gte\": gte,\n",
    "            \"active__lte\": lte,\n",
    "            \"location__geo\": {\"lat\": lat, \"lon\": lon, \"radius\": f\"{radius}mi\"},\n",
    "        }\n",
    "\n",
    "        query.update({f\"{f}__stats\": [\"sum\"] for f in categories_attended})\n",
    "        query.update(\n",
    "            {f\"{f}__phq_rank\": {\"gte\": rank_threshold} for f in categories_attended}\n",
    "        )\n",
    "\n",
    "        features = phq.features.obtain_features(**query)\n",
    "\n",
    "        for feature in features:\n",
    "            record = {}\n",
    "            for k, v in feature.to_dict().items():\n",
    "                if k == \"date\":\n",
    "                    record[k] = v.strftime(\"%Y-%m-%d\")\n",
    "                elif k in categories_attended:\n",
    "                    record[k] = v.get(\"stats\", {}).get(\"sum\")\n",
    "            result.append(record)\n",
    "\n",
    "    return result\n",
    "\n",
    "\n",
    "res = get_features_api_attended_data(40.7079, -74.0115, \"2021-06-01\", \"2022-07-04\", 5, 30)\n",
    "df_attended = pd.DataFrame(res)\n",
    "\n",
    "df_attended"
   ]
  },
  {
   "cell_type": "markdown",
   "metadata": {
    "cell_id": "dc683a2b3a824d34af760b6f59f28176",
    "deepnote_cell_height": 76,
    "deepnote_cell_type": "markdown",
    "tags": []
   },
   "source": [
    "<a id='rank_wide'></a>\n",
    "### Rank based features"
   ]
  },
  {
   "cell_type": "code",
   "execution_count": null,
   "metadata": {
    "cell_id": "81d88787a8274ef6bb38c78a7bd797f7",
    "deepnote_cell_height": 1255,
    "deepnote_cell_type": "code",
    "deepnote_table_loading": false,
    "deepnote_table_state": {
     "filters": [],
     "pageIndex": 39,
     "pageSize": 10,
     "sortBy": []
    },
    "deepnote_to_be_reexecuted": false,
    "execution_millis": 3023,
    "execution_start": 1662593617391,
    "source_hash": "5feec63b",
    "tags": []
   },
   "outputs": [
    {
     "data": {
      "application/vnd.deepnote.dataframe.v3+json": {
       "column_count": 21,
       "columns": [
        {
         "dtype": "object",
         "name": "date",
         "stats": {
          "categories": [
           {
            "count": 1,
            "name": "2021-06-01"
           },
           {
            "count": 1,
            "name": "2021-06-02"
           },
           {
            "count": 397,
            "name": "397 others"
           }
          ],
          "nan_count": 0,
          "unique_count": 399
         }
        },
        {
         "dtype": "float64",
         "name": "phq_rank_health_warnings_level_1",
         "stats": {
          "histogram": [
           {
            "bin_end": -0.4,
            "bin_start": -0.5,
            "count": 0
           },
           {
            "bin_end": -0.3,
            "bin_start": -0.4,
            "count": 0
           },
           {
            "bin_end": -0.19999999999999996,
            "bin_start": -0.3,
            "count": 0
           },
           {
            "bin_end": -0.09999999999999998,
            "bin_start": -0.19999999999999996,
            "count": 0
           },
           {
            "bin_end": 0,
            "bin_start": -0.09999999999999998,
            "count": 0
           },
           {
            "bin_end": 0.10000000000000009,
            "bin_start": 0,
            "count": 399
           },
           {
            "bin_end": 0.20000000000000007,
            "bin_start": 0.10000000000000009,
            "count": 0
           },
           {
            "bin_end": 0.30000000000000004,
            "bin_start": 0.20000000000000007,
            "count": 0
           },
           {
            "bin_end": 0.4,
            "bin_start": 0.30000000000000004,
            "count": 0
           },
           {
            "bin_end": 0.5,
            "bin_start": 0.4,
            "count": 0
           }
          ],
          "max": "0.0",
          "min": "0.0",
          "nan_count": 0,
          "unique_count": 1
         }
        },
        {
         "dtype": "float64",
         "name": "phq_rank_health_warnings_level_2",
         "stats": {
          "histogram": [
           {
            "bin_end": 0.1,
            "bin_start": 0,
            "count": 397
           },
           {
            "bin_end": 0.2,
            "bin_start": 0.1,
            "count": 0
           },
           {
            "bin_end": 0.30000000000000004,
            "bin_start": 0.2,
            "count": 0
           },
           {
            "bin_end": 0.4,
            "bin_start": 0.30000000000000004,
            "count": 0
           },
           {
            "bin_end": 0.5,
            "bin_start": 0.4,
            "count": 0
           },
           {
            "bin_end": 0.6000000000000001,
            "bin_start": 0.5,
            "count": 0
           },
           {
            "bin_end": 0.7000000000000001,
            "bin_start": 0.6000000000000001,
            "count": 0
           },
           {
            "bin_end": 0.8,
            "bin_start": 0.7000000000000001,
            "count": 0
           },
           {
            "bin_end": 0.9,
            "bin_start": 0.8,
            "count": 0
           },
           {
            "bin_end": 1,
            "bin_start": 0.9,
            "count": 2
           }
          ],
          "max": "1.0",
          "min": "0.0",
          "nan_count": 0,
          "unique_count": 2
         }
        },
        {
         "dtype": "float64",
         "name": "phq_rank_health_warnings_level_3",
         "stats": {
          "histogram": [
           {
            "bin_end": -0.4,
            "bin_start": -0.5,
            "count": 0
           },
           {
            "bin_end": -0.3,
            "bin_start": -0.4,
            "count": 0
           },
           {
            "bin_end": -0.19999999999999996,
            "bin_start": -0.3,
            "count": 0
           },
           {
            "bin_end": -0.09999999999999998,
            "bin_start": -0.19999999999999996,
            "count": 0
           },
           {
            "bin_end": 0,
            "bin_start": -0.09999999999999998,
            "count": 0
           },
           {
            "bin_end": 0.10000000000000009,
            "bin_start": 0,
            "count": 399
           },
           {
            "bin_end": 0.20000000000000007,
            "bin_start": 0.10000000000000009,
            "count": 0
           },
           {
            "bin_end": 0.30000000000000004,
            "bin_start": 0.20000000000000007,
            "count": 0
           },
           {
            "bin_end": 0.4,
            "bin_start": 0.30000000000000004,
            "count": 0
           },
           {
            "bin_end": 0.5,
            "bin_start": 0.4,
            "count": 0
           }
          ],
          "max": "0.0",
          "min": "0.0",
          "nan_count": 0,
          "unique_count": 1
         }
        },
        {
         "dtype": "float64",
         "name": "phq_rank_health_warnings_level_4",
         "stats": {
          "histogram": [
           {
            "bin_end": -0.4,
            "bin_start": -0.5,
            "count": 0
           },
           {
            "bin_end": -0.3,
            "bin_start": -0.4,
            "count": 0
           },
           {
            "bin_end": -0.19999999999999996,
            "bin_start": -0.3,
            "count": 0
           },
           {
            "bin_end": -0.09999999999999998,
            "bin_start": -0.19999999999999996,
            "count": 0
           },
           {
            "bin_end": 0,
            "bin_start": -0.09999999999999998,
            "count": 0
           },
           {
            "bin_end": 0.10000000000000009,
            "bin_start": 0,
            "count": 399
           },
           {
            "bin_end": 0.20000000000000007,
            "bin_start": 0.10000000000000009,
            "count": 0
           },
           {
            "bin_end": 0.30000000000000004,
            "bin_start": 0.20000000000000007,
            "count": 0
           },
           {
            "bin_end": 0.4,
            "bin_start": 0.30000000000000004,
            "count": 0
           },
           {
            "bin_end": 0.5,
            "bin_start": 0.4,
            "count": 0
           }
          ],
          "max": "0.0",
          "min": "0.0",
          "nan_count": 0,
          "unique_count": 1
         }
        },
        {
         "dtype": "float64",
         "name": "phq_rank_health_warnings_level_5",
         "stats": {
          "histogram": [
           {
            "bin_end": -0.4,
            "bin_start": -0.5,
            "count": 0
           },
           {
            "bin_end": -0.3,
            "bin_start": -0.4,
            "count": 0
           },
           {
            "bin_end": -0.19999999999999996,
            "bin_start": -0.3,
            "count": 0
           },
           {
            "bin_end": -0.09999999999999998,
            "bin_start": -0.19999999999999996,
            "count": 0
           },
           {
            "bin_end": 0,
            "bin_start": -0.09999999999999998,
            "count": 0
           },
           {
            "bin_end": 0.10000000000000009,
            "bin_start": 0,
            "count": 399
           },
           {
            "bin_end": 0.20000000000000007,
            "bin_start": 0.10000000000000009,
            "count": 0
           },
           {
            "bin_end": 0.30000000000000004,
            "bin_start": 0.20000000000000007,
            "count": 0
           },
           {
            "bin_end": 0.4,
            "bin_start": 0.30000000000000004,
            "count": 0
           },
           {
            "bin_end": 0.5,
            "bin_start": 0.4,
            "count": 0
           }
          ],
          "max": "0.0",
          "min": "0.0",
          "nan_count": 0,
          "unique_count": 1
         }
        },
        {
         "dtype": "float64",
         "name": "phq_rank_observances_level_1",
         "stats": {
          "histogram": [
           {
            "bin_end": -0.4,
            "bin_start": -0.5,
            "count": 0
           },
           {
            "bin_end": -0.3,
            "bin_start": -0.4,
            "count": 0
           },
           {
            "bin_end": -0.19999999999999996,
            "bin_start": -0.3,
            "count": 0
           },
           {
            "bin_end": -0.09999999999999998,
            "bin_start": -0.19999999999999996,
            "count": 0
           },
           {
            "bin_end": 0,
            "bin_start": -0.09999999999999998,
            "count": 0
           },
           {
            "bin_end": 0.10000000000000009,
            "bin_start": 0,
            "count": 399
           },
           {
            "bin_end": 0.20000000000000007,
            "bin_start": 0.10000000000000009,
            "count": 0
           },
           {
            "bin_end": 0.30000000000000004,
            "bin_start": 0.20000000000000007,
            "count": 0
           },
           {
            "bin_end": 0.4,
            "bin_start": 0.30000000000000004,
            "count": 0
           },
           {
            "bin_end": 0.5,
            "bin_start": 0.4,
            "count": 0
           }
          ],
          "max": "0.0",
          "min": "0.0",
          "nan_count": 0,
          "unique_count": 1
         }
        },
        {
         "dtype": "float64",
         "name": "phq_rank_observances_level_2",
         "stats": {
          "histogram": [
           {
            "bin_end": -0.4,
            "bin_start": -0.5,
            "count": 0
           },
           {
            "bin_end": -0.3,
            "bin_start": -0.4,
            "count": 0
           },
           {
            "bin_end": -0.19999999999999996,
            "bin_start": -0.3,
            "count": 0
           },
           {
            "bin_end": -0.09999999999999998,
            "bin_start": -0.19999999999999996,
            "count": 0
           },
           {
            "bin_end": 0,
            "bin_start": -0.09999999999999998,
            "count": 0
           },
           {
            "bin_end": 0.10000000000000009,
            "bin_start": 0,
            "count": 399
           },
           {
            "bin_end": 0.20000000000000007,
            "bin_start": 0.10000000000000009,
            "count": 0
           },
           {
            "bin_end": 0.30000000000000004,
            "bin_start": 0.20000000000000007,
            "count": 0
           },
           {
            "bin_end": 0.4,
            "bin_start": 0.30000000000000004,
            "count": 0
           },
           {
            "bin_end": 0.5,
            "bin_start": 0.4,
            "count": 0
           }
          ],
          "max": "0.0",
          "min": "0.0",
          "nan_count": 0,
          "unique_count": 1
         }
        },
        {
         "dtype": "float64",
         "name": "phq_rank_observances_level_3",
         "stats": {
          "histogram": [
           {
            "bin_end": 0.7,
            "bin_start": 0,
            "count": 156
           },
           {
            "bin_end": 1.4,
            "bin_start": 0.7,
            "count": 135
           },
           {
            "bin_end": 2.0999999999999996,
            "bin_start": 1.4,
            "count": 70
           },
           {
            "bin_end": 2.8,
            "bin_start": 2.0999999999999996,
            "count": 0
           },
           {
            "bin_end": 3.5,
            "bin_start": 2.8,
            "count": 29
           },
           {
            "bin_end": 4.199999999999999,
            "bin_start": 3.5,
            "count": 4
           },
           {
            "bin_end": 4.8999999999999995,
            "bin_start": 4.199999999999999,
            "count": 0
           },
           {
            "bin_end": 5.6,
            "bin_start": 4.8999999999999995,
            "count": 3
           },
           {
            "bin_end": 6.3,
            "bin_start": 5.6,
            "count": 1
           },
           {
            "bin_end": 7,
            "bin_start": 6.3,
            "count": 1
           }
          ],
          "max": "7.0",
          "min": "0.0",
          "nan_count": 0,
          "unique_count": 8
         }
        },
        {
         "dtype": "float64",
         "name": "phq_rank_observances_level_4",
         "stats": {
          "histogram": [
           {
            "bin_end": -0.4,
            "bin_start": -0.5,
            "count": 0
           },
           {
            "bin_end": -0.3,
            "bin_start": -0.4,
            "count": 0
           },
           {
            "bin_end": -0.19999999999999996,
            "bin_start": -0.3,
            "count": 0
           },
           {
            "bin_end": -0.09999999999999998,
            "bin_start": -0.19999999999999996,
            "count": 0
           },
           {
            "bin_end": 0,
            "bin_start": -0.09999999999999998,
            "count": 0
           },
           {
            "bin_end": 0.10000000000000009,
            "bin_start": 0,
            "count": 399
           },
           {
            "bin_end": 0.20000000000000007,
            "bin_start": 0.10000000000000009,
            "count": 0
           },
           {
            "bin_end": 0.30000000000000004,
            "bin_start": 0.20000000000000007,
            "count": 0
           },
           {
            "bin_end": 0.4,
            "bin_start": 0.30000000000000004,
            "count": 0
           },
           {
            "bin_end": 0.5,
            "bin_start": 0.4,
            "count": 0
           }
          ],
          "max": "0.0",
          "min": "0.0",
          "nan_count": 0,
          "unique_count": 1
         }
        },
        {
         "dtype": "float64",
         "name": "phq_rank_observances_level_5",
         "stats": {
          "histogram": [
           {
            "bin_end": 0.1,
            "bin_start": 0,
            "count": 396
           },
           {
            "bin_end": 0.2,
            "bin_start": 0.1,
            "count": 0
           },
           {
            "bin_end": 0.30000000000000004,
            "bin_start": 0.2,
            "count": 0
           },
           {
            "bin_end": 0.4,
            "bin_start": 0.30000000000000004,
            "count": 0
           },
           {
            "bin_end": 0.5,
            "bin_start": 0.4,
            "count": 0
           },
           {
            "bin_end": 0.6000000000000001,
            "bin_start": 0.5,
            "count": 0
           },
           {
            "bin_end": 0.7000000000000001,
            "bin_start": 0.6000000000000001,
            "count": 0
           },
           {
            "bin_end": 0.8,
            "bin_start": 0.7000000000000001,
            "count": 0
           },
           {
            "bin_end": 0.9,
            "bin_start": 0.8,
            "count": 0
           },
           {
            "bin_end": 1,
            "bin_start": 0.9,
            "count": 3
           }
          ],
          "max": "1.0",
          "min": "0.0",
          "nan_count": 0,
          "unique_count": 2
         }
        },
        {
         "dtype": "float64",
         "name": "phq_rank_public_holidays_level_1",
         "stats": {
          "histogram": [
           {
            "bin_end": -0.4,
            "bin_start": -0.5,
            "count": 0
           },
           {
            "bin_end": -0.3,
            "bin_start": -0.4,
            "count": 0
           },
           {
            "bin_end": -0.19999999999999996,
            "bin_start": -0.3,
            "count": 0
           },
           {
            "bin_end": -0.09999999999999998,
            "bin_start": -0.19999999999999996,
            "count": 0
           },
           {
            "bin_end": 0,
            "bin_start": -0.09999999999999998,
            "count": 0
           },
           {
            "bin_end": 0.10000000000000009,
            "bin_start": 0,
            "count": 399
           },
           {
            "bin_end": 0.20000000000000007,
            "bin_start": 0.10000000000000009,
            "count": 0
           },
           {
            "bin_end": 0.30000000000000004,
            "bin_start": 0.20000000000000007,
            "count": 0
           },
           {
            "bin_end": 0.4,
            "bin_start": 0.30000000000000004,
            "count": 0
           },
           {
            "bin_end": 0.5,
            "bin_start": 0.4,
            "count": 0
           }
          ],
          "max": "0.0",
          "min": "0.0",
          "nan_count": 0,
          "unique_count": 1
         }
        },
        {
         "dtype": "float64",
         "name": "phq_rank_public_holidays_level_2",
         "stats": {
          "histogram": [
           {
            "bin_end": -0.4,
            "bin_start": -0.5,
            "count": 0
           },
           {
            "bin_end": -0.3,
            "bin_start": -0.4,
            "count": 0
           },
           {
            "bin_end": -0.19999999999999996,
            "bin_start": -0.3,
            "count": 0
           },
           {
            "bin_end": -0.09999999999999998,
            "bin_start": -0.19999999999999996,
            "count": 0
           },
           {
            "bin_end": 0,
            "bin_start": -0.09999999999999998,
            "count": 0
           },
           {
            "bin_end": 0.10000000000000009,
            "bin_start": 0,
            "count": 399
           },
           {
            "bin_end": 0.20000000000000007,
            "bin_start": 0.10000000000000009,
            "count": 0
           },
           {
            "bin_end": 0.30000000000000004,
            "bin_start": 0.20000000000000007,
            "count": 0
           },
           {
            "bin_end": 0.4,
            "bin_start": 0.30000000000000004,
            "count": 0
           },
           {
            "bin_end": 0.5,
            "bin_start": 0.4,
            "count": 0
           }
          ],
          "max": "0.0",
          "min": "0.0",
          "nan_count": 0,
          "unique_count": 1
         }
        },
        {
         "dtype": "float64",
         "name": "phq_rank_public_holidays_level_3",
         "stats": {
          "histogram": [
           {
            "bin_end": -0.4,
            "bin_start": -0.5,
            "count": 0
           },
           {
            "bin_end": -0.3,
            "bin_start": -0.4,
            "count": 0
           },
           {
            "bin_end": -0.19999999999999996,
            "bin_start": -0.3,
            "count": 0
           },
           {
            "bin_end": -0.09999999999999998,
            "bin_start": -0.19999999999999996,
            "count": 0
           },
           {
            "bin_end": 0,
            "bin_start": -0.09999999999999998,
            "count": 0
           },
           {
            "bin_end": 0.10000000000000009,
            "bin_start": 0,
            "count": 399
           },
           {
            "bin_end": 0.20000000000000007,
            "bin_start": 0.10000000000000009,
            "count": 0
           },
           {
            "bin_end": 0.30000000000000004,
            "bin_start": 0.20000000000000007,
            "count": 0
           },
           {
            "bin_end": 0.4,
            "bin_start": 0.30000000000000004,
            "count": 0
           },
           {
            "bin_end": 0.5,
            "bin_start": 0.4,
            "count": 0
           }
          ],
          "max": "0.0",
          "min": "0.0",
          "nan_count": 0,
          "unique_count": 1
         }
        },
        {
         "dtype": "float64",
         "name": "phq_rank_public_holidays_level_4",
         "stats": {
          "histogram": [
           {
            "bin_end": 0.2,
            "bin_start": 0,
            "count": 385
           },
           {
            "bin_end": 0.4,
            "bin_start": 0.2,
            "count": 0
           },
           {
            "bin_end": 0.6000000000000001,
            "bin_start": 0.4,
            "count": 0
           },
           {
            "bin_end": 0.8,
            "bin_start": 0.6000000000000001,
            "count": 0
           },
           {
            "bin_end": 1,
            "bin_start": 0.8,
            "count": 0
           },
           {
            "bin_end": 1.2000000000000002,
            "bin_start": 1,
            "count": 13
           },
           {
            "bin_end": 1.4000000000000001,
            "bin_start": 1.2000000000000002,
            "count": 0
           },
           {
            "bin_end": 1.6,
            "bin_start": 1.4000000000000001,
            "count": 0
           },
           {
            "bin_end": 1.8,
            "bin_start": 1.6,
            "count": 0
           },
           {
            "bin_end": 2,
            "bin_start": 1.8,
            "count": 1
           }
          ],
          "max": "2.0",
          "min": "0.0",
          "nan_count": 0,
          "unique_count": 3
         }
        },
        {
         "dtype": "float64",
         "name": "phq_rank_public_holidays_level_5",
         "stats": {
          "histogram": [
           {
            "bin_end": 0.1,
            "bin_start": 0,
            "count": 381
           },
           {
            "bin_end": 0.2,
            "bin_start": 0.1,
            "count": 0
           },
           {
            "bin_end": 0.30000000000000004,
            "bin_start": 0.2,
            "count": 0
           },
           {
            "bin_end": 0.4,
            "bin_start": 0.30000000000000004,
            "count": 0
           },
           {
            "bin_end": 0.5,
            "bin_start": 0.4,
            "count": 0
           },
           {
            "bin_end": 0.6000000000000001,
            "bin_start": 0.5,
            "count": 0
           },
           {
            "bin_end": 0.7000000000000001,
            "bin_start": 0.6000000000000001,
            "count": 0
           },
           {
            "bin_end": 0.8,
            "bin_start": 0.7000000000000001,
            "count": 0
           },
           {
            "bin_end": 0.9,
            "bin_start": 0.8,
            "count": 0
           },
           {
            "bin_end": 1,
            "bin_start": 0.9,
            "count": 18
           }
          ],
          "max": "1.0",
          "min": "0.0",
          "nan_count": 0,
          "unique_count": 2
         }
        },
        {
         "dtype": "float64",
         "name": "phq_rank_school_holidays_level_1",
         "stats": {
          "histogram": [
           {
            "bin_end": -0.4,
            "bin_start": -0.5,
            "count": 0
           },
           {
            "bin_end": -0.3,
            "bin_start": -0.4,
            "count": 0
           },
           {
            "bin_end": -0.19999999999999996,
            "bin_start": -0.3,
            "count": 0
           },
           {
            "bin_end": -0.09999999999999998,
            "bin_start": -0.19999999999999996,
            "count": 0
           },
           {
            "bin_end": 0,
            "bin_start": -0.09999999999999998,
            "count": 0
           },
           {
            "bin_end": 0.10000000000000009,
            "bin_start": 0,
            "count": 399
           },
           {
            "bin_end": 0.20000000000000007,
            "bin_start": 0.10000000000000009,
            "count": 0
           },
           {
            "bin_end": 0.30000000000000004,
            "bin_start": 0.20000000000000007,
            "count": 0
           },
           {
            "bin_end": 0.4,
            "bin_start": 0.30000000000000004,
            "count": 0
           },
           {
            "bin_end": 0.5,
            "bin_start": 0.4,
            "count": 0
           }
          ],
          "max": "0.0",
          "min": "0.0",
          "nan_count": 0,
          "unique_count": 1
         }
        },
        {
         "dtype": "float64",
         "name": "phq_rank_school_holidays_level_2",
         "stats": {
          "histogram": [
           {
            "bin_end": -0.4,
            "bin_start": -0.5,
            "count": 0
           },
           {
            "bin_end": -0.3,
            "bin_start": -0.4,
            "count": 0
           },
           {
            "bin_end": -0.19999999999999996,
            "bin_start": -0.3,
            "count": 0
           },
           {
            "bin_end": -0.09999999999999998,
            "bin_start": -0.19999999999999996,
            "count": 0
           },
           {
            "bin_end": 0,
            "bin_start": -0.09999999999999998,
            "count": 0
           },
           {
            "bin_end": 0.10000000000000009,
            "bin_start": 0,
            "count": 399
           },
           {
            "bin_end": 0.20000000000000007,
            "bin_start": 0.10000000000000009,
            "count": 0
           },
           {
            "bin_end": 0.30000000000000004,
            "bin_start": 0.20000000000000007,
            "count": 0
           },
           {
            "bin_end": 0.4,
            "bin_start": 0.30000000000000004,
            "count": 0
           },
           {
            "bin_end": 0.5,
            "bin_start": 0.4,
            "count": 0
           }
          ],
          "max": "0.0",
          "min": "0.0",
          "nan_count": 0,
          "unique_count": 1
         }
        },
        {
         "dtype": "float64",
         "name": "phq_rank_school_holidays_level_3",
         "stats": {
          "histogram": [
           {
            "bin_end": 0.3,
            "bin_start": 0,
            "count": 259
           },
           {
            "bin_end": 0.6,
            "bin_start": 0.3,
            "count": 0
           },
           {
            "bin_end": 0.8999999999999999,
            "bin_start": 0.6,
            "count": 0
           },
           {
            "bin_end": 1.2,
            "bin_start": 0.8999999999999999,
            "count": 22
           },
           {
            "bin_end": 1.5,
            "bin_start": 1.2,
            "count": 0
           },
           {
            "bin_end": 1.7999999999999998,
            "bin_start": 1.5,
            "count": 0
           },
           {
            "bin_end": 2.1,
            "bin_start": 1.7999999999999998,
            "count": 13
           },
           {
            "bin_end": 2.4,
            "bin_start": 2.1,
            "count": 0
           },
           {
            "bin_end": 2.6999999999999997,
            "bin_start": 2.4,
            "count": 0
           },
           {
            "bin_end": 3,
            "bin_start": 2.6999999999999997,
            "count": 105
           }
          ],
          "max": "3.0",
          "min": "0.0",
          "nan_count": 0,
          "unique_count": 4
         }
        },
        {
         "dtype": "float64",
         "name": "phq_rank_school_holidays_level_4",
         "stats": {
          "histogram": [
           {
            "bin_end": 0.5,
            "bin_start": 0,
            "count": 251
           },
           {
            "bin_end": 1,
            "bin_start": 0.5,
            "count": 0
           },
           {
            "bin_end": 1.5,
            "bin_start": 1,
            "count": 18
           },
           {
            "bin_end": 2,
            "bin_start": 1.5,
            "count": 0
           },
           {
            "bin_end": 2.5,
            "bin_start": 2,
            "count": 10
           },
           {
            "bin_end": 3,
            "bin_start": 2.5,
            "count": 0
           },
           {
            "bin_end": 3.5,
            "bin_start": 3,
            "count": 14
           },
           {
            "bin_end": 4,
            "bin_start": 3.5,
            "count": 0
           },
           {
            "bin_end": 4.5,
            "bin_start": 4,
            "count": 16
           },
           {
            "bin_end": 5,
            "bin_start": 4.5,
            "count": 90
           }
          ],
          "max": "5.0",
          "min": "0.0",
          "nan_count": 0,
          "unique_count": 6
         }
        },
        {
         "dtype": "float64",
         "name": "phq_rank_school_holidays_level_5",
         "stats": {
          "histogram": [
           {
            "bin_end": 0.2,
            "bin_start": 0,
            "count": 275
           },
           {
            "bin_end": 0.4,
            "bin_start": 0.2,
            "count": 0
           },
           {
            "bin_end": 0.6000000000000001,
            "bin_start": 0.4,
            "count": 0
           },
           {
            "bin_end": 0.8,
            "bin_start": 0.6000000000000001,
            "count": 0
           },
           {
            "bin_end": 1,
            "bin_start": 0.8,
            "count": 0
           },
           {
            "bin_end": 1.2000000000000002,
            "bin_start": 1,
            "count": 18
           },
           {
            "bin_end": 1.4000000000000001,
            "bin_start": 1.2000000000000002,
            "count": 0
           },
           {
            "bin_end": 1.6,
            "bin_start": 1.4000000000000001,
            "count": 0
           },
           {
            "bin_end": 1.8,
            "bin_start": 1.6,
            "count": 0
           },
           {
            "bin_end": 2,
            "bin_start": 1.8,
            "count": 106
           }
          ],
          "max": "2.0",
          "min": "0.0",
          "nan_count": 0,
          "unique_count": 3
         }
        },
        {
         "dtype": "int64",
         "name": "_deepnote_index_column"
        }
       ],
       "row_count": 399,
       "rows": [
        {
         "_deepnote_index_column": "390",
         "date": "2022-06-26",
         "phq_rank_health_warnings_level_1": "0.0",
         "phq_rank_health_warnings_level_2": "0.0",
         "phq_rank_health_warnings_level_3": "0.0",
         "phq_rank_health_warnings_level_4": "0.0",
         "phq_rank_health_warnings_level_5": "0.0",
         "phq_rank_observances_level_1": "0.0",
         "phq_rank_observances_level_2": "0.0",
         "phq_rank_observances_level_3": "2.0",
         "phq_rank_observances_level_4": "0.0",
         "phq_rank_observances_level_5": "0.0",
         "phq_rank_public_holidays_level_1": "0.0",
         "phq_rank_public_holidays_level_2": "0.0",
         "phq_rank_public_holidays_level_3": "0.0",
         "phq_rank_public_holidays_level_4": "0.0",
         "phq_rank_public_holidays_level_5": "0.0",
         "phq_rank_school_holidays_level_1": "0.0",
         "phq_rank_school_holidays_level_2": "0.0",
         "phq_rank_school_holidays_level_3": "3.0",
         "phq_rank_school_holidays_level_4": "4.0",
         "phq_rank_school_holidays_level_5": "0.0"
        },
        {
         "_deepnote_index_column": "391",
         "date": "2022-06-27",
         "phq_rank_health_warnings_level_1": "0.0",
         "phq_rank_health_warnings_level_2": "0.0",
         "phq_rank_health_warnings_level_3": "0.0",
         "phq_rank_health_warnings_level_4": "0.0",
         "phq_rank_health_warnings_level_5": "0.0",
         "phq_rank_observances_level_1": "0.0",
         "phq_rank_observances_level_2": "0.0",
         "phq_rank_observances_level_3": "1.0",
         "phq_rank_observances_level_4": "0.0",
         "phq_rank_observances_level_5": "0.0",
         "phq_rank_public_holidays_level_1": "0.0",
         "phq_rank_public_holidays_level_2": "0.0",
         "phq_rank_public_holidays_level_3": "0.0",
         "phq_rank_public_holidays_level_4": "0.0",
         "phq_rank_public_holidays_level_5": "0.0",
         "phq_rank_school_holidays_level_1": "0.0",
         "phq_rank_school_holidays_level_2": "0.0",
         "phq_rank_school_holidays_level_3": "3.0",
         "phq_rank_school_holidays_level_4": "4.0",
         "phq_rank_school_holidays_level_5": "0.0"
        },
        {
         "_deepnote_index_column": "392",
         "date": "2022-06-28",
         "phq_rank_health_warnings_level_1": "0.0",
         "phq_rank_health_warnings_level_2": "0.0",
         "phq_rank_health_warnings_level_3": "0.0",
         "phq_rank_health_warnings_level_4": "0.0",
         "phq_rank_health_warnings_level_5": "0.0",
         "phq_rank_observances_level_1": "0.0",
         "phq_rank_observances_level_2": "0.0",
         "phq_rank_observances_level_3": "0.0",
         "phq_rank_observances_level_4": "0.0",
         "phq_rank_observances_level_5": "0.0",
         "phq_rank_public_holidays_level_1": "0.0",
         "phq_rank_public_holidays_level_2": "0.0",
         "phq_rank_public_holidays_level_3": "0.0",
         "phq_rank_public_holidays_level_4": "0.0",
         "phq_rank_public_holidays_level_5": "0.0",
         "phq_rank_school_holidays_level_1": "0.0",
         "phq_rank_school_holidays_level_2": "0.0",
         "phq_rank_school_holidays_level_3": "3.0",
         "phq_rank_school_holidays_level_4": "4.0",
         "phq_rank_school_holidays_level_5": "2.0"
        },
        {
         "_deepnote_index_column": "393",
         "date": "2022-06-29",
         "phq_rank_health_warnings_level_1": "0.0",
         "phq_rank_health_warnings_level_2": "0.0",
         "phq_rank_health_warnings_level_3": "0.0",
         "phq_rank_health_warnings_level_4": "0.0",
         "phq_rank_health_warnings_level_5": "0.0",
         "phq_rank_observances_level_1": "0.0",
         "phq_rank_observances_level_2": "0.0",
         "phq_rank_observances_level_3": "1.0",
         "phq_rank_observances_level_4": "0.0",
         "phq_rank_observances_level_5": "0.0",
         "phq_rank_public_holidays_level_1": "0.0",
         "phq_rank_public_holidays_level_2": "0.0",
         "phq_rank_public_holidays_level_3": "0.0",
         "phq_rank_public_holidays_level_4": "0.0",
         "phq_rank_public_holidays_level_5": "0.0",
         "phq_rank_school_holidays_level_1": "0.0",
         "phq_rank_school_holidays_level_2": "0.0",
         "phq_rank_school_holidays_level_3": "3.0",
         "phq_rank_school_holidays_level_4": "4.0",
         "phq_rank_school_holidays_level_5": "2.0"
        },
        {
         "_deepnote_index_column": "394",
         "date": "2022-06-30",
         "phq_rank_health_warnings_level_1": "0.0",
         "phq_rank_health_warnings_level_2": "0.0",
         "phq_rank_health_warnings_level_3": "0.0",
         "phq_rank_health_warnings_level_4": "0.0",
         "phq_rank_health_warnings_level_5": "0.0",
         "phq_rank_observances_level_1": "0.0",
         "phq_rank_observances_level_2": "0.0",
         "phq_rank_observances_level_3": "2.0",
         "phq_rank_observances_level_4": "0.0",
         "phq_rank_observances_level_5": "0.0",
         "phq_rank_public_holidays_level_1": "0.0",
         "phq_rank_public_holidays_level_2": "0.0",
         "phq_rank_public_holidays_level_3": "0.0",
         "phq_rank_public_holidays_level_4": "0.0",
         "phq_rank_public_holidays_level_5": "0.0",
         "phq_rank_school_holidays_level_1": "0.0",
         "phq_rank_school_holidays_level_2": "0.0",
         "phq_rank_school_holidays_level_3": "3.0",
         "phq_rank_school_holidays_level_4": "4.0",
         "phq_rank_school_holidays_level_5": "2.0"
        },
        {
         "_deepnote_index_column": "395",
         "date": "2022-07-01",
         "phq_rank_health_warnings_level_1": "0.0",
         "phq_rank_health_warnings_level_2": "0.0",
         "phq_rank_health_warnings_level_3": "0.0",
         "phq_rank_health_warnings_level_4": "0.0",
         "phq_rank_health_warnings_level_5": "0.0",
         "phq_rank_observances_level_1": "0.0",
         "phq_rank_observances_level_2": "0.0",
         "phq_rank_observances_level_3": "0.0",
         "phq_rank_observances_level_4": "0.0",
         "phq_rank_observances_level_5": "0.0",
         "phq_rank_public_holidays_level_1": "0.0",
         "phq_rank_public_holidays_level_2": "0.0",
         "phq_rank_public_holidays_level_3": "0.0",
         "phq_rank_public_holidays_level_4": "0.0",
         "phq_rank_public_holidays_level_5": "0.0",
         "phq_rank_school_holidays_level_1": "0.0",
         "phq_rank_school_holidays_level_2": "0.0",
         "phq_rank_school_holidays_level_3": "3.0",
         "phq_rank_school_holidays_level_4": "4.0",
         "phq_rank_school_holidays_level_5": "2.0"
        },
        {
         "_deepnote_index_column": "396",
         "date": "2022-07-02",
         "phq_rank_health_warnings_level_1": "0.0",
         "phq_rank_health_warnings_level_2": "0.0",
         "phq_rank_health_warnings_level_3": "0.0",
         "phq_rank_health_warnings_level_4": "0.0",
         "phq_rank_health_warnings_level_5": "0.0",
         "phq_rank_observances_level_1": "0.0",
         "phq_rank_observances_level_2": "0.0",
         "phq_rank_observances_level_3": "1.0",
         "phq_rank_observances_level_4": "0.0",
         "phq_rank_observances_level_5": "0.0",
         "phq_rank_public_holidays_level_1": "0.0",
         "phq_rank_public_holidays_level_2": "0.0",
         "phq_rank_public_holidays_level_3": "0.0",
         "phq_rank_public_holidays_level_4": "0.0",
         "phq_rank_public_holidays_level_5": "0.0",
         "phq_rank_school_holidays_level_1": "0.0",
         "phq_rank_school_holidays_level_2": "0.0",
         "phq_rank_school_holidays_level_3": "3.0",
         "phq_rank_school_holidays_level_4": "4.0",
         "phq_rank_school_holidays_level_5": "2.0"
        },
        {
         "_deepnote_index_column": "397",
         "date": "2022-07-03",
         "phq_rank_health_warnings_level_1": "0.0",
         "phq_rank_health_warnings_level_2": "0.0",
         "phq_rank_health_warnings_level_3": "0.0",
         "phq_rank_health_warnings_level_4": "0.0",
         "phq_rank_health_warnings_level_5": "0.0",
         "phq_rank_observances_level_1": "0.0",
         "phq_rank_observances_level_2": "0.0",
         "phq_rank_observances_level_3": "0.0",
         "phq_rank_observances_level_4": "0.0",
         "phq_rank_observances_level_5": "0.0",
         "phq_rank_public_holidays_level_1": "0.0",
         "phq_rank_public_holidays_level_2": "0.0",
         "phq_rank_public_holidays_level_3": "0.0",
         "phq_rank_public_holidays_level_4": "0.0",
         "phq_rank_public_holidays_level_5": "0.0",
         "phq_rank_school_holidays_level_1": "0.0",
         "phq_rank_school_holidays_level_2": "0.0",
         "phq_rank_school_holidays_level_3": "3.0",
         "phq_rank_school_holidays_level_4": "4.0",
         "phq_rank_school_holidays_level_5": "2.0"
        },
        {
         "_deepnote_index_column": "398",
         "date": "2022-07-04",
         "phq_rank_health_warnings_level_1": "0.0",
         "phq_rank_health_warnings_level_2": "0.0",
         "phq_rank_health_warnings_level_3": "0.0",
         "phq_rank_health_warnings_level_4": "0.0",
         "phq_rank_health_warnings_level_5": "0.0",
         "phq_rank_observances_level_1": "0.0",
         "phq_rank_observances_level_2": "0.0",
         "phq_rank_observances_level_3": "0.0",
         "phq_rank_observances_level_4": "0.0",
         "phq_rank_observances_level_5": "0.0",
         "phq_rank_public_holidays_level_1": "0.0",
         "phq_rank_public_holidays_level_2": "0.0",
         "phq_rank_public_holidays_level_3": "0.0",
         "phq_rank_public_holidays_level_4": "0.0",
         "phq_rank_public_holidays_level_5": "1.0",
         "phq_rank_school_holidays_level_1": "0.0",
         "phq_rank_school_holidays_level_2": "0.0",
         "phq_rank_school_holidays_level_3": "3.0",
         "phq_rank_school_holidays_level_4": "4.0",
         "phq_rank_school_holidays_level_5": "2.0"
        }
       ]
      },
      "text/html": [
       "<div>\n",
       "<style scoped>\n",
       "    .dataframe tbody tr th:only-of-type {\n",
       "        vertical-align: middle;\n",
       "    }\n",
       "\n",
       "    .dataframe tbody tr th {\n",
       "        vertical-align: top;\n",
       "    }\n",
       "\n",
       "    .dataframe thead th {\n",
       "        text-align: right;\n",
       "    }\n",
       "</style>\n",
       "<table border=\"1\" class=\"dataframe\">\n",
       "  <thead>\n",
       "    <tr style=\"text-align: right;\">\n",
       "      <th></th>\n",
       "      <th>date</th>\n",
       "      <th>phq_rank_health_warnings_level_1</th>\n",
       "      <th>phq_rank_health_warnings_level_2</th>\n",
       "      <th>phq_rank_health_warnings_level_3</th>\n",
       "      <th>phq_rank_health_warnings_level_4</th>\n",
       "      <th>phq_rank_health_warnings_level_5</th>\n",
       "      <th>phq_rank_observances_level_1</th>\n",
       "      <th>phq_rank_observances_level_2</th>\n",
       "      <th>phq_rank_observances_level_3</th>\n",
       "      <th>phq_rank_observances_level_4</th>\n",
       "      <th>phq_rank_observances_level_5</th>\n",
       "      <th>phq_rank_public_holidays_level_1</th>\n",
       "      <th>phq_rank_public_holidays_level_2</th>\n",
       "      <th>phq_rank_public_holidays_level_3</th>\n",
       "      <th>phq_rank_public_holidays_level_4</th>\n",
       "      <th>phq_rank_public_holidays_level_5</th>\n",
       "      <th>phq_rank_school_holidays_level_1</th>\n",
       "      <th>phq_rank_school_holidays_level_2</th>\n",
       "      <th>phq_rank_school_holidays_level_3</th>\n",
       "      <th>phq_rank_school_holidays_level_4</th>\n",
       "      <th>phq_rank_school_holidays_level_5</th>\n",
       "    </tr>\n",
       "  </thead>\n",
       "  <tbody>\n",
       "    <tr>\n",
       "      <th>0</th>\n",
       "      <td>2021-06-01</td>\n",
       "      <td>0.0</td>\n",
       "      <td>0.0</td>\n",
       "      <td>0.0</td>\n",
       "      <td>0.0</td>\n",
       "      <td>0.0</td>\n",
       "      <td>0.0</td>\n",
       "      <td>0.0</td>\n",
       "      <td>3.0</td>\n",
       "      <td>0.0</td>\n",
       "      <td>0.0</td>\n",
       "      <td>0.0</td>\n",
       "      <td>0.0</td>\n",
       "      <td>0.0</td>\n",
       "      <td>0.0</td>\n",
       "      <td>0.0</td>\n",
       "      <td>0.0</td>\n",
       "      <td>0.0</td>\n",
       "      <td>0.0</td>\n",
       "      <td>0.0</td>\n",
       "      <td>0.0</td>\n",
       "    </tr>\n",
       "    <tr>\n",
       "      <th>1</th>\n",
       "      <td>2021-06-02</td>\n",
       "      <td>0.0</td>\n",
       "      <td>0.0</td>\n",
       "      <td>0.0</td>\n",
       "      <td>0.0</td>\n",
       "      <td>0.0</td>\n",
       "      <td>0.0</td>\n",
       "      <td>0.0</td>\n",
       "      <td>0.0</td>\n",
       "      <td>0.0</td>\n",
       "      <td>0.0</td>\n",
       "      <td>0.0</td>\n",
       "      <td>0.0</td>\n",
       "      <td>0.0</td>\n",
       "      <td>0.0</td>\n",
       "      <td>0.0</td>\n",
       "      <td>0.0</td>\n",
       "      <td>0.0</td>\n",
       "      <td>0.0</td>\n",
       "      <td>0.0</td>\n",
       "      <td>0.0</td>\n",
       "    </tr>\n",
       "    <tr>\n",
       "      <th>2</th>\n",
       "      <td>2021-06-03</td>\n",
       "      <td>0.0</td>\n",
       "      <td>0.0</td>\n",
       "      <td>0.0</td>\n",
       "      <td>0.0</td>\n",
       "      <td>0.0</td>\n",
       "      <td>0.0</td>\n",
       "      <td>0.0</td>\n",
       "      <td>2.0</td>\n",
       "      <td>0.0</td>\n",
       "      <td>0.0</td>\n",
       "      <td>0.0</td>\n",
       "      <td>0.0</td>\n",
       "      <td>0.0</td>\n",
       "      <td>0.0</td>\n",
       "      <td>0.0</td>\n",
       "      <td>0.0</td>\n",
       "      <td>0.0</td>\n",
       "      <td>0.0</td>\n",
       "      <td>0.0</td>\n",
       "      <td>0.0</td>\n",
       "    </tr>\n",
       "    <tr>\n",
       "      <th>3</th>\n",
       "      <td>2021-06-04</td>\n",
       "      <td>0.0</td>\n",
       "      <td>0.0</td>\n",
       "      <td>0.0</td>\n",
       "      <td>0.0</td>\n",
       "      <td>0.0</td>\n",
       "      <td>0.0</td>\n",
       "      <td>0.0</td>\n",
       "      <td>1.0</td>\n",
       "      <td>0.0</td>\n",
       "      <td>0.0</td>\n",
       "      <td>0.0</td>\n",
       "      <td>0.0</td>\n",
       "      <td>0.0</td>\n",
       "      <td>0.0</td>\n",
       "      <td>0.0</td>\n",
       "      <td>0.0</td>\n",
       "      <td>0.0</td>\n",
       "      <td>0.0</td>\n",
       "      <td>0.0</td>\n",
       "      <td>0.0</td>\n",
       "    </tr>\n",
       "    <tr>\n",
       "      <th>4</th>\n",
       "      <td>2021-06-05</td>\n",
       "      <td>0.0</td>\n",
       "      <td>0.0</td>\n",
       "      <td>0.0</td>\n",
       "      <td>0.0</td>\n",
       "      <td>0.0</td>\n",
       "      <td>0.0</td>\n",
       "      <td>0.0</td>\n",
       "      <td>2.0</td>\n",
       "      <td>0.0</td>\n",
       "      <td>0.0</td>\n",
       "      <td>0.0</td>\n",
       "      <td>0.0</td>\n",
       "      <td>0.0</td>\n",
       "      <td>0.0</td>\n",
       "      <td>0.0</td>\n",
       "      <td>0.0</td>\n",
       "      <td>0.0</td>\n",
       "      <td>0.0</td>\n",
       "      <td>0.0</td>\n",
       "      <td>0.0</td>\n",
       "    </tr>\n",
       "    <tr>\n",
       "      <th>...</th>\n",
       "      <td>...</td>\n",
       "      <td>...</td>\n",
       "      <td>...</td>\n",
       "      <td>...</td>\n",
       "      <td>...</td>\n",
       "      <td>...</td>\n",
       "      <td>...</td>\n",
       "      <td>...</td>\n",
       "      <td>...</td>\n",
       "      <td>...</td>\n",
       "      <td>...</td>\n",
       "      <td>...</td>\n",
       "      <td>...</td>\n",
       "      <td>...</td>\n",
       "      <td>...</td>\n",
       "      <td>...</td>\n",
       "      <td>...</td>\n",
       "      <td>...</td>\n",
       "      <td>...</td>\n",
       "      <td>...</td>\n",
       "      <td>...</td>\n",
       "    </tr>\n",
       "    <tr>\n",
       "      <th>394</th>\n",
       "      <td>2022-06-30</td>\n",
       "      <td>0.0</td>\n",
       "      <td>0.0</td>\n",
       "      <td>0.0</td>\n",
       "      <td>0.0</td>\n",
       "      <td>0.0</td>\n",
       "      <td>0.0</td>\n",
       "      <td>0.0</td>\n",
       "      <td>2.0</td>\n",
       "      <td>0.0</td>\n",
       "      <td>0.0</td>\n",
       "      <td>0.0</td>\n",
       "      <td>0.0</td>\n",
       "      <td>0.0</td>\n",
       "      <td>0.0</td>\n",
       "      <td>0.0</td>\n",
       "      <td>0.0</td>\n",
       "      <td>0.0</td>\n",
       "      <td>3.0</td>\n",
       "      <td>4.0</td>\n",
       "      <td>2.0</td>\n",
       "    </tr>\n",
       "    <tr>\n",
       "      <th>395</th>\n",
       "      <td>2022-07-01</td>\n",
       "      <td>0.0</td>\n",
       "      <td>0.0</td>\n",
       "      <td>0.0</td>\n",
       "      <td>0.0</td>\n",
       "      <td>0.0</td>\n",
       "      <td>0.0</td>\n",
       "      <td>0.0</td>\n",
       "      <td>0.0</td>\n",
       "      <td>0.0</td>\n",
       "      <td>0.0</td>\n",
       "      <td>0.0</td>\n",
       "      <td>0.0</td>\n",
       "      <td>0.0</td>\n",
       "      <td>0.0</td>\n",
       "      <td>0.0</td>\n",
       "      <td>0.0</td>\n",
       "      <td>0.0</td>\n",
       "      <td>3.0</td>\n",
       "      <td>4.0</td>\n",
       "      <td>2.0</td>\n",
       "    </tr>\n",
       "    <tr>\n",
       "      <th>396</th>\n",
       "      <td>2022-07-02</td>\n",
       "      <td>0.0</td>\n",
       "      <td>0.0</td>\n",
       "      <td>0.0</td>\n",
       "      <td>0.0</td>\n",
       "      <td>0.0</td>\n",
       "      <td>0.0</td>\n",
       "      <td>0.0</td>\n",
       "      <td>1.0</td>\n",
       "      <td>0.0</td>\n",
       "      <td>0.0</td>\n",
       "      <td>0.0</td>\n",
       "      <td>0.0</td>\n",
       "      <td>0.0</td>\n",
       "      <td>0.0</td>\n",
       "      <td>0.0</td>\n",
       "      <td>0.0</td>\n",
       "      <td>0.0</td>\n",
       "      <td>3.0</td>\n",
       "      <td>4.0</td>\n",
       "      <td>2.0</td>\n",
       "    </tr>\n",
       "    <tr>\n",
       "      <th>397</th>\n",
       "      <td>2022-07-03</td>\n",
       "      <td>0.0</td>\n",
       "      <td>0.0</td>\n",
       "      <td>0.0</td>\n",
       "      <td>0.0</td>\n",
       "      <td>0.0</td>\n",
       "      <td>0.0</td>\n",
       "      <td>0.0</td>\n",
       "      <td>0.0</td>\n",
       "      <td>0.0</td>\n",
       "      <td>0.0</td>\n",
       "      <td>0.0</td>\n",
       "      <td>0.0</td>\n",
       "      <td>0.0</td>\n",
       "      <td>0.0</td>\n",
       "      <td>0.0</td>\n",
       "      <td>0.0</td>\n",
       "      <td>0.0</td>\n",
       "      <td>3.0</td>\n",
       "      <td>4.0</td>\n",
       "      <td>2.0</td>\n",
       "    </tr>\n",
       "    <tr>\n",
       "      <th>398</th>\n",
       "      <td>2022-07-04</td>\n",
       "      <td>0.0</td>\n",
       "      <td>0.0</td>\n",
       "      <td>0.0</td>\n",
       "      <td>0.0</td>\n",
       "      <td>0.0</td>\n",
       "      <td>0.0</td>\n",
       "      <td>0.0</td>\n",
       "      <td>0.0</td>\n",
       "      <td>0.0</td>\n",
       "      <td>0.0</td>\n",
       "      <td>0.0</td>\n",
       "      <td>0.0</td>\n",
       "      <td>0.0</td>\n",
       "      <td>0.0</td>\n",
       "      <td>1.0</td>\n",
       "      <td>0.0</td>\n",
       "      <td>0.0</td>\n",
       "      <td>3.0</td>\n",
       "      <td>4.0</td>\n",
       "      <td>2.0</td>\n",
       "    </tr>\n",
       "  </tbody>\n",
       "</table>\n",
       "<p>399 rows × 21 columns</p>\n",
       "</div>"
      ],
      "text/plain": [
       "           date  phq_rank_health_warnings_level_1  \\\n",
       "0    2021-06-01                               0.0   \n",
       "1    2021-06-02                               0.0   \n",
       "2    2021-06-03                               0.0   \n",
       "3    2021-06-04                               0.0   \n",
       "4    2021-06-05                               0.0   \n",
       "..          ...                               ...   \n",
       "394  2022-06-30                               0.0   \n",
       "395  2022-07-01                               0.0   \n",
       "396  2022-07-02                               0.0   \n",
       "397  2022-07-03                               0.0   \n",
       "398  2022-07-04                               0.0   \n",
       "\n",
       "     phq_rank_health_warnings_level_2  phq_rank_health_warnings_level_3  \\\n",
       "0                                 0.0                               0.0   \n",
       "1                                 0.0                               0.0   \n",
       "2                                 0.0                               0.0   \n",
       "3                                 0.0                               0.0   \n",
       "4                                 0.0                               0.0   \n",
       "..                                ...                               ...   \n",
       "394                               0.0                               0.0   \n",
       "395                               0.0                               0.0   \n",
       "396                               0.0                               0.0   \n",
       "397                               0.0                               0.0   \n",
       "398                               0.0                               0.0   \n",
       "\n",
       "     phq_rank_health_warnings_level_4  phq_rank_health_warnings_level_5  \\\n",
       "0                                 0.0                               0.0   \n",
       "1                                 0.0                               0.0   \n",
       "2                                 0.0                               0.0   \n",
       "3                                 0.0                               0.0   \n",
       "4                                 0.0                               0.0   \n",
       "..                                ...                               ...   \n",
       "394                               0.0                               0.0   \n",
       "395                               0.0                               0.0   \n",
       "396                               0.0                               0.0   \n",
       "397                               0.0                               0.0   \n",
       "398                               0.0                               0.0   \n",
       "\n",
       "     phq_rank_observances_level_1  phq_rank_observances_level_2  \\\n",
       "0                             0.0                           0.0   \n",
       "1                             0.0                           0.0   \n",
       "2                             0.0                           0.0   \n",
       "3                             0.0                           0.0   \n",
       "4                             0.0                           0.0   \n",
       "..                            ...                           ...   \n",
       "394                           0.0                           0.0   \n",
       "395                           0.0                           0.0   \n",
       "396                           0.0                           0.0   \n",
       "397                           0.0                           0.0   \n",
       "398                           0.0                           0.0   \n",
       "\n",
       "     phq_rank_observances_level_3  phq_rank_observances_level_4  \\\n",
       "0                             3.0                           0.0   \n",
       "1                             0.0                           0.0   \n",
       "2                             2.0                           0.0   \n",
       "3                             1.0                           0.0   \n",
       "4                             2.0                           0.0   \n",
       "..                            ...                           ...   \n",
       "394                           2.0                           0.0   \n",
       "395                           0.0                           0.0   \n",
       "396                           1.0                           0.0   \n",
       "397                           0.0                           0.0   \n",
       "398                           0.0                           0.0   \n",
       "\n",
       "     phq_rank_observances_level_5  phq_rank_public_holidays_level_1  \\\n",
       "0                             0.0                               0.0   \n",
       "1                             0.0                               0.0   \n",
       "2                             0.0                               0.0   \n",
       "3                             0.0                               0.0   \n",
       "4                             0.0                               0.0   \n",
       "..                            ...                               ...   \n",
       "394                           0.0                               0.0   \n",
       "395                           0.0                               0.0   \n",
       "396                           0.0                               0.0   \n",
       "397                           0.0                               0.0   \n",
       "398                           0.0                               0.0   \n",
       "\n",
       "     phq_rank_public_holidays_level_2  phq_rank_public_holidays_level_3  \\\n",
       "0                                 0.0                               0.0   \n",
       "1                                 0.0                               0.0   \n",
       "2                                 0.0                               0.0   \n",
       "3                                 0.0                               0.0   \n",
       "4                                 0.0                               0.0   \n",
       "..                                ...                               ...   \n",
       "394                               0.0                               0.0   \n",
       "395                               0.0                               0.0   \n",
       "396                               0.0                               0.0   \n",
       "397                               0.0                               0.0   \n",
       "398                               0.0                               0.0   \n",
       "\n",
       "     phq_rank_public_holidays_level_4  phq_rank_public_holidays_level_5  \\\n",
       "0                                 0.0                               0.0   \n",
       "1                                 0.0                               0.0   \n",
       "2                                 0.0                               0.0   \n",
       "3                                 0.0                               0.0   \n",
       "4                                 0.0                               0.0   \n",
       "..                                ...                               ...   \n",
       "394                               0.0                               0.0   \n",
       "395                               0.0                               0.0   \n",
       "396                               0.0                               0.0   \n",
       "397                               0.0                               0.0   \n",
       "398                               0.0                               1.0   \n",
       "\n",
       "     phq_rank_school_holidays_level_1  phq_rank_school_holidays_level_2  \\\n",
       "0                                 0.0                               0.0   \n",
       "1                                 0.0                               0.0   \n",
       "2                                 0.0                               0.0   \n",
       "3                                 0.0                               0.0   \n",
       "4                                 0.0                               0.0   \n",
       "..                                ...                               ...   \n",
       "394                               0.0                               0.0   \n",
       "395                               0.0                               0.0   \n",
       "396                               0.0                               0.0   \n",
       "397                               0.0                               0.0   \n",
       "398                               0.0                               0.0   \n",
       "\n",
       "     phq_rank_school_holidays_level_3  phq_rank_school_holidays_level_4  \\\n",
       "0                                 0.0                               0.0   \n",
       "1                                 0.0                               0.0   \n",
       "2                                 0.0                               0.0   \n",
       "3                                 0.0                               0.0   \n",
       "4                                 0.0                               0.0   \n",
       "..                                ...                               ...   \n",
       "394                               3.0                               4.0   \n",
       "395                               3.0                               4.0   \n",
       "396                               3.0                               4.0   \n",
       "397                               3.0                               4.0   \n",
       "398                               3.0                               4.0   \n",
       "\n",
       "     phq_rank_school_holidays_level_5  \n",
       "0                                 0.0  \n",
       "1                                 0.0  \n",
       "2                                 0.0  \n",
       "3                                 0.0  \n",
       "4                                 0.0  \n",
       "..                                ...  \n",
       "394                               2.0  \n",
       "395                               2.0  \n",
       "396                               2.0  \n",
       "397                               2.0  \n",
       "398                               2.0  \n",
       "\n",
       "[399 rows x 21 columns]"
      ]
     },
     "execution_count": 26,
     "metadata": {},
     "output_type": "execute_result"
    }
   ],
   "source": [
    "categories_rank = [\n",
    "     \"phq_rank_health_warnings\",\n",
    "     \"phq_rank_observances\",\n",
    "     \"phq_rank_public_holidays\",\n",
    "     \"phq_rank_school_holidays\",\n",
    "]\n",
    "\n",
    "def get_features_api_data(lat, lon, start, end, radius=5):\n",
    "    start = datetime.strptime(start, DATE_FORMAT).date()\n",
    "    end = datetime.strptime(end, DATE_FORMAT).date()\n",
    "\n",
    "    result = []\n",
    "    for gte, lte in get_date_groups(start, end):\n",
    "        query = {\n",
    "            \"active__gte\": gte,\n",
    "            \"active__lte\": lte,\n",
    "            \"location__geo\": {\"lat\": lat, \"lon\": lon, \"radius\": f\"{radius}mi\"},\n",
    "        }\n",
    "\n",
    "        query.update({f\"{f}\": True for f in categories_rank})\n",
    "\n",
    "        features = phq.features.obtain_features(**query)\n",
    "\n",
    "        for feature in features:\n",
    "            record = {}\n",
    "            for k, v in feature.to_dict().items():\n",
    "                if k == \"date\":\n",
    "                    record[k] = v.strftime(\"%Y-%m-%d\")\n",
    "                elif k in categories_rank:\n",
    "                    for rank_level, level_count in v.get(\"rank_levels\", {}).items():\n",
    "                        record[f\"{k}_level_{rank_level}\"] = float(level_count)\n",
    "\n",
    "            result.append(record)\n",
    "\n",
    "    return result\n",
    "\n",
    "res = get_features_api_data(40.7079, -74.0115, \"2021-06-01\", \"2022-07-04\", 5)\n",
    "df_rank = pd.DataFrame(res)\n",
    "df_rank"
   ]
  },
  {
   "cell_type": "markdown",
   "metadata": {
    "cell_id": "0ee0c7a2fc5e45d2a80218965f1bd100",
    "deepnote_cell_height": 114.390625,
    "deepnote_cell_type": "markdown",
    "tags": []
   },
   "source": [
    "<a id='impact_wide'></a>\n",
    "### Impact based features\n",
    "<b> Severe weahter features </b>"
   ]
  },
  {
   "cell_type": "code",
   "execution_count": null,
   "metadata": {
    "cell_id": "d376da0320154d9cb75338a953c3c864",
    "deepnote_cell_height": 1746,
    "deepnote_cell_type": "code",
    "deepnote_to_be_reexecuted": false,
    "execution_millis": 8507,
    "execution_start": 1662593623730,
    "source_hash": "73aecce3",
    "tags": []
   },
   "outputs": [
    {
     "data": {
      "application/vnd.deepnote.dataframe.v3+json": {
       "column_count": 8,
       "columns": [
        {
         "dtype": "object",
         "name": "date",
         "stats": {
          "categories": [
           {
            "count": 1,
            "name": "2021-06-01"
           },
           {
            "count": 1,
            "name": "2021-06-02"
           },
           {
            "count": 397,
            "name": "397 others"
           }
          ],
          "nan_count": 0,
          "unique_count": 399
         }
        },
        {
         "dtype": "float64",
         "name": "phq_impact_severe_weather_cold_wave_retail",
         "stats": {
          "histogram": [
           {
            "bin_end": 6.5,
            "bin_start": 0,
            "count": 396
           },
           {
            "bin_end": 13,
            "bin_start": 6.5,
            "count": 0
           },
           {
            "bin_end": 19.5,
            "bin_start": 13,
            "count": 1
           },
           {
            "bin_end": 26,
            "bin_start": 19.5,
            "count": 0
           },
           {
            "bin_end": 32.5,
            "bin_start": 26,
            "count": 0
           },
           {
            "bin_end": 39,
            "bin_start": 32.5,
            "count": 1
           },
           {
            "bin_end": 45.5,
            "bin_start": 39,
            "count": 0
           },
           {
            "bin_end": 52,
            "bin_start": 45.5,
            "count": 0
           },
           {
            "bin_end": 58.5,
            "bin_start": 52,
            "count": 0
           },
           {
            "bin_end": 65,
            "bin_start": 58.5,
            "count": 1
           }
          ],
          "max": "65.0",
          "min": "0.0",
          "nan_count": 0,
          "unique_count": 4
         }
        },
        {
         "dtype": "float64",
         "name": "phq_impact_severe_weather_cold_wave_storm_retail",
         "stats": {
          "histogram": [
           {
            "bin_end": 8,
            "bin_start": 0,
            "count": 396
           },
           {
            "bin_end": 16,
            "bin_start": 8,
            "count": 0
           },
           {
            "bin_end": 24,
            "bin_start": 16,
            "count": 0
           },
           {
            "bin_end": 32,
            "bin_start": 24,
            "count": 0
           },
           {
            "bin_end": 40,
            "bin_start": 32,
            "count": 0
           },
           {
            "bin_end": 48,
            "bin_start": 40,
            "count": 1
           },
           {
            "bin_end": 56,
            "bin_start": 48,
            "count": 0
           },
           {
            "bin_end": 64,
            "bin_start": 56,
            "count": 0
           },
           {
            "bin_end": 72,
            "bin_start": 64,
            "count": 0
           },
           {
            "bin_end": 80,
            "bin_start": 72,
            "count": 2
           }
          ],
          "max": "80.0",
          "min": "0.0",
          "nan_count": 0,
          "unique_count": 3
         }
        },
        {
         "dtype": "float64",
         "name": "phq_impact_severe_weather_flood_retail",
         "stats": {
          "histogram": [
           {
            "bin_end": 8.2,
            "bin_start": 0,
            "count": 357
           },
           {
            "bin_end": 16.4,
            "bin_start": 8.2,
            "count": 12
           },
           {
            "bin_end": 24.599999999999998,
            "bin_start": 16.4,
            "count": 0
           },
           {
            "bin_end": 32.8,
            "bin_start": 24.599999999999998,
            "count": 15
           },
           {
            "bin_end": 41,
            "bin_start": 32.8,
            "count": 3
           },
           {
            "bin_end": 49.199999999999996,
            "bin_start": 41,
            "count": 0
           },
           {
            "bin_end": 57.39999999999999,
            "bin_start": 49.199999999999996,
            "count": 0
           },
           {
            "bin_end": 65.6,
            "bin_start": 57.39999999999999,
            "count": 0
           },
           {
            "bin_end": 73.8,
            "bin_start": 65.6,
            "count": 0
           },
           {
            "bin_end": 82,
            "bin_start": 73.8,
            "count": 12
           }
          ],
          "max": "82.0",
          "min": "0.0",
          "nan_count": 0,
          "unique_count": 15
         }
        },
        {
         "dtype": "float64",
         "name": "phq_impact_severe_weather_heat_wave_retail",
         "stats": {
          "histogram": [
           {
            "bin_end": 8,
            "bin_start": 0,
            "count": 349
           },
           {
            "bin_end": 16,
            "bin_start": 8,
            "count": 12
           },
           {
            "bin_end": 24,
            "bin_start": 16,
            "count": 9
           },
           {
            "bin_end": 32,
            "bin_start": 24,
            "count": 4
           },
           {
            "bin_end": 40,
            "bin_start": 32,
            "count": 8
           },
           {
            "bin_end": 48,
            "bin_start": 40,
            "count": 0
           },
           {
            "bin_end": 56,
            "bin_start": 48,
            "count": 0
           },
           {
            "bin_end": 64,
            "bin_start": 56,
            "count": 3
           },
           {
            "bin_end": 72,
            "bin_start": 64,
            "count": 10
           },
           {
            "bin_end": 80,
            "bin_start": 72,
            "count": 4
           }
          ],
          "max": "80.0",
          "min": "0.0",
          "nan_count": 0,
          "unique_count": 19
         }
        },
        {
         "dtype": "float64",
         "name": "phq_impact_severe_weather_thunderstorm_retail",
         "stats": {
          "histogram": [
           {
            "bin_end": 8.6,
            "bin_start": 0,
            "count": 373
           },
           {
            "bin_end": 17.2,
            "bin_start": 8.6,
            "count": 0
           },
           {
            "bin_end": 25.799999999999997,
            "bin_start": 17.2,
            "count": 0
           },
           {
            "bin_end": 34.4,
            "bin_start": 25.799999999999997,
            "count": 8
           },
           {
            "bin_end": 43,
            "bin_start": 34.4,
            "count": 0
           },
           {
            "bin_end": 51.599999999999994,
            "bin_start": 43,
            "count": 0
           },
           {
            "bin_end": 60.199999999999996,
            "bin_start": 51.599999999999994,
            "count": 5
           },
           {
            "bin_end": 68.8,
            "bin_start": 60.199999999999996,
            "count": 4
           },
           {
            "bin_end": 77.39999999999999,
            "bin_start": 68.8,
            "count": 0
           },
           {
            "bin_end": 86,
            "bin_start": 77.39999999999999,
            "count": 9
           }
          ],
          "max": "86.0",
          "min": "0.0",
          "nan_count": 0,
          "unique_count": 7
         }
        },
        {
         "dtype": "float64",
         "name": "phq_impact_severe_weather_tornado_retail",
         "stats": {
          "histogram": [
           {
            "bin_end": 6,
            "bin_start": 0,
            "count": 397
           },
           {
            "bin_end": 12,
            "bin_start": 6,
            "count": 0
           },
           {
            "bin_end": 18,
            "bin_start": 12,
            "count": 1
           },
           {
            "bin_end": 24,
            "bin_start": 18,
            "count": 0
           },
           {
            "bin_end": 30,
            "bin_start": 24,
            "count": 0
           },
           {
            "bin_end": 36,
            "bin_start": 30,
            "count": 0
           },
           {
            "bin_end": 42,
            "bin_start": 36,
            "count": 0
           },
           {
            "bin_end": 48,
            "bin_start": 42,
            "count": 0
           },
           {
            "bin_end": 54,
            "bin_start": 48,
            "count": 0
           },
           {
            "bin_end": 60,
            "bin_start": 54,
            "count": 1
           }
          ],
          "max": "60.0",
          "min": "0.0",
          "nan_count": 0,
          "unique_count": 3
         }
        },
        {
         "dtype": "float64",
         "name": "phq_impact_severe_weather_tropical_storm_retail",
         "stats": {
          "histogram": [
           {
            "bin_end": 8.2,
            "bin_start": 0,
            "count": 398
           },
           {
            "bin_end": 16.4,
            "bin_start": 8.2,
            "count": 0
           },
           {
            "bin_end": 24.599999999999998,
            "bin_start": 16.4,
            "count": 0
           },
           {
            "bin_end": 32.8,
            "bin_start": 24.599999999999998,
            "count": 0
           },
           {
            "bin_end": 41,
            "bin_start": 32.8,
            "count": 0
           },
           {
            "bin_end": 49.199999999999996,
            "bin_start": 41,
            "count": 0
           },
           {
            "bin_end": 57.39999999999999,
            "bin_start": 49.199999999999996,
            "count": 0
           },
           {
            "bin_end": 65.6,
            "bin_start": 57.39999999999999,
            "count": 0
           },
           {
            "bin_end": 73.8,
            "bin_start": 65.6,
            "count": 0
           },
           {
            "bin_end": 82,
            "bin_start": 73.8,
            "count": 1
           }
          ],
          "max": "82.0",
          "min": "0.0",
          "nan_count": 0,
          "unique_count": 2
         }
        },
        {
         "dtype": "int64",
         "name": "_deepnote_index_column"
        }
       ],
       "row_count": 399,
       "rows": [
        {
         "_deepnote_index_column": "0",
         "date": "2021-06-01",
         "phq_impact_severe_weather_cold_wave_retail": "0.0",
         "phq_impact_severe_weather_cold_wave_storm_retail": "0.0",
         "phq_impact_severe_weather_flood_retail": "0.0",
         "phq_impact_severe_weather_heat_wave_retail": "0.0",
         "phq_impact_severe_weather_thunderstorm_retail": "0.0",
         "phq_impact_severe_weather_tornado_retail": "0.0",
         "phq_impact_severe_weather_tropical_storm_retail": "0.0"
        },
        {
         "_deepnote_index_column": "1",
         "date": "2021-06-02",
         "phq_impact_severe_weather_cold_wave_retail": "0.0",
         "phq_impact_severe_weather_cold_wave_storm_retail": "0.0",
         "phq_impact_severe_weather_flood_retail": "0.0",
         "phq_impact_severe_weather_heat_wave_retail": "0.0",
         "phq_impact_severe_weather_thunderstorm_retail": "0.0",
         "phq_impact_severe_weather_tornado_retail": "0.0",
         "phq_impact_severe_weather_tropical_storm_retail": "0.0"
        },
        {
         "_deepnote_index_column": "2",
         "date": "2021-06-03",
         "phq_impact_severe_weather_cold_wave_retail": "0.0",
         "phq_impact_severe_weather_cold_wave_storm_retail": "0.0",
         "phq_impact_severe_weather_flood_retail": "0.0",
         "phq_impact_severe_weather_heat_wave_retail": "0.0",
         "phq_impact_severe_weather_thunderstorm_retail": "0.0",
         "phq_impact_severe_weather_tornado_retail": "0.0",
         "phq_impact_severe_weather_tropical_storm_retail": "0.0"
        },
        {
         "_deepnote_index_column": "3",
         "date": "2021-06-04",
         "phq_impact_severe_weather_cold_wave_retail": "0.0",
         "phq_impact_severe_weather_cold_wave_storm_retail": "0.0",
         "phq_impact_severe_weather_flood_retail": "0.0",
         "phq_impact_severe_weather_heat_wave_retail": "0.0",
         "phq_impact_severe_weather_thunderstorm_retail": "0.0",
         "phq_impact_severe_weather_tornado_retail": "0.0",
         "phq_impact_severe_weather_tropical_storm_retail": "0.0"
        },
        {
         "_deepnote_index_column": "4",
         "date": "2021-06-05",
         "phq_impact_severe_weather_cold_wave_retail": "0.0",
         "phq_impact_severe_weather_cold_wave_storm_retail": "0.0",
         "phq_impact_severe_weather_flood_retail": "0.0",
         "phq_impact_severe_weather_heat_wave_retail": "0.0",
         "phq_impact_severe_weather_thunderstorm_retail": "0.0",
         "phq_impact_severe_weather_tornado_retail": "0.0",
         "phq_impact_severe_weather_tropical_storm_retail": "0.0"
        },
        {
         "_deepnote_index_column": "5",
         "date": "2021-06-06",
         "phq_impact_severe_weather_cold_wave_retail": "0.0",
         "phq_impact_severe_weather_cold_wave_storm_retail": "0.0",
         "phq_impact_severe_weather_flood_retail": "11.0",
         "phq_impact_severe_weather_heat_wave_retail": "13.0",
         "phq_impact_severe_weather_thunderstorm_retail": "0.0",
         "phq_impact_severe_weather_tornado_retail": "0.0",
         "phq_impact_severe_weather_tropical_storm_retail": "0.0"
        },
        {
         "_deepnote_index_column": "6",
         "date": "2021-06-07",
         "phq_impact_severe_weather_cold_wave_retail": "0.0",
         "phq_impact_severe_weather_cold_wave_storm_retail": "0.0",
         "phq_impact_severe_weather_flood_retail": "28.0",
         "phq_impact_severe_weather_heat_wave_retail": "31.0",
         "phq_impact_severe_weather_thunderstorm_retail": "31.0",
         "phq_impact_severe_weather_tornado_retail": "0.0",
         "phq_impact_severe_weather_tropical_storm_retail": "0.0"
        },
        {
         "_deepnote_index_column": "7",
         "date": "2021-06-08",
         "phq_impact_severe_weather_cold_wave_retail": "0.0",
         "phq_impact_severe_weather_cold_wave_storm_retail": "0.0",
         "phq_impact_severe_weather_flood_retail": "82.0",
         "phq_impact_severe_weather_heat_wave_retail": "65.0",
         "phq_impact_severe_weather_thunderstorm_retail": "86.0",
         "phq_impact_severe_weather_tornado_retail": "0.0",
         "phq_impact_severe_weather_tropical_storm_retail": "0.0"
        },
        {
         "_deepnote_index_column": "8",
         "date": "2021-06-09",
         "phq_impact_severe_weather_cold_wave_retail": "0.0",
         "phq_impact_severe_weather_cold_wave_storm_retail": "0.0",
         "phq_impact_severe_weather_flood_retail": "28.0",
         "phq_impact_severe_weather_heat_wave_retail": "35.0",
         "phq_impact_severe_weather_thunderstorm_retail": "34.0",
         "phq_impact_severe_weather_tornado_retail": "0.0",
         "phq_impact_severe_weather_tropical_storm_retail": "0.0"
        },
        {
         "_deepnote_index_column": "9",
         "date": "2021-06-10",
         "phq_impact_severe_weather_cold_wave_retail": "0.0",
         "phq_impact_severe_weather_cold_wave_storm_retail": "0.0",
         "phq_impact_severe_weather_flood_retail": "0.0",
         "phq_impact_severe_weather_heat_wave_retail": "22.0",
         "phq_impact_severe_weather_thunderstorm_retail": "0.0",
         "phq_impact_severe_weather_tornado_retail": "0.0",
         "phq_impact_severe_weather_tropical_storm_retail": "0.0"
        }
       ]
      },
      "text/html": [
       "<div>\n",
       "<style scoped>\n",
       "    .dataframe tbody tr th:only-of-type {\n",
       "        vertical-align: middle;\n",
       "    }\n",
       "\n",
       "    .dataframe tbody tr th {\n",
       "        vertical-align: top;\n",
       "    }\n",
       "\n",
       "    .dataframe thead th {\n",
       "        text-align: right;\n",
       "    }\n",
       "</style>\n",
       "<table border=\"1\" class=\"dataframe\">\n",
       "  <thead>\n",
       "    <tr style=\"text-align: right;\">\n",
       "      <th></th>\n",
       "      <th>date</th>\n",
       "      <th>phq_impact_severe_weather_cold_wave_retail</th>\n",
       "      <th>phq_impact_severe_weather_cold_wave_storm_retail</th>\n",
       "      <th>phq_impact_severe_weather_flood_retail</th>\n",
       "      <th>phq_impact_severe_weather_heat_wave_retail</th>\n",
       "      <th>phq_impact_severe_weather_thunderstorm_retail</th>\n",
       "      <th>phq_impact_severe_weather_tornado_retail</th>\n",
       "      <th>phq_impact_severe_weather_tropical_storm_retail</th>\n",
       "    </tr>\n",
       "  </thead>\n",
       "  <tbody>\n",
       "    <tr>\n",
       "      <th>0</th>\n",
       "      <td>2021-06-01</td>\n",
       "      <td>0.0</td>\n",
       "      <td>0.0</td>\n",
       "      <td>0.0</td>\n",
       "      <td>0.0</td>\n",
       "      <td>0.0</td>\n",
       "      <td>0.0</td>\n",
       "      <td>0.0</td>\n",
       "    </tr>\n",
       "    <tr>\n",
       "      <th>1</th>\n",
       "      <td>2021-06-02</td>\n",
       "      <td>0.0</td>\n",
       "      <td>0.0</td>\n",
       "      <td>0.0</td>\n",
       "      <td>0.0</td>\n",
       "      <td>0.0</td>\n",
       "      <td>0.0</td>\n",
       "      <td>0.0</td>\n",
       "    </tr>\n",
       "    <tr>\n",
       "      <th>2</th>\n",
       "      <td>2021-06-03</td>\n",
       "      <td>0.0</td>\n",
       "      <td>0.0</td>\n",
       "      <td>0.0</td>\n",
       "      <td>0.0</td>\n",
       "      <td>0.0</td>\n",
       "      <td>0.0</td>\n",
       "      <td>0.0</td>\n",
       "    </tr>\n",
       "    <tr>\n",
       "      <th>3</th>\n",
       "      <td>2021-06-04</td>\n",
       "      <td>0.0</td>\n",
       "      <td>0.0</td>\n",
       "      <td>0.0</td>\n",
       "      <td>0.0</td>\n",
       "      <td>0.0</td>\n",
       "      <td>0.0</td>\n",
       "      <td>0.0</td>\n",
       "    </tr>\n",
       "    <tr>\n",
       "      <th>4</th>\n",
       "      <td>2021-06-05</td>\n",
       "      <td>0.0</td>\n",
       "      <td>0.0</td>\n",
       "      <td>0.0</td>\n",
       "      <td>0.0</td>\n",
       "      <td>0.0</td>\n",
       "      <td>0.0</td>\n",
       "      <td>0.0</td>\n",
       "    </tr>\n",
       "    <tr>\n",
       "      <th>...</th>\n",
       "      <td>...</td>\n",
       "      <td>...</td>\n",
       "      <td>...</td>\n",
       "      <td>...</td>\n",
       "      <td>...</td>\n",
       "      <td>...</td>\n",
       "      <td>...</td>\n",
       "      <td>...</td>\n",
       "    </tr>\n",
       "    <tr>\n",
       "      <th>394</th>\n",
       "      <td>2022-06-30</td>\n",
       "      <td>0.0</td>\n",
       "      <td>0.0</td>\n",
       "      <td>0.0</td>\n",
       "      <td>0.0</td>\n",
       "      <td>0.0</td>\n",
       "      <td>0.0</td>\n",
       "      <td>0.0</td>\n",
       "    </tr>\n",
       "    <tr>\n",
       "      <th>395</th>\n",
       "      <td>2022-07-01</td>\n",
       "      <td>0.0</td>\n",
       "      <td>0.0</td>\n",
       "      <td>0.0</td>\n",
       "      <td>0.0</td>\n",
       "      <td>0.0</td>\n",
       "      <td>0.0</td>\n",
       "      <td>0.0</td>\n",
       "    </tr>\n",
       "    <tr>\n",
       "      <th>396</th>\n",
       "      <td>2022-07-02</td>\n",
       "      <td>0.0</td>\n",
       "      <td>0.0</td>\n",
       "      <td>0.0</td>\n",
       "      <td>0.0</td>\n",
       "      <td>0.0</td>\n",
       "      <td>0.0</td>\n",
       "      <td>0.0</td>\n",
       "    </tr>\n",
       "    <tr>\n",
       "      <th>397</th>\n",
       "      <td>2022-07-03</td>\n",
       "      <td>0.0</td>\n",
       "      <td>0.0</td>\n",
       "      <td>0.0</td>\n",
       "      <td>0.0</td>\n",
       "      <td>0.0</td>\n",
       "      <td>0.0</td>\n",
       "      <td>0.0</td>\n",
       "    </tr>\n",
       "    <tr>\n",
       "      <th>398</th>\n",
       "      <td>2022-07-04</td>\n",
       "      <td>0.0</td>\n",
       "      <td>0.0</td>\n",
       "      <td>0.0</td>\n",
       "      <td>0.0</td>\n",
       "      <td>0.0</td>\n",
       "      <td>0.0</td>\n",
       "      <td>0.0</td>\n",
       "    </tr>\n",
       "  </tbody>\n",
       "</table>\n",
       "<p>399 rows × 8 columns</p>\n",
       "</div>"
      ],
      "text/plain": [
       "           date  phq_impact_severe_weather_cold_wave_retail  \\\n",
       "0    2021-06-01                                         0.0   \n",
       "1    2021-06-02                                         0.0   \n",
       "2    2021-06-03                                         0.0   \n",
       "3    2021-06-04                                         0.0   \n",
       "4    2021-06-05                                         0.0   \n",
       "..          ...                                         ...   \n",
       "394  2022-06-30                                         0.0   \n",
       "395  2022-07-01                                         0.0   \n",
       "396  2022-07-02                                         0.0   \n",
       "397  2022-07-03                                         0.0   \n",
       "398  2022-07-04                                         0.0   \n",
       "\n",
       "     phq_impact_severe_weather_cold_wave_storm_retail  \\\n",
       "0                                                 0.0   \n",
       "1                                                 0.0   \n",
       "2                                                 0.0   \n",
       "3                                                 0.0   \n",
       "4                                                 0.0   \n",
       "..                                                ...   \n",
       "394                                               0.0   \n",
       "395                                               0.0   \n",
       "396                                               0.0   \n",
       "397                                               0.0   \n",
       "398                                               0.0   \n",
       "\n",
       "     phq_impact_severe_weather_flood_retail  \\\n",
       "0                                       0.0   \n",
       "1                                       0.0   \n",
       "2                                       0.0   \n",
       "3                                       0.0   \n",
       "4                                       0.0   \n",
       "..                                      ...   \n",
       "394                                     0.0   \n",
       "395                                     0.0   \n",
       "396                                     0.0   \n",
       "397                                     0.0   \n",
       "398                                     0.0   \n",
       "\n",
       "     phq_impact_severe_weather_heat_wave_retail  \\\n",
       "0                                           0.0   \n",
       "1                                           0.0   \n",
       "2                                           0.0   \n",
       "3                                           0.0   \n",
       "4                                           0.0   \n",
       "..                                          ...   \n",
       "394                                         0.0   \n",
       "395                                         0.0   \n",
       "396                                         0.0   \n",
       "397                                         0.0   \n",
       "398                                         0.0   \n",
       "\n",
       "     phq_impact_severe_weather_thunderstorm_retail  \\\n",
       "0                                              0.0   \n",
       "1                                              0.0   \n",
       "2                                              0.0   \n",
       "3                                              0.0   \n",
       "4                                              0.0   \n",
       "..                                             ...   \n",
       "394                                            0.0   \n",
       "395                                            0.0   \n",
       "396                                            0.0   \n",
       "397                                            0.0   \n",
       "398                                            0.0   \n",
       "\n",
       "     phq_impact_severe_weather_tornado_retail  \\\n",
       "0                                         0.0   \n",
       "1                                         0.0   \n",
       "2                                         0.0   \n",
       "3                                         0.0   \n",
       "4                                         0.0   \n",
       "..                                        ...   \n",
       "394                                       0.0   \n",
       "395                                       0.0   \n",
       "396                                       0.0   \n",
       "397                                       0.0   \n",
       "398                                       0.0   \n",
       "\n",
       "     phq_impact_severe_weather_tropical_storm_retail  \n",
       "0                                                0.0  \n",
       "1                                                0.0  \n",
       "2                                                0.0  \n",
       "3                                                0.0  \n",
       "4                                                0.0  \n",
       "..                                               ...  \n",
       "394                                              0.0  \n",
       "395                                              0.0  \n",
       "396                                              0.0  \n",
       "397                                              0.0  \n",
       "398                                              0.0  \n",
       "\n",
       "[399 rows x 8 columns]"
      ]
     },
     "execution_count": 27,
     "metadata": {},
     "output_type": "execute_result"
    }
   ],
   "source": [
    "categories_impact = {\n",
    "    \"phq_impact_severe_weather_air_quality_retail\",\n",
    "    \"phq_impact_severe_weather_blizzard_retail\",\n",
    "    \"phq_impact_severe_weather_cold_wave_retail\",\n",
    "    \"phq_impact_severe_weather_cold_wave_snow_retail\",\n",
    "    \"phq_impact_severe_weather_cold_wave_storm_retail\",\n",
    "    \"phq_impact_severe_weather_dust_retail\",\n",
    "    \"phq_impact_severe_weather_dust_storm_retail\",\n",
    "    \"phq_impact_severe_weather_flood_retail\",\n",
    "    \"phq_impact_severe_weather_heat_wave_retail\",\n",
    "    \"phq_impact_severe_weather_hurricane_retail\",\n",
    "    \"phq_impact_severe_weather_thunderstorm_retail\",\n",
    "    \"phq_impact_severe_weather_tornado_retail\",\n",
    "    \"phq_impact_severe_weather_tropical_storm_retail\",\n",
    "}\n",
    "\n",
    "\n",
    "def get_features_api_impact_events(lat, lon, start, end, rank_threshold=30):\n",
    "    start = datetime.strptime(start, DATE_FORMAT).date()\n",
    "    end = datetime.strptime(end, DATE_FORMAT).date()\n",
    "\n",
    "    result = []\n",
    "    for gte, lte in get_date_groups(start, end):\n",
    "        query = {\n",
    "            \"active__gte\": gte,\n",
    "            \"active__lte\": lte,\n",
    "            \"location__geo\": {\"lat\": lat, \"lon\": lon, \"radius\": \"1mi\"},\n",
    "        }\n",
    "\n",
    "        query.update({f\"{f}__stats\": [\"max\"] for f in categories_impact})\n",
    "        query.update(\n",
    "            {f\"{f}__phq_rank\": {\"gte\": rank_threshold} for f in categories_impact}\n",
    "        )\n",
    "\n",
    "        features = phq.features.obtain_features(**query)\n",
    "\n",
    "        for feature in features:\n",
    "            record = {}\n",
    "            for k, v in feature.to_dict().items():\n",
    "                if k == \"date\":\n",
    "                    record[k] = v.strftime(\"%Y-%m-%d\")\n",
    "                else:\n",
    "                    record[k] = v.get(\"stats\", {}).get(\"max\")\n",
    "\n",
    "            result.append(record)\n",
    "\n",
    "    return result\n",
    "\n",
    "\n",
    "\n",
    "res = get_features_api_impact_events(\n",
    "    40.7079, -74.0115, \"2021-06-01\", \"2022-07-04\", 60\n",
    ")\n",
    "df_impact_features = pd.DataFrame(res)\n",
    "\n",
    "# drop features that only contains 0s\n",
    "columns_constant = [\n",
    "    col\n",
    "    for col in df_impact_features.sum()[1:].to_dict().keys()\n",
    "    if df_impact_features[col].sum() == 0\n",
    "]\n",
    "df_impact_features.drop(columns=columns_constant, inplace=True)\n",
    "\n",
    "df_impact_features"
   ]
  }
 ],
 "metadata": {
  "deepnote": {},
  "deepnote_execution_queue": [],
  "deepnote_notebook_id": "cdc59178-9e92-4009-9103-c433391d0c67",
  "deepnote_persisted_session": {
   "createdAt": "2022-09-08T00:01:38.881Z"
  },
  "kernelspec": {
   "display_name": "Python [conda env:r-miniconda-features_guide_notebook]",
   "language": "python",
   "name": "conda-env-r-miniconda-features_guide_notebook-py"
  },
  "language_info": {
   "codemirror_mode": {
    "name": "ipython",
    "version": 3
   },
   "file_extension": ".py",
   "mimetype": "text/x-python",
   "name": "python",
   "nbconvert_exporter": "python",
   "pygments_lexer": "ipython3",
   "version": "3.8.13"
  }
 },
 "nbformat": 4,
 "nbformat_minor": 2
}
