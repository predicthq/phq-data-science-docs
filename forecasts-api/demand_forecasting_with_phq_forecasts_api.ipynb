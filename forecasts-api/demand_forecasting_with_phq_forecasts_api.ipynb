{
 "cells": [
  {
   "cell_type": "markdown",
   "metadata": {
    "cell_id": "7c38a786c43c4e7d87a058add5cecda7",
    "deepnote_cell_type": "markdown"
   },
   "source": [
    "This notebook demonstrates how to use PredictHQ’s Forecasts API. A sample demand dataset and configuration file is provided."
   ]
  },
  {
   "cell_type": "code",
   "execution_count": null,
   "metadata": {
    "cell_id": "8565c097a6ae4419a50d94e13442893c",
    "deepnote_cell_type": "code",
    "execution_context_id": "96143015-3986-40b2-829d-cc868b422813",
    "execution_millis": 1,
    "execution_start": 1740951579011,
    "source_hash": "9cef97"
   },
   "outputs": [],
   "source": [
    "# Install dependencies if not already installed\n",
    "# !pip install -r requirements.txt"
   ]
  },
  {
   "cell_type": "code",
   "execution_count": 1,
   "metadata": {
    "cell_id": "3e9218df3b2a4a40b46fac7cfe78e2d7",
    "deepnote_cell_type": "code",
    "execution_context_id": "06808381-ca3f-47ae-9800-ab707490d58e",
    "execution_millis": 0,
    "execution_start": 1744594556260,
    "source_hash": "63b00d72"
   },
   "outputs": [],
   "source": [
    "import os\n",
    "import pandas as pd\n",
    "import time\n",
    "import json\n",
    "import requests\n",
    "import plotly.graph_objects as go"
   ]
  },
  {
   "cell_type": "markdown",
   "metadata": {},
   "source": [
    "# Load Access Token\n",
    "\n",
    "[Create a valid access token](https://docs.predicthq.com/getting-started/api-quickstart#create-an-access-token) if you do not already have one and load to access PredictHQ's APIs."
   ]
  },
  {
   "cell_type": "code",
   "execution_count": null,
   "metadata": {
    "cell_id": "b61cd8993cc645029dfeb754491678d3",
    "deepnote_cell_type": "code",
    "execution_context_id": "06808381-ca3f-47ae-9800-ab707490d58e",
    "execution_millis": 2,
    "execution_start": 1744594563798,
    "source_hash": "c786416a"
   },
   "outputs": [],
   "source": [
    "PHQ_ACCESS_TOKEN = os.environ.get(\"PHQ_ACCESS_TOKEN\") or \"REPLACE_WITH_YOUR_ACCESS_TOKEN\"\n",
    "headers = {\n",
    "    \"Content-Type\": \"application/json\",\n",
    "    \"Authorization\": f\"Bearer {PHQ_ACCESS_TOKEN}\",\n",
    "}\n",
    "API_URL = \"https://api.predicthq.com\""
   ]
  },
  {
   "cell_type": "markdown",
   "metadata": {
    "cell_id": "e84a008c3b734883aab87c6268da07b4",
    "deepnote_cell_type": "markdown"
   },
   "source": [
    "# Create a Saved Location\n",
    "\n",
    "Create a Saved Location for the location you want to forecast. This allows you to reference the location easily and ensures consistency across forecasts. The ideal radius for the location can be calculated using the Suggested Radius API."
   ]
  },
  {
   "cell_type": "code",
   "execution_count": 4,
   "metadata": {
    "cell_id": "9db579a6c6564e9ea400dd44498ee168",
    "deepnote_cell_type": "code",
    "execution_context_id": "06808381-ca3f-47ae-9800-ab707490d58e",
    "execution_millis": 379,
    "execution_start": 1744594566974,
    "source_hash": "f4d98fb4"
   },
   "outputs": [
    {
     "name": "stdout",
     "output_type": "stream",
     "text": [
      "{'name': 'Sample Restaurant Location', 'lat': 51.50396, 'lon': 0.00476, 'industry': 'restaurants'}\n"
     ]
    }
   ],
   "source": [
    "# Get location details\n",
    "with open(\"data/sample_config.json\", \"r\") as json_file:\n",
    "    config = json.load(json_file)\n",
    "\n",
    "print(config)"
   ]
  },
  {
   "cell_type": "code",
   "execution_count": 5,
   "metadata": {
    "cell_id": "3a4df3cde4e343ba9642711474139f0f",
    "deepnote_cell_type": "code",
    "execution_context_id": "06808381-ca3f-47ae-9800-ab707490d58e",
    "execution_millis": 274,
    "execution_start": 1744594570216,
    "source_hash": "7b6cf6f4"
   },
   "outputs": [
    {
     "name": "stdout",
     "output_type": "stream",
     "text": [
      "Suggested radius: 1.11 mi\n"
     ]
    }
   ],
   "source": [
    "# Get suggested radius\n",
    "response = requests.get(\n",
    "    url=f\"{API_URL}/v1/suggested-radius/\",\n",
    "    headers=headers,\n",
    "    params={\n",
    "        \"location.origin\": f\"{config['lat']},{config['lon']}\",\n",
    "        \"industry\": config[\"industry\"],\n",
    "        \"radius_unit\": \"mi\",\n",
    "    },\n",
    ")\n",
    "\n",
    "data = response.json()\n",
    "radius = data[\"radius\"]\n",
    "radius_unit = data[\"radius_unit\"]\n",
    "\n",
    "print(f\"Suggested radius: {radius} {radius_unit}\")"
   ]
  },
  {
   "cell_type": "code",
   "execution_count": 6,
   "metadata": {
    "cell_id": "b591ea5898684ea89f48beca763cb86a",
    "deepnote_cell_type": "code",
    "execution_context_id": "06808381-ca3f-47ae-9800-ab707490d58e",
    "execution_millis": 564,
    "execution_start": 1744594572980,
    "source_hash": "fefb1767"
   },
   "outputs": [
    {
     "name": "stdout",
     "output_type": "stream",
     "text": [
      "Saved Location ID: jJli0RvrFXONrMH8c0J4BA\n"
     ]
    }
   ],
   "source": [
    "# Create saved location\n",
    "response = requests.post(\n",
    "    url=f\"{API_URL}/v1/saved-locations\",\n",
    "    headers=headers,\n",
    "    data=json.dumps(\n",
    "        {\n",
    "            \"name\": config[\"name\"],\n",
    "            \"geojson\": {\n",
    "                \"type\": \"Feature\",\n",
    "                \"properties\": {\"radius\": radius, \"radius_unit\": radius_unit},\n",
    "                \"geometry\": {\n",
    "                    \"type\": \"Point\",\n",
    "                    \"coordinates\": [config[\"lon\"], config[\"lat\"]],\n",
    "                },\n",
    "            },\n",
    "        }\n",
    "    ),\n",
    ")\n",
    "\n",
    "location_id = response.json()[\"location_id\"]\n",
    "print(f\"Saved Location ID: {location_id}\")"
   ]
  },
  {
   "cell_type": "markdown",
   "metadata": {
    "cell_id": "fe11ce20057e47ed864987f97b655d33",
    "deepnote_cell_type": "markdown"
   },
   "source": [
    "# Define and Train a Forecast Model"
   ]
  },
  {
   "cell_type": "code",
   "execution_count": 7,
   "metadata": {
    "cell_id": "4bb047c8306940d7a9ee829eb7705d7d",
    "deepnote_cell_type": "code",
    "execution_context_id": "06808381-ca3f-47ae-9800-ab707490d58e",
    "execution_millis": 110830,
    "execution_start": 1744594644603,
    "source_hash": "3af34691"
   },
   "outputs": [
    {
     "name": "stdout",
     "output_type": "stream",
     "text": [
      "Model ID: y-3UPg0xT3tQY66EfTbw8g\n"
     ]
    }
   ],
   "source": [
    "# Define model\n",
    "response = requests.post(\n",
    "    url=f\"{API_URL}/v1/forecasts/models\",\n",
    "    headers=headers,\n",
    "    json={\n",
    "        \"name\": f\"{config['name']} Forecast\",\n",
    "        \"location\": {\"saved_location_id\": location_id},\n",
    "        \"algo\": \"phq-xgboost\",\n",
    "        \"forecast_window\": \"7d\",\n",
    "        \"demand_type\": {\n",
    "            \"industry\": config[\"industry\"],\n",
    "        },\n",
    "    },\n",
    ")\n",
    "\n",
    "model_id = response.json()[\"model_id\"]\n",
    "print(f\"Model ID: {model_id}\")"
   ]
  },
  {
   "cell_type": "code",
   "execution_count": 8,
   "metadata": {
    "cell_id": "29a43a5acd0f47c3937e433f33506a13",
    "deepnote_cell_type": "code",
    "execution_context_id": "06808381-ca3f-47ae-9800-ab707490d58e",
    "execution_millis": 580,
    "execution_start": 1744595782645,
    "source_hash": "3552621a"
   },
   "outputs": [
    {
     "name": "stdout",
     "output_type": "stream",
     "text": [
      "Demand upload: Successful\n"
     ]
    }
   ],
   "source": [
    "# Upload demand\n",
    "sample_demand_df = pd.read_csv(\"data/sample_demand.csv\")\n",
    "sample_demand_json = sample_demand_df.to_json(orient=\"records\")\n",
    "\n",
    "response = requests.post(\n",
    "    url=f\"{API_URL}/v1/forecasts/models/{model_id}/demand\",\n",
    "    headers=headers,\n",
    "    json={\"demand\": json.loads(sample_demand_json)},\n",
    ")\n",
    "\n",
    "print(f\"Demand upload: {'Successful' if response.status_code == 201 else 'Failed'}\")"
   ]
  },
  {
   "cell_type": "code",
   "execution_count": 9,
   "metadata": {
    "cell_id": "62e3cbd24a1c43a7a186f65160a6be3b",
    "deepnote_cell_type": "code",
    "execution_context_id": "06808381-ca3f-47ae-9800-ab707490d58e",
    "execution_millis": 0,
    "execution_start": 1744595792166,
    "source_hash": "d5f0f9d9"
   },
   "outputs": [
    {
     "name": "stdout",
     "output_type": "stream",
     "text": [
      "Model training: Triggered\n"
     ]
    }
   ],
   "source": [
    "# Train model\n",
    "response = requests.post(\n",
    "    url=f\"{API_URL}/v1/forecasts/models/{model_id}/train\",\n",
    "    headers=headers,\n",
    ")\n",
    "\n",
    "print(f\"Model training: {'Triggered' if response.status_code == 204 else 'Failed'}\")"
   ]
  },
  {
   "cell_type": "markdown",
   "metadata": {},
   "source": [
    "# Check Model Status\n",
    "\n",
    "The model training may take up to a few minutes. Make sure the model is `ready` before proceeding."
   ]
  },
  {
   "cell_type": "code",
   "execution_count": 10,
   "metadata": {},
   "outputs": [
    {
     "name": "stdout",
     "output_type": "stream",
     "text": [
      "Model is preparing. Checking again in 30 seconds...\n",
      "Model is training. Checking again in 30 seconds...\n",
      "Model is ready!\n"
     ]
    }
   ],
   "source": [
    "while True:\n",
    "    response = requests.get(\n",
    "        url=f\"{API_URL}/v1/forecasts/models/{model_id}\",\n",
    "        headers=headers,\n",
    "    )\n",
    "    if response.status_code != 200:\n",
    "        raise Exception(f\"Failed to get model status: {response.status_code}, {response.text}\")\n",
    "    \n",
    "    model_status = response.json()[\"model\"][\"readiness\"][\"status\"]\n",
    "    if model_status == \"ready\":\n",
    "        print(\"Model is ready!\")\n",
    "        break\n",
    "    if model_status == \"failed\":\n",
    "        raise Exception(\"Model training failed\")\n",
    "\n",
    "    print(f\"Model is {model_status}. Checking again in 30 seconds...\")\n",
    "    time.sleep(30)"
   ]
  },
  {
   "cell_type": "markdown",
   "metadata": {
    "cell_id": "388dec8ee1e248a187cae8b1c7a51253",
    "deepnote_cell_type": "markdown"
   },
   "source": [
    "# Evaluate Forecast Model"
   ]
  },
  {
   "cell_type": "markdown",
   "metadata": {},
   "source": [
    "Use evaluation metrics such as MAPE to compare the model performance to other models, benchmarks, etc. In this example, the benchmark model had a MAPE of 13.05%."
   ]
  },
  {
   "cell_type": "code",
   "execution_count": 11,
   "metadata": {},
   "outputs": [
    {
     "name": "stdout",
     "output_type": "stream",
     "text": [
      "Evaluation metrics: {\n",
      "  \"accuracy\": {\n",
      "    \"mape\": 9.28,\n",
      "    \"mae\": 1751.09,\n",
      "    \"rmse\": 2373.64\n",
      "  },\n",
      "  \"demand_data\": {\n",
      "    \"date_range\": {\n",
      "      \"start\": \"2023-02-03\",\n",
      "      \"end\": \"2023-08-02\"\n",
      "    }\n",
      "  },\n",
      "  \"training_data\": {\n",
      "    \"date_range\": {\n",
      "      \"start\": \"2023-02-03\",\n",
      "      \"end\": \"2023-08-02\"\n",
      "    },\n",
      "    \"missing_pct\": 0.0,\n",
      "    \"missing_dates\": []\n",
      "  }\n",
      "}\n"
     ]
    }
   ],
   "source": [
    "# Get evaluation results\n",
    "response = requests.get(\n",
    "    url=f\"{API_URL}/v1/forecasts/models/{model_id}\",\n",
    "    headers=headers,\n",
    ")\n",
    "\n",
    "metrics = response.json()['model']['metrics']\n",
    "print(f\"Evaluation metrics: {json.dumps(metrics, indent=2)}\")"
   ]
  },
  {
   "cell_type": "markdown",
   "metadata": {
    "cell_id": "f9e4991520eb439da1dccf4a2fb2800b",
    "deepnote_cell_type": "markdown"
   },
   "source": [
    "# Generate Forecasts"
   ]
  },
  {
   "cell_type": "code",
   "execution_count": 12,
   "metadata": {},
   "outputs": [],
   "source": [
    "# Get forecast\n",
    "response = requests.get(\n",
    "    url=f\"{API_URL}/v1/forecasts/models/{model_id}/forecast\",\n",
    "    headers=headers,\n",
    "    params={\"date.gt\": \"2023-08-02\"},\n",
    ")\n",
    "\n",
    "results = response.json()[\"results\"]\n",
    "forecasts_df = pd.DataFrame(results)"
   ]
  },
  {
   "cell_type": "markdown",
   "metadata": {},
   "source": [
    "## Visualise results"
   ]
  },
  {
   "cell_type": "code",
   "execution_count": 13,
   "metadata": {
    "cell_id": "07742747bfee493fa7ff2e4b40f8794b",
    "deepnote_cell_type": "code",
    "execution_context_id": "96143015-3986-40b2-829d-cc868b422813",
    "execution_millis": 42,
    "execution_start": 1740951644063,
    "source_hash": "5100c52c"
   },
   "outputs": [
    {
     "data": {
      "application/vnd.plotly.v1+json": {
       "config": {
        "plotlyServerURL": "https://plot.ly"
       },
       "data": [
        {
         "mode": "lines+markers",
         "name": "Actual",
         "type": "scatter",
         "x": [
          "2023-02-03",
          "2023-02-04",
          "2023-02-05",
          "2023-02-06",
          "2023-02-07",
          "2023-02-08",
          "2023-02-09",
          "2023-02-10",
          "2023-02-11",
          "2023-02-12",
          "2023-02-13",
          "2023-02-14",
          "2023-02-15",
          "2023-02-16",
          "2023-02-17",
          "2023-02-18",
          "2023-02-19",
          "2023-02-20",
          "2023-02-21",
          "2023-02-22",
          "2023-02-23",
          "2023-02-24",
          "2023-02-25",
          "2023-02-26",
          "2023-02-27",
          "2023-02-28",
          "2023-03-01",
          "2023-03-02",
          "2023-03-03",
          "2023-03-04",
          "2023-03-05",
          "2023-03-06",
          "2023-03-07",
          "2023-03-08",
          "2023-03-09",
          "2023-03-10",
          "2023-03-11",
          "2023-03-12",
          "2023-03-13",
          "2023-03-14",
          "2023-03-15",
          "2023-03-16",
          "2023-03-17",
          "2023-03-18",
          "2023-03-19",
          "2023-03-20",
          "2023-03-21",
          "2023-03-22",
          "2023-03-23",
          "2023-03-24",
          "2023-03-25",
          "2023-03-26",
          "2023-03-27",
          "2023-03-28",
          "2023-03-29",
          "2023-03-30",
          "2023-03-31",
          "2023-04-01",
          "2023-04-02",
          "2023-04-03",
          "2023-04-04",
          "2023-04-05",
          "2023-04-06",
          "2023-04-07",
          "2023-04-08",
          "2023-04-09",
          "2023-04-10",
          "2023-04-11",
          "2023-04-12",
          "2023-04-13",
          "2023-04-14",
          "2023-04-15",
          "2023-04-16",
          "2023-04-17",
          "2023-04-18",
          "2023-04-19",
          "2023-04-20",
          "2023-04-21",
          "2023-04-22",
          "2023-04-23",
          "2023-04-24",
          "2023-04-25",
          "2023-04-26",
          "2023-04-27",
          "2023-04-28",
          "2023-04-29",
          "2023-04-30",
          "2023-05-01",
          "2023-05-02",
          "2023-05-03",
          "2023-05-04",
          "2023-05-05",
          "2023-05-06",
          "2023-05-07",
          "2023-05-08",
          "2023-05-09",
          "2023-05-10",
          "2023-05-11",
          "2023-05-12",
          "2023-05-13",
          "2023-05-14",
          "2023-05-15",
          "2023-05-16",
          "2023-05-17",
          "2023-05-18",
          "2023-05-19",
          "2023-05-20",
          "2023-05-21",
          "2023-05-22",
          "2023-05-23",
          "2023-05-24",
          "2023-05-25",
          "2023-05-26",
          "2023-05-27",
          "2023-05-28",
          "2023-05-29",
          "2023-05-30",
          "2023-05-31",
          "2023-06-01",
          "2023-06-02",
          "2023-06-03",
          "2023-06-04",
          "2023-06-05",
          "2023-06-06",
          "2023-06-07",
          "2023-06-08",
          "2023-06-09",
          "2023-06-10",
          "2023-06-11",
          "2023-06-12",
          "2023-06-13",
          "2023-06-14",
          "2023-06-15",
          "2023-06-16",
          "2023-06-17",
          "2023-06-18",
          "2023-06-19",
          "2023-06-20",
          "2023-06-21",
          "2023-06-22",
          "2023-06-23",
          "2023-06-24",
          "2023-06-25",
          "2023-06-26",
          "2023-06-27",
          "2023-06-28",
          "2023-06-29",
          "2023-06-30",
          "2023-07-01",
          "2023-07-02",
          "2023-07-03",
          "2023-07-04",
          "2023-07-05",
          "2023-07-06",
          "2023-07-07",
          "2023-07-08",
          "2023-07-09",
          "2023-07-10",
          "2023-07-11",
          "2023-07-12",
          "2023-07-13",
          "2023-07-14",
          "2023-07-15",
          "2023-07-16",
          "2023-07-17",
          "2023-07-18",
          "2023-07-19",
          "2023-07-20",
          "2023-07-21",
          "2023-07-22",
          "2023-07-23",
          "2023-07-24",
          "2023-07-25",
          "2023-07-26",
          "2023-07-27",
          "2023-07-28",
          "2023-07-29",
          "2023-07-30",
          "2023-07-31",
          "2023-08-01",
          "2023-08-02"
         ],
         "y": [
          17696,
          28718,
          24442,
          13468,
          12600,
          13671,
          13324,
          16589,
          22597,
          18372,
          17127,
          22995,
          22699,
          21499,
          19838,
          24359,
          17968,
          20396,
          13558,
          17225,
          13815,
          16738,
          23175,
          18421,
          13625,
          14121,
          13992,
          15958,
          18466,
          26586,
          19819,
          19722,
          19651,
          18356,
          14375,
          22363,
          28106,
          23906,
          21343,
          18410,
          21513,
          22913,
          17146,
          27008,
          24730,
          22511,
          21709,
          19795,
          21314,
          22698,
          27154,
          24239,
          14469,
          20105,
          13353,
          14140,
          17107,
          26229,
          22617,
          17551,
          16909,
          22681,
          23580,
          22554,
          27236,
          22133,
          19155,
          18981,
          22419,
          23467,
          25801,
          23649,
          20012,
          18807,
          19170,
          19561,
          21378,
          21024,
          26093,
          22940,
          13457,
          13904,
          14123,
          21535,
          20310,
          27554,
          23286,
          22972,
          17241,
          14243,
          23018,
          15240,
          27710,
          25610,
          21772,
          12529,
          13381,
          20616,
          21476,
          26542,
          23756,
          12574,
          13691,
          14669,
          20937,
          21673,
          25937,
          19439,
          13088,
          13557,
          13847,
          19250,
          23549,
          26932,
          20488,
          22875,
          17739,
          16963,
          22928,
          24461,
          24249,
          20995,
          13940,
          17378,
          17036,
          13841,
          16338,
          19519,
          18143,
          13392,
          17302,
          17959,
          16828,
          16727,
          24739,
          20322,
          16147,
          14276,
          17990,
          14123,
          16256,
          20000,
          21380,
          18618,
          14626,
          15769,
          15567,
          23482,
          27183,
          20642,
          20321,
          14639,
          20727,
          16422,
          22905,
          25102,
          20815,
          15123,
          14389,
          19624,
          14845,
          21661,
          25776,
          22984,
          14646,
          14966,
          15871,
          16495,
          20596,
          27480,
          20240,
          17122,
          17291,
          16848,
          17923,
          20175,
          24249,
          20169,
          16277,
          16668,
          17175
         ]
        },
        {
         "mode": "lines+markers",
         "name": "Forecast",
         "type": "scatter",
         "x": [
          "2023-08-03",
          "2023-08-04",
          "2023-08-05",
          "2023-08-06",
          "2023-08-07",
          "2023-08-08",
          "2023-08-09"
         ],
         "y": [
          17818.96,
          20367.98,
          23596.45,
          20460.84,
          16754.59,
          16754.59,
          17257.9
         ]
        }
       ],
       "layout": {
        "template": {
         "data": {
          "bar": [
           {
            "error_x": {
             "color": "#2a3f5f"
            },
            "error_y": {
             "color": "#2a3f5f"
            },
            "marker": {
             "line": {
              "color": "#E5ECF6",
              "width": 0.5
             },
             "pattern": {
              "fillmode": "overlay",
              "size": 10,
              "solidity": 0.2
             }
            },
            "type": "bar"
           }
          ],
          "barpolar": [
           {
            "marker": {
             "line": {
              "color": "#E5ECF6",
              "width": 0.5
             },
             "pattern": {
              "fillmode": "overlay",
              "size": 10,
              "solidity": 0.2
             }
            },
            "type": "barpolar"
           }
          ],
          "carpet": [
           {
            "aaxis": {
             "endlinecolor": "#2a3f5f",
             "gridcolor": "white",
             "linecolor": "white",
             "minorgridcolor": "white",
             "startlinecolor": "#2a3f5f"
            },
            "baxis": {
             "endlinecolor": "#2a3f5f",
             "gridcolor": "white",
             "linecolor": "white",
             "minorgridcolor": "white",
             "startlinecolor": "#2a3f5f"
            },
            "type": "carpet"
           }
          ],
          "choropleth": [
           {
            "colorbar": {
             "outlinewidth": 0,
             "ticks": ""
            },
            "type": "choropleth"
           }
          ],
          "contour": [
           {
            "colorbar": {
             "outlinewidth": 0,
             "ticks": ""
            },
            "colorscale": [
             [
              0,
              "#0d0887"
             ],
             [
              0.1111111111111111,
              "#46039f"
             ],
             [
              0.2222222222222222,
              "#7201a8"
             ],
             [
              0.3333333333333333,
              "#9c179e"
             ],
             [
              0.4444444444444444,
              "#bd3786"
             ],
             [
              0.5555555555555556,
              "#d8576b"
             ],
             [
              0.6666666666666666,
              "#ed7953"
             ],
             [
              0.7777777777777778,
              "#fb9f3a"
             ],
             [
              0.8888888888888888,
              "#fdca26"
             ],
             [
              1,
              "#f0f921"
             ]
            ],
            "type": "contour"
           }
          ],
          "contourcarpet": [
           {
            "colorbar": {
             "outlinewidth": 0,
             "ticks": ""
            },
            "type": "contourcarpet"
           }
          ],
          "heatmap": [
           {
            "colorbar": {
             "outlinewidth": 0,
             "ticks": ""
            },
            "colorscale": [
             [
              0,
              "#0d0887"
             ],
             [
              0.1111111111111111,
              "#46039f"
             ],
             [
              0.2222222222222222,
              "#7201a8"
             ],
             [
              0.3333333333333333,
              "#9c179e"
             ],
             [
              0.4444444444444444,
              "#bd3786"
             ],
             [
              0.5555555555555556,
              "#d8576b"
             ],
             [
              0.6666666666666666,
              "#ed7953"
             ],
             [
              0.7777777777777778,
              "#fb9f3a"
             ],
             [
              0.8888888888888888,
              "#fdca26"
             ],
             [
              1,
              "#f0f921"
             ]
            ],
            "type": "heatmap"
           }
          ],
          "heatmapgl": [
           {
            "colorbar": {
             "outlinewidth": 0,
             "ticks": ""
            },
            "colorscale": [
             [
              0,
              "#0d0887"
             ],
             [
              0.1111111111111111,
              "#46039f"
             ],
             [
              0.2222222222222222,
              "#7201a8"
             ],
             [
              0.3333333333333333,
              "#9c179e"
             ],
             [
              0.4444444444444444,
              "#bd3786"
             ],
             [
              0.5555555555555556,
              "#d8576b"
             ],
             [
              0.6666666666666666,
              "#ed7953"
             ],
             [
              0.7777777777777778,
              "#fb9f3a"
             ],
             [
              0.8888888888888888,
              "#fdca26"
             ],
             [
              1,
              "#f0f921"
             ]
            ],
            "type": "heatmapgl"
           }
          ],
          "histogram": [
           {
            "marker": {
             "pattern": {
              "fillmode": "overlay",
              "size": 10,
              "solidity": 0.2
             }
            },
            "type": "histogram"
           }
          ],
          "histogram2d": [
           {
            "colorbar": {
             "outlinewidth": 0,
             "ticks": ""
            },
            "colorscale": [
             [
              0,
              "#0d0887"
             ],
             [
              0.1111111111111111,
              "#46039f"
             ],
             [
              0.2222222222222222,
              "#7201a8"
             ],
             [
              0.3333333333333333,
              "#9c179e"
             ],
             [
              0.4444444444444444,
              "#bd3786"
             ],
             [
              0.5555555555555556,
              "#d8576b"
             ],
             [
              0.6666666666666666,
              "#ed7953"
             ],
             [
              0.7777777777777778,
              "#fb9f3a"
             ],
             [
              0.8888888888888888,
              "#fdca26"
             ],
             [
              1,
              "#f0f921"
             ]
            ],
            "type": "histogram2d"
           }
          ],
          "histogram2dcontour": [
           {
            "colorbar": {
             "outlinewidth": 0,
             "ticks": ""
            },
            "colorscale": [
             [
              0,
              "#0d0887"
             ],
             [
              0.1111111111111111,
              "#46039f"
             ],
             [
              0.2222222222222222,
              "#7201a8"
             ],
             [
              0.3333333333333333,
              "#9c179e"
             ],
             [
              0.4444444444444444,
              "#bd3786"
             ],
             [
              0.5555555555555556,
              "#d8576b"
             ],
             [
              0.6666666666666666,
              "#ed7953"
             ],
             [
              0.7777777777777778,
              "#fb9f3a"
             ],
             [
              0.8888888888888888,
              "#fdca26"
             ],
             [
              1,
              "#f0f921"
             ]
            ],
            "type": "histogram2dcontour"
           }
          ],
          "mesh3d": [
           {
            "colorbar": {
             "outlinewidth": 0,
             "ticks": ""
            },
            "type": "mesh3d"
           }
          ],
          "parcoords": [
           {
            "line": {
             "colorbar": {
              "outlinewidth": 0,
              "ticks": ""
             }
            },
            "type": "parcoords"
           }
          ],
          "pie": [
           {
            "automargin": true,
            "type": "pie"
           }
          ],
          "scatter": [
           {
            "fillpattern": {
             "fillmode": "overlay",
             "size": 10,
             "solidity": 0.2
            },
            "type": "scatter"
           }
          ],
          "scatter3d": [
           {
            "line": {
             "colorbar": {
              "outlinewidth": 0,
              "ticks": ""
             }
            },
            "marker": {
             "colorbar": {
              "outlinewidth": 0,
              "ticks": ""
             }
            },
            "type": "scatter3d"
           }
          ],
          "scattercarpet": [
           {
            "marker": {
             "colorbar": {
              "outlinewidth": 0,
              "ticks": ""
             }
            },
            "type": "scattercarpet"
           }
          ],
          "scattergeo": [
           {
            "marker": {
             "colorbar": {
              "outlinewidth": 0,
              "ticks": ""
             }
            },
            "type": "scattergeo"
           }
          ],
          "scattergl": [
           {
            "marker": {
             "colorbar": {
              "outlinewidth": 0,
              "ticks": ""
             }
            },
            "type": "scattergl"
           }
          ],
          "scattermapbox": [
           {
            "marker": {
             "colorbar": {
              "outlinewidth": 0,
              "ticks": ""
             }
            },
            "type": "scattermapbox"
           }
          ],
          "scatterpolar": [
           {
            "marker": {
             "colorbar": {
              "outlinewidth": 0,
              "ticks": ""
             }
            },
            "type": "scatterpolar"
           }
          ],
          "scatterpolargl": [
           {
            "marker": {
             "colorbar": {
              "outlinewidth": 0,
              "ticks": ""
             }
            },
            "type": "scatterpolargl"
           }
          ],
          "scatterternary": [
           {
            "marker": {
             "colorbar": {
              "outlinewidth": 0,
              "ticks": ""
             }
            },
            "type": "scatterternary"
           }
          ],
          "surface": [
           {
            "colorbar": {
             "outlinewidth": 0,
             "ticks": ""
            },
            "colorscale": [
             [
              0,
              "#0d0887"
             ],
             [
              0.1111111111111111,
              "#46039f"
             ],
             [
              0.2222222222222222,
              "#7201a8"
             ],
             [
              0.3333333333333333,
              "#9c179e"
             ],
             [
              0.4444444444444444,
              "#bd3786"
             ],
             [
              0.5555555555555556,
              "#d8576b"
             ],
             [
              0.6666666666666666,
              "#ed7953"
             ],
             [
              0.7777777777777778,
              "#fb9f3a"
             ],
             [
              0.8888888888888888,
              "#fdca26"
             ],
             [
              1,
              "#f0f921"
             ]
            ],
            "type": "surface"
           }
          ],
          "table": [
           {
            "cells": {
             "fill": {
              "color": "#EBF0F8"
             },
             "line": {
              "color": "white"
             }
            },
            "header": {
             "fill": {
              "color": "#C8D4E3"
             },
             "line": {
              "color": "white"
             }
            },
            "type": "table"
           }
          ]
         },
         "layout": {
          "annotationdefaults": {
           "arrowcolor": "#2a3f5f",
           "arrowhead": 0,
           "arrowwidth": 1
          },
          "autotypenumbers": "strict",
          "coloraxis": {
           "colorbar": {
            "outlinewidth": 0,
            "ticks": ""
           }
          },
          "colorscale": {
           "diverging": [
            [
             0,
             "#8e0152"
            ],
            [
             0.1,
             "#c51b7d"
            ],
            [
             0.2,
             "#de77ae"
            ],
            [
             0.3,
             "#f1b6da"
            ],
            [
             0.4,
             "#fde0ef"
            ],
            [
             0.5,
             "#f7f7f7"
            ],
            [
             0.6,
             "#e6f5d0"
            ],
            [
             0.7,
             "#b8e186"
            ],
            [
             0.8,
             "#7fbc41"
            ],
            [
             0.9,
             "#4d9221"
            ],
            [
             1,
             "#276419"
            ]
           ],
           "sequential": [
            [
             0,
             "#0d0887"
            ],
            [
             0.1111111111111111,
             "#46039f"
            ],
            [
             0.2222222222222222,
             "#7201a8"
            ],
            [
             0.3333333333333333,
             "#9c179e"
            ],
            [
             0.4444444444444444,
             "#bd3786"
            ],
            [
             0.5555555555555556,
             "#d8576b"
            ],
            [
             0.6666666666666666,
             "#ed7953"
            ],
            [
             0.7777777777777778,
             "#fb9f3a"
            ],
            [
             0.8888888888888888,
             "#fdca26"
            ],
            [
             1,
             "#f0f921"
            ]
           ],
           "sequentialminus": [
            [
             0,
             "#0d0887"
            ],
            [
             0.1111111111111111,
             "#46039f"
            ],
            [
             0.2222222222222222,
             "#7201a8"
            ],
            [
             0.3333333333333333,
             "#9c179e"
            ],
            [
             0.4444444444444444,
             "#bd3786"
            ],
            [
             0.5555555555555556,
             "#d8576b"
            ],
            [
             0.6666666666666666,
             "#ed7953"
            ],
            [
             0.7777777777777778,
             "#fb9f3a"
            ],
            [
             0.8888888888888888,
             "#fdca26"
            ],
            [
             1,
             "#f0f921"
            ]
           ]
          },
          "colorway": [
           "#636efa",
           "#EF553B",
           "#00cc96",
           "#ab63fa",
           "#FFA15A",
           "#19d3f3",
           "#FF6692",
           "#B6E880",
           "#FF97FF",
           "#FECB52"
          ],
          "font": {
           "color": "#2a3f5f"
          },
          "geo": {
           "bgcolor": "white",
           "lakecolor": "white",
           "landcolor": "#E5ECF6",
           "showlakes": true,
           "showland": true,
           "subunitcolor": "white"
          },
          "hoverlabel": {
           "align": "left"
          },
          "hovermode": "closest",
          "mapbox": {
           "style": "light"
          },
          "paper_bgcolor": "white",
          "plot_bgcolor": "#E5ECF6",
          "polar": {
           "angularaxis": {
            "gridcolor": "white",
            "linecolor": "white",
            "ticks": ""
           },
           "bgcolor": "#E5ECF6",
           "radialaxis": {
            "gridcolor": "white",
            "linecolor": "white",
            "ticks": ""
           }
          },
          "scene": {
           "xaxis": {
            "backgroundcolor": "#E5ECF6",
            "gridcolor": "white",
            "gridwidth": 2,
            "linecolor": "white",
            "showbackground": true,
            "ticks": "",
            "zerolinecolor": "white"
           },
           "yaxis": {
            "backgroundcolor": "#E5ECF6",
            "gridcolor": "white",
            "gridwidth": 2,
            "linecolor": "white",
            "showbackground": true,
            "ticks": "",
            "zerolinecolor": "white"
           },
           "zaxis": {
            "backgroundcolor": "#E5ECF6",
            "gridcolor": "white",
            "gridwidth": 2,
            "linecolor": "white",
            "showbackground": true,
            "ticks": "",
            "zerolinecolor": "white"
           }
          },
          "shapedefaults": {
           "line": {
            "color": "#2a3f5f"
           }
          },
          "ternary": {
           "aaxis": {
            "gridcolor": "white",
            "linecolor": "white",
            "ticks": ""
           },
           "baxis": {
            "gridcolor": "white",
            "linecolor": "white",
            "ticks": ""
           },
           "bgcolor": "#E5ECF6",
           "caxis": {
            "gridcolor": "white",
            "linecolor": "white",
            "ticks": ""
           }
          },
          "title": {
           "x": 0.05
          },
          "xaxis": {
           "automargin": true,
           "gridcolor": "white",
           "linecolor": "white",
           "ticks": "",
           "title": {
            "standoff": 15
           },
           "zerolinecolor": "white",
           "zerolinewidth": 2
          },
          "yaxis": {
           "automargin": true,
           "gridcolor": "white",
           "linecolor": "white",
           "ticks": "",
           "title": {
            "standoff": 15
           },
           "zerolinecolor": "white",
           "zerolinewidth": 2
          }
         }
        },
        "title": {
         "text": "Forecasts for the next 7 days"
        },
        "xaxis": {
         "title": {
          "text": "Date"
         }
        },
        "yaxis": {
         "title": {
          "text": "Demand"
         }
        }
       }
      }
     },
     "metadata": {},
     "output_type": "display_data"
    }
   ],
   "source": [
    "fig = go.Figure()\n",
    "fig.add_trace(\n",
    "    go.Scatter(\n",
    "        x=sample_demand_df[\"date\"],\n",
    "        y=sample_demand_df[\"demand\"],\n",
    "        mode=\"lines+markers\",\n",
    "        name=\"Actual\",\n",
    "    )\n",
    ")\n",
    "fig.add_trace(\n",
    "    go.Scatter(\n",
    "        x=forecasts_df[\"date\"],\n",
    "        y=forecasts_df[\"forecast\"],\n",
    "        mode=\"lines+markers\",\n",
    "        name=\"Forecast\",\n",
    "    )\n",
    ")\n",
    "fig.update_layout(\n",
    "    title=\"Forecasts for the next 7 days\",\n",
    "    xaxis_title=\"Date\",\n",
    "    yaxis_title=\"Demand\",\n",
    ")\n",
    "\n",
    "fig"
   ]
  }
 ],
 "metadata": {
  "deepnote_notebook_id": "7eac40aa7d7548269839b63eacb159df",
  "deepnote_persisted_session": {
   "createdAt": "2025-04-14T00:35:59.767Z"
  },
  "kernelspec": {
   "display_name": "school-holidays-new-features-env",
   "language": "python",
   "name": "python3"
  },
  "language_info": {
   "codemirror_mode": {
    "name": "ipython",
    "version": 3
   },
   "file_extension": ".py",
   "mimetype": "text/x-python",
   "name": "python",
   "nbconvert_exporter": "python",
   "pygments_lexer": "ipython3",
   "version": "3.11.10"
  }
 },
 "nbformat": 4,
 "nbformat_minor": 0
}
