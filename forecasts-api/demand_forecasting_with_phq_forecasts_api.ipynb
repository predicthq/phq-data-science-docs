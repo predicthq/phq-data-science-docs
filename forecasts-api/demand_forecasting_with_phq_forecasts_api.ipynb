{
 "cells": [
  {
   "cell_type": "markdown",
   "metadata": {
    "cell_id": "7c38a786c43c4e7d87a058add5cecda7",
    "deepnote_cell_type": "markdown"
   },
   "source": [
    "# PredictHQ Forecasts API Example\n",
    "\n",
    "This notebook demonstrates how to use PredictHQ’s Forecasts API. A sample demand dataset and configuration file is provided. This example will guide you through the process of making API calls and analyzing the results.\n",
    "\n",
    "## Helpful Resources\n",
    "\n",
    "- [Create an API token](https://docs.predicthq.com/getting-started/api-quickstart#create-an-access-token) if you do not already have one.\n",
    "- Review the [Getting Started guide](https://docs.predicthq.com/getting-started/guides/forecasts-api-guides/getting-started) for more information on the Forecasts API.\n",
    "- Review the [Understanding Forecast Metrics guide](https://docs.predicthq.com/getting-started/guides/forecasts-api-guides/understanding-forecast-accuracy-metrics) for more information on MAPE, MAE and RMSE.\n",
    "- Review the [Troubleshooting guide](https://docs.predicthq.com/getting-started/guides/forecasts-api-guides/troubleshooting) for more information on common issues and how to resolve them.\n",
    "- Check out the [API reference docs](https://docs.predicthq.com/api/forecasts) for more details on the Forecasts API endpoints and parameters.\n"
   ]
  },
  {
   "cell_type": "code",
   "execution_count": null,
   "metadata": {
    "cell_id": "8565c097a6ae4419a50d94e13442893c",
    "deepnote_cell_type": "code",
    "execution_context_id": "96143015-3986-40b2-829d-cc868b422813",
    "execution_millis": 1,
    "execution_start": 1740951579011,
    "source_hash": "9cef97"
   },
   "outputs": [],
   "source": [
    "# Install dependencies if not already installed\n",
    "# !pip install -r requirements.txt"
   ]
  },
  {
   "cell_type": "code",
   "execution_count": null,
   "metadata": {
    "cell_id": "3e9218df3b2a4a40b46fac7cfe78e2d7",
    "deepnote_cell_type": "code",
    "execution_context_id": "06808381-ca3f-47ae-9800-ab707490d58e",
    "execution_millis": 0,
    "execution_start": 1744594556260,
    "source_hash": "63b00d72"
   },
   "outputs": [],
   "source": [
    "import os\n",
    "import pandas as pd\n",
    "import time\n",
    "import json\n",
    "import requests\n",
    "import plotly.graph_objects as go\n",
    "from dotenv import load_dotenv\n",
    "\n",
    "load_dotenv()"
   ]
  },
  {
   "cell_type": "markdown",
   "metadata": {},
   "source": [
    "## API Token\n",
    "\n",
    "[Create an API token](https://docs.predicthq.com/getting-started/api-quickstart#create-an-access-token) if you do not already have one."
   ]
  },
  {
   "cell_type": "code",
   "execution_count": null,
   "metadata": {
    "cell_id": "b61cd8993cc645029dfeb754491678d3",
    "deepnote_cell_type": "code",
    "execution_context_id": "06808381-ca3f-47ae-9800-ab707490d58e",
    "execution_millis": 2,
    "execution_start": 1744594563798,
    "source_hash": "c786416a"
   },
   "outputs": [],
   "source": [
    "PHQ_API_TOKEN = os.getenv(\"PHQ_API_TOKEN\") or \"REPLACE_WITH_YOUR_ACCESS_TOKEN\"\n",
    "API_URL = \"https://api.predicthq.com\"\n",
    "\n",
    "headers = {\n",
    "    \"Authorization\": f\"Bearer {PHQ_API_TOKEN}\",\n",
    "    \"Content-Type\": \"application/json\"\n",
    "}"
   ]
  },
  {
   "cell_type": "markdown",
   "metadata": {
    "cell_id": "e84a008c3b734883aab87c6268da07b4",
    "deepnote_cell_type": "markdown"
   },
   "source": [
    "## Create a Saved Location\n",
    "\n",
    "Create a Saved Location for the location you want to forecast. This allows you to reference the location easily and ensures consistency across forecasts. The ideal radius for the location can be calculated using the Suggested Radius API."
   ]
  },
  {
   "cell_type": "code",
   "execution_count": null,
   "metadata": {
    "cell_id": "9db579a6c6564e9ea400dd44498ee168",
    "deepnote_cell_type": "code",
    "execution_context_id": "06808381-ca3f-47ae-9800-ab707490d58e",
    "execution_millis": 379,
    "execution_start": 1744594566974,
    "source_hash": "f4d98fb4"
   },
   "outputs": [],
   "source": [
    "# Get location details\n",
    "with open(\"data/sample_config.json\", \"r\") as json_file:\n",
    "    config = json.load(json_file)\n",
    "\n",
    "print(config)"
   ]
  },
  {
   "cell_type": "code",
   "execution_count": null,
   "metadata": {
    "cell_id": "3a4df3cde4e343ba9642711474139f0f",
    "deepnote_cell_type": "code",
    "execution_context_id": "06808381-ca3f-47ae-9800-ab707490d58e",
    "execution_millis": 274,
    "execution_start": 1744594570216,
    "source_hash": "7b6cf6f4"
   },
   "outputs": [],
   "source": [
    "# Get suggested radius\n",
    "response = requests.get(\n",
    "    url=f\"{API_URL}/v1/suggested-radius/\",\n",
    "    headers=headers,\n",
    "    params={\n",
    "        \"location.origin\": f\"{config['lat']},{config['lon']}\",\n",
    "        \"industry\": config[\"industry\"],\n",
    "        \"radius_unit\": \"mi\",\n",
    "    },\n",
    ")\n",
    "\n",
    "data = response.json()\n",
    "radius = data[\"radius\"]\n",
    "radius_unit = data[\"radius_unit\"]\n",
    "\n",
    "print(f\"Suggested radius: {radius} {radius_unit}\")"
   ]
  },
  {
   "cell_type": "code",
   "execution_count": null,
   "metadata": {
    "cell_id": "b591ea5898684ea89f48beca763cb86a",
    "deepnote_cell_type": "code",
    "execution_context_id": "06808381-ca3f-47ae-9800-ab707490d58e",
    "execution_millis": 564,
    "execution_start": 1744594572980,
    "source_hash": "fefb1767"
   },
   "outputs": [],
   "source": [
    "# Create saved location\n",
    "response = requests.post(\n",
    "    url=f\"{API_URL}/v1/saved-locations\",\n",
    "    headers=headers,\n",
    "    json={\n",
    "            \"name\": config[\"name\"],\n",
    "            \"geojson\": {\n",
    "                \"type\": \"Feature\",\n",
    "                \"properties\": {\"radius\": radius, \"radius_unit\": radius_unit},\n",
    "                \"geometry\": {\n",
    "                    \"type\": \"Point\",\n",
    "                    \"coordinates\": [config[\"lon\"], config[\"lat\"]],\n",
    "                },\n",
    "            },\n",
    "        }\n",
    ")\n",
    "\n",
    "location_id = response.json()[\"location_id\"]\n",
    "print(f\"Saved Location ID: {location_id}\")"
   ]
  },
  {
   "cell_type": "markdown",
   "metadata": {
    "cell_id": "fe11ce20057e47ed864987f97b655d33",
    "deepnote_cell_type": "markdown"
   },
   "source": [
    "## Define and Train a Forecast Model"
   ]
  },
  {
   "cell_type": "code",
   "execution_count": null,
   "metadata": {
    "cell_id": "4bb047c8306940d7a9ee829eb7705d7d",
    "deepnote_cell_type": "code",
    "execution_context_id": "06808381-ca3f-47ae-9800-ab707490d58e",
    "execution_millis": 110830,
    "execution_start": 1744594644603,
    "source_hash": "3af34691"
   },
   "outputs": [],
   "source": [
    "# Define model\n",
    "response = requests.post(\n",
    "    url=f\"{API_URL}/v1/forecasts/models\",\n",
    "    headers=headers,\n",
    "    json={\n",
    "        \"name\": f\"{config['name']} Forecast\",\n",
    "        \"location\": {\"saved_location_id\": location_id},\n",
    "        \"algo\": \"phq-xgboost\",\n",
    "        \"forecast_window\": \"7d\",\n",
    "        \"demand_type\": {\n",
    "            \"industry\": config[\"industry\"],\n",
    "        },\n",
    "    },\n",
    ")\n",
    "\n",
    "model_id = response.json()[\"model_id\"]\n",
    "print(f\"Model ID: {model_id}\")"
   ]
  },
  {
   "cell_type": "code",
   "execution_count": null,
   "metadata": {
    "cell_id": "29a43a5acd0f47c3937e433f33506a13",
    "deepnote_cell_type": "code",
    "execution_context_id": "06808381-ca3f-47ae-9800-ab707490d58e",
    "execution_millis": 580,
    "execution_start": 1744595782645,
    "source_hash": "3552621a"
   },
   "outputs": [],
   "source": [
    "# Upload demand\n",
    "sample_demand_df = pd.read_csv(\"data/sample_demand.csv\")\n",
    "sample_demand_json = sample_demand_df.to_json(orient=\"records\")\n",
    "\n",
    "response = requests.post(\n",
    "    url=f\"{API_URL}/v1/forecasts/models/{model_id}/demand\",\n",
    "    headers=headers,\n",
    "    json={\"demand\": json.loads(sample_demand_json)},\n",
    ")\n",
    "\n",
    "print(f\"Demand upload: {'Successful' if response.status_code == 201 else 'Failed'}\")"
   ]
  },
  {
   "cell_type": "code",
   "execution_count": null,
   "metadata": {
    "cell_id": "62e3cbd24a1c43a7a186f65160a6be3b",
    "deepnote_cell_type": "code",
    "execution_context_id": "06808381-ca3f-47ae-9800-ab707490d58e",
    "execution_millis": 0,
    "execution_start": 1744595792166,
    "source_hash": "d5f0f9d9"
   },
   "outputs": [],
   "source": [
    "# Train model\n",
    "response = requests.post(\n",
    "    url=f\"{API_URL}/v1/forecasts/models/{model_id}/train\",\n",
    "    headers=headers,\n",
    ")\n",
    "\n",
    "print(f\"Model training: {'Triggered' if response.status_code == 204 else 'Failed'}\")"
   ]
  },
  {
   "cell_type": "markdown",
   "metadata": {},
   "source": [
    "## Check Model Status\n",
    "\n",
    "The model training may take up to a few minutes. Make sure the model is `ready` before proceeding."
   ]
  },
  {
   "cell_type": "code",
   "execution_count": null,
   "metadata": {},
   "outputs": [],
   "source": [
    "while True:\n",
    "    response = requests.get(\n",
    "        url=f\"{API_URL}/v1/forecasts/models/{model_id}\",\n",
    "        headers=headers,\n",
    "    )\n",
    "    if response.status_code != 200:\n",
    "        raise Exception(f\"Failed to get model status: {response.status_code}, {response.text}\")\n",
    "    \n",
    "    model_status = response.json()[\"model\"][\"readiness\"][\"status\"]\n",
    "    if model_status == \"ready\":\n",
    "        print(\"Model is ready!\")\n",
    "        break\n",
    "    if model_status == \"failed\":\n",
    "        raise Exception(\"Model training failed\")\n",
    "\n",
    "    print(f\"Model is {model_status}. Checking again in 30 seconds...\")\n",
    "    time.sleep(30)"
   ]
  },
  {
   "cell_type": "markdown",
   "metadata": {
    "cell_id": "388dec8ee1e248a187cae8b1c7a51253",
    "deepnote_cell_type": "markdown"
   },
   "source": [
    "## Evaluate Forecast Model"
   ]
  },
  {
   "cell_type": "markdown",
   "metadata": {},
   "source": [
    "Use evaluation metrics such as MAPE to compare the model performance to other models, benchmarks, etc."
   ]
  },
  {
   "cell_type": "code",
   "execution_count": null,
   "metadata": {},
   "outputs": [],
   "source": [
    "# Get evaluation results\n",
    "response = requests.get(\n",
    "    url=f\"{API_URL}/v1/forecasts/models/{model_id}\",\n",
    "    headers=headers,\n",
    ")\n",
    "\n",
    "metrics = response.json()['model']['metrics']\n",
    "print(f\"Evaluation metrics: {json.dumps(metrics, indent=2)}\")"
   ]
  },
  {
   "cell_type": "markdown",
   "metadata": {
    "cell_id": "f9e4991520eb439da1dccf4a2fb2800b",
    "deepnote_cell_type": "markdown"
   },
   "source": [
    "## Generate Forecasts\n",
    "\n",
    "Get forecasted values for the next 7 days following the end of the uploaded demand data."
   ]
  },
  {
   "cell_type": "code",
   "execution_count": null,
   "metadata": {},
   "outputs": [],
   "source": [
    "# Get forecast\n",
    "response = requests.get(\n",
    "    url=f\"{API_URL}/v1/forecasts/models/{model_id}/forecast\",\n",
    "    headers=headers,\n",
    "    params={\"date.gt\": \"2023-08-02\"},\n",
    ")\n",
    "\n",
    "results = response.json()[\"results\"]\n",
    "forecasts_df = pd.DataFrame(results)"
   ]
  },
  {
   "cell_type": "markdown",
   "metadata": {},
   "source": [
    "## Visualize results"
   ]
  },
  {
   "cell_type": "code",
   "execution_count": null,
   "metadata": {
    "cell_id": "07742747bfee493fa7ff2e4b40f8794b",
    "deepnote_cell_type": "code",
    "execution_context_id": "96143015-3986-40b2-829d-cc868b422813",
    "execution_millis": 42,
    "execution_start": 1740951644063,
    "source_hash": "5100c52c"
   },
   "outputs": [],
   "source": [
    "fig = go.Figure()\n",
    "fig.add_trace(\n",
    "    go.Scatter(\n",
    "        x=sample_demand_df[\"date\"],\n",
    "        y=sample_demand_df[\"demand\"],\n",
    "        mode=\"lines+markers\",\n",
    "        name=\"Actual\",\n",
    "    )\n",
    ")\n",
    "fig.add_trace(\n",
    "    go.Scatter(\n",
    "        x=forecasts_df[\"date\"],\n",
    "        y=forecasts_df[\"forecast\"],\n",
    "        mode=\"lines+markers\",\n",
    "        name=\"Forecast\",\n",
    "    )\n",
    ")\n",
    "fig.update_layout(\n",
    "    title=\"Forecasts for the next 7 days\",\n",
    "    xaxis_title=\"Date\",\n",
    "    yaxis_title=\"Demand\",\n",
    ")\n",
    "\n",
    "fig"
   ]
  },
  {
   "cell_type": "markdown",
   "metadata": {},
   "source": [
    "## Next Steps\n",
    "\n",
    "- Review the [Getting Started guide](https://docs.predicthq.com/getting-started/guides/forecasts-api-guides/getting-started) for more information on the Forecasts API.\n",
    "- Review the [Understanding Forecast Metrics guide](https://docs.predicthq.com/getting-started/guides/forecasts-api-guides/understanding-forecast-accuracy-metrics) for more information on MAPE, MAE and RMSE.\n",
    "- Review the [Troubleshooting guide](https://docs.predicthq.com/getting-started/guides/forecasts-api-guides/troubleshooting) for more information on common issues and how to resolve them.\n",
    "- Check out the [API reference docs](https://docs.predicthq.com/api/forecasts) for more details on the Forecasts API endpoints and parameters.\n",
    "\n",
    "We haven't covered PHQ Explainability in this notebook. PHQ Explainability is crucial for understanding the model's predictions and ensuring transparency in the forecasting process. It provides you a list of the events impacting demand on a given day. Read more about explainability in the [Getting Started guide](https://docs.predicthq.com/getting-started/guides/forecasts-api-guides/getting-started#explainability).\n",
    "\n",
    "Take the approach from this notebook and apply it to your own data and use cases."
   ]
  }
 ],
 "metadata": {
  "deepnote_notebook_id": "7eac40aa7d7548269839b63eacb159df",
  "deepnote_persisted_session": {
   "createdAt": "2025-04-14T00:35:59.767Z"
  },
  "kernelspec": {
   "display_name": "Python 3 (ipykernel)",
   "language": "python",
   "name": "python3"
  },
  "language_info": {
   "codemirror_mode": {
    "name": "ipython",
    "version": 3
   },
   "file_extension": ".py",
   "mimetype": "text/x-python",
   "name": "python",
   "nbconvert_exporter": "python",
   "pygments_lexer": "ipython3",
   "version": "3.13.2"
  }
 },
 "nbformat": 4,
 "nbformat_minor": 4
}
