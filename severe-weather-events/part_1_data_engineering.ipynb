{
 "cells": [
  {
   "cell_type": "markdown",
   "metadata": {},
   "source": [
    "<a href=\"https://colab.research.google.com/github/predicthq/phq-data-science-docs/blob/master/severe-weather-events/part_1_data_engineering.ipynb\" target=\"_blank\"><img src=\"https://colab.research.google.com/assets/colab-badge.svg\" alt=\"Open In Colab\"/></a>"
   ]
  },
  {
   "cell_type": "markdown",
   "metadata": {},
   "source": [
    "#### SEVERE-WEATHER EVENTS DATA SCIENCE GUIDES\n",
    "\n",
    "# Part 1 Data Engineering\n",
    "\n",
    "<b>A How-To Guide to extracting data from PredictHQ's Severe-Weather Events data. \n",
    "\n",
    "    \n",
    "The aim of this notebook is showcase how the PHQ Events API could be used to extract severe-weather events for a location and time of your choice.\n",
    "\n",
    "- [Setup](#setup)\n",
    "- [Access Token](#access_token)\n",
    "- [SDK Parameters](#setting_params) \n",
    "- [Query Unattended Events](#query_unattended_events)\n",
    "- [Output DataFrame](#output_dataframe)\n",
    "- [Appendix 1 - Finding place_id](#appendix-1)\n",
    "- [Appendix 2: Parsing geojson with Shapely](#appendix-2)\n"
   ]
  },
  {
   "cell_type": "markdown",
   "metadata": {},
   "source": [
    "<a id='setup'></a>\n",
    "# Setup\n"
   ]
  },
  {
   "cell_type": "markdown",
   "metadata": {},
   "source": [
    "If using Google Colab uncomment the following code block."
   ]
  },
  {
   "cell_type": "code",
   "execution_count": 12,
   "metadata": {},
   "outputs": [],
   "source": [
    "# %%capture\n",
    "# !git clone https://github.com/predicthq/phq-data-science-docs.git\n",
    "# %cd phq-data-science-docs/unattended-events\n",
    "# !pip install predicthq>=1.10.0 timezonefinder pandas==1.1.5 shapely==1.7.1"
   ]
  },
  {
   "cell_type": "markdown",
   "metadata": {},
   "source": [
    "\n",
    "If running locally, set up a Python environment using [requirements.txt](https://github.com/predicthq/phq-data-science-docs/blob/master/unattended-events/requirements.txt) file which is shared alongside the notebook.\n",
    "\n",
    "These requirements can be installed by runing the command `pip install -r requirements.txt`\n"
   ]
  },
  {
   "cell_type": "code",
   "execution_count": 2,
   "metadata": {},
   "outputs": [],
   "source": [
    "import pandas as pd\n",
    "from predicthq import Client\n",
    "from timezonefinder import TimezoneFinder\n",
    "import requests\n",
    "\n",
    "# To display more columns and with a larger width in the DataFrame\n",
    "pd.set_option(\"display.max_columns\", 50)\n",
    "pd.options.display.max_colwidth = 100"
   ]
  },
  {
   "cell_type": "markdown",
   "metadata": {},
   "source": [
    "<a id='access_token'></a>\n",
    "# Access Token\n",
    "An Access Token is required to query the API. You can checked out our [API Quickstart](../../guides/quickstart/) page if you want to create an account or an access token.\n"
   ]
  },
  {
   "cell_type": "code",
   "execution_count": 15,
   "metadata": {},
   "outputs": [],
   "source": [
    "# Replace Access Token with own access token.\n",
    "ACCESS_TOKEN = 'REPLACE_WITH_ACCESS_TOKEN'\n",
    "phq = Client(access_token=ACCESS_TOKEN)"
   ]
  },
  {
   "cell_type": "markdown",
   "metadata": {},
   "source": [
    "<a id='setting_params'></a>\n",
    "# SDK Parameters\n",
    "To search for Severe-Weather Events, start by building a parameter dictionary and adding the required filters."
   ]
  },
  {
   "cell_type": "code",
   "execution_count": 16,
   "metadata": {},
   "outputs": [],
   "source": [
    "parameters = dict()"
   ]
  },
  {
   "cell_type": "markdown",
   "metadata": {},
   "source": [
    "#### Location\n",
    "Severe-weather events are specific to the location that they impact. We use polygons to show the geographic area impacted by the event. Polygons are used in our backend to filter events and return events that impact the selected location when you call our Events' API to get Severe-Weather Events. \n",
    "\n",
    "The location parameter could be set in one of the following ways:  \n",
    "\n",
    "  1) Using the ```within``` parameter, which contains ```latitude```, ```longitude``` of the location with a ```radius```, and a ```unit``` for the radius. This would return events whose polygon intersects with the radius specified. Please note that using ```within``` would return more accurate results than ```place_id``` but bear in mind that ```radius``` should have an integer value greater than 0 (eg: `1m`). The result is relatively insensitive to the setting of radius as Severe-Weather Events have large location scopes. We recommend a radius of `1m` if you want to filter where the events polygon overrlaps the latitude and longitude of your location.\n",
    "  \n",
    "  2) Using a list of place_ids, returns events which have a geo-scoped ```place_id``` matching the given ```place_id``` or that intersects it's polygon. For example if you specify the place id for Seattle you will get events whose polygons overlap with the metropolitan area of Seattle.\n",
    "   \n",
    "Note: This notebook uses the state of ```New York``` as an example location. You can modify this to suit your location(s) of interest."
   ]
  },
  {
   "cell_type": "code",
   "execution_count": 17,
   "metadata": {},
   "outputs": [],
   "source": [
    "# Using latitude, longitude and a radius\n",
    "latitude, longitude = (40.7079, -74.0115) # LAT, LONG for centre of New York City\n",
    "radius = 1\n",
    "radius_unit = \"m\"\n",
    "\n",
    "within = f\"{radius}{radius_unit}@{latitude},{longitude}\""
   ]
  },
  {
   "cell_type": "markdown",
   "metadata": {},
   "source": [
    "Alternatively, we could have used a list of ```place_id``` for our search (See our Appendix on Place IDs for detailed explanation)."
   ]
  },
  {
   "cell_type": "code",
   "execution_count": 18,
   "metadata": {},
   "outputs": [],
   "source": [
    "# Using a list of place_id\n",
    "place_ids = [5128638] # Place ID for state of New York https://www.geonames.org/5128638/new-york.html"
   ]
  },
  {
   "cell_type": "markdown",
   "metadata": {},
   "source": [
    "You can use either ```within``` or place_id as a filter but you can not use both."
   ]
  },
  {
   "cell_type": "code",
   "execution_count": 19,
   "metadata": {},
   "outputs": [],
   "source": [
    "parameters.update(within=within)  # Comment if you want to use place_ids\n",
    "# parameters.update(place__scope=place_ids)  # Comment if you want to use lat and long"
   ]
  },
  {
   "cell_type": "markdown",
   "metadata": {},
   "source": [
    "#### Date \"YYYY-MM-DD\"\n",
    "\n",
    "To define the period of time for which Severe-Weather Events will be returned, set the greater than or equal (active.gte) and less than or equal (active.lte) parameters. This will select all Severe-Weather Events that are active within this period.\n",
    "\n",
    "You could also use either of these parameters depending on your time period of interest:\n",
    "\n",
    "```gte - Greater than or equal.``` <br>\n",
    "```gt - Greater than.```<br>\n",
    "```lte - Less than or equal.```<br>\n",
    "```lt - Less than.```<br>\n",
    "\n",
    "\n",
    "The default example in this notebook is to search for the whole of 2020."
   ]
  },
  {
   "cell_type": "code",
   "execution_count": 20,
   "metadata": {},
   "outputs": [],
   "source": [
    "start_time = \"2021-12-01\"\n",
    "end_time = \"2022-01-31\"\n",
    "parameters.update(active__gte=start_time)\n",
    "parameters.update(active__lte=end_time)"
   ]
  },
  {
   "cell_type": "markdown",
   "metadata": {},
   "source": [
    "#### Timezone \n",
    "By setting the timezone for the location of interest, the appropriate events will be returned.(<a href=\"https://en.wikipedia.org/wiki/List_of_tz_database_time_zones\">tz database</a>)\n",
    "\n",
    "For our New York example, the timezone would be ```America/New_York```. \n",
    "Use the `TimezoneFinder()` to find it for our location of interest."
   ]
  },
  {
   "cell_type": "code",
   "execution_count": 21,
   "metadata": {},
   "outputs": [
    {
     "name": "stdout",
     "output_type": "stream",
     "text": [
      "America/New_York\n"
     ]
    }
   ],
   "source": [
    "timezone = TimezoneFinder().timezone_at(lat=latitude, lng=longitude)\n",
    "print(timezone)"
   ]
  },
  {
   "cell_type": "code",
   "execution_count": 22,
   "metadata": {},
   "outputs": [],
   "source": [
    "parameters.update(active__tz=timezone)"
   ]
  },
  {
   "cell_type": "markdown",
   "metadata": {},
   "source": [
    "#### Categories\n",
    "Set the category to `severe-weather`.\n"
   ]
  },
  {
   "cell_type": "code",
   "execution_count": 23,
   "metadata": {},
   "outputs": [],
   "source": [
    "categories = [\"severe-weather\"]\n",
    "parameters.update(category=categories)"
   ]
  },
  {
   "cell_type": "markdown",
   "metadata": {},
   "source": [
    "#### Checking the parameters\n",
    "Finally, let's take a look at the parameters we have set for our search."
   ]
  },
  {
   "cell_type": "code",
   "execution_count": 24,
   "metadata": {},
   "outputs": [
    {
     "data": {
      "text/plain": [
       "{'within': '1m@40.7079,-74.0115',\n",
       " 'active__gte': '2021-12-01',\n",
       " 'active__lte': '2022-01-31',\n",
       " 'active__tz': 'America/New_York',\n",
       " 'category': ['severe-weather']}"
      ]
     },
     "execution_count": 24,
     "metadata": {},
     "output_type": "execute_result"
    }
   ],
   "source": [
    "parameters"
   ]
  },
  {
   "cell_type": "markdown",
   "metadata": {},
   "source": [
    "You can check out the full list of available parameters that you could use in querying Severe-Weather Events at our [Events Resource page](../../resources/events/)."
   ]
  },
  {
   "cell_type": "markdown",
   "metadata": {},
   "source": [
    "<a id='calling_api'></a>\n",
    "# Calling the PredictHQ API and Fetching Events\n",
    "\n",
    "In this step, we use PHQ Python SDK Client to query and fetch events based on the parameters we defined above."
   ]
  },
  {
   "cell_type": "code",
   "execution_count": 25,
   "metadata": {},
   "outputs": [],
   "source": [
    "results = []\n",
    "\n",
    "# Iterating through all the events that match our criteria and adding them to our results\n",
    "for event in phq.events.search(parameters).iter_all():\n",
    "    results.append(event.to_dict())\n",
    "\n",
    "# Converting the results to a DataFrame\n",
    "event_df = pd.DataFrame(results)"
   ]
  },
  {
   "cell_type": "markdown",
   "metadata": {},
   "source": [
    "<a id='exploring_df'></a>\n",
    "# Exploring the Result DataFrame and Storing it\n",
    "We take a look at the result data and select the most important fields for our use case."
   ]
  },
  {
   "cell_type": "code",
   "execution_count": 26,
   "metadata": {
    "scrolled": false
   },
   "outputs": [
    {
     "data": {
      "text/html": [
       "<div>\n",
       "<style scoped>\n",
       "    .dataframe tbody tr th:only-of-type {\n",
       "        vertical-align: middle;\n",
       "    }\n",
       "\n",
       "    .dataframe tbody tr th {\n",
       "        vertical-align: top;\n",
       "    }\n",
       "\n",
       "    .dataframe thead th {\n",
       "        text-align: right;\n",
       "    }\n",
       "</style>\n",
       "<table border=\"1\" class=\"dataframe\">\n",
       "  <thead>\n",
       "    <tr style=\"text-align: right;\">\n",
       "      <th></th>\n",
       "      <th>cancelled</th>\n",
       "      <th>category</th>\n",
       "      <th>country</th>\n",
       "      <th>deleted_reason</th>\n",
       "      <th>description</th>\n",
       "      <th>duplicate_of_id</th>\n",
       "      <th>duration</th>\n",
       "      <th>end</th>\n",
       "      <th>first_seen</th>\n",
       "      <th>geo</th>\n",
       "      <th>id</th>\n",
       "      <th>impact_patterns</th>\n",
       "      <th>labels</th>\n",
       "      <th>location</th>\n",
       "      <th>parent_event</th>\n",
       "      <th>place_hierarchies</th>\n",
       "      <th>postponed</th>\n",
       "      <th>relevance</th>\n",
       "      <th>scope</th>\n",
       "      <th>start</th>\n",
       "      <th>state</th>\n",
       "      <th>timezone</th>\n",
       "      <th>title</th>\n",
       "      <th>updated</th>\n",
       "      <th>aviation_rank</th>\n",
       "      <th>brand_safe</th>\n",
       "      <th>entities</th>\n",
       "      <th>local_rank</th>\n",
       "      <th>phq_attendance</th>\n",
       "      <th>predicted_end</th>\n",
       "      <th>private</th>\n",
       "      <th>rank</th>\n",
       "    </tr>\n",
       "  </thead>\n",
       "  <tbody>\n",
       "    <tr>\n",
       "      <th>0</th>\n",
       "      <td>None</td>\n",
       "      <td>severe-weather</td>\n",
       "      <td>US</td>\n",
       "      <td>None</td>\n",
       "      <td>-  WHAT: Up to one half foot of inundation above ground level expected in vulnerable areas near ...</td>\n",
       "      <td>None</td>\n",
       "      <td>10800</td>\n",
       "      <td>2022-01-04 16:00:00+00:00</td>\n",
       "      <td>2022-01-03 21:15:45+00:00</td>\n",
       "      <td>{'geometry': {'type': 'MultiPolygon', 'coordinates': [[[[-74.02203499999996, 40.68399900000003],...</td>\n",
       "      <td>3CXrxry7dochGvGpiz</td>\n",
       "      <td>[{'vertical': 'retail', 'impact_type': 'phq_rank', 'impacts': [{'date_local': datetime.date(2022...</td>\n",
       "      <td>[flood, weather, weather-warning]</td>\n",
       "      <td>[-73.9662196457, 40.781758233]</td>\n",
       "      <td>None</td>\n",
       "      <td>[[6295630, 6255149, 6252001, 5128638, 5128581], [6295630, 6255149, 6252001, 5128638, 5128594], [...</td>\n",
       "      <td>None</td>\n",
       "      <td>0.0</td>\n",
       "      <td>county</td>\n",
       "      <td>2022-01-04 13:00:00+00:00</td>\n",
       "      <td>active</td>\n",
       "      <td>America/New_York</td>\n",
       "      <td>Coastal Flood Statement</td>\n",
       "      <td>2022-01-04 08:45:35+00:00</td>\n",
       "      <td>None</td>\n",
       "      <td>None</td>\n",
       "      <td>[]</td>\n",
       "      <td>None</td>\n",
       "      <td>None</td>\n",
       "      <td>None</td>\n",
       "      <td>False</td>\n",
       "      <td>49</td>\n",
       "    </tr>\n",
       "    <tr>\n",
       "      <th>1</th>\n",
       "      <td>None</td>\n",
       "      <td>severe-weather</td>\n",
       "      <td>US</td>\n",
       "      <td>None</td>\n",
       "      <td>-  WHAT: Up to one half foot of inundation above ground level expected in vulnerable areas near ...</td>\n",
       "      <td>None</td>\n",
       "      <td>18000</td>\n",
       "      <td>2022-01-03 16:00:00+00:00</td>\n",
       "      <td>2022-01-02 21:30:34+00:00</td>\n",
       "      <td>{'geometry': {'type': 'MultiPolygon', 'coordinates': [[[[-74.02203499999996, 40.68399900000003],...</td>\n",
       "      <td>AscHYiUqf4Qamg8Cg6</td>\n",
       "      <td>[{'vertical': 'retail', 'impact_type': 'phq_rank', 'impacts': [{'date_local': datetime.date(2022...</td>\n",
       "      <td>[flood, weather, weather-warning]</td>\n",
       "      <td>[-73.9662196457, 40.781758233]</td>\n",
       "      <td>None</td>\n",
       "      <td>[[6295630, 6255149, 6252001, 5128638, 5128581], [6295630, 6255149, 6252001, 5128638, 5128594], [...</td>\n",
       "      <td>None</td>\n",
       "      <td>0.0</td>\n",
       "      <td>county</td>\n",
       "      <td>2022-01-03 11:00:00+00:00</td>\n",
       "      <td>active</td>\n",
       "      <td>America/New_York</td>\n",
       "      <td>Coastal Flood Statement</td>\n",
       "      <td>2022-01-03 09:15:46+00:00</td>\n",
       "      <td>None</td>\n",
       "      <td>None</td>\n",
       "      <td>[]</td>\n",
       "      <td>None</td>\n",
       "      <td>None</td>\n",
       "      <td>None</td>\n",
       "      <td>False</td>\n",
       "      <td>49</td>\n",
       "    </tr>\n",
       "  </tbody>\n",
       "</table>\n",
       "</div>"
      ],
      "text/plain": [
       "  cancelled        category country deleted_reason  \\\n",
       "0      None  severe-weather      US           None   \n",
       "1      None  severe-weather      US           None   \n",
       "\n",
       "                                                                                           description  \\\n",
       "0  -  WHAT: Up to one half foot of inundation above ground level expected in vulnerable areas near ...   \n",
       "1  -  WHAT: Up to one half foot of inundation above ground level expected in vulnerable areas near ...   \n",
       "\n",
       "  duplicate_of_id  duration                       end  \\\n",
       "0            None     10800 2022-01-04 16:00:00+00:00   \n",
       "1            None     18000 2022-01-03 16:00:00+00:00   \n",
       "\n",
       "                 first_seen  \\\n",
       "0 2022-01-03 21:15:45+00:00   \n",
       "1 2022-01-02 21:30:34+00:00   \n",
       "\n",
       "                                                                                                   geo  \\\n",
       "0  {'geometry': {'type': 'MultiPolygon', 'coordinates': [[[[-74.02203499999996, 40.68399900000003],...   \n",
       "1  {'geometry': {'type': 'MultiPolygon', 'coordinates': [[[[-74.02203499999996, 40.68399900000003],...   \n",
       "\n",
       "                   id  \\\n",
       "0  3CXrxry7dochGvGpiz   \n",
       "1  AscHYiUqf4Qamg8Cg6   \n",
       "\n",
       "                                                                                       impact_patterns  \\\n",
       "0  [{'vertical': 'retail', 'impact_type': 'phq_rank', 'impacts': [{'date_local': datetime.date(2022...   \n",
       "1  [{'vertical': 'retail', 'impact_type': 'phq_rank', 'impacts': [{'date_local': datetime.date(2022...   \n",
       "\n",
       "                              labels                        location  \\\n",
       "0  [flood, weather, weather-warning]  [-73.9662196457, 40.781758233]   \n",
       "1  [flood, weather, weather-warning]  [-73.9662196457, 40.781758233]   \n",
       "\n",
       "  parent_event  \\\n",
       "0         None   \n",
       "1         None   \n",
       "\n",
       "                                                                                     place_hierarchies  \\\n",
       "0  [[6295630, 6255149, 6252001, 5128638, 5128581], [6295630, 6255149, 6252001, 5128638, 5128594], [...   \n",
       "1  [[6295630, 6255149, 6252001, 5128638, 5128581], [6295630, 6255149, 6252001, 5128638, 5128594], [...   \n",
       "\n",
       "  postponed  relevance   scope                     start   state  \\\n",
       "0      None        0.0  county 2022-01-04 13:00:00+00:00  active   \n",
       "1      None        0.0  county 2022-01-03 11:00:00+00:00  active   \n",
       "\n",
       "           timezone                    title                   updated  \\\n",
       "0  America/New_York  Coastal Flood Statement 2022-01-04 08:45:35+00:00   \n",
       "1  America/New_York  Coastal Flood Statement 2022-01-03 09:15:46+00:00   \n",
       "\n",
       "  aviation_rank brand_safe entities local_rank phq_attendance predicted_end  \\\n",
       "0          None       None       []       None           None          None   \n",
       "1          None       None       []       None           None          None   \n",
       "\n",
       "   private  rank  \n",
       "0    False    49  \n",
       "1    False    49  "
      ]
     },
     "execution_count": 26,
     "metadata": {},
     "output_type": "execute_result"
    }
   ],
   "source": [
    "event_df.head()"
   ]
  },
  {
   "cell_type": "markdown",
   "metadata": {},
   "source": [
    "It is important to understand the output data. The most useful fields are the following:\n",
    "- ```id``` The unique id of each event.\n",
    "- ```title``` The title of each event.\n",
    "- ```description``` The description of each event.\n",
    "- ```start``` The start time of each event.\n",
    "- ```end``` The end time of each event.\n",
    "- ```duration``` Duration of event in seconds.\n",
    "- ```category``` Category of events. e.g `severe-weather`\n",
    "- ```labels``` Labels of each event.\n",
    "- ```country``` Country of each event.\n",
    "- ```rank``` PHQ rank of each event.\n",
    "- ```aviation_rank``` Aviation rank of each event.\n",
    "- ```location``` Latitude and longitude of each event.\n",
    "- ```place_hierarchies``` The hierarchies place ids.\n",
    "- ```scope``` The scope of each event.\n",
    "- ```first_seen``` The time when we received this event.\n",
    "- ```impact_patterns``` The demand impact pattern for the event indicating leading and lagging impacts of the event.\n",
    "\n",
    "Check out [Events Resource page](../../resources/events/) for more information on all these fields."
   ]
  },
  {
   "cell_type": "code",
   "execution_count": 148,
   "metadata": {},
   "outputs": [],
   "source": [
    "# Selecting the target fields\n",
    "event_df = event_df[\n",
    "    [\n",
    "        \"id\",\n",
    "        \"title\",\n",
    "        \"description\",\n",
    "        \"start\",\n",
    "        \"end\",\n",
    "        \"duration\",\n",
    "        \"category\",\n",
    "        \"labels\",\n",
    "        \"country\",\n",
    "        \"rank\",\n",
    "        \"aviation_rank\",\n",
    "        \"location\",\n",
    "        \"place_hierarchies\",\n",
    "        \"scope\",\n",
    "        \"first_seen\",\n",
    "        \"impact_patterns\"\n",
    "    ]\n",
    "]"
   ]
  },
  {
   "cell_type": "code",
   "execution_count": 162,
   "metadata": {},
   "outputs": [
    {
     "name": "stdout",
     "output_type": "stream",
     "text": [
      "DataFrame saved to data/event_data/radius1m_40.7079_-74.0115_2021-12-01_2022-01-31.pkl\n"
     ]
    }
   ],
   "source": [
    "# Creating a filename for our DataFrame and saving our final DataFrame as a Pickle file\n",
    "if \"within\" in parameters:\n",
    "    file_name = (\n",
    "        f\"radius{radius}{radius_unit}_{latitude}_{longitude}_{start_time}_{end_time}\"\n",
    "    )\n",
    "else:\n",
    "    file_name = f\"place_ids_{'_'.join(place_ids)}_{start_time}_{end_time}\"\n",
    "\n",
    "event_df.to_pickle(f\"data/event_data/{file_name}.pkl\")\n",
    "print(f\"DataFrame saved to data/event_data/{file_name}.pkl\")"
   ]
  },
  {
   "cell_type": "markdown",
   "metadata": {},
   "source": [
    "<a id='appendix-1'></a>\n",
    "## Appendix 1: Finding ```place_id``` "
   ]
  },
  {
   "cell_type": "markdown",
   "metadata": {},
   "source": [
    "Here is a guide on how to link between store locations and ```place_id```. Here the ```location``` could be a city, a state, a country or a continent. \n",
    "\n",
    " - Query ```place_id``` based on ```location```\n",
    " - Query ```place_hierarchies``` based on ```latitude, longitude```\n",
    " - Query ```location``` based on ```place_id```\n",
    "\n",
    "The full list of parameters that you could use in your query is documents at our [Places API page](../../resources/places/).<br>\n",
    "PredictHQ uses the geonames places convention https://www.geonames.org/ "
   ]
  },
  {
   "cell_type": "markdown",
   "metadata": {},
   "source": [
    "#### 1) Query ```place_id``` based on ```location```\n",
    "\n",
    "By using PredictHQ Places API, you can find the ```place_id``` for a specific ```location```. By calling the API and setting ```q``` to ```location```, the API will return the most relevant ```place_id```. Taking the top ```place_id``` will provide the most relevant ```place_id``` the ```location``` is in."
   ]
  },
  {
   "cell_type": "code",
   "execution_count": 31,
   "metadata": {},
   "outputs": [],
   "source": [
    "# Example locations.\n",
    "locations = [\"New York\", \"California\", \"United States\", \"North America\"]\n",
    "\n",
    "place_id_lookup = pd.DataFrame()\n",
    "\n",
    "for location in locations:\n",
    "    response = requests.get(\n",
    "        url=\"https://api.predicthq.com/v1/places/\",\n",
    "        headers={\n",
    "            \"Authorization\": \"Bearer {}\".format(ACCESS_TOKEN),\n",
    "            \"Accept\": \"application/json\",\n",
    "        },\n",
    "        params={\"q\": location},\n",
    "    )\n",
    "\n",
    "    data = response.json()\n",
    "    df = pd.json_normalize(data[\"results\"])\n",
    "    place_id_lookup = place_id_lookup.append(df.iloc[0], ignore_index=True)"
   ]
  },
  {
   "cell_type": "code",
   "execution_count": 32,
   "metadata": {},
   "outputs": [
    {
     "data": {
      "text/html": [
       "<div>\n",
       "<style scoped>\n",
       "    .dataframe tbody tr th:only-of-type {\n",
       "        vertical-align: middle;\n",
       "    }\n",
       "\n",
       "    .dataframe tbody tr th {\n",
       "        vertical-align: top;\n",
       "    }\n",
       "\n",
       "    .dataframe thead th {\n",
       "        text-align: right;\n",
       "    }\n",
       "</style>\n",
       "<table border=\"1\" class=\"dataframe\">\n",
       "  <thead>\n",
       "    <tr style=\"text-align: right;\">\n",
       "      <th></th>\n",
       "      <th>id</th>\n",
       "      <th>name</th>\n",
       "      <th>type</th>\n",
       "    </tr>\n",
       "  </thead>\n",
       "  <tbody>\n",
       "    <tr>\n",
       "      <th>0</th>\n",
       "      <td>5128581</td>\n",
       "      <td>New York</td>\n",
       "      <td>locality</td>\n",
       "    </tr>\n",
       "    <tr>\n",
       "      <th>1</th>\n",
       "      <td>5332921</td>\n",
       "      <td>California</td>\n",
       "      <td>region</td>\n",
       "    </tr>\n",
       "    <tr>\n",
       "      <th>2</th>\n",
       "      <td>6252001</td>\n",
       "      <td>United States</td>\n",
       "      <td>country</td>\n",
       "    </tr>\n",
       "    <tr>\n",
       "      <th>3</th>\n",
       "      <td>6255149</td>\n",
       "      <td>North America</td>\n",
       "      <td>continent</td>\n",
       "    </tr>\n",
       "  </tbody>\n",
       "</table>\n",
       "</div>"
      ],
      "text/plain": [
       "        id           name       type\n",
       "0  5128581       New York   locality\n",
       "1  5332921     California     region\n",
       "2  6252001  United States    country\n",
       "3  6255149  North America  continent"
      ]
     },
     "execution_count": 32,
     "metadata": {},
     "output_type": "execute_result"
    }
   ],
   "source": [
    "place_id_lookup[[\"id\", \"name\", \"type\"]]"
   ]
  },
  {
   "cell_type": "markdown",
   "metadata": {},
   "source": [
    "#### 2) Query ```place_hierarchies``` based on ```latitude, longitude```\n",
    "\n",
    "By using PredictHQ Places Hierarchies API, you can find the  ```place_hierarchies``` for a specific ```latitude, longitude```. By calling the API and setting ```location.origin``` to ```latitude, longitude```, the API will return the most relevant ```place_hierarchies```."
   ]
  },
  {
   "cell_type": "code",
   "execution_count": 8,
   "metadata": {},
   "outputs": [],
   "source": [
    "# Example locations.\n",
    "latitude_longitudes = [[40.1459, -74.226]]\n",
    "\n",
    "place_hierarchies_lookup = pd.DataFrame()\n",
    "\n",
    "for latitude_longitude in latitude_longitudes:\n",
    "    latitude, longitude = latitude_longitude\n",
    "    response = requests.get(\n",
    "        url=\"https://api.predicthq.com/v1/places/hierarchies\",\n",
    "        headers={\n",
    "            \"Authorization\": \"Bearer {}\".format(ACCESS_TOKEN),\n",
    "            \"Accept\": \"application/json\",\n",
    "        },\n",
    "        params={\"location.origin\": f\"{latitude},{longitude}\"},\n",
    "    )\n",
    "\n",
    "    data = response.json()\n",
    "    df = pd.DataFrame(data)\n",
    "    df[\"latitude\"] = latitude\n",
    "    df[\"longitude\"] = longitude\n",
    "    place_hierarchies_lookup = place_hierarchies_lookup.append(df, ignore_index=True)"
   ]
  },
  {
   "cell_type": "code",
   "execution_count": 9,
   "metadata": {},
   "outputs": [
    {
     "data": {
      "text/html": [
       "<div>\n",
       "<style scoped>\n",
       "    .dataframe tbody tr th:only-of-type {\n",
       "        vertical-align: middle;\n",
       "    }\n",
       "\n",
       "    .dataframe tbody tr th {\n",
       "        vertical-align: top;\n",
       "    }\n",
       "\n",
       "    .dataframe thead th {\n",
       "        text-align: right;\n",
       "    }\n",
       "</style>\n",
       "<table border=\"1\" class=\"dataframe\">\n",
       "  <thead>\n",
       "    <tr style=\"text-align: right;\">\n",
       "      <th></th>\n",
       "      <th>place_hierarchies</th>\n",
       "      <th>latitude</th>\n",
       "      <th>longitude</th>\n",
       "    </tr>\n",
       "  </thead>\n",
       "  <tbody>\n",
       "    <tr>\n",
       "      <th>0</th>\n",
       "      <td>[{'place_id': '6295630', 'type': 'planet'}, {'place_id': '6255149', 'type': 'continent'}, {'plac...</td>\n",
       "      <td>40.1459</td>\n",
       "      <td>-74.226</td>\n",
       "    </tr>\n",
       "    <tr>\n",
       "      <th>1</th>\n",
       "      <td>[{'place_id': '6295630', 'type': 'planet'}, {'place_id': '6255149', 'type': 'continent'}, {'plac...</td>\n",
       "      <td>40.1459</td>\n",
       "      <td>-74.226</td>\n",
       "    </tr>\n",
       "  </tbody>\n",
       "</table>\n",
       "</div>"
      ],
      "text/plain": [
       "                                                                                     place_hierarchies  \\\n",
       "0  [{'place_id': '6295630', 'type': 'planet'}, {'place_id': '6255149', 'type': 'continent'}, {'plac...   \n",
       "1  [{'place_id': '6295630', 'type': 'planet'}, {'place_id': '6255149', 'type': 'continent'}, {'plac...   \n",
       "\n",
       "   latitude  longitude  \n",
       "0   40.1459    -74.226  \n",
       "1   40.1459    -74.226  "
      ]
     },
     "execution_count": 9,
     "metadata": {},
     "output_type": "execute_result"
    }
   ],
   "source": [
    "place_hierarchies_lookup"
   ]
  },
  {
   "cell_type": "markdown",
   "metadata": {},
   "source": [
    "For each ```latitude, longitude```, the response might include more than one hierarchy. The reason for this is we try to match the closest place's hierarchy but we also include the closest major city's hierarchy within a radius of 50km. This only applies if the level is below region and, if it exists, the major city's hierarchy will always be the second row of the DataFrame."
   ]
  },
  {
   "cell_type": "markdown",
   "metadata": {},
   "source": [
    "#### 3) Query ```location``` based on ```place_id```\n",
    "\n",
    "By using PredictHQ Places API, you can find the ```location``` for a specific ```place_id```. By calling the API and setting ```id``` to ```place_id```, the API will return the most relevant ```location```. Taking the top ```location``` will provide the most relevant ```location``` the ```place_id``` is in."
   ]
  },
  {
   "cell_type": "code",
   "execution_count": 29,
   "metadata": {},
   "outputs": [],
   "source": [
    "# Example locations.\n",
    "place_ids = [\"5098278\", \"5104865\"]\n",
    "\n",
    "location_lookup = pd.DataFrame()\n",
    "\n",
    "for place_id in place_ids:\n",
    "    response = requests.get(\n",
    "        url=\"https://api.predicthq.com/v1/places/\",\n",
    "        headers={\n",
    "            \"Authorization\": \"Bearer {}\".format(ACCESS_TOKEN),\n",
    "            \"Accept\": \"application/json\",\n",
    "        },\n",
    "        # The id could be a comma-separated list of place_ids. In this example, the\n",
    "        # events are queried based on each place_id.\n",
    "        params={\"id\": place_id},\n",
    "    )\n",
    "\n",
    "    data = response.json()\n",
    "    df = pd.json_normalize(data[\"results\"])\n",
    "    location_lookup = location_lookup.append(df.iloc[0], ignore_index=True)"
   ]
  },
  {
   "cell_type": "code",
   "execution_count": 30,
   "metadata": {},
   "outputs": [
    {
     "data": {
      "text/html": [
       "<div>\n",
       "<style scoped>\n",
       "    .dataframe tbody tr th:only-of-type {\n",
       "        vertical-align: middle;\n",
       "    }\n",
       "\n",
       "    .dataframe tbody tr th {\n",
       "        vertical-align: top;\n",
       "    }\n",
       "\n",
       "    .dataframe thead th {\n",
       "        text-align: right;\n",
       "    }\n",
       "</style>\n",
       "<table border=\"1\" class=\"dataframe\">\n",
       "  <thead>\n",
       "    <tr style=\"text-align: right;\">\n",
       "      <th></th>\n",
       "      <th>id</th>\n",
       "      <th>name</th>\n",
       "      <th>type</th>\n",
       "    </tr>\n",
       "  </thead>\n",
       "  <tbody>\n",
       "    <tr>\n",
       "      <th>0</th>\n",
       "      <td>5098278</td>\n",
       "      <td>Freehold</td>\n",
       "      <td>locality</td>\n",
       "    </tr>\n",
       "    <tr>\n",
       "      <th>1</th>\n",
       "      <td>5104865</td>\n",
       "      <td>Southard</td>\n",
       "      <td>locality</td>\n",
       "    </tr>\n",
       "  </tbody>\n",
       "</table>\n",
       "</div>"
      ],
      "text/plain": [
       "        id      name      type\n",
       "0  5098278  Freehold  locality\n",
       "1  5104865  Southard  locality"
      ]
     },
     "execution_count": 30,
     "metadata": {},
     "output_type": "execute_result"
    }
   ],
   "source": [
    "location_lookup[[\"id\", \"name\", \"type\"]]"
   ]
  },
  {
   "cell_type": "markdown",
   "metadata": {},
   "source": [
    "<a id='appendix-2'></a>\n",
    "## Appendix 2: Parsing geojson with Shapely "
   ]
  },
  {
   "cell_type": "markdown",
   "metadata": {},
   "source": [
    "In this part, we take a brief look on how you can parse the geojson `geometry` field using [Shapely](https://github.com/Toblerity/Shapely). \n",
    "\n",
    "Let's say we `event` with geojson data in it's `geo.geometry` field. We can parse it using `shape` fucntion from Shapely."
   ]
  },
  {
   "cell_type": "code",
   "execution_count": 1,
   "metadata": {},
   "outputs": [],
   "source": [
    "from shapely.geometry import shape\n",
    "\n",
    "\n",
    "event = {\n",
    "    \"id\": \"268aCtdaPgDJNurMeP\",\n",
    "    \"title\": \"Flood Warning\",\n",
    "    \"geo\": {\n",
    "        \"geometry\": {\n",
    "            \"type\": \"Polygon\",\n",
    "            \"coordinates\": [\n",
    "                [\n",
    "                    [-94.15, 39.1599999],\n",
    "                    [-94.17, 39.220000000000006],\n",
    "                    [-93.86, 39.25000000000001],\n",
    "                    [-93.84, 39.18000000000001],\n",
    "                    [-94.05, 39.11000000000001],\n",
    "                    [-94.15, 39.1599999],\n",
    "                ]\n",
    "            ],\n",
    "        }\n",
    "    }\n",
    "    # other fields omitted...\n",
    "}"
   ]
  },
  {
   "cell_type": "markdown",
   "metadata": {},
   "source": [
    "Passing the `geo.geometry` field into the shape function, would return a shapely object, in this case a `Polygon`."
   ]
  },
  {
   "cell_type": "code",
   "execution_count": 2,
   "metadata": {},
   "outputs": [],
   "source": [
    "# retrieving event's geojson field\n",
    "event_geojson = event['geo']['geometry']\n",
    "\n",
    "# parsing the geojson object using shape from shapely\n",
    "parsed_polygon = shape(event_geojson)"
   ]
  },
  {
   "cell_type": "code",
   "execution_count": 3,
   "metadata": {},
   "outputs": [
    {
     "name": "stdout",
     "output_type": "stream",
     "text": [
      "<class 'shapely.geometry.polygon.Polygon'>\n"
     ]
    }
   ],
   "source": [
    "# checking the type of the object\n",
    "print(type(parsed_polygon))"
   ]
  },
  {
   "cell_type": "code",
   "execution_count": 4,
   "metadata": {},
   "outputs": [
    {
     "name": "stdout",
     "output_type": "stream",
     "text": [
      "POLYGON ((-94.15000000000001 39.1599999, -94.17 39.22000000000001, -93.86 39.25000000000001, -93.84 39.18000000000001, -94.05 39.11000000000001, -94.15000000000001 39.1599999))\n"
     ]
    }
   ],
   "source": [
    "# printing the polygon object\n",
    "print(parsed_polygon)"
   ]
  },
  {
   "cell_type": "code",
   "execution_count": 5,
   "metadata": {},
   "outputs": [
    {
     "data": {
      "image/svg+xml": [
       "<svg xmlns=\"http://www.w3.org/2000/svg\" xmlns:xlink=\"http://www.w3.org/1999/xlink\" width=\"100.0\" height=\"100.0\" viewBox=\"-94.1832 39.09680000000001 0.3563999999999936 0.16639999999999588\" preserveAspectRatio=\"xMinYMin meet\"><g transform=\"matrix(1,0,0,-1,0,78.36000000000001)\"><path fill-rule=\"evenodd\" fill=\"#66cc99\" stroke=\"#555555\" stroke-width=\"0.007127999999999872\" opacity=\"0.6\" d=\"M -94.15,39.1599999 L -94.17,39.220000000000006 L -93.86,39.25000000000001 L -93.84,39.18000000000001 L -94.05,39.11000000000001 L -94.15,39.1599999 z\" /></g></svg>"
      ],
      "text/plain": [
       "<shapely.geometry.polygon.Polygon at 0x110820730>"
      ]
     },
     "execution_count": 5,
     "metadata": {},
     "output_type": "execute_result"
    }
   ],
   "source": [
    "# displaying the polygon shape\n",
    "parsed_polygon"
   ]
  },
  {
   "cell_type": "markdown",
   "metadata": {},
   "source": [
    "Shapely comes with many built-in methods that we could use to geospatial operations. In this example, we would be looking into how we can get check if a given point (lattitude, longitude) is inside the polygon object. \n",
    "\n",
    "First, let's define a point, this point would be preceisly within meters of the polygon border but still INSIDEN the polygon. We are gonna check wether this point intersects with the polygon with and without projection using shapely's built-in methods."
   ]
  },
  {
   "cell_type": "code",
   "execution_count": 116,
   "metadata": {},
   "outputs": [],
   "source": [
    "from shapely.geometry import Point\n",
    "\n",
    "\n",
    "# Points are defined in (lon, lat) format\n",
    "point_1 = Point(-94.096, 39.165)\n",
    "point_2 = Point(-93.819, 39.131)"
   ]
  },
  {
   "cell_type": "markdown",
   "metadata": {},
   "source": [
    "Checking whether the point is on/inside the polygon without projection:"
   ]
  },
  {
   "cell_type": "code",
   "execution_count": 117,
   "metadata": {},
   "outputs": [
    {
     "data": {
      "text/plain": [
       "True"
      ]
     },
     "execution_count": 117,
     "metadata": {},
     "output_type": "execute_result"
    }
   ],
   "source": [
    "# Checking to see point_1 intersects with parsed_polygon\n",
    "parsed_polygon.intersects(point_1)"
   ]
  },
  {
   "cell_type": "code",
   "execution_count": 118,
   "metadata": {},
   "outputs": [
    {
     "data": {
      "text/plain": [
       "False"
      ]
     },
     "execution_count": 118,
     "metadata": {},
     "output_type": "execute_result"
    }
   ],
   "source": [
    "# Checking to see point_1 intersects with parsed_polygon\n",
    "parsed_polygon.intersects(point_2)"
   ]
  },
  {
   "cell_type": "markdown",
   "metadata": {},
   "source": [
    "We can also use this method in a pandas DataFrame. Let try this by loading building a simple DataFrame which has two events with `id` , `title` and `geo` fields only:"
   ]
  },
  {
   "cell_type": "code",
   "execution_count": 122,
   "metadata": {},
   "outputs": [],
   "source": [
    "import pandas as pd"
   ]
  },
  {
   "cell_type": "code",
   "execution_count": 143,
   "metadata": {},
   "outputs": [
    {
     "data": {
      "text/html": [
       "<div>\n",
       "<style scoped>\n",
       "    .dataframe tbody tr th:only-of-type {\n",
       "        vertical-align: middle;\n",
       "    }\n",
       "\n",
       "    .dataframe tbody tr th {\n",
       "        vertical-align: top;\n",
       "    }\n",
       "\n",
       "    .dataframe thead th {\n",
       "        text-align: right;\n",
       "    }\n",
       "</style>\n",
       "<table border=\"1\" class=\"dataframe\">\n",
       "  <thead>\n",
       "    <tr style=\"text-align: right;\">\n",
       "      <th></th>\n",
       "      <th>id</th>\n",
       "      <th>title</th>\n",
       "      <th>geo</th>\n",
       "    </tr>\n",
       "  </thead>\n",
       "  <tbody>\n",
       "    <tr>\n",
       "      <th>0</th>\n",
       "      <td>268aCtdaPgDJNurMeP</td>\n",
       "      <td>Flood Warning</td>\n",
       "      <td>{'geometry': {'type': 'Polygon', 'coordinates'...</td>\n",
       "    </tr>\n",
       "    <tr>\n",
       "      <th>1</th>\n",
       "      <td>aPgMePDJ2dNu68aCtr</td>\n",
       "      <td>Flood Watch</td>\n",
       "      <td>{'geometry': {'type': 'Polygon', 'coordinates'...</td>\n",
       "    </tr>\n",
       "  </tbody>\n",
       "</table>\n",
       "</div>"
      ],
      "text/plain": [
       "                   id          title  \\\n",
       "0  268aCtdaPgDJNurMeP  Flood Warning   \n",
       "1  aPgMePDJ2dNu68aCtr    Flood Watch   \n",
       "\n",
       "                                                 geo  \n",
       "0  {'geometry': {'type': 'Polygon', 'coordinates'...  \n",
       "1  {'geometry': {'type': 'Polygon', 'coordinates'...  "
      ]
     },
     "execution_count": 143,
     "metadata": {},
     "output_type": "execute_result"
    }
   ],
   "source": [
    "events_list = [\n",
    "    {\n",
    "        \"id\": \"268aCtdaPgDJNurMeP\",\n",
    "        \"title\": \"Flood Warning\",\n",
    "        \"geo\": {\n",
    "            \"geometry\": {\n",
    "                \"type\": \"Polygon\",\n",
    "                \"coordinates\": [\n",
    "                    [\n",
    "                        [-94.15, 39.1599999],\n",
    "                        [-94.17, 39.220000000000006],\n",
    "                        [-93.86, 39.25000000000001],\n",
    "                        [-93.84, 39.18000000000001],\n",
    "                        [-94.05, 39.11000000000001],\n",
    "                        [-94.15, 39.1599999],\n",
    "                    ]\n",
    "                ],\n",
    "            }\n",
    "        },\n",
    "        # other fields omitted...\n",
    "    },\n",
    "    {\n",
    "        \"id\": \"aPgMePDJ2dNu68aCtr\",\n",
    "        \"title\": \"Flood Watch\",\n",
    "        \"geo\": {\n",
    "            \"geometry\": {\n",
    "                \"type\": \"Polygon\",\n",
    "                \"coordinates\": [\n",
    "                    [\n",
    "                        [-93.43, 39.67],\n",
    "                        [-93.43, 39.78],\n",
    "                        [-93.27000000000001, 39.7],\n",
    "                        [-93.20999990000001, 39.53],\n",
    "                        [-93.30000000000001, 39.51],\n",
    "                        [-93.43, 39.67],\n",
    "                    ]\n",
    "                ],\n",
    "            }\n",
    "        },\n",
    "        # other fields omitted...\n",
    "    },\n",
    "]\n",
    "\n",
    "# Build a dataframe with the events in events_list\n",
    "df_events = pd.DataFrame(events_list)\n",
    "\n",
    "df_events.head()"
   ]
  },
  {
   "cell_type": "markdown",
   "metadata": {},
   "source": [
    "Next, we would parse the `geo` field to shapely object, similar to what we did above:"
   ]
  },
  {
   "cell_type": "code",
   "execution_count": 144,
   "metadata": {},
   "outputs": [
    {
     "data": {
      "text/html": [
       "<div>\n",
       "<style scoped>\n",
       "    .dataframe tbody tr th:only-of-type {\n",
       "        vertical-align: middle;\n",
       "    }\n",
       "\n",
       "    .dataframe tbody tr th {\n",
       "        vertical-align: top;\n",
       "    }\n",
       "\n",
       "    .dataframe thead th {\n",
       "        text-align: right;\n",
       "    }\n",
       "</style>\n",
       "<table border=\"1\" class=\"dataframe\">\n",
       "  <thead>\n",
       "    <tr style=\"text-align: right;\">\n",
       "      <th></th>\n",
       "      <th>id</th>\n",
       "      <th>title</th>\n",
       "      <th>geo</th>\n",
       "      <th>polygon</th>\n",
       "    </tr>\n",
       "  </thead>\n",
       "  <tbody>\n",
       "    <tr>\n",
       "      <th>0</th>\n",
       "      <td>268aCtdaPgDJNurMeP</td>\n",
       "      <td>Flood Warning</td>\n",
       "      <td>{'geometry': {'type': 'Polygon', 'coordinates'...</td>\n",
       "      <td>POLYGON ((-94.15000000000001 39.1599999, -94.1...</td>\n",
       "    </tr>\n",
       "    <tr>\n",
       "      <th>1</th>\n",
       "      <td>aPgMePDJ2dNu68aCtr</td>\n",
       "      <td>Flood Watch</td>\n",
       "      <td>{'geometry': {'type': 'Polygon', 'coordinates'...</td>\n",
       "      <td>POLYGON ((-93.43000000000001 39.67, -93.430000...</td>\n",
       "    </tr>\n",
       "  </tbody>\n",
       "</table>\n",
       "</div>"
      ],
      "text/plain": [
       "                   id          title  \\\n",
       "0  268aCtdaPgDJNurMeP  Flood Warning   \n",
       "1  aPgMePDJ2dNu68aCtr    Flood Watch   \n",
       "\n",
       "                                                 geo  \\\n",
       "0  {'geometry': {'type': 'Polygon', 'coordinates'...   \n",
       "1  {'geometry': {'type': 'Polygon', 'coordinates'...   \n",
       "\n",
       "                                             polygon  \n",
       "0  POLYGON ((-94.15000000000001 39.1599999, -94.1...  \n",
       "1  POLYGON ((-93.43000000000001 39.67, -93.430000...  "
      ]
     },
     "execution_count": 144,
     "metadata": {},
     "output_type": "execute_result"
    }
   ],
   "source": [
    "df_events['polygon'] = df_events['geo'].apply(lambda x: shape(x['geometry']))\n",
    "\n",
    "df_events.head()"
   ]
  },
  {
   "cell_type": "markdown",
   "metadata": {},
   "source": [
    "We can now check whether the previously defined `point_1` intersects with the polygons in the `polygon` column:"
   ]
  },
  {
   "cell_type": "code",
   "execution_count": 145,
   "metadata": {
    "scrolled": true
   },
   "outputs": [
    {
     "data": {
      "text/html": [
       "<div>\n",
       "<style scoped>\n",
       "    .dataframe tbody tr th:only-of-type {\n",
       "        vertical-align: middle;\n",
       "    }\n",
       "\n",
       "    .dataframe tbody tr th {\n",
       "        vertical-align: top;\n",
       "    }\n",
       "\n",
       "    .dataframe thead th {\n",
       "        text-align: right;\n",
       "    }\n",
       "</style>\n",
       "<table border=\"1\" class=\"dataframe\">\n",
       "  <thead>\n",
       "    <tr style=\"text-align: right;\">\n",
       "      <th></th>\n",
       "      <th>id</th>\n",
       "      <th>title</th>\n",
       "      <th>geo</th>\n",
       "      <th>polygon</th>\n",
       "      <th>intersects_with_point</th>\n",
       "    </tr>\n",
       "  </thead>\n",
       "  <tbody>\n",
       "    <tr>\n",
       "      <th>0</th>\n",
       "      <td>268aCtdaPgDJNurMeP</td>\n",
       "      <td>Flood Warning</td>\n",
       "      <td>{'geometry': {'type': 'Polygon', 'coordinates'...</td>\n",
       "      <td>POLYGON ((-94.15000000000001 39.1599999, -94.1...</td>\n",
       "      <td>True</td>\n",
       "    </tr>\n",
       "    <tr>\n",
       "      <th>1</th>\n",
       "      <td>aPgMePDJ2dNu68aCtr</td>\n",
       "      <td>Flood Watch</td>\n",
       "      <td>{'geometry': {'type': 'Polygon', 'coordinates'...</td>\n",
       "      <td>POLYGON ((-93.43000000000001 39.67, -93.430000...</td>\n",
       "      <td>False</td>\n",
       "    </tr>\n",
       "  </tbody>\n",
       "</table>\n",
       "</div>"
      ],
      "text/plain": [
       "                   id          title  \\\n",
       "0  268aCtdaPgDJNurMeP  Flood Warning   \n",
       "1  aPgMePDJ2dNu68aCtr    Flood Watch   \n",
       "\n",
       "                                                 geo  \\\n",
       "0  {'geometry': {'type': 'Polygon', 'coordinates'...   \n",
       "1  {'geometry': {'type': 'Polygon', 'coordinates'...   \n",
       "\n",
       "                                             polygon  intersects_with_point  \n",
       "0  POLYGON ((-94.15000000000001 39.1599999, -94.1...                   True  \n",
       "1  POLYGON ((-93.43000000000001 39.67, -93.430000...                  False  "
      ]
     },
     "execution_count": 145,
     "metadata": {},
     "output_type": "execute_result"
    }
   ],
   "source": [
    "# Already defined, but redefinning it to showcase\n",
    "point_1 = Point(-94.096, 39.165)\n",
    "\n",
    "# Doing the check on a copy of the dataframe\n",
    "df_events_copy = df_events.copy()\n",
    "\n",
    "# Running a lambda function on the polygon column to get a bool value on whether they intersect with point_1\n",
    "df_events_copy['intersects_with_point'] = df_events_copy['polygon'].apply(lambda x: x.intersects(point_1))\n",
    "\n",
    "df_events_copy.head()"
   ]
  },
  {
   "cell_type": "markdown",
   "metadata": {},
   "source": [
    "As you can see, the event at index `0` intersects with `point_1` but the event at index `1` doesnt.\n",
    "\n",
    "We can also skip adding a new column and just do filtering:"
   ]
  },
  {
   "cell_type": "code",
   "execution_count": 146,
   "metadata": {},
   "outputs": [
    {
     "data": {
      "text/html": [
       "<div>\n",
       "<style scoped>\n",
       "    .dataframe tbody tr th:only-of-type {\n",
       "        vertical-align: middle;\n",
       "    }\n",
       "\n",
       "    .dataframe tbody tr th {\n",
       "        vertical-align: top;\n",
       "    }\n",
       "\n",
       "    .dataframe thead th {\n",
       "        text-align: right;\n",
       "    }\n",
       "</style>\n",
       "<table border=\"1\" class=\"dataframe\">\n",
       "  <thead>\n",
       "    <tr style=\"text-align: right;\">\n",
       "      <th></th>\n",
       "      <th>id</th>\n",
       "      <th>title</th>\n",
       "      <th>geo</th>\n",
       "      <th>polygon</th>\n",
       "    </tr>\n",
       "  </thead>\n",
       "  <tbody>\n",
       "    <tr>\n",
       "      <th>0</th>\n",
       "      <td>268aCtdaPgDJNurMeP</td>\n",
       "      <td>Flood Warning</td>\n",
       "      <td>{'geometry': {'type': 'Polygon', 'coordinates'...</td>\n",
       "      <td>POLYGON ((-94.15000000000001 39.1599999, -94.1...</td>\n",
       "    </tr>\n",
       "  </tbody>\n",
       "</table>\n",
       "</div>"
      ],
      "text/plain": [
       "                   id          title  \\\n",
       "0  268aCtdaPgDJNurMeP  Flood Warning   \n",
       "\n",
       "                                                 geo  \\\n",
       "0  {'geometry': {'type': 'Polygon', 'coordinates'...   \n",
       "\n",
       "                                             polygon  \n",
       "0  POLYGON ((-94.15000000000001 39.1599999, -94.1...  "
      ]
     },
     "execution_count": 146,
     "metadata": {},
     "output_type": "execute_result"
    }
   ],
   "source": [
    "df_events[df_events['polygon'].apply(lambda x: x.intersects(point_1)) == True]"
   ]
  }
 ],
 "metadata": {
  "kernelspec": {
   "display_name": "Python 3 (ipykernel)",
   "language": "python",
   "name": "python3"
  },
  "language_info": {
   "codemirror_mode": {
    "name": "ipython",
    "version": 3
   },
   "file_extension": ".py",
   "mimetype": "text/x-python",
   "name": "python",
   "nbconvert_exporter": "python",
   "pygments_lexer": "ipython3",
   "version": "3.7.12"
  }
 },
 "nbformat": 4,
 "nbformat_minor": 4
}
