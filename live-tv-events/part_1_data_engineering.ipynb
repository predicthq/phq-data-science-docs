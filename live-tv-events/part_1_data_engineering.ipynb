{
 "cells": [
  {
   "cell_type": "markdown",
   "metadata": {},
   "source": [
    "<a href=\"https://colab.research.google.com/github/predicthq/phq-data-science-docs/blob/master/live-tv-events/part_1_data_engineering.ipynb\" target=\"_blank\"><img src=\"https://colab.research.google.com/assets/colab-badge.svg\" alt=\"Open In Colab\"/></a>"
   ]
  },
  {
   "cell_type": "markdown",
   "metadata": {},
   "source": [
    "##### Live TV Events Data Science Guides\n",
    "\n",
    "# Part 1: Data Engineering\n",
    "\n",
    "PredictHQ’s Live TV Events data covers the top sports in the US by viewership. This guide focuses on viewership prediction for the seven top US sports leagues: NFL, NBA, NHL, MLB, D1 NCAA Basketball, D1 NCAA Football, and MLS. Our TV viewership data is designed for data scientists to improve forecasting at the county and store level. This *How to Series* allows you to quickly extract the data (Part 1), explore the data (Part 2) and experiment with different aggregations (Part 3).\n",
    "\n",
    "<b>A How To Guide to extracting data from PredictHQ's Live TV Events.</b>\n",
    "\n",
    "- [Setup](#setup)\n",
    "- [Access Token](#access_token)\n",
    "- [Support Functions](#support_functions)\n",
    "- [SDK Parameters](#sdk_parameters)\n",
    "- [SDK Call](#sdk_call)\n",
    "- [Output Dataframe](#output_dataframe)\n",
    "- [Appendix - Finding Location Data](#appendix)"
   ]
  },
  {
   "cell_type": "markdown",
   "metadata": {},
   "source": [
    "<a id='setup'></a>\n",
    "## Setup"
   ]
  },
  {
   "cell_type": "markdown",
   "metadata": {},
   "source": [
    "If using Google Colab uncomment the following code block."
   ]
  },
  {
   "cell_type": "code",
   "execution_count": 1,
   "metadata": {},
   "outputs": [],
   "source": [
    "# %%capture\n",
    "# !git clone https://github.com/predicthq/phq-data-science-docs.git\n",
    "# %cd phq-data-science-docs/live-tv-events\n",
    "# !pip install predicthq>=1.8.3 timezonefinder"
   ]
  },
  {
   "cell_type": "markdown",
   "metadata": {},
   "source": [
    "If running locally, configure the required dependencies in your Python environment by using the [requirements.txt](https://github.com/predicthq/phq-data-science-docs/blob/master/live-tv-events/requirements.txt) file which is shared alongside the notebook.\n",
    "\n",
    "These requirements can be installed by runing the command `pip install -r requirements.txt`"
   ]
  },
  {
   "cell_type": "code",
   "execution_count": 2,
   "metadata": {},
   "outputs": [],
   "source": [
    "import pandas as pd\n",
    "from datetime import datetime\n",
    "from datetime import timedelta\n",
    "from timezonefinder import TimezoneFinder\n",
    "import numpy as np\n",
    "import pytz\n",
    "\n",
    "from predicthq import Client\n",
    "import requests"
   ]
  },
  {
   "cell_type": "markdown",
   "metadata": {},
   "source": [
    "<a id='access_token'></a>\n",
    "## Access Token\n",
    "\n",
    "To query the API, you will need an access token with the Broadcasts scope. If you have previously used the PredictHQ API to search and use events, you may still need to create a new access token to query broadcasts.\n",
    "\n",
    "The following link will guide you through creating an account and access token. \n",
    "\n",
    " - https://docs.predicthq.com/guides/quickstart/"
   ]
  },
  {
   "cell_type": "code",
   "execution_count": 3,
   "metadata": {},
   "outputs": [],
   "source": [
    "# Replace Access Token with own access token.\n",
    "ACCESS_TOKEN = 'REPLACE_WITH_ACCESS_TOKEN'\n",
    "phq = Client(access_token=ACCESS_TOKEN)"
   ]
  },
  {
   "cell_type": "markdown",
   "metadata": {},
   "source": [
    "Live TV Events data is available through the Broadcasts API.\n",
    "\n",
    "#### Events Coverage\n",
    "The Broadcasts API covers data for live broadcasts for the top sports by viewership. This includes many sports and leagues. In this guide we will query the Broadcasts API to specifically return live sports broadcasts with confirmed schedules, which covers the top seven sports leagues in the US: \n",
    "\n",
    "- NFL\n",
    "- NBA\n",
    "- NHL\n",
    "- MLB\n",
    "- D1 NCAA Basketball\n",
    "- D1 NCAA Football\n",
    "- MLS\n",
    "\n",
    "Notes: The API on contains broadcasts for live games, not replays. The API covers more sports and leagues than the seven chosen above. This guide focuses on these seven leagues as they have broadcast data [enriched with TV listing information](https://docs.predicthq.com/start/live-tv-events/#find-broadcasts-for-different-sport-types) to confirm that broadcast time and location.\n",
    "\n",
    "#### Spacial Granularity\n",
    "\n",
    "Data is available for the United States at a granularity of county level. \n",
    "\n",
    "#### Features\n",
    "\n",
    "Each broadcast is provided with predicted viewership at the US county level. Additional data is available about the event, such as physical location and duration.\n",
    "\n",
    "#### Date Availability\n",
    "\n",
    "January 1, 2018 to 2 weeks into the future."
   ]
  },
  {
   "cell_type": "markdown",
   "metadata": {},
   "source": [
    "<a id='support_functions'></a>\n",
    "## Support Functions\n",
    "\n",
    "Each broadcast relates to a physical sports event from the PredictHQ events knowledge graph. Additional data about the actual event is also returned. For example: the league and sport of the broadcast are included within the event's labels field. The following functions make it easier to extract the sport and league for each broadcast."
   ]
  },
  {
   "cell_type": "code",
   "execution_count": 4,
   "metadata": {},
   "outputs": [],
   "source": [
    "def extract_matching_label(event_labels, labels_to_match):\n",
    "    \"\"\"\n",
    "    For each broadcast the league and sport type need to be\n",
    "    extracted. These labels are extracted from the labels.\n",
    "    As the order of the labels varies this look up is\n",
    "    required to compare to the frozenset of options.\n",
    "    \"\"\"\n",
    "    for label in labels_to_match:\n",
    "        if label in event_labels:\n",
    "            return label\n",
    "    return None\n",
    "\n",
    "\n",
    "SPORTS = frozenset([\n",
    "    'american-football',\n",
    "    'baseball',\n",
    "    'basketball',\n",
    "    'ice-hockey',\n",
    "    'soccer',\n",
    "])\n",
    "LEAGUES = frozenset([\n",
    "    'mlb',\n",
    "    'mls',\n",
    "    'nba',\n",
    "    'ncaa',\n",
    "    'nfl',\n",
    "    'nhl',\n",
    "])\n",
    "\n",
    "def convert_timezone(row):\n",
    "    \"\"\"Convert event end time to broadcast location timezone from the event timezone.\n",
    "    This will use either predicted or actual end time\"\"\"\n",
    "    \n",
    "    if row.get('dates_event', {}).get('predicted_end_local'):\n",
    "            event_end_naive = row['dates_event']['predicted_end_local']\n",
    "    elif row.get('dates_event', {}).get('end_local'):\n",
    "            event_end_naive = row['dates_event']['end_local']\n",
    "    event_timezone = pytz.timezone(row['dates_event']['timezone'])\n",
    "\n",
    "    event_end_localtime = event_timezone.localize(event_end_naive, is_dst=None)\n",
    "    event_end_utc = event_end_localtime.astimezone(pytz.utc)\n",
    "\n",
    "    broadcast_timezone = row['dates_broadcast']['timezone']\n",
    "    broadcast_end_localtime = event_end_utc.astimezone(pytz.timezone(broadcast_timezone))\n",
    "    row['predicted_end_time_broadcast_local'] = broadcast_end_localtime.replace(tzinfo=None)\n",
    "\n",
    "    return row"
   ]
  },
  {
   "cell_type": "markdown",
   "metadata": {},
   "source": [
    "<a id='sdk_parameters'></a>\n",
    "## SDK Parameters\n",
    "\n",
    "We will create a dictionary of notable parameters and walk through each of the settings to use in the SDK call."
   ]
  },
  {
   "cell_type": "code",
   "execution_count": 5,
   "metadata": {
    "tags": []
   },
   "outputs": [],
   "source": [
    " parameters_dict = dict()"
   ]
  },
  {
   "cell_type": "markdown",
   "metadata": {},
   "source": [
    "#### Viewership Limits `phq_viewership__gte=100`\n",
    "  -  We recommend filtering for broadcasts with a viewership greater than or equal to 100. This removes the smallest, noisiest broadcasts. This will remove a number of broadcasts. This is customizable to your use case."
   ]
  },
  {
   "cell_type": "code",
   "execution_count": 6,
   "metadata": {},
   "outputs": [],
   "source": [
    "parameters_dict.update(phq_viewership__gte=100)"
   ]
  },
  {
   "cell_type": "markdown",
   "metadata": {},
   "source": [
    "#### Limits  `limit=500`\n",
    "\n",
    " - When pulling historical data for a large time period many results are returned. To speed up the execution set ```limit``` to the highest available setting (500). By doing this each call to the API returns 500 results and this will generally speed up the time to retrieve large datasets."
   ]
  },
  {
   "cell_type": "code",
   "execution_count": 7,
   "metadata": {},
   "outputs": [],
   "source": [
    "parameters_dict.update(limit=500) "
   ]
  },
  {
   "cell_type": "markdown",
   "metadata": {},
   "source": [
    "#### Location\n",
    "\n",
    "There are two options available to specify a county of interest. The first is to use the place_id of the county. The second is to use a latitude and longitude somewhere within the county. If you provide both, they must both relate to the same county. It is recommended that you only provide one.\n",
    "\n",
    "`location__place_id='place_id'` or `location__origin='lat,long'`\n",
    "\n",
    "If you do not know the county's place_id or its latitude and longitude we provide a link between the FIPS code and the place_id in the [Appendix](#appendix).\n",
    "\n",
    "For the SDK call, you can specify your own counties of interest. Here are four default counties to query as an example:\n",
    "\n",
    " - 'Clark County, Nevada': 5501879\n",
    "\n",
    " - 'Los Angeles County, California': 5368381\n",
    "\n",
    " - 'Cook County, Chicago, Illinois': 4888671\n",
    "\n",
    " - 'Harris County, Houston, Texas': 4696376\n",
    " "
   ]
  },
  {
   "cell_type": "code",
   "execution_count": 8,
   "metadata": {},
   "outputs": [],
   "source": [
    "parameters_dict.update(location__origin='34.05223,-118.24368')"
   ]
  },
  {
   "cell_type": "markdown",
   "metadata": {},
   "source": [
    "#### Time Limits `start__gte='2019-01-01', start__lte='2021-01-15'`\n",
    " - To define the period of time for which broadcasts will be returned set the greater than or equal `gte` and less than or equal `lte` parameters for start. This will select all broadcasts that start within this period.\n",
    " \n",
    "You could also use either of these parameters depending on your time period of interest:\n",
    "\n",
    "```gte - Greater than or equal.``` <br>\n",
    "```gt - Greater than.```<br>\n",
    "```lte - Less than or equal.```<br>\n",
    "```lt - Less than.```<br>\n",
    "\n",
    "\n",
    "```start__tz``` allows you to set the timezone to align with the location of interest. If no ```start__tz``` is provided, UTC is used as default. This can lead to missing broadcasts at the edge of your time period, where they may not fall within the date range based on UTC, but fall within the dates based on the local timezone. The datetime of the broadcast is provided in the local timezone.\n",
    "\n",
    "```parameters_dict.update(start__tz='America/Chicago')``` \n",
    "\n",
    "Sources to aid in finding the timezone (<a href=\"https://en.wikipedia.org/wiki/List_of_tz_database_time_zones\">tz database</a>)."
   ]
  },
  {
   "cell_type": "code",
   "execution_count": 9,
   "metadata": {},
   "outputs": [
    {
     "name": "stdout",
     "output_type": "stream",
     "text": [
      "America/Los_Angeles\n"
     ]
    }
   ],
   "source": [
    "# timezonefinder will help to easily find a timezone from lat long.\n",
    "timezone = TimezoneFinder().timezone_at(lat=34.05223, lng=-118.24368)\n",
    "print(timezone)"
   ]
  },
  {
   "cell_type": "code",
   "execution_count": 10,
   "metadata": {},
   "outputs": [],
   "source": [
    "# Set your chosen start and end date.\n",
    "START_DATE = '2019-01-01'\n",
    "END_DATE = '2021-02-14'\n",
    "parameters_dict.update(start__gte=START_DATE, start__lte=END_DATE) \n",
    "parameters_dict.update(start__tz='America/Los_Angeles')"
   ]
  },
  {
   "cell_type": "markdown",
   "metadata": {},
   "source": [
    "#### Include scheduled broadcasts only\n",
    "\n",
    "In this guide, we only want to return broadcasts which are scheduled to be televised, so we use the `broadcast_status` parameter. See our [Broadcasts API guide](https://docs.predicthq.com/start/live-tv-events/#find-broadcasts-for-different-sport-types) for details about `scheduled` and `predicted` values for the `broadcast_status` field.\n",
    "\n",
    "Broadcasts for games in the top seven US leagues all have a `scheduled` `broadcast_status`."
   ]
  },
  {
   "cell_type": "code",
   "execution_count": 11,
   "metadata": {},
   "outputs": [],
   "source": [
    "parameters_dict.update(broadcast_status='scheduled')"
   ]
  },
  {
   "cell_type": "markdown",
   "metadata": {},
   "source": [
    "#### Parameters dictionary example"
   ]
  },
  {
   "cell_type": "code",
   "execution_count": 12,
   "metadata": {},
   "outputs": [
    {
     "data": {
      "text/plain": [
       "{'phq_viewership__gte': 100,\n",
       " 'limit': 500,\n",
       " 'location__origin': '34.05223,-118.24368',\n",
       " 'start__gte': '2019-01-01',\n",
       " 'start__lte': '2021-02-14',\n",
       " 'start__tz': 'America/Los_Angeles',\n",
       " 'broadcast_status': 'scheduled'}"
      ]
     },
     "execution_count": 12,
     "metadata": {},
     "output_type": "execute_result"
    }
   ],
   "source": [
    "parameters_dict"
   ]
  },
  {
   "cell_type": "markdown",
   "metadata": {},
   "source": [
    "<a id='sdk_call'></a>\n",
    "## SDK Call"
   ]
  },
  {
   "cell_type": "markdown",
   "metadata": {},
   "source": [
    "Loop through the call to the Broadcasts API for each county of interest.\n",
    "\n",
    "Not all broadcasts will be returned for each county. For example if a county has low broadcast coverage (less than 45% of the county population have access to the broadcast) the broadcast is not available. Other reasons a broadcast may not appear could be if the `phq_viewership` parameter excludes any broadcasts with low numbers. Certain sports events in certain counties are forecast to have low viewership.\n",
    "\n",
    "The data for each county is saved to csv as an example output. This can be adjusted to work with your own data pipeline."
   ]
  },
  {
   "cell_type": "code",
   "execution_count": 13,
   "metadata": {},
   "outputs": [],
   "source": [
    "# To run for your own counties of interest.\n",
    "# Either replace list of county ids.\n",
    "# Or replace list of lat and long.\n",
    "LIST_OF_COUNTIES = [5501879, 5368381, 4888671, 4696376]\n",
    "LIST_OF_LAT_LONG = ['42.0909,-71.2643', '33.9534,-118.3387', '39.0489,-94.4839', '37.4034,-121.9694']\n",
    "\n",
    "START_DATE = '2019-01-01'\n",
    "END_DATE = '2021-02-14'"
   ]
  },
  {
   "cell_type": "markdown",
   "metadata": {},
   "source": [
    "In the following example:\n",
    " - The `start__timezone` parameter is not specified. This means the `start__gte` and `start__lte` values provided are treated as UTC by the API when searching.\n",
    " - County latitude and longitudes are used. Uncomment or comment appropriately if using county place_ids."
   ]
  },
  {
   "cell_type": "code",
   "execution_count": 14,
   "metadata": {},
   "outputs": [],
   "source": [
    "# Define API parameters.\n",
    "parameters_dict = {\n",
    "    'phq_viewership__gte': 100,\n",
    "    'limit': 500,\n",
    "    'start__gte': START_DATE,\n",
    "    'start__lte': END_DATE,\n",
    "    'broadcast_status': 'scheduled',\n",
    "}\n",
    "\n",
    "# Loop through each location of interest.\n",
    "# Example code is provided to either loop through LIST_OF_COUNTIES or LIST_OF_LAT_LONG.\n",
    "\n",
    "#for place_id in LIST_OF_COUNTIES:  # uncomment/comment as required. \n",
    "for lat_long in LIST_OF_LAT_LONG:  # uncomment/comment as required. \n",
    "    \n",
    "    #parameters_dict.update(location__place_id=place_id)  # uncomment/comment as required.  \n",
    "    parameters_dict.update(location__origin=lat_long)  # uncomment/comment as required. \n",
    "    \n",
    "    search_results = phq.broadcasts.search(parameters_dict).iter_all()\n",
    "\n",
    "    search_results = [result.to_dict() for result in search_results]\n",
    "\n",
    "    df = pd.DataFrame(search_results)\n",
    "\n",
    "    # Extract additional information: 'event' stores the additional\n",
    "    # data about the physical event.\n",
    "    df = df.merge(df['event'].apply(pd.Series),\n",
    "                  left_index=True,\n",
    "                  right_index=True,\n",
    "                  suffixes=('_broadcast', '_event'))\n",
    "\n",
    "    # Extract sport and league from the labels in the nested event data.\n",
    "    df['sport'] = df.labels.apply(extract_matching_label, args=(SPORTS,))\n",
    "    df['league'] = df.labels.apply(extract_matching_label, args=(LEAGUES,))\n",
    "\n",
    "    df['local_start_date'] = (df.dates_broadcast\n",
    "                                .apply(\n",
    "                                        lambda start_dt:\n",
    "                                        (start_dt['start_local']).date()\n",
    "                                       )\n",
    "                              )\n",
    "\n",
    "    df['county_place_id'] = (df.location_broadcast\n",
    "                               .apply(\n",
    "                                       lambda location:\n",
    "                                       location['places'][0]['place_id']\n",
    "                                     )\n",
    "                             )\n",
    "\n",
    "    df['local_start_datetime'] = (df.dates_broadcast\n",
    "                                    .apply(\n",
    "                                            lambda start_dt:\n",
    "                                            (start_dt['start_local'])\n",
    "                                          )\n",
    "                                  )\n",
    "\n",
    "    # Check for any events without a predicted or actual end time.\n",
    "    # All broadcasts are expected to have a predicted end time or an actual end time.\n",
    "    broadcast_id_no_endtime = [row['broadcast_id'] for _, row in df.iterrows() \\\n",
    "                               if not (row.get('dates_event', {}).get('predicted_end_local') or row.get('dates_event',{}).get('end_local'))]\n",
    "    # Remove any broadcasts without a predicted end time.\n",
    "    df = df[~df['broadcast_id'].isin(broadcast_id_no_endtime)]\n",
    "\n",
    "    # Convert the predicted end time of the event to broadcast timezone.\n",
    "    df = df.apply(convert_timezone, axis=1)\n",
    "\n",
    "    df['sport_league'] = df['sport'] + '_' + df['league']\n",
    "\n",
    "    # Calculate the duration of the broadcast. \n",
    "    df['duration'] = df['predicted_end_time_broadcast_local'] - df['local_start_datetime']\n",
    "    df['duration_hours'] = df['duration'].dt.seconds/(60*60)\n",
    "    df['total_viewing'] = df['duration_hours'] * df['phq_viewership']\n",
    "    \n",
    "    # Make sure we don't have any broadcasts with zero duration\n",
    "    df = df[df['duration_hours']>0]\n",
    "    \n",
    "    # Save dataframe to csv\n",
    "    county = df['county_place_id'].unique()[0]\n",
    "    df.to_csv('data/tv_events_data/{}_county_raw.csv'.format(county),\n",
    "              index=False)"
   ]
  },
  {
   "cell_type": "markdown",
   "metadata": {},
   "source": [
    "The returned data is at the broadcast level. Each broadcast returned for the selected counties are those which met the parameters of the SDK call. In Part 2 of this *How to Series* we will explore this data to understand the key trends. In Part 3 we'll prepare features to be used in a forecasting model."
   ]
  },
  {
   "cell_type": "markdown",
   "metadata": {},
   "source": [
    "<a id='output_dataframe'></a>\n",
    "## Output Dataframe\n",
    "\n",
    "It is important to understand the output data. \n",
    "\n",
    "A key aspect to be familiar with is which data fields relate to the broadcast and which fields relate to the physical sports event that the broadcast is showing. The data that was extracted out of the `event` are all related to the physical event.\n",
    "\n",
    "For absolute clarity in the returned dataframe, the following columns relate to the broadcast:\n",
    "- broadcast_id\n",
    "- updated\n",
    "- first_seen\n",
    "- dates_broadcast\n",
    "- location_broadcast\n",
    "- phq_viewership\n",
    "- record_status\n",
    "- broadcast_status\n",
    "- local_start_date\n",
    "- local_start_datetime\n",
    "- county_place_id\n",
    "- predicted_end_time_broadcast_local\n",
    "- total_viewing\n",
    "\n",
    "And the following columns relate to the actual physical event (many of which are relevant additional data about the broadcast):\n",
    "- event\n",
    "- event_id\n",
    "- title \n",
    "- category \n",
    "- labels\n",
    "- dates_event\n",
    "- location_event\n",
    "- entities \n",
    "- phq_attendance\n",
    "- phq_rank\n",
    "- local_rank\n",
    "- aviation_rank\n",
    "- sport\n",
    "- league\n",
    "- sport_league\n",
    "- duration\n",
    "- duration_hours\n",
    "\n",
    "# If any of the above fields are not present in your data, make sure you're using the `predicthq` library version specified in requirements.txt\n",
    "# or the version advised above if you're running this notebook on Colab. Then run this notebook again.\n"
   ]
  },
  {
   "cell_type": "code",
   "execution_count": 15,
   "metadata": {},
   "outputs": [
    {
     "data": {
      "text/html": [
       "<div>\n",
       "<style scoped>\n",
       "    .dataframe tbody tr th:only-of-type {\n",
       "        vertical-align: middle;\n",
       "    }\n",
       "\n",
       "    .dataframe tbody tr th {\n",
       "        vertical-align: top;\n",
       "    }\n",
       "\n",
       "    .dataframe thead th {\n",
       "        text-align: right;\n",
       "    }\n",
       "</style>\n",
       "<table border=\"1\" class=\"dataframe\">\n",
       "  <thead>\n",
       "    <tr style=\"text-align: right;\">\n",
       "      <th></th>\n",
       "      <th>broadcast_id</th>\n",
       "      <th>updated</th>\n",
       "      <th>first_seen</th>\n",
       "      <th>dates_broadcast</th>\n",
       "      <th>location_broadcast</th>\n",
       "      <th>phq_viewership</th>\n",
       "      <th>record_status</th>\n",
       "      <th>broadcast_status</th>\n",
       "      <th>event</th>\n",
       "      <th>event_id</th>\n",
       "      <th>...</th>\n",
       "      <th>sport</th>\n",
       "      <th>league</th>\n",
       "      <th>local_start_date</th>\n",
       "      <th>county_place_id</th>\n",
       "      <th>local_start_datetime</th>\n",
       "      <th>predicted_end_time_broadcast_local</th>\n",
       "      <th>sport_league</th>\n",
       "      <th>duration</th>\n",
       "      <th>duration_hours</th>\n",
       "      <th>total_viewing</th>\n",
       "    </tr>\n",
       "  </thead>\n",
       "  <tbody>\n",
       "    <tr>\n",
       "      <th>0</th>\n",
       "      <td>88ZXwDcnYJdXxYWNCV9wGt</td>\n",
       "      <td>2021-07-19 08:22:08+00:00</td>\n",
       "      <td>2020-11-10 06:43:50+00:00</td>\n",
       "      <td>{'start': 2019-01-01 00:00:00+00:00, 'start_lo...</td>\n",
       "      <td>{'geopoint': {'lat': 37.23249, 'lon': -121.696...</td>\n",
       "      <td>61994</td>\n",
       "      <td>active</td>\n",
       "      <td>scheduled</td>\n",
       "      <td>{'event_id': 'S8F7FMsKiiU4q8UF67', 'title': 'N...</td>\n",
       "      <td>S8F7FMsKiiU4q8UF67</td>\n",
       "      <td>...</td>\n",
       "      <td>american-football</td>\n",
       "      <td>ncaa</td>\n",
       "      <td>2018-12-31</td>\n",
       "      <td>5393021</td>\n",
       "      <td>2018-12-31 16:00:00</td>\n",
       "      <td>2018-12-31 19:45:12</td>\n",
       "      <td>american-football_ncaa</td>\n",
       "      <td>0 days 03:45:12</td>\n",
       "      <td>3.753333</td>\n",
       "      <td>232684.146667</td>\n",
       "    </tr>\n",
       "    <tr>\n",
       "      <th>1</th>\n",
       "      <td>8s2tcDgk6L6rdiBDvu48Q7</td>\n",
       "      <td>2021-07-19 09:39:39+00:00</td>\n",
       "      <td>2020-11-10 06:43:55+00:00</td>\n",
       "      <td>{'start': 2019-01-01 00:00:00+00:00, 'start_lo...</td>\n",
       "      <td>{'geopoint': {'lat': 37.23249, 'lon': -121.696...</td>\n",
       "      <td>3689</td>\n",
       "      <td>active</td>\n",
       "      <td>scheduled</td>\n",
       "      <td>{'event_id': 'Jmf3N4imaHeEruibPM', 'title': 'N...</td>\n",
       "      <td>Jmf3N4imaHeEruibPM</td>\n",
       "      <td>...</td>\n",
       "      <td>ice-hockey</td>\n",
       "      <td>nhl</td>\n",
       "      <td>2018-12-31</td>\n",
       "      <td>5393021</td>\n",
       "      <td>2018-12-31 16:00:00</td>\n",
       "      <td>2018-12-31 18:37:09</td>\n",
       "      <td>ice-hockey_nhl</td>\n",
       "      <td>0 days 02:37:09</td>\n",
       "      <td>2.619167</td>\n",
       "      <td>9662.105833</td>\n",
       "    </tr>\n",
       "  </tbody>\n",
       "</table>\n",
       "<p>2 rows × 30 columns</p>\n",
       "</div>"
      ],
      "text/plain": [
       "             broadcast_id                   updated                first_seen  \\\n",
       "0  88ZXwDcnYJdXxYWNCV9wGt 2021-07-19 08:22:08+00:00 2020-11-10 06:43:50+00:00   \n",
       "1  8s2tcDgk6L6rdiBDvu48Q7 2021-07-19 09:39:39+00:00 2020-11-10 06:43:55+00:00   \n",
       "\n",
       "                                     dates_broadcast  \\\n",
       "0  {'start': 2019-01-01 00:00:00+00:00, 'start_lo...   \n",
       "1  {'start': 2019-01-01 00:00:00+00:00, 'start_lo...   \n",
       "\n",
       "                                  location_broadcast  phq_viewership  \\\n",
       "0  {'geopoint': {'lat': 37.23249, 'lon': -121.696...           61994   \n",
       "1  {'geopoint': {'lat': 37.23249, 'lon': -121.696...            3689   \n",
       "\n",
       "  record_status broadcast_status  \\\n",
       "0        active        scheduled   \n",
       "1        active        scheduled   \n",
       "\n",
       "                                               event            event_id  ...  \\\n",
       "0  {'event_id': 'S8F7FMsKiiU4q8UF67', 'title': 'N...  S8F7FMsKiiU4q8UF67  ...   \n",
       "1  {'event_id': 'Jmf3N4imaHeEruibPM', 'title': 'N...  Jmf3N4imaHeEruibPM  ...   \n",
       "\n",
       "               sport league local_start_date county_place_id  \\\n",
       "0  american-football   ncaa       2018-12-31         5393021   \n",
       "1         ice-hockey    nhl       2018-12-31         5393021   \n",
       "\n",
       "  local_start_datetime predicted_end_time_broadcast_local  \\\n",
       "0  2018-12-31 16:00:00                2018-12-31 19:45:12   \n",
       "1  2018-12-31 16:00:00                2018-12-31 18:37:09   \n",
       "\n",
       "             sport_league        duration  duration_hours  total_viewing  \n",
       "0  american-football_ncaa 0 days 03:45:12        3.753333  232684.146667  \n",
       "1          ice-hockey_nhl 0 days 02:37:09        2.619167    9662.105833  \n",
       "\n",
       "[2 rows x 30 columns]"
      ]
     },
     "execution_count": 15,
     "metadata": {},
     "output_type": "execute_result"
    }
   ],
   "source": [
    "df.head(2)"
   ]
  },
  {
   "cell_type": "markdown",
   "metadata": {},
   "source": [
    "<a id='appendix'></a>\n",
    "## Appendix: FIPS"
   ]
  },
  {
   "cell_type": "markdown",
   "metadata": {},
   "source": [
    "Either place_id or latitude and longitude can be used as a parameter in the call to the SDK. If neither of these are available we also provide a mapping between FIPS code and place_id.\n",
    "\n",
    "PredictHQ uses the geonames places convention https://www.geonames.org/ "
   ]
  },
  {
   "cell_type": "markdown",
   "metadata": {},
   "source": [
    "#### Location FIPS Code"
   ]
  },
  {
   "cell_type": "code",
   "execution_count": 16,
   "metadata": {},
   "outputs": [
    {
     "data": {
      "text/html": [
       "<div>\n",
       "<style scoped>\n",
       "    .dataframe tbody tr th:only-of-type {\n",
       "        vertical-align: middle;\n",
       "    }\n",
       "\n",
       "    .dataframe tbody tr th {\n",
       "        vertical-align: top;\n",
       "    }\n",
       "\n",
       "    .dataframe thead th {\n",
       "        text-align: right;\n",
       "    }\n",
       "</style>\n",
       "<table border=\"1\" class=\"dataframe\">\n",
       "  <thead>\n",
       "    <tr style=\"text-align: right;\">\n",
       "      <th></th>\n",
       "      <th>geoname_id</th>\n",
       "      <th>county_name</th>\n",
       "      <th>county_fips</th>\n",
       "    </tr>\n",
       "  </thead>\n",
       "  <tbody>\n",
       "    <tr>\n",
       "      <th>0</th>\n",
       "      <td>4047434</td>\n",
       "      <td>Russell County</td>\n",
       "      <td>1113</td>\n",
       "    </tr>\n",
       "    <tr>\n",
       "      <th>1</th>\n",
       "      <td>4048080</td>\n",
       "      <td>Long County</td>\n",
       "      <td>13183</td>\n",
       "    </tr>\n",
       "    <tr>\n",
       "      <th>2</th>\n",
       "      <td>4048522</td>\n",
       "      <td>Boone County</td>\n",
       "      <td>21015</td>\n",
       "    </tr>\n",
       "    <tr>\n",
       "      <th>3</th>\n",
       "      <td>4048572</td>\n",
       "      <td>Rowan County</td>\n",
       "      <td>21205</td>\n",
       "    </tr>\n",
       "    <tr>\n",
       "      <th>4</th>\n",
       "      <td>4049189</td>\n",
       "      <td>Bibb County</td>\n",
       "      <td>1007</td>\n",
       "    </tr>\n",
       "  </tbody>\n",
       "</table>\n",
       "</div>"
      ],
      "text/plain": [
       "   geoname_id     county_name  county_fips\n",
       "0     4047434  Russell County         1113\n",
       "1     4048080     Long County        13183\n",
       "2     4048522    Boone County        21015\n",
       "3     4048572    Rowan County        21205\n",
       "4     4049189     Bibb County         1007"
      ]
     },
     "execution_count": 16,
     "metadata": {},
     "output_type": "execute_result"
    }
   ],
   "source": [
    "# We provide a lookup between FIPS code and place_id. A geoname_id is equivalent to a place_id.\n",
    "mapping = pd.read_csv('data/geo_data/geoname_to_fips_mapping.csv')\n",
    "mapping.head()"
   ]
  }
 ],
 "metadata": {
  "kernelspec": {
   "display_name": "Python 3",
   "language": "python",
   "name": "python3"
  },
  "language_info": {
   "codemirror_mode": {
    "name": "ipython",
    "version": 3
   },
   "file_extension": ".py",
   "mimetype": "text/x-python",
   "name": "python",
   "nbconvert_exporter": "python",
   "pygments_lexer": "ipython3",
   "version": "3.7.4"
  }
 },
 "nbformat": 4,
 "nbformat_minor": 4
}
