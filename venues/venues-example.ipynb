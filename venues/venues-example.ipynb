{
 "cells": [
  {
   "cell_type": "markdown",
   "id": "f5196964-f9d7-4dbc-821c-67b1fdc6cf25",
   "metadata": {},
   "source": [
    "<a href=\"https://colab.research.google.com/github/predicthq/phq-data-science-docs/blob/master/venues/venues-example.ipynb\" target=\"_blank\"><img src=\"https://colab.research.google.com/assets/colab-badge.svg\" alt=\"Open In Colab\"/></a>"
   ]
  },
  {
   "cell_type": "markdown",
   "id": "3409af9b-f24f-4c4d-9a9b-b8fc5da854ee",
   "metadata": {},
   "source": [
    "#### Venues-Example DATA SCIENCE GUIDES\n",
    "\n",
    "# Venues Example\n",
    "\n",
    "**A How To Guide to extracting venue information from PredictHQ's Attended Events data (conferences, expos, concerts, festivals, performing-arts, sports, community).**\n",
    "\n",
    "    \n",
    "The aim of this notebook is showcase how the PHQ Events API could be used to extract venue information for a location and time of your choice and basic map visuals.\n",
    "\n",
    "- [Setup](#setup)\n",
    "- [Access Token](#access_token)\n",
    "- [SDK Parameters](#setting_params) \n",
    "- [Calling the PredictHQ API and Fetching Events](#calling_api)\n",
    "- [Exploring the Result DataFrame and extract venue data](#exploring_df)\n",
    "- [Displaying all venues on a map](#display_venue_loc)\n",
    "- [What type of events occurs most often at venues?](#venue_most_freq_type)\n",
    "- [What's the estimated capacity of venues?](#venue_est_capacity)\n",
    "- [Appendix 1 - Finding place_id](#appendix-1)"
   ]
  },
  {
   "cell_type": "markdown",
   "id": "f6b30162-60b6-4252-8429-e830cc4cea43",
   "metadata": {},
   "source": [
    "<a id='setup'></a>\n",
    "# Setup\n"
   ]
  },
  {
   "cell_type": "markdown",
   "id": "ddec6127-2656-435d-8969-b41f912cfd08",
   "metadata": {},
   "source": [
    "- If you're using Google Colab, uncomment and run the following code block."
   ]
  },
  {
   "cell_type": "code",
   "execution_count": 1,
   "id": "c78bdf50-9f67-453c-8423-f3d942b27022",
   "metadata": {},
   "outputs": [],
   "source": [
    "# %%capture\n",
    "# !git clone https://github.com/predicthq/phq-data-science-docs.git\n",
    "# %cd phq-data-science-docs/venues\n",
    "# !pip install timezonefinder==5.2.0 requests==2.26.0 predicthq==2.0.2 plotly==5.2.1 pandas==1.3.5"
   ]
  },
  {
   "cell_type": "markdown",
   "id": "0412d452-3aa9-401e-bafb-c5cf55e5fb51",
   "metadata": {},
   "source": [
    "\n",
    "- Alternatively if you're running this notebook on a local machine, set up a Python environment using [requirements.txt](https://github.com/predicthq/phq-data-science-docs/blob/master/venues-example/requirements.txt) file which is shared alongside the notebook.\n",
    "These requirements can be installed by runing the command `pip install -r requirements.txt`.\n"
   ]
  },
  {
   "cell_type": "code",
   "execution_count": 2,
   "id": "b20220fa-d065-44b2-a0ae-f1e90efc469f",
   "metadata": {
    "tags": []
   },
   "outputs": [],
   "source": [
    "import pandas as pd\n",
    "import plotly.express as px\n",
    "import requests\n",
    "from predicthq import Client\n",
    "from timezonefinder import TimezoneFinder\n",
    "\n",
    "# To display more columns and with a larger width in the DataFrame\n",
    "pd.set_option(\"display.max_columns\", 50)\n",
    "pd.options.display.max_colwidth = 100\n"
   ]
  },
  {
   "cell_type": "markdown",
   "id": "6e23da6f-ea3f-4bca-918d-72a97539a931",
   "metadata": {},
   "source": [
    "<a id='access_token'></a>\n",
    "# Access Token\n",
    "An Access Token is required to query the API. You can checked out our [API Quickstart](../../guides/quickstart/) page if you want to create an account or an access token.\n"
   ]
  },
  {
   "cell_type": "code",
   "execution_count": 3,
   "id": "e2b1910f-a870-42f1-ac3a-1a5bbe20134b",
   "metadata": {},
   "outputs": [],
   "source": [
    "ACCESS_TOKEN = 'REPLACE_WITH_ACCESS_TOKEN'\n",
    "phq = Client(access_token=ACCESS_TOKEN)"
   ]
  },
  {
   "cell_type": "markdown",
   "id": "bd150f77-39cd-4f3c-a836-2f248d02f841",
   "metadata": {},
   "source": [
    "<a id='setting_params'></a>\n",
    "# SDK Parameters\n",
    "To search for Attended Events, start by building a parameter dictionary and adding the required filters."
   ]
  },
  {
   "cell_type": "code",
   "execution_count": 4,
   "id": "bd8c59de-d05f-419b-a30b-52d5ae68fa08",
   "metadata": {},
   "outputs": [],
   "source": [
    "parameters = dict()"
   ]
  },
  {
   "cell_type": "markdown",
   "id": "8ee2cf14-7ced-425b-9120-8ed103e3fc7c",
   "metadata": {},
   "source": [
    "#### Location\n",
    "Specifying the location ensures you will see the relevant events for the location.\n",
    "\n",
    "The notebook provides a default location in Chicago.\n",
    "\n",
    "This can be adjusted to suit a location that is of interest to you.\n",
    "\n",
    "We can do this in two ways:  \n",
    "\n",
    "  1) Using the `within` parameter, which contains `latitude`, `longitude` of the interested location with a `radius` and a `unit` for the radius.\n",
    "  \n",
    "  2) Using a list of `place_id` values.\n",
    "   \n",
    "Note: This notebook uses the state of ```Chicago``` as an example location. You can modify this to suit your location(s) of interest."
   ]
  },
  {
   "cell_type": "code",
   "execution_count": 5,
   "id": "dad38328-9b90-4f40-af7f-da66d8df172b",
   "metadata": {},
   "outputs": [],
   "source": [
    "# Using latitude, longitude and a radius\n",
    "latitude, longitude = (41.881832, -87.623177) # Latitude, longitude for Chicago\n",
    "radius = 5\n",
    "radius_unit = \"km\"\n",
    "\n",
    "within = f\"{radius}{radius_unit}@{latitude},{longitude}\""
   ]
  },
  {
   "cell_type": "markdown",
   "id": "dbc886b4-d2ce-47a0-a257-6e20c7c3d0a5",
   "metadata": {},
   "source": [
    "Alternatively, we could have used a list of ```place_id``` for our search (See our Appendix on Place IDs for detailed explanation)."
   ]
  },
  {
   "cell_type": "code",
   "execution_count": 6,
   "id": "551456dd",
   "metadata": {},
   "outputs": [],
   "source": [
    "place_ids = [4887398] # This is the place_id for Chicago. See the Appendix for how to find place_ids."
   ]
  },
  {
   "cell_type": "markdown",
   "id": "6fdd2026-40fa-4986-a2d7-ad3d251f3805",
   "metadata": {},
   "source": [
    "You can use either ```within``` or place_id as a filter but you can not use both."
   ]
  },
  {
   "cell_type": "code",
   "execution_count": 7,
   "id": "612a7dba-9a7a-4f67-82d3-3c3a05dd3a3e",
   "metadata": {},
   "outputs": [],
   "source": [
    "parameters.update(within=within)  # Comment if you want to use place_ids\n",
    "# parameters.update(place__scope=place_ids)  # Comment if you want to use lat and long"
   ]
  },
  {
   "cell_type": "markdown",
   "id": "b4f9ece5-d606-4dea-a5cf-83b4df5f1606",
   "metadata": {},
   "source": [
    "#### Date \"YYYY-MM-DD\"\n",
    "\n",
    "To define the period of time for which Attended Events will be returned, set the greater than or equal (active.gte) and less than or equal (active.lte) parameters. This will select all Attended Events that are active within this period.\n",
    "\n",
    "You could also use either of these parameters depending on your time period of interest:\n",
    "\n",
    "```gte - Greater than or equal.``` <br>\n",
    "```gt - Greater than.```<br>\n",
    "```lte - Less than or equal.```<br>\n",
    "```lt - Less than.```<br>\n",
    "\n",
    "\n",
    "The default example in this notebook is to search for the whole of 2021."
   ]
  },
  {
   "cell_type": "code",
   "execution_count": 8,
   "id": "5e7c31ec-a034-4cbf-a06a-e5281258d3e4",
   "metadata": {},
   "outputs": [],
   "source": [
    "start_time = \"2021-01-01\"\n",
    "end_time = \"2021-12-31\"\n",
    "parameters.update(active__gte=start_time)\n",
    "parameters.update(active__lte=end_time)"
   ]
  },
  {
   "cell_type": "markdown",
   "id": "29381564-0a1a-442b-8fa5-93197631f6a7",
   "metadata": {},
   "source": [
    "#### Timezone \n",
    "By setting the timezone for the location of interest, the appropriate events will be returned.(<a href=\"https://en.wikipedia.org/wiki/List_of_tz_database_time_zones\">tz database</a>)\n",
    "\n",
    "For our Chicago example, the timezone would be ```America/Chicago```. \n",
    "Use the `TimezoneFinder()` to find it for our location of interest."
   ]
  },
  {
   "cell_type": "code",
   "execution_count": 9,
   "id": "a590ef3e-f85f-492a-82a4-98fcfd4c7e70",
   "metadata": {},
   "outputs": [
    {
     "name": "stdout",
     "output_type": "stream",
     "text": [
      "America/Chicago\n"
     ]
    }
   ],
   "source": [
    "timezone = TimezoneFinder().timezone_at(lat=latitude, lng=longitude)\n",
    "print(timezone)"
   ]
  },
  {
   "cell_type": "code",
   "execution_count": 10,
   "id": "115d73df-8420-4a83-a721-c01f75dacacd",
   "metadata": {},
   "outputs": [],
   "source": [
    "parameters.update(active__tz=timezone)"
   ]
  },
  {
   "cell_type": "markdown",
   "id": "a1be08b3-8e7e-4762-889e-c0c73c12488e",
   "metadata": {},
   "source": [
    "#### Rank range\n",
    "\n",
    "Similar to the date period, the rank range can be set to filter events. The rank_type can be set to either `rank`, `local_rank` or `aviation_rank`. The `rank` reflects the [estimated impact of an event](https://docs.predicthq.com/start/ranks/). The `local_rank` reflects the [estimated impact of an event in their local area](https://docs.predicthq.com/start/ranks/) by considering population density. Local Rank is useful when comparing events from multiple locations. The `aviation_rank` reflects the number of passengers who attend the event by flight. As a rule of thumb, here is the estimation of the number of attendance/passengers for typical rank_type and rank_threshold settings:\n",
    "\n",
    "rank_type |rank_threshold |Number of attendance/passengers\n",
    ":-----:|:-----:|:-----:\n",
    "rank|$20$|$\\sim30$\n",
    "rank|$30$|$\\sim100$\n",
    "rank|$40$|$\\sim300$\n",
    "rank|$50$|$\\sim1000$\n",
    "rank|$60$|$\\sim3000$\n",
    "aviation_rank|$30$|$\\sim20$\n",
    "aviation_rank|$40$|$\\sim40$\n",
    "aviation_rank|$50$|$\\sim100$\n",
    "aviation_rank|$60$|$\\sim200$"
   ]
  },
  {
   "cell_type": "code",
   "execution_count": 11,
   "id": "2ebd904a-03fc-4de2-a554-598b1644965c",
   "metadata": {},
   "outputs": [],
   "source": [
    "# Select events according to rank_type, rank threshold.\n",
    "rank_type = \"rank\" # Set to be either \"rank\", \"local_rank\" or \"aviation_rank\".\n",
    "rank_threshold = 40 \n",
    "filter_parameter = \"gte\"\n",
    "parameters.update({f\"{rank_type}__{filter_parameter}\": rank_threshold})"
   ]
  },
  {
   "cell_type": "markdown",
   "id": "3f563f6d-dcd7-498d-a00c-800ffc695ed0",
   "metadata": {},
   "source": [
    "#### Categories\n",
    "Set the category to `attendance category`.\n"
   ]
  },
  {
   "cell_type": "code",
   "execution_count": 12,
   "id": "95608561-ee21-434f-9494-ff0ca58637dc",
   "metadata": {},
   "outputs": [],
   "source": [
    "categories = [\n",
    "    \"community\",\n",
    "    \"concerts\",\n",
    "    \"conferences\",\n",
    "    \"expos\",\n",
    "    \"festivals\",\n",
    "    \"performing-arts\",\n",
    "    \"sports\",\n",
    "]\n",
    "parameters.update(category=categories)"
   ]
  },
  {
   "cell_type": "markdown",
   "id": "32859515-e43b-40dc-ace9-a3e80673b51f",
   "metadata": {},
   "source": [
    "#### Limits \n",
    "When pulling historical data for a large time period, many results are returned. To speed up the execution, set limit to the highest available setting (500). By doing this, each call to the API returns 500 results and this will generally speed up the time to retrieve large datasets."
   ]
  },
  {
   "cell_type": "code",
   "execution_count": 13,
   "id": "60215ab5-ee38-48fe-ae42-43e33eb41262",
   "metadata": {},
   "outputs": [],
   "source": [
    "parameters.update(limit=500)"
   ]
  },
  {
   "cell_type": "markdown",
   "id": "35d9c126-1e37-449b-abb5-2b1fb79e0068",
   "metadata": {},
   "source": [
    "#### Checking the parameters\n",
    "Finally, let's take a look at the parameters we have set for our search."
   ]
  },
  {
   "cell_type": "code",
   "execution_count": 14,
   "id": "87e6a3e2-a7e9-4d4a-bbc2-1c915e15dbe6",
   "metadata": {},
   "outputs": [
    {
     "data": {
      "text/plain": [
       "{'within': '5km@41.881832,-87.623177',\n",
       " 'active__gte': '2021-01-01',\n",
       " 'active__lte': '2021-12-31',\n",
       " 'active__tz': 'America/Chicago',\n",
       " 'rank__gte': 40,\n",
       " 'category': ['community',\n",
       "  'concerts',\n",
       "  'conferences',\n",
       "  'expos',\n",
       "  'festivals',\n",
       "  'performing-arts',\n",
       "  'sports'],\n",
       " 'limit': 500}"
      ]
     },
     "execution_count": 14,
     "metadata": {},
     "output_type": "execute_result"
    }
   ],
   "source": [
    "parameters"
   ]
  },
  {
   "cell_type": "markdown",
   "id": "e5d08b55",
   "metadata": {},
   "source": [
    "You can check out the full list of available parameters that you could use in querying attended Events at our [Events Resource page](../../resources/events/)."
   ]
  },
  {
   "cell_type": "markdown",
   "id": "1c7c181f-8ac7-4a5e-afad-01b5ab6f380e",
   "metadata": {},
   "source": [
    "<a id='calling_api'></a>\n",
    "# Calling the PredictHQ API and Fetching Events\n",
    "\n",
    "In this step, we use PHQ's Python SDK Client to query and fetch events using the parameters we defined above."
   ]
  },
  {
   "cell_type": "code",
   "execution_count": null,
   "id": "3f999054-9ee5-4b55-9a4e-0ffc479c2799",
   "metadata": {},
   "outputs": [],
   "source": [
    "results = []\n",
    "\n",
    "# Iterating through all the events that match our criteria and adding them to our results\n",
    "for event in phq.events.search(parameters).iter_all():\n",
    "    results.append(event.to_dict())\n",
    "\n",
    "# Converting the results to a DataFrame\n",
    "event_df = pd.DataFrame(results)"
   ]
  },
  {
   "cell_type": "markdown",
   "id": "2a428407-c209-45c9-8254-792ef81544a5",
   "metadata": {},
   "source": [
    "<a id='exploring_df'></a>\n",
    "# Exploring the Result DataFrame and extract venue data\n",
    "We take a look at the result data and extract venue information for our use case."
   ]
  },
  {
   "cell_type": "code",
   "execution_count": null,
   "id": "2e07e95d-9e84-4bc2-bca9-20704483acc8",
   "metadata": {},
   "outputs": [],
   "source": [
    "# Extract venue locations\n",
    "event_df['lat'] = event_df.location.apply(lambda x: x[1])\n",
    "event_df['lon'] = event_df.location.apply(lambda x: x[0])"
   ]
  },
  {
   "cell_type": "code",
   "execution_count": null,
   "id": "ac0558d5",
   "metadata": {},
   "outputs": [],
   "source": [
    "# Extract entity information: id, name and type\n",
    "def _filter_venues(entities):\n",
    "    venues = [e for e in entities if e[\"type\"] == \"venue\"]\n",
    "    if not venues:\n",
    "        return None\n",
    "    return venues[0]\n",
    "\n",
    "venue_field = lambda entity, fieldname: entity[fieldname] if entity is not None else None\n",
    "\n",
    "\n",
    "event_df[\"venues\"] = event_df.entities.apply(_filter_venues)\n",
    "\n",
    "event_df[\"entity_name\"] = event_df[\"venues\"].apply(venue_field, args=(\"name\",))\n",
    "event_df[\"entity_id\"] = event_df[\"venues\"].apply(venue_field, args=(\"entity_id\",))\n",
    "event_df[\"entity_type\"] = event_df[\"venues\"].apply(venue_field, args=(\"type\",))"
   ]
  },
  {
   "cell_type": "code",
   "execution_count": null,
   "id": "0a83fdac",
   "metadata": {},
   "outputs": [],
   "source": [
    "event_df.head()"
   ]
  },
  {
   "cell_type": "markdown",
   "id": "7ab20618-1e68-4e9e-ab6b-1c31de889bba",
   "metadata": {},
   "source": [
    "<a id='display_venue_loc'></a>\n",
    "# Displaying all venues on a map"
   ]
  },
  {
   "cell_type": "code",
   "execution_count": null,
   "id": "19c4b0a6-07e2-44ef-8b32-b7b380c2100f",
   "metadata": {},
   "outputs": [],
   "source": [
    "# Specify the entity as venue and remove duplicate records\n",
    "entity_loc = event_df[['lat','lon','entity_id','entity_name','entity_type']][event_df.entity_type=='venue'].drop_duplicates()\n",
    "entity_loc"
   ]
  },
  {
   "cell_type": "code",
   "execution_count": null,
   "id": "e8aa85d8-2336-4ecc-b266-694d5c547973",
   "metadata": {},
   "outputs": [],
   "source": [
    "fig = px.scatter_mapbox(entity_loc, lat=\"lat\", lon=\"lon\",\n",
    "                        hover_name=\"entity_name\",  color_discrete_sequence=[\"fuchsia\"],    \n",
    "                        zoom=12)\n",
    "\n",
    "fig.update_layout(mapbox_style=\"carto-positron\")\n",
    "fig.update_layout(height=500, margin={\"r\":0,\"t\":0,\"l\":0,\"b\":0})\n",
    "fig.show()"
   ]
  },
  {
   "cell_type": "markdown",
   "id": "9b8666b3-212d-40ca-91ef-18ff00904f21",
   "metadata": {},
   "source": [
    "<a id='venue_most_freq_type'></a>\n",
    "# What type of events occurs most often at venues?"
   ]
  },
  {
   "cell_type": "markdown",
   "id": "3283ea8d-89ae-4cb3-a6b5-ae92617a46d5",
   "metadata": {},
   "source": [
    "The map shows the type of events that happened most frequently for the venue in the past year which is distinguished by colours. The bigger size of circles indicates there were more events that happened."
   ]
  },
  {
   "cell_type": "code",
   "execution_count": null,
   "id": "59de8253-9db6-4f7e-a3b5-8c181a07a8b2",
   "metadata": {},
   "outputs": [],
   "source": [
    "agg_df = event_df[event_df.entity_type=='venue'].groupby(['lat','lon','entity_name','category']).agg({'entity_id':'count','phq_attendance':'max'}).reset_index()\n",
    "venue_type = agg_df.loc[agg_df.reset_index().groupby(['entity_name'])['entity_id'].idxmax()]\n",
    "venue_type.head()"
   ]
  },
  {
   "cell_type": "code",
   "execution_count": null,
   "id": "c69c7fd4-3bf5-4828-9088-d834144120e7",
   "metadata": {},
   "outputs": [],
   "source": [
    "fig = px.scatter_mapbox(venue_type, lat=\"lat\", lon=\"lon\", color=\"category\", size='entity_id',\n",
    "                        hover_name=\"entity_name\", hover_data=['phq_attendance'],      \n",
    "                        zoom=12)\n",
    "\n",
    "fig.update_layout(mapbox_style=\"carto-positron\")\n",
    "fig.update_layout(height=500, margin={\"r\":0,\"t\":0,\"l\":0,\"b\":0})\n",
    "fig.show()"
   ]
  },
  {
   "cell_type": "markdown",
   "id": "0b9febc4-6635-4565-88ef-a1e7bf006b41",
   "metadata": {},
   "source": [
    "<a id='venue_est_capacity'></a>\n",
    "# What's the estimated capacity of venues?"
   ]
  },
  {
   "cell_type": "markdown",
   "id": "711eb48e-89cf-4cb2-a082-856f44985853",
   "metadata": {},
   "source": [
    "The capacity is estimated based on the maximum attendance in the specified time period."
   ]
  },
  {
   "cell_type": "code",
   "execution_count": null,
   "id": "e54baa0d-f502-47f3-8bca-be4703a4128f",
   "metadata": {},
   "outputs": [],
   "source": [
    "estimated_venue_capacity = agg_df.loc[agg_df.reset_index().groupby(['phq_attendance'])['entity_id'].idxmax()]\n",
    "estimated_venue_capacity"
   ]
  },
  {
   "cell_type": "code",
   "execution_count": null,
   "id": "e4c5615f-b40b-40fa-a9f9-1d93af2fdc95",
   "metadata": {},
   "outputs": [],
   "source": [
    "fig = px.scatter_mapbox(estimated_venue_capacity, lat=\"lat\", lon=\"lon\", color=\"category\", size=\"phq_attendance\",\n",
    "                        hover_name=\"entity_name\",\n",
    "                        zoom=12)\n",
    "\n",
    "fig.update_layout(mapbox_style=\"carto-positron\")\n",
    "fig.update_layout(height=500, margin={\"r\":0,\"t\":0,\"l\":0,\"b\":0})\n",
    "fig.show()"
   ]
  },
  {
   "cell_type": "markdown",
   "id": "3a4beb87-81f3-4e96-95ab-369f997b5d91",
   "metadata": {},
   "source": [
    "<a id='appendix'></a>\n",
    "## Appendix: Finding `place_id` "
   ]
  },
  {
   "cell_type": "markdown",
   "id": "3919e49e-93f3-49cf-9703-9d42f881d43e",
   "metadata": {},
   "source": [
    "Here is a guide on how to link between store locations and `place_id`. We present 3 options:\n",
    "\n",
    " 1. Query `place_id` based on location name. Here the location name could be a city, a state, a country or a continent.\n",
    " 2. Query `place_hierarchies` based on latitude and longitude.\n",
    " 3. Query location name based on `place_id`.\n",
    "\n",
    "The full list of parameters that you could use in your query is documented at our [Places API page](https://docs.predicthq.com/resources/places/).<br>PredictHQ uses the [geonames places](https://www.geonames.org/) convention. "
   ]
  },
  {
   "cell_type": "markdown",
   "id": "34a2bc83",
   "metadata": {},
   "source": [
    "#### 1) Query `place_id` based on location name\n",
    "\n",
    "By using PredictHQ's Places SDK, you can find the `place_id` for a specific location name. By calling the SDK and setting `q` to location name, the API will return the most relevant `place_id`. Taking the top `place_id` will provide the most relevant `place_id` the location name is in. You can also limit results by specifying parameters like`country`, `type` to get the closest match. All the parameter fields can be found at [Places](https://docs.predicthq.com/resources/places/#fields)."
   ]
  },
  {
   "cell_type": "code",
   "execution_count": null,
   "id": "3a1b704f",
   "metadata": {},
   "outputs": [],
   "source": [
    "# Example: retrieve place_id\n",
    "results = phq.places.search(q='Chicago', country='US',type='locality')\n",
    "\n",
    "for place in results:\n",
    "    print(place.id, place.name, place.type, place.location)"
   ]
  },
  {
   "cell_type": "markdown",
   "id": "c82b125a",
   "metadata": {},
   "source": [
    "`phq.places.search` will retrieve all relevant matches with parameter `q`, taking the top `place_id` as the most relevant match"
   ]
  },
  {
   "cell_type": "code",
   "execution_count": null,
   "id": "426d9c3a",
   "metadata": {},
   "outputs": [],
   "source": [
    "# Place id for Chicago, US\n",
    "results['results'][0]['id']"
   ]
  },
  {
   "cell_type": "markdown",
   "id": "4404a060-0cdc-4e8e-a078-20e531bf585a",
   "metadata": {},
   "source": [
    "#### 2) Query `place_hierarchies` based on  latitude and longitude\n",
    "\n",
    "By using PredictHQ's python SDK, you can find the `place_hierarchies` for a specific latitude and longitude. By calling the SDK and setting `location` to `@{latitude},{longitude}`, the API will return the all relevant `place_hierarchies`."
   ]
  },
  {
   "cell_type": "code",
   "execution_count": null,
   "id": "94df6716",
   "metadata": {},
   "outputs": [],
   "source": [
    "# Example: retrieve place_hierarchies\n",
    "results = phq.places.search(location=\"@41.85003,-87.65005\")\n",
    "\n",
    "for place in results:\n",
    "    print(place.id, place.name, place.type, place.location, place.county, place.region, place.country)"
   ]
  },
  {
   "cell_type": "markdown",
   "id": "595de629-7779-44b2-a3fe-26bc29e829fa",
   "metadata": {},
   "source": [
    "For `latitude,longitude`, the response might include more than one hierarchy. The reason for this is we try to match the closest place's hierarchy but we also include the closest major city's hierarchy within a radius of 50km. This only applies if the level is below region, you can limit the results to different levels through `type`."
   ]
  },
  {
   "cell_type": "markdown",
   "id": "e84cb6d6-0a61-4a89-af44-a872da0eb5b9",
   "metadata": {},
   "source": [
    "#### 3) Query location name based on `place_id`\n",
    "\n",
    "By using PredictHQ's SDK, you can find the location name for a specific `place_id`. By calling the SDK and setting `id` to `place_id`, the SDK will return the most relevant location name. Taking the top location name will provide the most relevant location name the `place_id` is in."
   ]
  },
  {
   "cell_type": "code",
   "execution_count": null,
   "id": "a4117edd",
   "metadata": {},
   "outputs": [],
   "source": [
    "# Example: retrieve place name by place_id\n",
    "ny_state = phq.places.search(id=\"5128638\").results[0]\n",
    "print(ny_state.id, ny_state.name, ny_state.type, ny_state.location)"
   ]
  }
 ],
 "metadata": {
  "interpreter": {
   "hash": "02552ebe61692ac87dd085f0de4c01b76f7fec6ab804b47c6093b7b2e23a24a1"
  },
  "kernelspec": {
   "display_name": "cp_env",
   "language": "python",
   "name": "cp_env"
  },
  "language_info": {
   "codemirror_mode": {
    "name": "ipython",
    "version": 3
   },
   "file_extension": ".py",
   "mimetype": "text/x-python",
   "name": "python",
   "nbconvert_exporter": "python",
   "pygments_lexer": "ipython3",
   "version": "3.9.6"
  }
 },
 "nbformat": 4,
 "nbformat_minor": 5
}
