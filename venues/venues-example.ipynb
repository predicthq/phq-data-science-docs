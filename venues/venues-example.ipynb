{
 "cells": [
  {
   "cell_type": "markdown",
   "id": "f5196964-f9d7-4dbc-821c-67b1fdc6cf25",
   "metadata": {},
   "source": [
    "<a href=\"https://colab.research.google.com/github/predicthq/phq-data-science-docs/blob/master/venues/venues-example.ipynb\" target=\"_blank\"><img src=\"https://colab.research.google.com/assets/colab-badge.svg\" alt=\"Open In Colab\"/></a>"
   ]
  },
  {
   "cell_type": "markdown",
   "id": "3409af9b-f24f-4c4d-9a9b-b8fc5da854ee",
   "metadata": {},
   "source": [
    "# Venues Example\n",
    "\n",
    "**A How To Guide to extracting venue information from PredictHQ's Attended Events data (conferences, expos, concerts, festivals, performing-arts, sports, community).**\n",
    "\n",
    "\n",
    "The aim of this notebook is to showcase how the PredictHQ Events API could be used to extract venue information for a location and time of your choice and basic map visuals.\n",
    "\n",
    "- [Setup](#setup)\n",
    "- [Access Token](#access_token)\n",
    "- [SDK Parameters](#setting_params) \n",
    "- [Calling the PredictHQ API and Fetching Events](#calling_api)\n",
    "- [Exploring the Result DataFrame and extract venue data](#exploring_df)\n",
    "- [Displaying all venues on a map](#display_venue_loc)\n",
    "- [What type of events occurs most often at venues?](#venue_most_freq_type)\n",
    "- [What's the estimated capacity of venues?](#venue_est_capacity)\n",
    "- [Appendix 1 - Finding place_id](#appendix-1)"
   ]
  },
  {
   "cell_type": "markdown",
   "id": "f6b30162-60b6-4252-8429-e830cc4cea43",
   "metadata": {},
   "source": [
    "<a id='setup'></a>\n",
    "# Setup\n"
   ]
  },
  {
   "cell_type": "markdown",
   "id": "ddec6127-2656-435d-8969-b41f912cfd08",
   "metadata": {},
   "source": [
    "- If you're using Google Colab, uncomment and run the following code block."
   ]
  },
  {
   "cell_type": "code",
   "execution_count": 1,
   "id": "c78bdf50-9f67-453c-8423-f3d942b27022",
   "metadata": {},
   "outputs": [],
   "source": [
    "# %%capture\n",
    "# !git clone https://github.com/predicthq/phq-data-science-docs.git\n",
    "# %cd phq-data-science-docs/venues\n",
    "# !pip install timezonefinder==5.2.0 predicthq==2.0.2 plotly==5.2.1 pandas==1.3.5"
   ]
  },
  {
   "cell_type": "markdown",
   "id": "0412d452-3aa9-401e-bafb-c5cf55e5fb51",
   "metadata": {},
   "source": [
    "\n",
    "- Alternatively if you're running this notebook on a local machine, set up a Python environment using the [requirements.txt](https://github.com/predicthq/phq-data-science-docs/blob/master/venues/requirements.txt) file which is shared alongside the notebook.\n",
    "These requirements can be installed by running the command `pip install -r requirements.txt`.\n"
   ]
  },
  {
   "cell_type": "code",
   "execution_count": 2,
   "id": "b20220fa-d065-44b2-a0ae-f1e90efc469f",
   "metadata": {
    "tags": []
   },
   "outputs": [],
   "source": [
    "import pandas as pd\n",
    "import plotly.express as px\n",
    "from predicthq import Client\n",
    "from timezonefinder import TimezoneFinder\n",
    "\n",
    "# To display more columns and with a larger width in the DataFrame\n",
    "pd.set_option(\"display.max_columns\", 50)\n",
    "pd.options.display.max_colwidth = 100\n"
   ]
  },
  {
   "cell_type": "markdown",
   "id": "6e23da6f-ea3f-4bca-918d-72a97539a931",
   "metadata": {},
   "source": [
    "<a id='access_token'></a>\n",
    "# Access Token\n",
    "An Access Token is required to query the API. Check out our [API Quickstart](https://docs.predicthq.com/guides/api-quickstart) page if you want to create an account or an access token.\n"
   ]
  },
  {
   "cell_type": "code",
   "execution_count": 3,
   "id": "e2b1910f-a870-42f1-ac3a-1a5bbe20134b",
   "metadata": {},
   "outputs": [],
   "source": [
    "ACCESS_TOKEN = \"REPLACE_WITH_ACCESS_TOKEN\"\n",
    "phq = Client(access_token=ACCESS_TOKEN)\n"
   ]
  },
  {
   "cell_type": "markdown",
   "id": "bd150f77-39cd-4f3c-a836-2f248d02f841",
   "metadata": {},
   "source": [
    "<a id='setting_params'></a>\n",
    "# SDK Parameters\n",
    "We will use PredictHQ's python SDK to search for Attended Events. Start by building a parameter dictionary and adding the required filters."
   ]
  },
  {
   "cell_type": "code",
   "execution_count": 4,
   "id": "bd8c59de-d05f-419b-a30b-52d5ae68fa08",
   "metadata": {},
   "outputs": [],
   "source": [
    "parameters = dict()"
   ]
  },
  {
   "cell_type": "markdown",
   "id": "8ee2cf14-7ced-425b-9120-8ed103e3fc7c",
   "metadata": {},
   "source": [
    "#### Location\n",
    "Specifying the location ensures you will see the relevant events for the location.\n",
    "\n",
    "This notebook uses the city of `Chicago`, Illinois, USA as an example location. You can modify this to suit your location(s) of interest.\n",
    "\n",
    "This can be adjusted to suit a location that is of interest to you.\n",
    "\n",
    "We can do this in two ways:  \n",
    "\n",
    "  1) Using the `within` parameter, which contains `latitude`, `longitude` of the interested location with a `radius` and a `unit` for the radius. The format for this parameter is detailed in our [Events API technical documentation](https://docs.predicthq.com/resources/events/#search-events).\n",
    "  \n",
    "  2) Using a list of `place_id` values."
   ]
  },
  {
   "cell_type": "code",
   "execution_count": 5,
   "id": "dad38328-9b90-4f40-af7f-da66d8df172b",
   "metadata": {},
   "outputs": [],
   "source": [
    "# Using latitude, longitude and a radius\n",
    "latitude, longitude = (41.881832, -87.623177) # latitude, longitude for Chicago\n",
    "radius = 5\n",
    "radius_unit = \"km\"\n",
    "\n",
    "within = f\"{radius}{radius_unit}@{latitude},{longitude}\""
   ]
  },
  {
   "cell_type": "markdown",
   "id": "dbc886b4-d2ce-47a0-a257-6e20c7c3d0a5",
   "metadata": {},
   "source": [
    "Alternatively, we could use a list of `place_id`s for our search (See our Appendix on Place IDs for a detailed explanation)."
   ]
  },
  {
   "cell_type": "code",
   "execution_count": 6,
   "id": "551456dd",
   "metadata": {},
   "outputs": [],
   "source": [
    "place_ids = [4887398] # This is the place_id for Chicago. See the Appendix for how to find place_ids."
   ]
  },
  {
   "cell_type": "markdown",
   "id": "6fdd2026-40fa-4986-a2d7-ad3d251f3805",
   "metadata": {},
   "source": [
    "You can use either ```within``` or place_id as a filter but you cannot use both."
   ]
  },
  {
   "cell_type": "code",
   "execution_count": 7,
   "id": "612a7dba-9a7a-4f67-82d3-3c3a05dd3a3e",
   "metadata": {},
   "outputs": [],
   "source": [
    "parameters.update(within=within)  # Comment if you want to use place_ids\n",
    "# parameters.update(place__scope=place_ids)  # Comment if you want to use lat and long"
   ]
  },
  {
   "cell_type": "markdown",
   "id": "b4f9ece5-d606-4dea-a5cf-83b4df5f1606",
   "metadata": {},
   "source": [
    "#### Date \"YYYY-MM-DD\"\n",
    "\n",
    "To define the period of time for which Attended Events will be returned, set the greater than or equal (active.gte) and less than or equal (active.lte) parameters. This will select all Attended Events that are active within this period.\n",
    "\n",
    "You could also use these parameters depending on your time period of interest:\n",
    "\n",
    "`gte - Greater than or equal.` <br/>\n",
    "`gt - Greater than.`<br/>\n",
    "`lte - Less than or equal.`<br/>\n",
    "`lt - Less than.`<br/>\n",
    "\n",
    "The default example in this notebook is to search for the whole of 2021."
   ]
  },
  {
   "cell_type": "code",
   "execution_count": 8,
   "id": "5e7c31ec-a034-4cbf-a06a-e5281258d3e4",
   "metadata": {},
   "outputs": [],
   "source": [
    "start_date = \"2021-01-01\"\n",
    "end_date = \"2021-12-31\"\n",
    "parameters.update(active__gte=start_date)\n",
    "parameters.update(active__lte=end_date)"
   ]
  },
  {
   "cell_type": "markdown",
   "id": "29381564-0a1a-442b-8fa5-93197631f6a7",
   "metadata": {},
   "source": [
    "#### Timezone \n",
    "The default timezone for date and time ranges provided as parameters is UTC. But if we want events that occur between 2021-01-01 and 2021-12-31 in Chicago's local time then we can specify Chicago's timezone as a parameter. Timezones are specified as [TZ database names](https://en.wikipedia.org/wiki/List_of_tz_database_time_zones).\n",
    "\n",
    "For our Chicago location, the timezone is `America/Chicago`. \n",
    "\n",
    "You can use the `TimezoneFinder()` to find timezones for your locations of interest."
   ]
  },
  {
   "cell_type": "code",
   "execution_count": 9,
   "id": "a590ef3e-f85f-492a-82a4-98fcfd4c7e70",
   "metadata": {},
   "outputs": [
    {
     "name": "stdout",
     "output_type": "stream",
     "text": [
      "America/Chicago\n"
     ]
    }
   ],
   "source": [
    "timezone = TimezoneFinder().timezone_at(lat=latitude, lng=longitude)\n",
    "print(timezone)"
   ]
  },
  {
   "cell_type": "code",
   "execution_count": 10,
   "id": "115d73df-8420-4a83-a721-c01f75dacacd",
   "metadata": {},
   "outputs": [],
   "source": [
    "parameters.update(active__tz=timezone)"
   ]
  },
  {
   "cell_type": "markdown",
   "id": "a1be08b3-8e7e-4762-889e-c0c73c12488e",
   "metadata": {},
   "source": [
    "#### Rank range\n",
    "\n",
    "Similar to the date period, the rank range can be set to filter events. The rank_type can be set to either `rank`, `local_rank` or `aviation_rank`. The `rank` reflects the [estimated impact of an event](https://docs.predicthq.com/start/ranks/). The `local_rank` reflects the [estimated impact of an event in their local area](https://docs.predicthq.com/start/ranks/) by considering population density. Local Rank is useful when comparing events from multiple locations. The `aviation_rank` reflects the number of passengers who attend the event by flight. As a rule of thumb, here is the estimation of the number of attendance/passengers for typical rank_type and rank_threshold settings:\n",
    "\n",
    "rank_type |rank_threshold |Number of attendance/passengers\n",
    ":-----:|:-----:|:-----:\n",
    "rank|$20$|$\\sim30$\n",
    "rank|$30$|$\\sim100$\n",
    "rank|$40$|$\\sim300$\n",
    "rank|$50$|$\\sim1000$\n",
    "rank|$60$|$\\sim3000$\n",
    "aviation_rank|$30$|$\\sim20$\n",
    "aviation_rank|$40$|$\\sim40$\n",
    "aviation_rank|$50$|$\\sim100$\n",
    "aviation_rank|$60$|$\\sim200$"
   ]
  },
  {
   "cell_type": "code",
   "execution_count": 11,
   "id": "2ebd904a-03fc-4de2-a554-598b1644965c",
   "metadata": {},
   "outputs": [],
   "source": [
    "# Select events according to rank_type, rank threshold.\n",
    "rank_type = \"rank\"  # Set to be either \"rank\", \"local_rank\" or \"aviation_rank\".\n",
    "rank_threshold = 40\n",
    "filter_parameter = \"gte\"\n",
    "parameters.update({f\"{rank_type}__{filter_parameter}\": rank_threshold})\n"
   ]
  },
  {
   "cell_type": "markdown",
   "id": "3f563f6d-dcd7-498d-a00c-800ffc695ed0",
   "metadata": {},
   "source": [
    "#### Categories\n",
    "[Attended events](https://docs.predicthq.com/categoryinfo/attended-events) are those from specific categories. We specify them here.\n"
   ]
  },
  {
   "cell_type": "code",
   "execution_count": 12,
   "id": "95608561-ee21-434f-9494-ff0ca58637dc",
   "metadata": {},
   "outputs": [],
   "source": [
    "categories = [\n",
    "    \"community\",\n",
    "    \"concerts\",\n",
    "    \"conferences\",\n",
    "    \"expos\",\n",
    "    \"festivals\",\n",
    "    \"performing-arts\",\n",
    "    \"sports\",\n",
    "]\n",
    "parameters.update(category=categories)"
   ]
  },
  {
   "cell_type": "markdown",
   "id": "32859515-e43b-40dc-ace9-a3e80673b51f",
   "metadata": {},
   "source": [
    "#### Limit-per-call \n",
    "When pulling historical data for a large time period, many results are returned. To speed up the execution, set limit to the highest available setting (500). By doing this, each call to the API returns 500 results and this will generally speed up the time to retrieve large datasets."
   ]
  },
  {
   "cell_type": "code",
   "execution_count": 13,
   "id": "60215ab5-ee38-48fe-ae42-43e33eb41262",
   "metadata": {},
   "outputs": [],
   "source": [
    "parameters.update(limit=500)"
   ]
  },
  {
   "cell_type": "markdown",
   "id": "35d9c126-1e37-449b-abb5-2b1fb79e0068",
   "metadata": {},
   "source": [
    "#### Checking the parameters\n",
    "Finally, let's take a look at the parameters we have set for our search."
   ]
  },
  {
   "cell_type": "code",
   "execution_count": 14,
   "id": "87e6a3e2-a7e9-4d4a-bbc2-1c915e15dbe6",
   "metadata": {},
   "outputs": [
    {
     "data": {
      "text/plain": [
       "{'within': '5km@41.881832,-87.623177',\n",
       " 'active__gte': '2021-01-01',\n",
       " 'active__lte': '2021-12-31',\n",
       " 'active__tz': 'America/Chicago',\n",
       " 'rank__gte': 40,\n",
       " 'category': ['community',\n",
       "  'concerts',\n",
       "  'conferences',\n",
       "  'expos',\n",
       "  'festivals',\n",
       "  'performing-arts',\n",
       "  'sports'],\n",
       " 'limit': 500}"
      ]
     },
     "execution_count": 14,
     "metadata": {},
     "output_type": "execute_result"
    }
   ],
   "source": [
    "parameters"
   ]
  },
  {
   "cell_type": "markdown",
   "id": "e5d08b55",
   "metadata": {},
   "source": [
    "You can check out the full list of available parameters that you could use in querying attended events on our [Events API documentation](https://docs.predicthq.com/resources/events)."
   ]
  },
  {
   "cell_type": "markdown",
   "id": "1c7c181f-8ac7-4a5e-afad-01b5ab6f380e",
   "metadata": {},
   "source": [
    "<a id='calling_api'></a>\n",
    "# Calling the PredictHQ API and Fetching Events\n",
    "\n",
    "In this step, we use PredictHQ's Python SDK Client to query and fetch events using the parameters we defined above."
   ]
  },
  {
   "cell_type": "code",
   "execution_count": 15,
   "id": "3f999054-9ee5-4b55-9a4e-0ffc479c2799",
   "metadata": {},
   "outputs": [],
   "source": [
    "results = []\n",
    "\n",
    "# Iterating through all the events that match our criteria and adding them to our results\n",
    "for event in phq.events.search(parameters).iter_all():\n",
    "    results.append(event.to_dict())\n",
    "\n",
    "# Converting the results to a DataFrame\n",
    "event_df = pd.DataFrame(results)\n"
   ]
  },
  {
   "cell_type": "markdown",
   "id": "2a428407-c209-45c9-8254-792ef81544a5",
   "metadata": {},
   "source": [
    "<a id='exploring_df'></a>\n",
    "# Exploring the Result DataFrame and extract venue data\n",
    "We examine the retrieved events and extract venue information."
   ]
  },
  {
   "cell_type": "code",
   "execution_count": 16,
   "id": "2e07e95d-9e84-4bc2-bca9-20704483acc8",
   "metadata": {},
   "outputs": [],
   "source": [
    "# Extract venue locations\n",
    "event_df[\"lat\"] = event_df.location.apply(lambda x: x[1])\n",
    "event_df[\"lon\"] = event_df.location.apply(lambda x: x[0])\n"
   ]
  },
  {
   "cell_type": "code",
   "execution_count": 17,
   "id": "2e535dbe",
   "metadata": {},
   "outputs": [],
   "source": [
    "# Extract entity information: id, name and type\n",
    "def _filter_venues(entities):\n",
    "    venues = [e for e in entities if e[\"type\"] == \"venue\"]\n",
    "    if not venues:\n",
    "        return None\n",
    "    return venues[0]\n",
    "\n",
    "\n",
    "venue_field = lambda entity, fieldname: entity[fieldname] if entity is not None else None\n",
    "\n",
    "\n",
    "event_df[\"venues\"] = event_df.entities.apply(_filter_venues)\n",
    "\n",
    "event_df[\"entity_name\"] = event_df[\"venues\"].apply(venue_field, args=(\"name\",))\n",
    "event_df[\"entity_id\"] = event_df[\"venues\"].apply(venue_field, args=(\"entity_id\",))\n",
    "event_df[\"entity_type\"] = event_df[\"venues\"].apply(venue_field, args=(\"type\",))\n"
   ]
  },
  {
   "cell_type": "code",
   "execution_count": 18,
   "id": "003995d4",
   "metadata": {},
   "outputs": [
    {
     "data": {
      "text/html": [
       "<div>\n",
       "<style scoped>\n",
       "    .dataframe tbody tr th:only-of-type {\n",
       "        vertical-align: middle;\n",
       "    }\n",
       "\n",
       "    .dataframe tbody tr th {\n",
       "        vertical-align: top;\n",
       "    }\n",
       "\n",
       "    .dataframe thead th {\n",
       "        text-align: right;\n",
       "    }\n",
       "</style>\n",
       "<table border=\"1\" class=\"dataframe\">\n",
       "  <thead>\n",
       "    <tr style=\"text-align: right;\">\n",
       "      <th></th>\n",
       "      <th>cancelled</th>\n",
       "      <th>category</th>\n",
       "      <th>country</th>\n",
       "      <th>deleted_reason</th>\n",
       "      <th>description</th>\n",
       "      <th>duplicate_of_id</th>\n",
       "      <th>duration</th>\n",
       "      <th>end</th>\n",
       "      <th>first_seen</th>\n",
       "      <th>geo</th>\n",
       "      <th>id</th>\n",
       "      <th>impact_patterns</th>\n",
       "      <th>labels</th>\n",
       "      <th>location</th>\n",
       "      <th>parent_event</th>\n",
       "      <th>place_hierarchies</th>\n",
       "      <th>postponed</th>\n",
       "      <th>relevance</th>\n",
       "      <th>scope</th>\n",
       "      <th>start</th>\n",
       "      <th>state</th>\n",
       "      <th>timezone</th>\n",
       "      <th>title</th>\n",
       "      <th>updated</th>\n",
       "      <th>aviation_rank</th>\n",
       "      <th>brand_safe</th>\n",
       "      <th>entities</th>\n",
       "      <th>local_rank</th>\n",
       "      <th>phq_attendance</th>\n",
       "      <th>predicted_end</th>\n",
       "      <th>private</th>\n",
       "      <th>rank</th>\n",
       "      <th>lat</th>\n",
       "      <th>lon</th>\n",
       "      <th>venues</th>\n",
       "      <th>entity_name</th>\n",
       "      <th>entity_id</th>\n",
       "      <th>entity_type</th>\n",
       "    </tr>\n",
       "  </thead>\n",
       "  <tbody>\n",
       "    <tr>\n",
       "      <th>0</th>\n",
       "      <td>None</td>\n",
       "      <td>concerts</td>\n",
       "      <td>US</td>\n",
       "      <td>None</td>\n",
       "      <td></td>\n",
       "      <td>None</td>\n",
       "      <td>0</td>\n",
       "      <td>2022-01-01 05:00:00+00:00</td>\n",
       "      <td>2021-11-04 18:14:17+00:00</td>\n",
       "      <td>{'geometry': {'type': 'Point', 'coordinates': [-87.6570519, 41.884637]}}</td>\n",
       "      <td>APLYr2znpcekmv6xbG</td>\n",
       "      <td>None</td>\n",
       "      <td>[concert, music]</td>\n",
       "      <td>[-87.6570519, 41.884637]</td>\n",
       "      <td>None</td>\n",
       "      <td>[[6295630, 6255149, 6252001, 4896861, 4888671, 4887398]]</td>\n",
       "      <td>None</td>\n",
       "      <td>0.0</td>\n",
       "      <td>locality</td>\n",
       "      <td>2022-01-01 05:00:00+00:00</td>\n",
       "      <td>active</td>\n",
       "      <td>America/Chicago</td>\n",
       "      <td>Los Lobos</td>\n",
       "      <td>2021-11-04 22:22:35+00:00</td>\n",
       "      <td>0.0</td>\n",
       "      <td>None</td>\n",
       "      <td>[{'entity_id': 'xLVCdVzxtmahfdDMPEDXZB', 'name': 'City Winery', 'type': 'venue', 'formatted_addr...</td>\n",
       "      <td>51</td>\n",
       "      <td>300</td>\n",
       "      <td>NaT</td>\n",
       "      <td>False</td>\n",
       "      <td>40</td>\n",
       "      <td>41.884637</td>\n",
       "      <td>-87.657052</td>\n",
       "      <td>{'entity_id': 'xLVCdVzxtmahfdDMPEDXZB', 'name': 'City Winery', 'type': 'venue', 'formatted_addre...</td>\n",
       "      <td>City Winery</td>\n",
       "      <td>xLVCdVzxtmahfdDMPEDXZB</td>\n",
       "      <td>venue</td>\n",
       "    </tr>\n",
       "    <tr>\n",
       "      <th>1</th>\n",
       "      <td>None</td>\n",
       "      <td>concerts</td>\n",
       "      <td>US</td>\n",
       "      <td>None</td>\n",
       "      <td></td>\n",
       "      <td>None</td>\n",
       "      <td>0</td>\n",
       "      <td>2022-01-01 04:00:00+00:00</td>\n",
       "      <td>2021-11-25 18:07:55+00:00</td>\n",
       "      <td>{'geometry': {'type': 'Point', 'coordinates': [-87.6275718, 41.8854802]}}</td>\n",
       "      <td>78RYvKCwmbQXLDw9SC</td>\n",
       "      <td>None</td>\n",
       "      <td>[concert, music]</td>\n",
       "      <td>[-87.6275718, 41.8854802]</td>\n",
       "      <td>None</td>\n",
       "      <td>[[6295630, 6255149, 6252001, 4896861, 4888671, 4887398]]</td>\n",
       "      <td>None</td>\n",
       "      <td>0.0</td>\n",
       "      <td>locality</td>\n",
       "      <td>2022-01-01 04:00:00+00:00</td>\n",
       "      <td>active</td>\n",
       "      <td>America/Chicago</td>\n",
       "      <td>Trey Songz</td>\n",
       "      <td>2022-04-04 22:47:30+00:00</td>\n",
       "      <td>0.0</td>\n",
       "      <td>None</td>\n",
       "      <td>[{'entity_id': 'UniKDgC373FLJBdMmghKZc', 'name': 'The Chicago Theatre', 'type': 'venue', 'format...</td>\n",
       "      <td>69</td>\n",
       "      <td>3314</td>\n",
       "      <td>NaT</td>\n",
       "      <td>False</td>\n",
       "      <td>60</td>\n",
       "      <td>41.885480</td>\n",
       "      <td>-87.627572</td>\n",
       "      <td>{'entity_id': 'UniKDgC373FLJBdMmghKZc', 'name': 'The Chicago Theatre', 'type': 'venue', 'formatt...</td>\n",
       "      <td>The Chicago Theatre</td>\n",
       "      <td>UniKDgC373FLJBdMmghKZc</td>\n",
       "      <td>venue</td>\n",
       "    </tr>\n",
       "    <tr>\n",
       "      <th>2</th>\n",
       "      <td>None</td>\n",
       "      <td>concerts</td>\n",
       "      <td>US</td>\n",
       "      <td>None</td>\n",
       "      <td></td>\n",
       "      <td>None</td>\n",
       "      <td>0</td>\n",
       "      <td>2022-01-01 03:00:00+00:00</td>\n",
       "      <td>2021-10-06 01:11:56+00:00</td>\n",
       "      <td>{'geometry': {'type': 'Point', 'coordinates': [-87.6267529, 41.8538782]}}</td>\n",
       "      <td>AMg4KnuD7wjBRsJXvf</td>\n",
       "      <td>None</td>\n",
       "      <td>[concert, music]</td>\n",
       "      <td>[-87.6267529, 41.8538782]</td>\n",
       "      <td>None</td>\n",
       "      <td>[[6295630, 6255149, 6252001, 4896861, 4888671, 4906683], [6295630, 6255149, 6252001, 4896861, 48...</td>\n",
       "      <td>None</td>\n",
       "      <td>0.0</td>\n",
       "      <td>locality</td>\n",
       "      <td>2022-01-01 03:00:00+00:00</td>\n",
       "      <td>active</td>\n",
       "      <td>America/Chicago</td>\n",
       "      <td>Reggies Rooftop New Years Eve Package</td>\n",
       "      <td>2021-10-06 01:35:25+00:00</td>\n",
       "      <td>0.0</td>\n",
       "      <td>None</td>\n",
       "      <td>[{'entity_id': '3AqCHbCHCKhLNSJsVeRijxk', 'name': 'Reggie's Rock Club', 'type': 'venue', 'format...</td>\n",
       "      <td>50</td>\n",
       "      <td>300</td>\n",
       "      <td>NaT</td>\n",
       "      <td>False</td>\n",
       "      <td>40</td>\n",
       "      <td>41.853878</td>\n",
       "      <td>-87.626753</td>\n",
       "      <td>{'entity_id': '3AqCHbCHCKhLNSJsVeRijxk', 'name': 'Reggie's Rock Club', 'type': 'venue', 'formatt...</td>\n",
       "      <td>Reggie's Rock Club</td>\n",
       "      <td>3AqCHbCHCKhLNSJsVeRijxk</td>\n",
       "      <td>venue</td>\n",
       "    </tr>\n",
       "    <tr>\n",
       "      <th>3</th>\n",
       "      <td>None</td>\n",
       "      <td>community</td>\n",
       "      <td>US</td>\n",
       "      <td>None</td>\n",
       "      <td>21+ / www.joesbar.comGrab your tickets now for a rockin New Years Eve night with one of our FAVO...</td>\n",
       "      <td>None</td>\n",
       "      <td>0</td>\n",
       "      <td>2022-01-01 03:00:00+00:00</td>\n",
       "      <td>2021-12-04 00:43:56+00:00</td>\n",
       "      <td>{'geometry': {'type': 'Point', 'coordinates': [-87.652182, 41.910098]}}</td>\n",
       "      <td>EM74tQatxzf4QoQFzu</td>\n",
       "      <td>None</td>\n",
       "      <td>[concert, music]</td>\n",
       "      <td>[-87.652182, 41.910098]</td>\n",
       "      <td>None</td>\n",
       "      <td>[[6295630, 6255149, 6252001, 4896861, 4888671, 4887398]]</td>\n",
       "      <td>None</td>\n",
       "      <td>0.0</td>\n",
       "      <td>locality</td>\n",
       "      <td>2022-01-01 03:00:00+00:00</td>\n",
       "      <td>active</td>\n",
       "      <td>America/Chicago</td>\n",
       "      <td>New Years Eve Party with Jukebox Luke (SUGGESTED RETAIL $95)</td>\n",
       "      <td>2021-12-10 01:40:12+00:00</td>\n",
       "      <td>NaN</td>\n",
       "      <td>None</td>\n",
       "      <td>[{'entity_id': 'YhUBPfQsr43bjc6ADDqjwF', 'name': 'Joe's Bar', 'type': 'venue', 'formatted_addres...</td>\n",
       "      <td>63</td>\n",
       "      <td>1500</td>\n",
       "      <td>NaT</td>\n",
       "      <td>False</td>\n",
       "      <td>54</td>\n",
       "      <td>41.910098</td>\n",
       "      <td>-87.652182</td>\n",
       "      <td>{'entity_id': 'YhUBPfQsr43bjc6ADDqjwF', 'name': 'Joe's Bar', 'type': 'venue', 'formatted_address...</td>\n",
       "      <td>Joe's Bar</td>\n",
       "      <td>YhUBPfQsr43bjc6ADDqjwF</td>\n",
       "      <td>venue</td>\n",
       "    </tr>\n",
       "    <tr>\n",
       "      <th>4</th>\n",
       "      <td>None</td>\n",
       "      <td>concerts</td>\n",
       "      <td>US</td>\n",
       "      <td>None</td>\n",
       "      <td></td>\n",
       "      <td>None</td>\n",
       "      <td>0</td>\n",
       "      <td>2022-01-01 02:30:00+00:00</td>\n",
       "      <td>2021-09-28 06:20:06+00:00</td>\n",
       "      <td>{'geometry': {'type': 'Point', 'coordinates': [-87.62913, 41.888233]}}</td>\n",
       "      <td>4VA7eXFetqy3zHgUzN</td>\n",
       "      <td>None</td>\n",
       "      <td>[concert, music]</td>\n",
       "      <td>[-87.62913, 41.888233]</td>\n",
       "      <td>None</td>\n",
       "      <td>[[6295630, 6255149, 6252001, 4896861, 4888671, 4887398]]</td>\n",
       "      <td>None</td>\n",
       "      <td>0.0</td>\n",
       "      <td>locality</td>\n",
       "      <td>2022-01-01 02:30:00+00:00</td>\n",
       "      <td>active</td>\n",
       "      <td>America/Chicago</td>\n",
       "      <td>Motion City Soundtrack with All Get Out</td>\n",
       "      <td>2022-01-01 03:39:45+00:00</td>\n",
       "      <td>0.0</td>\n",
       "      <td>None</td>\n",
       "      <td>[{'entity_id': 'AfJwpDskcMhXWJWRjtALNV', 'name': 'House of Blues Chicago', 'type': 'venue', 'for...</td>\n",
       "      <td>60</td>\n",
       "      <td>1300</td>\n",
       "      <td>NaT</td>\n",
       "      <td>False</td>\n",
       "      <td>52</td>\n",
       "      <td>41.888233</td>\n",
       "      <td>-87.629130</td>\n",
       "      <td>{'entity_id': 'AfJwpDskcMhXWJWRjtALNV', 'name': 'House of Blues Chicago', 'type': 'venue', 'form...</td>\n",
       "      <td>House of Blues Chicago</td>\n",
       "      <td>AfJwpDskcMhXWJWRjtALNV</td>\n",
       "      <td>venue</td>\n",
       "    </tr>\n",
       "  </tbody>\n",
       "</table>\n",
       "</div>"
      ],
      "text/plain": [
       "  cancelled   category country deleted_reason  \\\n",
       "0      None   concerts      US           None   \n",
       "1      None   concerts      US           None   \n",
       "2      None   concerts      US           None   \n",
       "3      None  community      US           None   \n",
       "4      None   concerts      US           None   \n",
       "\n",
       "                                                                                           description  \\\n",
       "0                                                                                                        \n",
       "1                                                                                                        \n",
       "2                                                                                                        \n",
       "3  21+ / www.joesbar.comGrab your tickets now for a rockin New Years Eve night with one of our FAVO...   \n",
       "4                                                                                                        \n",
       "\n",
       "  duplicate_of_id  duration                       end  \\\n",
       "0            None         0 2022-01-01 05:00:00+00:00   \n",
       "1            None         0 2022-01-01 04:00:00+00:00   \n",
       "2            None         0 2022-01-01 03:00:00+00:00   \n",
       "3            None         0 2022-01-01 03:00:00+00:00   \n",
       "4            None         0 2022-01-01 02:30:00+00:00   \n",
       "\n",
       "                 first_seen  \\\n",
       "0 2021-11-04 18:14:17+00:00   \n",
       "1 2021-11-25 18:07:55+00:00   \n",
       "2 2021-10-06 01:11:56+00:00   \n",
       "3 2021-12-04 00:43:56+00:00   \n",
       "4 2021-09-28 06:20:06+00:00   \n",
       "\n",
       "                                                                         geo  \\\n",
       "0   {'geometry': {'type': 'Point', 'coordinates': [-87.6570519, 41.884637]}}   \n",
       "1  {'geometry': {'type': 'Point', 'coordinates': [-87.6275718, 41.8854802]}}   \n",
       "2  {'geometry': {'type': 'Point', 'coordinates': [-87.6267529, 41.8538782]}}   \n",
       "3    {'geometry': {'type': 'Point', 'coordinates': [-87.652182, 41.910098]}}   \n",
       "4     {'geometry': {'type': 'Point', 'coordinates': [-87.62913, 41.888233]}}   \n",
       "\n",
       "                   id impact_patterns            labels  \\\n",
       "0  APLYr2znpcekmv6xbG            None  [concert, music]   \n",
       "1  78RYvKCwmbQXLDw9SC            None  [concert, music]   \n",
       "2  AMg4KnuD7wjBRsJXvf            None  [concert, music]   \n",
       "3  EM74tQatxzf4QoQFzu            None  [concert, music]   \n",
       "4  4VA7eXFetqy3zHgUzN            None  [concert, music]   \n",
       "\n",
       "                    location parent_event  \\\n",
       "0   [-87.6570519, 41.884637]         None   \n",
       "1  [-87.6275718, 41.8854802]         None   \n",
       "2  [-87.6267529, 41.8538782]         None   \n",
       "3    [-87.652182, 41.910098]         None   \n",
       "4     [-87.62913, 41.888233]         None   \n",
       "\n",
       "                                                                                     place_hierarchies  \\\n",
       "0                                             [[6295630, 6255149, 6252001, 4896861, 4888671, 4887398]]   \n",
       "1                                             [[6295630, 6255149, 6252001, 4896861, 4888671, 4887398]]   \n",
       "2  [[6295630, 6255149, 6252001, 4896861, 4888671, 4906683], [6295630, 6255149, 6252001, 4896861, 48...   \n",
       "3                                             [[6295630, 6255149, 6252001, 4896861, 4888671, 4887398]]   \n",
       "4                                             [[6295630, 6255149, 6252001, 4896861, 4888671, 4887398]]   \n",
       "\n",
       "  postponed  relevance     scope                     start   state  \\\n",
       "0      None        0.0  locality 2022-01-01 05:00:00+00:00  active   \n",
       "1      None        0.0  locality 2022-01-01 04:00:00+00:00  active   \n",
       "2      None        0.0  locality 2022-01-01 03:00:00+00:00  active   \n",
       "3      None        0.0  locality 2022-01-01 03:00:00+00:00  active   \n",
       "4      None        0.0  locality 2022-01-01 02:30:00+00:00  active   \n",
       "\n",
       "          timezone  \\\n",
       "0  America/Chicago   \n",
       "1  America/Chicago   \n",
       "2  America/Chicago   \n",
       "3  America/Chicago   \n",
       "4  America/Chicago   \n",
       "\n",
       "                                                          title  \\\n",
       "0                                                     Los Lobos   \n",
       "1                                                    Trey Songz   \n",
       "2                         Reggies Rooftop New Years Eve Package   \n",
       "3  New Years Eve Party with Jukebox Luke (SUGGESTED RETAIL $95)   \n",
       "4                       Motion City Soundtrack with All Get Out   \n",
       "\n",
       "                    updated  aviation_rank brand_safe  \\\n",
       "0 2021-11-04 22:22:35+00:00            0.0       None   \n",
       "1 2022-04-04 22:47:30+00:00            0.0       None   \n",
       "2 2021-10-06 01:35:25+00:00            0.0       None   \n",
       "3 2021-12-10 01:40:12+00:00            NaN       None   \n",
       "4 2022-01-01 03:39:45+00:00            0.0       None   \n",
       "\n",
       "                                                                                              entities  \\\n",
       "0  [{'entity_id': 'xLVCdVzxtmahfdDMPEDXZB', 'name': 'City Winery', 'type': 'venue', 'formatted_addr...   \n",
       "1  [{'entity_id': 'UniKDgC373FLJBdMmghKZc', 'name': 'The Chicago Theatre', 'type': 'venue', 'format...   \n",
       "2  [{'entity_id': '3AqCHbCHCKhLNSJsVeRijxk', 'name': 'Reggie's Rock Club', 'type': 'venue', 'format...   \n",
       "3  [{'entity_id': 'YhUBPfQsr43bjc6ADDqjwF', 'name': 'Joe's Bar', 'type': 'venue', 'formatted_addres...   \n",
       "4  [{'entity_id': 'AfJwpDskcMhXWJWRjtALNV', 'name': 'House of Blues Chicago', 'type': 'venue', 'for...   \n",
       "\n",
       "   local_rank  phq_attendance predicted_end  private  rank        lat  \\\n",
       "0          51             300           NaT    False    40  41.884637   \n",
       "1          69            3314           NaT    False    60  41.885480   \n",
       "2          50             300           NaT    False    40  41.853878   \n",
       "3          63            1500           NaT    False    54  41.910098   \n",
       "4          60            1300           NaT    False    52  41.888233   \n",
       "\n",
       "         lon  \\\n",
       "0 -87.657052   \n",
       "1 -87.627572   \n",
       "2 -87.626753   \n",
       "3 -87.652182   \n",
       "4 -87.629130   \n",
       "\n",
       "                                                                                                venues  \\\n",
       "0  {'entity_id': 'xLVCdVzxtmahfdDMPEDXZB', 'name': 'City Winery', 'type': 'venue', 'formatted_addre...   \n",
       "1  {'entity_id': 'UniKDgC373FLJBdMmghKZc', 'name': 'The Chicago Theatre', 'type': 'venue', 'formatt...   \n",
       "2  {'entity_id': '3AqCHbCHCKhLNSJsVeRijxk', 'name': 'Reggie's Rock Club', 'type': 'venue', 'formatt...   \n",
       "3  {'entity_id': 'YhUBPfQsr43bjc6ADDqjwF', 'name': 'Joe's Bar', 'type': 'venue', 'formatted_address...   \n",
       "4  {'entity_id': 'AfJwpDskcMhXWJWRjtALNV', 'name': 'House of Blues Chicago', 'type': 'venue', 'form...   \n",
       "\n",
       "              entity_name                entity_id entity_type  \n",
       "0             City Winery   xLVCdVzxtmahfdDMPEDXZB       venue  \n",
       "1     The Chicago Theatre   UniKDgC373FLJBdMmghKZc       venue  \n",
       "2      Reggie's Rock Club  3AqCHbCHCKhLNSJsVeRijxk       venue  \n",
       "3               Joe's Bar   YhUBPfQsr43bjc6ADDqjwF       venue  \n",
       "4  House of Blues Chicago   AfJwpDskcMhXWJWRjtALNV       venue  "
      ]
     },
     "execution_count": 18,
     "metadata": {},
     "output_type": "execute_result"
    }
   ],
   "source": [
    "event_df.head()"
   ]
  },
  {
   "cell_type": "markdown",
   "id": "7ab20618-1e68-4e9e-ab6b-1c31de889bba",
   "metadata": {},
   "source": [
    "<a id='display_venue_loc'></a>\n",
    "# Displaying all venues on a map"
   ]
  },
  {
   "cell_type": "code",
   "execution_count": 19,
   "id": "19c4b0a6-07e2-44ef-8b32-b7b380c2100f",
   "metadata": {},
   "outputs": [
    {
     "data": {
      "text/html": [
       "<div>\n",
       "<style scoped>\n",
       "    .dataframe tbody tr th:only-of-type {\n",
       "        vertical-align: middle;\n",
       "    }\n",
       "\n",
       "    .dataframe tbody tr th {\n",
       "        vertical-align: top;\n",
       "    }\n",
       "\n",
       "    .dataframe thead th {\n",
       "        text-align: right;\n",
       "    }\n",
       "</style>\n",
       "<table border=\"1\" class=\"dataframe\">\n",
       "  <thead>\n",
       "    <tr style=\"text-align: right;\">\n",
       "      <th></th>\n",
       "      <th>lat</th>\n",
       "      <th>lon</th>\n",
       "      <th>entity_id</th>\n",
       "      <th>entity_name</th>\n",
       "      <th>entity_type</th>\n",
       "    </tr>\n",
       "  </thead>\n",
       "  <tbody>\n",
       "    <tr>\n",
       "      <th>0</th>\n",
       "      <td>41.884637</td>\n",
       "      <td>-87.657052</td>\n",
       "      <td>xLVCdVzxtmahfdDMPEDXZB</td>\n",
       "      <td>City Winery</td>\n",
       "      <td>venue</td>\n",
       "    </tr>\n",
       "    <tr>\n",
       "      <th>1</th>\n",
       "      <td>41.885480</td>\n",
       "      <td>-87.627572</td>\n",
       "      <td>UniKDgC373FLJBdMmghKZc</td>\n",
       "      <td>The Chicago Theatre</td>\n",
       "      <td>venue</td>\n",
       "    </tr>\n",
       "    <tr>\n",
       "      <th>2</th>\n",
       "      <td>41.853878</td>\n",
       "      <td>-87.626753</td>\n",
       "      <td>3AqCHbCHCKhLNSJsVeRijxk</td>\n",
       "      <td>Reggie's Rock Club</td>\n",
       "      <td>venue</td>\n",
       "    </tr>\n",
       "    <tr>\n",
       "      <th>3</th>\n",
       "      <td>41.910098</td>\n",
       "      <td>-87.652182</td>\n",
       "      <td>YhUBPfQsr43bjc6ADDqjwF</td>\n",
       "      <td>Joe's Bar</td>\n",
       "      <td>venue</td>\n",
       "    </tr>\n",
       "    <tr>\n",
       "      <th>4</th>\n",
       "      <td>41.888233</td>\n",
       "      <td>-87.629130</td>\n",
       "      <td>AfJwpDskcMhXWJWRjtALNV</td>\n",
       "      <td>House of Blues Chicago</td>\n",
       "      <td>venue</td>\n",
       "    </tr>\n",
       "    <tr>\n",
       "      <th>...</th>\n",
       "      <td>...</td>\n",
       "      <td>...</td>\n",
       "      <td>...</td>\n",
       "      <td>...</td>\n",
       "      <td>...</td>\n",
       "    </tr>\n",
       "    <tr>\n",
       "      <th>1077</th>\n",
       "      <td>41.876452</td>\n",
       "      <td>-87.624869</td>\n",
       "      <td>33AY8zr5TjqT8yeHVmJucuR</td>\n",
       "      <td>Fine Arts Building</td>\n",
       "      <td>venue</td>\n",
       "    </tr>\n",
       "    <tr>\n",
       "      <th>1122</th>\n",
       "      <td>41.875210</td>\n",
       "      <td>-87.658001</td>\n",
       "      <td>QJjfX3mJEReLU4USjyzyKc</td>\n",
       "      <td>University Of Illinois At Chicago</td>\n",
       "      <td>venue</td>\n",
       "    </tr>\n",
       "    <tr>\n",
       "      <th>1191</th>\n",
       "      <td>41.849998</td>\n",
       "      <td>-87.650002</td>\n",
       "      <td>y8UT486CTjp4B6UhbGqxaL</td>\n",
       "      <td>Windy City Ribfest</td>\n",
       "      <td>venue</td>\n",
       "    </tr>\n",
       "    <tr>\n",
       "      <th>1205</th>\n",
       "      <td>41.914127</td>\n",
       "      <td>-87.628799</td>\n",
       "      <td>dCcKAP7DqkXXJuKDRvvwMu</td>\n",
       "      <td>Lincoln Park South Fields</td>\n",
       "      <td>venue</td>\n",
       "    </tr>\n",
       "    <tr>\n",
       "      <th>1215</th>\n",
       "      <td>41.891056</td>\n",
       "      <td>-87.625219</td>\n",
       "      <td>tSraYrXZpMBEZVcKwec8M7</td>\n",
       "      <td>The Gwen, a Luxury Collection Hotel, Chicago</td>\n",
       "      <td>venue</td>\n",
       "    </tr>\n",
       "  </tbody>\n",
       "</table>\n",
       "<p>96 rows × 5 columns</p>\n",
       "</div>"
      ],
      "text/plain": [
       "            lat        lon                entity_id  \\\n",
       "0     41.884637 -87.657052   xLVCdVzxtmahfdDMPEDXZB   \n",
       "1     41.885480 -87.627572   UniKDgC373FLJBdMmghKZc   \n",
       "2     41.853878 -87.626753  3AqCHbCHCKhLNSJsVeRijxk   \n",
       "3     41.910098 -87.652182   YhUBPfQsr43bjc6ADDqjwF   \n",
       "4     41.888233 -87.629130   AfJwpDskcMhXWJWRjtALNV   \n",
       "...         ...        ...                      ...   \n",
       "1077  41.876452 -87.624869  33AY8zr5TjqT8yeHVmJucuR   \n",
       "1122  41.875210 -87.658001   QJjfX3mJEReLU4USjyzyKc   \n",
       "1191  41.849998 -87.650002   y8UT486CTjp4B6UhbGqxaL   \n",
       "1205  41.914127 -87.628799   dCcKAP7DqkXXJuKDRvvwMu   \n",
       "1215  41.891056 -87.625219   tSraYrXZpMBEZVcKwec8M7   \n",
       "\n",
       "                                       entity_name entity_type  \n",
       "0                                      City Winery       venue  \n",
       "1                              The Chicago Theatre       venue  \n",
       "2                               Reggie's Rock Club       venue  \n",
       "3                                        Joe's Bar       venue  \n",
       "4                           House of Blues Chicago       venue  \n",
       "...                                            ...         ...  \n",
       "1077                            Fine Arts Building       venue  \n",
       "1122             University Of Illinois At Chicago       venue  \n",
       "1191                            Windy City Ribfest       venue  \n",
       "1205                     Lincoln Park South Fields       venue  \n",
       "1215  The Gwen, a Luxury Collection Hotel, Chicago       venue  \n",
       "\n",
       "[96 rows x 5 columns]"
      ]
     },
     "execution_count": 19,
     "metadata": {},
     "output_type": "execute_result"
    }
   ],
   "source": [
    "# Extract unique venues\n",
    "entity_loc = event_df[[\"lat\", \"lon\", \"entity_id\", \"entity_name\", \"entity_type\"]][\n",
    "    event_df.entity_type == \"venue\"\n",
    "].drop_duplicates()\n",
    "\n",
    "entity_loc\n"
   ]
  },
  {
   "cell_type": "code",
   "execution_count": 20,
   "id": "e8aa85d8-2336-4ecc-b266-694d5c547973",
   "metadata": {},
   "outputs": [
    {
     "data": {
      "application/vnd.plotly.v1+json": {
       "config": {
        "plotlyServerURL": "https://plot.ly"
       },
       "data": [
        {
         "hovertemplate": "<b>%{hovertext}</b><br><br>lat=%{lat}<br>lon=%{lon}<extra></extra>",
         "hovertext": [
          "City Winery",
          "The Chicago Theatre",
          "Reggie's Rock Club",
          "Joe's Bar",
          "House of Blues Chicago",
          "Arie Crown Theater",
          "Auditorium Theatre",
          "Cadillac Palace Theatre",
          "Museum Of Illusions - Chicago",
          "James M Nederlander Theatre",
          "PRYSM Nightclub",
          "United Center",
          "Thalia Hall",
          "Park West",
          "McCormick Place",
          "Broadway Playhouse",
          "Chicago Symphony Orchestra",
          "Wintrust Arena",
          "Hyatt Place Chicago Downtown - The Loop",
          "Soldier Field",
          "Credit Union 1 Arena",
          "Sheraton Grand Chicago",
          "Spybar",
          "Sound-Bar",
          "Bottom Lounge",
          "Cobra Lounge",
          "Revel Fulton Market",
          "Buddy Guy's Legends",
          "Radius",
          "Summit Executive Center",
          "Hilton Chicago",
          "CIBC Theatre",
          "The Ritz-Carlton, Chicago",
          "Convene",
          "Harris Theater",
          "Palmer House",
          "Chicago Marriott Downtown Magnificent Mile",
          "Four Seasons Hotel Chicago",
          "Hyatt Regency Chicago",
          "The Mart",
          "UIC Forum",
          "DePaul University Loop Campus DePaul Center",
          "Loews Chicago Hotel",
          "ChiTown Movies",
          "Navy Pier",
          "Radius - Chicago",
          "Daley Plaza",
          "The Westin Michigan Avenue Chicago",
          "InterContinental Chicago Magnificent Mile",
          "Hyatt Regency Chicago",
          "W Chicago - City Center",
          "Swissotel Chicago",
          "Marriott Marquis Chicago",
          "The Mid-America Club",
          "Headquarters Beercade - River North",
          "LITE Chicago",
          "University Club of Chicago",
          "Hilton Chicago/Magnificent Mile Suites",
          "Millennium Knickerbocker Chicago",
          "Crowne Plaza Hotel",
          "The Moody Church",
          "Union League Club",
          "Epiphany Center for the Arts",
          "Parliament Chicago",
          "Venue SIX10",
          "Sofitel Chicago Magnificent Mile",
          "Grant Park",
          "Grace Place",
          "Fairmont Chicago Millennium Park",
          "Hyatt Regency - McCormick Place",
          "Merchandise Mart Expocenter",
          "Addams/Medill Park",
          "Macy's",
          "Renaissance Blackstone Chicago Hotel",
          "Hard Rock Cafe",
          "Hyatt Regency Chicago, East Upper Wacker Drive",
          "Huntington Bank Pavilion",
          "University of Chicago: Gleacher Center",
          "JW Marriott Chicago",
          "The Drake Hotel",
          "Jay Pritzker Pavilion",
          "Radisson Blu Aqua Hotel, Chicago, IL",
          "The Westin Chicago River North",
          "Davenport's Piano Bar Cabaret",
          "Union Park",
          "Loyola University (Terry Student Center)",
          "Green City Market",
          "Union Park",
          "Harrison Park",
          "Untitled",
          "Hyatt Centric Chicago Magnificent Mile",
          "Fine Arts Building",
          "University Of Illinois At Chicago",
          "Windy City Ribfest",
          "Lincoln Park South Fields",
          "The Gwen, a Luxury Collection Hotel, Chicago"
         ],
         "lat": [
          41.884637,
          41.8854802,
          41.8538782,
          41.910098,
          41.888233,
          41.8520941,
          41.8758241,
          41.8841971,
          41.8830478,
          41.8845609,
          41.9093549,
          41.8806908,
          41.857823,
          41.918591,
          41.8512195,
          41.8981899,
          41.87902,
          41.8537349,
          41.882747,
          41.8623132,
          41.8748558,
          41.8891327,
          41.8937033,
          41.8934302,
          41.8852404,
          41.8863849,
          41.8863303,
          41.872964,
          41.8533403,
          41.885913,
          41.8725081,
          41.8808054,
          41.897767,
          41.8796106,
          41.8839445,
          41.8806045,
          41.892277,
          41.8993358,
          41.8844681,
          41.888543,
          41.8667825,
          41.8780449,
          41.8898851,
          41.8497657,
          41.8916938,
          41.8533403,
          41.8835687082,
          41.8993943,
          41.8913023,
          41.887667,
          41.879683,
          41.8872802,
          41.8532834,
          41.885274,
          41.8971809,
          41.892961,
          41.880947,
          41.899803,
          41.899839,
          41.8811325,
          41.9121523,
          41.877945,
          41.87869,
          41.89684,
          41.8740166,
          41.8986531,
          41.8721722,
          41.8734776,
          41.8860602,
          41.8519543,
          41.8884895,
          41.8639562,
          41.883876,
          41.873341,
          41.8931169,
          41.8875503,
          41.8643358,
          41.889667,
          41.8789787,
          41.9004369,
          41.8831824,
          41.8863982,
          41.888152,
          41.9070399,
          41.8841698,
          41.8977465,
          41.8801067,
          41.8841698,
          41.8568439,
          41.8890424,
          41.893809,
          41.8764524,
          41.87521,
          41.8499985,
          41.9141266,
          41.8910557
         ],
         "legendgroup": "",
         "lon": [
          -87.6570519,
          -87.6275718,
          -87.6267529,
          -87.652182,
          -87.62913,
          -87.6118497,
          -87.6251126,
          -87.6330379,
          -87.62682,
          -87.62876519999998,
          -87.6525297,
          -87.6741759,
          -87.6575411,
          -87.637381,
          -87.6170282,
          -87.6222246,
          -87.625004,
          -87.6213427,
          -87.635633,
          -87.6166884,
          -87.65614110000001,
          -87.6197217,
          -87.6358658,
          -87.6353896,
          -87.6617254,
          -87.6666826,
          -87.6574778,
          -87.626159,
          -87.6424858,
          -87.624185,
          -87.6243948,
          -87.6285104,
          -87.622369,
          -87.6283488,
          -87.621879,
          -87.6274275,
          -87.624655,
          -87.6247587,
          -87.6367798,
          -87.63544350000001,
          -87.6457875,
          -87.6274338,
          -87.6194258,
          -87.6583251,
          -87.6063215,
          -87.6424858,
          -87.630161047,
          -87.6232076,
          -87.6235601,
          -87.622521,
          -87.633225,
          -87.619514,
          -87.6204805,
          -87.6210657,
          -87.6352357,
          -87.634836,
          -87.624957,
          -87.6220285,
          -87.622666,
          -87.6469093,
          -87.6327588,
          -87.630003,
          -87.66608,
          -87.6368055,
          -87.624792,
          -87.6273071,
          -87.61875049999998,
          -87.6290671,
          -87.6210948,
          -87.6179083,
          -87.6354826,
          -87.663828,
          -87.627036,
          -87.624461,
          -87.6305236,
          -87.6218948,
          -87.6090987,
          -87.622226,
          -87.6330886,
          -87.6234049,
          -87.62186,
          -87.6203727,
          -87.630041,
          -87.6720414,
          -87.6656869,
          -87.6270445,
          -87.6502942,
          -87.6656869,
          -87.6727556,
          -87.6316275,
          -87.622297,
          -87.624869,
          -87.658001,
          -87.6500015,
          -87.6287988,
          -87.6252194
         ],
         "marker": {
          "color": "fuchsia"
         },
         "mode": "markers",
         "name": "",
         "showlegend": false,
         "subplot": "mapbox",
         "type": "scattermapbox"
        }
       ],
       "layout": {
        "height": 500,
        "legend": {
         "tracegroupgap": 0
        },
        "mapbox": {
         "center": {
          "lat": 41.88259307821041,
          "lon": -87.63354769319791
         },
         "domain": {
          "x": [
           0,
           1
          ],
          "y": [
           0,
           1
          ]
         },
         "style": "carto-positron",
         "zoom": 12
        },
        "margin": {
         "b": 0,
         "l": 0,
         "r": 0,
         "t": 0
        },
        "template": {
         "data": {
          "bar": [
           {
            "error_x": {
             "color": "#2a3f5f"
            },
            "error_y": {
             "color": "#2a3f5f"
            },
            "marker": {
             "line": {
              "color": "#E5ECF6",
              "width": 0.5
             },
             "pattern": {
              "fillmode": "overlay",
              "size": 10,
              "solidity": 0.2
             }
            },
            "type": "bar"
           }
          ],
          "barpolar": [
           {
            "marker": {
             "line": {
              "color": "#E5ECF6",
              "width": 0.5
             },
             "pattern": {
              "fillmode": "overlay",
              "size": 10,
              "solidity": 0.2
             }
            },
            "type": "barpolar"
           }
          ],
          "carpet": [
           {
            "aaxis": {
             "endlinecolor": "#2a3f5f",
             "gridcolor": "white",
             "linecolor": "white",
             "minorgridcolor": "white",
             "startlinecolor": "#2a3f5f"
            },
            "baxis": {
             "endlinecolor": "#2a3f5f",
             "gridcolor": "white",
             "linecolor": "white",
             "minorgridcolor": "white",
             "startlinecolor": "#2a3f5f"
            },
            "type": "carpet"
           }
          ],
          "choropleth": [
           {
            "colorbar": {
             "outlinewidth": 0,
             "ticks": ""
            },
            "type": "choropleth"
           }
          ],
          "contour": [
           {
            "colorbar": {
             "outlinewidth": 0,
             "ticks": ""
            },
            "colorscale": [
             [
              0,
              "#0d0887"
             ],
             [
              0.1111111111111111,
              "#46039f"
             ],
             [
              0.2222222222222222,
              "#7201a8"
             ],
             [
              0.3333333333333333,
              "#9c179e"
             ],
             [
              0.4444444444444444,
              "#bd3786"
             ],
             [
              0.5555555555555556,
              "#d8576b"
             ],
             [
              0.6666666666666666,
              "#ed7953"
             ],
             [
              0.7777777777777778,
              "#fb9f3a"
             ],
             [
              0.8888888888888888,
              "#fdca26"
             ],
             [
              1,
              "#f0f921"
             ]
            ],
            "type": "contour"
           }
          ],
          "contourcarpet": [
           {
            "colorbar": {
             "outlinewidth": 0,
             "ticks": ""
            },
            "type": "contourcarpet"
           }
          ],
          "heatmap": [
           {
            "colorbar": {
             "outlinewidth": 0,
             "ticks": ""
            },
            "colorscale": [
             [
              0,
              "#0d0887"
             ],
             [
              0.1111111111111111,
              "#46039f"
             ],
             [
              0.2222222222222222,
              "#7201a8"
             ],
             [
              0.3333333333333333,
              "#9c179e"
             ],
             [
              0.4444444444444444,
              "#bd3786"
             ],
             [
              0.5555555555555556,
              "#d8576b"
             ],
             [
              0.6666666666666666,
              "#ed7953"
             ],
             [
              0.7777777777777778,
              "#fb9f3a"
             ],
             [
              0.8888888888888888,
              "#fdca26"
             ],
             [
              1,
              "#f0f921"
             ]
            ],
            "type": "heatmap"
           }
          ],
          "heatmapgl": [
           {
            "colorbar": {
             "outlinewidth": 0,
             "ticks": ""
            },
            "colorscale": [
             [
              0,
              "#0d0887"
             ],
             [
              0.1111111111111111,
              "#46039f"
             ],
             [
              0.2222222222222222,
              "#7201a8"
             ],
             [
              0.3333333333333333,
              "#9c179e"
             ],
             [
              0.4444444444444444,
              "#bd3786"
             ],
             [
              0.5555555555555556,
              "#d8576b"
             ],
             [
              0.6666666666666666,
              "#ed7953"
             ],
             [
              0.7777777777777778,
              "#fb9f3a"
             ],
             [
              0.8888888888888888,
              "#fdca26"
             ],
             [
              1,
              "#f0f921"
             ]
            ],
            "type": "heatmapgl"
           }
          ],
          "histogram": [
           {
            "marker": {
             "pattern": {
              "fillmode": "overlay",
              "size": 10,
              "solidity": 0.2
             }
            },
            "type": "histogram"
           }
          ],
          "histogram2d": [
           {
            "colorbar": {
             "outlinewidth": 0,
             "ticks": ""
            },
            "colorscale": [
             [
              0,
              "#0d0887"
             ],
             [
              0.1111111111111111,
              "#46039f"
             ],
             [
              0.2222222222222222,
              "#7201a8"
             ],
             [
              0.3333333333333333,
              "#9c179e"
             ],
             [
              0.4444444444444444,
              "#bd3786"
             ],
             [
              0.5555555555555556,
              "#d8576b"
             ],
             [
              0.6666666666666666,
              "#ed7953"
             ],
             [
              0.7777777777777778,
              "#fb9f3a"
             ],
             [
              0.8888888888888888,
              "#fdca26"
             ],
             [
              1,
              "#f0f921"
             ]
            ],
            "type": "histogram2d"
           }
          ],
          "histogram2dcontour": [
           {
            "colorbar": {
             "outlinewidth": 0,
             "ticks": ""
            },
            "colorscale": [
             [
              0,
              "#0d0887"
             ],
             [
              0.1111111111111111,
              "#46039f"
             ],
             [
              0.2222222222222222,
              "#7201a8"
             ],
             [
              0.3333333333333333,
              "#9c179e"
             ],
             [
              0.4444444444444444,
              "#bd3786"
             ],
             [
              0.5555555555555556,
              "#d8576b"
             ],
             [
              0.6666666666666666,
              "#ed7953"
             ],
             [
              0.7777777777777778,
              "#fb9f3a"
             ],
             [
              0.8888888888888888,
              "#fdca26"
             ],
             [
              1,
              "#f0f921"
             ]
            ],
            "type": "histogram2dcontour"
           }
          ],
          "mesh3d": [
           {
            "colorbar": {
             "outlinewidth": 0,
             "ticks": ""
            },
            "type": "mesh3d"
           }
          ],
          "parcoords": [
           {
            "line": {
             "colorbar": {
              "outlinewidth": 0,
              "ticks": ""
             }
            },
            "type": "parcoords"
           }
          ],
          "pie": [
           {
            "automargin": true,
            "type": "pie"
           }
          ],
          "scatter": [
           {
            "marker": {
             "colorbar": {
              "outlinewidth": 0,
              "ticks": ""
             }
            },
            "type": "scatter"
           }
          ],
          "scatter3d": [
           {
            "line": {
             "colorbar": {
              "outlinewidth": 0,
              "ticks": ""
             }
            },
            "marker": {
             "colorbar": {
              "outlinewidth": 0,
              "ticks": ""
             }
            },
            "type": "scatter3d"
           }
          ],
          "scattercarpet": [
           {
            "marker": {
             "colorbar": {
              "outlinewidth": 0,
              "ticks": ""
             }
            },
            "type": "scattercarpet"
           }
          ],
          "scattergeo": [
           {
            "marker": {
             "colorbar": {
              "outlinewidth": 0,
              "ticks": ""
             }
            },
            "type": "scattergeo"
           }
          ],
          "scattergl": [
           {
            "marker": {
             "colorbar": {
              "outlinewidth": 0,
              "ticks": ""
             }
            },
            "type": "scattergl"
           }
          ],
          "scattermapbox": [
           {
            "marker": {
             "colorbar": {
              "outlinewidth": 0,
              "ticks": ""
             }
            },
            "type": "scattermapbox"
           }
          ],
          "scatterpolar": [
           {
            "marker": {
             "colorbar": {
              "outlinewidth": 0,
              "ticks": ""
             }
            },
            "type": "scatterpolar"
           }
          ],
          "scatterpolargl": [
           {
            "marker": {
             "colorbar": {
              "outlinewidth": 0,
              "ticks": ""
             }
            },
            "type": "scatterpolargl"
           }
          ],
          "scatterternary": [
           {
            "marker": {
             "colorbar": {
              "outlinewidth": 0,
              "ticks": ""
             }
            },
            "type": "scatterternary"
           }
          ],
          "surface": [
           {
            "colorbar": {
             "outlinewidth": 0,
             "ticks": ""
            },
            "colorscale": [
             [
              0,
              "#0d0887"
             ],
             [
              0.1111111111111111,
              "#46039f"
             ],
             [
              0.2222222222222222,
              "#7201a8"
             ],
             [
              0.3333333333333333,
              "#9c179e"
             ],
             [
              0.4444444444444444,
              "#bd3786"
             ],
             [
              0.5555555555555556,
              "#d8576b"
             ],
             [
              0.6666666666666666,
              "#ed7953"
             ],
             [
              0.7777777777777778,
              "#fb9f3a"
             ],
             [
              0.8888888888888888,
              "#fdca26"
             ],
             [
              1,
              "#f0f921"
             ]
            ],
            "type": "surface"
           }
          ],
          "table": [
           {
            "cells": {
             "fill": {
              "color": "#EBF0F8"
             },
             "line": {
              "color": "white"
             }
            },
            "header": {
             "fill": {
              "color": "#C8D4E3"
             },
             "line": {
              "color": "white"
             }
            },
            "type": "table"
           }
          ]
         },
         "layout": {
          "annotationdefaults": {
           "arrowcolor": "#2a3f5f",
           "arrowhead": 0,
           "arrowwidth": 1
          },
          "autotypenumbers": "strict",
          "coloraxis": {
           "colorbar": {
            "outlinewidth": 0,
            "ticks": ""
           }
          },
          "colorscale": {
           "diverging": [
            [
             0,
             "#8e0152"
            ],
            [
             0.1,
             "#c51b7d"
            ],
            [
             0.2,
             "#de77ae"
            ],
            [
             0.3,
             "#f1b6da"
            ],
            [
             0.4,
             "#fde0ef"
            ],
            [
             0.5,
             "#f7f7f7"
            ],
            [
             0.6,
             "#e6f5d0"
            ],
            [
             0.7,
             "#b8e186"
            ],
            [
             0.8,
             "#7fbc41"
            ],
            [
             0.9,
             "#4d9221"
            ],
            [
             1,
             "#276419"
            ]
           ],
           "sequential": [
            [
             0,
             "#0d0887"
            ],
            [
             0.1111111111111111,
             "#46039f"
            ],
            [
             0.2222222222222222,
             "#7201a8"
            ],
            [
             0.3333333333333333,
             "#9c179e"
            ],
            [
             0.4444444444444444,
             "#bd3786"
            ],
            [
             0.5555555555555556,
             "#d8576b"
            ],
            [
             0.6666666666666666,
             "#ed7953"
            ],
            [
             0.7777777777777778,
             "#fb9f3a"
            ],
            [
             0.8888888888888888,
             "#fdca26"
            ],
            [
             1,
             "#f0f921"
            ]
           ],
           "sequentialminus": [
            [
             0,
             "#0d0887"
            ],
            [
             0.1111111111111111,
             "#46039f"
            ],
            [
             0.2222222222222222,
             "#7201a8"
            ],
            [
             0.3333333333333333,
             "#9c179e"
            ],
            [
             0.4444444444444444,
             "#bd3786"
            ],
            [
             0.5555555555555556,
             "#d8576b"
            ],
            [
             0.6666666666666666,
             "#ed7953"
            ],
            [
             0.7777777777777778,
             "#fb9f3a"
            ],
            [
             0.8888888888888888,
             "#fdca26"
            ],
            [
             1,
             "#f0f921"
            ]
           ]
          },
          "colorway": [
           "#636efa",
           "#EF553B",
           "#00cc96",
           "#ab63fa",
           "#FFA15A",
           "#19d3f3",
           "#FF6692",
           "#B6E880",
           "#FF97FF",
           "#FECB52"
          ],
          "font": {
           "color": "#2a3f5f"
          },
          "geo": {
           "bgcolor": "white",
           "lakecolor": "white",
           "landcolor": "#E5ECF6",
           "showlakes": true,
           "showland": true,
           "subunitcolor": "white"
          },
          "hoverlabel": {
           "align": "left"
          },
          "hovermode": "closest",
          "mapbox": {
           "style": "light"
          },
          "paper_bgcolor": "white",
          "plot_bgcolor": "#E5ECF6",
          "polar": {
           "angularaxis": {
            "gridcolor": "white",
            "linecolor": "white",
            "ticks": ""
           },
           "bgcolor": "#E5ECF6",
           "radialaxis": {
            "gridcolor": "white",
            "linecolor": "white",
            "ticks": ""
           }
          },
          "scene": {
           "xaxis": {
            "backgroundcolor": "#E5ECF6",
            "gridcolor": "white",
            "gridwidth": 2,
            "linecolor": "white",
            "showbackground": true,
            "ticks": "",
            "zerolinecolor": "white"
           },
           "yaxis": {
            "backgroundcolor": "#E5ECF6",
            "gridcolor": "white",
            "gridwidth": 2,
            "linecolor": "white",
            "showbackground": true,
            "ticks": "",
            "zerolinecolor": "white"
           },
           "zaxis": {
            "backgroundcolor": "#E5ECF6",
            "gridcolor": "white",
            "gridwidth": 2,
            "linecolor": "white",
            "showbackground": true,
            "ticks": "",
            "zerolinecolor": "white"
           }
          },
          "shapedefaults": {
           "line": {
            "color": "#2a3f5f"
           }
          },
          "ternary": {
           "aaxis": {
            "gridcolor": "white",
            "linecolor": "white",
            "ticks": ""
           },
           "baxis": {
            "gridcolor": "white",
            "linecolor": "white",
            "ticks": ""
           },
           "bgcolor": "#E5ECF6",
           "caxis": {
            "gridcolor": "white",
            "linecolor": "white",
            "ticks": ""
           }
          },
          "title": {
           "x": 0.05
          },
          "xaxis": {
           "automargin": true,
           "gridcolor": "white",
           "linecolor": "white",
           "ticks": "",
           "title": {
            "standoff": 15
           },
           "zerolinecolor": "white",
           "zerolinewidth": 2
          },
          "yaxis": {
           "automargin": true,
           "gridcolor": "white",
           "linecolor": "white",
           "ticks": "",
           "title": {
            "standoff": 15
           },
           "zerolinecolor": "white",
           "zerolinewidth": 2
          }
         }
        }
       }
      }
     },
     "metadata": {},
     "output_type": "display_data"
    }
   ],
   "source": [
    "fig = px.scatter_mapbox(\n",
    "    entity_loc, lat=\"lat\", lon=\"lon\", hover_name=\"entity_name\", color_discrete_sequence=[\"fuchsia\"], zoom=12\n",
    ")\n",
    "\n",
    "fig.update_layout(mapbox_style=\"carto-positron\")\n",
    "fig.update_layout(height=500, margin={\"r\": 0, \"t\": 0, \"l\": 0, \"b\": 0})\n",
    "fig.show()\n"
   ]
  },
  {
   "cell_type": "markdown",
   "id": "9b8666b3-212d-40ca-91ef-18ff00904f21",
   "metadata": {},
   "source": [
    "<a id='venue_most_freq_type'></a>\n",
    "# What type of events occurs most often at venues?"
   ]
  },
  {
   "cell_type": "markdown",
   "id": "3283ea8d-89ae-4cb3-a6b5-ae92617a46d5",
   "metadata": {},
   "source": [
    "The map shows the type of events that happened most frequently for the venue, distinguished by colours. A bigger circle indicates there were more events that happened."
   ]
  },
  {
   "cell_type": "code",
   "execution_count": 21,
   "id": "59de8253-9db6-4f7e-a3b5-8c181a07a8b2",
   "metadata": {},
   "outputs": [
    {
     "data": {
      "text/html": [
       "<div>\n",
       "<style scoped>\n",
       "    .dataframe tbody tr th:only-of-type {\n",
       "        vertical-align: middle;\n",
       "    }\n",
       "\n",
       "    .dataframe tbody tr th {\n",
       "        vertical-align: top;\n",
       "    }\n",
       "\n",
       "    .dataframe thead th {\n",
       "        text-align: right;\n",
       "    }\n",
       "</style>\n",
       "<table border=\"1\" class=\"dataframe\">\n",
       "  <thead>\n",
       "    <tr style=\"text-align: right;\">\n",
       "      <th></th>\n",
       "      <th>lat</th>\n",
       "      <th>lon</th>\n",
       "      <th>entity_name</th>\n",
       "      <th>category</th>\n",
       "      <th>entity_id</th>\n",
       "      <th>phq_attendance</th>\n",
       "    </tr>\n",
       "  </thead>\n",
       "  <tbody>\n",
       "    <tr>\n",
       "      <th>21</th>\n",
       "      <td>41.863956</td>\n",
       "      <td>-87.663828</td>\n",
       "      <td>Addams/Medill Park</td>\n",
       "      <td>festivals</td>\n",
       "      <td>1</td>\n",
       "      <td>64000</td>\n",
       "    </tr>\n",
       "    <tr>\n",
       "      <th>6</th>\n",
       "      <td>41.852094</td>\n",
       "      <td>-87.611850</td>\n",
       "      <td>Arie Crown Theater</td>\n",
       "      <td>performing-arts</td>\n",
       "      <td>5</td>\n",
       "      <td>2561</td>\n",
       "    </tr>\n",
       "    <tr>\n",
       "      <th>36</th>\n",
       "      <td>41.875824</td>\n",
       "      <td>-87.625113</td>\n",
       "      <td>Auditorium Theatre</td>\n",
       "      <td>concerts</td>\n",
       "      <td>10</td>\n",
       "      <td>3875</td>\n",
       "    </tr>\n",
       "    <tr>\n",
       "      <th>72</th>\n",
       "      <td>41.885240</td>\n",
       "      <td>-87.661725</td>\n",
       "      <td>Bottom Lounge</td>\n",
       "      <td>concerts</td>\n",
       "      <td>22</td>\n",
       "      <td>672</td>\n",
       "    </tr>\n",
       "    <tr>\n",
       "      <th>117</th>\n",
       "      <td>41.898190</td>\n",
       "      <td>-87.622225</td>\n",
       "      <td>Broadway Playhouse</td>\n",
       "      <td>performing-arts</td>\n",
       "      <td>4</td>\n",
       "      <td>331</td>\n",
       "    </tr>\n",
       "  </tbody>\n",
       "</table>\n",
       "</div>"
      ],
      "text/plain": [
       "           lat        lon         entity_name         category  entity_id  \\\n",
       "21   41.863956 -87.663828  Addams/Medill Park        festivals          1   \n",
       "6    41.852094 -87.611850  Arie Crown Theater  performing-arts          5   \n",
       "36   41.875824 -87.625113  Auditorium Theatre         concerts         10   \n",
       "72   41.885240 -87.661725       Bottom Lounge         concerts         22   \n",
       "117  41.898190 -87.622225  Broadway Playhouse  performing-arts          4   \n",
       "\n",
       "     phq_attendance  \n",
       "21            64000  \n",
       "6              2561  \n",
       "36             3875  \n",
       "72              672  \n",
       "117             331  "
      ]
     },
     "execution_count": 21,
     "metadata": {},
     "output_type": "execute_result"
    }
   ],
   "source": [
    "agg_df = (\n",
    "    event_df[event_df.entity_type == \"venue\"]\n",
    "    .groupby([\"lat\", \"lon\", \"entity_name\", \"category\"])\n",
    "    .agg({\"entity_id\": \"count\", \"phq_attendance\": \"max\"})\n",
    "    .reset_index()\n",
    ")\n",
    "venue_type = agg_df.loc[agg_df.reset_index().groupby([\"entity_name\"])[\"entity_id\"].idxmax()]\n",
    "venue_type.head()\n"
   ]
  },
  {
   "cell_type": "code",
   "execution_count": 22,
   "id": "c69c7fd4-3bf5-4828-9088-d834144120e7",
   "metadata": {},
   "outputs": [
    {
     "data": {
      "application/vnd.plotly.v1+json": {
       "config": {
        "plotlyServerURL": "https://plot.ly"
       },
       "data": [
        {
         "customdata": [
          [
           64000
          ],
          [
           1000000
          ],
          [
           385000
          ],
          [
           2000
          ],
          [
           32000
          ],
          [
           240000
          ],
          [
           35000
          ],
          [
           3800
          ],
          [
           60000
          ],
          [
           40000
          ]
         ],
         "hovertemplate": "<b>%{hovertext}</b><br><br>category=festivals<br>entity_id=%{marker.size}<br>lat=%{lat}<br>lon=%{lon}<br>phq_attendance=%{customdata[0]}<extra></extra>",
         "hovertext": [
          "Addams/Medill Park",
          "Daley Plaza",
          "Grant Park",
          "Green City Market",
          "Harrison Park",
          "Jay Pritzker Pavilion",
          "Lincoln Park South Fields",
          "Radius - Chicago",
          "Union Park",
          "Windy City Ribfest"
         ],
         "lat": [
          41.8639562,
          41.8835687082,
          41.8721722,
          41.8801067,
          41.8568439,
          41.8831824,
          41.9141266,
          41.8533403,
          41.8841698,
          41.8499985
         ],
         "legendgroup": "festivals",
         "lon": [
          -87.663828,
          -87.630161047,
          -87.61875049999998,
          -87.6502942,
          -87.6727556,
          -87.62186,
          -87.6287988,
          -87.6424858,
          -87.6656869,
          -87.6500015
         ],
         "marker": {
          "color": "#636efa",
          "size": [
           1,
           1,
           2,
           1,
           1,
           5,
           1,
           1,
           4,
           1
          ],
          "sizemode": "area",
          "sizeref": 0.3575
         },
         "mode": "markers",
         "name": "festivals",
         "showlegend": true,
         "subplot": "mapbox",
         "type": "scattermapbox"
        },
        {
         "customdata": [
          [
           2561
          ],
          [
           331
          ],
          [
           867
          ],
          [
           1505
          ],
          [
           910
          ],
          [
           1519
          ],
          [
           1357
          ],
          [
           384
          ],
          [
           3306
          ]
         ],
         "hovertemplate": "<b>%{hovertext}</b><br><br>category=performing-arts<br>entity_id=%{marker.size}<br>lat=%{lat}<br>lon=%{lon}<br>phq_attendance=%{customdata[0]}<extra></extra>",
         "hovertext": [
          "Arie Crown Theater",
          "Broadway Playhouse",
          "CIBC Theatre",
          "Cadillac Palace Theatre",
          "ChiTown Movies",
          "Chicago Symphony Orchestra",
          "James M Nederlander Theatre",
          "Museum Of Illusions - Chicago",
          "The Chicago Theatre"
         ],
         "lat": [
          41.8520941,
          41.8981899,
          41.8808054,
          41.8841971,
          41.8497657,
          41.87902,
          41.8845609,
          41.8830478,
          41.8854802
         ],
         "legendgroup": "performing-arts",
         "lon": [
          -87.6118497,
          -87.6222246,
          -87.6285104,
          -87.6330379,
          -87.6583251,
          -87.625004,
          -87.62876519999998,
          -87.62682,
          -87.6275718
         ],
         "marker": {
          "color": "#EF553B",
          "size": [
           5,
           4,
           2,
           20,
           1,
           37,
           21,
           143,
           33
          ],
          "sizemode": "area",
          "sizeref": 0.3575
         },
         "mode": "markers",
         "name": "performing-arts",
         "showlegend": true,
         "subplot": "mapbox",
         "type": "scattermapbox"
        },
        {
         "customdata": [
          [
           3875
          ],
          [
           672
          ],
          [
           466
          ],
          [
           401
          ],
          [
           720
          ],
          [
           404
          ],
          [
           1440
          ],
          [
           24000
          ],
          [
           1576
          ],
          [
           364
          ],
          [
           2500
          ],
          [
           1305
          ],
          [
           1000
          ],
          [
           320
          ],
          [
           3040
          ],
          [
           576
          ],
          [
           980
          ],
          [
           493
          ],
          [
           925
          ],
          [
           360
          ]
         ],
         "hovertemplate": "<b>%{hovertext}</b><br><br>category=concerts<br>entity_id=%{marker.size}<br>lat=%{lat}<br>lon=%{lon}<br>phq_attendance=%{customdata[0]}<extra></extra>",
         "hovertext": [
          "Auditorium Theatre",
          "Bottom Lounge",
          "City Winery",
          "Cobra Lounge",
          "Fine Arts Building",
          "Headquarters Beercade - River North",
          "House of Blues Chicago",
          "Huntington Bank Pavilion",
          "Joe's Bar",
          "LITE Chicago",
          "Navy Pier",
          "PRYSM Nightclub",
          "Park West",
          "Parliament Chicago",
          "Radius",
          "Reggie's Rock Club",
          "Sound-Bar",
          "Spybar",
          "Thalia Hall",
          "Untitled"
         ],
         "lat": [
          41.8758241,
          41.8852404,
          41.884637,
          41.8863849,
          41.8764524,
          41.8971809,
          41.888233,
          41.8643358,
          41.910098,
          41.892961,
          41.8916938,
          41.9093549,
          41.918591,
          41.89684,
          41.8533403,
          41.8538782,
          41.8934302,
          41.8937033,
          41.857823,
          41.8890424
         ],
         "legendgroup": "concerts",
         "lon": [
          -87.6251126,
          -87.6617254,
          -87.6570519,
          -87.6666826,
          -87.624869,
          -87.6352357,
          -87.62913,
          -87.6090987,
          -87.652182,
          -87.634836,
          -87.6063215,
          -87.6525297,
          -87.637381,
          -87.6368055,
          -87.6424858,
          -87.6267529,
          -87.6353896,
          -87.6358658,
          -87.6575411,
          -87.6316275
         ],
         "marker": {
          "color": "#00cc96",
          "size": [
           10,
           22,
           41,
           3,
           1,
           2,
           76,
           11,
           37,
           1,
           8,
           59,
           22,
           1,
           7,
           43,
           37,
           4,
           73,
           5
          ],
          "sizemode": "area",
          "sizeref": 0.3575
         },
         "mode": "markers",
         "name": "concerts",
         "showlegend": true,
         "subplot": "mapbox",
         "type": "scattermapbox"
        },
        {
         "customdata": [
          [
           500
          ],
          [
           397
          ],
          [
           530
          ],
          [
           647
          ],
          [
           480
          ],
          [
           1523
          ]
         ],
         "hovertemplate": "<b>%{hovertext}</b><br><br>category=community<br>entity_id=%{marker.size}<br>lat=%{lat}<br>lon=%{lon}<br>phq_attendance=%{customdata[0]}<extra></extra>",
         "hovertext": [
          "Buddy Guy's Legends",
          "Davenport's Piano Bar Cabaret",
          "Epiphany Center for the Arts",
          "Grace Place",
          "Hard Rock Cafe",
          "Harris Theater"
         ],
         "lat": [
          41.872964,
          41.9070399,
          41.87869,
          41.8734776,
          41.8931169,
          41.8839445
         ],
         "legendgroup": "community",
         "lon": [
          -87.626159,
          -87.6720414,
          -87.66608,
          -87.6290671,
          -87.6305236,
          -87.621879
         ],
         "marker": {
          "color": "#ab63fa",
          "size": [
           8,
           1,
           1,
           1,
           1,
           1
          ],
          "sizemode": "area",
          "sizeref": 0.3575
         },
         "mode": "markers",
         "name": "community",
         "showlegend": true,
         "subplot": "mapbox",
         "type": "scattermapbox"
        },
        {
         "customdata": [
          [
           1000
          ],
          [
           400
          ],
          [
           400
          ],
          [
           343
          ],
          [
           800
          ],
          [
           500
          ],
          [
           3000
          ],
          [
           400
          ],
          [
           4000
          ],
          [
           400
          ],
          [
           820
          ],
          [
           1600
          ],
          [
           800
          ],
          [
           406
          ],
          [
           1000
          ],
          [
           400
          ],
          [
           988
          ],
          [
           400
          ],
          [
           400
          ],
          [
           500
          ],
          [
           560
          ],
          [
           400
          ],
          [
           526
          ],
          [
           1000
          ],
          [
           400
          ],
          [
           5000
          ],
          [
           400
          ],
          [
           400
          ],
          [
           400
          ],
          [
           400
          ],
          [
           401
          ],
          [
           500
          ],
          [
           433
          ],
          [
           500
          ],
          [
           500
          ],
          [
           400
          ],
          [
           500
          ],
          [
           400
          ],
          [
           400
          ],
          [
           438
          ],
          [
           400
          ]
         ],
         "hovertemplate": "<b>%{hovertext}</b><br><br>category=conferences<br>entity_id=%{marker.size}<br>lat=%{lat}<br>lon=%{lon}<br>phq_attendance=%{customdata[0]}<extra></extra>",
         "hovertext": [
          "Chicago Marriott Downtown Magnificent Mile",
          "Convene",
          "Crowne Plaza Hotel",
          "DePaul University Loop Campus DePaul Center",
          "Fairmont Chicago Millennium Park",
          "Four Seasons Hotel Chicago",
          "Hilton Chicago",
          "Hilton Chicago/Magnificent Mile Suites",
          "Hyatt Place Chicago Downtown - The Loop",
          "Hyatt Regency - McCormick Place",
          "Hyatt Regency Chicago",
          "Hyatt Regency Chicago, East Upper Wacker Drive",
          "InterContinental Chicago Magnificent Mile",
          "JW Marriott Chicago",
          "Loews Chicago Hotel",
          "Loyola University (Terry Student Center)",
          "Macy's",
          "Marriott Marquis Chicago",
          "Millennium Knickerbocker Chicago",
          "Palmer House",
          "Radisson Blu Aqua Hotel, Chicago, IL",
          "Renaissance Blackstone Chicago Hotel",
          "Revel Fulton Market",
          "Sheraton Grand Chicago",
          "Sofitel Chicago Magnificent Mile",
          "Summit Executive Center",
          "Swissotel Chicago",
          "The Drake Hotel",
          "The Gwen, a Luxury Collection Hotel, Chicago",
          "The Mid-America Club",
          "The Moody Church",
          "The Ritz-Carlton, Chicago",
          "The Westin Chicago River North",
          "The Westin Michigan Avenue Chicago",
          "UIC Forum",
          "Union League Club",
          "University Club of Chicago",
          "University Of Illinois At Chicago",
          "University of Chicago: Gleacher Center",
          "Venue SIX10",
          "W Chicago - City Center"
         ],
         "lat": [
          41.892277,
          41.8796106,
          41.8811325,
          41.8780449,
          41.8860602,
          41.8993358,
          41.8725081,
          41.899803,
          41.882747,
          41.8519543,
          41.887667,
          41.8875503,
          41.8913023,
          41.8789787,
          41.8898851,
          41.8977465,
          41.883876,
          41.8532834,
          41.899839,
          41.8806045,
          41.8863982,
          41.873341,
          41.8863303,
          41.8891327,
          41.8986531,
          41.885913,
          41.8872802,
          41.9004369,
          41.8910557,
          41.885274,
          41.9121523,
          41.897767,
          41.888152,
          41.8993943,
          41.8667825,
          41.877945,
          41.880947,
          41.87521,
          41.889667,
          41.8740166,
          41.879683
         ],
         "legendgroup": "conferences",
         "lon": [
          -87.624655,
          -87.6283488,
          -87.6469093,
          -87.6274338,
          -87.6210948,
          -87.6247587,
          -87.6243948,
          -87.6220285,
          -87.635633,
          -87.6179083,
          -87.622521,
          -87.6218948,
          -87.6235601,
          -87.6330886,
          -87.6194258,
          -87.6270445,
          -87.627036,
          -87.6204805,
          -87.622666,
          -87.6274275,
          -87.6203727,
          -87.624461,
          -87.6574778,
          -87.6197217,
          -87.6273071,
          -87.624185,
          -87.619514,
          -87.6234049,
          -87.6252194,
          -87.6210657,
          -87.6327588,
          -87.622369,
          -87.630041,
          -87.6232076,
          -87.6457875,
          -87.630003,
          -87.624957,
          -87.658001,
          -87.622226,
          -87.624792,
          -87.633225
         ],
         "marker": {
          "color": "#FFA15A",
          "size": [
           16,
           3,
           1,
           1,
           3,
           3,
           12,
           2,
           12,
           2,
           14,
           1,
           5,
           3,
           4,
           1,
           1,
           4,
           1,
           3,
           2,
           1,
           1,
           7,
           1,
           14,
           9,
           2,
           1,
           2,
           1,
           2,
           4,
           3,
           1,
           3,
           4,
           1,
           2,
           2,
           1
          ],
          "sizemode": "area",
          "sizeref": 0.3575
         },
         "mode": "markers",
         "name": "conferences",
         "showlegend": true,
         "subplot": "mapbox",
         "type": "scattermapbox"
        },
        {
         "customdata": [
          [
           9500
          ],
          [
           62332
          ],
          [
           20490
          ],
          [
           10387
          ]
         ],
         "hovertemplate": "<b>%{hovertext}</b><br><br>category=sports<br>entity_id=%{marker.size}<br>lat=%{lat}<br>lon=%{lon}<br>phq_attendance=%{customdata[0]}<extra></extra>",
         "hovertext": [
          "Credit Union 1 Arena",
          "Soldier Field",
          "United Center",
          "Wintrust Arena"
         ],
         "lat": [
          41.8748558,
          41.8623132,
          41.8806908,
          41.8537349
         ],
         "legendgroup": "sports",
         "lon": [
          -87.65614110000001,
          -87.6166884,
          -87.6741759,
          -87.6213427
         ],
         "marker": {
          "color": "#19d3f3",
          "size": [
           24,
           28,
           98,
           51
          ],
          "sizemode": "area",
          "sizeref": 0.3575
         },
         "mode": "markers",
         "name": "sports",
         "showlegend": true,
         "subplot": "mapbox",
         "type": "scattermapbox"
        },
        {
         "customdata": [
          [
           800
          ],
          [
           90000
          ],
          [
           20000
          ],
          [
           40000
          ]
         ],
         "hovertemplate": "<b>%{hovertext}</b><br><br>category=expos<br>entity_id=%{marker.size}<br>lat=%{lat}<br>lon=%{lon}<br>phq_attendance=%{customdata[0]}<extra></extra>",
         "hovertext": [
          "Hyatt Centric Chicago Magnificent Mile",
          "McCormick Place",
          "Merchandise Mart Expocenter",
          "The Mart"
         ],
         "lat": [
          41.893809,
          41.8512195,
          41.8884895,
          41.888543
         ],
         "legendgroup": "expos",
         "lon": [
          -87.622297,
          -87.6170282,
          -87.6354826,
          -87.63544350000001
         ],
         "marker": {
          "color": "#FF6692",
          "size": [
           1,
           15,
           1,
           7
          ],
          "sizemode": "area",
          "sizeref": 0.3575
         },
         "mode": "markers",
         "name": "expos",
         "showlegend": true,
         "subplot": "mapbox",
         "type": "scattermapbox"
        }
       ],
       "layout": {
        "height": 500,
        "legend": {
         "itemsizing": "constant",
         "title": {
          "text": "category"
         },
         "tracegroupgap": 0
        },
        "mapbox": {
         "center": {
          "lat": 41.882556357534035,
          "lon": -87.63317140262765
         },
         "domain": {
          "x": [
           0,
           1
          ],
          "y": [
           0,
           1
          ]
         },
         "style": "carto-positron",
         "zoom": 12
        },
        "margin": {
         "b": 0,
         "l": 0,
         "r": 0,
         "t": 0
        },
        "template": {
         "data": {
          "bar": [
           {
            "error_x": {
             "color": "#2a3f5f"
            },
            "error_y": {
             "color": "#2a3f5f"
            },
            "marker": {
             "line": {
              "color": "#E5ECF6",
              "width": 0.5
             },
             "pattern": {
              "fillmode": "overlay",
              "size": 10,
              "solidity": 0.2
             }
            },
            "type": "bar"
           }
          ],
          "barpolar": [
           {
            "marker": {
             "line": {
              "color": "#E5ECF6",
              "width": 0.5
             },
             "pattern": {
              "fillmode": "overlay",
              "size": 10,
              "solidity": 0.2
             }
            },
            "type": "barpolar"
           }
          ],
          "carpet": [
           {
            "aaxis": {
             "endlinecolor": "#2a3f5f",
             "gridcolor": "white",
             "linecolor": "white",
             "minorgridcolor": "white",
             "startlinecolor": "#2a3f5f"
            },
            "baxis": {
             "endlinecolor": "#2a3f5f",
             "gridcolor": "white",
             "linecolor": "white",
             "minorgridcolor": "white",
             "startlinecolor": "#2a3f5f"
            },
            "type": "carpet"
           }
          ],
          "choropleth": [
           {
            "colorbar": {
             "outlinewidth": 0,
             "ticks": ""
            },
            "type": "choropleth"
           }
          ],
          "contour": [
           {
            "colorbar": {
             "outlinewidth": 0,
             "ticks": ""
            },
            "colorscale": [
             [
              0,
              "#0d0887"
             ],
             [
              0.1111111111111111,
              "#46039f"
             ],
             [
              0.2222222222222222,
              "#7201a8"
             ],
             [
              0.3333333333333333,
              "#9c179e"
             ],
             [
              0.4444444444444444,
              "#bd3786"
             ],
             [
              0.5555555555555556,
              "#d8576b"
             ],
             [
              0.6666666666666666,
              "#ed7953"
             ],
             [
              0.7777777777777778,
              "#fb9f3a"
             ],
             [
              0.8888888888888888,
              "#fdca26"
             ],
             [
              1,
              "#f0f921"
             ]
            ],
            "type": "contour"
           }
          ],
          "contourcarpet": [
           {
            "colorbar": {
             "outlinewidth": 0,
             "ticks": ""
            },
            "type": "contourcarpet"
           }
          ],
          "heatmap": [
           {
            "colorbar": {
             "outlinewidth": 0,
             "ticks": ""
            },
            "colorscale": [
             [
              0,
              "#0d0887"
             ],
             [
              0.1111111111111111,
              "#46039f"
             ],
             [
              0.2222222222222222,
              "#7201a8"
             ],
             [
              0.3333333333333333,
              "#9c179e"
             ],
             [
              0.4444444444444444,
              "#bd3786"
             ],
             [
              0.5555555555555556,
              "#d8576b"
             ],
             [
              0.6666666666666666,
              "#ed7953"
             ],
             [
              0.7777777777777778,
              "#fb9f3a"
             ],
             [
              0.8888888888888888,
              "#fdca26"
             ],
             [
              1,
              "#f0f921"
             ]
            ],
            "type": "heatmap"
           }
          ],
          "heatmapgl": [
           {
            "colorbar": {
             "outlinewidth": 0,
             "ticks": ""
            },
            "colorscale": [
             [
              0,
              "#0d0887"
             ],
             [
              0.1111111111111111,
              "#46039f"
             ],
             [
              0.2222222222222222,
              "#7201a8"
             ],
             [
              0.3333333333333333,
              "#9c179e"
             ],
             [
              0.4444444444444444,
              "#bd3786"
             ],
             [
              0.5555555555555556,
              "#d8576b"
             ],
             [
              0.6666666666666666,
              "#ed7953"
             ],
             [
              0.7777777777777778,
              "#fb9f3a"
             ],
             [
              0.8888888888888888,
              "#fdca26"
             ],
             [
              1,
              "#f0f921"
             ]
            ],
            "type": "heatmapgl"
           }
          ],
          "histogram": [
           {
            "marker": {
             "pattern": {
              "fillmode": "overlay",
              "size": 10,
              "solidity": 0.2
             }
            },
            "type": "histogram"
           }
          ],
          "histogram2d": [
           {
            "colorbar": {
             "outlinewidth": 0,
             "ticks": ""
            },
            "colorscale": [
             [
              0,
              "#0d0887"
             ],
             [
              0.1111111111111111,
              "#46039f"
             ],
             [
              0.2222222222222222,
              "#7201a8"
             ],
             [
              0.3333333333333333,
              "#9c179e"
             ],
             [
              0.4444444444444444,
              "#bd3786"
             ],
             [
              0.5555555555555556,
              "#d8576b"
             ],
             [
              0.6666666666666666,
              "#ed7953"
             ],
             [
              0.7777777777777778,
              "#fb9f3a"
             ],
             [
              0.8888888888888888,
              "#fdca26"
             ],
             [
              1,
              "#f0f921"
             ]
            ],
            "type": "histogram2d"
           }
          ],
          "histogram2dcontour": [
           {
            "colorbar": {
             "outlinewidth": 0,
             "ticks": ""
            },
            "colorscale": [
             [
              0,
              "#0d0887"
             ],
             [
              0.1111111111111111,
              "#46039f"
             ],
             [
              0.2222222222222222,
              "#7201a8"
             ],
             [
              0.3333333333333333,
              "#9c179e"
             ],
             [
              0.4444444444444444,
              "#bd3786"
             ],
             [
              0.5555555555555556,
              "#d8576b"
             ],
             [
              0.6666666666666666,
              "#ed7953"
             ],
             [
              0.7777777777777778,
              "#fb9f3a"
             ],
             [
              0.8888888888888888,
              "#fdca26"
             ],
             [
              1,
              "#f0f921"
             ]
            ],
            "type": "histogram2dcontour"
           }
          ],
          "mesh3d": [
           {
            "colorbar": {
             "outlinewidth": 0,
             "ticks": ""
            },
            "type": "mesh3d"
           }
          ],
          "parcoords": [
           {
            "line": {
             "colorbar": {
              "outlinewidth": 0,
              "ticks": ""
             }
            },
            "type": "parcoords"
           }
          ],
          "pie": [
           {
            "automargin": true,
            "type": "pie"
           }
          ],
          "scatter": [
           {
            "marker": {
             "colorbar": {
              "outlinewidth": 0,
              "ticks": ""
             }
            },
            "type": "scatter"
           }
          ],
          "scatter3d": [
           {
            "line": {
             "colorbar": {
              "outlinewidth": 0,
              "ticks": ""
             }
            },
            "marker": {
             "colorbar": {
              "outlinewidth": 0,
              "ticks": ""
             }
            },
            "type": "scatter3d"
           }
          ],
          "scattercarpet": [
           {
            "marker": {
             "colorbar": {
              "outlinewidth": 0,
              "ticks": ""
             }
            },
            "type": "scattercarpet"
           }
          ],
          "scattergeo": [
           {
            "marker": {
             "colorbar": {
              "outlinewidth": 0,
              "ticks": ""
             }
            },
            "type": "scattergeo"
           }
          ],
          "scattergl": [
           {
            "marker": {
             "colorbar": {
              "outlinewidth": 0,
              "ticks": ""
             }
            },
            "type": "scattergl"
           }
          ],
          "scattermapbox": [
           {
            "marker": {
             "colorbar": {
              "outlinewidth": 0,
              "ticks": ""
             }
            },
            "type": "scattermapbox"
           }
          ],
          "scatterpolar": [
           {
            "marker": {
             "colorbar": {
              "outlinewidth": 0,
              "ticks": ""
             }
            },
            "type": "scatterpolar"
           }
          ],
          "scatterpolargl": [
           {
            "marker": {
             "colorbar": {
              "outlinewidth": 0,
              "ticks": ""
             }
            },
            "type": "scatterpolargl"
           }
          ],
          "scatterternary": [
           {
            "marker": {
             "colorbar": {
              "outlinewidth": 0,
              "ticks": ""
             }
            },
            "type": "scatterternary"
           }
          ],
          "surface": [
           {
            "colorbar": {
             "outlinewidth": 0,
             "ticks": ""
            },
            "colorscale": [
             [
              0,
              "#0d0887"
             ],
             [
              0.1111111111111111,
              "#46039f"
             ],
             [
              0.2222222222222222,
              "#7201a8"
             ],
             [
              0.3333333333333333,
              "#9c179e"
             ],
             [
              0.4444444444444444,
              "#bd3786"
             ],
             [
              0.5555555555555556,
              "#d8576b"
             ],
             [
              0.6666666666666666,
              "#ed7953"
             ],
             [
              0.7777777777777778,
              "#fb9f3a"
             ],
             [
              0.8888888888888888,
              "#fdca26"
             ],
             [
              1,
              "#f0f921"
             ]
            ],
            "type": "surface"
           }
          ],
          "table": [
           {
            "cells": {
             "fill": {
              "color": "#EBF0F8"
             },
             "line": {
              "color": "white"
             }
            },
            "header": {
             "fill": {
              "color": "#C8D4E3"
             },
             "line": {
              "color": "white"
             }
            },
            "type": "table"
           }
          ]
         },
         "layout": {
          "annotationdefaults": {
           "arrowcolor": "#2a3f5f",
           "arrowhead": 0,
           "arrowwidth": 1
          },
          "autotypenumbers": "strict",
          "coloraxis": {
           "colorbar": {
            "outlinewidth": 0,
            "ticks": ""
           }
          },
          "colorscale": {
           "diverging": [
            [
             0,
             "#8e0152"
            ],
            [
             0.1,
             "#c51b7d"
            ],
            [
             0.2,
             "#de77ae"
            ],
            [
             0.3,
             "#f1b6da"
            ],
            [
             0.4,
             "#fde0ef"
            ],
            [
             0.5,
             "#f7f7f7"
            ],
            [
             0.6,
             "#e6f5d0"
            ],
            [
             0.7,
             "#b8e186"
            ],
            [
             0.8,
             "#7fbc41"
            ],
            [
             0.9,
             "#4d9221"
            ],
            [
             1,
             "#276419"
            ]
           ],
           "sequential": [
            [
             0,
             "#0d0887"
            ],
            [
             0.1111111111111111,
             "#46039f"
            ],
            [
             0.2222222222222222,
             "#7201a8"
            ],
            [
             0.3333333333333333,
             "#9c179e"
            ],
            [
             0.4444444444444444,
             "#bd3786"
            ],
            [
             0.5555555555555556,
             "#d8576b"
            ],
            [
             0.6666666666666666,
             "#ed7953"
            ],
            [
             0.7777777777777778,
             "#fb9f3a"
            ],
            [
             0.8888888888888888,
             "#fdca26"
            ],
            [
             1,
             "#f0f921"
            ]
           ],
           "sequentialminus": [
            [
             0,
             "#0d0887"
            ],
            [
             0.1111111111111111,
             "#46039f"
            ],
            [
             0.2222222222222222,
             "#7201a8"
            ],
            [
             0.3333333333333333,
             "#9c179e"
            ],
            [
             0.4444444444444444,
             "#bd3786"
            ],
            [
             0.5555555555555556,
             "#d8576b"
            ],
            [
             0.6666666666666666,
             "#ed7953"
            ],
            [
             0.7777777777777778,
             "#fb9f3a"
            ],
            [
             0.8888888888888888,
             "#fdca26"
            ],
            [
             1,
             "#f0f921"
            ]
           ]
          },
          "colorway": [
           "#636efa",
           "#EF553B",
           "#00cc96",
           "#ab63fa",
           "#FFA15A",
           "#19d3f3",
           "#FF6692",
           "#B6E880",
           "#FF97FF",
           "#FECB52"
          ],
          "font": {
           "color": "#2a3f5f"
          },
          "geo": {
           "bgcolor": "white",
           "lakecolor": "white",
           "landcolor": "#E5ECF6",
           "showlakes": true,
           "showland": true,
           "subunitcolor": "white"
          },
          "hoverlabel": {
           "align": "left"
          },
          "hovermode": "closest",
          "mapbox": {
           "style": "light"
          },
          "paper_bgcolor": "white",
          "plot_bgcolor": "#E5ECF6",
          "polar": {
           "angularaxis": {
            "gridcolor": "white",
            "linecolor": "white",
            "ticks": ""
           },
           "bgcolor": "#E5ECF6",
           "radialaxis": {
            "gridcolor": "white",
            "linecolor": "white",
            "ticks": ""
           }
          },
          "scene": {
           "xaxis": {
            "backgroundcolor": "#E5ECF6",
            "gridcolor": "white",
            "gridwidth": 2,
            "linecolor": "white",
            "showbackground": true,
            "ticks": "",
            "zerolinecolor": "white"
           },
           "yaxis": {
            "backgroundcolor": "#E5ECF6",
            "gridcolor": "white",
            "gridwidth": 2,
            "linecolor": "white",
            "showbackground": true,
            "ticks": "",
            "zerolinecolor": "white"
           },
           "zaxis": {
            "backgroundcolor": "#E5ECF6",
            "gridcolor": "white",
            "gridwidth": 2,
            "linecolor": "white",
            "showbackground": true,
            "ticks": "",
            "zerolinecolor": "white"
           }
          },
          "shapedefaults": {
           "line": {
            "color": "#2a3f5f"
           }
          },
          "ternary": {
           "aaxis": {
            "gridcolor": "white",
            "linecolor": "white",
            "ticks": ""
           },
           "baxis": {
            "gridcolor": "white",
            "linecolor": "white",
            "ticks": ""
           },
           "bgcolor": "#E5ECF6",
           "caxis": {
            "gridcolor": "white",
            "linecolor": "white",
            "ticks": ""
           }
          },
          "title": {
           "x": 0.05
          },
          "xaxis": {
           "automargin": true,
           "gridcolor": "white",
           "linecolor": "white",
           "ticks": "",
           "title": {
            "standoff": 15
           },
           "zerolinecolor": "white",
           "zerolinewidth": 2
          },
          "yaxis": {
           "automargin": true,
           "gridcolor": "white",
           "linecolor": "white",
           "ticks": "",
           "title": {
            "standoff": 15
           },
           "zerolinecolor": "white",
           "zerolinewidth": 2
          }
         }
        }
       }
      }
     },
     "metadata": {},
     "output_type": "display_data"
    }
   ],
   "source": [
    "fig = px.scatter_mapbox(\n",
    "    venue_type,\n",
    "    lat=\"lat\",\n",
    "    lon=\"lon\",\n",
    "    color=\"category\",\n",
    "    size=\"entity_id\",\n",
    "    hover_name=\"entity_name\",\n",
    "    hover_data=[\"phq_attendance\"],\n",
    "    zoom=12,\n",
    ")\n",
    "\n",
    "fig.update_layout(mapbox_style=\"carto-positron\")\n",
    "fig.update_layout(height=500, margin={\"r\": 0, \"t\": 0, \"l\": 0, \"b\": 0})\n",
    "fig.show()\n"
   ]
  },
  {
   "cell_type": "markdown",
   "id": "0b9febc4-6635-4565-88ef-a1e7bf006b41",
   "metadata": {},
   "source": [
    "<a id='venue_est_capacity'></a>\n",
    "# What's the estimated capacity of venues?"
   ]
  },
  {
   "cell_type": "markdown",
   "id": "711eb48e-89cf-4cb2-a082-856f44985853",
   "metadata": {},
   "source": [
    "The capacity is estimated based on the maximum attendance of events in the venue found in the specified time period."
   ]
  },
  {
   "cell_type": "code",
   "execution_count": 23,
   "id": "e54baa0d-f502-47f3-8bca-be4703a4128f",
   "metadata": {},
   "outputs": [
    {
     "data": {
      "text/html": [
       "<div>\n",
       "<style scoped>\n",
       "    .dataframe tbody tr th:only-of-type {\n",
       "        vertical-align: middle;\n",
       "    }\n",
       "\n",
       "    .dataframe tbody tr th {\n",
       "        vertical-align: top;\n",
       "    }\n",
       "\n",
       "    .dataframe thead th {\n",
       "        text-align: right;\n",
       "    }\n",
       "</style>\n",
       "<table border=\"1\" class=\"dataframe\">\n",
       "  <thead>\n",
       "    <tr style=\"text-align: right;\">\n",
       "      <th></th>\n",
       "      <th>lat</th>\n",
       "      <th>lon</th>\n",
       "      <th>entity_name</th>\n",
       "      <th>category</th>\n",
       "      <th>entity_id</th>\n",
       "      <th>phq_attendance</th>\n",
       "    </tr>\n",
       "  </thead>\n",
       "  <tbody>\n",
       "    <tr>\n",
       "      <th>13</th>\n",
       "      <td>41.853878</td>\n",
       "      <td>-87.626753</td>\n",
       "      <td>Reggie's Rock Club</td>\n",
       "      <td>community</td>\n",
       "      <td>1</td>\n",
       "      <td>300</td>\n",
       "    </tr>\n",
       "    <tr>\n",
       "      <th>112</th>\n",
       "      <td>41.896840</td>\n",
       "      <td>-87.636805</td>\n",
       "      <td>Parliament Chicago</td>\n",
       "      <td>concerts</td>\n",
       "      <td>1</td>\n",
       "      <td>320</td>\n",
       "    </tr>\n",
       "    <tr>\n",
       "      <th>117</th>\n",
       "      <td>41.898190</td>\n",
       "      <td>-87.622225</td>\n",
       "      <td>Broadway Playhouse</td>\n",
       "      <td>performing-arts</td>\n",
       "      <td>4</td>\n",
       "      <td>331</td>\n",
       "    </tr>\n",
       "    <tr>\n",
       "      <th>40</th>\n",
       "      <td>41.878045</td>\n",
       "      <td>-87.627434</td>\n",
       "      <td>DePaul University Loop Campus DePaul Center</td>\n",
       "      <td>conferences</td>\n",
       "      <td>1</td>\n",
       "      <td>343</td>\n",
       "    </tr>\n",
       "    <tr>\n",
       "      <th>96</th>\n",
       "      <td>41.889042</td>\n",
       "      <td>-87.631627</td>\n",
       "      <td>Untitled</td>\n",
       "      <td>concerts</td>\n",
       "      <td>5</td>\n",
       "      <td>360</td>\n",
       "    </tr>\n",
       "    <tr>\n",
       "      <th>...</th>\n",
       "      <td>...</td>\n",
       "      <td>...</td>\n",
       "      <td>...</td>\n",
       "      <td>...</td>\n",
       "      <td>...</td>\n",
       "      <td>...</td>\n",
       "    </tr>\n",
       "    <tr>\n",
       "      <th>3</th>\n",
       "      <td>41.851219</td>\n",
       "      <td>-87.617028</td>\n",
       "      <td>McCormick Place</td>\n",
       "      <td>expos</td>\n",
       "      <td>15</td>\n",
       "      <td>90000</td>\n",
       "    </tr>\n",
       "    <tr>\n",
       "      <th>61</th>\n",
       "      <td>41.883182</td>\n",
       "      <td>-87.621860</td>\n",
       "      <td>Jay Pritzker Pavilion</td>\n",
       "      <td>festivals</td>\n",
       "      <td>5</td>\n",
       "      <td>240000</td>\n",
       "    </tr>\n",
       "    <tr>\n",
       "      <th>24</th>\n",
       "      <td>41.872172</td>\n",
       "      <td>-87.618750</td>\n",
       "      <td>Grant Park</td>\n",
       "      <td>festivals</td>\n",
       "      <td>2</td>\n",
       "      <td>385000</td>\n",
       "    </tr>\n",
       "    <tr>\n",
       "      <th>25</th>\n",
       "      <td>41.872172</td>\n",
       "      <td>-87.618750</td>\n",
       "      <td>Grant Park</td>\n",
       "      <td>sports</td>\n",
       "      <td>1</td>\n",
       "      <td>960000</td>\n",
       "    </tr>\n",
       "    <tr>\n",
       "      <th>62</th>\n",
       "      <td>41.883569</td>\n",
       "      <td>-87.630161</td>\n",
       "      <td>Daley Plaza</td>\n",
       "      <td>festivals</td>\n",
       "      <td>1</td>\n",
       "      <td>1000000</td>\n",
       "    </tr>\n",
       "  </tbody>\n",
       "</table>\n",
       "<p>95 rows × 6 columns</p>\n",
       "</div>"
      ],
      "text/plain": [
       "           lat        lon                                  entity_name  \\\n",
       "13   41.853878 -87.626753                           Reggie's Rock Club   \n",
       "112  41.896840 -87.636805                           Parliament Chicago   \n",
       "117  41.898190 -87.622225                           Broadway Playhouse   \n",
       "40   41.878045 -87.627434  DePaul University Loop Campus DePaul Center   \n",
       "96   41.889042 -87.631627                                     Untitled   \n",
       "..         ...        ...                                          ...   \n",
       "3    41.851219 -87.617028                              McCormick Place   \n",
       "61   41.883182 -87.621860                        Jay Pritzker Pavilion   \n",
       "24   41.872172 -87.618750                                   Grant Park   \n",
       "25   41.872172 -87.618750                                   Grant Park   \n",
       "62   41.883569 -87.630161                                  Daley Plaza   \n",
       "\n",
       "            category  entity_id  phq_attendance  \n",
       "13         community          1             300  \n",
       "112         concerts          1             320  \n",
       "117  performing-arts          4             331  \n",
       "40       conferences          1             343  \n",
       "96          concerts          5             360  \n",
       "..               ...        ...             ...  \n",
       "3              expos         15           90000  \n",
       "61         festivals          5          240000  \n",
       "24         festivals          2          385000  \n",
       "25            sports          1          960000  \n",
       "62         festivals          1         1000000  \n",
       "\n",
       "[95 rows x 6 columns]"
      ]
     },
     "execution_count": 23,
     "metadata": {},
     "output_type": "execute_result"
    }
   ],
   "source": [
    "estimated_venue_capacity = agg_df.loc[agg_df.reset_index().groupby([\"phq_attendance\"])[\"entity_id\"].idxmax()]\n",
    "estimated_venue_capacity\n"
   ]
  },
  {
   "cell_type": "code",
   "execution_count": 24,
   "id": "e4c5615f-b40b-40fa-a9f9-1d93af2fdc95",
   "metadata": {},
   "outputs": [
    {
     "data": {
      "application/vnd.plotly.v1+json": {
       "config": {
        "plotlyServerURL": "https://plot.ly"
       },
       "data": [
        {
         "hovertemplate": "<b>%{hovertext}</b><br><br>category=community<br>phq_attendance=%{marker.size}<br>lat=%{lat}<br>lon=%{lon}<extra></extra>",
         "hovertext": [
          "Reggie's Rock Club",
          "Davenport's Piano Bar Cabaret",
          "Hard Rock Cafe",
          "Buddy Guy's Legends",
          "Epiphany Center for the Arts",
          "Grace Place",
          "PRYSM Nightclub",
          "House of Blues Chicago",
          "Joe's Bar",
          "Harris Theater",
          "The Chicago Theatre"
         ],
         "lat": [
          41.8538782,
          41.9070399,
          41.8931169,
          41.872964,
          41.87869,
          41.8734776,
          41.9093549,
          41.888233,
          41.910098,
          41.8839445,
          41.8854802
         ],
         "legendgroup": "community",
         "lon": [
          -87.6267529,
          -87.6720414,
          -87.6305236,
          -87.626159,
          -87.66608,
          -87.6290671,
          -87.6525297,
          -87.62913,
          -87.652182,
          -87.621879,
          -87.6275718
         ],
         "marker": {
          "color": "#636efa",
          "size": [
           300,
           397,
           480,
           500,
           530,
           647,
           850,
           1300,
           1500,
           1523,
           2880
          ],
          "sizemode": "area",
          "sizeref": 2500
         },
         "mode": "markers",
         "name": "community",
         "showlegend": true,
         "subplot": "mapbox",
         "type": "scattermapbox"
        },
        {
         "hovertemplate": "<b>%{hovertext}</b><br><br>category=concerts<br>phq_attendance=%{marker.size}<br>lat=%{lat}<br>lon=%{lon}<extra></extra>",
         "hovertext": [
          "Parliament Chicago",
          "Untitled",
          "LITE Chicago",
          "Cobra Lounge",
          "Headquarters Beercade - River North",
          "Broadway Playhouse",
          "City Winery",
          "Spybar",
          "Reggie's Rock Club",
          "Bottom Lounge",
          "Fine Arts Building",
          "Thalia Hall",
          "Sound-Bar",
          "Park West",
          "PRYSM Nightclub",
          "House of Blues Chicago",
          "Chicago Symphony Orchestra",
          "Joe's Bar",
          "CIBC Theatre",
          "Navy Pier",
          "Radius",
          "The Chicago Theatre",
          "Arie Crown Theater",
          "Auditorium Theatre",
          "Wintrust Arena",
          "Credit Union 1 Arena",
          "Jay Pritzker Pavilion",
          "United Center",
          "Huntington Bank Pavilion",
          "Soldier Field"
         ],
         "lat": [
          41.89684,
          41.8890424,
          41.892961,
          41.8863849,
          41.8971809,
          41.8981899,
          41.884637,
          41.8937033,
          41.8538782,
          41.8852404,
          41.8764524,
          41.857823,
          41.8934302,
          41.918591,
          41.9093549,
          41.888233,
          41.87902,
          41.910098,
          41.8808054,
          41.8916938,
          41.8533403,
          41.8854802,
          41.8520941,
          41.8758241,
          41.8537349,
          41.8748558,
          41.8831824,
          41.8806908,
          41.8643358,
          41.8623132
         ],
         "legendgroup": "concerts",
         "lon": [
          -87.6368055,
          -87.6316275,
          -87.634836,
          -87.6666826,
          -87.6352357,
          -87.6222246,
          -87.6570519,
          -87.6358658,
          -87.6267529,
          -87.6617254,
          -87.624869,
          -87.6575411,
          -87.6353896,
          -87.637381,
          -87.6525297,
          -87.62913,
          -87.625004,
          -87.652182,
          -87.6285104,
          -87.6063215,
          -87.6424858,
          -87.6275718,
          -87.6118497,
          -87.6251126,
          -87.6213427,
          -87.65614110000001,
          -87.62186,
          -87.6741759,
          -87.6090987,
          -87.6166884
         ],
         "marker": {
          "color": "#EF553B",
          "size": [
           320,
           360,
           364,
           401,
           404,
           439,
           466,
           493,
           576,
           672,
           720,
           925,
           980,
           1000,
           1305,
           1440,
           1513,
           1576,
           1800,
           2500,
           3040,
           3600,
           3728,
           3875,
           4115,
           4969,
           8800,
           11249,
           24000,
           49200
          ],
          "sizemode": "area",
          "sizeref": 2500
         },
         "mode": "markers",
         "name": "concerts",
         "showlegend": true,
         "subplot": "mapbox",
         "type": "scattermapbox"
        },
        {
         "hovertemplate": "<b>%{hovertext}</b><br><br>category=performing-arts<br>phq_attendance=%{marker.size}<br>lat=%{lat}<br>lon=%{lon}<extra></extra>",
         "hovertext": [
          "Broadway Playhouse",
          "Museum Of Illusions - Chicago",
          "Thalia Hall",
          "Park West",
          "House of Blues Chicago",
          "CIBC Theatre",
          "ChiTown Movies",
          "James M Nederlander Theatre",
          "Cadillac Palace Theatre",
          "Chicago Symphony Orchestra",
          "Auditorium Theatre",
          "Arie Crown Theater",
          "Credit Union 1 Arena",
          "United Center",
          "The Chicago Theatre"
         ],
         "lat": [
          41.8981899,
          41.8830478,
          41.857823,
          41.918591,
          41.888233,
          41.8808054,
          41.8497657,
          41.8845609,
          41.8841971,
          41.87902,
          41.8758241,
          41.8520941,
          41.8748558,
          41.8806908,
          41.8854802
         ],
         "legendgroup": "performing-arts",
         "lon": [
          -87.6222246,
          -87.62682,
          -87.6575411,
          -87.637381,
          -87.62913,
          -87.6285104,
          -87.6583251,
          -87.62876519999998,
          -87.6330379,
          -87.625004,
          -87.6251126,
          -87.6118497,
          -87.65614110000001,
          -87.6741759,
          -87.6275718
         ],
         "marker": {
          "color": "#00cc96",
          "size": [
           331,
           384,
           557,
           602,
           626,
           867,
           910,
           1357,
           1505,
           1519,
           1868,
           2561,
           2963,
           3247,
           3306
          ],
          "sizemode": "area",
          "sizeref": 2500
         },
         "mode": "markers",
         "name": "performing-arts",
         "showlegend": true,
         "subplot": "mapbox",
         "type": "scattermapbox"
        },
        {
         "hovertemplate": "<b>%{hovertext}</b><br><br>category=conferences<br>phq_attendance=%{marker.size}<br>lat=%{lat}<br>lon=%{lon}<extra></extra>",
         "hovertext": [
          "DePaul University Loop Campus DePaul Center",
          "Swissotel Chicago",
          "Hyatt Regency Chicago",
          "JW Marriott Chicago",
          "The Westin Chicago River North",
          "Venue SIX10",
          "Revel Fulton Market",
          "Radisson Blu Aqua Hotel, Chicago, IL",
          "InterContinental Chicago Magnificent Mile",
          "Hyatt Regency Chicago",
          "Macy's",
          "Hyatt Regency Chicago, East Upper Wacker Drive",
          "Hilton Chicago",
          "Hyatt Place Chicago Downtown - The Loop",
          "Summit Executive Center",
          "McCormick Place"
         ],
         "lat": [
          41.8780449,
          41.8872802,
          41.8844681,
          41.8789787,
          41.888152,
          41.8740166,
          41.8863303,
          41.8863982,
          41.8913023,
          41.887667,
          41.883876,
          41.8875503,
          41.8725081,
          41.882747,
          41.885913,
          41.8512195
         ],
         "legendgroup": "conferences",
         "lon": [
          -87.6274338,
          -87.619514,
          -87.6367798,
          -87.6330886,
          -87.630041,
          -87.624792,
          -87.6574778,
          -87.6203727,
          -87.6235601,
          -87.622521,
          -87.627036,
          -87.6218948,
          -87.6243948,
          -87.635633,
          -87.624185,
          -87.6170282
         ],
         "marker": {
          "color": "#ab63fa",
          "size": [
           343,
           400,
           405,
           406,
           433,
           438,
           526,
           560,
           800,
           820,
           988,
           1600,
           3000,
           4000,
           5000,
           50252
          ],
          "sizemode": "area",
          "sizeref": 2500
         },
         "mode": "markers",
         "name": "conferences",
         "showlegend": true,
         "subplot": "mapbox",
         "type": "scattermapbox"
        },
        {
         "hovertemplate": "<b>%{hovertext}</b><br><br>category=festivals<br>phq_attendance=%{marker.size}<br>lat=%{lat}<br>lon=%{lon}<extra></extra>",
         "hovertext": [
          "Fairmont Chicago Millennium Park",
          "Green City Market",
          "Radius - Chicago",
          "Wintrust Arena",
          "United Center",
          "Harrison Park",
          "Lincoln Park South Fields",
          "Union Park",
          "Revel Fulton Market",
          "Addams/Medill Park",
          "Jay Pritzker Pavilion",
          "Grant Park",
          "Daley Plaza"
         ],
         "lat": [
          41.8860602,
          41.8801067,
          41.8533403,
          41.8537349,
          41.8806908,
          41.8568439,
          41.9141266,
          41.8841698,
          41.8863303,
          41.8639562,
          41.8831824,
          41.8721722,
          41.8835687082
         ],
         "legendgroup": "festivals",
         "lon": [
          -87.6210948,
          -87.6502942,
          -87.6424858,
          -87.6213427,
          -87.6741759,
          -87.6727556,
          -87.6287988,
          -87.6656869,
          -87.6574778,
          -87.663828,
          -87.62186,
          -87.61875049999998,
          -87.630161047
         ],
         "marker": {
          "color": "#FFA15A",
          "size": [
           1333,
           2000,
           3800,
           8309,
           15000,
           32000,
           35000,
           60000,
           63500,
           64000,
           240000,
           385000,
           1000000
          ],
          "sizemode": "area",
          "sizeref": 2500
         },
         "mode": "markers",
         "name": "festivals",
         "showlegend": true,
         "subplot": "mapbox",
         "type": "scattermapbox"
        },
        {
         "hovertemplate": "<b>%{hovertext}</b><br><br>category=sports<br>phq_attendance=%{marker.size}<br>lat=%{lat}<br>lon=%{lon}<extra></extra>",
         "hovertext": [
          "Chicago Symphony Orchestra",
          "Credit Union 1 Arena",
          "Wintrust Arena",
          "United Center",
          "Soldier Field",
          "Grant Park"
         ],
         "lat": [
          41.87902,
          41.8748558,
          41.8537349,
          41.8806908,
          41.8623132,
          41.8721722
         ],
         "legendgroup": "sports",
         "lon": [
          -87.625004,
          -87.65614110000001,
          -87.6213427,
          -87.6741759,
          -87.6166884,
          -87.61875049999998
         ],
         "marker": {
          "color": "#19d3f3",
          "size": [
           2522,
           9500,
           10387,
           20490,
           62332,
           960000
          ],
          "sizemode": "area",
          "sizeref": 2500
         },
         "mode": "markers",
         "name": "sports",
         "showlegend": true,
         "subplot": "mapbox",
         "type": "scattermapbox"
        },
        {
         "hovertemplate": "<b>%{hovertext}</b><br><br>category=expos<br>phq_attendance=%{marker.size}<br>lat=%{lat}<br>lon=%{lon}<extra></extra>",
         "hovertext": [
          "Hyatt Regency Chicago",
          "Merchandise Mart Expocenter",
          "The Mart",
          "McCormick Place"
         ],
         "lat": [
          41.887667,
          41.8884895,
          41.888543,
          41.8512195
         ],
         "legendgroup": "expos",
         "lon": [
          -87.622521,
          -87.6354826,
          -87.63544350000001,
          -87.6170282
         ],
         "marker": {
          "color": "#FF6692",
          "size": [
           16000,
           20000,
           40000,
           90000
          ],
          "sizemode": "area",
          "sizeref": 2500
         },
         "mode": "markers",
         "name": "expos",
         "showlegend": true,
         "subplot": "mapbox",
         "type": "scattermapbox"
        }
       ],
       "layout": {
        "height": 500,
        "legend": {
         "itemsizing": "constant",
         "title": {
          "text": "category"
         },
         "tracegroupgap": 0
        },
        "mapbox": {
         "center": {
          "lat": 41.88065587798105,
          "lon": -87.63554255102106
         },
         "domain": {
          "x": [
           0,
           1
          ],
          "y": [
           0,
           1
          ]
         },
         "style": "carto-positron",
         "zoom": 12
        },
        "margin": {
         "b": 0,
         "l": 0,
         "r": 0,
         "t": 0
        },
        "template": {
         "data": {
          "bar": [
           {
            "error_x": {
             "color": "#2a3f5f"
            },
            "error_y": {
             "color": "#2a3f5f"
            },
            "marker": {
             "line": {
              "color": "#E5ECF6",
              "width": 0.5
             },
             "pattern": {
              "fillmode": "overlay",
              "size": 10,
              "solidity": 0.2
             }
            },
            "type": "bar"
           }
          ],
          "barpolar": [
           {
            "marker": {
             "line": {
              "color": "#E5ECF6",
              "width": 0.5
             },
             "pattern": {
              "fillmode": "overlay",
              "size": 10,
              "solidity": 0.2
             }
            },
            "type": "barpolar"
           }
          ],
          "carpet": [
           {
            "aaxis": {
             "endlinecolor": "#2a3f5f",
             "gridcolor": "white",
             "linecolor": "white",
             "minorgridcolor": "white",
             "startlinecolor": "#2a3f5f"
            },
            "baxis": {
             "endlinecolor": "#2a3f5f",
             "gridcolor": "white",
             "linecolor": "white",
             "minorgridcolor": "white",
             "startlinecolor": "#2a3f5f"
            },
            "type": "carpet"
           }
          ],
          "choropleth": [
           {
            "colorbar": {
             "outlinewidth": 0,
             "ticks": ""
            },
            "type": "choropleth"
           }
          ],
          "contour": [
           {
            "colorbar": {
             "outlinewidth": 0,
             "ticks": ""
            },
            "colorscale": [
             [
              0,
              "#0d0887"
             ],
             [
              0.1111111111111111,
              "#46039f"
             ],
             [
              0.2222222222222222,
              "#7201a8"
             ],
             [
              0.3333333333333333,
              "#9c179e"
             ],
             [
              0.4444444444444444,
              "#bd3786"
             ],
             [
              0.5555555555555556,
              "#d8576b"
             ],
             [
              0.6666666666666666,
              "#ed7953"
             ],
             [
              0.7777777777777778,
              "#fb9f3a"
             ],
             [
              0.8888888888888888,
              "#fdca26"
             ],
             [
              1,
              "#f0f921"
             ]
            ],
            "type": "contour"
           }
          ],
          "contourcarpet": [
           {
            "colorbar": {
             "outlinewidth": 0,
             "ticks": ""
            },
            "type": "contourcarpet"
           }
          ],
          "heatmap": [
           {
            "colorbar": {
             "outlinewidth": 0,
             "ticks": ""
            },
            "colorscale": [
             [
              0,
              "#0d0887"
             ],
             [
              0.1111111111111111,
              "#46039f"
             ],
             [
              0.2222222222222222,
              "#7201a8"
             ],
             [
              0.3333333333333333,
              "#9c179e"
             ],
             [
              0.4444444444444444,
              "#bd3786"
             ],
             [
              0.5555555555555556,
              "#d8576b"
             ],
             [
              0.6666666666666666,
              "#ed7953"
             ],
             [
              0.7777777777777778,
              "#fb9f3a"
             ],
             [
              0.8888888888888888,
              "#fdca26"
             ],
             [
              1,
              "#f0f921"
             ]
            ],
            "type": "heatmap"
           }
          ],
          "heatmapgl": [
           {
            "colorbar": {
             "outlinewidth": 0,
             "ticks": ""
            },
            "colorscale": [
             [
              0,
              "#0d0887"
             ],
             [
              0.1111111111111111,
              "#46039f"
             ],
             [
              0.2222222222222222,
              "#7201a8"
             ],
             [
              0.3333333333333333,
              "#9c179e"
             ],
             [
              0.4444444444444444,
              "#bd3786"
             ],
             [
              0.5555555555555556,
              "#d8576b"
             ],
             [
              0.6666666666666666,
              "#ed7953"
             ],
             [
              0.7777777777777778,
              "#fb9f3a"
             ],
             [
              0.8888888888888888,
              "#fdca26"
             ],
             [
              1,
              "#f0f921"
             ]
            ],
            "type": "heatmapgl"
           }
          ],
          "histogram": [
           {
            "marker": {
             "pattern": {
              "fillmode": "overlay",
              "size": 10,
              "solidity": 0.2
             }
            },
            "type": "histogram"
           }
          ],
          "histogram2d": [
           {
            "colorbar": {
             "outlinewidth": 0,
             "ticks": ""
            },
            "colorscale": [
             [
              0,
              "#0d0887"
             ],
             [
              0.1111111111111111,
              "#46039f"
             ],
             [
              0.2222222222222222,
              "#7201a8"
             ],
             [
              0.3333333333333333,
              "#9c179e"
             ],
             [
              0.4444444444444444,
              "#bd3786"
             ],
             [
              0.5555555555555556,
              "#d8576b"
             ],
             [
              0.6666666666666666,
              "#ed7953"
             ],
             [
              0.7777777777777778,
              "#fb9f3a"
             ],
             [
              0.8888888888888888,
              "#fdca26"
             ],
             [
              1,
              "#f0f921"
             ]
            ],
            "type": "histogram2d"
           }
          ],
          "histogram2dcontour": [
           {
            "colorbar": {
             "outlinewidth": 0,
             "ticks": ""
            },
            "colorscale": [
             [
              0,
              "#0d0887"
             ],
             [
              0.1111111111111111,
              "#46039f"
             ],
             [
              0.2222222222222222,
              "#7201a8"
             ],
             [
              0.3333333333333333,
              "#9c179e"
             ],
             [
              0.4444444444444444,
              "#bd3786"
             ],
             [
              0.5555555555555556,
              "#d8576b"
             ],
             [
              0.6666666666666666,
              "#ed7953"
             ],
             [
              0.7777777777777778,
              "#fb9f3a"
             ],
             [
              0.8888888888888888,
              "#fdca26"
             ],
             [
              1,
              "#f0f921"
             ]
            ],
            "type": "histogram2dcontour"
           }
          ],
          "mesh3d": [
           {
            "colorbar": {
             "outlinewidth": 0,
             "ticks": ""
            },
            "type": "mesh3d"
           }
          ],
          "parcoords": [
           {
            "line": {
             "colorbar": {
              "outlinewidth": 0,
              "ticks": ""
             }
            },
            "type": "parcoords"
           }
          ],
          "pie": [
           {
            "automargin": true,
            "type": "pie"
           }
          ],
          "scatter": [
           {
            "marker": {
             "colorbar": {
              "outlinewidth": 0,
              "ticks": ""
             }
            },
            "type": "scatter"
           }
          ],
          "scatter3d": [
           {
            "line": {
             "colorbar": {
              "outlinewidth": 0,
              "ticks": ""
             }
            },
            "marker": {
             "colorbar": {
              "outlinewidth": 0,
              "ticks": ""
             }
            },
            "type": "scatter3d"
           }
          ],
          "scattercarpet": [
           {
            "marker": {
             "colorbar": {
              "outlinewidth": 0,
              "ticks": ""
             }
            },
            "type": "scattercarpet"
           }
          ],
          "scattergeo": [
           {
            "marker": {
             "colorbar": {
              "outlinewidth": 0,
              "ticks": ""
             }
            },
            "type": "scattergeo"
           }
          ],
          "scattergl": [
           {
            "marker": {
             "colorbar": {
              "outlinewidth": 0,
              "ticks": ""
             }
            },
            "type": "scattergl"
           }
          ],
          "scattermapbox": [
           {
            "marker": {
             "colorbar": {
              "outlinewidth": 0,
              "ticks": ""
             }
            },
            "type": "scattermapbox"
           }
          ],
          "scatterpolar": [
           {
            "marker": {
             "colorbar": {
              "outlinewidth": 0,
              "ticks": ""
             }
            },
            "type": "scatterpolar"
           }
          ],
          "scatterpolargl": [
           {
            "marker": {
             "colorbar": {
              "outlinewidth": 0,
              "ticks": ""
             }
            },
            "type": "scatterpolargl"
           }
          ],
          "scatterternary": [
           {
            "marker": {
             "colorbar": {
              "outlinewidth": 0,
              "ticks": ""
             }
            },
            "type": "scatterternary"
           }
          ],
          "surface": [
           {
            "colorbar": {
             "outlinewidth": 0,
             "ticks": ""
            },
            "colorscale": [
             [
              0,
              "#0d0887"
             ],
             [
              0.1111111111111111,
              "#46039f"
             ],
             [
              0.2222222222222222,
              "#7201a8"
             ],
             [
              0.3333333333333333,
              "#9c179e"
             ],
             [
              0.4444444444444444,
              "#bd3786"
             ],
             [
              0.5555555555555556,
              "#d8576b"
             ],
             [
              0.6666666666666666,
              "#ed7953"
             ],
             [
              0.7777777777777778,
              "#fb9f3a"
             ],
             [
              0.8888888888888888,
              "#fdca26"
             ],
             [
              1,
              "#f0f921"
             ]
            ],
            "type": "surface"
           }
          ],
          "table": [
           {
            "cells": {
             "fill": {
              "color": "#EBF0F8"
             },
             "line": {
              "color": "white"
             }
            },
            "header": {
             "fill": {
              "color": "#C8D4E3"
             },
             "line": {
              "color": "white"
             }
            },
            "type": "table"
           }
          ]
         },
         "layout": {
          "annotationdefaults": {
           "arrowcolor": "#2a3f5f",
           "arrowhead": 0,
           "arrowwidth": 1
          },
          "autotypenumbers": "strict",
          "coloraxis": {
           "colorbar": {
            "outlinewidth": 0,
            "ticks": ""
           }
          },
          "colorscale": {
           "diverging": [
            [
             0,
             "#8e0152"
            ],
            [
             0.1,
             "#c51b7d"
            ],
            [
             0.2,
             "#de77ae"
            ],
            [
             0.3,
             "#f1b6da"
            ],
            [
             0.4,
             "#fde0ef"
            ],
            [
             0.5,
             "#f7f7f7"
            ],
            [
             0.6,
             "#e6f5d0"
            ],
            [
             0.7,
             "#b8e186"
            ],
            [
             0.8,
             "#7fbc41"
            ],
            [
             0.9,
             "#4d9221"
            ],
            [
             1,
             "#276419"
            ]
           ],
           "sequential": [
            [
             0,
             "#0d0887"
            ],
            [
             0.1111111111111111,
             "#46039f"
            ],
            [
             0.2222222222222222,
             "#7201a8"
            ],
            [
             0.3333333333333333,
             "#9c179e"
            ],
            [
             0.4444444444444444,
             "#bd3786"
            ],
            [
             0.5555555555555556,
             "#d8576b"
            ],
            [
             0.6666666666666666,
             "#ed7953"
            ],
            [
             0.7777777777777778,
             "#fb9f3a"
            ],
            [
             0.8888888888888888,
             "#fdca26"
            ],
            [
             1,
             "#f0f921"
            ]
           ],
           "sequentialminus": [
            [
             0,
             "#0d0887"
            ],
            [
             0.1111111111111111,
             "#46039f"
            ],
            [
             0.2222222222222222,
             "#7201a8"
            ],
            [
             0.3333333333333333,
             "#9c179e"
            ],
            [
             0.4444444444444444,
             "#bd3786"
            ],
            [
             0.5555555555555556,
             "#d8576b"
            ],
            [
             0.6666666666666666,
             "#ed7953"
            ],
            [
             0.7777777777777778,
             "#fb9f3a"
            ],
            [
             0.8888888888888888,
             "#fdca26"
            ],
            [
             1,
             "#f0f921"
            ]
           ]
          },
          "colorway": [
           "#636efa",
           "#EF553B",
           "#00cc96",
           "#ab63fa",
           "#FFA15A",
           "#19d3f3",
           "#FF6692",
           "#B6E880",
           "#FF97FF",
           "#FECB52"
          ],
          "font": {
           "color": "#2a3f5f"
          },
          "geo": {
           "bgcolor": "white",
           "lakecolor": "white",
           "landcolor": "#E5ECF6",
           "showlakes": true,
           "showland": true,
           "subunitcolor": "white"
          },
          "hoverlabel": {
           "align": "left"
          },
          "hovermode": "closest",
          "mapbox": {
           "style": "light"
          },
          "paper_bgcolor": "white",
          "plot_bgcolor": "#E5ECF6",
          "polar": {
           "angularaxis": {
            "gridcolor": "white",
            "linecolor": "white",
            "ticks": ""
           },
           "bgcolor": "#E5ECF6",
           "radialaxis": {
            "gridcolor": "white",
            "linecolor": "white",
            "ticks": ""
           }
          },
          "scene": {
           "xaxis": {
            "backgroundcolor": "#E5ECF6",
            "gridcolor": "white",
            "gridwidth": 2,
            "linecolor": "white",
            "showbackground": true,
            "ticks": "",
            "zerolinecolor": "white"
           },
           "yaxis": {
            "backgroundcolor": "#E5ECF6",
            "gridcolor": "white",
            "gridwidth": 2,
            "linecolor": "white",
            "showbackground": true,
            "ticks": "",
            "zerolinecolor": "white"
           },
           "zaxis": {
            "backgroundcolor": "#E5ECF6",
            "gridcolor": "white",
            "gridwidth": 2,
            "linecolor": "white",
            "showbackground": true,
            "ticks": "",
            "zerolinecolor": "white"
           }
          },
          "shapedefaults": {
           "line": {
            "color": "#2a3f5f"
           }
          },
          "ternary": {
           "aaxis": {
            "gridcolor": "white",
            "linecolor": "white",
            "ticks": ""
           },
           "baxis": {
            "gridcolor": "white",
            "linecolor": "white",
            "ticks": ""
           },
           "bgcolor": "#E5ECF6",
           "caxis": {
            "gridcolor": "white",
            "linecolor": "white",
            "ticks": ""
           }
          },
          "title": {
           "x": 0.05
          },
          "xaxis": {
           "automargin": true,
           "gridcolor": "white",
           "linecolor": "white",
           "ticks": "",
           "title": {
            "standoff": 15
           },
           "zerolinecolor": "white",
           "zerolinewidth": 2
          },
          "yaxis": {
           "automargin": true,
           "gridcolor": "white",
           "linecolor": "white",
           "ticks": "",
           "title": {
            "standoff": 15
           },
           "zerolinecolor": "white",
           "zerolinewidth": 2
          }
         }
        }
       }
      }
     },
     "metadata": {},
     "output_type": "display_data"
    }
   ],
   "source": [
    "fig = px.scatter_mapbox(\n",
    "    estimated_venue_capacity,\n",
    "    lat=\"lat\",\n",
    "    lon=\"lon\",\n",
    "    color=\"category\",\n",
    "    size=\"phq_attendance\",\n",
    "    hover_name=\"entity_name\",\n",
    "    zoom=12,\n",
    ")\n",
    "\n",
    "fig.update_layout(mapbox_style=\"carto-positron\")\n",
    "fig.update_layout(height=500, margin={\"r\": 0, \"t\": 0, \"l\": 0, \"b\": 0})\n",
    "fig.show()\n"
   ]
  },
  {
   "cell_type": "markdown",
   "id": "3a4beb87-81f3-4e96-95ab-369f997b5d91",
   "metadata": {},
   "source": [
    "<a id='appendix'></a>\n",
    "## Appendix: Finding `place_id` "
   ]
  },
  {
   "cell_type": "markdown",
   "id": "3919e49e-93f3-49cf-9703-9d42f881d43e",
   "metadata": {},
   "source": [
    "Here is a guide on how to link between locations and `place_id`. We present 3 options:\n",
    "\n",
    " 1. Query `place_id` based on location name. Here the location name could be a city, a state, a country or a continent.\n",
    " 2. Query `place_hierarchies` based on latitude and longitude.\n",
    " 3. Query location name based on `place_id`.\n",
    "\n",
    "The full list of parameters that you could use in your query is documented at our [Places API page](https://docs.predicthq.com/resources/places/).<br>PredictHQ uses the [geonames places](https://www.geonames.org/) convention. "
   ]
  },
  {
   "cell_type": "markdown",
   "id": "d61a109d",
   "metadata": {},
   "source": [
    "#### 1) Query `place_id` based on location name\n",
    "\n",
    "By using PredictHQ's Places SDK, you can find the `place_id` for a specific location name. By calling the SDK and setting `q` to location name, the API will return the most relevant `place_id`. Taking the top `place_id` will provide the most relevant `place_id` the location name is in. You can also limit results by specifying parameters like `country`, `type` to get the closest match. All the parameter fields can be found at [Places](https://docs.predicthq.com/resources/places/#fields)."
   ]
  },
  {
   "cell_type": "code",
   "execution_count": 25,
   "id": "4c499f84",
   "metadata": {},
   "outputs": [
    {
     "name": "stdout",
     "output_type": "stream",
     "text": [
      "4887398 Chicago locality Cook County Illinois United States [-87.65005, 41.85003]\n",
      "8922857 Chicago locality Mezquitic Jalisco Mexico [-104.15972, 22.33944]\n",
      "4903862 North Chicago locality Lake County Illinois United States [-87.84118, 42.32558]\n",
      "4887442 Chicago Heights locality Cook County Illinois United States [-87.6356, 41.50615]\n",
      "4919857 East Chicago locality Lake County Indiana United States [-87.45476, 41.6392]\n",
      "4915963 West Chicago locality DuPage County Illinois United States [-88.20396, 41.88475]\n",
      "4887492 Chicago Ridge locality Cook County Illinois United States [-87.77922, 41.70142]\n",
      "4924095 New Chicago locality Lake County Indiana United States [-87.27448, 41.55837]\n",
      "4911868 South Chicago Heights locality Cook County Illinois United States [-87.63782, 41.48087]\n",
      "8966977 Case Chicago locality Provincia di Ravenna Emilia-Romagna Italy [11.80487, 44.51449]\n"
     ]
    }
   ],
   "source": [
    "# Example: retrieve place_id\n",
    "results = phq.places.search(q=\"Chicago\", country=\"US\", type=\"locality\")\n",
    "\n",
    "for place in results:\n",
    "    print(place.id, place.name, place.type, place.county, place.region, place.country, place.location)\n"
   ]
  },
  {
   "cell_type": "markdown",
   "id": "217b853c",
   "metadata": {},
   "source": [
    "`phq.places.search` will retrieve all relevant matches with parameter `q`, taking the top `place_id` as the most relevant match"
   ]
  },
  {
   "cell_type": "code",
   "execution_count": 26,
   "id": "e7621da3",
   "metadata": {},
   "outputs": [
    {
     "data": {
      "text/plain": [
       "'4887398'"
      ]
     },
     "execution_count": 26,
     "metadata": {},
     "output_type": "execute_result"
    }
   ],
   "source": [
    "# Place id for Chicago, US\n",
    "results[\"results\"][0][\"id\"]\n"
   ]
  },
  {
   "cell_type": "markdown",
   "id": "4404a060-0cdc-4e8e-a078-20e531bf585a",
   "metadata": {},
   "source": [
    "#### 2) Query `place_hierarchies` based on  latitude and longitude\n",
    "\n",
    "By using PredictHQ's python SDK, you can find the `place_hierarchies` for a specific latitude and longitude. By calling the SDK and setting `location` to `@{latitude},{longitude}`, the API will return the all relevant `place_hierarchies`."
   ]
  },
  {
   "cell_type": "code",
   "execution_count": 27,
   "id": "ab7de90e",
   "metadata": {},
   "outputs": [
    {
     "name": "stdout",
     "output_type": "stream",
     "text": [
      "4887398 Chicago locality [-87.65005, 41.85003] Cook County Illinois United States\n",
      "4911838 South Branch Addition neighbourhood [-87.64116, 41.85031] Cook County Illinois United States\n",
      "4905971 Pilsen neighbourhood [-87.65755, 41.85753] Cook County Illinois United States\n",
      "4885565 Bridgeport neighbourhood [-87.65116, 41.83809] Cook County Illinois United States\n",
      "4900306 Locks neighbourhood [-87.66339, 41.84281] Cook County Illinois United States\n",
      "4900611 Lower West Side neighbourhood [-87.66561, 41.8542] Cook County Illinois United States\n",
      "4907805 Robert Brooks Homes neighbourhood [-87.6595, 41.86531] Cook County Illinois United States\n",
      "4883580 Armour Square neighbourhood [-87.63311, 41.84003] Cook County Illinois United States\n",
      "4888642 Conleys Patch neighbourhood [-87.63616, 41.8642] Cook County Illinois United States\n",
      "4894177 Grace Abbott Homes neighbourhood [-87.66478, 41.86337] Cook County Illinois United States\n"
     ]
    }
   ],
   "source": [
    "# Example: retrieve place_hierarchies\n",
    "results = phq.places.search(location=\"@41.85003,-87.65005\")\n",
    "\n",
    "for place in results:\n",
    "    print(place.id, place.name, place.type, place.location, place.county, place.region, place.country)\n"
   ]
  },
  {
   "cell_type": "markdown",
   "id": "595de629-7779-44b2-a3fe-26bc29e829fa",
   "metadata": {},
   "source": [
    "For `latitude,longitude`, the response might include more than one hierarchy. The reason for this is we try to match the closest place's hierarchy but we also include the closest major city's hierarchy within a radius of 50km. This only applies if the level is below region, you can limit the results to different levels through `type`."
   ]
  },
  {
   "cell_type": "markdown",
   "id": "e84cb6d6-0a61-4a89-af44-a872da0eb5b9",
   "metadata": {},
   "source": [
    "#### 3) Query location name based on `place_id`\n",
    "\n",
    "By using PredictHQ's SDK, you can find the location name for a specific `place_id`. By calling the SDK and setting `id` to `place_id`, the SDK will return the most relevant location name. Taking the top location name will provide the most relevant location name the `place_id` is in."
   ]
  },
  {
   "cell_type": "code",
   "execution_count": 28,
   "id": "333a55d2",
   "metadata": {},
   "outputs": [
    {
     "name": "stdout",
     "output_type": "stream",
     "text": [
      "5128638 State of New York region [-75.4999, 43.00035]\n"
     ]
    }
   ],
   "source": [
    "# Example: retrieve place name by place_id\n",
    "ny_state = phq.places.search(id=\"5128638\").results[0]\n",
    "print(ny_state.id, ny_state.name, ny_state.type, ny_state.location)\n"
   ]
  }
 ],
 "metadata": {
  "interpreter": {
   "hash": "02552ebe61692ac87dd085f0de4c01b76f7fec6ab804b47c6093b7b2e23a24a1"
  },
  "kernelspec": {
   "display_name": "cp_env",
   "language": "python",
   "name": "cp_env"
  },
  "language_info": {
   "codemirror_mode": {
    "name": "ipython",
    "version": 3
   },
   "file_extension": ".py",
   "mimetype": "text/x-python",
   "name": "python",
   "nbconvert_exporter": "python",
   "pygments_lexer": "ipython3",
   "version": "3.9.6"
  }
 },
 "nbformat": 4,
 "nbformat_minor": 5
}
