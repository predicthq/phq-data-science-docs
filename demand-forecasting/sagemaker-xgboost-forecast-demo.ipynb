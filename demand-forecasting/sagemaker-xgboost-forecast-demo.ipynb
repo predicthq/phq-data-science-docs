{
 "cells": [
  {
   "cell_type": "code",
   "metadata": {
    "cell_id": "f014a4f1-8483-43cd-84de-f88f5d87ee4d",
    "deepnote_to_be_reexecuted": false,
    "source_hash": "2fb9c349",
    "execution_start": 1665093509289,
    "execution_millis": 994,
    "deepnote_cell_type": "code",
    "deepnote_cell_height": 472.1875
   },
   "source": "import requests\nfrom datetime import datetime, date, timedelta\nfrom io import StringIO\n\nimport boto3\nimport matplotlib.pyplot as plt\nimport numpy as np\nimport pandas as pd\nimport plotly.graph_objects as go\nimport sagemaker\nfrom sagemaker import image_uris\nfrom sagemaker.inputs import TrainingInput\nfrom sagemaker.session import Session\nfrom sagemaker.serializers import CSVSerializer\nfrom sklearn.metrics import mean_squared_error\n\nfrom data import passwords",
   "outputs": [
    {
     "output_type": "error",
     "ename": "ModuleNotFoundError",
     "evalue": "No module named 'sagemaker'",
     "traceback": [
      "\u001b[0;31m---------------------------------------------------------------------------\u001b[0m",
      "\u001b[0;31mModuleNotFoundError\u001b[0m                       Traceback (most recent call last)",
      "Cell \u001b[0;32mIn [1], line 10\u001b[0m\n\u001b[1;32m      8\u001b[0m \u001b[38;5;28;01mimport\u001b[39;00m \u001b[38;5;21;01mpandas\u001b[39;00m \u001b[38;5;28;01mas\u001b[39;00m \u001b[38;5;21;01mpd\u001b[39;00m\n\u001b[1;32m      9\u001b[0m \u001b[38;5;28;01mimport\u001b[39;00m \u001b[38;5;21;01mplotly\u001b[39;00m\u001b[38;5;21;01m.\u001b[39;00m\u001b[38;5;21;01mgraph_objects\u001b[39;00m \u001b[38;5;28;01mas\u001b[39;00m \u001b[38;5;21;01mgo\u001b[39;00m\n\u001b[0;32m---> 10\u001b[0m \u001b[38;5;28;01mimport\u001b[39;00m \u001b[38;5;21;01msagemaker\u001b[39;00m\n\u001b[1;32m     11\u001b[0m \u001b[38;5;28;01mfrom\u001b[39;00m \u001b[38;5;21;01msagemaker\u001b[39;00m \u001b[38;5;28;01mimport\u001b[39;00m image_uris\n\u001b[1;32m     12\u001b[0m \u001b[38;5;28;01mfrom\u001b[39;00m \u001b[38;5;21;01msagemaker\u001b[39;00m\u001b[38;5;21;01m.\u001b[39;00m\u001b[38;5;21;01minputs\u001b[39;00m \u001b[38;5;28;01mimport\u001b[39;00m TrainingInput\n",
      "\u001b[0;31mModuleNotFoundError\u001b[0m: No module named 'sagemaker'"
     ]
    }
   ],
   "execution_count": null
  },
  {
   "cell_type": "markdown",
   "source": "<img src=\"data/image/design.png\" width=\"900\" height=\"900\" />",
   "metadata": {
    "cell_id": "00001-6f906672-668b-4726-a722-1f6cb5625c77",
    "deepnote_cell_type": "markdown",
    "deepnote_cell_height": 934
   }
  },
  {
   "cell_type": "markdown",
   "source": "## Background\n\n**We will build a forecast model to predict the sales of energy drinks for a retail store located in Iowa City,Iowa. We have 1 year historical data, dated back from 2021-06-01 to 2022-07-04. We will use 2021-06-01 to 2022-06-19 as training date and then predict the demand for the dates between 2022-06-20 to 2022-07-04.**\n\n**We use suggested radius of 1.76 km to search for the nearby events to this store. There are 23 venues close to this store within 1.76km radius. By running the Beam and category importance model, we learned that there are six event categories having statistical correlation to the demand which are:**\n- Sports\n- Public holidays\n- School holidays\n- Expos\n- Obervances\n- Severe weather\n- Concerts\n- Performing arts",
   "metadata": {
    "cell_id": "00002-e24e293d-b52b-45a1-ad1c-e28b656d19fc",
    "deepnote_cell_type": "markdown",
    "deepnote_cell_height": 462.46875
   }
  },
  {
   "cell_type": "markdown",
   "source": "## Severe weather events with Demand Impact Patterns and Polygons\n\n* Severe Weather is one of the most impactful event categories in the world. Warnings or alerts of severe weather may lead to disruption and can have a huge influence on demand.\n* Severe weather events impact demand before and after an event. PredictHQ’s Demand Impact Pattern accurately captures the leading, lagging and coincident effects of a severe weather event on demand. \n* Easy to use severe weather event features in a forecast through feature API",
   "metadata": {
    "cell_id": "00003-6da8d6ec-75e2-42ce-b550-6d2e9a8e9e60",
    "deepnote_cell_type": "markdown",
    "deepnote_cell_height": 257.953125
   }
  },
  {
   "cell_type": "markdown",
   "source": "<img src=\"data/image/swdip.png\" width=\"900\" height=\"900\" />",
   "metadata": {
    "cell_id": "00004-4f84a4f1-8546-4eac-bfde-b15e408f4257",
    "deepnote_cell_type": "markdown",
    "deepnote_cell_height": 934
   }
  },
  {
   "cell_type": "code",
   "metadata": {
    "cell_id": "00005-3855bf0b-b050-450b-89b1-240b10864a87",
    "deepnote_to_be_reexecuted": true,
    "source_hash": "d790b04e",
    "deepnote_cell_type": "code",
    "deepnote_cell_height": 238
   },
   "source": "category_important_results = [\n    \"public_holidays\",\n    \"sports\",\n    \"school_holidays\",\n    \"expos\",\n    \"observances\",\n    \"sw\",\n    \"concerts\",\n    \"performing_arts\",\n]",
   "execution_count": null,
   "outputs": []
  },
  {
   "cell_type": "code",
   "metadata": {
    "cell_id": "00006-f0dba606-525a-4259-b428-b60ea68cae3b",
    "deepnote_to_be_reexecuted": true,
    "source_hash": "126c6739",
    "deepnote_cell_type": "code",
    "deepnote_cell_height": 1642
   },
   "source": "DATE_FORMAT = \"%Y-%m-%d\"\nFEATURES_API_URL = \"https://api.predicthq.com/v1/features\"\nACCESS_TOKEN = passwords.ACCESS_TOKEN\nSEVERE_WEATHER_FEATURES = {\n    \"phq_impact_severe_weather_air_quality_retail\",\n    \"phq_impact_severe_weather_blizzard_retail\",\n    \"phq_impact_severe_weather_cold_wave_retail\",\n    \"phq_impact_severe_weather_cold_wave_snow_retail\",\n    \"phq_impact_severe_weather_cold_wave_storm_retail\",\n    \"phq_impact_severe_weather_dust_retail\",\n    \"phq_impact_severe_weather_dust_storm_retail\",\n    \"phq_impact_severe_weather_flood_retail\",\n    \"phq_impact_severe_weather_heat_wave_retail\",\n    \"phq_impact_severe_weather_hurricane_retail\",\n    \"phq_impact_severe_weather_thunderstorm_retail\",\n    \"phq_impact_severe_weather_tornado_retail\",\n    \"phq_impact_severe_weather_tropical_storm_retail\",\n}\nSCHOOL_HOLIDAYS_FEATURE = \"phq_attendance_school_holidays\"\n\n\ndef get_features_api_severe_weather_events(lat, lon, start, end, rank_threshold=30):\n    start = datetime.strptime(start, DATE_FORMAT).date()\n    end = datetime.strptime(end, DATE_FORMAT).date()\n\n    print(\"Querying Features API...\")\n    result = []\n    for gte, lte in get_date_groups(start, end):\n        print(f\"{gte} -> {lte}\")\n        request_data = {\n            \"location\": {\"geo\": {\"lat\": lat, \"lon\": lon, \"radius\": \"1m\"}},\n            \"active\": {\"gte\": gte, \"lte\": lte},\n        }\n        for feature in SEVERE_WEATHER_FEATURES:\n            request_data[feature] = {\n                \"stats\": [\"max\"],\n                \"phq_rank\": {\"gte\": rank_threshold},\n            }\n\n        try:\n            response = requests.post(\n                f\"{FEATURES_API_URL}\",\n                headers={\"Authorization\": f\"Bearer {ACCESS_TOKEN}\"},\n                json=request_data,\n            ).json()\n        except Exception as e:\n            print(e)\n            return {}, f\"{e}\"\n\n        for day in response[\"results\"]:\n            features = {\"date\": day[\"date\"]}\n            features.update(\n                {f: day[f][\"stats\"][\"max\"] for f in SEVERE_WEATHER_FEATURES}\n            )\n            result.append(features)\n    return result, None\n\n\ndef get_date_groups(start, end):\n    \"\"\"\n    Features API allows range up to 90 days, so we have to do several requests\n    \"\"\"\n\n    def _split_dates(s, e):\n        capacity = timedelta(days=90)\n        interval = 1 + int((e - s) / capacity)\n        for i in range(interval):\n            yield s + capacity * i\n        yield e\n\n    dates = list(_split_dates(start, end))\n    for i, (d1, d2) in enumerate(zip(dates, dates[1:])):\n        if d2 != dates[-1]:\n            d2 -= timedelta(days=1)\n        yield d1.strftime(DATE_FORMAT), d2.strftime(DATE_FORMAT)\n\n\nres = get_features_api_severe_weather_events(\n    41.657871, -91.534637, \"2021-06-01\", \"2022-07-04\", 60\n)\ndf_severe_weather_features = pd.DataFrame(res[0])\ncolumns_constant = [\n    col\n    for col in df_severe_weather_features.sum()[1:].to_dict().keys()\n    if df_severe_weather_features[col].sum() == 0\n]\ndf_severe_weather_features.drop(columns=columns_constant, inplace=True)\ndf_severe_weather_features.head(2)",
   "execution_count": null,
   "outputs": []
  },
  {
   "cell_type": "code",
   "metadata": {
    "cell_id": "00007-06af11cc-d1fc-4c3c-b242-2c14e060f054",
    "deepnote_to_be_reexecuted": true,
    "source_hash": "cd0f5a4e",
    "deepnote_cell_type": "code",
    "deepnote_cell_height": 1300
   },
   "source": "ATTENDED_FEATURES = [\n    \"phq_attendance_community\",\n    \"phq_attendance_concerts\",\n    \"phq_attendance_conferences\",\n    \"phq_attendance_expos\",\n    \"phq_attendance_festivals\",\n    \"phq_attendance_performing_arts\",\n    \"phq_attendance_sports\",\n    \"phq_attendance_school_holidays\",\n]\nHOLIDAY_FEATURES = [\n    \"phq_rank_observances\",\n    \"phq_rank_public_holidays\",\n]\n\n\ndef get_features_api_data(lat, lon, start, end, radius, rank_threshold=30):\n    start = datetime.strptime(start, DATE_FORMAT).date()\n    end = datetime.strptime(end, DATE_FORMAT).date()\n\n    print(\"Querying Features API...\")\n    result = []\n    for gte, lte in get_date_groups(start, end):\n        print(f\"{gte} -> {lte}\")\n        request_data = {\n            \"location\": {\"geo\": {\"lat\": lat, \"lon\": lon, \"radius\": f\"{radius}m\"}},\n            \"active\": {\"gte\": gte, \"lte\": lte},\n        }\n        for feature in ATTENDED_FEATURES:\n            request_data[feature] = {\n                \"stats\": [\"sum\"],\n                \"phq_rank\": {\"gte\": rank_threshold},\n            }\n\n        for feature in HOLIDAY_FEATURES:\n            request_data[feature] = True\n\n        try:\n            response = requests.post(\n                f\"{FEATURES_API_URL}\",\n                headers={\"Authorization\": f\"Bearer {ACCESS_TOKEN}\"},\n                json=request_data,\n            ).json()\n        except Exception as e:\n            return {}, f\"{e}\"\n\n        for day in response[\"results\"]:\n            # print(day)\n            features = {\"date\": day[\"date\"]}\n            features.update({f: day[f][\"stats\"][\"sum\"] for f in ATTENDED_FEATURES})\n            features.update(\n                {f: sum(day[f][\"rank_levels\"].values()) for f in HOLIDAY_FEATURES}\n            )\n            result.append(features)\n    return result, None\n\n\nres = get_features_api_data(\n    41.657871, -91.534637, \"2021-06-01\", \"2022-07-30\", 1760, 30\n)\ndf_attended_holidays = pd.DataFrame(res[0])\ncolumns_constant = [\n    col\n    for col in df_attended_holidays.columns[1:]\n    if col.replace(\"phq_attendance_\", \"\").replace(\"phq_rank_\", \"\")\n    not in category_important_results\n]\ndf_attended_holidays.drop(columns=columns_constant, inplace=True)\ndf_attended_holidays.head(2)",
   "execution_count": null,
   "outputs": []
  },
  {
   "cell_type": "code",
   "metadata": {
    "cell_id": "00008-c65cd88e-c84e-47c2-933b-89fc4fa4283e",
    "deepnote_to_be_reexecuted": true,
    "source_hash": "547e5ac7",
    "deepnote_cell_type": "code",
    "deepnote_cell_height": 166
   },
   "source": "if \"sw\" in category_important_results:\n    df_event_features = df_attended_holidays.merge(\n        df_severe_weather_features, on=\"date\", how=\"left\"\n    )\nelse:\n    df_event_features = df_attended_holidays",
   "execution_count": null,
   "outputs": []
  },
  {
   "cell_type": "markdown",
   "source": "### Load demand and event feature through csv files",
   "metadata": {
    "cell_id": "00009-aee633de-29b5-4418-a1f0-67a62bc15aea",
    "deepnote_cell_type": "markdown",
    "deepnote_cell_height": 62
   }
  },
  {
   "cell_type": "code",
   "metadata": {
    "cell_id": "00010-728dc86c-5654-4134-b151-e5ffa7b50fe1",
    "deepnote_to_be_reexecuted": true,
    "source_hash": "3eed49b8",
    "deepnote_cell_type": "code",
    "deepnote_cell_height": 130
   },
   "source": "# Load demand dataset and event features\ndf_demand = pd.read_csv(\"data/demand.csv\")\ndf_demand[\"date\"] = pd.to_datetime(df_demand[\"date\"])\ndf_event_features[\"date\"] = pd.to_datetime(df_event_features[\"date\"])",
   "execution_count": null,
   "outputs": []
  },
  {
   "cell_type": "markdown",
   "source": "### Combine event features with time trend features\n#### (3 layers: day of week, week of year, month of year)",
   "metadata": {
    "cell_id": "00011-b375a811-53e5-4884-9ef2-888cb6f92afa",
    "deepnote_cell_type": "markdown",
    "deepnote_cell_height": 102
   }
  },
  {
   "cell_type": "code",
   "metadata": {
    "cell_id": "00012-0f65e88b-b66c-4bcb-92c0-1be1ca9793e2",
    "deepnote_to_be_reexecuted": true,
    "source_hash": "69b5403d",
    "deepnote_cell_type": "code",
    "deepnote_cell_height": 184
   },
   "source": "# Convert date to time relevant feature\ndf_event_features[[\"day_of_week\", \"week_of_year\", \"month_of_year\"]] = (\n    df_event_features[\"date\"]\n    .map(lambda x: [x.day_of_week, x.weekofyear, x.month])\n    .to_list()\n)\ndf = df_demand.merge(df_event_features, how=\"left\", on=\"date\")",
   "execution_count": null,
   "outputs": []
  },
  {
   "cell_type": "markdown",
   "source": "### Build a forecast using XGBoost model based on the above features",
   "metadata": {
    "cell_id": "00013-b7747ef6-be2d-4489-a375-ed5cbe9eb5e4",
    "deepnote_cell_type": "markdown",
    "deepnote_cell_height": 62
   }
  },
  {
   "cell_type": "code",
   "metadata": {
    "cell_id": "00014-5e7223dc-4b4b-40c4-9eaa-4393865ee3fd",
    "deepnote_to_be_reexecuted": true,
    "source_hash": "c1e3e88",
    "deepnote_cell_type": "code",
    "deepnote_cell_height": 220
   },
   "source": "split_date_test = \"2022-06-20\"\nfeature_columns = df.columns[2:].tolist()\ndemand_column = \"demand\"\n\nX_train = df[df[\"date\"] < split_date_test][\n    [demand_column] + feature_columns\n]  # for SageMaker XGBoost training input, the first column is target\nX_test = df[df[\"date\"] >= split_date_test][feature_columns]\ny_test = df[df[\"date\"] >= split_date_test][demand_column]",
   "execution_count": null,
   "outputs": []
  },
  {
   "cell_type": "code",
   "metadata": {
    "cell_id": "00015-e99bfbbd-9a04-4c78-a292-42bd7a4ded8f",
    "deepnote_to_be_reexecuted": true,
    "source_hash": "2f8f6fc",
    "deepnote_cell_type": "code",
    "deepnote_cell_height": 76
   },
   "source": "feature_columns",
   "execution_count": null,
   "outputs": []
  },
  {
   "cell_type": "code",
   "metadata": {
    "cell_id": "00016-009e8daa-5ed1-4622-8a1b-9bd1f4f816d6",
    "deepnote_to_be_reexecuted": true,
    "source_hash": "f41299ec",
    "deepnote_cell_type": "code",
    "deepnote_cell_height": 202
   },
   "source": "# data management\nbucket = sagemaker.Session().default_bucket()\nprefix = \"demo-xgb-demand-forecasting\"\noutput_path = f\"s3://{bucket}/{prefix}/demand_forecast/output\"\ntrain_path = f\"s3://{bucket}/{prefix}/demand_forecast/train.csv\"\n\n# upload training data\nX_train.to_csv(train_path, index=False, header=False)",
   "execution_count": null,
   "outputs": []
  },
  {
   "cell_type": "code",
   "metadata": {
    "cell_id": "00017-1f15d667-ef99-48dd-90be-d49bdccf4c28",
    "deepnote_to_be_reexecuted": true,
    "source_hash": "519d8ec3",
    "deepnote_cell_type": "code",
    "deepnote_cell_height": 634
   },
   "source": "# initialize hyperparameters\n# https://github.com/dmlc/xgboost/blob/master/doc/parameter.rst#parameters-for-tree-booster\nhyperparameters = {\n    \"learning_rate\": \"0.1\",\n    \"max_depth\": \"6\",\n    \"objective\": \"reg:squarederror\",  # default\n    \"seed\": \"42\",\n    \"num_round\": \"100\",  # equivalent to n_estimators\n    \"verbosity\": \"1\",\n}\n\n# this line automatically looks for the XGBoost image URI and builds an XGBoost container.\n# specify the repo_version depending on your preference.\nregion = \"us-west-2\"\nxgboost_container = sagemaker.image_uris.retrieve(\"xgboost\", region, \"1.5-1\")\n\n# construct a SageMaker estimator that calls the xgboost-container\nxgb_model = sagemaker.estimator.Estimator(\n    image_uri=xgboost_container,\n    hyperparameters=hyperparameters,\n    role=sagemaker.get_execution_role(),\n    instance_count=1,\n    instance_type=\"ml.m5.2xlarge\",\n    volume_size=1,  # 1 GB\n    output_path=output_path,\n)\n\n# define the data type and paths to the training and validation datasets\ntrain_input = TrainingInput(train_path, content_type=\"text/csv\")\n\n# execute the XGBoost training job\nxgb_model.fit({\"train\": train_input})",
   "execution_count": null,
   "outputs": []
  },
  {
   "cell_type": "code",
   "metadata": {
    "cell_id": "00018-b55db8cd-e3d2-48a2-a31f-d3ff5cb78296",
    "deepnote_to_be_reexecuted": true,
    "source_hash": "2fe15d5d",
    "deepnote_cell_type": "code",
    "deepnote_cell_height": 112
   },
   "source": "xgb_predictor = xgb_model.deploy(\n    initial_instance_count=1, instance_type=\"ml.t2.medium\", serializer=CSVSerializer()\n)",
   "execution_count": null,
   "outputs": []
  },
  {
   "cell_type": "code",
   "metadata": {
    "cell_id": "00019-82068466-0f95-4107-ac7c-0419ef393a4b",
    "deepnote_to_be_reexecuted": true,
    "source_hash": "1de953e2",
    "deepnote_cell_type": "code",
    "deepnote_cell_height": 112
   },
   "source": "response = xgb_predictor.predict(X_test.values).decode(\"utf-8\")\ny_prediction = np.array([float(x) for x in response.split()])\ny_prediction",
   "execution_count": null,
   "outputs": []
  },
  {
   "cell_type": "markdown",
   "source": "### Forecast the next two weeks' demand starting from 2022-06-20",
   "metadata": {
    "cell_id": "00020-84e77778-e5c1-4865-9c2a-a6af817a5b1a",
    "deepnote_cell_type": "markdown",
    "deepnote_cell_height": 62
   }
  },
  {
   "cell_type": "code",
   "metadata": {
    "cell_id": "00021-fc1e0be0-5fc8-422d-9e9d-53f97921b175",
    "deepnote_to_be_reexecuted": true,
    "source_hash": "bc5b45e7",
    "deepnote_cell_type": "code",
    "deepnote_cell_height": 616
   },
   "source": "fig = go.Figure()\n\nfig.add_trace(\n    go.Scatter(\n        x=df[df[\"date\"] < split_date_test][\"date\"],\n        y=df[df[\"date\"] < split_date_test][demand_column],\n        name=\"y_training\",\n        mode=\"lines+markers\",\n    )\n)\n\nfig.add_trace(\n    go.Scatter(\n        x=df[df[\"date\"] >= split_date_test][\"date\"],\n        y=y_prediction,\n        name=\"y_prediction\",\n        mode=\"lines+markers\",\n    )\n)\n\nfig.add_trace(\n    go.Scatter(\n        x=df[df[\"date\"] >= split_date_test][\"date\"],\n        y=df[df[\"date\"] >= split_date_test][demand_column],\n        name=\"y_truth\",\n        mode=\"lines+markers\",\n    )\n)\n\n# Display the figure\nfig.show()",
   "execution_count": null,
   "outputs": []
  },
  {
   "cell_type": "markdown",
   "source": "<img src=\"data/image/sports.png\" width=\"900\" height=\"900\" />",
   "metadata": {
    "cell_id": "00022-59dcdab3-6cf9-4580-ae0d-b36ec2d126ab",
    "deepnote_cell_type": "markdown"
   }
  },
  {
   "cell_type": "markdown",
   "source": "### Compare the forecast with event features againest that without event features",
   "metadata": {
    "cell_id": "00023-cafed968-1752-4561-91e4-9e52fdf1e993",
    "deepnote_cell_type": "markdown"
   }
  },
  {
   "cell_type": "code",
   "metadata": {
    "cell_id": "00024-3bd74288-dd76-4d44-919f-dc097bf05de1",
    "deepnote_to_be_reexecuted": true,
    "source_hash": "84d31d8e",
    "deepnote_cell_type": "code",
    "deepnote_cell_height": 115
   },
   "source": "df_withoutevents = df[\n    [\"date\", \"demand\", \"day_of_week\", \"week_of_year\", \"month_of_year\"]\n]\ndf_withoutevents.head(2)",
   "execution_count": null,
   "outputs": []
  },
  {
   "cell_type": "code",
   "metadata": {
    "cell_id": "00025-b9a1a84e-8f03-4373-bc21-27ae2e52c629",
    "deepnote_to_be_reexecuted": true,
    "source_hash": "2732144a",
    "deepnote_cell_type": "code",
    "deepnote_cell_height": 223
   },
   "source": "feature_columns_withoutevents = df_withoutevents.columns[2:].tolist()\nX_train_withoutevents = df_withoutevents[df_withoutevents[\"date\"] < split_date_test][\n    [demand_column] + feature_columns_withoutevents\n]\nX_test_withoutevents = df_withoutevents[df_withoutevents[\"date\"] >= split_date_test][\n    feature_columns_withoutevents\n]\ny_test_withoutevents = df_withoutevents[df_withoutevents[\"date\"] >= split_date_test][\n    demand_column\n]",
   "execution_count": null,
   "outputs": []
  },
  {
   "cell_type": "code",
   "metadata": {
    "cell_id": "00026-6353aa55-3f93-47dd-9945-9132484ed057",
    "deepnote_to_be_reexecuted": true,
    "source_hash": "1185de0b",
    "deepnote_cell_type": "code",
    "deepnote_cell_height": 205
   },
   "source": "output_path_withoutevents = (\n    f\"s3://{bucket}/{prefix}/demand_forecast/output_withoutevents\"\n)\ntrain_path_withoutevents = (\n    f\"s3://{bucket}/{prefix}/demand_forecast/train_withoutevents.csv\"\n)\n\n# upload training data\nX_train_withoutevents.to_csv(train_path_withoutevents, index=False, header=False)",
   "execution_count": null,
   "outputs": []
  },
  {
   "cell_type": "code",
   "metadata": {
    "cell_id": "00027-ff47a711-ca2d-48f8-ba2e-769be8b1f8ee",
    "deepnote_to_be_reexecuted": true,
    "source_hash": "27098c29",
    "deepnote_cell_type": "code",
    "deepnote_cell_height": 619
   },
   "source": "# initialize hyperparameters\n# https://github.com/dmlc/xgboost/blob/master/doc/parameter.rst#parameters-for-tree-booster\nhyperparameters = {\n    \"learning_rate\": \"0.1\",\n    \"max_depth\": \"6\",\n    \"objective\": \"reg:squarederror\",  # default\n    \"seed\": \"42\",\n    \"num_round\": \"100\",  # equivalent to n_estimators\n    \"verbosity\": \"1\",\n}\n\n# this line automatically looks for the XGBoost image URI and builds an XGBoost container.\n# specify the repo_version depending on your preference.\nregion = \"us-west-2\"\nxgboost_container = sagemaker.image_uris.retrieve(\"xgboost\", region, \"1.5-1\")\n\n# construct a SageMaker estimator that calls the xgboost-container\nxgb_model_withoutevents = sagemaker.estimator.Estimator(\n    image_uri=xgboost_container,\n    hyperparameters=hyperparameters,\n    role=sagemaker.get_execution_role(),\n    instance_count=1,\n    instance_type=\"ml.m5.2xlarge\",\n    volume_size=1,  # 1 GB\n    output_path=output_path_withoutevents,\n)\n\n# define the data type and paths to the training and validation datasets\ntrain_input = TrainingInput(train_path_withoutevents, content_type=\"text/csv\")\n\n# execute the XGBoost training job\nxgb_model_withoutevents.fit({\"train\": train_input})",
   "execution_count": null,
   "outputs": []
  },
  {
   "cell_type": "code",
   "metadata": {
    "cell_id": "00028-2a7f0ee9-023f-4084-b8f5-f907431474aa",
    "deepnote_to_be_reexecuted": true,
    "source_hash": "85851001",
    "deepnote_cell_type": "code",
    "deepnote_cell_height": 97
   },
   "source": "xgb_predictor_withoutevents = xgb_model_withoutevents.deploy(\n    initial_instance_count=1, instance_type=\"ml.t2.medium\", serializer=CSVSerializer()\n)",
   "execution_count": null,
   "outputs": []
  },
  {
   "cell_type": "code",
   "metadata": {
    "cell_id": "00029-87d88e01-3320-4353-9f58-a975fc8ce2e8",
    "deepnote_to_be_reexecuted": true,
    "source_hash": "53a61ec1",
    "deepnote_cell_type": "code",
    "deepnote_cell_height": 133
   },
   "source": "response = xgb_predictor_withoutevents.predict(X_test_withoutevents.values).decode(\n    \"utf-8\"\n)\ny_prediction_withoutevents = np.array([float(x) for x in response.split()])\ny_prediction_withoutevents",
   "execution_count": null,
   "outputs": []
  },
  {
   "cell_type": "code",
   "metadata": {
    "cell_id": "00030-324c956d-d2e6-47e4-8e8f-18e5a6645f77",
    "deepnote_to_be_reexecuted": true,
    "source_hash": "a463a273",
    "deepnote_cell_type": "code",
    "deepnote_cell_height": 727
   },
   "source": "fig = go.Figure()\n\nfig.add_trace(\n    go.Scatter(\n        x=df_withoutevents[df_withoutevents[\"date\"] < split_date_test][\"date\"],\n        y=df_withoutevents[df_withoutevents[\"date\"] < split_date_test][demand_column],\n        name=\"y_training\",\n        mode=\"lines+markers\",\n    )\n)\n\nfig.add_trace(\n    go.Scatter(\n        x=df_withoutevents[df_withoutevents[\"date\"] >= split_date_test][\"date\"],\n        y=y_prediction_withoutevents,\n        name=\"y_prediction_no_events\",\n        mode=\"lines+markers\",\n    )\n)\n\nfig.add_trace(\n    go.Scatter(\n        x=df_withoutevents[df_withoutevents[\"date\"] >= split_date_test][\"date\"],\n        y=df_withoutevents[df_withoutevents[\"date\"] >= split_date_test][demand_column],\n        name=\"y_truth\",\n        mode=\"lines+markers\",\n    )\n)\nfig.add_trace(\n    go.Scatter(\n        x=df[df[\"date\"] >= split_date_test][\"date\"],\n        y=y_prediction,\n        name=\"y_prediction_withevents\",\n        mode=\"lines+markers\",\n    )\n)\n# Display the figure\nfig.show()",
   "execution_count": null,
   "outputs": []
  },
  {
   "cell_type": "markdown",
   "source": "### Model comparison based on Mean Absolute Error (MAE) and Root Mean Square Error (RMSE)",
   "metadata": {
    "cell_id": "00031-5b65c05e-a2ab-423f-aa58-e7ec6fe5a07f",
    "deepnote_cell_type": "markdown"
   }
  },
  {
   "cell_type": "code",
   "metadata": {
    "cell_id": "00032-a7b62e82-e63c-411e-b6a9-e049b513e042",
    "deepnote_to_be_reexecuted": true,
    "source_hash": "9e6a6001",
    "deepnote_cell_type": "code",
    "deepnote_cell_height": 565
   },
   "source": "from sklearn.metrics import mean_absolute_error, mean_squared_error\n\nMAE_model_withevents = mean_absolute_error(y_test, y_prediction)\nMAE_model_no_events = mean_absolute_error(\n    y_test_withoutevents, y_prediction_withoutevents\n)\nMAE_Model_improvement = (\n    (MAE_model_no_events - MAE_model_withevents) / MAE_model_no_events * 100\n)\n\nRMSE_model_withevents = mean_squared_error(y_test, y_prediction, squared=False)\nRMSE_model_no_events = mean_squared_error(\n    y_test_withoutevents, y_prediction_withoutevents, squared=False\n)\nRMSE_Model_improvement = (\n    (RMSE_model_no_events - RMSE_model_withevents) / RMSE_model_no_events * 100\n)\n\nprint(f\"MAE for forecasting with events is {MAE_model_withevents:.2f}\")\nprint(f\"MAE for forecasting without events is {MAE_model_no_events:.2f}\")\nprint(\n    f\"MAE improvement of having event features in a forecast model is {MAE_Model_improvement:.2f}%\"\n)\nprint(\" \")\nprint(f\"RMSE for forecasting with events is {RMSE_model_withevents:.2f}\")\nprint(f\"RMSE for forecasting without events is {RMSE_model_no_events:.2f}\")\nprint(\n    f\"RMSE improvement of having event features in a forecast model is {RMSE_Model_improvement:.2f}%\"\n)",
   "execution_count": null,
   "outputs": []
  }
 ],
 "nbformat": 4,
 "nbformat_minor": 4,
 "metadata": {
  "instance_type": "ml.t3.medium",
  "kernelspec": {
   "display_name": "Python 3 (Data Science)",
   "language": "python",
   "name": "python3__SAGEMAKER_INTERNAL__arn:aws:sagemaker:us-west-2:236514542706:image/datascience-1.0"
  },
  "language_info": {
   "codemirror_mode": {
    "name": "ipython",
    "version": 3
   },
   "file_extension": ".py",
   "mimetype": "text/x-python",
   "name": "python",
   "nbconvert_exporter": "python",
   "pygments_lexer": "ipython3",
   "version": "3.7.10"
  },
  "deepnote_notebook_id": "7e3fef21-ef71-41ef-89d4-d5ac0b7ac105",
  "deepnote": {},
  "deepnote_execution_queue": []
 }
}