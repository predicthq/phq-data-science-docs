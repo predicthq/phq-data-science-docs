{
 "cells": [
  {
   "cell_type": "markdown",
   "metadata": {},
   "source": [
    "<a href=\"https://colab.research.google.com/github/predicthq/phq-data-science-docs/blob/master/academic-events/part_1_data_engineering.ipynb\" target=\"_blank\"><img src=\"https://colab.research.google.com/assets/colab-badge.svg\" alt=\"Open In Colab\"/></a>"
   ]
  },
  {
   "cell_type": "markdown",
   "metadata": {},
   "source": [
    "##### Academic Events Data Science Guides\n",
    "\n",
    "# Part 1: Data Engineering\n",
    "\n",
    "PredictHQ Academic Events data is event data related to Colleges and Universities.\n",
    "\n",
    "This *How to Series* allows you to quickly extract the data (Part 1), explore the data (Part 2) and experiment with different aggregations (Part 3).\n",
    "\n",
    "The Academic Events Category Documentation provides more information about the category https://docs.predicthq.com/categoryinfo/attended-events/#academic-events.\n",
    "\n",
    "<b>This How to Guide, Part 1, is how to extract data from PredictHQ's Academic Events and covers:</b>\n",
    "\n",
    "- [Setup](#setup)\n",
    "- [Access Token](#access_token)\n",
    "- [Support Functions](#support_functions)\n",
    "- [SDK Parameters](#sdk_parameters)\n",
    "- [SDK Call](#sdk_call)\n",
    "- [Output Dataframe](#output_dataframe)\n",
    "- [Appendix - Finding Place ID](#appendix)"
   ]
  },
  {
   "cell_type": "markdown",
   "metadata": {},
   "source": [
    "<a id='setup'></a>\n",
    "## Setup"
   ]
  },
  {
   "cell_type": "markdown",
   "metadata": {},
   "source": [
    "If using Google Colab uncomment the following code block."
   ]
  },
  {
   "cell_type": "code",
   "execution_count": 1,
   "metadata": {},
   "outputs": [],
   "source": [
    "# %%capture\n",
    "# !git clone https://github.com/predicthq/phq-data-science-docs.git\n",
    "# %cd phq-data-science-docs/academic-events\n",
    "# !pip install predicthq>=1.6.3 timezonefinder"
   ]
  },
  {
   "cell_type": "markdown",
   "metadata": {},
   "source": [
    "If running locally, configure the required dependencies in your Python environment by using the [requirements.txt](https://github.com/predicthq/phq-data-science-docs/blob/master/academic-events/requirements.txt) file which is shared alongside the notebook.\n",
    "\n",
    "These requirements can be installed by runing the command `pip install -r requirements.txt`"
   ]
  },
  {
   "cell_type": "code",
   "execution_count": 5,
   "metadata": {},
   "outputs": [],
   "source": [
    "import pandas as pd\n",
    "from datetime import datetime\n",
    "from datetime import timedelta\n",
    "from timezonefinder import TimezoneFinder\n",
    "import pytz\n",
    "\n",
    "from predicthq import Client\n",
    "import requests"
   ]
  },
  {
   "cell_type": "markdown",
   "metadata": {},
   "source": [
    "<a id='access_token'></a>\n",
    "## Access Token\n",
    "\n",
    "To query the API, you will need an access token. \n",
    "\n",
    "The following link will guide you through creating an account and access token. \n",
    "\n",
    " - https://docs.predicthq.com/guides/quickstart/"
   ]
  },
  {
   "cell_type": "code",
   "execution_count": 32,
   "metadata": {},
   "outputs": [],
   "source": [
    "# Replace Access Token with own access token.\n",
    "ACCESS_TOKEN = '<REPLACE WITH YOUR ACCESS TOKEN>'\n",
    "phq = Client(access_token=ACCESS_TOKEN)"
   ]
  },
  {
   "cell_type": "markdown",
   "metadata": {},
   "source": [
    "<a id='support_functions'></a>\n",
    "## Support Functions\n",
    "\n",
    "We recommend creating four additional features from the raw data:\n",
    "\n",
    "#### 1) Sub-category (sub_category)\n",
    "        Each event is assigned into one of 5 sub categories that apply to academic events. \n",
    "        \n",
    "        -holiday\n",
    "        -academic-session\n",
    "        -exam\n",
    "        -graduation\n",
    "        -social\n",
    "        \n",
    "Unlike PredictHQ event categories of school holidays or public holidays, academic holiday events have an associated attendance. This represents the full time undergraduate population that will be on holiday. The Academic Events holiday is associated with a more specific location. Its location represents the campus that students are on holiday from. Holidays in the academic events category are therefore likely to represent decremental demand in these locations.\n",
    "\n",
    "#### 2) Session Type (session_type)\n",
    "    This summarises whether the event is attended physically, virtually or both.\n",
    "    The three options for this field are:\n",
    "    \n",
    "        -in-person session\n",
    "        -online session \n",
    "        -hybrid session\n",
    "        \n",
    "The attendance numbers for these sessions are already adjusted to take account of hybrid or online sessions. The attendance figures still represent the physical attendance figures.  \n",
    "        \n",
    "#### 3) Estimated (estimated)\n",
    "Events are added when the academic calendar is released. For recurrent events, these can be estimated in advance of the official calendar release. Estimated events have an 'estimate' label applied. Estimated events can also apply to historic events where the event was added to our system but official historic calendars are not available. This field mainly applies to academic sessions and holidays.\n",
    "\n",
    "#### 4) On Campus (on_campus)\n",
    "        Not all events occur on campus.\n",
    "        Calculation logic.\n",
    "            - All holidays are classed as off campus\n",
    "            \n",
    "As online and hybrid session attendance figures have already been adjusted to only include the number of students physically attending, these events are assigned as on campus."
   ]
  },
  {
   "cell_type": "code",
   "execution_count": 17,
   "metadata": {},
   "outputs": [],
   "source": [
    "def extract_matching_label(event_labels, labels_to_match):\n",
    "    ''' For each event labels need to be\n",
    "    extracted. These labels are extracted from the labels.\n",
    "    As the order of the labels varies this look up is\n",
    "    required to compare to the frozenset of options.\n",
    "    '''\n",
    "    for label in labels_to_match:\n",
    "        if label in event_labels:\n",
    "            return label\n",
    "    return None\n",
    "\n",
    "\n",
    "SUB_CATEGORY = frozenset([\n",
    "                          'academic-session',\n",
    "                          'exam',\n",
    "                          'graduation',\n",
    "                          'holiday',\n",
    "                          'social',\n",
    "                          ])\n",
    "\n",
    "SESSION_TYPE = frozenset([\n",
    "                          'online-session',\n",
    "                          'hybrid-session',\n",
    "                         ])\n",
    "\n",
    "ESTIMATED = frozenset([\n",
    "                      'estimated',\n",
    "                      ])\n",
    "\n",
    "\n",
    "def extract_entity_name(row):\n",
    "    '''The entity represents the venue of the event\n",
    "    The name of the entity is required'''\n",
    "    if len(row['entities']) > 0:\n",
    "        return row['entities'][0]['name']\n",
    "    else:\n",
    "        return None"
   ]
  },
  {
   "cell_type": "markdown",
   "metadata": {},
   "source": [
    "<a id='sdk_parameters'></a>\n",
    "## SDK Parameters\n",
    "\n",
    "We will create a dictionary of notable parameters and walk through each of the settings to use in the SDK call. A full list of available parameters and details of the API be found in our API documentation https://docs.predicthq.com/resources/events/#search-events"
   ]
  },
  {
   "cell_type": "code",
   "execution_count": 18,
   "metadata": {},
   "outputs": [],
   "source": [
    " parameters_dict = dict()"
   ]
  },
  {
   "cell_type": "markdown",
   "metadata": {},
   "source": [
    "#### Location\n",
    "\n",
    "There are two options available to specify a location of interest:\n",
    "\n",
    " - place_id\n",
    "\n",
    " - radius @ latitude and longitude\n",
    "\n",
    "\n",
    "`location__place_id='place_id'` or `within='radiusmi@lat,long'`\n",
    "\n",
    "If you do not know the place_id for the location of interest you can apply a search using the API call in the [Appendix](#appendix).\n",
    "\n",
    "For the SDK call, you can specify your own location of interest. Here are four default locations to query as an example:\n",
    "\n",
    " - Austin, Texas: 4671654 or (30.2785, -97.7395)\n",
    " - Los Angeles, California: 5368361 or (34.0778, -118.3602)\n",
    " - Chicago, Illinois: 4887398 or (41.8048, -87.5871)\n",
    " - Tallahassee, Florida: 4174715 or (30.4420, -84.2845)\n"
   ]
  },
  {
   "cell_type": "code",
   "execution_count": 19,
   "metadata": {},
   "outputs": [],
   "source": [
    "parameters_dict.update(within='100mi@34.0778,-118.3602')\n",
    "\n",
    "# m - Meters.\n",
    "# km - Kilometers.\n",
    "# ft - Feet.\n",
    "# mi - Miles."
   ]
  },
  {
   "cell_type": "markdown",
   "metadata": {},
   "source": [
    "#### Time Limits \n",
    "\n",
    "Define the period of time for which events will be returned. Either start or active can be used. The start will search based on events that start within the time period given. The active will return all events that are active within the time period, even if these events started before the start of the time period.\n",
    " \n",
    "You could also use either of these parameters depending on your time period of interest:\n",
    "\n",
    "```gte - Greater than or equal.``` <br>\n",
    "```gt - Greater than.```<br>\n",
    "```lte - Less than or equal.```<br>\n",
    "```lt - Less than.```<br>\n",
    "\n",
    "\n",
    "```start__tz``` or ```active__tz``` allows you to set the timezone to align with the location of interest. If no timezone is provided, UTC is used as default. This can lead to missing events at the edge of your time period, where they may not fall within the date range based on UTC, but fall within the dates based on the local timezone.\n",
    "\n",
    "```parameters_dict.update(start__tz='America/Chicago')``` \n",
    "\n",
    "Sources to aid in finding the timezone (<a href=\"https://en.wikipedia.org/wiki/List_of_tz_database_time_zones\">tz database</a>)."
   ]
  },
  {
   "cell_type": "code",
   "execution_count": 20,
   "metadata": {},
   "outputs": [],
   "source": [
    "# Set your chosen start and end date.\n",
    "START_DATE = '2019-01-01'\n",
    "END_DATE = '2021-12-14'\n",
    "parameters_dict.update(active__gte=START_DATE, active__lte=END_DATE) \n",
    "# parameters_dict.update(start__gte=START_DATE, start__lte=END_DATE)  # Alternative use of start"
   ]
  },
  {
   "cell_type": "code",
   "execution_count": 21,
   "metadata": {},
   "outputs": [
    {
     "name": "stdout",
     "output_type": "stream",
     "text": [
      "America/Los_Angeles\n"
     ]
    }
   ],
   "source": [
    "# timezonefinder will help to easily find a timezone from lat long.\n",
    "timezone = TimezoneFinder().timezone_at(lat=34.0778, lng=-118.3602)\n",
    "print(timezone)"
   ]
  },
  {
   "cell_type": "code",
   "execution_count": 22,
   "metadata": {},
   "outputs": [],
   "source": [
    "parameters_dict.update(active__tz='America/Los_Angeles')"
   ]
  },
  {
   "cell_type": "markdown",
   "metadata": {},
   "source": [
    "#### Category\n",
    "\n",
    "These notebooks only relate to the 'academic' category. For other categories please see the relevant documentation. "
   ]
  },
  {
   "cell_type": "code",
   "execution_count": 23,
   "metadata": {},
   "outputs": [],
   "source": [
    "parameters_dict.update(category=['academic']) "
   ]
  },
  {
   "cell_type": "markdown",
   "metadata": {},
   "source": [
    "#### Limits  `limit=500`\n",
    "\n",
    " - When pulling historical data for a large time period many results are returned. To speed up the execution set ```limit``` to the highest available setting (500). By doing this each call to the API returns 500 results and this will generally speed up the time to retrieve large datasets."
   ]
  },
  {
   "cell_type": "code",
   "execution_count": 24,
   "metadata": {},
   "outputs": [],
   "source": [
    "parameters_dict.update(limit=500) "
   ]
  },
  {
   "cell_type": "code",
   "execution_count": 25,
   "metadata": {},
   "outputs": [
    {
     "data": {
      "text/plain": [
       "{'within': '100mi@34.0778,-118.3602',\n",
       " 'active__gte': '2019-01-01',\n",
       " 'active__lte': '2021-12-14',\n",
       " 'active__tz': 'America/Los_Angeles',\n",
       " 'category': ['academic'],\n",
       " 'limit': 500}"
      ]
     },
     "execution_count": 25,
     "metadata": {},
     "output_type": "execute_result"
    }
   ],
   "source": [
    "# For example:\n",
    "parameters_dict"
   ]
  },
  {
   "cell_type": "markdown",
   "metadata": {},
   "source": [
    "<a id='sdk_call'></a>\n",
    "## SDK Call"
   ]
  },
  {
   "cell_type": "markdown",
   "metadata": {},
   "source": [
    "Loop through the call to the API for each location of interest.\n",
    "\n",
    "The data for each location is saved to csv as an example output. This can be adjusted to work with your own data pipeline."
   ]
  },
  {
   "cell_type": "code",
   "execution_count": 30,
   "metadata": {},
   "outputs": [],
   "source": [
    "# To run for your own location of interest.\n",
    "# Either replace list of place ids.\n",
    "# Or replace list of lat and long.\n",
    "LIST_OF_PLACEID = [4671654 , 5368361, 4887398, 4174715]\n",
    "LIST_OF_LAT_LONG = [['30.2785', '-97.7395'],\n",
    "                    ['34.0778', '-118.3602'],\n",
    "                    ['41.8048', '-87.5871'],\n",
    "                    ['30.4420', '-84.2845']]\n",
    "TIMEZONES = [ 'America/Chicago',\n",
    "             'America/Los_Angeles',\n",
    "            'America/Chicago',\n",
    "            'America/New_York'\n",
    "            ]\n",
    "\n",
    "START_DATE = '2019-01-01'\n",
    "END_DATE = '2021-01-01'\n",
    "# unit can be changed (currently set to miles)\n",
    "RADIUS = 10"
   ]
  },
  {
   "cell_type": "markdown",
   "metadata": {},
   "source": [
    "In the following example: Uncomment or comment appropriately if using place_ids."
   ]
  },
  {
   "cell_type": "code",
   "execution_count": 31,
   "metadata": {},
   "outputs": [],
   "source": [
    "# Define API parameters.\n",
    "parameters_dict = dict()\n",
    "parameters_dict.update(active__gte=START_DATE, active__lte=END_DATE) \n",
    "parameters_dict.update(category=['academic']) \n",
    "parameters_dict.update(limit=500) \n",
    "\n",
    "# Loop through each location of interest.\n",
    "# Example code is provide to either loop through LIST_OF_PLACEID or LIST_OF_LAT_LONG.\n",
    "#for timezone, place_id in zip(TIMEZONES, LIST_OF_PLACEID):  # uncomment/comment as required. \n",
    "for timezone, lat_long in zip(TIMEZONES, LIST_OF_LAT_LONG): # uncomment/comment as required. \n",
    "    \n",
    "    #parameters_dict.update(place__scope=place_id)  # uncomment/comment as required.  \n",
    "    parameters_dict.update(within='{}mi@{},{}'.format(RADIUS,\n",
    "                                                      lat_long[0],\n",
    "                                                      lat_long[1]))  # uncomment/comment as required. \n",
    "   \n",
    "    # If time zones are unknown comment out this line and revert to UTC.\n",
    "    parameters_dict.update(active__tz=timezone)\n",
    "    \n",
    "    search_results = phq.events.search(**parameters_dict).iter_all()\n",
    "\n",
    "    search_results = [result.to_dict() for result in search_results]\n",
    "\n",
    "    df = pd.DataFrame(search_results)\n",
    "\n",
    "    df['entity_name'] = df.apply(extract_entity_name, axis=1)\n",
    "\n",
    "    df[['longitude', 'latitude']] = pd.DataFrame(df.location.tolist())\n",
    "\n",
    "    # Create a list of unique entities.\n",
    "    df_entities = df.drop_duplicates('entity_name')\n",
    "    df_entities = df_entities[['entity_name',\n",
    "                               'latitude',\n",
    "                               'longitude']]\n",
    "\n",
    "\n",
    "    df['sub_category'] = df.labels.apply(extract_matching_label,\n",
    "                                         args=(SUB_CATEGORY, ))\n",
    "    df['session_type'] = df.labels.apply(extract_matching_label,\n",
    "                                         args=(SESSION_TYPE, ))\n",
    "    df['estimated'] = df.labels.apply(extract_matching_label,\n",
    "                                      args=(ESTIMATED, ))\n",
    "\n",
    "    # fill non-specified session_type with in-person\n",
    "    df['session_type'].fillna('in-person', inplace=True)\n",
    "    # fill non-specified estimated with scheduled\n",
    "    df['estimated'].fillna('not_estimated', inplace=True)\n",
    "    \n",
    "    # Where events are missing attendance fill with 0. \n",
    "    # PredictHQ aims to have attendance for all events. \n",
    "    # This assumption can be changed depending on your use case. (mean by subcategory or location)\n",
    "    df['phq_attendance'].fillna(0, inplace=True)\n",
    "\n",
    "    # If holiday then off campus\n",
    "    df.loc[df['sub_category'] == 'holiday', 'on_campus'] = False\n",
    "    df['on_campus'].fillna(True, inplace=True)\n",
    "\n",
    "    # Naming functionality\n",
    "    if 'within' in parameters_dict:\n",
    "        file_name = ('radius_{}_{}_{}_{}_{}'\n",
    "                    .format(RADIUS,\n",
    "                            lat_long[0],\n",
    "                            lat_long[1],\n",
    "                            START_DATE,\n",
    "                            END_DATE)\n",
    "                     )      \n",
    "    else:\n",
    "        file_name = 'place_ids_{}_{}_{}'.format(place_id,\n",
    "                                                START_DATE,\n",
    "                                                END_DATE)\n",
    "\n",
    "    df.to_csv('data/{}.csv'.format(file_name),\n",
    "              index=False)\n",
    "    "
   ]
  },
  {
   "cell_type": "markdown",
   "metadata": {},
   "source": [
    "The returned data is at the event level. In Part 2, of this *How to Series* we will explore this data to understand the key trends. In Part 3, we'll prepare features to be used in a forecasting model."
   ]
  },
  {
   "cell_type": "markdown",
   "metadata": {},
   "source": [
    "<a id='output_dataframe'></a>\n",
    "## Output Dataframe\n"
   ]
  },
  {
   "cell_type": "code",
   "execution_count": 25,
   "metadata": {},
   "outputs": [
    {
     "data": {
      "text/html": [
       "<div>\n",
       "<style scoped>\n",
       "    .dataframe tbody tr th:only-of-type {\n",
       "        vertical-align: middle;\n",
       "    }\n",
       "\n",
       "    .dataframe tbody tr th {\n",
       "        vertical-align: top;\n",
       "    }\n",
       "\n",
       "    .dataframe thead th {\n",
       "        text-align: right;\n",
       "    }\n",
       "</style>\n",
       "<table border=\"1\" class=\"dataframe\">\n",
       "  <thead>\n",
       "    <tr style=\"text-align: right;\">\n",
       "      <th></th>\n",
       "      <th>id</th>\n",
       "      <th>title</th>\n",
       "      <th>description</th>\n",
       "      <th>start</th>\n",
       "      <th>end</th>\n",
       "      <th>timezone</th>\n",
       "      <th>duration</th>\n",
       "      <th>category</th>\n",
       "      <th>labels</th>\n",
       "      <th>country</th>\n",
       "      <th>...</th>\n",
       "      <th>updated</th>\n",
       "      <th>deleted_reason</th>\n",
       "      <th>duplicate_of_id</th>\n",
       "      <th>entity_name</th>\n",
       "      <th>longitude</th>\n",
       "      <th>latitude</th>\n",
       "      <th>sub_category</th>\n",
       "      <th>session_type</th>\n",
       "      <th>estimated</th>\n",
       "      <th>on_campus</th>\n",
       "    </tr>\n",
       "  </thead>\n",
       "  <tbody>\n",
       "    <tr>\n",
       "      <th>0</th>\n",
       "      <td>2LGRhd4ZTAHFtdTysF</td>\n",
       "      <td>Summer Session</td>\n",
       "      <td></td>\n",
       "      <td>2021-05-10 04:00:00+00:00</td>\n",
       "      <td>2021-07-31 03:59:59+00:00</td>\n",
       "      <td>America/New_York</td>\n",
       "      <td>7084799</td>\n",
       "      <td>academic</td>\n",
       "      <td>[academic, academic-session, hybrid-session]</td>\n",
       "      <td>US</td>\n",
       "      <td>...</td>\n",
       "      <td>2021-01-26 04:26:47+00:00</td>\n",
       "      <td>None</td>\n",
       "      <td>None</td>\n",
       "      <td>Florida Agricultural and Mechanical University</td>\n",
       "      <td>-84.285131</td>\n",
       "      <td>30.426857</td>\n",
       "      <td>academic-session</td>\n",
       "      <td>hybrid-session</td>\n",
       "      <td>not_estimated</td>\n",
       "      <td>True</td>\n",
       "    </tr>\n",
       "    <tr>\n",
       "      <th>1</th>\n",
       "      <td>ZGxD9mFQPQ39afjCxJ</td>\n",
       "      <td>Summer Session</td>\n",
       "      <td></td>\n",
       "      <td>2021-05-10 04:00:00+00:00</td>\n",
       "      <td>2021-07-31 03:59:59+00:00</td>\n",
       "      <td>America/New_York</td>\n",
       "      <td>7084799</td>\n",
       "      <td>academic</td>\n",
       "      <td>[academic, academic-session, hybrid-session]</td>\n",
       "      <td>US</td>\n",
       "      <td>...</td>\n",
       "      <td>2021-02-22 03:38:58+00:00</td>\n",
       "      <td>None</td>\n",
       "      <td>None</td>\n",
       "      <td>Florida State University</td>\n",
       "      <td>-84.298489</td>\n",
       "      <td>30.441878</td>\n",
       "      <td>academic-session</td>\n",
       "      <td>hybrid-session</td>\n",
       "      <td>not_estimated</td>\n",
       "      <td>True</td>\n",
       "    </tr>\n",
       "  </tbody>\n",
       "</table>\n",
       "<p>2 rows × 31 columns</p>\n",
       "</div>"
      ],
      "text/plain": [
       "                   id           title description                     start  \\\n",
       "0  2LGRhd4ZTAHFtdTysF  Summer Session             2021-05-10 04:00:00+00:00   \n",
       "1  ZGxD9mFQPQ39afjCxJ  Summer Session             2021-05-10 04:00:00+00:00   \n",
       "\n",
       "                        end          timezone  duration  category  \\\n",
       "0 2021-07-31 03:59:59+00:00  America/New_York   7084799  academic   \n",
       "1 2021-07-31 03:59:59+00:00  America/New_York   7084799  academic   \n",
       "\n",
       "                                         labels country  ...  \\\n",
       "0  [academic, academic-session, hybrid-session]      US  ...   \n",
       "1  [academic, academic-session, hybrid-session]      US  ...   \n",
       "\n",
       "                    updated deleted_reason duplicate_of_id  \\\n",
       "0 2021-01-26 04:26:47+00:00           None            None   \n",
       "1 2021-02-22 03:38:58+00:00           None            None   \n",
       "\n",
       "                                      entity_name  longitude   latitude  \\\n",
       "0  Florida Agricultural and Mechanical University -84.285131  30.426857   \n",
       "1                        Florida State University -84.298489  30.441878   \n",
       "\n",
       "       sub_category    session_type      estimated on_campus  \n",
       "0  academic-session  hybrid-session  not_estimated      True  \n",
       "1  academic-session  hybrid-session  not_estimated      True  \n",
       "\n",
       "[2 rows x 31 columns]"
      ]
     },
     "execution_count": 25,
     "metadata": {},
     "output_type": "execute_result"
    }
   ],
   "source": [
    "df.head(2)"
   ]
  },
  {
   "cell_type": "markdown",
   "metadata": {},
   "source": [
    "<a id='appendix'></a>\n",
    "## Appendix: Finding ```place_id``` "
   ]
  },
  {
   "cell_type": "markdown",
   "metadata": {},
   "source": [
    "Here is a guide on how to link between locations and ```place_id```. Here the ```location``` could be a city, a state, a country or a continent. \n",
    "\n",
    " - Query ```place_id``` based on ```location```\n",
    " - Query ```place_hierarchies``` based on ```latitude, longitude```\n",
    " - Query ```location``` based on ```place_id```\n",
    "\n",
    "The full list of parameters you could use in your query is documents at our [Places API page] (https://docs.predicthq.com/resources/places/).<br>PredictHQ uses the geonames places convention https://www.geonames.org/ "
   ]
  },
  {
   "cell_type": "markdown",
   "metadata": {},
   "source": [
    "#### 1) Query ```place_id``` based on ```location```\n",
    "\n",
    "By using PredictHQ Places API, you can find the ```place_id``` for a specific ```location```. By calling the API and setting ```q``` to ```location```, the API will return the most relevant ```place_id```. Taking the top ```place_id``` will provide the most relevant ```place_id``` the ```location``` is in."
   ]
  },
  {
   "cell_type": "code",
   "execution_count": 16,
   "metadata": {},
   "outputs": [],
   "source": [
    "# Example locations.\n",
    "locations = [\"Los Angeles\", \"California\", \"United States\", \"North America\"]\n",
    "\n",
    "place_id_lookup = pd.DataFrame()\n",
    "\n",
    "for location in locations:\n",
    "    response = requests.get(\n",
    "        url=\"https://api.predicthq.com/v1/places/\",\n",
    "        headers={\n",
    "            \"Authorization\": \"Bearer {}\".format(ACCESS_TOKEN),\n",
    "            \"Accept\": \"application/json\",\n",
    "        },\n",
    "        params={\"q\": location},\n",
    "    )\n",
    "\n",
    "    data = response.json()\n",
    "    df = pd.json_normalize(data[\"results\"])\n",
    "    place_id_lookup = place_id_lookup.append(df.iloc[0], ignore_index=True)"
   ]
  },
  {
   "cell_type": "code",
   "execution_count": 17,
   "metadata": {},
   "outputs": [
    {
     "data": {
      "text/html": [
       "<div>\n",
       "<style scoped>\n",
       "    .dataframe tbody tr th:only-of-type {\n",
       "        vertical-align: middle;\n",
       "    }\n",
       "\n",
       "    .dataframe tbody tr th {\n",
       "        vertical-align: top;\n",
       "    }\n",
       "\n",
       "    .dataframe thead th {\n",
       "        text-align: right;\n",
       "    }\n",
       "</style>\n",
       "<table border=\"1\" class=\"dataframe\">\n",
       "  <thead>\n",
       "    <tr style=\"text-align: right;\">\n",
       "      <th></th>\n",
       "      <th>id</th>\n",
       "      <th>name</th>\n",
       "      <th>type</th>\n",
       "    </tr>\n",
       "  </thead>\n",
       "  <tbody>\n",
       "    <tr>\n",
       "      <th>0</th>\n",
       "      <td>5368361</td>\n",
       "      <td>Los Angeles</td>\n",
       "      <td>locality</td>\n",
       "    </tr>\n",
       "    <tr>\n",
       "      <th>1</th>\n",
       "      <td>5332921</td>\n",
       "      <td>California</td>\n",
       "      <td>region</td>\n",
       "    </tr>\n",
       "    <tr>\n",
       "      <th>2</th>\n",
       "      <td>6252001</td>\n",
       "      <td>United States</td>\n",
       "      <td>country</td>\n",
       "    </tr>\n",
       "    <tr>\n",
       "      <th>3</th>\n",
       "      <td>6255149</td>\n",
       "      <td>North America</td>\n",
       "      <td>continent</td>\n",
       "    </tr>\n",
       "  </tbody>\n",
       "</table>\n",
       "</div>"
      ],
      "text/plain": [
       "        id           name       type\n",
       "0  5368361    Los Angeles   locality\n",
       "1  5332921     California     region\n",
       "2  6252001  United States    country\n",
       "3  6255149  North America  continent"
      ]
     },
     "execution_count": 17,
     "metadata": {},
     "output_type": "execute_result"
    }
   ],
   "source": [
    "place_id_lookup[[\"id\", \"name\", \"type\"]]"
   ]
  },
  {
   "cell_type": "markdown",
   "metadata": {},
   "source": [
    "#### 2) Query ```place_hierarchies``` based on ```latitude, longitude```\n",
    "\n",
    "By using PredictHQ Places Hierarchies API, you can find the  ```place_hierarchies``` for a specific ```latitude, longitude```. By calling the API and setting ```location.origin``` to ```latitude, longitude```, the API will return the most relevant ```place_hierarchies```."
   ]
  },
  {
   "cell_type": "code",
   "execution_count": 18,
   "metadata": {},
   "outputs": [],
   "source": [
    "# Example locations.\n",
    "latitude_longitudes = [[34.07, -118.25]]\n",
    "\n",
    "place_hierarchies_lookup = pd.DataFrame()\n",
    "\n",
    "for latitude_longitude in latitude_longitudes:\n",
    "    latitude, longitude = latitude_longitude\n",
    "    response = requests.get(\n",
    "        url=\"https://api.predicthq.com/v1/places/hierarchies\",\n",
    "        headers={\n",
    "            \"Authorization\": \"Bearer {}\".format(ACCESS_TOKEN),\n",
    "            \"Accept\": \"application/json\",\n",
    "        },\n",
    "        params={\"location.origin\": f\"{latitude},{longitude}\"},\n",
    "    )\n",
    "\n",
    "    data = response.json()\n",
    "    df = pd.DataFrame(data)\n",
    "    df[\"latitude\"] = latitude\n",
    "    df[\"longitude\"] = longitude\n",
    "    place_hierarchies_lookup = place_hierarchies_lookup.append(df, ignore_index=True)"
   ]
  },
  {
   "cell_type": "code",
   "execution_count": 19,
   "metadata": {},
   "outputs": [
    {
     "data": {
      "text/html": [
       "<div>\n",
       "<style scoped>\n",
       "    .dataframe tbody tr th:only-of-type {\n",
       "        vertical-align: middle;\n",
       "    }\n",
       "\n",
       "    .dataframe tbody tr th {\n",
       "        vertical-align: top;\n",
       "    }\n",
       "\n",
       "    .dataframe thead th {\n",
       "        text-align: right;\n",
       "    }\n",
       "</style>\n",
       "<table border=\"1\" class=\"dataframe\">\n",
       "  <thead>\n",
       "    <tr style=\"text-align: right;\">\n",
       "      <th></th>\n",
       "      <th>place_hierarchies</th>\n",
       "      <th>latitude</th>\n",
       "      <th>longitude</th>\n",
       "    </tr>\n",
       "  </thead>\n",
       "  <tbody>\n",
       "    <tr>\n",
       "      <th>0</th>\n",
       "      <td>[6295630, 6255149, 6252001, 5332921, 5368381, ...</td>\n",
       "      <td>34.07</td>\n",
       "      <td>-118.25</td>\n",
       "    </tr>\n",
       "    <tr>\n",
       "      <th>1</th>\n",
       "      <td>[6295630, 6255149, 6252001, 5332921, 5368381, ...</td>\n",
       "      <td>34.07</td>\n",
       "      <td>-118.25</td>\n",
       "    </tr>\n",
       "  </tbody>\n",
       "</table>\n",
       "</div>"
      ],
      "text/plain": [
       "                                   place_hierarchies  latitude  longitude\n",
       "0  [6295630, 6255149, 6252001, 5332921, 5368381, ...     34.07    -118.25\n",
       "1  [6295630, 6255149, 6252001, 5332921, 5368381, ...     34.07    -118.25"
      ]
     },
     "execution_count": 19,
     "metadata": {},
     "output_type": "execute_result"
    }
   ],
   "source": [
    "place_hierarchies_lookup"
   ]
  },
  {
   "cell_type": "markdown",
   "metadata": {},
   "source": [
    "For each ```latitude, longitude```, the response might include more than one hierarchy. The reason for this is to match the closest place's hierarchy but we also include the closest major city's hierarchy within a radius of 50km. This only applies if the level is below region and, if it exists, the major city's hierarchy will always be the second row of the DataFrame."
   ]
  },
  {
   "cell_type": "markdown",
   "metadata": {},
   "source": [
    "#### 3) Query ```location``` based on ```place_id```\n",
    "\n",
    "By using PredictHQ Places API, you can find the ```location``` for a specific ```place_id```. By calling the API and setting ```id``` to ```place_id```, the API will return the most relevant ```location```. Taking the top ```location``` will provide the most relevant ```location``` the ```place_id``` is in."
   ]
  },
  {
   "cell_type": "code",
   "execution_count": 20,
   "metadata": {},
   "outputs": [],
   "source": [
    "# Example locations.\n",
    "place_ids = [\"6295630\", \"6255148\", \"2510769\", \"2513413\"]\n",
    "\n",
    "location_lookup = pd.DataFrame()\n",
    "\n",
    "for place_id in place_ids:\n",
    "    response = requests.get(\n",
    "        url=\"https://api.predicthq.com/v1/places/\",\n",
    "        headers={\n",
    "            \"Authorization\": \"Bearer {}\".format(ACCESS_TOKEN),\n",
    "            \"Accept\": \"application/json\",\n",
    "        },\n",
    "        # The id could be a comma-separated list of place_ids. In this example, the\n",
    "        # events are queried based on each place_id.\n",
    "        params={\"id\": place_id},\n",
    "    )\n",
    "\n",
    "    data = response.json()\n",
    "    df = pd.json_normalize(data[\"results\"])\n",
    "    location_lookup = location_lookup.append(df.iloc[0], ignore_index=True)"
   ]
  },
  {
   "cell_type": "code",
   "execution_count": 21,
   "metadata": {},
   "outputs": [
    {
     "data": {
      "text/html": [
       "<div>\n",
       "<style scoped>\n",
       "    .dataframe tbody tr th:only-of-type {\n",
       "        vertical-align: middle;\n",
       "    }\n",
       "\n",
       "    .dataframe tbody tr th {\n",
       "        vertical-align: top;\n",
       "    }\n",
       "\n",
       "    .dataframe thead th {\n",
       "        text-align: right;\n",
       "    }\n",
       "</style>\n",
       "<table border=\"1\" class=\"dataframe\">\n",
       "  <thead>\n",
       "    <tr style=\"text-align: right;\">\n",
       "      <th></th>\n",
       "      <th>id</th>\n",
       "      <th>name</th>\n",
       "      <th>type</th>\n",
       "    </tr>\n",
       "  </thead>\n",
       "  <tbody>\n",
       "    <tr>\n",
       "      <th>0</th>\n",
       "      <td>6295630</td>\n",
       "      <td>Earth</td>\n",
       "      <td>planet</td>\n",
       "    </tr>\n",
       "    <tr>\n",
       "      <th>1</th>\n",
       "      <td>6255148</td>\n",
       "      <td>Europe</td>\n",
       "      <td>continent</td>\n",
       "    </tr>\n",
       "    <tr>\n",
       "      <th>2</th>\n",
       "      <td>2510769</td>\n",
       "      <td>Spain</td>\n",
       "      <td>country</td>\n",
       "    </tr>\n",
       "    <tr>\n",
       "      <th>3</th>\n",
       "      <td>2513413</td>\n",
       "      <td>Murcia</td>\n",
       "      <td>region</td>\n",
       "    </tr>\n",
       "  </tbody>\n",
       "</table>\n",
       "</div>"
      ],
      "text/plain": [
       "        id    name       type\n",
       "0  6295630   Earth     planet\n",
       "1  6255148  Europe  continent\n",
       "2  2510769   Spain    country\n",
       "3  2513413  Murcia     region"
      ]
     },
     "execution_count": 21,
     "metadata": {},
     "output_type": "execute_result"
    }
   ],
   "source": [
    "location_lookup[[\"id\", \"name\", \"type\"]]"
   ]
  }
 ],
 "metadata": {
  "kernelspec": {
   "display_name": "academic_notebook",
   "language": "python",
   "name": "academic_notebook"
  },
  "language_info": {
   "codemirror_mode": {
    "name": "ipython",
    "version": 3
   },
   "file_extension": ".py",
   "mimetype": "text/x-python",
   "name": "python",
   "nbconvert_exporter": "python",
   "pygments_lexer": "ipython3",
   "version": "3.8.5"
  }
 },
 "nbformat": 4,
 "nbformat_minor": 4
}