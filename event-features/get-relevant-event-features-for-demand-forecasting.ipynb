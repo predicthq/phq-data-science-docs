{
 "cells": [
  {
   "attachments": {},
   "cell_type": "markdown",
   "metadata": {},
   "source": [
    "# Prerequisites"
   ]
  },
  {
   "attachments": {},
   "cell_type": "markdown",
   "metadata": {},
   "source": [
    "Complete the following steps:\n",
    "\n",
    "1. Install `requirements.txt`\n",
    "2. Load necessary libraries and API URLs\n",
    "3. Replace `ACCESS_TOKEN` with a valid token (for help creating an access token, see [API Quickstart](https://docs.predicthq.com/getting-started/api-quickstart))"
   ]
  },
  {
   "cell_type": "code",
   "execution_count": 1,
   "metadata": {},
   "outputs": [],
   "source": [
    "# install requirements\n",
    "# %pip install --user -r requirements.txt"
   ]
  },
  {
   "cell_type": "code",
   "execution_count": 2,
   "metadata": {},
   "outputs": [],
   "source": [
    "# load libraries and API URLs\n",
    "import pandas as pd\n",
    "import numpy as np\n",
    "\n",
    "import requests\n",
    "from io import StringIO\n",
    "from functools import reduce\n",
    "\n",
    "import xgboost as xgb\n",
    "import plotly.graph_objects as go\n",
    "\n",
    "SUGGESTED_RADIUS_API_URL = \"https://api.predicthq.com/v1/suggested-radius\"\n",
    "BEAM_API_URL = \"https://api.predicthq.com/v1/beam\"\n",
    "FEATURES_API_URL = \"https://api.predicthq.com/v1/features\""
   ]
  },
  {
   "cell_type": "code",
   "execution_count": 3,
   "metadata": {},
   "outputs": [
    {
     "data": {
      "text/html": [
       "\n",
       "                <script type=\"application/javascript\" id=\"jupyter_black\">\n",
       "                (function() {\n",
       "                    if (window.IPython === undefined) {\n",
       "                        return\n",
       "                    }\n",
       "                    var msg = \"WARNING: it looks like you might have loaded \" +\n",
       "                        \"jupyter_black in a non-lab notebook with \" +\n",
       "                        \"`is_lab=True`. Please double check, and if \" +\n",
       "                        \"loading with `%load_ext` please review the README!\"\n",
       "                    console.log(msg)\n",
       "                    alert(msg)\n",
       "                })()\n",
       "                </script>\n",
       "                "
      ],
      "text/plain": [
       "<IPython.core.display.HTML object>"
      ]
     },
     "metadata": {},
     "output_type": "display_data"
    }
   ],
   "source": [
    "ACCESS_TOKEN = \"REPLACE_WITH_ACCESS_TOKEN\""
   ]
  },
  {
   "attachments": {},
   "cell_type": "markdown",
   "metadata": {},
   "source": [
    "# Gather data"
   ]
  },
  {
   "attachments": {},
   "cell_type": "markdown",
   "metadata": {},
   "source": [
    "The following are required when creating a new Analysis in Beam:\n",
    "\n",
    "1. Demand data: one csv file with columns for `date` and `demand` (see [here](https://docs.predicthq.com/api/beam/upload-demand-data#request-body) for more details)\n",
    "\n",
    "2. `lat`/`lon`: the coordinates of the location \n",
    "\n",
    "3. `industry`: the industry relevant to the location (see [here](https://docs.predicthq.com/api/beam/create-an-analysis#request-body) for more details)\n",
    "\n",
    "4. `analysis_name`: a user-created free-form string to reference the Analysis"
   ]
  },
  {
   "cell_type": "code",
   "execution_count": 4,
   "metadata": {},
   "outputs": [
    {
     "data": {
      "text/html": [
       "<div>\n",
       "<style scoped>\n",
       "    .dataframe tbody tr th:only-of-type {\n",
       "        vertical-align: middle;\n",
       "    }\n",
       "\n",
       "    .dataframe tbody tr th {\n",
       "        vertical-align: top;\n",
       "    }\n",
       "\n",
       "    .dataframe thead th {\n",
       "        text-align: right;\n",
       "    }\n",
       "</style>\n",
       "<table border=\"1\" class=\"dataframe\">\n",
       "  <thead>\n",
       "    <tr style=\"text-align: right;\">\n",
       "      <th></th>\n",
       "      <th>date</th>\n",
       "      <th>demand</th>\n",
       "    </tr>\n",
       "  </thead>\n",
       "  <tbody>\n",
       "    <tr>\n",
       "      <th>0</th>\n",
       "      <td>2017-01-09</td>\n",
       "      <td>8291.576677</td>\n",
       "    </tr>\n",
       "    <tr>\n",
       "      <th>1</th>\n",
       "      <td>2017-01-10</td>\n",
       "      <td>8629.401781</td>\n",
       "    </tr>\n",
       "    <tr>\n",
       "      <th>2</th>\n",
       "      <td>2017-01-11</td>\n",
       "      <td>7217.360816</td>\n",
       "    </tr>\n",
       "    <tr>\n",
       "      <th>3</th>\n",
       "      <td>2017-01-12</td>\n",
       "      <td>8404.744284</td>\n",
       "    </tr>\n",
       "    <tr>\n",
       "      <th>4</th>\n",
       "      <td>2017-01-13</td>\n",
       "      <td>8450.852853</td>\n",
       "    </tr>\n",
       "  </tbody>\n",
       "</table>\n",
       "</div>"
      ],
      "text/plain": [
       "         date       demand\n",
       "0  2017-01-09  8291.576677\n",
       "1  2017-01-10  8629.401781\n",
       "2  2017-01-11  7217.360816\n",
       "3  2017-01-12  8404.744284\n",
       "4  2017-01-13  8450.852853"
      ]
     },
     "execution_count": 4,
     "metadata": {},
     "output_type": "execute_result"
    }
   ],
   "source": [
    "# define demand details\n",
    "DEMAND_FILE_PATH = \"data/restaurant_demand.csv\"\n",
    "LAT = \"40.74559\"\n",
    "LON = \"-73.99452\"\n",
    "INDUSTRY = \"restaurants\"\n",
    "ANALYSIS_NAME = \"restaurant_daily_demand_example\"\n",
    "\n",
    "# inspect demand file\n",
    "pd.read_csv(DEMAND_FILE_PATH).head()"
   ]
  },
  {
   "attachments": {},
   "cell_type": "markdown",
   "metadata": {},
   "source": [
    "# Step 1. Identify relevant event features with Beam"
   ]
  },
  {
   "cell_type": "code",
   "execution_count": 5,
   "metadata": {},
   "outputs": [],
   "source": [
    "def get_suggested_radius(\n",
    "    lat,\n",
    "    lon,\n",
    "    industry,\n",
    "    access_token=ACCESS_TOKEN,\n",
    "    suggested_radius_api_url=SUGGESTED_RADIUS_API_URL,\n",
    "):\n",
    "    \"\"\"\n",
    "    Get a suggested radius for a location.\n",
    "    \"\"\"\n",
    "    if industry not in [\"restaurants\", \"retail\", \"accommodation\", \"parking\"]:\n",
    "        industry = \"other\"\n",
    "\n",
    "    url = suggested_radius_api_url\n",
    "    headers = {\"Authorization\": \"Bearer \" + access_token, \"Accept\": \"application/json\"}\n",
    "    params = {\n",
    "        \"location.origin\": f\"{lat},{lon}\",\n",
    "        \"industry\": industry,\n",
    "        \"radius_unit\": \"mi\",\n",
    "    }\n",
    "\n",
    "    response = requests.get(url=url, headers=headers, params=params)\n",
    "\n",
    "    return response.json()\n",
    "\n",
    "\n",
    "def create_beam_analysis_id(\n",
    "    lat,\n",
    "    lon,\n",
    "    industry,\n",
    "    analysis_name,\n",
    "    access_token=ACCESS_TOKEN,\n",
    "    beam_api_url=BEAM_API_URL,\n",
    "):\n",
    "    \"\"\"\n",
    "    Create a Beam Analysis ID for a location.\n",
    "    \"\"\"\n",
    "    suggested_radius = get_suggested_radius(lat, lon, industry)\n",
    "\n",
    "    url = f\"{beam_api_url}/analyses\"\n",
    "    headers = {\"Authorization\": \"Bearer \" + access_token, \"Accept\": \"application/json\"}\n",
    "    json = {\n",
    "        \"name\": analysis_name,\n",
    "        \"location\": {\n",
    "            \"geopoint\": {\n",
    "                \"lat\": lat,\n",
    "                \"lon\": lon,\n",
    "            },\n",
    "            \"radius\": suggested_radius[\"radius\"],\n",
    "            \"unit\": suggested_radius[\"radius_unit\"],\n",
    "        },\n",
    "        \"rank\": {\n",
    "            \"type\": \"phq\",\n",
    "        },\n",
    "        \"demand_type\": {\n",
    "            \"industry\": industry,\n",
    "        },\n",
    "    }\n",
    "\n",
    "    response = requests.post(url=url, headers=headers, json=json)\n",
    "\n",
    "    analysis_id = response.json()[\"analysis_id\"]\n",
    "    print(f\"{analysis_id} created\")\n",
    "\n",
    "    return analysis_id\n",
    "\n",
    "\n",
    "def upload_demand_to_beam(\n",
    "    demand_file_path, analysis_id, access_token=ACCESS_TOKEN, beam_api_url=BEAM_API_URL\n",
    "):\n",
    "    \"\"\"\n",
    "    Upload demand data for a Beam Analysis.\n",
    "    \"\"\"\n",
    "    url = f\"{beam_api_url}/analyses/{analysis_id}/sink\"\n",
    "    headers = {\"Authorization\": \"Bearer \" + access_token, \"Content-Type\": \"text/csv\"}\n",
    "\n",
    "    response = requests.post(url=url, headers=headers, data=open(demand_file_path))\n",
    "\n",
    "    if response.status_code == 202:\n",
    "        print(f\"{analysis_id} demand uploading...\")\n",
    "    else:\n",
    "        print(response.content)\n",
    "\n",
    "\n",
    "def get_analysis_status(\n",
    "    analysis_id, access_token=ACCESS_TOKEN, beam_api_url=BEAM_API_URL\n",
    "):\n",
    "    \"\"\"\n",
    "    Check status of a Beam Analysis.\n",
    "    \"\"\"\n",
    "    url = f\"{beam_api_url}/analyses/{analysis_id}\"\n",
    "    headers = {\"Authorization\": \"Bearer \" + access_token, \"Accept\": \"application/json\"}\n",
    "\n",
    "    response = requests.get(url=url, headers=headers)\n",
    "\n",
    "    print(f\"{analysis_id} status: {response.json()['readiness_status']}\")"
   ]
  },
  {
   "cell_type": "markdown",
   "metadata": {},
   "source": [
    "Refresh the following block until `status` is  `ready`."
   ]
  },
  {
   "cell_type": "code",
   "execution_count": 6,
   "metadata": {},
   "outputs": [
    {
     "name": "stdout",
     "output_type": "stream",
     "text": [
      "bEl8Tv3rPFg status: ready\n"
     ]
    }
   ],
   "source": [
    "# create a Beam Analysis ID and upload demand data\n",
    "if \"analysis_id\" not in globals():\n",
    "    analysis_id = create_beam_analysis_id(\n",
    "        lat=LAT,\n",
    "        lon=LON,\n",
    "        industry=INDUSTRY,\n",
    "        analysis_name=ANALYSIS_NAME,\n",
    "    )\n",
    "    upload_demand_to_beam(demand_file_path=DEMAND_FILE_PATH, analysis_id=analysis_id)\n",
    "\n",
    "get_analysis_status(analysis_id=analysis_id)"
   ]
  },
  {
   "cell_type": "markdown",
   "metadata": {},
   "source": [
    "# Step 2. Retrieve event features from Features API"
   ]
  },
  {
   "cell_type": "code",
   "execution_count": 7,
   "metadata": {},
   "outputs": [],
   "source": [
    "def post_process_rank_features(df):\n",
    "    \"\"\"\n",
    "    Post-process rank features.\n",
    "    \"\"\"\n",
    "    rank_feature_cols = [col for col in df.columns if \"phq_rank\" in col]\n",
    "    rank_features = list(\n",
    "        set(col.rsplit(\"_rank_levels_\", 1)[0] for col in rank_feature_cols)\n",
    "    )\n",
    "\n",
    "    for feature in rank_features:\n",
    "        related_columns = [col for col in rank_feature_cols if col.startswith(feature)]\n",
    "        df[f\"{feature}_stats_wsum\"] = sum(\n",
    "            df[col] * int(col.split(\"_rank_levels_\")[1]) for col in related_columns\n",
    "        )\n",
    "        df = df.drop(columns=related_columns)\n",
    "\n",
    "    return df\n",
    "\n",
    "\n",
    "def get_features(\n",
    "    analysis_id,\n",
    "    start,\n",
    "    end,\n",
    "    group_id=None,\n",
    "    access_token=ACCESS_TOKEN,\n",
    "    features_api_url=FEATURES_API_URL,\n",
    "):\n",
    "    \"\"\"\n",
    "    Fetch features from Features API for a Beam Analysis.\n",
    "    \"\"\"\n",
    "    url = features_api_url\n",
    "    headers = {\"Authorization\": \"Bearer \" + access_token, \"Accept\": \"text/csv\"}\n",
    "    beam_info = {\"analysis_id\": analysis_id}\n",
    "    if group_id is not None:\n",
    "        beam_info[\"group_id\"] = group_id\n",
    "    json = {\"beam\": beam_info, \"active\": {\"gte\": start, \"lte\": end}}\n",
    "\n",
    "    limit = 100\n",
    "    offset = 0\n",
    "    results = []\n",
    "\n",
    "    while True:\n",
    "        params = {\"limit\": limit, \"offset\": offset}\n",
    "\n",
    "        response = requests.post(url=url, headers=headers, json=json, params=params)\n",
    "        if not response.text.strip():\n",
    "            break\n",
    "        results.append(response.text)\n",
    "        offset += limit\n",
    "\n",
    "    df = pd.concat(\n",
    "        [pd.read_csv(StringIO(result), parse_dates=[\"date\"]) for result in results]\n",
    "    )\n",
    "    df = post_process_rank_features(df)\n",
    "\n",
    "    return df"
   ]
  },
  {
   "cell_type": "markdown",
   "metadata": {},
   "source": [
    "Set the desired date range to get relevant event features from Features API via the Beam `analysis_id`. Alternatively, add the `group_id` if the Analysis is part of a group and the relevant event features at the group level are of interest."
   ]
  },
  {
   "cell_type": "code",
   "execution_count": 8,
   "metadata": {},
   "outputs": [
    {
     "data": {
      "text/html": [
       "<div>\n",
       "<style scoped>\n",
       "    .dataframe tbody tr th:only-of-type {\n",
       "        vertical-align: middle;\n",
       "    }\n",
       "\n",
       "    .dataframe tbody tr th {\n",
       "        vertical-align: top;\n",
       "    }\n",
       "\n",
       "    .dataframe thead th {\n",
       "        text-align: right;\n",
       "    }\n",
       "</style>\n",
       "<table border=\"1\" class=\"dataframe\">\n",
       "  <thead>\n",
       "    <tr style=\"text-align: right;\">\n",
       "      <th></th>\n",
       "      <th>date</th>\n",
       "      <th>phq_attendance_school_holidays_stats_sum</th>\n",
       "      <th>phq_attendance_conferences_hospitality_stats_sum</th>\n",
       "      <th>phq_attendance_expos_hospitality_stats_sum</th>\n",
       "      <th>phq_attendance_festivals_hospitality_stats_sum</th>\n",
       "      <th>phq_attendance_performing_arts_hospitality_stats_sum</th>\n",
       "      <th>phq_impact_observances_hospitality_stats_max</th>\n",
       "      <th>phq_impact_public_holidays_hospitality_stats_max</th>\n",
       "      <th>phq_impact_severe_weather_air_quality_retail_stats_max</th>\n",
       "      <th>phq_impact_severe_weather_blizzard_retail_stats_max</th>\n",
       "      <th>...</th>\n",
       "      <th>phq_impact_severe_weather_cold_wave_snow_retail_stats_max</th>\n",
       "      <th>phq_impact_severe_weather_cold_wave_storm_retail_stats_max</th>\n",
       "      <th>phq_impact_severe_weather_dust_retail_stats_max</th>\n",
       "      <th>phq_impact_severe_weather_dust_storm_retail_stats_max</th>\n",
       "      <th>phq_impact_severe_weather_flood_retail_stats_max</th>\n",
       "      <th>phq_impact_severe_weather_heat_wave_retail_stats_max</th>\n",
       "      <th>phq_impact_severe_weather_hurricane_retail_stats_max</th>\n",
       "      <th>phq_impact_severe_weather_thunderstorm_retail_stats_max</th>\n",
       "      <th>phq_impact_severe_weather_tornado_retail_stats_max</th>\n",
       "      <th>phq_impact_severe_weather_tropical_storm_retail_stats_max</th>\n",
       "    </tr>\n",
       "  </thead>\n",
       "  <tbody>\n",
       "    <tr>\n",
       "      <th>0</th>\n",
       "      <td>2017-01-09</td>\n",
       "      <td>0</td>\n",
       "      <td>0</td>\n",
       "      <td>0</td>\n",
       "      <td>0</td>\n",
       "      <td>13383</td>\n",
       "      <td>0</td>\n",
       "      <td>0</td>\n",
       "      <td>0</td>\n",
       "      <td>0</td>\n",
       "      <td>...</td>\n",
       "      <td>0</td>\n",
       "      <td>0</td>\n",
       "      <td>0</td>\n",
       "      <td>0</td>\n",
       "      <td>0</td>\n",
       "      <td>0</td>\n",
       "      <td>0</td>\n",
       "      <td>0</td>\n",
       "      <td>0</td>\n",
       "      <td>0</td>\n",
       "    </tr>\n",
       "    <tr>\n",
       "      <th>1</th>\n",
       "      <td>2017-01-10</td>\n",
       "      <td>0</td>\n",
       "      <td>145</td>\n",
       "      <td>0</td>\n",
       "      <td>0</td>\n",
       "      <td>19597</td>\n",
       "      <td>0</td>\n",
       "      <td>0</td>\n",
       "      <td>0</td>\n",
       "      <td>0</td>\n",
       "      <td>...</td>\n",
       "      <td>0</td>\n",
       "      <td>0</td>\n",
       "      <td>0</td>\n",
       "      <td>0</td>\n",
       "      <td>0</td>\n",
       "      <td>0</td>\n",
       "      <td>0</td>\n",
       "      <td>0</td>\n",
       "      <td>0</td>\n",
       "      <td>0</td>\n",
       "    </tr>\n",
       "    <tr>\n",
       "      <th>2</th>\n",
       "      <td>2017-01-11</td>\n",
       "      <td>0</td>\n",
       "      <td>100</td>\n",
       "      <td>142</td>\n",
       "      <td>0</td>\n",
       "      <td>22086</td>\n",
       "      <td>0</td>\n",
       "      <td>0</td>\n",
       "      <td>0</td>\n",
       "      <td>0</td>\n",
       "      <td>...</td>\n",
       "      <td>0</td>\n",
       "      <td>0</td>\n",
       "      <td>0</td>\n",
       "      <td>0</td>\n",
       "      <td>0</td>\n",
       "      <td>0</td>\n",
       "      <td>0</td>\n",
       "      <td>0</td>\n",
       "      <td>0</td>\n",
       "      <td>0</td>\n",
       "    </tr>\n",
       "    <tr>\n",
       "      <th>3</th>\n",
       "      <td>2017-01-12</td>\n",
       "      <td>0</td>\n",
       "      <td>100</td>\n",
       "      <td>567</td>\n",
       "      <td>0</td>\n",
       "      <td>20406</td>\n",
       "      <td>9</td>\n",
       "      <td>0</td>\n",
       "      <td>0</td>\n",
       "      <td>0</td>\n",
       "      <td>...</td>\n",
       "      <td>0</td>\n",
       "      <td>0</td>\n",
       "      <td>0</td>\n",
       "      <td>0</td>\n",
       "      <td>0</td>\n",
       "      <td>0</td>\n",
       "      <td>0</td>\n",
       "      <td>0</td>\n",
       "      <td>0</td>\n",
       "      <td>0</td>\n",
       "    </tr>\n",
       "    <tr>\n",
       "      <th>4</th>\n",
       "      <td>2017-01-13</td>\n",
       "      <td>0</td>\n",
       "      <td>100</td>\n",
       "      <td>2833</td>\n",
       "      <td>0</td>\n",
       "      <td>24046</td>\n",
       "      <td>30</td>\n",
       "      <td>7</td>\n",
       "      <td>0</td>\n",
       "      <td>0</td>\n",
       "      <td>...</td>\n",
       "      <td>0</td>\n",
       "      <td>0</td>\n",
       "      <td>0</td>\n",
       "      <td>0</td>\n",
       "      <td>0</td>\n",
       "      <td>0</td>\n",
       "      <td>0</td>\n",
       "      <td>0</td>\n",
       "      <td>0</td>\n",
       "      <td>0</td>\n",
       "    </tr>\n",
       "  </tbody>\n",
       "</table>\n",
       "<p>5 rows × 21 columns</p>\n",
       "</div>"
      ],
      "text/plain": [
       "        date  phq_attendance_school_holidays_stats_sum  \\\n",
       "0 2017-01-09                                         0   \n",
       "1 2017-01-10                                         0   \n",
       "2 2017-01-11                                         0   \n",
       "3 2017-01-12                                         0   \n",
       "4 2017-01-13                                         0   \n",
       "\n",
       "   phq_attendance_conferences_hospitality_stats_sum  \\\n",
       "0                                                 0   \n",
       "1                                               145   \n",
       "2                                               100   \n",
       "3                                               100   \n",
       "4                                               100   \n",
       "\n",
       "   phq_attendance_expos_hospitality_stats_sum  \\\n",
       "0                                           0   \n",
       "1                                           0   \n",
       "2                                         142   \n",
       "3                                         567   \n",
       "4                                        2833   \n",
       "\n",
       "   phq_attendance_festivals_hospitality_stats_sum  \\\n",
       "0                                               0   \n",
       "1                                               0   \n",
       "2                                               0   \n",
       "3                                               0   \n",
       "4                                               0   \n",
       "\n",
       "   phq_attendance_performing_arts_hospitality_stats_sum  \\\n",
       "0                                              13383      \n",
       "1                                              19597      \n",
       "2                                              22086      \n",
       "3                                              20406      \n",
       "4                                              24046      \n",
       "\n",
       "   phq_impact_observances_hospitality_stats_max  \\\n",
       "0                                             0   \n",
       "1                                             0   \n",
       "2                                             0   \n",
       "3                                             9   \n",
       "4                                            30   \n",
       "\n",
       "   phq_impact_public_holidays_hospitality_stats_max  \\\n",
       "0                                                 0   \n",
       "1                                                 0   \n",
       "2                                                 0   \n",
       "3                                                 0   \n",
       "4                                                 7   \n",
       "\n",
       "   phq_impact_severe_weather_air_quality_retail_stats_max  \\\n",
       "0                                                  0        \n",
       "1                                                  0        \n",
       "2                                                  0        \n",
       "3                                                  0        \n",
       "4                                                  0        \n",
       "\n",
       "   phq_impact_severe_weather_blizzard_retail_stats_max  ...  \\\n",
       "0                                                  0    ...   \n",
       "1                                                  0    ...   \n",
       "2                                                  0    ...   \n",
       "3                                                  0    ...   \n",
       "4                                                  0    ...   \n",
       "\n",
       "   phq_impact_severe_weather_cold_wave_snow_retail_stats_max  \\\n",
       "0                                                  0           \n",
       "1                                                  0           \n",
       "2                                                  0           \n",
       "3                                                  0           \n",
       "4                                                  0           \n",
       "\n",
       "   phq_impact_severe_weather_cold_wave_storm_retail_stats_max  \\\n",
       "0                                                  0            \n",
       "1                                                  0            \n",
       "2                                                  0            \n",
       "3                                                  0            \n",
       "4                                                  0            \n",
       "\n",
       "   phq_impact_severe_weather_dust_retail_stats_max  \\\n",
       "0                                                0   \n",
       "1                                                0   \n",
       "2                                                0   \n",
       "3                                                0   \n",
       "4                                                0   \n",
       "\n",
       "   phq_impact_severe_weather_dust_storm_retail_stats_max  \\\n",
       "0                                                  0       \n",
       "1                                                  0       \n",
       "2                                                  0       \n",
       "3                                                  0       \n",
       "4                                                  0       \n",
       "\n",
       "   phq_impact_severe_weather_flood_retail_stats_max  \\\n",
       "0                                                 0   \n",
       "1                                                 0   \n",
       "2                                                 0   \n",
       "3                                                 0   \n",
       "4                                                 0   \n",
       "\n",
       "   phq_impact_severe_weather_heat_wave_retail_stats_max  \\\n",
       "0                                                  0      \n",
       "1                                                  0      \n",
       "2                                                  0      \n",
       "3                                                  0      \n",
       "4                                                  0      \n",
       "\n",
       "   phq_impact_severe_weather_hurricane_retail_stats_max  \\\n",
       "0                                                  0      \n",
       "1                                                  0      \n",
       "2                                                  0      \n",
       "3                                                  0      \n",
       "4                                                  0      \n",
       "\n",
       "   phq_impact_severe_weather_thunderstorm_retail_stats_max  \\\n",
       "0                                                  0         \n",
       "1                                                  0         \n",
       "2                                                  0         \n",
       "3                                                  0         \n",
       "4                                                  0         \n",
       "\n",
       "   phq_impact_severe_weather_tornado_retail_stats_max  \\\n",
       "0                                                  0    \n",
       "1                                                  0    \n",
       "2                                                  0    \n",
       "3                                                  0    \n",
       "4                                                  0    \n",
       "\n",
       "   phq_impact_severe_weather_tropical_storm_retail_stats_max  \n",
       "0                                                  0          \n",
       "1                                                  0          \n",
       "2                                                  0          \n",
       "3                                                  0          \n",
       "4                                                  0          \n",
       "\n",
       "[5 rows x 21 columns]"
      ]
     },
     "execution_count": 8,
     "metadata": {},
     "output_type": "execute_result"
    }
   ],
   "source": [
    "START = \"2017-01-09\"\n",
    "END = \"2020-01-31\"\n",
    "\n",
    "# fetch features for the analysis\n",
    "event_features_df = get_features(\n",
    "    analysis_id=analysis_id, start=START, end=END, group_id=None\n",
    ")\n",
    "event_features_df.head()"
   ]
  },
  {
   "cell_type": "markdown",
   "metadata": {},
   "source": [
    "# Step 3. Use event features in demand forecasting"
   ]
  },
  {
   "cell_type": "markdown",
   "metadata": {},
   "source": [
    "Merge existing and event features together with demand."
   ]
  },
  {
   "cell_type": "code",
   "execution_count": 9,
   "metadata": {},
   "outputs": [],
   "source": [
    "demand_df = pd.read_csv(DEMAND_FILE_PATH, parse_dates=[\"date\"])\n",
    "existing_features_df = pd.read_csv(\n",
    "    \"data/restaurant_existing_features.csv\", parse_dates=[\"date\"]\n",
    ")\n",
    "\n",
    "# merge demand and features dataframes\n",
    "dataframes = [demand_df, existing_features_df, event_features_df]\n",
    "features_and_demand_df = reduce(\n",
    "    lambda left, right: pd.merge(left, right, on=\"date\", how=\"inner\"), dataframes\n",
    ")"
   ]
  },
  {
   "cell_type": "code",
   "execution_count": 10,
   "metadata": {},
   "outputs": [],
   "source": [
    "def split_data(df):\n",
    "    df[\"date\"] = pd.to_datetime(df[\"date\"])\n",
    "    df = df.sort_values(\"date\")\n",
    "\n",
    "    cutoff_date = df[\"date\"].max() - pd.Timedelta(days=7)\n",
    "    train = df[df[\"date\"] < cutoff_date]\n",
    "    test = df[df[\"date\"] >= cutoff_date]\n",
    "    return train, test\n",
    "\n",
    "\n",
    "def train_model(x_train, y_train):\n",
    "    model = xgb.XGBRegressor(objective=\"reg:squarederror\", random_state=42)\n",
    "    model.fit(x_train, y_train)\n",
    "    return model\n",
    "\n",
    "\n",
    "def plot_results(train, test, y_train, y_test, y_pred, feature_set, accuracy):\n",
    "    plotting_cutoff_date = test[\"date\"].max() - pd.DateOffset(months=3)\n",
    "    train = train[train[\"date\"] >= plotting_cutoff_date]\n",
    "    test = test[test[\"date\"] >= plotting_cutoff_date]\n",
    "    y_train = y_train[train.index]\n",
    "    y_test = y_test[test.index]\n",
    "\n",
    "    actual_x = pd.concat([train[\"date\"], test[\"date\"]])\n",
    "    actual_y = pd.concat([pd.Series(y_train), pd.Series(y_test)])\n",
    "\n",
    "    actual_trace = go.Scatter(\n",
    "        x=actual_x,\n",
    "        y=actual_y,\n",
    "        mode=\"lines+markers\",\n",
    "        name=\"Actual Demand\",\n",
    "        line=dict(color=\"lightseagreen\"),\n",
    "    )\n",
    "\n",
    "    predicted_trace = go.Scatter(\n",
    "        x=test[\"date\"],\n",
    "        y=y_pred,\n",
    "        mode=\"lines+markers\",\n",
    "        name=\"Forecasted Demand\",\n",
    "        line=dict(color=\"lightcoral\"),\n",
    "    )\n",
    "\n",
    "    fig = go.Figure()\n",
    "    fig.add_trace(actual_trace)\n",
    "    fig.add_trace(predicted_trace)\n",
    "    fig.add_vline(\n",
    "        x=test[\"date\"].iloc[0], line_width=2, line_dash=\"dot\", line_color=\"lightgray\"\n",
    "    )\n",
    "\n",
    "    fig.update_layout(\n",
    "        title=(\n",
    "            f\"<b>Actual vs. Forecasted Demand</b><br>\"\n",
    "            f\"<sub>Features: {feature_set.replace('_', ' ')} | \"\n",
    "            f\"MAPE: {round(accuracy, 2)}%</sub>\"\n",
    "        ),\n",
    "        xaxis_title=\"Date\",\n",
    "        yaxis_title=\"Demand\",\n",
    "        legend_title=\"Type\",\n",
    "    )\n",
    "\n",
    "    fig.show()\n",
    "\n",
    "\n",
    "def calculate_forecast_error(y_test, y_pred):\n",
    "    mape = np.mean(np.abs((y_test - y_pred) / y_test)) * 100\n",
    "    return mape\n",
    "\n",
    "\n",
    "def calculate_forecast_uplift(base_metrics, new_metrics):\n",
    "    uplifts = {}\n",
    "    for metric in base_metrics:\n",
    "        base_value = base_metrics[metric]\n",
    "        new_value = new_metrics[metric]\n",
    "        uplift = (base_value - new_value) / base_value * 100\n",
    "        uplifts[f\"{metric}_uplift\"] = uplift\n",
    "\n",
    "    return uplifts"
   ]
  },
  {
   "cell_type": "code",
   "execution_count": 11,
   "metadata": {},
   "outputs": [
    {
     "data": {
      "application/vnd.plotly.v1+json": {
       "config": {
        "plotlyServerURL": "https://plot.ly"
       },
       "data": [
        {
         "line": {
          "color": "lightseagreen"
         },
         "mode": "lines+markers",
         "name": "Actual Demand",
         "type": "scatter",
         "x": [
          "2019-09-30T00:00:00",
          "2019-10-01T00:00:00",
          "2019-10-02T00:00:00",
          "2019-10-03T00:00:00",
          "2019-10-04T00:00:00",
          "2019-10-05T00:00:00",
          "2019-10-06T00:00:00",
          "2019-10-07T00:00:00",
          "2019-10-08T00:00:00",
          "2019-10-09T00:00:00",
          "2019-10-10T00:00:00",
          "2019-10-11T00:00:00",
          "2019-10-12T00:00:00",
          "2019-10-13T00:00:00",
          "2019-10-14T00:00:00",
          "2019-10-15T00:00:00",
          "2019-10-16T00:00:00",
          "2019-10-17T00:00:00",
          "2019-10-18T00:00:00",
          "2019-10-19T00:00:00",
          "2019-10-20T00:00:00",
          "2019-10-21T00:00:00",
          "2019-10-22T00:00:00",
          "2019-10-23T00:00:00",
          "2019-10-24T00:00:00",
          "2019-10-25T00:00:00",
          "2019-10-26T00:00:00",
          "2019-10-27T00:00:00",
          "2019-10-28T00:00:00",
          "2019-10-29T00:00:00",
          "2019-10-30T00:00:00",
          "2019-10-31T00:00:00",
          "2019-11-01T00:00:00",
          "2019-11-02T00:00:00",
          "2019-11-03T00:00:00",
          "2019-11-04T00:00:00",
          "2019-11-05T00:00:00",
          "2019-11-06T00:00:00",
          "2019-11-07T00:00:00",
          "2019-11-08T00:00:00",
          "2019-11-09T00:00:00",
          "2019-11-10T00:00:00",
          "2019-11-11T00:00:00",
          "2019-11-12T00:00:00",
          "2019-11-13T00:00:00",
          "2019-11-14T00:00:00",
          "2019-11-15T00:00:00",
          "2019-11-16T00:00:00",
          "2019-11-17T00:00:00",
          "2019-11-18T00:00:00",
          "2019-11-19T00:00:00",
          "2019-11-20T00:00:00",
          "2019-11-21T00:00:00",
          "2019-11-22T00:00:00",
          "2019-11-23T00:00:00",
          "2019-11-24T00:00:00",
          "2019-11-25T00:00:00",
          "2019-11-26T00:00:00",
          "2019-11-27T00:00:00",
          "2019-11-29T00:00:00",
          "2019-11-30T00:00:00",
          "2019-12-01T00:00:00",
          "2019-12-02T00:00:00",
          "2019-12-03T00:00:00",
          "2019-12-04T00:00:00",
          "2019-12-05T00:00:00",
          "2019-12-06T00:00:00",
          "2019-12-07T00:00:00",
          "2019-12-08T00:00:00",
          "2019-12-09T00:00:00",
          "2019-12-10T00:00:00",
          "2019-12-11T00:00:00",
          "2019-12-12T00:00:00",
          "2019-12-13T00:00:00",
          "2019-12-14T00:00:00",
          "2019-12-15T00:00:00",
          "2019-12-16T00:00:00",
          "2019-12-17T00:00:00",
          "2019-12-18T00:00:00",
          "2019-12-19T00:00:00",
          "2019-12-20T00:00:00",
          "2019-12-21T00:00:00",
          "2019-12-22T00:00:00",
          "2019-12-23T00:00:00",
          "2019-12-24T00:00:00",
          "2019-12-26T00:00:00",
          "2019-12-27T00:00:00",
          "2019-12-28T00:00:00",
          "2019-12-29T00:00:00",
          "2019-12-30T00:00:00",
          "2019-12-31T00:00:00"
         ],
         "y": [
          6176.8179361682,
          10861.2604006924,
          11770.0301011731,
          11270.0811421954,
          10166.1337317787,
          6306.28035600698,
          6387.42420009005,
          10855.1849490188,
          10674.2081872634,
          10867.071276853,
          11245.8664807947,
          10348.9001846973,
          6998.46466033797,
          7393.8608212738,
          10410.845509276,
          11131.5742586494,
          11223.7474047487,
          11772.1992759923,
          10712.7468851574,
          6631.49147427087,
          5774.58435771026,
          10362.9232532576,
          11109.5125490423,
          11291.3171221207,
          10735.7228118703,
          10568.985655158,
          4928.09954898254,
          6588.8791743119,
          11608.893837413,
          10428.9492047333,
          11238.8660015674,
          11707.0772576341,
          10759.8333983543,
          6493.1259397372,
          6473.05267324596,
          11744.2769597104,
          10927.8549515678,
          11055.5876467356,
          11346.207223041,
          10229.2662371576,
          6261.22425670238,
          6842.67122477602,
          11122.0974940318,
          10521.6921421032,
          10834.4886500883,
          11805.1096038449,
          10157.4147481868,
          6529.91581871318,
          5731.86352206865,
          11508.6000926397,
          10541.6369296844,
          11483.5861198684,
          11390.4772844634,
          10810.0851064581,
          6406.61025731396,
          6001.23629315481,
          11425.9513696843,
          10406.98574402,
          8234.00408194648,
          4531.71981099334,
          5047.9727268244,
          5862.84374636922,
          10985.5552688977,
          11133.1774906625,
          11279.8518706721,
          11782.1323456674,
          10736.4761202962,
          7256.03206913425,
          6517.55242474872,
          11377.3960111352,
          11266.504378762,
          10862.0382545371,
          11997.645582189,
          10203.0771720997,
          7373.98819820622,
          6226.60872428798,
          10620.2088165777,
          9913.06916155541,
          9050.11562071116,
          9727.69636396227,
          8750.25722135605,
          4896.75699680111,
          4479.99872572649,
          7646.75189067266,
          2399.38500067071,
          6364.03869107706,
          7174.36793016926,
          5088.195493655,
          4914.77087311244,
          7809.83680111863,
          5784.62953236104
         ]
        },
        {
         "line": {
          "color": "lightcoral"
         },
         "mode": "lines+markers",
         "name": "Forecasted Demand",
         "type": "scatter",
         "x": [
          "2019-12-24T00:00:00",
          "2019-12-26T00:00:00",
          "2019-12-27T00:00:00",
          "2019-12-28T00:00:00",
          "2019-12-29T00:00:00",
          "2019-12-30T00:00:00",
          "2019-12-31T00:00:00"
         ],
         "y": [
          2541.336181640625,
          6433.7666015625,
          6729.35302734375,
          5585.99951171875,
          5320.984375,
          7147.8076171875,
          6638.2021484375
         ]
        }
       ],
       "layout": {
        "legend": {
         "title": {
          "text": "Type"
         }
        },
        "shapes": [
         {
          "line": {
           "color": "lightgray",
           "dash": "dot",
           "width": 2
          },
          "type": "line",
          "x0": "2019-12-24T00:00:00",
          "x1": "2019-12-24T00:00:00",
          "xref": "x",
          "y0": 0,
          "y1": 1,
          "yref": "y domain"
         }
        ],
        "template": {
         "data": {
          "bar": [
           {
            "error_x": {
             "color": "#2a3f5f"
            },
            "error_y": {
             "color": "#2a3f5f"
            },
            "marker": {
             "line": {
              "color": "#E5ECF6",
              "width": 0.5
             },
             "pattern": {
              "fillmode": "overlay",
              "size": 10,
              "solidity": 0.2
             }
            },
            "type": "bar"
           }
          ],
          "barpolar": [
           {
            "marker": {
             "line": {
              "color": "#E5ECF6",
              "width": 0.5
             },
             "pattern": {
              "fillmode": "overlay",
              "size": 10,
              "solidity": 0.2
             }
            },
            "type": "barpolar"
           }
          ],
          "carpet": [
           {
            "aaxis": {
             "endlinecolor": "#2a3f5f",
             "gridcolor": "white",
             "linecolor": "white",
             "minorgridcolor": "white",
             "startlinecolor": "#2a3f5f"
            },
            "baxis": {
             "endlinecolor": "#2a3f5f",
             "gridcolor": "white",
             "linecolor": "white",
             "minorgridcolor": "white",
             "startlinecolor": "#2a3f5f"
            },
            "type": "carpet"
           }
          ],
          "choropleth": [
           {
            "colorbar": {
             "outlinewidth": 0,
             "ticks": ""
            },
            "type": "choropleth"
           }
          ],
          "contour": [
           {
            "colorbar": {
             "outlinewidth": 0,
             "ticks": ""
            },
            "colorscale": [
             [
              0,
              "#0d0887"
             ],
             [
              0.1111111111111111,
              "#46039f"
             ],
             [
              0.2222222222222222,
              "#7201a8"
             ],
             [
              0.3333333333333333,
              "#9c179e"
             ],
             [
              0.4444444444444444,
              "#bd3786"
             ],
             [
              0.5555555555555556,
              "#d8576b"
             ],
             [
              0.6666666666666666,
              "#ed7953"
             ],
             [
              0.7777777777777778,
              "#fb9f3a"
             ],
             [
              0.8888888888888888,
              "#fdca26"
             ],
             [
              1,
              "#f0f921"
             ]
            ],
            "type": "contour"
           }
          ],
          "contourcarpet": [
           {
            "colorbar": {
             "outlinewidth": 0,
             "ticks": ""
            },
            "type": "contourcarpet"
           }
          ],
          "heatmap": [
           {
            "colorbar": {
             "outlinewidth": 0,
             "ticks": ""
            },
            "colorscale": [
             [
              0,
              "#0d0887"
             ],
             [
              0.1111111111111111,
              "#46039f"
             ],
             [
              0.2222222222222222,
              "#7201a8"
             ],
             [
              0.3333333333333333,
              "#9c179e"
             ],
             [
              0.4444444444444444,
              "#bd3786"
             ],
             [
              0.5555555555555556,
              "#d8576b"
             ],
             [
              0.6666666666666666,
              "#ed7953"
             ],
             [
              0.7777777777777778,
              "#fb9f3a"
             ],
             [
              0.8888888888888888,
              "#fdca26"
             ],
             [
              1,
              "#f0f921"
             ]
            ],
            "type": "heatmap"
           }
          ],
          "heatmapgl": [
           {
            "colorbar": {
             "outlinewidth": 0,
             "ticks": ""
            },
            "colorscale": [
             [
              0,
              "#0d0887"
             ],
             [
              0.1111111111111111,
              "#46039f"
             ],
             [
              0.2222222222222222,
              "#7201a8"
             ],
             [
              0.3333333333333333,
              "#9c179e"
             ],
             [
              0.4444444444444444,
              "#bd3786"
             ],
             [
              0.5555555555555556,
              "#d8576b"
             ],
             [
              0.6666666666666666,
              "#ed7953"
             ],
             [
              0.7777777777777778,
              "#fb9f3a"
             ],
             [
              0.8888888888888888,
              "#fdca26"
             ],
             [
              1,
              "#f0f921"
             ]
            ],
            "type": "heatmapgl"
           }
          ],
          "histogram": [
           {
            "marker": {
             "pattern": {
              "fillmode": "overlay",
              "size": 10,
              "solidity": 0.2
             }
            },
            "type": "histogram"
           }
          ],
          "histogram2d": [
           {
            "colorbar": {
             "outlinewidth": 0,
             "ticks": ""
            },
            "colorscale": [
             [
              0,
              "#0d0887"
             ],
             [
              0.1111111111111111,
              "#46039f"
             ],
             [
              0.2222222222222222,
              "#7201a8"
             ],
             [
              0.3333333333333333,
              "#9c179e"
             ],
             [
              0.4444444444444444,
              "#bd3786"
             ],
             [
              0.5555555555555556,
              "#d8576b"
             ],
             [
              0.6666666666666666,
              "#ed7953"
             ],
             [
              0.7777777777777778,
              "#fb9f3a"
             ],
             [
              0.8888888888888888,
              "#fdca26"
             ],
             [
              1,
              "#f0f921"
             ]
            ],
            "type": "histogram2d"
           }
          ],
          "histogram2dcontour": [
           {
            "colorbar": {
             "outlinewidth": 0,
             "ticks": ""
            },
            "colorscale": [
             [
              0,
              "#0d0887"
             ],
             [
              0.1111111111111111,
              "#46039f"
             ],
             [
              0.2222222222222222,
              "#7201a8"
             ],
             [
              0.3333333333333333,
              "#9c179e"
             ],
             [
              0.4444444444444444,
              "#bd3786"
             ],
             [
              0.5555555555555556,
              "#d8576b"
             ],
             [
              0.6666666666666666,
              "#ed7953"
             ],
             [
              0.7777777777777778,
              "#fb9f3a"
             ],
             [
              0.8888888888888888,
              "#fdca26"
             ],
             [
              1,
              "#f0f921"
             ]
            ],
            "type": "histogram2dcontour"
           }
          ],
          "mesh3d": [
           {
            "colorbar": {
             "outlinewidth": 0,
             "ticks": ""
            },
            "type": "mesh3d"
           }
          ],
          "parcoords": [
           {
            "line": {
             "colorbar": {
              "outlinewidth": 0,
              "ticks": ""
             }
            },
            "type": "parcoords"
           }
          ],
          "pie": [
           {
            "automargin": true,
            "type": "pie"
           }
          ],
          "scatter": [
           {
            "fillpattern": {
             "fillmode": "overlay",
             "size": 10,
             "solidity": 0.2
            },
            "type": "scatter"
           }
          ],
          "scatter3d": [
           {
            "line": {
             "colorbar": {
              "outlinewidth": 0,
              "ticks": ""
             }
            },
            "marker": {
             "colorbar": {
              "outlinewidth": 0,
              "ticks": ""
             }
            },
            "type": "scatter3d"
           }
          ],
          "scattercarpet": [
           {
            "marker": {
             "colorbar": {
              "outlinewidth": 0,
              "ticks": ""
             }
            },
            "type": "scattercarpet"
           }
          ],
          "scattergeo": [
           {
            "marker": {
             "colorbar": {
              "outlinewidth": 0,
              "ticks": ""
             }
            },
            "type": "scattergeo"
           }
          ],
          "scattergl": [
           {
            "marker": {
             "colorbar": {
              "outlinewidth": 0,
              "ticks": ""
             }
            },
            "type": "scattergl"
           }
          ],
          "scattermapbox": [
           {
            "marker": {
             "colorbar": {
              "outlinewidth": 0,
              "ticks": ""
             }
            },
            "type": "scattermapbox"
           }
          ],
          "scatterpolar": [
           {
            "marker": {
             "colorbar": {
              "outlinewidth": 0,
              "ticks": ""
             }
            },
            "type": "scatterpolar"
           }
          ],
          "scatterpolargl": [
           {
            "marker": {
             "colorbar": {
              "outlinewidth": 0,
              "ticks": ""
             }
            },
            "type": "scatterpolargl"
           }
          ],
          "scatterternary": [
           {
            "marker": {
             "colorbar": {
              "outlinewidth": 0,
              "ticks": ""
             }
            },
            "type": "scatterternary"
           }
          ],
          "surface": [
           {
            "colorbar": {
             "outlinewidth": 0,
             "ticks": ""
            },
            "colorscale": [
             [
              0,
              "#0d0887"
             ],
             [
              0.1111111111111111,
              "#46039f"
             ],
             [
              0.2222222222222222,
              "#7201a8"
             ],
             [
              0.3333333333333333,
              "#9c179e"
             ],
             [
              0.4444444444444444,
              "#bd3786"
             ],
             [
              0.5555555555555556,
              "#d8576b"
             ],
             [
              0.6666666666666666,
              "#ed7953"
             ],
             [
              0.7777777777777778,
              "#fb9f3a"
             ],
             [
              0.8888888888888888,
              "#fdca26"
             ],
             [
              1,
              "#f0f921"
             ]
            ],
            "type": "surface"
           }
          ],
          "table": [
           {
            "cells": {
             "fill": {
              "color": "#EBF0F8"
             },
             "line": {
              "color": "white"
             }
            },
            "header": {
             "fill": {
              "color": "#C8D4E3"
             },
             "line": {
              "color": "white"
             }
            },
            "type": "table"
           }
          ]
         },
         "layout": {
          "annotationdefaults": {
           "arrowcolor": "#2a3f5f",
           "arrowhead": 0,
           "arrowwidth": 1
          },
          "autotypenumbers": "strict",
          "coloraxis": {
           "colorbar": {
            "outlinewidth": 0,
            "ticks": ""
           }
          },
          "colorscale": {
           "diverging": [
            [
             0,
             "#8e0152"
            ],
            [
             0.1,
             "#c51b7d"
            ],
            [
             0.2,
             "#de77ae"
            ],
            [
             0.3,
             "#f1b6da"
            ],
            [
             0.4,
             "#fde0ef"
            ],
            [
             0.5,
             "#f7f7f7"
            ],
            [
             0.6,
             "#e6f5d0"
            ],
            [
             0.7,
             "#b8e186"
            ],
            [
             0.8,
             "#7fbc41"
            ],
            [
             0.9,
             "#4d9221"
            ],
            [
             1,
             "#276419"
            ]
           ],
           "sequential": [
            [
             0,
             "#0d0887"
            ],
            [
             0.1111111111111111,
             "#46039f"
            ],
            [
             0.2222222222222222,
             "#7201a8"
            ],
            [
             0.3333333333333333,
             "#9c179e"
            ],
            [
             0.4444444444444444,
             "#bd3786"
            ],
            [
             0.5555555555555556,
             "#d8576b"
            ],
            [
             0.6666666666666666,
             "#ed7953"
            ],
            [
             0.7777777777777778,
             "#fb9f3a"
            ],
            [
             0.8888888888888888,
             "#fdca26"
            ],
            [
             1,
             "#f0f921"
            ]
           ],
           "sequentialminus": [
            [
             0,
             "#0d0887"
            ],
            [
             0.1111111111111111,
             "#46039f"
            ],
            [
             0.2222222222222222,
             "#7201a8"
            ],
            [
             0.3333333333333333,
             "#9c179e"
            ],
            [
             0.4444444444444444,
             "#bd3786"
            ],
            [
             0.5555555555555556,
             "#d8576b"
            ],
            [
             0.6666666666666666,
             "#ed7953"
            ],
            [
             0.7777777777777778,
             "#fb9f3a"
            ],
            [
             0.8888888888888888,
             "#fdca26"
            ],
            [
             1,
             "#f0f921"
            ]
           ]
          },
          "colorway": [
           "#636efa",
           "#EF553B",
           "#00cc96",
           "#ab63fa",
           "#FFA15A",
           "#19d3f3",
           "#FF6692",
           "#B6E880",
           "#FF97FF",
           "#FECB52"
          ],
          "font": {
           "color": "#2a3f5f"
          },
          "geo": {
           "bgcolor": "white",
           "lakecolor": "white",
           "landcolor": "#E5ECF6",
           "showlakes": true,
           "showland": true,
           "subunitcolor": "white"
          },
          "hoverlabel": {
           "align": "left"
          },
          "hovermode": "closest",
          "mapbox": {
           "style": "light"
          },
          "paper_bgcolor": "white",
          "plot_bgcolor": "#E5ECF6",
          "polar": {
           "angularaxis": {
            "gridcolor": "white",
            "linecolor": "white",
            "ticks": ""
           },
           "bgcolor": "#E5ECF6",
           "radialaxis": {
            "gridcolor": "white",
            "linecolor": "white",
            "ticks": ""
           }
          },
          "scene": {
           "xaxis": {
            "backgroundcolor": "#E5ECF6",
            "gridcolor": "white",
            "gridwidth": 2,
            "linecolor": "white",
            "showbackground": true,
            "ticks": "",
            "zerolinecolor": "white"
           },
           "yaxis": {
            "backgroundcolor": "#E5ECF6",
            "gridcolor": "white",
            "gridwidth": 2,
            "linecolor": "white",
            "showbackground": true,
            "ticks": "",
            "zerolinecolor": "white"
           },
           "zaxis": {
            "backgroundcolor": "#E5ECF6",
            "gridcolor": "white",
            "gridwidth": 2,
            "linecolor": "white",
            "showbackground": true,
            "ticks": "",
            "zerolinecolor": "white"
           }
          },
          "shapedefaults": {
           "line": {
            "color": "#2a3f5f"
           }
          },
          "ternary": {
           "aaxis": {
            "gridcolor": "white",
            "linecolor": "white",
            "ticks": ""
           },
           "baxis": {
            "gridcolor": "white",
            "linecolor": "white",
            "ticks": ""
           },
           "bgcolor": "#E5ECF6",
           "caxis": {
            "gridcolor": "white",
            "linecolor": "white",
            "ticks": ""
           }
          },
          "title": {
           "x": 0.05
          },
          "xaxis": {
           "automargin": true,
           "gridcolor": "white",
           "linecolor": "white",
           "ticks": "",
           "title": {
            "standoff": 15
           },
           "zerolinecolor": "white",
           "zerolinewidth": 2
          },
          "yaxis": {
           "automargin": true,
           "gridcolor": "white",
           "linecolor": "white",
           "ticks": "",
           "title": {
            "standoff": 15
           },
           "zerolinecolor": "white",
           "zerolinewidth": 2
          }
         }
        },
        "title": {
         "text": "<b>Actual vs. Forecasted Demand</b><br><sub>Features: existing and event features | MAPE: 7.79%</sub>"
        },
        "xaxis": {
         "title": {
          "text": "Date"
         }
        },
        "yaxis": {
         "title": {
          "text": "Demand"
         }
        }
       }
      }
     },
     "metadata": {},
     "output_type": "display_data"
    },
    {
     "data": {
      "application/vnd.plotly.v1+json": {
       "config": {
        "plotlyServerURL": "https://plot.ly"
       },
       "data": [
        {
         "line": {
          "color": "lightseagreen"
         },
         "mode": "lines+markers",
         "name": "Actual Demand",
         "type": "scatter",
         "x": [
          "2019-09-30T00:00:00",
          "2019-10-01T00:00:00",
          "2019-10-02T00:00:00",
          "2019-10-03T00:00:00",
          "2019-10-04T00:00:00",
          "2019-10-05T00:00:00",
          "2019-10-06T00:00:00",
          "2019-10-07T00:00:00",
          "2019-10-08T00:00:00",
          "2019-10-09T00:00:00",
          "2019-10-10T00:00:00",
          "2019-10-11T00:00:00",
          "2019-10-12T00:00:00",
          "2019-10-13T00:00:00",
          "2019-10-14T00:00:00",
          "2019-10-15T00:00:00",
          "2019-10-16T00:00:00",
          "2019-10-17T00:00:00",
          "2019-10-18T00:00:00",
          "2019-10-19T00:00:00",
          "2019-10-20T00:00:00",
          "2019-10-21T00:00:00",
          "2019-10-22T00:00:00",
          "2019-10-23T00:00:00",
          "2019-10-24T00:00:00",
          "2019-10-25T00:00:00",
          "2019-10-26T00:00:00",
          "2019-10-27T00:00:00",
          "2019-10-28T00:00:00",
          "2019-10-29T00:00:00",
          "2019-10-30T00:00:00",
          "2019-10-31T00:00:00",
          "2019-11-01T00:00:00",
          "2019-11-02T00:00:00",
          "2019-11-03T00:00:00",
          "2019-11-04T00:00:00",
          "2019-11-05T00:00:00",
          "2019-11-06T00:00:00",
          "2019-11-07T00:00:00",
          "2019-11-08T00:00:00",
          "2019-11-09T00:00:00",
          "2019-11-10T00:00:00",
          "2019-11-11T00:00:00",
          "2019-11-12T00:00:00",
          "2019-11-13T00:00:00",
          "2019-11-14T00:00:00",
          "2019-11-15T00:00:00",
          "2019-11-16T00:00:00",
          "2019-11-17T00:00:00",
          "2019-11-18T00:00:00",
          "2019-11-19T00:00:00",
          "2019-11-20T00:00:00",
          "2019-11-21T00:00:00",
          "2019-11-22T00:00:00",
          "2019-11-23T00:00:00",
          "2019-11-24T00:00:00",
          "2019-11-25T00:00:00",
          "2019-11-26T00:00:00",
          "2019-11-27T00:00:00",
          "2019-11-29T00:00:00",
          "2019-11-30T00:00:00",
          "2019-12-01T00:00:00",
          "2019-12-02T00:00:00",
          "2019-12-03T00:00:00",
          "2019-12-04T00:00:00",
          "2019-12-05T00:00:00",
          "2019-12-06T00:00:00",
          "2019-12-07T00:00:00",
          "2019-12-08T00:00:00",
          "2019-12-09T00:00:00",
          "2019-12-10T00:00:00",
          "2019-12-11T00:00:00",
          "2019-12-12T00:00:00",
          "2019-12-13T00:00:00",
          "2019-12-14T00:00:00",
          "2019-12-15T00:00:00",
          "2019-12-16T00:00:00",
          "2019-12-17T00:00:00",
          "2019-12-18T00:00:00",
          "2019-12-19T00:00:00",
          "2019-12-20T00:00:00",
          "2019-12-21T00:00:00",
          "2019-12-22T00:00:00",
          "2019-12-23T00:00:00",
          "2019-12-24T00:00:00",
          "2019-12-26T00:00:00",
          "2019-12-27T00:00:00",
          "2019-12-28T00:00:00",
          "2019-12-29T00:00:00",
          "2019-12-30T00:00:00",
          "2019-12-31T00:00:00"
         ],
         "y": [
          6176.8179361682,
          10861.2604006924,
          11770.0301011731,
          11270.0811421954,
          10166.1337317787,
          6306.28035600698,
          6387.42420009005,
          10855.1849490188,
          10674.2081872634,
          10867.071276853,
          11245.8664807947,
          10348.9001846973,
          6998.46466033797,
          7393.8608212738,
          10410.845509276,
          11131.5742586494,
          11223.7474047487,
          11772.1992759923,
          10712.7468851574,
          6631.49147427087,
          5774.58435771026,
          10362.9232532576,
          11109.5125490423,
          11291.3171221207,
          10735.7228118703,
          10568.985655158,
          4928.09954898254,
          6588.8791743119,
          11608.893837413,
          10428.9492047333,
          11238.8660015674,
          11707.0772576341,
          10759.8333983543,
          6493.1259397372,
          6473.05267324596,
          11744.2769597104,
          10927.8549515678,
          11055.5876467356,
          11346.207223041,
          10229.2662371576,
          6261.22425670238,
          6842.67122477602,
          11122.0974940318,
          10521.6921421032,
          10834.4886500883,
          11805.1096038449,
          10157.4147481868,
          6529.91581871318,
          5731.86352206865,
          11508.6000926397,
          10541.6369296844,
          11483.5861198684,
          11390.4772844634,
          10810.0851064581,
          6406.61025731396,
          6001.23629315481,
          11425.9513696843,
          10406.98574402,
          8234.00408194648,
          4531.71981099334,
          5047.9727268244,
          5862.84374636922,
          10985.5552688977,
          11133.1774906625,
          11279.8518706721,
          11782.1323456674,
          10736.4761202962,
          7256.03206913425,
          6517.55242474872,
          11377.3960111352,
          11266.504378762,
          10862.0382545371,
          11997.645582189,
          10203.0771720997,
          7373.98819820622,
          6226.60872428798,
          10620.2088165777,
          9913.06916155541,
          9050.11562071116,
          9727.69636396227,
          8750.25722135605,
          4896.75699680111,
          4479.99872572649,
          7646.75189067266,
          2399.38500067071,
          6364.03869107706,
          7174.36793016926,
          5088.195493655,
          4914.77087311244,
          7809.83680111863,
          5784.62953236104
         ]
        },
        {
         "line": {
          "color": "lightcoral"
         },
         "mode": "lines+markers",
         "name": "Forecasted Demand",
         "type": "scatter",
         "x": [
          "2019-12-24T00:00:00",
          "2019-12-26T00:00:00",
          "2019-12-27T00:00:00",
          "2019-12-28T00:00:00",
          "2019-12-29T00:00:00",
          "2019-12-30T00:00:00",
          "2019-12-31T00:00:00"
         ],
         "y": [
          8237.9892578125,
          8389.2958984375,
          8405.71484375,
          5482.3310546875,
          4860.89453125,
          5135.40869140625,
          5236.544921875
         ]
        }
       ],
       "layout": {
        "legend": {
         "title": {
          "text": "Type"
         }
        },
        "shapes": [
         {
          "line": {
           "color": "lightgray",
           "dash": "dot",
           "width": 2
          },
          "type": "line",
          "x0": "2019-12-24T00:00:00",
          "x1": "2019-12-24T00:00:00",
          "xref": "x",
          "y0": 0,
          "y1": 1,
          "yref": "y domain"
         }
        ],
        "template": {
         "data": {
          "bar": [
           {
            "error_x": {
             "color": "#2a3f5f"
            },
            "error_y": {
             "color": "#2a3f5f"
            },
            "marker": {
             "line": {
              "color": "#E5ECF6",
              "width": 0.5
             },
             "pattern": {
              "fillmode": "overlay",
              "size": 10,
              "solidity": 0.2
             }
            },
            "type": "bar"
           }
          ],
          "barpolar": [
           {
            "marker": {
             "line": {
              "color": "#E5ECF6",
              "width": 0.5
             },
             "pattern": {
              "fillmode": "overlay",
              "size": 10,
              "solidity": 0.2
             }
            },
            "type": "barpolar"
           }
          ],
          "carpet": [
           {
            "aaxis": {
             "endlinecolor": "#2a3f5f",
             "gridcolor": "white",
             "linecolor": "white",
             "minorgridcolor": "white",
             "startlinecolor": "#2a3f5f"
            },
            "baxis": {
             "endlinecolor": "#2a3f5f",
             "gridcolor": "white",
             "linecolor": "white",
             "minorgridcolor": "white",
             "startlinecolor": "#2a3f5f"
            },
            "type": "carpet"
           }
          ],
          "choropleth": [
           {
            "colorbar": {
             "outlinewidth": 0,
             "ticks": ""
            },
            "type": "choropleth"
           }
          ],
          "contour": [
           {
            "colorbar": {
             "outlinewidth": 0,
             "ticks": ""
            },
            "colorscale": [
             [
              0,
              "#0d0887"
             ],
             [
              0.1111111111111111,
              "#46039f"
             ],
             [
              0.2222222222222222,
              "#7201a8"
             ],
             [
              0.3333333333333333,
              "#9c179e"
             ],
             [
              0.4444444444444444,
              "#bd3786"
             ],
             [
              0.5555555555555556,
              "#d8576b"
             ],
             [
              0.6666666666666666,
              "#ed7953"
             ],
             [
              0.7777777777777778,
              "#fb9f3a"
             ],
             [
              0.8888888888888888,
              "#fdca26"
             ],
             [
              1,
              "#f0f921"
             ]
            ],
            "type": "contour"
           }
          ],
          "contourcarpet": [
           {
            "colorbar": {
             "outlinewidth": 0,
             "ticks": ""
            },
            "type": "contourcarpet"
           }
          ],
          "heatmap": [
           {
            "colorbar": {
             "outlinewidth": 0,
             "ticks": ""
            },
            "colorscale": [
             [
              0,
              "#0d0887"
             ],
             [
              0.1111111111111111,
              "#46039f"
             ],
             [
              0.2222222222222222,
              "#7201a8"
             ],
             [
              0.3333333333333333,
              "#9c179e"
             ],
             [
              0.4444444444444444,
              "#bd3786"
             ],
             [
              0.5555555555555556,
              "#d8576b"
             ],
             [
              0.6666666666666666,
              "#ed7953"
             ],
             [
              0.7777777777777778,
              "#fb9f3a"
             ],
             [
              0.8888888888888888,
              "#fdca26"
             ],
             [
              1,
              "#f0f921"
             ]
            ],
            "type": "heatmap"
           }
          ],
          "heatmapgl": [
           {
            "colorbar": {
             "outlinewidth": 0,
             "ticks": ""
            },
            "colorscale": [
             [
              0,
              "#0d0887"
             ],
             [
              0.1111111111111111,
              "#46039f"
             ],
             [
              0.2222222222222222,
              "#7201a8"
             ],
             [
              0.3333333333333333,
              "#9c179e"
             ],
             [
              0.4444444444444444,
              "#bd3786"
             ],
             [
              0.5555555555555556,
              "#d8576b"
             ],
             [
              0.6666666666666666,
              "#ed7953"
             ],
             [
              0.7777777777777778,
              "#fb9f3a"
             ],
             [
              0.8888888888888888,
              "#fdca26"
             ],
             [
              1,
              "#f0f921"
             ]
            ],
            "type": "heatmapgl"
           }
          ],
          "histogram": [
           {
            "marker": {
             "pattern": {
              "fillmode": "overlay",
              "size": 10,
              "solidity": 0.2
             }
            },
            "type": "histogram"
           }
          ],
          "histogram2d": [
           {
            "colorbar": {
             "outlinewidth": 0,
             "ticks": ""
            },
            "colorscale": [
             [
              0,
              "#0d0887"
             ],
             [
              0.1111111111111111,
              "#46039f"
             ],
             [
              0.2222222222222222,
              "#7201a8"
             ],
             [
              0.3333333333333333,
              "#9c179e"
             ],
             [
              0.4444444444444444,
              "#bd3786"
             ],
             [
              0.5555555555555556,
              "#d8576b"
             ],
             [
              0.6666666666666666,
              "#ed7953"
             ],
             [
              0.7777777777777778,
              "#fb9f3a"
             ],
             [
              0.8888888888888888,
              "#fdca26"
             ],
             [
              1,
              "#f0f921"
             ]
            ],
            "type": "histogram2d"
           }
          ],
          "histogram2dcontour": [
           {
            "colorbar": {
             "outlinewidth": 0,
             "ticks": ""
            },
            "colorscale": [
             [
              0,
              "#0d0887"
             ],
             [
              0.1111111111111111,
              "#46039f"
             ],
             [
              0.2222222222222222,
              "#7201a8"
             ],
             [
              0.3333333333333333,
              "#9c179e"
             ],
             [
              0.4444444444444444,
              "#bd3786"
             ],
             [
              0.5555555555555556,
              "#d8576b"
             ],
             [
              0.6666666666666666,
              "#ed7953"
             ],
             [
              0.7777777777777778,
              "#fb9f3a"
             ],
             [
              0.8888888888888888,
              "#fdca26"
             ],
             [
              1,
              "#f0f921"
             ]
            ],
            "type": "histogram2dcontour"
           }
          ],
          "mesh3d": [
           {
            "colorbar": {
             "outlinewidth": 0,
             "ticks": ""
            },
            "type": "mesh3d"
           }
          ],
          "parcoords": [
           {
            "line": {
             "colorbar": {
              "outlinewidth": 0,
              "ticks": ""
             }
            },
            "type": "parcoords"
           }
          ],
          "pie": [
           {
            "automargin": true,
            "type": "pie"
           }
          ],
          "scatter": [
           {
            "fillpattern": {
             "fillmode": "overlay",
             "size": 10,
             "solidity": 0.2
            },
            "type": "scatter"
           }
          ],
          "scatter3d": [
           {
            "line": {
             "colorbar": {
              "outlinewidth": 0,
              "ticks": ""
             }
            },
            "marker": {
             "colorbar": {
              "outlinewidth": 0,
              "ticks": ""
             }
            },
            "type": "scatter3d"
           }
          ],
          "scattercarpet": [
           {
            "marker": {
             "colorbar": {
              "outlinewidth": 0,
              "ticks": ""
             }
            },
            "type": "scattercarpet"
           }
          ],
          "scattergeo": [
           {
            "marker": {
             "colorbar": {
              "outlinewidth": 0,
              "ticks": ""
             }
            },
            "type": "scattergeo"
           }
          ],
          "scattergl": [
           {
            "marker": {
             "colorbar": {
              "outlinewidth": 0,
              "ticks": ""
             }
            },
            "type": "scattergl"
           }
          ],
          "scattermapbox": [
           {
            "marker": {
             "colorbar": {
              "outlinewidth": 0,
              "ticks": ""
             }
            },
            "type": "scattermapbox"
           }
          ],
          "scatterpolar": [
           {
            "marker": {
             "colorbar": {
              "outlinewidth": 0,
              "ticks": ""
             }
            },
            "type": "scatterpolar"
           }
          ],
          "scatterpolargl": [
           {
            "marker": {
             "colorbar": {
              "outlinewidth": 0,
              "ticks": ""
             }
            },
            "type": "scatterpolargl"
           }
          ],
          "scatterternary": [
           {
            "marker": {
             "colorbar": {
              "outlinewidth": 0,
              "ticks": ""
             }
            },
            "type": "scatterternary"
           }
          ],
          "surface": [
           {
            "colorbar": {
             "outlinewidth": 0,
             "ticks": ""
            },
            "colorscale": [
             [
              0,
              "#0d0887"
             ],
             [
              0.1111111111111111,
              "#46039f"
             ],
             [
              0.2222222222222222,
              "#7201a8"
             ],
             [
              0.3333333333333333,
              "#9c179e"
             ],
             [
              0.4444444444444444,
              "#bd3786"
             ],
             [
              0.5555555555555556,
              "#d8576b"
             ],
             [
              0.6666666666666666,
              "#ed7953"
             ],
             [
              0.7777777777777778,
              "#fb9f3a"
             ],
             [
              0.8888888888888888,
              "#fdca26"
             ],
             [
              1,
              "#f0f921"
             ]
            ],
            "type": "surface"
           }
          ],
          "table": [
           {
            "cells": {
             "fill": {
              "color": "#EBF0F8"
             },
             "line": {
              "color": "white"
             }
            },
            "header": {
             "fill": {
              "color": "#C8D4E3"
             },
             "line": {
              "color": "white"
             }
            },
            "type": "table"
           }
          ]
         },
         "layout": {
          "annotationdefaults": {
           "arrowcolor": "#2a3f5f",
           "arrowhead": 0,
           "arrowwidth": 1
          },
          "autotypenumbers": "strict",
          "coloraxis": {
           "colorbar": {
            "outlinewidth": 0,
            "ticks": ""
           }
          },
          "colorscale": {
           "diverging": [
            [
             0,
             "#8e0152"
            ],
            [
             0.1,
             "#c51b7d"
            ],
            [
             0.2,
             "#de77ae"
            ],
            [
             0.3,
             "#f1b6da"
            ],
            [
             0.4,
             "#fde0ef"
            ],
            [
             0.5,
             "#f7f7f7"
            ],
            [
             0.6,
             "#e6f5d0"
            ],
            [
             0.7,
             "#b8e186"
            ],
            [
             0.8,
             "#7fbc41"
            ],
            [
             0.9,
             "#4d9221"
            ],
            [
             1,
             "#276419"
            ]
           ],
           "sequential": [
            [
             0,
             "#0d0887"
            ],
            [
             0.1111111111111111,
             "#46039f"
            ],
            [
             0.2222222222222222,
             "#7201a8"
            ],
            [
             0.3333333333333333,
             "#9c179e"
            ],
            [
             0.4444444444444444,
             "#bd3786"
            ],
            [
             0.5555555555555556,
             "#d8576b"
            ],
            [
             0.6666666666666666,
             "#ed7953"
            ],
            [
             0.7777777777777778,
             "#fb9f3a"
            ],
            [
             0.8888888888888888,
             "#fdca26"
            ],
            [
             1,
             "#f0f921"
            ]
           ],
           "sequentialminus": [
            [
             0,
             "#0d0887"
            ],
            [
             0.1111111111111111,
             "#46039f"
            ],
            [
             0.2222222222222222,
             "#7201a8"
            ],
            [
             0.3333333333333333,
             "#9c179e"
            ],
            [
             0.4444444444444444,
             "#bd3786"
            ],
            [
             0.5555555555555556,
             "#d8576b"
            ],
            [
             0.6666666666666666,
             "#ed7953"
            ],
            [
             0.7777777777777778,
             "#fb9f3a"
            ],
            [
             0.8888888888888888,
             "#fdca26"
            ],
            [
             1,
             "#f0f921"
            ]
           ]
          },
          "colorway": [
           "#636efa",
           "#EF553B",
           "#00cc96",
           "#ab63fa",
           "#FFA15A",
           "#19d3f3",
           "#FF6692",
           "#B6E880",
           "#FF97FF",
           "#FECB52"
          ],
          "font": {
           "color": "#2a3f5f"
          },
          "geo": {
           "bgcolor": "white",
           "lakecolor": "white",
           "landcolor": "#E5ECF6",
           "showlakes": true,
           "showland": true,
           "subunitcolor": "white"
          },
          "hoverlabel": {
           "align": "left"
          },
          "hovermode": "closest",
          "mapbox": {
           "style": "light"
          },
          "paper_bgcolor": "white",
          "plot_bgcolor": "#E5ECF6",
          "polar": {
           "angularaxis": {
            "gridcolor": "white",
            "linecolor": "white",
            "ticks": ""
           },
           "bgcolor": "#E5ECF6",
           "radialaxis": {
            "gridcolor": "white",
            "linecolor": "white",
            "ticks": ""
           }
          },
          "scene": {
           "xaxis": {
            "backgroundcolor": "#E5ECF6",
            "gridcolor": "white",
            "gridwidth": 2,
            "linecolor": "white",
            "showbackground": true,
            "ticks": "",
            "zerolinecolor": "white"
           },
           "yaxis": {
            "backgroundcolor": "#E5ECF6",
            "gridcolor": "white",
            "gridwidth": 2,
            "linecolor": "white",
            "showbackground": true,
            "ticks": "",
            "zerolinecolor": "white"
           },
           "zaxis": {
            "backgroundcolor": "#E5ECF6",
            "gridcolor": "white",
            "gridwidth": 2,
            "linecolor": "white",
            "showbackground": true,
            "ticks": "",
            "zerolinecolor": "white"
           }
          },
          "shapedefaults": {
           "line": {
            "color": "#2a3f5f"
           }
          },
          "ternary": {
           "aaxis": {
            "gridcolor": "white",
            "linecolor": "white",
            "ticks": ""
           },
           "baxis": {
            "gridcolor": "white",
            "linecolor": "white",
            "ticks": ""
           },
           "bgcolor": "#E5ECF6",
           "caxis": {
            "gridcolor": "white",
            "linecolor": "white",
            "ticks": ""
           }
          },
          "title": {
           "x": 0.05
          },
          "xaxis": {
           "automargin": true,
           "gridcolor": "white",
           "linecolor": "white",
           "ticks": "",
           "title": {
            "standoff": 15
           },
           "zerolinecolor": "white",
           "zerolinewidth": 2
          },
          "yaxis": {
           "automargin": true,
           "gridcolor": "white",
           "linecolor": "white",
           "ticks": "",
           "title": {
            "standoff": 15
           },
           "zerolinecolor": "white",
           "zerolinewidth": 2
          }
         }
        },
        "title": {
         "text": "<b>Actual vs. Forecasted Demand</b><br><sub>Features: existing features only | MAPE: 49.27%</sub>"
        },
        "xaxis": {
         "title": {
          "text": "Date"
         }
        },
        "yaxis": {
         "title": {
          "text": "Demand"
         }
        }
       }
      }
     },
     "metadata": {},
     "output_type": "display_data"
    },
    {
     "name": "stdout",
     "output_type": "stream",
     "text": [
      "Forecast Error (MAPE):\n",
      "--- Features: existing and event features: 7.79%\n",
      "--- Features: existing features only: 49.27%\n",
      "Forecast Accuracy Uplift (MAPE reduction): 84.20%\n"
     ]
    }
   ],
   "source": [
    "# train and evaluate models with different feature sets\n",
    "# and compare forecast accuracy\n",
    "results = {}\n",
    "\n",
    "train, test = split_data(df=features_and_demand_df)\n",
    "\n",
    "for include_event_features in [True, False]:\n",
    "    if include_event_features:\n",
    "        feature_columns = train.columns.difference([\"date\", \"demand\"])\n",
    "        feature_set = \"existing_and_event_features\"\n",
    "    else:\n",
    "        feature_columns = [\n",
    "            col\n",
    "            for col in train.columns\n",
    "            if col not in [\"date\", \"demand\"] and not col.startswith(\"phq_\")\n",
    "        ]\n",
    "        feature_set = \"existing_features_only\"\n",
    "\n",
    "    X_train = train[feature_columns]\n",
    "    y_train = train[\"demand\"]\n",
    "    X_test = test[feature_columns]\n",
    "    y_test = test[\"demand\"]\n",
    "\n",
    "    model = train_model(x_train=X_train, y_train=y_train)\n",
    "    y_pred = model.predict(X_test)\n",
    "\n",
    "    mape = calculate_forecast_error(y_test=y_test, y_pred=y_pred)\n",
    "\n",
    "    plot_results(\n",
    "        train=train,\n",
    "        test=test,\n",
    "        y_train=y_train,\n",
    "        y_test=y_test,\n",
    "        y_pred=y_pred,\n",
    "        feature_set=feature_set,\n",
    "        accuracy=mape,\n",
    "    )\n",
    "\n",
    "    results[feature_set] = {\"mape\": mape}\n",
    "\n",
    "\n",
    "print(\"Forecast Error (MAPE):\")\n",
    "for features_set in results:\n",
    "    print(\n",
    "        f\"--- Features: {features_set.replace('_',' ')}: {results[features_set]['mape']:.2f}%\"\n",
    "    )\n",
    "forecast_uplift = calculate_forecast_uplift(\n",
    "    base_metrics=results[\"existing_features_only\"],\n",
    "    new_metrics=results[\"existing_and_event_features\"],\n",
    ")\n",
    "print(\n",
    "    f\"Forecast Accuracy Uplift (MAPE reduction): {forecast_uplift['mape_uplift']:.2f}%\"\n",
    ")"
   ]
  }
 ],
 "metadata": {
  "kernelspec": {
   "display_name": "ds-notebooks-env",
   "language": "python",
   "name": "python3"
  },
  "language_info": {
   "codemirror_mode": {
    "name": "ipython",
    "version": 3
   },
   "file_extension": ".py",
   "mimetype": "text/x-python",
   "name": "python",
   "nbconvert_exporter": "python",
   "pygments_lexer": "ipython3",
   "version": "3.11.9"
  },
  "orig_nbformat": 4
 },
 "nbformat": 4,
 "nbformat_minor": 2
}
