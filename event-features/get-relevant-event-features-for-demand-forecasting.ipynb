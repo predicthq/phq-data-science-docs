{
 "cells": [
  {
   "attachments": {},
   "cell_type": "markdown",
   "metadata": {},
   "source": [
    "# Prerequisites"
   ]
  },
  {
   "attachments": {},
   "cell_type": "markdown",
   "metadata": {},
   "source": [
    "Complete the following steps:\n",
    "\n",
    "1. Install `requirements.txt`\n",
    "2. Load necessary libraries and API URLs\n",
    "3. Replace `ACCESS_TOKEN` with a valid token (for help creating an access token, see [API Quickstart](https://docs.predicthq.com/getting-started/api-quickstart))"
   ]
  },
  {
   "cell_type": "code",
   "execution_count": 1,
   "metadata": {},
   "outputs": [],
   "source": [
    "# install requirements\n",
    "# %pip install --user -r requirements.txt"
   ]
  },
  {
   "cell_type": "code",
   "execution_count": 2,
   "metadata": {},
   "outputs": [],
   "source": [
    "# load libraries and API URLs\n",
    "import pandas as pd\n",
    "import numpy as np\n",
    "\n",
    "import requests\n",
    "from io import StringIO\n",
    "from functools import reduce\n",
    "\n",
    "from sklearn.model_selection import TimeSeriesSplit\n",
    "from sklearn.model_selection import GridSearchCV\n",
    "from sklearn.metrics import mean_absolute_percentage_error\n",
    "import xgboost as xgb\n",
    "import plotly.graph_objects as go\n",
    "\n",
    "SUGGESTED_RADIUS_API_URL = \"https://api.predicthq.com/v1/suggested-radius\"\n",
    "BEAM_API_URL = \"https://api.predicthq.com/v1/beam\"\n",
    "FEATURES_API_URL = \"https://api.predicthq.com/v1/features\""
   ]
  },
  {
   "cell_type": "code",
   "execution_count": 3,
   "metadata": {},
   "outputs": [
    {
     "data": {
      "text/html": [
       "\n",
       "                <script type=\"application/javascript\" id=\"jupyter_black\">\n",
       "                (function() {\n",
       "                    if (window.IPython === undefined) {\n",
       "                        return\n",
       "                    }\n",
       "                    var msg = \"WARNING: it looks like you might have loaded \" +\n",
       "                        \"jupyter_black in a non-lab notebook with \" +\n",
       "                        \"`is_lab=True`. Please double check, and if \" +\n",
       "                        \"loading with `%load_ext` please review the README!\"\n",
       "                    console.log(msg)\n",
       "                    alert(msg)\n",
       "                })()\n",
       "                </script>\n",
       "                "
      ],
      "text/plain": [
       "<IPython.core.display.HTML object>"
      ]
     },
     "metadata": {},
     "output_type": "display_data"
    }
   ],
   "source": [
    "ACCESS_TOKEN = \"REPLACE_WITH_ACCESS_TOKEN\""
   ]
  },
  {
   "attachments": {},
   "cell_type": "markdown",
   "metadata": {},
   "source": [
    "# Gather data"
   ]
  },
  {
   "attachments": {},
   "cell_type": "markdown",
   "metadata": {},
   "source": [
    "The following are required when creating a new Analysis in Beam:\n",
    "\n",
    "1. Demand data: one csv file with columns for `date` and `demand` (see [here](https://docs.predicthq.com/api/beam/upload-demand-data#request-body) for more details)\n",
    "\n",
    "2. `lat`/`lon`: the coordinates of the location \n",
    "\n",
    "3. `industry`: the industry relevant to the location (see [here](https://docs.predicthq.com/api/beam/create-an-analysis#request-body) for more details)\n",
    "\n",
    "4. `analysis_name`: a user-created free-form string to reference the Analysis"
   ]
  },
  {
   "cell_type": "code",
   "execution_count": 4,
   "metadata": {},
   "outputs": [
    {
     "data": {
      "text/html": [
       "<div>\n",
       "<style scoped>\n",
       "    .dataframe tbody tr th:only-of-type {\n",
       "        vertical-align: middle;\n",
       "    }\n",
       "\n",
       "    .dataframe tbody tr th {\n",
       "        vertical-align: top;\n",
       "    }\n",
       "\n",
       "    .dataframe thead th {\n",
       "        text-align: right;\n",
       "    }\n",
       "</style>\n",
       "<table border=\"1\" class=\"dataframe\">\n",
       "  <thead>\n",
       "    <tr style=\"text-align: right;\">\n",
       "      <th></th>\n",
       "      <th>date</th>\n",
       "      <th>demand</th>\n",
       "    </tr>\n",
       "  </thead>\n",
       "  <tbody>\n",
       "    <tr>\n",
       "      <th>0</th>\n",
       "      <td>2017-01-09</td>\n",
       "      <td>8291.576677</td>\n",
       "    </tr>\n",
       "    <tr>\n",
       "      <th>1</th>\n",
       "      <td>2017-01-10</td>\n",
       "      <td>8629.401781</td>\n",
       "    </tr>\n",
       "    <tr>\n",
       "      <th>2</th>\n",
       "      <td>2017-01-11</td>\n",
       "      <td>7217.360816</td>\n",
       "    </tr>\n",
       "    <tr>\n",
       "      <th>3</th>\n",
       "      <td>2017-01-12</td>\n",
       "      <td>8404.744284</td>\n",
       "    </tr>\n",
       "    <tr>\n",
       "      <th>4</th>\n",
       "      <td>2017-01-13</td>\n",
       "      <td>8450.852853</td>\n",
       "    </tr>\n",
       "  </tbody>\n",
       "</table>\n",
       "</div>"
      ],
      "text/plain": [
       "         date       demand\n",
       "0  2017-01-09  8291.576677\n",
       "1  2017-01-10  8629.401781\n",
       "2  2017-01-11  7217.360816\n",
       "3  2017-01-12  8404.744284\n",
       "4  2017-01-13  8450.852853"
      ]
     },
     "execution_count": 4,
     "metadata": {},
     "output_type": "execute_result"
    }
   ],
   "source": [
    "# define demand details\n",
    "DEMAND_FILE_PATH = \"data/restaurant_demand.csv\"\n",
    "LAT = \"40.74559\"\n",
    "LON = \"-73.99452\"\n",
    "INDUSTRY = \"restaurants\"\n",
    "ANALYSIS_NAME = \"restaurant_daily_demand_example\"\n",
    "\n",
    "# inspect demand file\n",
    "pd.read_csv(DEMAND_FILE_PATH).head()"
   ]
  },
  {
   "attachments": {},
   "cell_type": "markdown",
   "metadata": {},
   "source": [
    "# Step 1. Identify relevant event features with Beam"
   ]
  },
  {
   "cell_type": "code",
   "execution_count": 5,
   "metadata": {},
   "outputs": [],
   "source": [
    "def create_beam_analysis_id(\n",
    "    lat,\n",
    "    lon,\n",
    "    industry,\n",
    "    analysis_name,\n",
    "    access_token=ACCESS_TOKEN,\n",
    "    beam_api_url=BEAM_API_URL,\n",
    "):\n",
    "    \"\"\"\n",
    "    Create a Beam Analysis ID for a location.\n",
    "    \"\"\"\n",
    "    url = f\"{beam_api_url}/analyses\"\n",
    "    headers = {\"Authorization\": \"Bearer \" + access_token, \"Accept\": \"application/json\"}\n",
    "    json = {\n",
    "        \"name\": analysis_name,\n",
    "        \"location\": {\n",
    "            \"geopoint\": {\n",
    "                \"lat\": lat,\n",
    "                \"lon\": lon,\n",
    "            },\n",
    "        },\n",
    "        \"demand_type\": {\n",
    "            \"industry\": industry,\n",
    "        },\n",
    "    }\n",
    "\n",
    "    response = requests.post(url=url, headers=headers, json=json)\n",
    "\n",
    "    analysis_id = response.json()[\"analysis_id\"]\n",
    "    print(f\"{analysis_id} created\")\n",
    "\n",
    "    return analysis_id\n",
    "\n",
    "\n",
    "def upload_demand_to_beam(\n",
    "    demand_file_path, analysis_id, access_token=ACCESS_TOKEN, beam_api_url=BEAM_API_URL\n",
    "):\n",
    "    \"\"\"\n",
    "    Upload demand data for a Beam Analysis.\n",
    "    \"\"\"\n",
    "    url = f\"{beam_api_url}/analyses/{analysis_id}/sink\"\n",
    "    headers = {\"Authorization\": \"Bearer \" + access_token, \"Content-Type\": \"text/csv\"}\n",
    "\n",
    "    response = requests.post(url=url, headers=headers, data=open(demand_file_path))\n",
    "\n",
    "    if response.status_code == 202:\n",
    "        print(f\"{analysis_id} demand uploading...\")\n",
    "    else:\n",
    "        print(response.content)\n",
    "\n",
    "\n",
    "def get_analysis_status(\n",
    "    analysis_id, access_token=ACCESS_TOKEN, beam_api_url=BEAM_API_URL\n",
    "):\n",
    "    \"\"\"\n",
    "    Check status of a Beam Analysis.\n",
    "    \"\"\"\n",
    "    url = f\"{beam_api_url}/analyses/{analysis_id}\"\n",
    "    headers = {\"Authorization\": \"Bearer \" + access_token, \"Accept\": \"application/json\"}\n",
    "\n",
    "    response = requests.get(url=url, headers=headers)\n",
    "\n",
    "    print(f\"{analysis_id} status: {response.json()['readiness_status']}\")"
   ]
  },
  {
   "cell_type": "markdown",
   "metadata": {},
   "source": [
    "Refresh the following block until `status` is  `ready`."
   ]
  },
  {
   "cell_type": "code",
   "execution_count": 6,
   "metadata": {},
   "outputs": [
    {
     "name": "stdout",
     "output_type": "stream",
     "text": [
      "YDwlR4fSkG4 status: ready\n"
     ]
    }
   ],
   "source": [
    "# create a Beam Analysis ID and upload demand data\n",
    "if \"analysis_id\" not in globals():\n",
    "    analysis_id = create_beam_analysis_id(\n",
    "        lat=LAT,\n",
    "        lon=LON,\n",
    "        industry=INDUSTRY,\n",
    "        analysis_name=ANALYSIS_NAME,\n",
    "    )\n",
    "    upload_demand_to_beam(demand_file_path=DEMAND_FILE_PATH, analysis_id=analysis_id)\n",
    "\n",
    "get_analysis_status(analysis_id=analysis_id)"
   ]
  },
  {
   "cell_type": "markdown",
   "metadata": {},
   "source": [
    "# Step 2. Retrieve event features from Features API"
   ]
  },
  {
   "cell_type": "code",
   "execution_count": 7,
   "metadata": {},
   "outputs": [],
   "source": [
    "def post_process_rank_features(df):\n",
    "    \"\"\"\n",
    "    Post-process rank features.\n",
    "    \"\"\"\n",
    "    rank_feature_cols = [col for col in df.columns if \"phq_rank\" in col]\n",
    "    rank_features = set(col.rsplit(\"_rank_levels\", 1)[0] for col in rank_feature_cols)\n",
    "\n",
    "    def find_max_rank(row):\n",
    "        for idx, value in enumerate(row[::-1], start=0):\n",
    "            if value > 0:\n",
    "                return len(row) - idx\n",
    "        return 0\n",
    "\n",
    "    for feature in rank_features:\n",
    "        related_columns = [col for col in rank_feature_cols if col.startswith(feature)]\n",
    "        df[f\"{feature}_stats_max\"] = df[related_columns].apply(\n",
    "            lambda row: find_max_rank(row) * 20, axis=1\n",
    "        )\n",
    "        df = df.drop(columns=related_columns)\n",
    "\n",
    "    return df\n",
    "\n",
    "\n",
    "def get_features(\n",
    "    analysis_id,\n",
    "    start,\n",
    "    end,\n",
    "    group_id=None,\n",
    "    access_token=ACCESS_TOKEN,\n",
    "    features_api_url=FEATURES_API_URL,\n",
    "):\n",
    "    \"\"\"\n",
    "    Fetch features from Features API for a Beam Analysis.\n",
    "    \"\"\"\n",
    "    url = features_api_url\n",
    "    headers = {\"Authorization\": \"Bearer \" + access_token, \"Accept\": \"text/csv\"}\n",
    "    beam_info = {\"analysis_id\": analysis_id}\n",
    "    if group_id is not None:\n",
    "        beam_info[\"group_id\"] = group_id\n",
    "    json = {\"beam\": beam_info, \"active\": {\"gte\": start, \"lte\": end}}\n",
    "\n",
    "    limit = 100\n",
    "    offset = 0\n",
    "    results = []\n",
    "\n",
    "    while True:\n",
    "        params = {\"limit\": limit, \"offset\": offset}\n",
    "\n",
    "        response = requests.post(url=url, headers=headers, json=json, params=params)\n",
    "        if not response.text.strip():\n",
    "            break\n",
    "        results.append(response.text)\n",
    "        offset += limit\n",
    "\n",
    "    df = pd.concat(\n",
    "        [pd.read_csv(StringIO(result), parse_dates=[\"date\"]) for result in results]\n",
    "    )\n",
    "    df = post_process_rank_features(df)\n",
    "\n",
    "    return df"
   ]
  },
  {
   "cell_type": "markdown",
   "metadata": {},
   "source": [
    "Set the desired date range to get relevant event features from Features API via the Beam `analysis_id`. Alternatively, add the `group_id` if the Analysis is part of a group and the relevant event features at the group level are of interest."
   ]
  },
  {
   "cell_type": "code",
   "execution_count": 8,
   "metadata": {},
   "outputs": [
    {
     "data": {
      "text/html": [
       "<div>\n",
       "<style scoped>\n",
       "    .dataframe tbody tr th:only-of-type {\n",
       "        vertical-align: middle;\n",
       "    }\n",
       "\n",
       "    .dataframe tbody tr th {\n",
       "        vertical-align: top;\n",
       "    }\n",
       "\n",
       "    .dataframe thead th {\n",
       "        text-align: right;\n",
       "    }\n",
       "</style>\n",
       "<table border=\"1\" class=\"dataframe\">\n",
       "  <thead>\n",
       "    <tr style=\"text-align: right;\">\n",
       "      <th></th>\n",
       "      <th>date</th>\n",
       "      <th>phq_attendance_community_hospitality_stats_sum</th>\n",
       "      <th>phq_attendance_concerts_hospitality_stats_sum</th>\n",
       "      <th>phq_attendance_conferences_hospitality_stats_sum</th>\n",
       "      <th>phq_attendance_expos_hospitality_stats_sum</th>\n",
       "      <th>phq_attendance_festivals_hospitality_stats_sum</th>\n",
       "      <th>phq_attendance_performing_arts_hospitality_stats_sum</th>\n",
       "      <th>phq_attendance_sports_hospitality_stats_sum</th>\n",
       "      <th>phq_impact_observances_hospitality_stats_max</th>\n",
       "      <th>phq_impact_public_holidays_hospitality_stats_max</th>\n",
       "      <th>...</th>\n",
       "      <th>phq_impact_severe_weather_dust_retail_stats_max</th>\n",
       "      <th>phq_impact_severe_weather_dust_storm_retail_stats_max</th>\n",
       "      <th>phq_impact_severe_weather_flood_retail_stats_max</th>\n",
       "      <th>phq_impact_severe_weather_heat_wave_retail_stats_max</th>\n",
       "      <th>phq_impact_severe_weather_hurricane_retail_stats_max</th>\n",
       "      <th>phq_impact_severe_weather_thunderstorm_retail_stats_max</th>\n",
       "      <th>phq_impact_severe_weather_tornado_retail_stats_max</th>\n",
       "      <th>phq_impact_severe_weather_tropical_storm_retail_stats_max</th>\n",
       "      <th>phq_rank_academic_exam_stats_max</th>\n",
       "      <th>phq_rank_academic_holiday_stats_max</th>\n",
       "    </tr>\n",
       "  </thead>\n",
       "  <tbody>\n",
       "    <tr>\n",
       "      <th>0</th>\n",
       "      <td>2017-01-09</td>\n",
       "      <td>1936</td>\n",
       "      <td>3719</td>\n",
       "      <td>0</td>\n",
       "      <td>0</td>\n",
       "      <td>0</td>\n",
       "      <td>13383</td>\n",
       "      <td>19812</td>\n",
       "      <td>0</td>\n",
       "      <td>0</td>\n",
       "      <td>...</td>\n",
       "      <td>0</td>\n",
       "      <td>0</td>\n",
       "      <td>0</td>\n",
       "      <td>0</td>\n",
       "      <td>0</td>\n",
       "      <td>0</td>\n",
       "      <td>0</td>\n",
       "      <td>0</td>\n",
       "      <td>0</td>\n",
       "      <td>0</td>\n",
       "    </tr>\n",
       "    <tr>\n",
       "      <th>1</th>\n",
       "      <td>2017-01-10</td>\n",
       "      <td>2405</td>\n",
       "      <td>6135</td>\n",
       "      <td>145</td>\n",
       "      <td>0</td>\n",
       "      <td>0</td>\n",
       "      <td>19597</td>\n",
       "      <td>6935</td>\n",
       "      <td>0</td>\n",
       "      <td>0</td>\n",
       "      <td>...</td>\n",
       "      <td>0</td>\n",
       "      <td>0</td>\n",
       "      <td>0</td>\n",
       "      <td>0</td>\n",
       "      <td>0</td>\n",
       "      <td>0</td>\n",
       "      <td>0</td>\n",
       "      <td>0</td>\n",
       "      <td>0</td>\n",
       "      <td>0</td>\n",
       "    </tr>\n",
       "    <tr>\n",
       "      <th>2</th>\n",
       "      <td>2017-01-11</td>\n",
       "      <td>1558</td>\n",
       "      <td>22420</td>\n",
       "      <td>100</td>\n",
       "      <td>142</td>\n",
       "      <td>0</td>\n",
       "      <td>22086</td>\n",
       "      <td>6935</td>\n",
       "      <td>0</td>\n",
       "      <td>0</td>\n",
       "      <td>...</td>\n",
       "      <td>0</td>\n",
       "      <td>0</td>\n",
       "      <td>0</td>\n",
       "      <td>0</td>\n",
       "      <td>0</td>\n",
       "      <td>0</td>\n",
       "      <td>0</td>\n",
       "      <td>0</td>\n",
       "      <td>0</td>\n",
       "      <td>0</td>\n",
       "    </tr>\n",
       "    <tr>\n",
       "      <th>3</th>\n",
       "      <td>2017-01-12</td>\n",
       "      <td>2654</td>\n",
       "      <td>6860</td>\n",
       "      <td>100</td>\n",
       "      <td>567</td>\n",
       "      <td>0</td>\n",
       "      <td>20406</td>\n",
       "      <td>26115</td>\n",
       "      <td>9</td>\n",
       "      <td>0</td>\n",
       "      <td>...</td>\n",
       "      <td>0</td>\n",
       "      <td>0</td>\n",
       "      <td>0</td>\n",
       "      <td>0</td>\n",
       "      <td>0</td>\n",
       "      <td>0</td>\n",
       "      <td>0</td>\n",
       "      <td>0</td>\n",
       "      <td>0</td>\n",
       "      <td>0</td>\n",
       "    </tr>\n",
       "    <tr>\n",
       "      <th>4</th>\n",
       "      <td>2017-01-13</td>\n",
       "      <td>5507</td>\n",
       "      <td>8748</td>\n",
       "      <td>100</td>\n",
       "      <td>2833</td>\n",
       "      <td>0</td>\n",
       "      <td>24046</td>\n",
       "      <td>31000</td>\n",
       "      <td>30</td>\n",
       "      <td>7</td>\n",
       "      <td>...</td>\n",
       "      <td>0</td>\n",
       "      <td>0</td>\n",
       "      <td>0</td>\n",
       "      <td>0</td>\n",
       "      <td>0</td>\n",
       "      <td>0</td>\n",
       "      <td>0</td>\n",
       "      <td>0</td>\n",
       "      <td>0</td>\n",
       "      <td>0</td>\n",
       "    </tr>\n",
       "  </tbody>\n",
       "</table>\n",
       "<p>5 rows × 25 columns</p>\n",
       "</div>"
      ],
      "text/plain": [
       "        date  phq_attendance_community_hospitality_stats_sum  \\\n",
       "0 2017-01-09                                            1936   \n",
       "1 2017-01-10                                            2405   \n",
       "2 2017-01-11                                            1558   \n",
       "3 2017-01-12                                            2654   \n",
       "4 2017-01-13                                            5507   \n",
       "\n",
       "   phq_attendance_concerts_hospitality_stats_sum  \\\n",
       "0                                           3719   \n",
       "1                                           6135   \n",
       "2                                          22420   \n",
       "3                                           6860   \n",
       "4                                           8748   \n",
       "\n",
       "   phq_attendance_conferences_hospitality_stats_sum  \\\n",
       "0                                                 0   \n",
       "1                                               145   \n",
       "2                                               100   \n",
       "3                                               100   \n",
       "4                                               100   \n",
       "\n",
       "   phq_attendance_expos_hospitality_stats_sum  \\\n",
       "0                                           0   \n",
       "1                                           0   \n",
       "2                                         142   \n",
       "3                                         567   \n",
       "4                                        2833   \n",
       "\n",
       "   phq_attendance_festivals_hospitality_stats_sum  \\\n",
       "0                                               0   \n",
       "1                                               0   \n",
       "2                                               0   \n",
       "3                                               0   \n",
       "4                                               0   \n",
       "\n",
       "   phq_attendance_performing_arts_hospitality_stats_sum  \\\n",
       "0                                              13383      \n",
       "1                                              19597      \n",
       "2                                              22086      \n",
       "3                                              20406      \n",
       "4                                              24046      \n",
       "\n",
       "   phq_attendance_sports_hospitality_stats_sum  \\\n",
       "0                                        19812   \n",
       "1                                         6935   \n",
       "2                                         6935   \n",
       "3                                        26115   \n",
       "4                                        31000   \n",
       "\n",
       "   phq_impact_observances_hospitality_stats_max  \\\n",
       "0                                             0   \n",
       "1                                             0   \n",
       "2                                             0   \n",
       "3                                             9   \n",
       "4                                            30   \n",
       "\n",
       "   phq_impact_public_holidays_hospitality_stats_max  ...  \\\n",
       "0                                                 0  ...   \n",
       "1                                                 0  ...   \n",
       "2                                                 0  ...   \n",
       "3                                                 0  ...   \n",
       "4                                                 7  ...   \n",
       "\n",
       "   phq_impact_severe_weather_dust_retail_stats_max  \\\n",
       "0                                                0   \n",
       "1                                                0   \n",
       "2                                                0   \n",
       "3                                                0   \n",
       "4                                                0   \n",
       "\n",
       "   phq_impact_severe_weather_dust_storm_retail_stats_max  \\\n",
       "0                                                  0       \n",
       "1                                                  0       \n",
       "2                                                  0       \n",
       "3                                                  0       \n",
       "4                                                  0       \n",
       "\n",
       "   phq_impact_severe_weather_flood_retail_stats_max  \\\n",
       "0                                                 0   \n",
       "1                                                 0   \n",
       "2                                                 0   \n",
       "3                                                 0   \n",
       "4                                                 0   \n",
       "\n",
       "   phq_impact_severe_weather_heat_wave_retail_stats_max  \\\n",
       "0                                                  0      \n",
       "1                                                  0      \n",
       "2                                                  0      \n",
       "3                                                  0      \n",
       "4                                                  0      \n",
       "\n",
       "   phq_impact_severe_weather_hurricane_retail_stats_max  \\\n",
       "0                                                  0      \n",
       "1                                                  0      \n",
       "2                                                  0      \n",
       "3                                                  0      \n",
       "4                                                  0      \n",
       "\n",
       "   phq_impact_severe_weather_thunderstorm_retail_stats_max  \\\n",
       "0                                                  0         \n",
       "1                                                  0         \n",
       "2                                                  0         \n",
       "3                                                  0         \n",
       "4                                                  0         \n",
       "\n",
       "   phq_impact_severe_weather_tornado_retail_stats_max  \\\n",
       "0                                                  0    \n",
       "1                                                  0    \n",
       "2                                                  0    \n",
       "3                                                  0    \n",
       "4                                                  0    \n",
       "\n",
       "   phq_impact_severe_weather_tropical_storm_retail_stats_max  \\\n",
       "0                                                  0           \n",
       "1                                                  0           \n",
       "2                                                  0           \n",
       "3                                                  0           \n",
       "4                                                  0           \n",
       "\n",
       "   phq_rank_academic_exam_stats_max  phq_rank_academic_holiday_stats_max  \n",
       "0                                 0                                    0  \n",
       "1                                 0                                    0  \n",
       "2                                 0                                    0  \n",
       "3                                 0                                    0  \n",
       "4                                 0                                    0  \n",
       "\n",
       "[5 rows x 25 columns]"
      ]
     },
     "execution_count": 8,
     "metadata": {},
     "output_type": "execute_result"
    }
   ],
   "source": [
    "START = \"2017-01-09\"\n",
    "END = \"2019-06-30\"\n",
    "\n",
    "# fetch features for the analysis\n",
    "event_features_df = get_features(\n",
    "    analysis_id=analysis_id, start=START, end=END, group_id=None\n",
    ")\n",
    "event_features_df.head()"
   ]
  },
  {
   "cell_type": "markdown",
   "metadata": {},
   "source": [
    "# Step 3. Use event features in demand forecasting"
   ]
  },
  {
   "cell_type": "markdown",
   "metadata": {},
   "source": [
    "Merge existing and event features together with demand."
   ]
  },
  {
   "cell_type": "code",
   "execution_count": 9,
   "metadata": {},
   "outputs": [],
   "source": [
    "demand_df = pd.read_csv(DEMAND_FILE_PATH, parse_dates=[\"date\"])\n",
    "existing_features_df = pd.read_csv(\n",
    "    \"data/restaurant_existing_features.csv\", parse_dates=[\"date\"]\n",
    ")\n",
    "\n",
    "# merge demand and features dataframes\n",
    "dataframes = [demand_df, existing_features_df, event_features_df]\n",
    "features_and_demand_df = reduce(\n",
    "    lambda left, right: pd.merge(left, right, on=\"date\", how=\"inner\"), dataframes\n",
    ")"
   ]
  },
  {
   "cell_type": "code",
   "execution_count": 10,
   "metadata": {},
   "outputs": [],
   "source": [
    "def split_data(df):\n",
    "    \"\"\"\n",
    "    Split data into train and test sets.\n",
    "    \"\"\"\n",
    "    df[\"date\"] = pd.to_datetime(df[\"date\"])\n",
    "    df = df.sort_values(\"date\")\n",
    "\n",
    "    cutoff_date = df[\"date\"].max() - pd.Timedelta(days=7)\n",
    "    train = df[df[\"date\"] <= cutoff_date]\n",
    "    test = df[df[\"date\"] > cutoff_date]\n",
    "    return train, test\n",
    "\n",
    "\n",
    "def train_model(x_train, y_train):\n",
    "    \"\"\"\n",
    "    Train an XGBoost model.\n",
    "    \"\"\"\n",
    "    tscv = TimeSeriesSplit(n_splits=5)\n",
    "    param_grid = {\n",
    "        \"n_estimators\": [50, 100],\n",
    "        \"learning_rate\": [0.01, 0.1, 0.3],\n",
    "        \"max_depth\": [5, 6, 7],\n",
    "    }\n",
    "    grid_search = GridSearchCV(\n",
    "        estimator=xgb.XGBRegressor(),\n",
    "        param_grid=param_grid,\n",
    "        cv=tscv,\n",
    "        scoring=\"neg_mean_squared_error\",\n",
    "    )\n",
    "    grid_search.fit(x_train, y_train)\n",
    "    best_model = grid_search.best_estimator_\n",
    "\n",
    "    return best_model\n",
    "\n",
    "\n",
    "def plot_results(train, test, y_train, y_test, y_pred, feature_set, accuracy):\n",
    "    \"\"\"\n",
    "    Plot actual vs. forecasted demand.\n",
    "    \"\"\"\n",
    "    plotting_cutoff_date = test[\"date\"].max() - pd.DateOffset(months=3)\n",
    "    train = train[train[\"date\"] >= plotting_cutoff_date]\n",
    "    test = test[test[\"date\"] >= plotting_cutoff_date]\n",
    "    y_train = y_train[train.index]\n",
    "    y_test = y_test[test.index]\n",
    "\n",
    "    actual_x = pd.concat([train[\"date\"], test[\"date\"]])\n",
    "    actual_y = pd.concat([pd.Series(y_train), pd.Series(y_test)])\n",
    "\n",
    "    actual_trace = go.Scatter(\n",
    "        x=actual_x,\n",
    "        y=actual_y,\n",
    "        mode=\"lines+markers\",\n",
    "        name=\"Actual Demand\",\n",
    "        line=dict(color=\"lightseagreen\"),\n",
    "    )\n",
    "\n",
    "    predicted_trace = go.Scatter(\n",
    "        x=test[\"date\"],\n",
    "        y=y_pred,\n",
    "        mode=\"lines+markers\",\n",
    "        name=\"Forecasted Demand\",\n",
    "        line=dict(color=\"lightcoral\"),\n",
    "    )\n",
    "\n",
    "    fig = go.Figure()\n",
    "    fig.add_trace(actual_trace)\n",
    "    fig.add_trace(predicted_trace)\n",
    "    fig.add_vline(\n",
    "        x=test[\"date\"].iloc[0], line_width=2, line_dash=\"dot\", line_color=\"lightgray\"\n",
    "    )\n",
    "\n",
    "    fig.update_layout(\n",
    "        title=(\n",
    "            f\"<b>Actual vs. Forecasted Demand</b><br>\"\n",
    "            f\"<sub>Features: {feature_set.replace('_', ' ')} | \"\n",
    "            f\"MAPE: {accuracy*100:.2f}%</sub>\"\n",
    "        ),\n",
    "        xaxis_title=\"Date\",\n",
    "        yaxis_title=\"Demand\",\n",
    "        legend_title=\"Type\",\n",
    "    )\n",
    "\n",
    "    fig.show()\n",
    "\n",
    "\n",
    "def calculate_forecast_uplift(base_metrics, new_metrics):\n",
    "    \"\"\"\n",
    "    Calculate uplift in forecast metrics.\n",
    "    \"\"\"\n",
    "    uplifts = {}\n",
    "    for metric in base_metrics:\n",
    "        base_value = base_metrics[metric]\n",
    "        new_value = new_metrics[metric]\n",
    "        uplift = (base_value - new_value) / base_value * 100\n",
    "        uplifts[f\"{metric}_uplift\"] = uplift\n",
    "\n",
    "    return uplifts"
   ]
  },
  {
   "cell_type": "code",
   "execution_count": 11,
   "metadata": {},
   "outputs": [
    {
     "data": {
      "application/vnd.plotly.v1+json": {
       "config": {
        "plotlyServerURL": "https://plot.ly"
       },
       "data": [
        {
         "line": {
          "color": "lightseagreen"
         },
         "mode": "lines+markers",
         "name": "Actual Demand",
         "type": "scatter",
         "x": [
          "2019-02-28T00:00:00",
          "2019-03-01T00:00:00",
          "2019-03-02T00:00:00",
          "2019-03-03T00:00:00",
          "2019-03-04T00:00:00",
          "2019-03-05T00:00:00",
          "2019-03-06T00:00:00",
          "2019-03-07T00:00:00",
          "2019-03-08T00:00:00",
          "2019-03-09T00:00:00",
          "2019-03-10T00:00:00",
          "2019-03-11T00:00:00",
          "2019-03-12T00:00:00",
          "2019-03-13T00:00:00",
          "2019-03-14T00:00:00",
          "2019-03-15T00:00:00",
          "2019-03-16T00:00:00",
          "2019-03-17T00:00:00",
          "2019-03-18T00:00:00",
          "2019-03-19T00:00:00",
          "2019-03-20T00:00:00",
          "2019-03-21T00:00:00",
          "2019-03-22T00:00:00",
          "2019-03-23T00:00:00",
          "2019-03-24T00:00:00",
          "2019-03-25T00:00:00",
          "2019-03-26T00:00:00",
          "2019-03-27T00:00:00",
          "2019-03-28T00:00:00",
          "2019-03-29T00:00:00",
          "2019-03-30T00:00:00",
          "2019-03-31T00:00:00",
          "2019-04-01T00:00:00",
          "2019-04-02T00:00:00",
          "2019-04-03T00:00:00",
          "2019-04-04T00:00:00",
          "2019-04-05T00:00:00",
          "2019-04-06T00:00:00",
          "2019-04-07T00:00:00",
          "2019-04-08T00:00:00",
          "2019-04-09T00:00:00",
          "2019-04-10T00:00:00",
          "2019-04-11T00:00:00",
          "2019-04-12T00:00:00",
          "2019-04-13T00:00:00",
          "2019-04-14T00:00:00",
          "2019-04-15T00:00:00",
          "2019-04-16T00:00:00",
          "2019-04-17T00:00:00",
          "2019-04-18T00:00:00",
          "2019-04-19T00:00:00",
          "2019-04-20T00:00:00",
          "2019-04-21T00:00:00",
          "2019-04-22T00:00:00",
          "2019-04-23T00:00:00",
          "2019-04-24T00:00:00",
          "2019-04-25T00:00:00",
          "2019-04-26T00:00:00",
          "2019-04-27T00:00:00",
          "2019-04-28T00:00:00",
          "2019-04-29T00:00:00",
          "2019-04-30T00:00:00",
          "2019-05-01T00:00:00",
          "2019-05-02T00:00:00",
          "2019-05-03T00:00:00",
          "2019-05-04T00:00:00",
          "2019-05-05T00:00:00",
          "2019-05-06T00:00:00",
          "2019-05-07T00:00:00",
          "2019-05-08T00:00:00",
          "2019-05-09T00:00:00",
          "2019-05-10T00:00:00",
          "2019-05-11T00:00:00",
          "2019-05-12T00:00:00",
          "2019-05-13T00:00:00",
          "2019-05-14T00:00:00",
          "2019-05-15T00:00:00",
          "2019-05-16T00:00:00",
          "2019-05-17T00:00:00",
          "2019-05-18T00:00:00",
          "2019-05-19T00:00:00",
          "2019-05-20T00:00:00",
          "2019-05-21T00:00:00",
          "2019-05-22T00:00:00",
          "2019-05-23T00:00:00",
          "2019-05-24T00:00:00",
          "2019-05-25T00:00:00",
          "2019-05-26T00:00:00",
          "2019-05-27T00:00:00",
          "2019-05-28T00:00:00",
          "2019-05-29T00:00:00",
          "2019-05-30T00:00:00",
          "2019-05-31T00:00:00"
         ],
         "y": [
          11784.9511271011,
          10246.9892034859,
          6180.82123257187,
          5828.74133228302,
          8962.38425400878,
          12317.4949054884,
          11268.1366300426,
          11515.734628178,
          10754.7218426096,
          7067.71990435072,
          6272.57319506117,
          12041.2436670194,
          11254.9176267157,
          11344.6331956227,
          12771.696244851,
          10842.1968228678,
          7459.29411406848,
          6052.94225383355,
          11362.8407251556,
          11413.3270871303,
          11514.5873933676,
          11729.4494947941,
          10058.0009074791,
          6312.93503763055,
          5873.18029622196,
          11243.8171409274,
          11077.279143938,
          11543.9170610074,
          11706.2029987378,
          10881.1739052855,
          7638.42928487413,
          5373.30000423293,
          11555.904370044,
          12282.2834109526,
          11628.6702355372,
          13287.0315806267,
          10928.0051568855,
          7318.82987263403,
          6814.39988015033,
          11113.4917925582,
          10950.425665815,
          12039.7552338596,
          10848.8236611701,
          10548.7483939305,
          6110.72454464911,
          5799.03327214624,
          6482.49526012702,
          11344.1655469815,
          10873.058807869,
          11283.3667637131,
          8662.28169327976,
          5810.93765961046,
          9533.72905376603,
          12191.3444538979,
          12358.6881467325,
          12727.0827802395,
          11556.3210538786,
          10664.3808284143,
          7328.87249396385,
          6390.17799187069,
          11937.0772468787,
          11213.7598360913,
          10813.9777210342,
          11723.7734022695,
          11309.1227942343,
          6764.41498112385,
          6285.42587953188,
          11072.2956451175,
          11199.9821190869,
          12010.8169228244,
          11748.5394950963,
          9382.68555566375,
          6296.35204696098,
          5244.11196948692,
          11254.704918533,
          11617.3372908163,
          11748.9650383144,
          12312.7403152394,
          10710.1360192986,
          7158.9519857865,
          6252.54338974736,
          11429.8117566315,
          10352.8979581648,
          10397.3090690155,
          10470.6449896596,
          8643.36653904369,
          5419.61983436335,
          4610.88340917781,
          5031.43558128854,
          9771.55098700311,
          9803.32549798157,
          10078.0631201852,
          9467.5003772262
         ]
        },
        {
         "line": {
          "color": "lightcoral"
         },
         "mode": "lines+markers",
         "name": "Forecasted Demand",
         "type": "scatter",
         "x": [
          "2019-05-25T00:00:00",
          "2019-05-26T00:00:00",
          "2019-05-27T00:00:00",
          "2019-05-28T00:00:00",
          "2019-05-29T00:00:00",
          "2019-05-30T00:00:00",
          "2019-05-31T00:00:00"
         ],
         "y": [
          5288.1728515625,
          4910.8935546875,
          6160.04052734375,
          9480.18359375,
          9924.16015625,
          10086.5908203125,
          9116.5537109375
         ]
        }
       ],
       "layout": {
        "legend": {
         "title": {
          "text": "Type"
         }
        },
        "shapes": [
         {
          "line": {
           "color": "lightgray",
           "dash": "dot",
           "width": 2
          },
          "type": "line",
          "x0": "2019-05-25T00:00:00",
          "x1": "2019-05-25T00:00:00",
          "xref": "x",
          "y0": 0,
          "y1": 1,
          "yref": "y domain"
         }
        ],
        "template": {
         "data": {
          "bar": [
           {
            "error_x": {
             "color": "#2a3f5f"
            },
            "error_y": {
             "color": "#2a3f5f"
            },
            "marker": {
             "line": {
              "color": "#E5ECF6",
              "width": 0.5
             },
             "pattern": {
              "fillmode": "overlay",
              "size": 10,
              "solidity": 0.2
             }
            },
            "type": "bar"
           }
          ],
          "barpolar": [
           {
            "marker": {
             "line": {
              "color": "#E5ECF6",
              "width": 0.5
             },
             "pattern": {
              "fillmode": "overlay",
              "size": 10,
              "solidity": 0.2
             }
            },
            "type": "barpolar"
           }
          ],
          "carpet": [
           {
            "aaxis": {
             "endlinecolor": "#2a3f5f",
             "gridcolor": "white",
             "linecolor": "white",
             "minorgridcolor": "white",
             "startlinecolor": "#2a3f5f"
            },
            "baxis": {
             "endlinecolor": "#2a3f5f",
             "gridcolor": "white",
             "linecolor": "white",
             "minorgridcolor": "white",
             "startlinecolor": "#2a3f5f"
            },
            "type": "carpet"
           }
          ],
          "choropleth": [
           {
            "colorbar": {
             "outlinewidth": 0,
             "ticks": ""
            },
            "type": "choropleth"
           }
          ],
          "contour": [
           {
            "colorbar": {
             "outlinewidth": 0,
             "ticks": ""
            },
            "colorscale": [
             [
              0,
              "#0d0887"
             ],
             [
              0.1111111111111111,
              "#46039f"
             ],
             [
              0.2222222222222222,
              "#7201a8"
             ],
             [
              0.3333333333333333,
              "#9c179e"
             ],
             [
              0.4444444444444444,
              "#bd3786"
             ],
             [
              0.5555555555555556,
              "#d8576b"
             ],
             [
              0.6666666666666666,
              "#ed7953"
             ],
             [
              0.7777777777777778,
              "#fb9f3a"
             ],
             [
              0.8888888888888888,
              "#fdca26"
             ],
             [
              1,
              "#f0f921"
             ]
            ],
            "type": "contour"
           }
          ],
          "contourcarpet": [
           {
            "colorbar": {
             "outlinewidth": 0,
             "ticks": ""
            },
            "type": "contourcarpet"
           }
          ],
          "heatmap": [
           {
            "colorbar": {
             "outlinewidth": 0,
             "ticks": ""
            },
            "colorscale": [
             [
              0,
              "#0d0887"
             ],
             [
              0.1111111111111111,
              "#46039f"
             ],
             [
              0.2222222222222222,
              "#7201a8"
             ],
             [
              0.3333333333333333,
              "#9c179e"
             ],
             [
              0.4444444444444444,
              "#bd3786"
             ],
             [
              0.5555555555555556,
              "#d8576b"
             ],
             [
              0.6666666666666666,
              "#ed7953"
             ],
             [
              0.7777777777777778,
              "#fb9f3a"
             ],
             [
              0.8888888888888888,
              "#fdca26"
             ],
             [
              1,
              "#f0f921"
             ]
            ],
            "type": "heatmap"
           }
          ],
          "heatmapgl": [
           {
            "colorbar": {
             "outlinewidth": 0,
             "ticks": ""
            },
            "colorscale": [
             [
              0,
              "#0d0887"
             ],
             [
              0.1111111111111111,
              "#46039f"
             ],
             [
              0.2222222222222222,
              "#7201a8"
             ],
             [
              0.3333333333333333,
              "#9c179e"
             ],
             [
              0.4444444444444444,
              "#bd3786"
             ],
             [
              0.5555555555555556,
              "#d8576b"
             ],
             [
              0.6666666666666666,
              "#ed7953"
             ],
             [
              0.7777777777777778,
              "#fb9f3a"
             ],
             [
              0.8888888888888888,
              "#fdca26"
             ],
             [
              1,
              "#f0f921"
             ]
            ],
            "type": "heatmapgl"
           }
          ],
          "histogram": [
           {
            "marker": {
             "pattern": {
              "fillmode": "overlay",
              "size": 10,
              "solidity": 0.2
             }
            },
            "type": "histogram"
           }
          ],
          "histogram2d": [
           {
            "colorbar": {
             "outlinewidth": 0,
             "ticks": ""
            },
            "colorscale": [
             [
              0,
              "#0d0887"
             ],
             [
              0.1111111111111111,
              "#46039f"
             ],
             [
              0.2222222222222222,
              "#7201a8"
             ],
             [
              0.3333333333333333,
              "#9c179e"
             ],
             [
              0.4444444444444444,
              "#bd3786"
             ],
             [
              0.5555555555555556,
              "#d8576b"
             ],
             [
              0.6666666666666666,
              "#ed7953"
             ],
             [
              0.7777777777777778,
              "#fb9f3a"
             ],
             [
              0.8888888888888888,
              "#fdca26"
             ],
             [
              1,
              "#f0f921"
             ]
            ],
            "type": "histogram2d"
           }
          ],
          "histogram2dcontour": [
           {
            "colorbar": {
             "outlinewidth": 0,
             "ticks": ""
            },
            "colorscale": [
             [
              0,
              "#0d0887"
             ],
             [
              0.1111111111111111,
              "#46039f"
             ],
             [
              0.2222222222222222,
              "#7201a8"
             ],
             [
              0.3333333333333333,
              "#9c179e"
             ],
             [
              0.4444444444444444,
              "#bd3786"
             ],
             [
              0.5555555555555556,
              "#d8576b"
             ],
             [
              0.6666666666666666,
              "#ed7953"
             ],
             [
              0.7777777777777778,
              "#fb9f3a"
             ],
             [
              0.8888888888888888,
              "#fdca26"
             ],
             [
              1,
              "#f0f921"
             ]
            ],
            "type": "histogram2dcontour"
           }
          ],
          "mesh3d": [
           {
            "colorbar": {
             "outlinewidth": 0,
             "ticks": ""
            },
            "type": "mesh3d"
           }
          ],
          "parcoords": [
           {
            "line": {
             "colorbar": {
              "outlinewidth": 0,
              "ticks": ""
             }
            },
            "type": "parcoords"
           }
          ],
          "pie": [
           {
            "automargin": true,
            "type": "pie"
           }
          ],
          "scatter": [
           {
            "fillpattern": {
             "fillmode": "overlay",
             "size": 10,
             "solidity": 0.2
            },
            "type": "scatter"
           }
          ],
          "scatter3d": [
           {
            "line": {
             "colorbar": {
              "outlinewidth": 0,
              "ticks": ""
             }
            },
            "marker": {
             "colorbar": {
              "outlinewidth": 0,
              "ticks": ""
             }
            },
            "type": "scatter3d"
           }
          ],
          "scattercarpet": [
           {
            "marker": {
             "colorbar": {
              "outlinewidth": 0,
              "ticks": ""
             }
            },
            "type": "scattercarpet"
           }
          ],
          "scattergeo": [
           {
            "marker": {
             "colorbar": {
              "outlinewidth": 0,
              "ticks": ""
             }
            },
            "type": "scattergeo"
           }
          ],
          "scattergl": [
           {
            "marker": {
             "colorbar": {
              "outlinewidth": 0,
              "ticks": ""
             }
            },
            "type": "scattergl"
           }
          ],
          "scattermapbox": [
           {
            "marker": {
             "colorbar": {
              "outlinewidth": 0,
              "ticks": ""
             }
            },
            "type": "scattermapbox"
           }
          ],
          "scatterpolar": [
           {
            "marker": {
             "colorbar": {
              "outlinewidth": 0,
              "ticks": ""
             }
            },
            "type": "scatterpolar"
           }
          ],
          "scatterpolargl": [
           {
            "marker": {
             "colorbar": {
              "outlinewidth": 0,
              "ticks": ""
             }
            },
            "type": "scatterpolargl"
           }
          ],
          "scatterternary": [
           {
            "marker": {
             "colorbar": {
              "outlinewidth": 0,
              "ticks": ""
             }
            },
            "type": "scatterternary"
           }
          ],
          "surface": [
           {
            "colorbar": {
             "outlinewidth": 0,
             "ticks": ""
            },
            "colorscale": [
             [
              0,
              "#0d0887"
             ],
             [
              0.1111111111111111,
              "#46039f"
             ],
             [
              0.2222222222222222,
              "#7201a8"
             ],
             [
              0.3333333333333333,
              "#9c179e"
             ],
             [
              0.4444444444444444,
              "#bd3786"
             ],
             [
              0.5555555555555556,
              "#d8576b"
             ],
             [
              0.6666666666666666,
              "#ed7953"
             ],
             [
              0.7777777777777778,
              "#fb9f3a"
             ],
             [
              0.8888888888888888,
              "#fdca26"
             ],
             [
              1,
              "#f0f921"
             ]
            ],
            "type": "surface"
           }
          ],
          "table": [
           {
            "cells": {
             "fill": {
              "color": "#EBF0F8"
             },
             "line": {
              "color": "white"
             }
            },
            "header": {
             "fill": {
              "color": "#C8D4E3"
             },
             "line": {
              "color": "white"
             }
            },
            "type": "table"
           }
          ]
         },
         "layout": {
          "annotationdefaults": {
           "arrowcolor": "#2a3f5f",
           "arrowhead": 0,
           "arrowwidth": 1
          },
          "autotypenumbers": "strict",
          "coloraxis": {
           "colorbar": {
            "outlinewidth": 0,
            "ticks": ""
           }
          },
          "colorscale": {
           "diverging": [
            [
             0,
             "#8e0152"
            ],
            [
             0.1,
             "#c51b7d"
            ],
            [
             0.2,
             "#de77ae"
            ],
            [
             0.3,
             "#f1b6da"
            ],
            [
             0.4,
             "#fde0ef"
            ],
            [
             0.5,
             "#f7f7f7"
            ],
            [
             0.6,
             "#e6f5d0"
            ],
            [
             0.7,
             "#b8e186"
            ],
            [
             0.8,
             "#7fbc41"
            ],
            [
             0.9,
             "#4d9221"
            ],
            [
             1,
             "#276419"
            ]
           ],
           "sequential": [
            [
             0,
             "#0d0887"
            ],
            [
             0.1111111111111111,
             "#46039f"
            ],
            [
             0.2222222222222222,
             "#7201a8"
            ],
            [
             0.3333333333333333,
             "#9c179e"
            ],
            [
             0.4444444444444444,
             "#bd3786"
            ],
            [
             0.5555555555555556,
             "#d8576b"
            ],
            [
             0.6666666666666666,
             "#ed7953"
            ],
            [
             0.7777777777777778,
             "#fb9f3a"
            ],
            [
             0.8888888888888888,
             "#fdca26"
            ],
            [
             1,
             "#f0f921"
            ]
           ],
           "sequentialminus": [
            [
             0,
             "#0d0887"
            ],
            [
             0.1111111111111111,
             "#46039f"
            ],
            [
             0.2222222222222222,
             "#7201a8"
            ],
            [
             0.3333333333333333,
             "#9c179e"
            ],
            [
             0.4444444444444444,
             "#bd3786"
            ],
            [
             0.5555555555555556,
             "#d8576b"
            ],
            [
             0.6666666666666666,
             "#ed7953"
            ],
            [
             0.7777777777777778,
             "#fb9f3a"
            ],
            [
             0.8888888888888888,
             "#fdca26"
            ],
            [
             1,
             "#f0f921"
            ]
           ]
          },
          "colorway": [
           "#636efa",
           "#EF553B",
           "#00cc96",
           "#ab63fa",
           "#FFA15A",
           "#19d3f3",
           "#FF6692",
           "#B6E880",
           "#FF97FF",
           "#FECB52"
          ],
          "font": {
           "color": "#2a3f5f"
          },
          "geo": {
           "bgcolor": "white",
           "lakecolor": "white",
           "landcolor": "#E5ECF6",
           "showlakes": true,
           "showland": true,
           "subunitcolor": "white"
          },
          "hoverlabel": {
           "align": "left"
          },
          "hovermode": "closest",
          "mapbox": {
           "style": "light"
          },
          "paper_bgcolor": "white",
          "plot_bgcolor": "#E5ECF6",
          "polar": {
           "angularaxis": {
            "gridcolor": "white",
            "linecolor": "white",
            "ticks": ""
           },
           "bgcolor": "#E5ECF6",
           "radialaxis": {
            "gridcolor": "white",
            "linecolor": "white",
            "ticks": ""
           }
          },
          "scene": {
           "xaxis": {
            "backgroundcolor": "#E5ECF6",
            "gridcolor": "white",
            "gridwidth": 2,
            "linecolor": "white",
            "showbackground": true,
            "ticks": "",
            "zerolinecolor": "white"
           },
           "yaxis": {
            "backgroundcolor": "#E5ECF6",
            "gridcolor": "white",
            "gridwidth": 2,
            "linecolor": "white",
            "showbackground": true,
            "ticks": "",
            "zerolinecolor": "white"
           },
           "zaxis": {
            "backgroundcolor": "#E5ECF6",
            "gridcolor": "white",
            "gridwidth": 2,
            "linecolor": "white",
            "showbackground": true,
            "ticks": "",
            "zerolinecolor": "white"
           }
          },
          "shapedefaults": {
           "line": {
            "color": "#2a3f5f"
           }
          },
          "ternary": {
           "aaxis": {
            "gridcolor": "white",
            "linecolor": "white",
            "ticks": ""
           },
           "baxis": {
            "gridcolor": "white",
            "linecolor": "white",
            "ticks": ""
           },
           "bgcolor": "#E5ECF6",
           "caxis": {
            "gridcolor": "white",
            "linecolor": "white",
            "ticks": ""
           }
          },
          "title": {
           "x": 0.05
          },
          "xaxis": {
           "automargin": true,
           "gridcolor": "white",
           "linecolor": "white",
           "ticks": "",
           "title": {
            "standoff": 15
           },
           "zerolinecolor": "white",
           "zerolinewidth": 2
          },
          "yaxis": {
           "automargin": true,
           "gridcolor": "white",
           "linecolor": "white",
           "ticks": "",
           "title": {
            "standoff": 15
           },
           "zerolinecolor": "white",
           "zerolinewidth": 2
          }
         }
        },
        "title": {
         "text": "<b>Actual vs. Forecasted Demand</b><br><sub>Features: existing and event features | MAPE: 5.62%</sub>"
        },
        "xaxis": {
         "title": {
          "text": "Date"
         }
        },
        "yaxis": {
         "title": {
          "text": "Demand"
         }
        }
       }
      }
     },
     "metadata": {},
     "output_type": "display_data"
    },
    {
     "data": {
      "application/vnd.plotly.v1+json": {
       "config": {
        "plotlyServerURL": "https://plot.ly"
       },
       "data": [
        {
         "line": {
          "color": "lightseagreen"
         },
         "mode": "lines+markers",
         "name": "Actual Demand",
         "type": "scatter",
         "x": [
          "2019-02-28T00:00:00",
          "2019-03-01T00:00:00",
          "2019-03-02T00:00:00",
          "2019-03-03T00:00:00",
          "2019-03-04T00:00:00",
          "2019-03-05T00:00:00",
          "2019-03-06T00:00:00",
          "2019-03-07T00:00:00",
          "2019-03-08T00:00:00",
          "2019-03-09T00:00:00",
          "2019-03-10T00:00:00",
          "2019-03-11T00:00:00",
          "2019-03-12T00:00:00",
          "2019-03-13T00:00:00",
          "2019-03-14T00:00:00",
          "2019-03-15T00:00:00",
          "2019-03-16T00:00:00",
          "2019-03-17T00:00:00",
          "2019-03-18T00:00:00",
          "2019-03-19T00:00:00",
          "2019-03-20T00:00:00",
          "2019-03-21T00:00:00",
          "2019-03-22T00:00:00",
          "2019-03-23T00:00:00",
          "2019-03-24T00:00:00",
          "2019-03-25T00:00:00",
          "2019-03-26T00:00:00",
          "2019-03-27T00:00:00",
          "2019-03-28T00:00:00",
          "2019-03-29T00:00:00",
          "2019-03-30T00:00:00",
          "2019-03-31T00:00:00",
          "2019-04-01T00:00:00",
          "2019-04-02T00:00:00",
          "2019-04-03T00:00:00",
          "2019-04-04T00:00:00",
          "2019-04-05T00:00:00",
          "2019-04-06T00:00:00",
          "2019-04-07T00:00:00",
          "2019-04-08T00:00:00",
          "2019-04-09T00:00:00",
          "2019-04-10T00:00:00",
          "2019-04-11T00:00:00",
          "2019-04-12T00:00:00",
          "2019-04-13T00:00:00",
          "2019-04-14T00:00:00",
          "2019-04-15T00:00:00",
          "2019-04-16T00:00:00",
          "2019-04-17T00:00:00",
          "2019-04-18T00:00:00",
          "2019-04-19T00:00:00",
          "2019-04-20T00:00:00",
          "2019-04-21T00:00:00",
          "2019-04-22T00:00:00",
          "2019-04-23T00:00:00",
          "2019-04-24T00:00:00",
          "2019-04-25T00:00:00",
          "2019-04-26T00:00:00",
          "2019-04-27T00:00:00",
          "2019-04-28T00:00:00",
          "2019-04-29T00:00:00",
          "2019-04-30T00:00:00",
          "2019-05-01T00:00:00",
          "2019-05-02T00:00:00",
          "2019-05-03T00:00:00",
          "2019-05-04T00:00:00",
          "2019-05-05T00:00:00",
          "2019-05-06T00:00:00",
          "2019-05-07T00:00:00",
          "2019-05-08T00:00:00",
          "2019-05-09T00:00:00",
          "2019-05-10T00:00:00",
          "2019-05-11T00:00:00",
          "2019-05-12T00:00:00",
          "2019-05-13T00:00:00",
          "2019-05-14T00:00:00",
          "2019-05-15T00:00:00",
          "2019-05-16T00:00:00",
          "2019-05-17T00:00:00",
          "2019-05-18T00:00:00",
          "2019-05-19T00:00:00",
          "2019-05-20T00:00:00",
          "2019-05-21T00:00:00",
          "2019-05-22T00:00:00",
          "2019-05-23T00:00:00",
          "2019-05-24T00:00:00",
          "2019-05-25T00:00:00",
          "2019-05-26T00:00:00",
          "2019-05-27T00:00:00",
          "2019-05-28T00:00:00",
          "2019-05-29T00:00:00",
          "2019-05-30T00:00:00",
          "2019-05-31T00:00:00"
         ],
         "y": [
          11784.9511271011,
          10246.9892034859,
          6180.82123257187,
          5828.74133228302,
          8962.38425400878,
          12317.4949054884,
          11268.1366300426,
          11515.734628178,
          10754.7218426096,
          7067.71990435072,
          6272.57319506117,
          12041.2436670194,
          11254.9176267157,
          11344.6331956227,
          12771.696244851,
          10842.1968228678,
          7459.29411406848,
          6052.94225383355,
          11362.8407251556,
          11413.3270871303,
          11514.5873933676,
          11729.4494947941,
          10058.0009074791,
          6312.93503763055,
          5873.18029622196,
          11243.8171409274,
          11077.279143938,
          11543.9170610074,
          11706.2029987378,
          10881.1739052855,
          7638.42928487413,
          5373.30000423293,
          11555.904370044,
          12282.2834109526,
          11628.6702355372,
          13287.0315806267,
          10928.0051568855,
          7318.82987263403,
          6814.39988015033,
          11113.4917925582,
          10950.425665815,
          12039.7552338596,
          10848.8236611701,
          10548.7483939305,
          6110.72454464911,
          5799.03327214624,
          6482.49526012702,
          11344.1655469815,
          10873.058807869,
          11283.3667637131,
          8662.28169327976,
          5810.93765961046,
          9533.72905376603,
          12191.3444538979,
          12358.6881467325,
          12727.0827802395,
          11556.3210538786,
          10664.3808284143,
          7328.87249396385,
          6390.17799187069,
          11937.0772468787,
          11213.7598360913,
          10813.9777210342,
          11723.7734022695,
          11309.1227942343,
          6764.41498112385,
          6285.42587953188,
          11072.2956451175,
          11199.9821190869,
          12010.8169228244,
          11748.5394950963,
          9382.68555566375,
          6296.35204696098,
          5244.11196948692,
          11254.704918533,
          11617.3372908163,
          11748.9650383144,
          12312.7403152394,
          10710.1360192986,
          7158.9519857865,
          6252.54338974736,
          11429.8117566315,
          10352.8979581648,
          10397.3090690155,
          10470.6449896596,
          8643.36653904369,
          5419.61983436335,
          4610.88340917781,
          5031.43558128854,
          9771.55098700311,
          9803.32549798157,
          10078.0631201852,
          9467.5003772262
         ]
        },
        {
         "line": {
          "color": "lightcoral"
         },
         "mode": "lines+markers",
         "name": "Forecasted Demand",
         "type": "scatter",
         "x": [
          "2019-05-25T00:00:00",
          "2019-05-26T00:00:00",
          "2019-05-27T00:00:00",
          "2019-05-28T00:00:00",
          "2019-05-29T00:00:00",
          "2019-05-30T00:00:00",
          "2019-05-31T00:00:00"
         ],
         "y": [
          5536.6044921875,
          5148.919921875,
          8783.162109375,
          8190.251953125,
          8821.2021484375,
          9070.0244140625,
          9048.9375
         ]
        }
       ],
       "layout": {
        "legend": {
         "title": {
          "text": "Type"
         }
        },
        "shapes": [
         {
          "line": {
           "color": "lightgray",
           "dash": "dot",
           "width": 2
          },
          "type": "line",
          "x0": "2019-05-25T00:00:00",
          "x1": "2019-05-25T00:00:00",
          "xref": "x",
          "y0": 0,
          "y1": 1,
          "yref": "y domain"
         }
        ],
        "template": {
         "data": {
          "bar": [
           {
            "error_x": {
             "color": "#2a3f5f"
            },
            "error_y": {
             "color": "#2a3f5f"
            },
            "marker": {
             "line": {
              "color": "#E5ECF6",
              "width": 0.5
             },
             "pattern": {
              "fillmode": "overlay",
              "size": 10,
              "solidity": 0.2
             }
            },
            "type": "bar"
           }
          ],
          "barpolar": [
           {
            "marker": {
             "line": {
              "color": "#E5ECF6",
              "width": 0.5
             },
             "pattern": {
              "fillmode": "overlay",
              "size": 10,
              "solidity": 0.2
             }
            },
            "type": "barpolar"
           }
          ],
          "carpet": [
           {
            "aaxis": {
             "endlinecolor": "#2a3f5f",
             "gridcolor": "white",
             "linecolor": "white",
             "minorgridcolor": "white",
             "startlinecolor": "#2a3f5f"
            },
            "baxis": {
             "endlinecolor": "#2a3f5f",
             "gridcolor": "white",
             "linecolor": "white",
             "minorgridcolor": "white",
             "startlinecolor": "#2a3f5f"
            },
            "type": "carpet"
           }
          ],
          "choropleth": [
           {
            "colorbar": {
             "outlinewidth": 0,
             "ticks": ""
            },
            "type": "choropleth"
           }
          ],
          "contour": [
           {
            "colorbar": {
             "outlinewidth": 0,
             "ticks": ""
            },
            "colorscale": [
             [
              0,
              "#0d0887"
             ],
             [
              0.1111111111111111,
              "#46039f"
             ],
             [
              0.2222222222222222,
              "#7201a8"
             ],
             [
              0.3333333333333333,
              "#9c179e"
             ],
             [
              0.4444444444444444,
              "#bd3786"
             ],
             [
              0.5555555555555556,
              "#d8576b"
             ],
             [
              0.6666666666666666,
              "#ed7953"
             ],
             [
              0.7777777777777778,
              "#fb9f3a"
             ],
             [
              0.8888888888888888,
              "#fdca26"
             ],
             [
              1,
              "#f0f921"
             ]
            ],
            "type": "contour"
           }
          ],
          "contourcarpet": [
           {
            "colorbar": {
             "outlinewidth": 0,
             "ticks": ""
            },
            "type": "contourcarpet"
           }
          ],
          "heatmap": [
           {
            "colorbar": {
             "outlinewidth": 0,
             "ticks": ""
            },
            "colorscale": [
             [
              0,
              "#0d0887"
             ],
             [
              0.1111111111111111,
              "#46039f"
             ],
             [
              0.2222222222222222,
              "#7201a8"
             ],
             [
              0.3333333333333333,
              "#9c179e"
             ],
             [
              0.4444444444444444,
              "#bd3786"
             ],
             [
              0.5555555555555556,
              "#d8576b"
             ],
             [
              0.6666666666666666,
              "#ed7953"
             ],
             [
              0.7777777777777778,
              "#fb9f3a"
             ],
             [
              0.8888888888888888,
              "#fdca26"
             ],
             [
              1,
              "#f0f921"
             ]
            ],
            "type": "heatmap"
           }
          ],
          "heatmapgl": [
           {
            "colorbar": {
             "outlinewidth": 0,
             "ticks": ""
            },
            "colorscale": [
             [
              0,
              "#0d0887"
             ],
             [
              0.1111111111111111,
              "#46039f"
             ],
             [
              0.2222222222222222,
              "#7201a8"
             ],
             [
              0.3333333333333333,
              "#9c179e"
             ],
             [
              0.4444444444444444,
              "#bd3786"
             ],
             [
              0.5555555555555556,
              "#d8576b"
             ],
             [
              0.6666666666666666,
              "#ed7953"
             ],
             [
              0.7777777777777778,
              "#fb9f3a"
             ],
             [
              0.8888888888888888,
              "#fdca26"
             ],
             [
              1,
              "#f0f921"
             ]
            ],
            "type": "heatmapgl"
           }
          ],
          "histogram": [
           {
            "marker": {
             "pattern": {
              "fillmode": "overlay",
              "size": 10,
              "solidity": 0.2
             }
            },
            "type": "histogram"
           }
          ],
          "histogram2d": [
           {
            "colorbar": {
             "outlinewidth": 0,
             "ticks": ""
            },
            "colorscale": [
             [
              0,
              "#0d0887"
             ],
             [
              0.1111111111111111,
              "#46039f"
             ],
             [
              0.2222222222222222,
              "#7201a8"
             ],
             [
              0.3333333333333333,
              "#9c179e"
             ],
             [
              0.4444444444444444,
              "#bd3786"
             ],
             [
              0.5555555555555556,
              "#d8576b"
             ],
             [
              0.6666666666666666,
              "#ed7953"
             ],
             [
              0.7777777777777778,
              "#fb9f3a"
             ],
             [
              0.8888888888888888,
              "#fdca26"
             ],
             [
              1,
              "#f0f921"
             ]
            ],
            "type": "histogram2d"
           }
          ],
          "histogram2dcontour": [
           {
            "colorbar": {
             "outlinewidth": 0,
             "ticks": ""
            },
            "colorscale": [
             [
              0,
              "#0d0887"
             ],
             [
              0.1111111111111111,
              "#46039f"
             ],
             [
              0.2222222222222222,
              "#7201a8"
             ],
             [
              0.3333333333333333,
              "#9c179e"
             ],
             [
              0.4444444444444444,
              "#bd3786"
             ],
             [
              0.5555555555555556,
              "#d8576b"
             ],
             [
              0.6666666666666666,
              "#ed7953"
             ],
             [
              0.7777777777777778,
              "#fb9f3a"
             ],
             [
              0.8888888888888888,
              "#fdca26"
             ],
             [
              1,
              "#f0f921"
             ]
            ],
            "type": "histogram2dcontour"
           }
          ],
          "mesh3d": [
           {
            "colorbar": {
             "outlinewidth": 0,
             "ticks": ""
            },
            "type": "mesh3d"
           }
          ],
          "parcoords": [
           {
            "line": {
             "colorbar": {
              "outlinewidth": 0,
              "ticks": ""
             }
            },
            "type": "parcoords"
           }
          ],
          "pie": [
           {
            "automargin": true,
            "type": "pie"
           }
          ],
          "scatter": [
           {
            "fillpattern": {
             "fillmode": "overlay",
             "size": 10,
             "solidity": 0.2
            },
            "type": "scatter"
           }
          ],
          "scatter3d": [
           {
            "line": {
             "colorbar": {
              "outlinewidth": 0,
              "ticks": ""
             }
            },
            "marker": {
             "colorbar": {
              "outlinewidth": 0,
              "ticks": ""
             }
            },
            "type": "scatter3d"
           }
          ],
          "scattercarpet": [
           {
            "marker": {
             "colorbar": {
              "outlinewidth": 0,
              "ticks": ""
             }
            },
            "type": "scattercarpet"
           }
          ],
          "scattergeo": [
           {
            "marker": {
             "colorbar": {
              "outlinewidth": 0,
              "ticks": ""
             }
            },
            "type": "scattergeo"
           }
          ],
          "scattergl": [
           {
            "marker": {
             "colorbar": {
              "outlinewidth": 0,
              "ticks": ""
             }
            },
            "type": "scattergl"
           }
          ],
          "scattermapbox": [
           {
            "marker": {
             "colorbar": {
              "outlinewidth": 0,
              "ticks": ""
             }
            },
            "type": "scattermapbox"
           }
          ],
          "scatterpolar": [
           {
            "marker": {
             "colorbar": {
              "outlinewidth": 0,
              "ticks": ""
             }
            },
            "type": "scatterpolar"
           }
          ],
          "scatterpolargl": [
           {
            "marker": {
             "colorbar": {
              "outlinewidth": 0,
              "ticks": ""
             }
            },
            "type": "scatterpolargl"
           }
          ],
          "scatterternary": [
           {
            "marker": {
             "colorbar": {
              "outlinewidth": 0,
              "ticks": ""
             }
            },
            "type": "scatterternary"
           }
          ],
          "surface": [
           {
            "colorbar": {
             "outlinewidth": 0,
             "ticks": ""
            },
            "colorscale": [
             [
              0,
              "#0d0887"
             ],
             [
              0.1111111111111111,
              "#46039f"
             ],
             [
              0.2222222222222222,
              "#7201a8"
             ],
             [
              0.3333333333333333,
              "#9c179e"
             ],
             [
              0.4444444444444444,
              "#bd3786"
             ],
             [
              0.5555555555555556,
              "#d8576b"
             ],
             [
              0.6666666666666666,
              "#ed7953"
             ],
             [
              0.7777777777777778,
              "#fb9f3a"
             ],
             [
              0.8888888888888888,
              "#fdca26"
             ],
             [
              1,
              "#f0f921"
             ]
            ],
            "type": "surface"
           }
          ],
          "table": [
           {
            "cells": {
             "fill": {
              "color": "#EBF0F8"
             },
             "line": {
              "color": "white"
             }
            },
            "header": {
             "fill": {
              "color": "#C8D4E3"
             },
             "line": {
              "color": "white"
             }
            },
            "type": "table"
           }
          ]
         },
         "layout": {
          "annotationdefaults": {
           "arrowcolor": "#2a3f5f",
           "arrowhead": 0,
           "arrowwidth": 1
          },
          "autotypenumbers": "strict",
          "coloraxis": {
           "colorbar": {
            "outlinewidth": 0,
            "ticks": ""
           }
          },
          "colorscale": {
           "diverging": [
            [
             0,
             "#8e0152"
            ],
            [
             0.1,
             "#c51b7d"
            ],
            [
             0.2,
             "#de77ae"
            ],
            [
             0.3,
             "#f1b6da"
            ],
            [
             0.4,
             "#fde0ef"
            ],
            [
             0.5,
             "#f7f7f7"
            ],
            [
             0.6,
             "#e6f5d0"
            ],
            [
             0.7,
             "#b8e186"
            ],
            [
             0.8,
             "#7fbc41"
            ],
            [
             0.9,
             "#4d9221"
            ],
            [
             1,
             "#276419"
            ]
           ],
           "sequential": [
            [
             0,
             "#0d0887"
            ],
            [
             0.1111111111111111,
             "#46039f"
            ],
            [
             0.2222222222222222,
             "#7201a8"
            ],
            [
             0.3333333333333333,
             "#9c179e"
            ],
            [
             0.4444444444444444,
             "#bd3786"
            ],
            [
             0.5555555555555556,
             "#d8576b"
            ],
            [
             0.6666666666666666,
             "#ed7953"
            ],
            [
             0.7777777777777778,
             "#fb9f3a"
            ],
            [
             0.8888888888888888,
             "#fdca26"
            ],
            [
             1,
             "#f0f921"
            ]
           ],
           "sequentialminus": [
            [
             0,
             "#0d0887"
            ],
            [
             0.1111111111111111,
             "#46039f"
            ],
            [
             0.2222222222222222,
             "#7201a8"
            ],
            [
             0.3333333333333333,
             "#9c179e"
            ],
            [
             0.4444444444444444,
             "#bd3786"
            ],
            [
             0.5555555555555556,
             "#d8576b"
            ],
            [
             0.6666666666666666,
             "#ed7953"
            ],
            [
             0.7777777777777778,
             "#fb9f3a"
            ],
            [
             0.8888888888888888,
             "#fdca26"
            ],
            [
             1,
             "#f0f921"
            ]
           ]
          },
          "colorway": [
           "#636efa",
           "#EF553B",
           "#00cc96",
           "#ab63fa",
           "#FFA15A",
           "#19d3f3",
           "#FF6692",
           "#B6E880",
           "#FF97FF",
           "#FECB52"
          ],
          "font": {
           "color": "#2a3f5f"
          },
          "geo": {
           "bgcolor": "white",
           "lakecolor": "white",
           "landcolor": "#E5ECF6",
           "showlakes": true,
           "showland": true,
           "subunitcolor": "white"
          },
          "hoverlabel": {
           "align": "left"
          },
          "hovermode": "closest",
          "mapbox": {
           "style": "light"
          },
          "paper_bgcolor": "white",
          "plot_bgcolor": "#E5ECF6",
          "polar": {
           "angularaxis": {
            "gridcolor": "white",
            "linecolor": "white",
            "ticks": ""
           },
           "bgcolor": "#E5ECF6",
           "radialaxis": {
            "gridcolor": "white",
            "linecolor": "white",
            "ticks": ""
           }
          },
          "scene": {
           "xaxis": {
            "backgroundcolor": "#E5ECF6",
            "gridcolor": "white",
            "gridwidth": 2,
            "linecolor": "white",
            "showbackground": true,
            "ticks": "",
            "zerolinecolor": "white"
           },
           "yaxis": {
            "backgroundcolor": "#E5ECF6",
            "gridcolor": "white",
            "gridwidth": 2,
            "linecolor": "white",
            "showbackground": true,
            "ticks": "",
            "zerolinecolor": "white"
           },
           "zaxis": {
            "backgroundcolor": "#E5ECF6",
            "gridcolor": "white",
            "gridwidth": 2,
            "linecolor": "white",
            "showbackground": true,
            "ticks": "",
            "zerolinecolor": "white"
           }
          },
          "shapedefaults": {
           "line": {
            "color": "#2a3f5f"
           }
          },
          "ternary": {
           "aaxis": {
            "gridcolor": "white",
            "linecolor": "white",
            "ticks": ""
           },
           "baxis": {
            "gridcolor": "white",
            "linecolor": "white",
            "ticks": ""
           },
           "bgcolor": "#E5ECF6",
           "caxis": {
            "gridcolor": "white",
            "linecolor": "white",
            "ticks": ""
           }
          },
          "title": {
           "x": 0.05
          },
          "xaxis": {
           "automargin": true,
           "gridcolor": "white",
           "linecolor": "white",
           "ticks": "",
           "title": {
            "standoff": 15
           },
           "zerolinecolor": "white",
           "zerolinewidth": 2
          },
          "yaxis": {
           "automargin": true,
           "gridcolor": "white",
           "linecolor": "white",
           "ticks": "",
           "title": {
            "standoff": 15
           },
           "zerolinecolor": "white",
           "zerolinewidth": 2
          }
         }
        },
        "title": {
         "text": "<b>Actual vs. Forecasted Demand</b><br><sub>Features: existing features only | MAPE: 18.43%</sub>"
        },
        "xaxis": {
         "title": {
          "text": "Date"
         }
        },
        "yaxis": {
         "title": {
          "text": "Demand"
         }
        }
       }
      }
     },
     "metadata": {},
     "output_type": "display_data"
    },
    {
     "name": "stdout",
     "output_type": "stream",
     "text": [
      "Forecast Error (MAPE):\n",
      "--- Features: existing and event features: 5.62%\n",
      "--- Features: existing features only: 18.43%\n",
      "Forecast Accuracy Uplift (MAPE reduction): 69.49%\n"
     ]
    }
   ],
   "source": [
    "# train and evaluate models with different feature sets\n",
    "# and compare forecast accuracy\n",
    "results = {}\n",
    "\n",
    "train, test = split_data(df=features_and_demand_df)\n",
    "\n",
    "for include_event_features in [True, False]:\n",
    "    if include_event_features:\n",
    "        feature_columns = train.columns.difference([\"date\", \"demand\"])\n",
    "        feature_set = \"existing_and_event_features\"\n",
    "    else:\n",
    "        feature_columns = [\n",
    "            col\n",
    "            for col in train.columns\n",
    "            if col not in [\"date\", \"demand\"] and not col.startswith(\"phq_\")\n",
    "        ]\n",
    "        feature_set = \"existing_features_only\"\n",
    "\n",
    "    X_train = train[feature_columns]\n",
    "    y_train = train[\"demand\"]\n",
    "    X_test = test[feature_columns]\n",
    "    y_test = test[\"demand\"]\n",
    "\n",
    "    model = train_model(x_train=X_train, y_train=y_train)\n",
    "    y_pred = model.predict(X_test)\n",
    "\n",
    "    mape = mean_absolute_percentage_error(y_test, y_pred)\n",
    "\n",
    "    plot_results(\n",
    "        train=train,\n",
    "        test=test,\n",
    "        y_train=y_train,\n",
    "        y_test=y_test,\n",
    "        y_pred=y_pred,\n",
    "        feature_set=feature_set,\n",
    "        accuracy=mape,\n",
    "    )\n",
    "\n",
    "    results[feature_set] = {\"mape\": mape}\n",
    "\n",
    "\n",
    "print(\"Forecast Error (MAPE):\")\n",
    "for features_set in results:\n",
    "    print(\n",
    "        f\"--- Features: {features_set.replace('_',' ')}: {results[features_set]['mape']*100:.2f}%\"\n",
    "    )\n",
    "forecast_uplift = calculate_forecast_uplift(\n",
    "    base_metrics=results[\"existing_features_only\"],\n",
    "    new_metrics=results[\"existing_and_event_features\"],\n",
    ")\n",
    "print(\n",
    "    f\"Forecast Accuracy Uplift (MAPE reduction): {forecast_uplift['mape_uplift']:.2f}%\"\n",
    ")"
   ]
  }
 ],
 "metadata": {
  "kernelspec": {
   "display_name": "ds-notebooks-env",
   "language": "python",
   "name": "python3"
  },
  "language_info": {
   "codemirror_mode": {
    "name": "ipython",
    "version": 3
   },
   "file_extension": ".py",
   "mimetype": "text/x-python",
   "name": "python",
   "nbconvert_exporter": "python",
   "pygments_lexer": "ipython3",
   "version": "3.11.9"
  },
  "orig_nbformat": 4
 },
 "nbformat": 4,
 "nbformat_minor": 2
}
